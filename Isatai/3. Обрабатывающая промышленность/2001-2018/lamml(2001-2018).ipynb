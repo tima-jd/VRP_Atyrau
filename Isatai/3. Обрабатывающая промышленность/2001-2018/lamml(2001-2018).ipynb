{
 "cells": [
  {
   "cell_type": "code",
   "execution_count": 1,
   "metadata": {},
   "outputs": [
    {
     "data": {
      "text/plain": [
       "0            NaN\n",
       "1            NaN\n",
       "2     100.870045\n",
       "3     101.749365\n",
       "4     122.182521\n",
       "5     102.177621\n",
       "6      99.749186\n",
       "7      98.286324\n",
       "8     100.708740\n",
       "9      98.214772\n",
       "10    102.626702\n",
       "11    100.704644\n",
       "12    103.095822\n",
       "13    103.946644\n",
       "14    103.606359\n",
       "15     97.720728\n",
       "16    100.679609\n",
       "17     93.681488\n",
       "18     98.263583\n",
       "dtype: float64"
      ]
     },
     "execution_count": 1,
     "metadata": {},
     "output_type": "execute_result"
    }
   ],
   "source": [
    "import pandas as pd\n",
    "csv = pd.read_csv('vrp_ekz_fact.csv')\n",
    "\n",
    "lagr = csv['o_ifo_agro_isatai']\n",
    "Nagr = csv['o_prod_agro_isatai']\n",
    "lmin = csv['o_ifo_mining_isatai']\n",
    "Nmin = csv['o_prod_mining_isatai']\n",
    "lman= csv['o_ifo_man_isatai']\n",
    "Nman = csv['o_prod_man_isatai']\n",
    "\n",
    "lamml = (lagr*Nagr.shift(1)+lmin*Nmin.shift(1)+lman.shift(1)*Nman.shift(2))/(Nagr.shift(1)+Nmin.shift(1)+Nman.shift(2))\n",
    "\n",
    "lamml"
   ]
  },
  {
   "cell_type": "code",
   "execution_count": null,
   "metadata": {},
   "outputs": [],
   "source": []
  }
 ],
 "metadata": {
  "kernelspec": {
   "display_name": "Python 3",
   "language": "python",
   "name": "python3"
  },
  "language_info": {
   "codemirror_mode": {
    "name": "ipython",
    "version": 3
   },
   "file_extension": ".py",
   "mimetype": "text/x-python",
   "name": "python",
   "nbconvert_exporter": "python",
   "pygments_lexer": "ipython3",
   "version": "3.7.6"
  }
 },
 "nbformat": 4,
 "nbformat_minor": 4
}
