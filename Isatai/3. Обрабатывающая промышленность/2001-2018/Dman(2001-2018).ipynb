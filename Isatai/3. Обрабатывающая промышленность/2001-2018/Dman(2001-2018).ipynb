{
 "cells": [
  {
   "cell_type": "code",
   "execution_count": 1,
   "metadata": {},
   "outputs": [
    {
     "data": {
      "text/plain": [
       "0            NaN\n",
       "1     123.492097\n",
       "2     129.936492\n",
       "3      90.537654\n",
       "4      88.214538\n",
       "5     112.647209\n",
       "6     184.162063\n",
       "7     155.311659\n",
       "8     127.756654\n",
       "9            inf\n",
       "10     81.835331\n",
       "11    110.742651\n",
       "12    101.569757\n",
       "13     98.891093\n",
       "14    106.430155\n",
       "15     98.493444\n",
       "16     91.666667\n",
       "17    114.114114\n",
       "18    412.796698\n",
       "dtype: float64"
      ]
     },
     "execution_count": 1,
     "metadata": {},
     "output_type": "execute_result"
    }
   ],
   "source": [
    "import pandas as pd\n",
    "csv = pd.read_csv('vrp_ekz_fact.csv')\n",
    "\n",
    "lman= csv['o_ifo_man_isatai']\n",
    "Nman = csv['o_prod_man_isatai']\n",
    "\n",
    "Dman = Nman/Nman.shift(1)/lman * 10000\n",
    "\n",
    "Dman"
   ]
  },
  {
   "cell_type": "code",
   "execution_count": null,
   "metadata": {},
   "outputs": [],
   "source": []
  }
 ],
 "metadata": {
  "kernelspec": {
   "display_name": "Python 3",
   "language": "python",
   "name": "python3"
  },
  "language_info": {
   "codemirror_mode": {
    "name": "ipython",
    "version": 3
   },
   "file_extension": ".py",
   "mimetype": "text/x-python",
   "name": "python",
   "nbconvert_exporter": "python",
   "pygments_lexer": "ipython3",
   "version": "3.7.6"
  }
 },
 "nbformat": 4,
 "nbformat_minor": 4
}
