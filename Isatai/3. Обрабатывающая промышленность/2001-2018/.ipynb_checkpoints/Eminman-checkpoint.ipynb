{
 "cells": [
  {
   "cell_type": "code",
   "execution_count": 8,
   "metadata": {},
   "outputs": [
    {
     "data": {
      "text/plain": [
       "1.1387036451379635"
      ]
     },
     "execution_count": 8,
     "metadata": {},
     "output_type": "execute_result"
    }
   ],
   "source": [
    "from scipy.stats.mstats import gmean\n",
    "import pandas as pd\n",
    "csv = pd.read_csv('vrp_ekz_fact.csv')\n",
    "\n",
    "lman= csv['o_ifo_man_isatai']\n",
    "Nman = csv['o_prod_man_isatai']\n",
    "\n",
    "lmin = csv['o_ifo_mining_isatai']\n",
    "Nmin=csv['o_prod_mining_isatai']\n",
    "\n",
    "Dmin = (Nmin/Nmin.shift(1)/lmin)*10000\n",
    "\n",
    "Dman = Nman/Nman.shift(1)/lman * 10000\n",
    "\n",
    "Eminman= (gmean(Dman[1:].drop([9])))/(gmean(Dmin[1:]))\n",
    "Eminman\n"
   ]
  },
  {
   "cell_type": "code",
   "execution_count": null,
   "metadata": {},
   "outputs": [],
   "source": []
  }
 ],
 "metadata": {
  "kernelspec": {
   "display_name": "Python 3",
   "language": "python",
   "name": "python3"
  },
  "language_info": {
   "codemirror_mode": {
    "name": "ipython",
    "version": 3
   },
   "file_extension": ".py",
   "mimetype": "text/x-python",
   "name": "python",
   "nbconvert_exporter": "python",
   "pygments_lexer": "ipython3",
   "version": "3.7.6"
  }
 },
 "nbformat": 4,
 "nbformat_minor": 4
}
