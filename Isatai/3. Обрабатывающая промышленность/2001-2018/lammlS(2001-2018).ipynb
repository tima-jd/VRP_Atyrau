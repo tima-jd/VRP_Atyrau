{
 "cells": [
  {
   "cell_type": "code",
   "execution_count": 2,
   "metadata": {},
   "outputs": [
    {
     "data": {
      "text/plain": [
       "0         NaN\n",
       "1     77.4413\n",
       "2      78.115\n",
       "3     79.4815\n",
       "4     97.1126\n",
       "5     99.2273\n",
       "6     98.9784\n",
       "7     97.2823\n",
       "8     97.9717\n",
       "9     96.2227\n",
       "10    98.7502\n",
       "11     99.446\n",
       "12    102.525\n",
       "13    106.571\n",
       "14    110.414\n",
       "15    107.898\n",
       "16    108.631\n",
       "17    101.767\n",
       "18        100\n",
       "Name: c1, dtype: object"
      ]
     },
     "execution_count": 2,
     "metadata": {},
     "output_type": "execute_result"
    }
   ],
   "source": [
    "import pandas as pd\n",
    "csv = pd.read_csv('vrp_ekz_fact.csv')\n",
    "\n",
    "lagr = csv['o_ifo_agro_isatai']\n",
    "Nagr = csv['o_prod_agro_isatai']\n",
    "lmin = csv['o_ifo_mining_isatai']\n",
    "Nmin = csv['o_prod_mining_isatai']\n",
    "lman= csv['o_ifo_man_isatai']\n",
    "Nman = csv['o_prod_man_isatai']\n",
    "lamml = (lagr*Nagr.shift(1)+lmin*Nmin.shift(1)+lman.shift(1)*Nman.shift(2))/(Nagr.shift(1)+Nmin.shift(1)+Nman.shift(2))\n",
    "\n",
    "i=18\n",
    "c=100\n",
    "newdf = pd.DataFrame(columns=['c1'], index=range(19))\n",
    "while i>0:\n",
    "    c = (c/lamml[i]) * 100\n",
    "    i=i-1\n",
    "    newdf.loc[i].c1 = c\n",
    "lammlS=newdf['c1']\n",
    "lammlS[18]=100\n",
    "\n",
    "lammlS"
   ]
  },
  {
   "cell_type": "code",
   "execution_count": null,
   "metadata": {},
   "outputs": [],
   "source": []
  }
 ],
 "metadata": {
  "kernelspec": {
   "display_name": "Python 3",
   "language": "python",
   "name": "python3"
  },
  "language_info": {
   "codemirror_mode": {
    "name": "ipython",
    "version": 3
   },
   "file_extension": ".py",
   "mimetype": "text/x-python",
   "name": "python",
   "nbconvert_exporter": "python",
   "pygments_lexer": "ipython3",
   "version": "3.7.6"
  }
 },
 "nbformat": 4,
 "nbformat_minor": 4
}
