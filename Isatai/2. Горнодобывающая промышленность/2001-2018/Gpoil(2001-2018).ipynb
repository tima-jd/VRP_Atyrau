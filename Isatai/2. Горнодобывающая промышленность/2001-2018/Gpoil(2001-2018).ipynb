{
 "cells": [
  {
   "cell_type": "code",
   "execution_count": 1,
   "metadata": {},
   "outputs": [
    {
     "data": {
      "text/plain": [
       "0            NaN\n",
       "1      87.344029\n",
       "2     103.428571\n",
       "3     112.194159\n",
       "4     134.681674\n",
       "5     145.756072\n",
       "6     119.691812\n",
       "7     111.796407\n",
       "8     130.798072\n",
       "9      65.612203\n",
       "10    125.838664\n",
       "11    139.194048\n",
       "12     99.367540\n",
       "13     97.212013\n",
       "14     89.929915\n",
       "15     55.783429\n",
       "16     84.558824\n",
       "17    121.108696\n",
       "18    128.594507\n",
       "Name: o_oil_price, dtype: float64"
      ]
     },
     "execution_count": 1,
     "metadata": {},
     "output_type": "execute_result"
    }
   ],
   "source": [
    "import pandas as pd\n",
    "csv = pd.read_csv('vrp_ekz_fact.csv')\n",
    "poil = csv['o_oil_price']\n",
    "Gpoil= poil/poil.shift(1)*100\n",
    "Gpoil"
   ]
  },
  {
   "cell_type": "code",
   "execution_count": null,
   "metadata": {},
   "outputs": [],
   "source": []
  }
 ],
 "metadata": {
  "kernelspec": {
   "display_name": "Python 3",
   "language": "python",
   "name": "python3"
  },
  "language_info": {
   "codemirror_mode": {
    "name": "ipython",
    "version": 3
   },
   "file_extension": ".py",
   "mimetype": "text/x-python",
   "name": "python",
   "nbconvert_exporter": "python",
   "pygments_lexer": "ipython3",
   "version": "3.7.6"
  }
 },
 "nbformat": 4,
 "nbformat_minor": 4
}
