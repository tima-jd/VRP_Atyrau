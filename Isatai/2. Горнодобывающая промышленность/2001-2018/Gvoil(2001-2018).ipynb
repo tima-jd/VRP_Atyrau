{
 "cells": [
  {
   "cell_type": "code",
   "execution_count": 4,
   "metadata": {},
   "outputs": [
    {
     "data": {
      "text/plain": [
       "0            NaN\n",
       "1     116.149051\n",
       "2     105.271607\n",
       "3      98.632058\n",
       "4     106.194281\n",
       "5     100.334740\n",
       "6      99.790294\n",
       "7     104.104224\n",
       "8     120.433901\n",
       "9      98.129180\n",
       "10    102.881297\n",
       "11    100.150931\n",
       "12    101.155392\n",
       "13    100.653865\n",
       "14    100.797632\n",
       "15    101.248164\n",
       "16     98.203207\n",
       "17     96.586807\n",
       "18     97.060822\n",
       "Name: o_oil_isatai, dtype: float64"
      ]
     },
     "execution_count": 4,
     "metadata": {},
     "output_type": "execute_result"
    }
   ],
   "source": [
    "import pandas as pd\n",
    "csv = pd.read_csv('vrp_ekz_fact.csv')\n",
    "voil = csv['o_oil_isatai']\n",
    "Gvoil = voil/voil.shift(1)*100\n",
    "Gvoil"
   ]
  },
  {
   "cell_type": "code",
   "execution_count": null,
   "metadata": {},
   "outputs": [],
   "source": []
  }
 ],
 "metadata": {
  "kernelspec": {
   "display_name": "Python 3",
   "language": "python",
   "name": "python3"
  },
  "language_info": {
   "codemirror_mode": {
    "name": "ipython",
    "version": 3
   },
   "file_extension": ".py",
   "mimetype": "text/x-python",
   "name": "python",
   "nbconvert_exporter": "python",
   "pygments_lexer": "ipython3",
   "version": "3.7.6"
  }
 },
 "nbformat": 4,
 "nbformat_minor": 4
}
