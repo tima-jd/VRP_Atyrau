{
 "cells": [
  {
   "cell_type": "code",
   "execution_count": 3,
   "metadata": {},
   "outputs": [
    {
     "data": {
      "text/plain": [
       "0      98.679779\n",
       "1     103.896999\n",
       "2     100.000000\n",
       "3     100.000000\n",
       "4     100.000000\n",
       "5     100.000000\n",
       "6     100.000000\n",
       "7      96.256382\n",
       "8     122.296383\n",
       "9     100.000000\n",
       "10    100.000000\n",
       "11    100.000000\n",
       "12    100.000000\n",
       "13    100.000000\n",
       "14     72.239646\n",
       "15    100.000000\n",
       "16    100.000000\n",
       "17    100.000000\n",
       "18    100.000000\n",
       "19    100.000000\n",
       "20    113.695148\n",
       "dtype: float64"
      ]
     },
     "execution_count": 3,
     "metadata": {},
     "output_type": "execute_result"
    }
   ],
   "source": [
    "import pandas as pd\n",
    "csv = pd.read_csv('vrp_ekz_prog.csv')\n",
    "poil = csv['o_oil_price']\n",
    "rateKZT= csv['o_exchange_rate']\n",
    "\n",
    "GpoilKZT= ((poil*rateKZT)/(poil.shift(1)*rateKZT.shift(1)))*100\n",
    "GpoilKZT[0]=((poil[0]*rateKZT[0])/(344.71*71.64))*100\n",
    "\n",
    "GpoilKZT[1]=((poil[1]*rateKZT[1])/(poil[0]*rateKZT[0]))*100\n",
    "\n",
    "\n",
    "Dmin = (GpoilKZT-100)*0.9511471197650652 + 100\n",
    "\n",
    "Dmin"
   ]
  },
  {
   "cell_type": "code",
   "execution_count": null,
   "metadata": {},
   "outputs": [],
   "source": []
  }
 ],
 "metadata": {
  "kernelspec": {
   "display_name": "Python 3",
   "language": "python",
   "name": "python3"
  },
  "language_info": {
   "codemirror_mode": {
    "name": "ipython",
    "version": 3
   },
   "file_extension": ".py",
   "mimetype": "text/x-python",
   "name": "python",
   "nbconvert_exporter": "python",
   "pygments_lexer": "ipython3",
   "version": "3.7.6"
  }
 },
 "nbformat": 4,
 "nbformat_minor": 4
}
