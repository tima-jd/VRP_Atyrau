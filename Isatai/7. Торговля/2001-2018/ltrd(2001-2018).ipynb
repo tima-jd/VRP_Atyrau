{
 "cells": [
  {
   "cell_type": "code",
   "execution_count": 4,
   "metadata": {},
   "outputs": [],
   "source": [
    "import pandas as pd\n",
    "csv = pd.read_csv('vrp_ekz_fact.csv')\n",
    "Nret = csv['o_prod_retail_isatai']\n",
    "Nwhl = csv['o_prod_trade_isatai']\n",
    "lret = csv['o_ifo_retail_isatai']\n",
    "lwhl = csv['o_ifo_trade_isatai']\n",
    "Ntrd = Nwhl+Nret\n",
    "\n",
    "ltrd = (lret*Nret.shift(1)+lwhl*Nwhl.shift(1))/Ntrd.shift(1)\n",
    "\n",
    "ltrd.to_csv(r'ltrd(2001-2018).csv',index=False)"
   ]
  },
  {
   "cell_type": "code",
   "execution_count": null,
   "metadata": {},
   "outputs": [],
   "source": []
  },
  {
   "cell_type": "code",
   "execution_count": null,
   "metadata": {},
   "outputs": [],
   "source": []
  }
 ],
 "metadata": {
  "kernelspec": {
   "display_name": "Python 3",
   "language": "python",
   "name": "python3"
  },
  "language_info": {
   "codemirror_mode": {
    "name": "ipython",
    "version": 3
   },
   "file_extension": ".py",
   "mimetype": "text/x-python",
   "name": "python",
   "nbconvert_exporter": "python",
   "pygments_lexer": "ipython3",
   "version": "3.7.6"
  }
 },
 "nbformat": 4,
 "nbformat_minor": 4
}
