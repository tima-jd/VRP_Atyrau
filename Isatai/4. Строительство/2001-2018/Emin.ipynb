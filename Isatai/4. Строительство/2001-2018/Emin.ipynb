{
 "cells": [
  {
   "cell_type": "code",
   "execution_count": 2,
   "metadata": {},
   "outputs": [
    {
     "name": "stderr",
     "output_type": "stream",
     "text": [
      "C:\\Users\\HP\\anaconda3\\lib\\site-packages\\ipykernel_launcher.py:11: RuntimeWarning: divide by zero encountered in double_scalars\n",
      "  # This is added back by InteractiveShellApp.init_path()\n"
     ]
    },
    {
     "data": {
      "text/plain": [
       "2.347733222473972"
      ]
     },
     "execution_count": 2,
     "metadata": {},
     "output_type": "execute_result"
    }
   ],
   "source": [
    "import pandas as pd\n",
    "csv = pd.read_csv('vrp_ekz_fact.csv')\n",
    "lcon = csv['o_ifo_building_isatai']\n",
    "lmin = csv['o_ifo_mining_isatai']\n",
    "\n",
    "i=18\n",
    "c=100\n",
    "b=100\n",
    "newdf = pd.DataFrame(columns=['c1','c2'], index=range(18))\n",
    "while i> 0:\n",
    "    c = (c/lcon[i]) * 100\n",
    "    b = (b/lmin[i]) * 100\n",
    "    \n",
    "    i=i-1\n",
    "    \n",
    "    newdf.loc[i].c1 = c\n",
    "    newdf.loc[i].c2 = b\n",
    "    \n",
    "lconS=newdf['c1']\n",
    "lconS[:4] = 0\n",
    "lconS[18]=100\n",
    "\n",
    "lminS=newdf['c2']\n",
    "lminS[18]=100\n",
    "\n",
    "Emin= ((lminS-lminS.mean())*(lconS-lconS.mean())).sum()/((lminS-lminS.mean())**2).sum()\n",
    "\n",
    "Emin"
   ]
  },
  {
   "cell_type": "code",
   "execution_count": null,
   "metadata": {},
   "outputs": [],
   "source": []
  }
 ],
 "metadata": {
  "kernelspec": {
   "display_name": "Python 3",
   "language": "python",
   "name": "python3"
  },
  "language_info": {
   "codemirror_mode": {
    "name": "ipython",
    "version": 3
   },
   "file_extension": ".py",
   "mimetype": "text/x-python",
   "name": "python",
   "nbconvert_exporter": "python",
   "pygments_lexer": "ipython3",
   "version": "3.7.6"
  }
 },
 "nbformat": 4,
 "nbformat_minor": 4
}
