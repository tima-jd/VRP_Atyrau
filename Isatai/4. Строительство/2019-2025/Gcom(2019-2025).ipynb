{
 "cells": [
  {
   "cell_type": "code",
   "execution_count": 1,
   "metadata": {},
   "outputs": [
    {
     "data": {
      "text/plain": [
       "0      70.983811\n",
       "1     101.096491\n",
       "2     101.127983\n",
       "3     101.115401\n",
       "4     101.145524\n",
       "5     101.132550\n",
       "6     101.119867\n",
       "7      93.519278\n",
       "8     103.157895\n",
       "9     103.103741\n",
       "10    103.051546\n",
       "11    102.961184\n",
       "12    102.914885\n",
       "13    102.870091\n",
       "14     83.773862\n",
       "15    100.087642\n",
       "16    100.131349\n",
       "17    100.087451\n",
       "18    100.131062\n",
       "19    100.130890\n",
       "20     99.346405\n",
       "Name: o_housing_isatai, dtype: float64"
      ]
     },
     "execution_count": 1,
     "metadata": {},
     "output_type": "execute_result"
    }
   ],
   "source": [
    "import pandas as pd\n",
    "csv = pd.read_csv('vrp_ekz_prog.csv')\n",
    "com = csv['o_housing_isatai']\n",
    "a=com.shift(1)\n",
    "a[0]=32.12\n",
    "Gcom = com/a*100\n",
    "Gcom\n"
   ]
  },
  {
   "cell_type": "code",
   "execution_count": null,
   "metadata": {},
   "outputs": [],
   "source": []
  }
 ],
 "metadata": {
  "kernelspec": {
   "display_name": "Python 3",
   "language": "python",
   "name": "python3"
  },
  "language_info": {
   "codemirror_mode": {
    "name": "ipython",
    "version": 3
   },
   "file_extension": ".py",
   "mimetype": "text/x-python",
   "name": "python",
   "nbconvert_exporter": "python",
   "pygments_lexer": "ipython3",
   "version": "3.7.6"
  }
 },
 "nbformat": 4,
 "nbformat_minor": 4
}
