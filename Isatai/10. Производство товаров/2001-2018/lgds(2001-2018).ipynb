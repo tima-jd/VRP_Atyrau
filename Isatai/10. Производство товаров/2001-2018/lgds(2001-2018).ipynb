{
 "cells": [
  {
   "cell_type": "code",
   "execution_count": 2,
   "metadata": {},
   "outputs": [
    {
     "data": {
      "text/plain": [
       "0            NaN\n",
       "1     103.878686\n",
       "2      95.670945\n",
       "3     101.606327\n",
       "4     123.171062\n",
       "5     102.100507\n",
       "6      99.906860\n",
       "7      98.174415\n",
       "8     101.303319\n",
       "9      97.894726\n",
       "10    133.403448\n",
       "11    100.251547\n",
       "12    103.219940\n",
       "13    142.719828\n",
       "14    102.495758\n",
       "15     97.889290\n",
       "16     97.993187\n",
       "17     95.285159\n",
       "18     99.156191\n",
       "dtype: float64"
      ]
     },
     "execution_count": 2,
     "metadata": {},
     "output_type": "execute_result"
    }
   ],
   "source": [
    "import pandas as pd\n",
    "csv = pd.read_csv('vrp_ekz_fact.csv')\n",
    "lind_csv = pd.read_csv('Dind, lind,Nind (2001-2018).csv')\n",
    "\n",
    "Nagr = csv['o_prod_agro_isatai']\n",
    "Ncon = csv['o_prod_building_isatai']\n",
    "\n",
    "Nwtr = csv['o_prod_water_isatai']\n",
    "Nelc = csv['o_prod_energo_isatai']\n",
    "Nman = csv['o_prod_man_isatai']\n",
    "Nmin = csv['o_prod_mining_isatai']\n",
    "\n",
    "lagr = csv['o_ifo_agro_isatai']\n",
    "lcon = csv['o_ifo_building_isatai']\n",
    "\n",
    "\n",
    "lind = lind_csv['lind']\n",
    "\n",
    "Nind = Nmin+Nman+Nelc+Nwtr\n",
    "\n",
    "Ngds = Nagr+Nind+Ncon\n",
    "\n",
    "lgds = (lagr*Nagr.shift(1) + lind*Nind.shift(1) + lcon*Ncon.shift(1))/(Nagr.shift(1)+Nind.shift(1)+Ncon.shift(1))\n",
    "lgds"
   ]
  },
  {
   "cell_type": "code",
   "execution_count": null,
   "metadata": {},
   "outputs": [],
   "source": []
  }
 ],
 "metadata": {
  "kernelspec": {
   "display_name": "Python 3",
   "language": "python",
   "name": "python3"
  },
  "language_info": {
   "codemirror_mode": {
    "name": "ipython",
    "version": 3
   },
   "file_extension": ".py",
   "mimetype": "text/x-python",
   "name": "python",
   "nbconvert_exporter": "python",
   "pygments_lexer": "ipython3",
   "version": "3.7.6"
  }
 },
 "nbformat": 4,
 "nbformat_minor": 4
}
