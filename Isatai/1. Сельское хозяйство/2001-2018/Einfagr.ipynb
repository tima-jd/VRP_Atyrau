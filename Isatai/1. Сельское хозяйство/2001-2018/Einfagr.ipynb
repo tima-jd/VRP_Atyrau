{
 "cells": [
  {
   "cell_type": "code",
   "execution_count": 8,
   "metadata": {},
   "outputs": [
    {
     "data": {
      "text/plain": [
       "0      393.9\n",
       "1      434.8\n",
       "2      498.3\n",
       "3      581.0\n",
       "4      672.3\n",
       "5      918.3\n",
       "6     1067.6\n",
       "7     1379.3\n",
       "8     1830.1\n",
       "9     1911.6\n",
       "10    2112.0\n",
       "11    2517.7\n",
       "12    3679.5\n",
       "13    4239.0\n",
       "14    4506.2\n",
       "15    4794.8\n",
       "16    5854.9\n",
       "17    4882.5\n",
       "18    5347.8\n",
       "Name: o_prod_agro_isatai, dtype: float64"
      ]
     },
     "execution_count": 8,
     "metadata": {},
     "output_type": "execute_result"
    }
   ],
   "source": [
    "from scipy.stats.mstats import gmean\n",
    "import pandas as pd\n",
    "import numpy as np\n",
    "csv_file = pd.read_csv('vrp_ekz_fact.csv')\n",
    "\n",
    "lagr = csv_file['o_ifo_agro_isatai']\n",
    "Nagr= csv_file['o_prod_agro_isatai']\n",
    "\n",
    "inf = csv_file['o_inflation']\n",
    "\n",
    "Dagr = (Nagr/Nagr.shift(1)/lagr)*10000\n",
    "\n",
    "Einfagr = (gmean(Dagr[1:]))/(gmean(inf[1:]+100))\n",
    "\n",
    "Nagr"
   ]
  },
  {
   "cell_type": "code",
   "execution_count": null,
   "metadata": {},
   "outputs": [],
   "source": []
  }
 ],
 "metadata": {
  "kernelspec": {
   "display_name": "Python 3",
   "language": "python",
   "name": "python3"
  },
  "language_info": {
   "codemirror_mode": {
    "name": "ipython",
    "version": 3
   },
   "file_extension": ".py",
   "mimetype": "text/x-python",
   "name": "python",
   "nbconvert_exporter": "python",
   "pygments_lexer": "ipython3",
   "version": "3.7.6"
  }
 },
 "nbformat": 4,
 "nbformat_minor": 4
}
