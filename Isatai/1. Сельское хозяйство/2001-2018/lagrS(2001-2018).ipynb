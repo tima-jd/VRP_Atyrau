{
 "cells": [
  {
   "cell_type": "code",
   "execution_count": 1,
   "metadata": {},
   "outputs": [
    {
     "data": {
      "text/plain": [
       "0     104.4\n",
       "1     100.0\n",
       "2     103.8\n",
       "3     105.6\n",
       "4     107.2\n",
       "5      99.5\n",
       "6      99.0\n",
       "7     109.2\n",
       "8     119.1\n",
       "9      98.6\n",
       "10     99.4\n",
       "11    106.2\n",
       "12    103.9\n",
       "13    105.6\n",
       "14     99.9\n",
       "15    101.7\n",
       "16     99.6\n",
       "17    102.5\n",
       "18    104.7\n",
       "Name: o_ifo_agro_isatai, dtype: float64"
      ]
     },
     "execution_count": 1,
     "metadata": {},
     "output_type": "execute_result"
    }
   ],
   "source": [
    "import pandas as pd\n",
    "import numpy as np\n",
    "xlsx = pd.read_csv('vrp_ekz_fact.csv')\n",
    "lagr = xlsx['o_ifo_agro_isatai']\n",
    "\n",
    "i=18\n",
    "c=100\n",
    "newdf = pd.DataFrame(columns=['c1'], index=range(19))\n",
    "while i>0:\n",
    "    c = (c/lagr[i]) * 100\n",
    "    i=i-1\n",
    "    newdf.loc[i].c1 = c\n",
    "lagrS=newdf['c1']\n",
    "lagrS[18]=100\n",
    "\n",
    "lagr"
   ]
  },
  {
   "cell_type": "code",
   "execution_count": null,
   "metadata": {},
   "outputs": [],
   "source": []
  }
 ],
 "metadata": {
  "kernelspec": {
   "display_name": "Python 3",
   "language": "python",
   "name": "python3"
  },
  "language_info": {
   "codemirror_mode": {
    "name": "ipython",
    "version": 3
   },
   "file_extension": ".py",
   "mimetype": "text/x-python",
   "name": "python",
   "nbconvert_exporter": "python",
   "pygments_lexer": "ipython3",
   "version": "3.7.6"
  }
 },
 "nbformat": 4,
 "nbformat_minor": 4
}
