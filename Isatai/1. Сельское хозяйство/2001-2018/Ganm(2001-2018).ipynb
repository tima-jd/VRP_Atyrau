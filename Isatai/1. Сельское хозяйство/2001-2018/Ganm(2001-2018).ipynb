{
 "cells": [
  {
   "cell_type": "code",
   "execution_count": 2,
   "metadata": {},
   "outputs": [
    {
     "data": {
      "text/plain": [
       "0      5639.08\n",
       "1      5833.50\n",
       "2      6250.32\n",
       "3      6756.32\n",
       "4      6905.78\n",
       "5      7183.60\n",
       "6      7618.06\n",
       "7      7765.08\n",
       "8      7908.30\n",
       "9      8061.52\n",
       "10     8338.32\n",
       "11     8539.84\n",
       "12     8066.40\n",
       "13     7839.52\n",
       "14     8997.58\n",
       "15    10348.50\n",
       "16    10802.10\n",
       "17    11328.40\n",
       "18    12217.24\n",
       "dtype: float64"
      ]
     },
     "execution_count": 2,
     "metadata": {},
     "output_type": "execute_result"
    }
   ],
   "source": [
    "import pandas as pd\n",
    "xlsx = pd.read_csv('vrp_ekz_fact.csv')\n",
    "Ganm = ((xlsx['o_cattle_isatai'] * xlsx['o_weight_cattle']) + (xlsx['o_goats_isatai'] * xlsx['o_weight_goats']) + (xlsx['o_horses_isatai']* xlsx['o_weight_horses']) + (xlsx['o_poultry_isatai'] * xlsx['o_weight_poultry']))/((xlsx['o_cattle_isatai'] * xlsx['o_weight_cattle']).shift(1) + (xlsx['o_goats_isatai'] * xlsx['o_weight_goats']).shift(1) + (xlsx['o_horses_isatai']* xlsx['o_weight_horses']).shift(1) + (xlsx['o_poultry_isatai'] * xlsx['o_weight_poultry']).shift(1)) * 100\n",
    "Ganm_f = (xlsx['o_cattle_isatai'] * xlsx['o_weight_cattle']) + (xlsx['o_goats_isatai'] * xlsx['o_weight_goats']) + (xlsx['o_horses_isatai']* xlsx['o_weight_horses']) + (xlsx['o_poultry_isatai'] * xlsx['o_weight_poultry'])\n",
    "Ganm_f"
   ]
  },
  {
   "cell_type": "code",
   "execution_count": null,
   "metadata": {},
   "outputs": [],
   "source": []
  }
 ],
 "metadata": {
  "kernelspec": {
   "display_name": "Python 3",
   "language": "python",
   "name": "python3"
  },
  "language_info": {
   "codemirror_mode": {
    "name": "ipython",
    "version": 3
   },
   "file_extension": ".py",
   "mimetype": "text/x-python",
   "name": "python",
   "nbconvert_exporter": "python",
   "pygments_lexer": "ipython3",
   "version": "3.7.6"
  }
 },
 "nbformat": 4,
 "nbformat_minor": 4
}
