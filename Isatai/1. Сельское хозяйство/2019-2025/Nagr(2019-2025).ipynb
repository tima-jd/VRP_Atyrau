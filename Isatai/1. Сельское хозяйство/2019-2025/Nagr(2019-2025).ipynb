{
 "cells": [
  {
   "cell_type": "code",
   "execution_count": 1,
   "metadata": {},
   "outputs": [
    {
     "data": {
      "text/plain": [
       "0     104.899699\n",
       "1     104.919752\n",
       "2     104.970923\n",
       "3     105.002478\n",
       "4     105.042747\n",
       "5     105.078728\n",
       "6     105.117264\n",
       "7      74.527964\n",
       "8     104.919752\n",
       "9     104.970923\n",
       "10    105.002478\n",
       "11    105.042747\n",
       "12    105.078728\n",
       "13    105.117264\n",
       "14     78.194555\n",
       "15    104.970923\n",
       "16    105.002478\n",
       "17    105.042747\n",
       "18    105.078728\n",
       "19    105.117264\n",
       "20     74.527964\n",
       "dtype: float64"
      ]
     },
     "execution_count": 1,
     "metadata": {},
     "output_type": "execute_result"
    }
   ],
   "source": [
    "import pandas as pd\n",
    "xlsx = pd.read_csv('vrp_ekz_prog.csv')\n",
    "l = ((xlsx['o_cattle_isatai'] * xlsx['o_weight_cattle']).shift(1) + (xlsx['o_goats_isatai'] * xlsx['o_weight_goats']).shift(1) + (xlsx['o_horses_isatai']* xlsx['o_weight_horses']).shift(1) + (xlsx['o_poultry_isatai'] * xlsx['o_weight_poultry']).shift(1))\n",
    "l[0] =  12217.24\n",
    "Ganm = ((xlsx['o_cattle_isatai'] * xlsx['o_weight_cattle']) + (xlsx['o_goats_isatai'] * xlsx['o_weight_goats']) + (xlsx['o_horses_isatai']* xlsx['o_weight_horses']) + (xlsx['o_poultry_isatai'] * xlsx['o_weight_poultry']))/l * 100\n",
    "Ganm"
   ]
  },
  {
   "cell_type": "code",
   "execution_count": 2,
   "metadata": {},
   "outputs": [
    {
     "data": {
      "text/plain": [
       "0      88.888889\n",
       "1      87.500000\n",
       "2      85.714286\n",
       "3      83.333333\n",
       "4     100.000000\n",
       "5      80.000000\n",
       "6     100.000000\n",
       "7     200.000000\n",
       "8      87.500000\n",
       "9      85.714286\n",
       "10     83.333333\n",
       "11    100.000000\n",
       "12     80.000000\n",
       "13    100.000000\n",
       "14    175.000000\n",
       "15     85.714286\n",
       "16     83.333333\n",
       "17    100.000000\n",
       "18     80.000000\n",
       "19    100.000000\n",
       "20    200.000000\n",
       "dtype: float64"
      ]
     },
     "execution_count": 2,
     "metadata": {},
     "output_type": "execute_result"
    }
   ],
   "source": [
    "import pandas as pd\n",
    "import numpy as np\n",
    "xlsx = pd.read_csv('vrp_ekz_prog.csv')\n",
    "l = (xlsx['o_potato_isatai'].shift(1) + xlsx['o_grain_isatai'].shift(1) + xlsx['o_vegetables_isatai'].shift(1))\n",
    "l[0]=0.09\n",
    "Gplg = ((xlsx['o_potato_isatai'] + xlsx['o_grain_isatai'] + xlsx['o_vegetables_isatai'])/l)*100\n",
    "Gplg"
   ]
  },
  {
   "cell_type": "code",
   "execution_count": 3,
   "metadata": {},
   "outputs": [
    {
     "data": {
      "text/plain": [
       "0     102.146\n",
       "1     104.036\n",
       "2     105.592\n",
       "3     106.634\n",
       "4     111.748\n",
       "5     112.089\n",
       "6     117.543\n",
       "7     115.661\n",
       "8     117.801\n",
       "9     119.563\n",
       "10    120.743\n",
       "11    126.533\n",
       "12     126.92\n",
       "13    133.096\n",
       "14    128.078\n",
       "15    129.993\n",
       "16    131.276\n",
       "17    137.571\n",
       "18    137.991\n",
       "19    144.706\n",
       "20    142.389\n",
       "Name: c1, dtype: object"
      ]
     },
     "execution_count": 3,
     "metadata": {},
     "output_type": "execute_result"
    }
   ],
   "source": [
    "i=0\n",
    "c=100\n",
    "\n",
    "newdf = pd.DataFrame(columns=['c1'], index=range(21))\n",
    "while i<=20:\n",
    "    c = (c*((((Gplg[i]-100) * 0.22620313902319997) + ((Ganm[i]-100) * 0.9509250110855416)) + 100)) /100\n",
    "    newdf.loc[i].c1 = c\n",
    "    i=i+1\n",
    "lagrS=newdf['c1']\n",
    "\n",
    "lagrS"
   ]
  },
  {
   "cell_type": "code",
   "execution_count": 4,
   "metadata": {},
   "outputs": [
    {
     "data": {
      "text/plain": [
       "0     102.146\n",
       "1     101.851\n",
       "2     101.496\n",
       "3     100.987\n",
       "4     104.795\n",
       "5     100.305\n",
       "6     104.866\n",
       "7     98.3983\n",
       "8     101.851\n",
       "9     101.496\n",
       "10    100.987\n",
       "11    104.795\n",
       "12    100.305\n",
       "13    104.866\n",
       "14    96.2299\n",
       "15    101.496\n",
       "16    100.987\n",
       "17    104.795\n",
       "18    100.305\n",
       "19    104.866\n",
       "20    98.3983\n",
       "Name: c1, dtype: object"
      ]
     },
     "execution_count": 4,
     "metadata": {},
     "output_type": "execute_result"
    }
   ],
   "source": [
    "w=lagrS.shift(1)\n",
    "w[0]=100\n",
    "lagrt = lagrS/w*100\n",
    "lagrt"
   ]
  },
  {
   "cell_type": "code",
   "execution_count": 5,
   "metadata": {},
   "outputs": [
    {
     "data": {
      "text/plain": [
       "0     106.203021\n",
       "1     106.203021\n",
       "2     106.203021\n",
       "3     105.169184\n",
       "4     105.169184\n",
       "5     105.169184\n",
       "6     105.169184\n",
       "7     106.203021\n",
       "8     105.810163\n",
       "9     105.810163\n",
       "10    104.776326\n",
       "11    104.776326\n",
       "12    104.776326\n",
       "13    104.776326\n",
       "14    107.795129\n",
       "15    107.795129\n",
       "16    106.761292\n",
       "17    106.761292\n",
       "18    106.761292\n",
       "19    106.761292\n",
       "20    106.203021\n",
       "Name: o_inflation, dtype: float64"
      ]
     },
     "execution_count": 5,
     "metadata": {},
     "output_type": "execute_result"
    }
   ],
   "source": [
    "from scipy.stats.mstats import gmean\n",
    "import pandas as pd\n",
    "import numpy as np\n",
    "c = pd.read_csv('vrp_ekz_prog.csv')\n",
    "\n",
    "inf = c['o_inflation']\n",
    "\n",
    "Dagr= inf * 1.0338367547725258 + 100\n",
    "Dagr"
   ]
  },
  {
   "cell_type": "code",
   "execution_count": 6,
   "metadata": {},
   "outputs": [
    {
     "data": {
      "text/plain": [
       "0      5801.4\n",
       "1     6275.29\n",
       "2     6764.22\n",
       "3     7184.08\n",
       "4     7917.75\n",
       "5     8352.46\n",
       "6     9211.67\n",
       "7     9626.38\n",
       "8     10374.2\n",
       "9     11141.1\n",
       "10    11788.5\n",
       "11    12943.8\n",
       "12    13603.5\n",
       "13    14946.8\n",
       "14    15504.5\n",
       "15      16963\n",
       "16    18288.7\n",
       "17    20461.5\n",
       "18    21911.7\n",
       "19    24531.5\n",
       "20    25635.9\n",
       "Name: c1, dtype: object"
      ]
     },
     "execution_count": 6,
     "metadata": {},
     "output_type": "execute_result"
    }
   ],
   "source": [
    "c=5347.8\n",
    "i=0\n",
    "\n",
    "newdf = pd.DataFrame(columns=['c1'], index=range(21))\n",
    "\n",
    "while i<=20:\n",
    "    c = c*lagrt[i]*Dagr[i]/10000\n",
    "    newdf.loc[i].c1 = c    \n",
    "    i=i+1\n",
    "Nagr=newdf['c1']\n",
    "Nagr"
   ]
  },
  {
   "cell_type": "code",
   "execution_count": 6,
   "metadata": {},
   "outputs": [],
   "source": [
    "lagrt.to_csv(r'lagr_isatai(2019-2025).csv', index = False)"
   ]
  },
  {
   "cell_type": "code",
   "execution_count": null,
   "metadata": {},
   "outputs": [],
   "source": []
  },
  {
   "cell_type": "code",
   "execution_count": null,
   "metadata": {},
   "outputs": [],
   "source": []
  }
 ],
 "metadata": {
  "kernelspec": {
   "display_name": "Python 3",
   "language": "python",
   "name": "python3"
  },
  "language_info": {
   "codemirror_mode": {
    "name": "ipython",
    "version": 3
   },
   "file_extension": ".py",
   "mimetype": "text/x-python",
   "name": "python",
   "nbconvert_exporter": "python",
   "pygments_lexer": "ipython3",
   "version": "3.7.6"
  }
 },
 "nbformat": 4,
 "nbformat_minor": 4
}
