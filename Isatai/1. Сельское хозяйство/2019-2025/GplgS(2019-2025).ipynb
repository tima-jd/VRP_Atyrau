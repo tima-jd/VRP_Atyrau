{
 "cells": [
  {
   "cell_type": "code",
   "execution_count": 2,
   "metadata": {},
   "outputs": [
    {
     "data": {
      "text/plain": [
       "0     88.8889\n",
       "1     77.7778\n",
       "2     66.6667\n",
       "3     55.5556\n",
       "4     55.5556\n",
       "5     44.4444\n",
       "6     44.4444\n",
       "7     88.8889\n",
       "8     77.7778\n",
       "9     66.6667\n",
       "10    55.5556\n",
       "11    55.5556\n",
       "12    44.4444\n",
       "13    44.4444\n",
       "14    77.7778\n",
       "15    66.6667\n",
       "16    55.5556\n",
       "17    55.5556\n",
       "18    44.4444\n",
       "19    44.4444\n",
       "20    88.8889\n",
       "Name: c1, dtype: object"
      ]
     },
     "execution_count": 2,
     "metadata": {},
     "output_type": "execute_result"
    }
   ],
   "source": [
    "import pandas as pd\n",
    "import numpy as np\n",
    "xlsx = pd.read_csv('vrp_ekz_prog.csv')\n",
    "l = (xlsx['o_potato_isatai'].shift(1) + xlsx['o_grain_isatai'].shift(1) + xlsx['o_vegetables_isatai'].shift(1))\n",
    "l[0]=0.09\n",
    "Gplg = ((xlsx['o_potato_isatai'] + xlsx['o_grain_isatai'] + xlsx['o_vegetables_isatai'])/l)\n",
    "\n",
    "newdf = pd.DataFrame(columns=['c1'], index=range(21))\n",
    "\n",
    "c=100\n",
    "i=0\n",
    "while i<=20:\n",
    "    c = (c*Gplg[i])\n",
    "    newdf.loc[i].c1 = c\n",
    "    i=i+1\n",
    "GplgS=newdf['c1']\n",
    "\n",
    "GplgS\n"
   ]
  },
  {
   "cell_type": "code",
   "execution_count": null,
   "metadata": {},
   "outputs": [],
   "source": []
  }
 ],
 "metadata": {
  "kernelspec": {
   "display_name": "Python 3",
   "language": "python",
   "name": "python3"
  },
  "language_info": {
   "codemirror_mode": {
    "name": "ipython",
    "version": 3
   },
   "file_extension": ".py",
   "mimetype": "text/x-python",
   "name": "python",
   "nbconvert_exporter": "python",
   "pygments_lexer": "ipython3",
   "version": "3.7.6"
  }
 },
 "nbformat": 4,
 "nbformat_minor": 4
}
