{
 "cells": [
  {
   "cell_type": "code",
   "execution_count": 3,
   "metadata": {},
   "outputs": [
    {
     "data": {
      "text/plain": [
       "0       104.9\n",
       "1     110.061\n",
       "2     115.532\n",
       "3     121.311\n",
       "4     127.428\n",
       "5       133.9\n",
       "6     140.752\n",
       "7       104.9\n",
       "8     110.061\n",
       "9     115.532\n",
       "10    121.311\n",
       "11    127.428\n",
       "12      133.9\n",
       "13    140.752\n",
       "14    110.061\n",
       "15    115.532\n",
       "16    121.311\n",
       "17    127.428\n",
       "18      133.9\n",
       "19    140.752\n",
       "20      104.9\n",
       "Name: c1, dtype: object"
      ]
     },
     "execution_count": 3,
     "metadata": {},
     "output_type": "execute_result"
    }
   ],
   "source": [
    "import pandas as pd\n",
    "xlsx = pd.read_csv('vrp_ekz_prog.csv')\n",
    "l = ((xlsx['o_cattle_isatai'] * xlsx['o_weight_cattle']).shift(1) + (xlsx['o_goats_isatai'] * xlsx['o_weight_goats']).shift(1) + (xlsx['o_horses_isatai']* xlsx['o_weight_horses']).shift(1) + (xlsx['o_poultry_isatai'] * xlsx['o_weight_poultry']).shift(1))\n",
    "l[0] =  12217.24\n",
    "Ganm = ((xlsx['o_cattle_isatai'] * xlsx['o_weight_cattle']) + (xlsx['o_goats_isatai'] * xlsx['o_weight_goats']) + (xlsx['o_horses_isatai']* xlsx['o_weight_horses']) + (xlsx['o_poultry_isatai'] * xlsx['o_weight_poultry']))/l\n",
    "\n",
    "newdf = pd.DataFrame(columns=['c1'], index=range(21))\n",
    "c=100\n",
    "i=0\n",
    "while i<=20:\n",
    "    c = (c*Ganm[i])\n",
    "    newdf.loc[i].c1 = c\n",
    "    i=i+1\n",
    "GanmS=newdf['c1']\n",
    "\n",
    "GanmS"
   ]
  },
  {
   "cell_type": "code",
   "execution_count": null,
   "metadata": {},
   "outputs": [],
   "source": []
  }
 ],
 "metadata": {
  "kernelspec": {
   "display_name": "Python 3",
   "language": "python",
   "name": "python3"
  },
  "language_info": {
   "codemirror_mode": {
    "name": "ipython",
    "version": 3
   },
   "file_extension": ".py",
   "mimetype": "text/x-python",
   "name": "python",
   "nbconvert_exporter": "python",
   "pygments_lexer": "ipython3",
   "version": "3.7.6"
  }
 },
 "nbformat": 4,
 "nbformat_minor": 4
}
