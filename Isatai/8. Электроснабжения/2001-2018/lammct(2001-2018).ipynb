{
 "cells": [
  {
   "cell_type": "code",
   "execution_count": 2,
   "metadata": {},
   "outputs": [
    {
     "data": {
      "text/plain": [
       "0            NaN\n",
       "1     103.891412\n",
       "2      95.829742\n",
       "3     101.650326\n",
       "4     123.021834\n",
       "5     102.289758\n",
       "6      99.536897\n",
       "7      98.128993\n",
       "8     101.319277\n",
       "9      98.091067\n",
       "10    133.291517\n",
       "11    101.535964\n",
       "12    102.718788\n",
       "13    142.700118\n",
       "14    101.423864\n",
       "15     98.248516\n",
       "16     98.027751\n",
       "17     95.215561\n",
       "18    100.174956\n",
       "dtype: float64"
      ]
     },
     "execution_count": 2,
     "metadata": {},
     "output_type": "execute_result"
    }
   ],
   "source": [
    "import pandas as pd\n",
    "csv = pd.read_csv('vrp_ekz_fact.csv')\n",
    "\n",
    "l = pd.read_csv('lamm(2001-2018).csv')\n",
    "lt = pd.read_csv('ltrd(2001-2018).csv') \n",
    "Nt = pd.read_csv('Ntrd(2001-2018).csv') \n",
    "\n",
    "lamm = l['0']\n",
    "ltrd = lt['0']\n",
    "Ntrd = Nt['0']\n",
    "\n",
    "\n",
    "lagr = csv['o_ifo_agro_isatai']\n",
    "Nagr = csv['o_prod_agro_isatai']\n",
    "\n",
    "lmin = csv['o_ifo_mining_isatai']\n",
    "Nmin = csv['o_prod_mining_isatai']\n",
    "\n",
    "lman = csv['o_ifo_man_isatai']\n",
    "Nman = csv['o_prod_man_isatai']\n",
    "\n",
    "lcon = csv['o_ifo_building_isatai']\n",
    "Ncon = csv['o_prod_building_isatai']\n",
    "\n",
    "lammct = (lagr*Nagr.shift(1) + lmin*Nmin.shift(1)+lman*Nman.shift(1)+lcon*Ncon.shift(1)+ ltrd*Ntrd.shift(1))/(Nagr.shift(1)+Nmin.shift(1)+Nman.shift(1)+Ncon.shift(1)+Ntrd.shift(1))\n",
    "\n",
    "lammct"
   ]
  },
  {
   "cell_type": "code",
   "execution_count": null,
   "metadata": {},
   "outputs": [],
   "source": []
  }
 ],
 "metadata": {
  "kernelspec": {
   "display_name": "Python 3",
   "language": "python",
   "name": "python3"
  },
  "language_info": {
   "codemirror_mode": {
    "name": "ipython",
    "version": 3
   },
   "file_extension": ".py",
   "mimetype": "text/x-python",
   "name": "python",
   "nbconvert_exporter": "python",
   "pygments_lexer": "ipython3",
   "version": "3.7.6"
  }
 },
 "nbformat": 4,
 "nbformat_minor": 4
}
