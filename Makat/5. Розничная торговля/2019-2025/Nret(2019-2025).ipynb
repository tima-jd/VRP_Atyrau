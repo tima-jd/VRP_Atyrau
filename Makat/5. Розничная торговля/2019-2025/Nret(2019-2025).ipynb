{
 "cells": [
  {
   "cell_type": "code",
   "execution_count": 2,
   "metadata": {},
   "outputs": [],
   "source": [
    "import pandas as pd\n",
    "csv = pd.read_csv('vrp_ekz_fact.csv')\n",
    "lret_csv = pd.read_csv('lret(2019-2025).csv')\n",
    "Dret_csv = pd.read_csv('Dret(2019-2025).csv')\n",
    "\n",
    "lret_b = lret_csv['lret_b']\n",
    "lret_o = lret_csv['lret_o']\n",
    "lret_p = lret_csv['lret_p']\n",
    "\n",
    "Dret_b = Dret_csv['Dret_b']\n",
    "Dret_o = Dret_csv['Dret_o']\n",
    "Dret_p = Dret_csv['Dret_p']\n",
    "\n",
    "\n",
    "newdf = pd.DataFrame(columns=['Nret_b','Nret_o','Nret_p'], index=range(12))\n",
    "b = 2750.5\n",
    "o = 2750.5\n",
    "p = 2750.5\n",
    "i=0\n",
    "while i<=(len(lret_b)-1):\n",
    "    b = b * lret_b[i] * Dret_b[i]/10000\n",
    "    o = o * lret_o[i] * Dret_o[i]/10000\n",
    "    p = p * lret_p[i] * Dret_p[i]/10000\n",
    "    \n",
    "    newdf.loc[i].Nret_b = b    \n",
    "    newdf.loc[i].Nret_o = o    \n",
    "    newdf.loc[i].Nret_p = p    \n",
    "    i=i+1\n",
    "newdf.to_csv (r'Nret(2019-2025).csv', index = False)"
   ]
  },
  {
   "cell_type": "code",
   "execution_count": null,
   "metadata": {},
   "outputs": [],
   "source": []
  }
 ],
 "metadata": {
  "kernelspec": {
   "display_name": "Python 3",
   "language": "python",
   "name": "python3"
  },
  "language_info": {
   "codemirror_mode": {
    "name": "ipython",
    "version": 3
   },
   "file_extension": ".py",
   "mimetype": "text/x-python",
   "name": "python",
   "nbconvert_exporter": "python",
   "pygments_lexer": "ipython3",
   "version": "3.7.6"
  }
 },
 "nbformat": 4,
 "nbformat_minor": 4
}
