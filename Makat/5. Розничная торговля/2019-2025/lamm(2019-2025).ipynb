{
 "cells": [
  {
   "cell_type": "code",
   "execution_count": 2,
   "metadata": {},
   "outputs": [],
   "source": [
    "import pandas as pd\n",
    "\n",
    "c = pd.read_csv('vrp_ekz_prog.csv')\n",
    "\n",
    "q = pd.read_csv('lagr(2019-2025).csv')\n",
    "w = pd.read_csv('lmin(2019-2025).csv')\n",
    "d = pd.read_csv('Dmin(2019-2025).csv')\n",
    "e = pd.read_csv('Nagrt(2019-2025).csv')\n",
    "r = pd.read_csv('Nmin(2019-2025).csv')\n",
    "\n",
    "t = pd.read_csv('lman, Nman(2019-2025).csv')\n",
    "\n",
    "lman = t['lman']\n",
    "Nman = t['Nman']\n",
    "\n",
    "Nmin = r['c1']\n",
    "Nagr = e['c1']\n",
    "\n",
    "Dmin = d['0']\n",
    "\n",
    "lagr = q['c1']\n",
    "lmin = w['c1']\n",
    "\n",
    "i=0\n",
    "newdf = pd.DataFrame(columns=['lamm'], index=range(7))\n",
    "\n",
    "while i<6:\n",
    "    c = (lagr[i+1]*Nagr[i]+lmin[i+1]*Nmin[i]+lman[i+1]*Nman[i])/(Nagr[i]+Nmin[i]+Nman[i])    \n",
    "    newdf.loc[i+1].lamm = c\n",
    "    i=i+1\n",
    "lam = newdf['lamm']\n",
    "lam[0] = 101.66708088610378\n",
    "lamm = lam\n",
    "\n",
    "lamm.to_csv(r'lamm(2019-2025).csv', index = False)"
   ]
  },
  {
   "cell_type": "code",
   "execution_count": null,
   "metadata": {},
   "outputs": [],
   "source": []
  },
  {
   "cell_type": "code",
   "execution_count": null,
   "metadata": {},
   "outputs": [],
   "source": []
  }
 ],
 "metadata": {
  "kernelspec": {
   "display_name": "Python 3",
   "language": "python",
   "name": "python3"
  },
  "language_info": {
   "codemirror_mode": {
    "name": "ipython",
    "version": 3
   },
   "file_extension": ".py",
   "mimetype": "text/x-python",
   "name": "python",
   "nbconvert_exporter": "python",
   "pygments_lexer": "ipython3",
   "version": "3.7.6"
  }
 },
 "nbformat": 4,
 "nbformat_minor": 4
}
