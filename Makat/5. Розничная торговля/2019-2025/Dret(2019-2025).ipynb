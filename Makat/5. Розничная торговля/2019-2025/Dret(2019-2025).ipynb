{
 "cells": [
  {
   "cell_type": "code",
   "execution_count": 1,
   "metadata": {},
   "outputs": [],
   "source": [
    "from scipy.stats.mstats import gmean\n",
    "import pandas as pd\n",
    "import numpy as np\n",
    "c = pd.read_csv('vrp_ekz_prog.csv')\n",
    "inf = c['o_inflation']\n",
    "\n",
    "newdf = pd.DataFrame(columns=['Dret_b','Dret_o','Dret_p'], index=range(12))\n",
    "\n",
    "Dret= inf * 1.073213516832646 + 100\n",
    "\n",
    "Dret_b = Dret.loc[c.o_script.str.match(r'базовый')].reset_index(drop = True)\n",
    "Dret_o = Dret.loc[c.o_script.str.match(r'оптимистичный')].reset_index(drop = True)\n",
    "Dret_p = Dret.loc[c.o_script.str.match(r'пессимистичный')].reset_index(drop = True)\n",
    "\n",
    "newdf.Dret_b = Dret_b\n",
    "newdf.Dret_o = Dret_o\n",
    "newdf.Dret_p = Dret_p\n",
    "\n",
    "newdf.to_csv(r'Dret(2019-2025).csv')"
   ]
  },
  {
   "cell_type": "code",
   "execution_count": null,
   "metadata": {},
   "outputs": [],
   "source": []
  }
 ],
 "metadata": {
  "kernelspec": {
   "display_name": "Python 3",
   "language": "python",
   "name": "python3"
  },
  "language_info": {
   "codemirror_mode": {
    "name": "ipython",
    "version": 3
   },
   "file_extension": ".py",
   "mimetype": "text/x-python",
   "name": "python",
   "nbconvert_exporter": "python",
   "pygments_lexer": "ipython3",
   "version": "3.7.6"
  }
 },
 "nbformat": 4,
 "nbformat_minor": 4
}
