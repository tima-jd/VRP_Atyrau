{
 "cells": [
  {
   "cell_type": "code",
   "execution_count": 2,
   "metadata": {},
   "outputs": [
    {
     "data": {
      "text/plain": [
       "0            NaN\n",
       "1            NaN\n",
       "2            NaN\n",
       "3            NaN\n",
       "4            NaN\n",
       "5            inf\n",
       "6            inf\n",
       "7     122.920275\n",
       "8     101.227220\n",
       "9      21.782421\n",
       "10     99.903196\n",
       "11     99.899842\n",
       "12    100.015689\n",
       "13    102.151236\n",
       "14    104.481077\n",
       "15    102.236881\n",
       "16    110.222309\n",
       "17    110.300537\n",
       "18    109.572770\n",
       "dtype: float64"
      ]
     },
     "execution_count": 2,
     "metadata": {},
     "output_type": "execute_result"
    }
   ],
   "source": [
    "import pandas as pd\n",
    "csv = pd.read_csv('vrp_ekz_fact.csv')\n",
    "l = pd.read_csv('lamm(2001-2018).csv')\n",
    "lamm = l['0']\n",
    "lwhl = csv['o_ifo_trade_makat']\n",
    "Nwhl = csv['o_prod_trade_makat']\n",
    "Dwhl = Nwhl/Nwhl.shift(1)/lwhl * 10000\n",
    "Dwhl"
   ]
  },
  {
   "cell_type": "code",
   "execution_count": null,
   "metadata": {},
   "outputs": [],
   "source": []
  }
 ],
 "metadata": {
  "kernelspec": {
   "display_name": "Python 3",
   "language": "python",
   "name": "python3"
  },
  "language_info": {
   "codemirror_mode": {
    "name": "ipython",
    "version": 3
   },
   "file_extension": ".py",
   "mimetype": "text/x-python",
   "name": "python",
   "nbconvert_exporter": "python",
   "pygments_lexer": "ipython3",
   "version": "3.7.6"
  }
 },
 "nbformat": 4,
 "nbformat_minor": 4
}
