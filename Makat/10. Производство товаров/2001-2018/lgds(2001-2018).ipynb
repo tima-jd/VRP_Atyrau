{
 "cells": [
  {
   "cell_type": "code",
   "execution_count": 1,
   "metadata": {},
   "outputs": [
    {
     "data": {
      "text/plain": [
       "0            NaN\n",
       "1     101.239177\n",
       "2     101.401264\n",
       "3     100.825844\n",
       "4     105.407729\n",
       "5     105.209632\n",
       "6     105.187835\n",
       "7     108.706944\n",
       "8     232.745419\n",
       "9      92.648487\n",
       "10    106.130019\n",
       "11    101.362917\n",
       "12     81.577512\n",
       "13     96.780008\n",
       "14     86.963862\n",
       "15     92.133107\n",
       "16    101.087333\n",
       "17     80.743295\n",
       "18     98.237967\n",
       "dtype: float64"
      ]
     },
     "execution_count": 1,
     "metadata": {},
     "output_type": "execute_result"
    }
   ],
   "source": [
    "import pandas as pd\n",
    "csv = pd.read_csv('vrp_ekz_fact.csv')\n",
    "lind_csv = pd.read_csv('Dind, lind,Nind (2001-2018).csv')\n",
    "\n",
    "Nagr = csv['o_prod_agro_makat']\n",
    "Ncon = csv['o_prod_building_makat']\n",
    "\n",
    "Nwtr = csv['o_prod_water_makat']\n",
    "Nelc = csv['o_prod_energo_makat']\n",
    "Nman = csv['o_prod_man_makat']\n",
    "Nmin = csv['o_prod_mining_makat']\n",
    "\n",
    "lagr = csv['o_ifo_agro_makat']\n",
    "lcon = csv['o_ifo_building_makat']\n",
    "\n",
    "\n",
    "lind = lind_csv['lind']\n",
    "\n",
    "Nind = Nmin+Nman+Nelc+Nwtr\n",
    "\n",
    "Ngds = Nagr+Nind+Ncon\n",
    "\n",
    "lgds = (lagr*Nagr.shift(1) + lind*Nind.shift(1) + lcon*Ncon.shift(1))/(Nagr.shift(1)+Nind.shift(1)+Ncon.shift(1))\n",
    "lgds"
   ]
  },
  {
   "cell_type": "code",
   "execution_count": null,
   "metadata": {},
   "outputs": [],
   "source": []
  }
 ],
 "metadata": {
  "kernelspec": {
   "display_name": "Python 3",
   "language": "python",
   "name": "python3"
  },
  "language_info": {
   "codemirror_mode": {
    "name": "ipython",
    "version": 3
   },
   "file_extension": ".py",
   "mimetype": "text/x-python",
   "name": "python",
   "nbconvert_exporter": "python",
   "pygments_lexer": "ipython3",
   "version": "3.7.6"
  }
 },
 "nbformat": 4,
 "nbformat_minor": 4
}
