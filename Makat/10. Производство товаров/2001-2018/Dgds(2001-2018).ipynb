{
 "cells": [
  {
   "cell_type": "code",
   "execution_count": 1,
   "metadata": {},
   "outputs": [
    {
     "data": {
      "text/plain": [
       "0            NaN\n",
       "1     106.639101\n",
       "2     122.157221\n",
       "3     135.750999\n",
       "4     101.067933\n",
       "5     132.962763\n",
       "6     116.785646\n",
       "7     114.899593\n",
       "8      61.152448\n",
       "9      90.085760\n",
       "10    119.778661\n",
       "11    179.610346\n",
       "12    112.445941\n",
       "13     93.009205\n",
       "14    108.696231\n",
       "15     67.416785\n",
       "16    133.184931\n",
       "17    123.125487\n",
       "18     44.865936\n",
       "dtype: float64"
      ]
     },
     "execution_count": 1,
     "metadata": {},
     "output_type": "execute_result"
    }
   ],
   "source": [
    "import pandas as pd\n",
    "csv = pd.read_csv('vrp_ekz_fact.csv')\n",
    "lind_csv = pd.read_csv('Dind, lind,Nind (2001-2018).csv')\n",
    "\n",
    "Nagr = csv['o_prod_agro_makat']\n",
    "Ncon = csv['o_prod_building_makat']\n",
    "\n",
    "Nwtr = csv['o_prod_water_makat']\n",
    "Nelc = csv['o_prod_energo_makat']\n",
    "Nman = csv['o_prod_man_makat']\n",
    "Nmin = csv['o_prod_mining_makat']\n",
    "\n",
    "lagr = csv['o_ifo_agro_makat']\n",
    "lcon = csv['o_ifo_building_makat']\n",
    "\n",
    "\n",
    "lind = lind_csv['lind']\n",
    "\n",
    "Nind = Nmin+Nman+Nelc+Nwtr\n",
    "\n",
    "Ngds = Nagr+Nind+Ncon\n",
    "\n",
    "lgds = (lagr*Nagr.shift(1) + lind*Nind.shift(1) + lcon*Ncon.shift(1))/(Nagr.shift(1)+Nind.shift(1)+Ncon.shift(1))\n",
    "\n",
    "Dgds = Ngds/Ngds.shift(1)/lgds * 10000\n",
    "\n",
    "Dgds"
   ]
  },
  {
   "cell_type": "code",
   "execution_count": null,
   "metadata": {},
   "outputs": [],
   "source": []
  }
 ],
 "metadata": {
  "kernelspec": {
   "display_name": "Python 3",
   "language": "python",
   "name": "python3"
  },
  "language_info": {
   "codemirror_mode": {
    "name": "ipython",
    "version": 3
   },
   "file_extension": ".py",
   "mimetype": "text/x-python",
   "name": "python",
   "nbconvert_exporter": "python",
   "pygments_lexer": "ipython3",
   "version": "3.7.6"
  }
 },
 "nbformat": 4,
 "nbformat_minor": 4
}
