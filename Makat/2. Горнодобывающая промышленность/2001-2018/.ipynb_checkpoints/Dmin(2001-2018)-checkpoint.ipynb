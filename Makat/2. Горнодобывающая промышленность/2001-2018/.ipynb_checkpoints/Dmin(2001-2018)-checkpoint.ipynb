{
 "cells": [
  {
   "cell_type": "code",
   "execution_count": 1,
   "metadata": {},
   "outputs": [
    {
     "data": {
      "text/plain": [
       "0            NaN\n",
       "1     104.104981\n",
       "2     119.250571\n",
       "3     137.002738\n",
       "4     100.622649\n",
       "5     141.596910\n",
       "6     116.769810\n",
       "7     116.706034\n",
       "8     133.890918\n",
       "9      89.903219\n",
       "10    125.778334\n",
       "11    149.281258\n",
       "12    101.048582\n",
       "13    102.190236\n",
       "14    106.142477\n",
       "15     60.867756\n",
       "16    137.573820\n",
       "17    116.316205\n",
       "18     31.556231\n",
       "dtype: float64"
      ]
     },
     "execution_count": 1,
     "metadata": {},
     "output_type": "execute_result"
    }
   ],
   "source": [
    "import pandas as pd\n",
    "csv = pd.read_csv('vrp_ekz_fact.csv')\n",
    "lmin = csv['o_ifo_mining_isatai']\n",
    "Nmin=csv['o_prod_mining_isatai']\n",
    "\n",
    "Dmin = (Nmin/Nmin.shift(1)/lmin)*10000\n",
    "Dmin"
   ]
  },
  {
   "cell_type": "code",
   "execution_count": null,
   "metadata": {},
   "outputs": [],
   "source": []
  }
 ],
 "metadata": {
  "kernelspec": {
   "display_name": "Python 3",
   "language": "python",
   "name": "python3"
  },
  "language_info": {
   "codemirror_mode": {
    "name": "ipython",
    "version": 3
   },
   "file_extension": ".py",
   "mimetype": "text/x-python",
   "name": "python",
   "nbconvert_exporter": "python",
   "pygments_lexer": "ipython3",
   "version": "3.7.6"
  }
 },
 "nbformat": 4,
 "nbformat_minor": 4
}
