{
 "cells": [
  {
   "cell_type": "code",
   "execution_count": 1,
   "metadata": {},
   "outputs": [
    {
     "data": {
      "text/plain": [
       "0            NaN\n",
       "1     106.063484\n",
       "2     118.938876\n",
       "3     135.754450\n",
       "4     100.804317\n",
       "5     135.316685\n",
       "6     120.478045\n",
       "7     115.149215\n",
       "8     116.634286\n",
       "9      97.590429\n",
       "10    124.144578\n",
       "11    140.157100\n",
       "12     96.406532\n",
       "13     91.942854\n",
       "14    110.272330\n",
       "15     65.342997\n",
       "16    135.701401\n",
       "17    125.097961\n",
       "18     39.897163\n",
       "dtype: float64"
      ]
     },
     "execution_count": 1,
     "metadata": {},
     "output_type": "execute_result"
    }
   ],
   "source": [
    "import pandas as pd\n",
    "csv = pd.read_csv('vrp_ekz_fact.csv')\n",
    "lmin = csv['o_ifo_mining_makat']\n",
    "Nmin=csv['o_prod_mining_makat']\n",
    "\n",
    "Dmin = (Nmin/Nmin.shift(1)/lmin)*10000\n",
    "Dmin"
   ]
  },
  {
   "cell_type": "code",
   "execution_count": null,
   "metadata": {},
   "outputs": [],
   "source": []
  }
 ],
 "metadata": {
  "kernelspec": {
   "display_name": "Python 3",
   "language": "python",
   "name": "python3"
  },
  "language_info": {
   "codemirror_mode": {
    "name": "ipython",
    "version": 3
   },
   "file_extension": ".py",
   "mimetype": "text/x-python",
   "name": "python",
   "nbconvert_exporter": "python",
   "pygments_lexer": "ipython3",
   "version": "3.7.6"
  }
 },
 "nbformat": 4,
 "nbformat_minor": 4
}
