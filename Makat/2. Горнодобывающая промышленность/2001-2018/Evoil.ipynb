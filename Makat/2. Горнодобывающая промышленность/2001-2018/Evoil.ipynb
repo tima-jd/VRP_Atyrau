{
 "cells": [
  {
   "cell_type": "code",
   "execution_count": 1,
   "metadata": {},
   "outputs": [
    {
     "data": {
      "text/plain": [
       "0     98.8388\n",
       "1     101.606\n",
       "2     103.435\n",
       "3     104.159\n",
       "4     109.576\n",
       "5      110.89\n",
       "6     114.661\n",
       "7     125.553\n",
       "8     143.508\n",
       "9     133.032\n",
       "10    137.156\n",
       "11    137.704\n",
       "12    136.878\n",
       "13    155.493\n",
       "14     136.99\n",
       "15    128.907\n",
       "16    129.681\n",
       "17    100.503\n",
       "18        100\n",
       "Name: c1, dtype: object"
      ]
     },
     "execution_count": 1,
     "metadata": {},
     "output_type": "execute_result"
    }
   ],
   "source": [
    "import pandas as pd\n",
    "csv = pd.read_csv('vrp_ekz_fact.csv')\n",
    "lmin = csv['o_ifo_mining_makat']\n",
    "\n",
    "i=18\n",
    "c=100\n",
    "newdf = pd.DataFrame(columns=['c1'], index=range(18))\n",
    "while i> 0:\n",
    "    c = (c/lmin[i]) * 100\n",
    "    i=i-1\n",
    "    newdf.loc[i].c1 = c\n",
    "lminS=newdf['c1']\n",
    "lminS[18]=100\n",
    "lminS"
   ]
  },
  {
   "cell_type": "code",
   "execution_count": 2,
   "metadata": {},
   "outputs": [
    {
     "data": {
      "text/plain": [
       "0     94.6181\n",
       "1     109.898\n",
       "2     115.689\n",
       "3     114.107\n",
       "4     121.175\n",
       "5     121.582\n",
       "6     121.326\n",
       "7     126.306\n",
       "8     152.115\n",
       "9     141.089\n",
       "10    145.926\n",
       "11     145.77\n",
       "12    144.849\n",
       "13    148.825\n",
       "14    134.822\n",
       "15     128.75\n",
       "16    121.289\n",
       "17    105.053\n",
       "18        100\n",
       "Name: c1, dtype: object"
      ]
     },
     "execution_count": 2,
     "metadata": {},
     "output_type": "execute_result"
    }
   ],
   "source": [
    "import pandas as pd\n",
    "csv = pd.read_csv('vrp_ekz_fact.csv')\n",
    "voil = csv['o_oil_makat']\n",
    "Gvoil = voil/voil.shift(1)*100\n",
    "\n",
    "i=18\n",
    "c=100\n",
    "newdf = pd.DataFrame(columns=['c1'], index=range(19))\n",
    "while i>0:\n",
    "    c = (c/Gvoil[i]) * 100\n",
    "    i=i-1\n",
    "    newdf.loc[i].c1 = c\n",
    "GvoilS=newdf['c1']\n",
    "GvoilS[18]=100\n",
    "GvoilS"
   ]
  },
  {
   "cell_type": "code",
   "execution_count": 3,
   "metadata": {},
   "outputs": [
    {
     "data": {
      "text/plain": [
       "0.9575797763187188"
      ]
     },
     "execution_count": 3,
     "metadata": {},
     "output_type": "execute_result"
    }
   ],
   "source": [
    "Evoil= ((GvoilS-GvoilS.mean())*(lminS-lminS.mean())).sum()/((GvoilS-GvoilS.mean())**2).sum()\n",
    "Evoil"
   ]
  },
  {
   "cell_type": "code",
   "execution_count": null,
   "metadata": {},
   "outputs": [],
   "source": []
  }
 ],
 "metadata": {
  "kernelspec": {
   "display_name": "Python 3",
   "language": "python",
   "name": "python3"
  },
  "language_info": {
   "codemirror_mode": {
    "name": "ipython",
    "version": 3
   },
   "file_extension": ".py",
   "mimetype": "text/x-python",
   "name": "python",
   "nbconvert_exporter": "python",
   "pygments_lexer": "ipython3",
   "version": "3.7.6"
  }
 },
 "nbformat": 4,
 "nbformat_minor": 4
}
