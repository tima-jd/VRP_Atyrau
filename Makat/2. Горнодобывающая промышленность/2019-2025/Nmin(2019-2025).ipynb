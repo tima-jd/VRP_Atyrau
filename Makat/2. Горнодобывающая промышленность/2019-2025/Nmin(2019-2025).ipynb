{
 "cells": [
  {
   "cell_type": "code",
   "execution_count": 3,
   "metadata": {},
   "outputs": [],
   "source": [
    "import pandas as pd\n",
    "\n",
    "lmin_csv = pd.read_csv('lmin(2019-2025).csv')\n",
    "Dmin_csv = pd.read_csv('Dmin(2019-2025).csv')\n",
    "\n",
    "lmin = lmin_csv['c1']\n",
    "Dmin = Dmin_csv['0']\n",
    "\n",
    "c=23478.0\n",
    "i=0\n",
    "\n",
    "newdf = pd.DataFrame(columns=['c1'], index=range(7))\n",
    "\n",
    "while i<=6:\n",
    "    c = (c*lmin[i]*Dmin[i])/10000\n",
    "    newdf.loc[i].c1 = c    \n",
    "    i=i+1\n",
    "\n",
    "Nmin=newdf['c1']\n",
    "\n",
    "lmin.to_csv(r'lmin_makat(2019-2025).csv')"
   ]
  },
  {
   "cell_type": "code",
   "execution_count": null,
   "metadata": {},
   "outputs": [],
   "source": []
  }
 ],
 "metadata": {
  "kernelspec": {
   "display_name": "Python 3",
   "language": "python",
   "name": "python3"
  },
  "language_info": {
   "codemirror_mode": {
    "name": "ipython",
    "version": 3
   },
   "file_extension": ".py",
   "mimetype": "text/x-python",
   "name": "python",
   "nbconvert_exporter": "python",
   "pygments_lexer": "ipython3",
   "version": "3.7.6"
  }
 },
 "nbformat": 4,
 "nbformat_minor": 4
}
