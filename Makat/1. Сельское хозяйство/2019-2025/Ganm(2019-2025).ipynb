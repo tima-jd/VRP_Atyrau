{
 "cells": [
  {
   "cell_type": "code",
   "execution_count": 2,
   "metadata": {},
   "outputs": [
    {
     "data": {
      "text/plain": [
       "0      98.870137\n",
       "1      99.188783\n",
       "2      99.539616\n",
       "3     100.191107\n",
       "4     100.525917\n",
       "5     101.154247\n",
       "6     101.514572\n",
       "7      97.931352\n",
       "8      99.188783\n",
       "9      99.539616\n",
       "10    100.191107\n",
       "11    100.525917\n",
       "12    101.154247\n",
       "13    101.514572\n",
       "14     97.136916\n",
       "15     99.539616\n",
       "16    100.191107\n",
       "17    100.525917\n",
       "18    101.154247\n",
       "19    101.514572\n",
       "20     97.931352\n",
       "dtype: float64"
      ]
     },
     "execution_count": 2,
     "metadata": {},
     "output_type": "execute_result"
    }
   ],
   "source": [
    "import pandas as pd\n",
    "xlsx = pd.read_csv('vrp_ekz_prog.csv')\n",
    "l = ((xlsx['o_cattle_makat'] * xlsx['o_weight_cattle']).shift(1) + (xlsx['o_goats_makat'] * xlsx['o_weight_goats']).shift(1) + (xlsx['o_horses_makat']* xlsx['o_weight_horses']).shift(1) + (xlsx['o_poultry_makat'] * xlsx['o_weight_poultry']).shift(1))\n",
    "l[0] = 967.02\n",
    "Ganm = ((xlsx['o_cattle_makat'] * xlsx['o_weight_cattle']) + (xlsx['o_goats_makat'] * xlsx['o_weight_goats']) + (xlsx['o_horses_makat']* xlsx['o_weight_horses']) + (xlsx['o_poultry_makat'] * xlsx['o_weight_poultry']))/l * 100\n",
    "Ganm"
   ]
  },
  {
   "cell_type": "code",
   "execution_count": null,
   "metadata": {},
   "outputs": [],
   "source": []
  }
 ],
 "metadata": {
  "kernelspec": {
   "display_name": "Python 3",
   "language": "python",
   "name": "python3"
  },
  "language_info": {
   "codemirror_mode": {
    "name": "ipython",
    "version": 3
   },
   "file_extension": ".py",
   "mimetype": "text/x-python",
   "name": "python",
   "nbconvert_exporter": "python",
   "pygments_lexer": "ipython3",
   "version": "3.7.6"
  }
 },
 "nbformat": 4,
 "nbformat_minor": 4
}
