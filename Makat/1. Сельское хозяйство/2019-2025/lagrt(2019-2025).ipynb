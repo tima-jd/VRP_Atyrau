{
 "cells": [
  {
   "cell_type": "code",
   "execution_count": 4,
   "metadata": {},
   "outputs": [
    {
     "data": {
      "text/plain": [
       "0      98.870137\n",
       "1      99.188783\n",
       "2      99.539616\n",
       "3     100.191107\n",
       "4     100.525917\n",
       "5     101.154247\n",
       "6     101.514572\n",
       "7      97.931352\n",
       "8      99.188783\n",
       "9      99.539616\n",
       "10    100.191107\n",
       "11    100.525917\n",
       "12    101.154247\n",
       "13    101.514572\n",
       "14     97.136916\n",
       "15     99.539616\n",
       "16    100.191107\n",
       "17    100.525917\n",
       "18    101.154247\n",
       "19    101.514572\n",
       "20     97.931352\n",
       "dtype: float64"
      ]
     },
     "execution_count": 4,
     "metadata": {},
     "output_type": "execute_result"
    }
   ],
   "source": [
    "import pandas as pd\n",
    "xlsx = pd.read_csv('vrp_ekz_prog.csv')\n",
    "l = ((xlsx['o_cattle_makat'] * xlsx['o_weight_cattle']).shift(1) + (xlsx['o_goats_makat'] * xlsx['o_weight_goats']).shift(1) + (xlsx['o_horses_makat']* xlsx['o_weight_horses']).shift(1) + (xlsx['o_poultry_makat'] * xlsx['o_weight_poultry']).shift(1))\n",
    "l[0] = 967.02\n",
    "Ganm = ((xlsx['o_cattle_makat'] * xlsx['o_weight_cattle']) + (xlsx['o_goats_makat'] * xlsx['o_weight_goats']) + (xlsx['o_horses_makat']* xlsx['o_weight_horses']) + (xlsx['o_poultry_makat'] * xlsx['o_weight_poultry']))/l * 100\n",
    "Ganm"
   ]
  },
  {
   "cell_type": "code",
   "execution_count": 5,
   "metadata": {},
   "outputs": [
    {
     "data": {
      "text/plain": [
       "0      92.857143\n",
       "1     100.000000\n",
       "2      92.307692\n",
       "3     100.000000\n",
       "4     100.000000\n",
       "5      91.666667\n",
       "6     109.090909\n",
       "7     108.333333\n",
       "8     100.000000\n",
       "9      92.307692\n",
       "10    100.000000\n",
       "11    100.000000\n",
       "12     91.666667\n",
       "13    109.090909\n",
       "14    108.333333\n",
       "15     92.307692\n",
       "16    100.000000\n",
       "17    100.000000\n",
       "18     91.666667\n",
       "19    109.090909\n",
       "20    108.333333\n",
       "dtype: float64"
      ]
     },
     "execution_count": 5,
     "metadata": {},
     "output_type": "execute_result"
    }
   ],
   "source": [
    "import pandas as pd\n",
    "xlsx = pd.read_csv('vrp_ekz_prog.csv')\n",
    "l = (xlsx['o_potato_makat'].shift(1) + xlsx['o_grain_makat'].shift(1) + xlsx['o_vegetables_makat'].shift(1))\n",
    "l[0]=0.14\n",
    "Gplg = ((xlsx['o_potato_makat'] + xlsx['o_grain_makat'] + xlsx['o_vegetables_makat'])/l)*100\n",
    "Gplg"
   ]
  },
  {
   "cell_type": "code",
   "execution_count": 6,
   "metadata": {},
   "outputs": [
    {
     "data": {
      "text/plain": [
       "0     92.8469\n",
       "1     92.8463\n",
       "2     85.6945\n",
       "3     85.6946\n",
       "4      85.695\n",
       "5     78.5449\n",
       "6     85.6957\n",
       "7     92.8452\n",
       "8     92.8447\n",
       "9      85.693\n",
       "10    85.6931\n",
       "11    85.6934\n",
       "12    78.5436\n",
       "13    85.6942\n",
       "14    92.8431\n",
       "15    85.6916\n",
       "16    85.6917\n",
       "17     85.692\n",
       "18    78.5422\n",
       "19    85.6928\n",
       "20     92.842\n",
       "Name: c1, dtype: object"
      ]
     },
     "execution_count": 6,
     "metadata": {},
     "output_type": "execute_result"
    }
   ],
   "source": [
    "i=0\n",
    "c=100\n",
    "\n",
    "newdf = pd.DataFrame(columns=['c1'], index=range(21))\n",
    "while i<=20:\n",
    "    c = (c*((((Gplg[i]-100) * 1.0013268537752373) + ((Ganm[i]-100) * 0.0007147862868978098)) + 100)) /100\n",
    "    newdf.loc[i].c1 = c\n",
    "    i=i+1\n",
    "lagrS=newdf['c1']\n",
    "\n",
    "lagrS"
   ]
  },
  {
   "cell_type": "code",
   "execution_count": 7,
   "metadata": {},
   "outputs": [
    {
     "data": {
      "text/plain": [
       "0     92.8469\n",
       "1     99.9994\n",
       "2     92.2972\n",
       "3         100\n",
       "4         100\n",
       "5     91.6564\n",
       "6     109.104\n",
       "7     108.343\n",
       "8     99.9994\n",
       "9     92.2972\n",
       "10        100\n",
       "11        100\n",
       "12    91.6564\n",
       "13    109.104\n",
       "14    108.342\n",
       "15    92.2972\n",
       "16        100\n",
       "17        100\n",
       "18    91.6564\n",
       "19    109.104\n",
       "20    108.343\n",
       "Name: c1, dtype: object"
      ]
     },
     "execution_count": 7,
     "metadata": {},
     "output_type": "execute_result"
    }
   ],
   "source": [
    "w=lagrS.shift(1)\n",
    "w[0]=100\n",
    "lagrt = lagrS/w*100\n",
    "lagrt"
   ]
  },
  {
   "cell_type": "code",
   "execution_count": 8,
   "metadata": {},
   "outputs": [],
   "source": [
    "lagrt.to_csv(r'lagr(2019-2025).csv', index = False)"
   ]
  },
  {
   "cell_type": "code",
   "execution_count": null,
   "metadata": {},
   "outputs": [],
   "source": []
  }
 ],
 "metadata": {
  "kernelspec": {
   "display_name": "Python 3",
   "language": "python",
   "name": "python3"
  },
  "language_info": {
   "codemirror_mode": {
    "name": "ipython",
    "version": 3
   },
   "file_extension": ".py",
   "mimetype": "text/x-python",
   "name": "python",
   "nbconvert_exporter": "python",
   "pygments_lexer": "ipython3",
   "version": "3.7.6"
  }
 },
 "nbformat": 4,
 "nbformat_minor": 4
}
