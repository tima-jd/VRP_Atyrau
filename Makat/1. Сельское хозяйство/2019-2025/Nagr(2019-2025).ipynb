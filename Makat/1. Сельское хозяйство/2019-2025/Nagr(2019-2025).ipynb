{
 "cells": [
  {
   "cell_type": "code",
   "execution_count": 1,
   "metadata": {},
   "outputs": [
    {
     "data": {
      "text/plain": [
       "0      98.870137\n",
       "1      99.188783\n",
       "2      99.539616\n",
       "3     100.191107\n",
       "4     100.525917\n",
       "5     101.154247\n",
       "6     101.514572\n",
       "7      97.931352\n",
       "8      99.188783\n",
       "9      99.539616\n",
       "10    100.191107\n",
       "11    100.525917\n",
       "12    101.154247\n",
       "13    101.514572\n",
       "14     97.136916\n",
       "15     99.539616\n",
       "16    100.191107\n",
       "17    100.525917\n",
       "18    101.154247\n",
       "19    101.514572\n",
       "20     97.931352\n",
       "dtype: float64"
      ]
     },
     "execution_count": 1,
     "metadata": {},
     "output_type": "execute_result"
    }
   ],
   "source": [
    "import pandas as pd\n",
    "xlsx = pd.read_csv('vrp_ekz_prog.csv')\n",
    "l = ((xlsx['o_cattle_makat'] * xlsx['o_weight_cattle']).shift(1) + (xlsx['o_goats_makat'] * xlsx['o_weight_goats']).shift(1) + (xlsx['o_horses_makat']* xlsx['o_weight_horses']).shift(1) + (xlsx['o_poultry_makat'] * xlsx['o_weight_poultry']).shift(1))\n",
    "l[0] = 967.02\n",
    "Ganm = ((xlsx['o_cattle_makat'] * xlsx['o_weight_cattle']) + (xlsx['o_goats_makat'] * xlsx['o_weight_goats']) + (xlsx['o_horses_makat']* xlsx['o_weight_horses']) + (xlsx['o_poultry_makat'] * xlsx['o_weight_poultry']))/l * 100\n",
    "Ganm"
   ]
  },
  {
   "cell_type": "code",
   "execution_count": 2,
   "metadata": {},
   "outputs": [
    {
     "data": {
      "text/plain": [
       "0      92.857143\n",
       "1     100.000000\n",
       "2      92.307692\n",
       "3     100.000000\n",
       "4     100.000000\n",
       "5      91.666667\n",
       "6     109.090909\n",
       "7     108.333333\n",
       "8     100.000000\n",
       "9      92.307692\n",
       "10    100.000000\n",
       "11    100.000000\n",
       "12     91.666667\n",
       "13    109.090909\n",
       "14    108.333333\n",
       "15     92.307692\n",
       "16    100.000000\n",
       "17    100.000000\n",
       "18     91.666667\n",
       "19    109.090909\n",
       "20    108.333333\n",
       "dtype: float64"
      ]
     },
     "execution_count": 2,
     "metadata": {},
     "output_type": "execute_result"
    }
   ],
   "source": [
    "import pandas as pd\n",
    "xlsx = pd.read_csv('vrp_ekz_prog.csv')\n",
    "l = (xlsx['o_potato_makat'].shift(1) + xlsx['o_grain_makat'].shift(1) + xlsx['o_vegetables_makat'].shift(1))\n",
    "l[0]=0.14\n",
    "Gplg = ((xlsx['o_potato_makat'] + xlsx['o_grain_makat'] + xlsx['o_vegetables_makat'])/l)*100\n",
    "Gplg"
   ]
  },
  {
   "cell_type": "code",
   "execution_count": 3,
   "metadata": {},
   "outputs": [
    {
     "data": {
      "text/plain": [
       "0     92.8469\n",
       "1     92.8463\n",
       "2     85.6945\n",
       "3     85.6946\n",
       "4      85.695\n",
       "5     78.5449\n",
       "6     85.6957\n",
       "7     92.8452\n",
       "8     92.8447\n",
       "9      85.693\n",
       "10    85.6931\n",
       "11    85.6934\n",
       "12    78.5436\n",
       "13    85.6942\n",
       "14    92.8431\n",
       "15    85.6916\n",
       "16    85.6917\n",
       "17     85.692\n",
       "18    78.5422\n",
       "19    85.6928\n",
       "20     92.842\n",
       "Name: c1, dtype: object"
      ]
     },
     "execution_count": 3,
     "metadata": {},
     "output_type": "execute_result"
    }
   ],
   "source": [
    "i=0\n",
    "c=100\n",
    "\n",
    "newdf = pd.DataFrame(columns=['c1'], index=range(21))\n",
    "while i<=20:\n",
    "    c = (c*((((Gplg[i]-100) * 1.0013268537752373) + ((Ganm[i]-100) * 0.0007147862868978098)) + 100)) /100\n",
    "    newdf.loc[i].c1 = c\n",
    "    i=i+1\n",
    "lagrS=newdf['c1']\n",
    "\n",
    "lagrS"
   ]
  },
  {
   "cell_type": "code",
   "execution_count": 4,
   "metadata": {},
   "outputs": [
    {
     "data": {
      "text/plain": [
       "0     92.8469\n",
       "1     99.9994\n",
       "2     92.2972\n",
       "3         100\n",
       "4         100\n",
       "5     91.6564\n",
       "6     109.104\n",
       "7     108.343\n",
       "8     99.9994\n",
       "9     92.2972\n",
       "10        100\n",
       "11        100\n",
       "12    91.6564\n",
       "13    109.104\n",
       "14    108.342\n",
       "15    92.2972\n",
       "16        100\n",
       "17        100\n",
       "18    91.6564\n",
       "19    109.104\n",
       "20    108.343\n",
       "Name: c1, dtype: object"
      ]
     },
     "execution_count": 4,
     "metadata": {},
     "output_type": "execute_result"
    }
   ],
   "source": [
    "w=lagrS.shift(1)\n",
    "w[0]=100\n",
    "lagrt = lagrS/w*100\n",
    "lagrt"
   ]
  },
  {
   "cell_type": "code",
   "execution_count": 5,
   "metadata": {},
   "outputs": [
    {
     "data": {
      "text/plain": [
       "0     106.078669\n",
       "1     106.078669\n",
       "2     106.078669\n",
       "3     105.065558\n",
       "4     105.065558\n",
       "5     105.065558\n",
       "6     105.065558\n",
       "7     106.078669\n",
       "8     105.693687\n",
       "9     105.693687\n",
       "10    104.680575\n",
       "11    104.680575\n",
       "12    104.680575\n",
       "13    104.680575\n",
       "14    107.638861\n",
       "15    107.638861\n",
       "16    106.625750\n",
       "17    106.625750\n",
       "18    106.625750\n",
       "19    106.625750\n",
       "20    106.078669\n",
       "Name: o_inflation, dtype: float64"
      ]
     },
     "execution_count": 5,
     "metadata": {},
     "output_type": "execute_result"
    }
   ],
   "source": [
    "from scipy.stats.mstats import gmean\n",
    "import pandas as pd\n",
    "import numpy as np\n",
    "c = pd.read_csv('vrp_ekz_prog.csv')\n",
    "\n",
    "inf = c['o_inflation']\n",
    "\n",
    "Dagr= inf *1.0131115767307421 + 100\n",
    "Dagr"
   ]
  },
  {
   "cell_type": "code",
   "execution_count": 6,
   "metadata": {},
   "outputs": [
    {
     "data": {
      "text/plain": [
       "0     786.744\n",
       "1     834.563\n",
       "2       817.1\n",
       "3     858.492\n",
       "4     901.983\n",
       "5     868.603\n",
       "6     995.687\n",
       "7     1144.33\n",
       "8     1209.48\n",
       "9     1179.87\n",
       "10     1235.1\n",
       "11    1292.91\n",
       "12    1240.51\n",
       "13    1416.79\n",
       "14    1652.24\n",
       "15    1641.46\n",
       "16    1750.22\n",
       "17    1866.19\n",
       "18    1823.82\n",
       "19     2121.7\n",
       "20    2438.45\n",
       "Name: c1, dtype: object"
      ]
     },
     "execution_count": 6,
     "metadata": {},
     "output_type": "execute_result"
    }
   ],
   "source": [
    "c=798.8\n",
    "i=0\n",
    "\n",
    "newdf = pd.DataFrame(columns=['c1'], index=range(21))\n",
    "\n",
    "while i<=20:\n",
    "    c = c*lagrt[i]*Dagr[i]/10000\n",
    "    newdf.loc[i].c1 = c    \n",
    "    i=i+1\n",
    "Nagr=newdf['c1']\n",
    "Nagr"
   ]
  },
  {
   "cell_type": "code",
   "execution_count": 7,
   "metadata": {},
   "outputs": [],
   "source": [
    "Nagr.to_csv(r'Nagr_Makat(2019-2025).csv', index = False)"
   ]
  },
  {
   "cell_type": "code",
   "execution_count": null,
   "metadata": {},
   "outputs": [],
   "source": []
  },
  {
   "cell_type": "code",
   "execution_count": null,
   "metadata": {},
   "outputs": [],
   "source": []
  },
  {
   "cell_type": "code",
   "execution_count": null,
   "metadata": {},
   "outputs": [],
   "source": []
  }
 ],
 "metadata": {
  "kernelspec": {
   "display_name": "Python 3",
   "language": "python",
   "name": "python3"
  },
  "language_info": {
   "codemirror_mode": {
    "name": "ipython",
    "version": 3
   },
   "file_extension": ".py",
   "mimetype": "text/x-python",
   "name": "python",
   "nbconvert_exporter": "python",
   "pygments_lexer": "ipython3",
   "version": "3.7.6"
  }
 },
 "nbformat": 4,
 "nbformat_minor": 4
}
