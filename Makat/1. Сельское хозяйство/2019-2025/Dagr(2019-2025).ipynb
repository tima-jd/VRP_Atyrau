{
 "cells": [
  {
   "cell_type": "code",
   "execution_count": 3,
   "metadata": {},
   "outputs": [],
   "source": [
    "from scipy.stats.mstats import gmean\n",
    "import pandas as pd\n",
    "import numpy as np\n",
    "c = pd.read_csv('vrp_ekz_prog.csv')\n",
    "inf = c['o_inflation']\n",
    "\n",
    "newdf = pd.DataFrame(columns=['Dagr_b','Dagr_o','Dagr_p'], index=range(12))\n",
    "\n",
    "Dagr= inf * 1.0131115767307421 + 100\n",
    "\n",
    "Dagr_b = Dagr[0:7].reset_index(drop = True)\n",
    "Dagr_o = Dagr[7:14].reset_index(drop = True)\n",
    "Dagr_p = Dagr[14:21].reset_index(drop = True)\n",
    "\n",
    "newdf.Dagr_b = Dagr_b\n",
    "newdf.Dagr_o = Dagr_o\n",
    "newdf.Dagr_p = Dagr_p\n",
    "\n",
    "newdf.to_csv(r'Dagr(2019-2025).csv')"
   ]
  },
  {
   "cell_type": "code",
   "execution_count": null,
   "metadata": {},
   "outputs": [],
   "source": []
  }
 ],
 "metadata": {
  "kernelspec": {
   "display_name": "Python 3",
   "language": "python",
   "name": "python3"
  },
  "language_info": {
   "codemirror_mode": {
    "name": "ipython",
    "version": 3
   },
   "file_extension": ".py",
   "mimetype": "text/x-python",
   "name": "python",
   "nbconvert_exporter": "python",
   "pygments_lexer": "ipython3",
   "version": "3.7.6"
  }
 },
 "nbformat": 4,
 "nbformat_minor": 4
}
