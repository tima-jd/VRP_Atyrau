{
 "cells": [
  {
   "cell_type": "code",
   "execution_count": 2,
   "metadata": {},
   "outputs": [
    {
     "data": {
      "text/plain": [
       "0     98.8701\n",
       "1     98.0681\n",
       "2     97.6166\n",
       "3     97.8031\n",
       "4     98.3175\n",
       "5     99.4523\n",
       "6     100.959\n",
       "7     98.8701\n",
       "8     98.0681\n",
       "9     97.6166\n",
       "10    97.8031\n",
       "11    98.3175\n",
       "12    99.4523\n",
       "13    100.959\n",
       "14    98.0681\n",
       "15    97.6166\n",
       "16    97.8031\n",
       "17    98.3175\n",
       "18    99.4523\n",
       "19    100.959\n",
       "20    98.8701\n",
       "Name: c1, dtype: object"
      ]
     },
     "execution_count": 2,
     "metadata": {},
     "output_type": "execute_result"
    }
   ],
   "source": [
    "import pandas as pd\n",
    "xlsx = pd.read_csv('vrp_ekz_prog.csv')\n",
    "l = ((xlsx['o_cattle_makat'] * xlsx['o_weight_cattle']).shift(1) + (xlsx['o_goats_makat'] * xlsx['o_weight_goats']).shift(1) + (xlsx['o_horses_makat']* xlsx['o_weight_horses']).shift(1) + (xlsx['o_poultry_makat'] * xlsx['o_weight_poultry']).shift(1))\n",
    "l[0] = 967.02\n",
    "Ganm = ((xlsx['o_cattle_makat'] * xlsx['o_weight_cattle']) + (xlsx['o_goats_makat'] * xlsx['o_weight_goats']) + (xlsx['o_horses_makat']* xlsx['o_weight_horses']) + (xlsx['o_poultry_makat'] * xlsx['o_weight_poultry']))/l\n",
    "\n",
    "newdf = pd.DataFrame(columns=['c1'], index=range(21))\n",
    "c=100\n",
    "i=0\n",
    "while i<=20:\n",
    "    c = (c*Ganm[i])\n",
    "    newdf.loc[i].c1 = c\n",
    "    i=i+1\n",
    "GanmS=newdf['c1']\n",
    "\n",
    "GanmS"
   ]
  },
  {
   "cell_type": "code",
   "execution_count": null,
   "metadata": {},
   "outputs": [],
   "source": []
  }
 ],
 "metadata": {
  "kernelspec": {
   "display_name": "Python 3",
   "language": "python",
   "name": "python3"
  },
  "language_info": {
   "codemirror_mode": {
    "name": "ipython",
    "version": 3
   },
   "file_extension": ".py",
   "mimetype": "text/x-python",
   "name": "python",
   "nbconvert_exporter": "python",
   "pygments_lexer": "ipython3",
   "version": "3.7.6"
  }
 },
 "nbformat": 4,
 "nbformat_minor": 4
}
