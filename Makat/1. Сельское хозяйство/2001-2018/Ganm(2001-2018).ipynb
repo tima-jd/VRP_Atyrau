{
 "cells": [
  {
   "cell_type": "code",
   "execution_count": 3,
   "metadata": {},
   "outputs": [
    {
     "data": {
      "text/plain": [
       "0     2113.26\n",
       "1     2615.38\n",
       "2     2694.38\n",
       "3     2866.28\n",
       "4     3428.08\n",
       "5     4299.58\n",
       "6     5613.38\n",
       "7     6658.28\n",
       "8     6640.96\n",
       "9     7286.16\n",
       "10    7323.96\n",
       "11    6846.26\n",
       "12    1452.26\n",
       "13     960.70\n",
       "14     795.70\n",
       "15     551.96\n",
       "16     521.96\n",
       "17     777.38\n",
       "18     967.02\n",
       "dtype: float64"
      ]
     },
     "execution_count": 3,
     "metadata": {},
     "output_type": "execute_result"
    }
   ],
   "source": [
    "import pandas as pd\n",
    "xlsx = pd.read_csv('vrp_ekz_fact.csv')\n",
    "Ganm = ((xlsx['o_cattle_makat'] * xlsx['o_weight_cattle']) + (xlsx['o_goats_makat'] * xlsx['o_weight_goats']) + (xlsx['o_horses_makat']* xlsx['o_weight_horses']) + (xlsx['o_poultry_makat'] * xlsx['o_weight_poultry']))/((xlsx['o_cattle_makat'] * xlsx['o_weight_cattle']).shift(1) + (xlsx['o_goats_makat'] * xlsx['o_weight_goats']).shift(1) + (xlsx['o_horses_makat']* xlsx['o_weight_horses']).shift(1) + (xlsx['o_poultry_makat'] * xlsx['o_weight_poultry']).shift(1)) * 100\n",
    "k = ((xlsx['o_cattle_makat'] * xlsx['o_weight_cattle']) + (xlsx['o_goats_makat'] * xlsx['o_weight_goats']) + (xlsx['o_horses_makat']* xlsx['o_weight_horses']) + (xlsx['o_poultry_makat'] * xlsx['o_weight_poultry']))\n",
    "k"
   ]
  },
  {
   "cell_type": "code",
   "execution_count": null,
   "metadata": {},
   "outputs": [],
   "source": []
  }
 ],
 "metadata": {
  "kernelspec": {
   "display_name": "Python 3",
   "language": "python",
   "name": "python3"
  },
  "language_info": {
   "codemirror_mode": {
    "name": "ipython",
    "version": 3
   },
   "file_extension": ".py",
   "mimetype": "text/x-python",
   "name": "python",
   "nbconvert_exporter": "python",
   "pygments_lexer": "ipython3",
   "version": "3.7.6"
  }
 },
 "nbformat": 4,
 "nbformat_minor": 4
}
