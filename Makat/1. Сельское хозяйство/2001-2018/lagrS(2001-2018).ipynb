{
 "cells": [
  {
   "cell_type": "code",
   "execution_count": 1,
   "metadata": {},
   "outputs": [
    {
     "data": {
      "text/plain": [
       "0     70.8794\n",
       "1     68.9656\n",
       "2     69.7243\n",
       "3     71.6765\n",
       "4     76.4789\n",
       "5     77.2437\n",
       "6     79.1748\n",
       "7     109.499\n",
       "8      109.28\n",
       "9     67.5348\n",
       "10     66.792\n",
       "11    72.5361\n",
       "12    60.7127\n",
       "13    45.9595\n",
       "14    88.4261\n",
       "15    90.5483\n",
       "16    99.4221\n",
       "17    98.3284\n",
       "18        100\n",
       "Name: c1, dtype: object"
      ]
     },
     "execution_count": 1,
     "metadata": {},
     "output_type": "execute_result"
    }
   ],
   "source": [
    "import pandas as pd\n",
    "import numpy as np\n",
    "xlsx = pd.read_csv('vrp_ekz_fact.csv')\n",
    "lagr = xlsx['o_ifo_agro_makat']\n",
    "\n",
    "i=18\n",
    "c=100\n",
    "newdf = pd.DataFrame(columns=['c1'], index=range(19))\n",
    "while i>0:\n",
    "    c = (c/lagr[i]) * 100\n",
    "    i=i-1\n",
    "    newdf.loc[i].c1 = c\n",
    "lagrS=newdf['c1']\n",
    "lagrS[18]=100\n",
    "\n",
    "lagrS"
   ]
  },
  {
   "cell_type": "code",
   "execution_count": null,
   "metadata": {},
   "outputs": [],
   "source": []
  }
 ],
 "metadata": {
  "kernelspec": {
   "display_name": "Python 3",
   "language": "python",
   "name": "python3"
  },
  "language_info": {
   "codemirror_mode": {
    "name": "ipython",
    "version": 3
   },
   "file_extension": ".py",
   "mimetype": "text/x-python",
   "name": "python",
   "nbconvert_exporter": "python",
   "pygments_lexer": "ipython3",
   "version": "3.7.6"
  }
 },
 "nbformat": 4,
 "nbformat_minor": 4
}
