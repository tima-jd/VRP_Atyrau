{
 "cells": [
  {
   "cell_type": "code",
   "execution_count": 3,
   "metadata": {},
   "outputs": [
    {
     "data": {
      "text/plain": [
       "0     0.21\n",
       "1     0.23\n",
       "2     0.23\n",
       "3     0.21\n",
       "4     0.32\n",
       "5     0.33\n",
       "6     0.33\n",
       "7     0.22\n",
       "8     0.22\n",
       "9     0.23\n",
       "10    0.23\n",
       "11    0.73\n",
       "12    0.23\n",
       "13    0.12\n",
       "14    0.17\n",
       "15    0.14\n",
       "16    0.16\n",
       "17    0.14\n",
       "18    0.14\n",
       "dtype: float64"
      ]
     },
     "execution_count": 3,
     "metadata": {},
     "output_type": "execute_result"
    }
   ],
   "source": [
    "import pandas as pd\n",
    "xlsx = pd.read_csv('vrp_ekz_fact.csv')\n",
    "Gplg = ((xlsx['o_potato_makat'] + xlsx['o_grain_makat'] + xlsx['o_vegetables_makat'])/(xlsx['o_potato_makat'].shift(1) + xlsx['o_grain_makat'].shift(1) + xlsx['o_vegetables_makat'].shift(1))) * 100\n",
    "Gplg_f = (xlsx['o_potato_makat'] + xlsx['o_grain_makat'] + xlsx['o_vegetables_makat'])\n",
    "Gplg_f"
   ]
  },
  {
   "cell_type": "code",
   "execution_count": null,
   "metadata": {},
   "outputs": [],
   "source": []
  }
 ],
 "metadata": {
  "kernelspec": {
   "display_name": "Python 3",
   "language": "python",
   "name": "python3"
  },
  "language_info": {
   "codemirror_mode": {
    "name": "ipython",
    "version": 3
   },
   "file_extension": ".py",
   "mimetype": "text/x-python",
   "name": "python",
   "nbconvert_exporter": "python",
   "pygments_lexer": "ipython3",
   "version": "3.7.6"
  }
 },
 "nbformat": 4,
 "nbformat_minor": 4
}
