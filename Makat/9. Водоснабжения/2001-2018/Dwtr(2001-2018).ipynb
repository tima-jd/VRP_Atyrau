{
 "cells": [
  {
   "cell_type": "code",
   "execution_count": 2,
   "metadata": {},
   "outputs": [
    {
     "data": {
      "text/plain": [
       "0            NaN\n",
       "1     106.251714\n",
       "2     103.848900\n",
       "3     403.225806\n",
       "4      93.911917\n",
       "5      97.286780\n",
       "6     476.190476\n",
       "7     262.762763\n",
       "8     649.350649\n",
       "9     131.103074\n",
       "10     15.813961\n",
       "11    110.211426\n",
       "12    103.697089\n",
       "13    102.697876\n",
       "14     83.150191\n",
       "15    146.661462\n",
       "16    110.605757\n",
       "17     66.201077\n",
       "18    100.879513\n",
       "dtype: float64"
      ]
     },
     "execution_count": 2,
     "metadata": {},
     "output_type": "execute_result"
    }
   ],
   "source": [
    "from scipy.stats.mstats import gmean\n",
    "import pandas as pd\n",
    "csv = pd.read_csv('vrp_ekz_fact.csv')\n",
    "\n",
    "inf = csv['o_inflation']\n",
    "\n",
    "lwtr = csv['o_ifo_water_makat']\n",
    "Nwtr = csv['o_prod_water_makat']\n",
    "\n",
    "Dwtr = Nwtr/Nwtr.shift(1)/lwtr *10000\n",
    "Dwtr"
   ]
  },
  {
   "cell_type": "code",
   "execution_count": null,
   "metadata": {},
   "outputs": [],
   "source": []
  },
  {
   "cell_type": "code",
   "execution_count": null,
   "metadata": {},
   "outputs": [],
   "source": []
  }
 ],
 "metadata": {
  "kernelspec": {
   "display_name": "Python 3",
   "language": "python",
   "name": "python3"
  },
  "language_info": {
   "codemirror_mode": {
    "name": "ipython",
    "version": 3
   },
   "file_extension": ".py",
   "mimetype": "text/x-python",
   "name": "python",
   "nbconvert_exporter": "python",
   "pygments_lexer": "ipython3",
   "version": "3.7.6"
  }
 },
 "nbformat": 4,
 "nbformat_minor": 4
}
