{
 "cells": [
  {
   "cell_type": "code",
   "execution_count": 116,
   "metadata": {},
   "outputs": [
    {
     "data": {
      "text/plain": [
       "0            NaN\n",
       "1     121.626227\n",
       "2     105.076317\n",
       "3     102.900990\n",
       "4     110.420848\n",
       "5     117.110005\n",
       "6     102.537730\n",
       "7      98.396622\n",
       "8     123.019119\n",
       "9     118.579744\n",
       "10    112.605452\n",
       "11    100.797869\n",
       "12     94.463646\n",
       "13    107.205110\n",
       "14     99.198126\n",
       "15    103.475814\n",
       "16    106.220358\n",
       "17    119.281404\n",
       "18    110.443446\n",
       "dtype: float64"
      ]
     },
     "execution_count": 116,
     "metadata": {},
     "output_type": "execute_result"
    }
   ],
   "source": [
    "import pandas as pd\n",
    "csv = pd.read_csv('vrp_ekz_fact.csv')\n",
    "\n",
    "csv_zhylyoi    = pd.read_csv('ind_Zhylyoi(2001-2018).csv')\n",
    "csv_atyrau     = pd.read_csv('ind_Atyrau(2001-2018).csv')\n",
    "csv_inder      = pd.read_csv('ind_Inder(2001-2018).csv')\n",
    "csv_isatai     = pd.read_csv('ind_Isatai(2001-2018).csv')\n",
    "csv_kurmangazy = pd.read_csv('ind_Kurmangazy(2001-2018).csv')\n",
    "csv_kzylkoga   = pd.read_csv('ind_Kzylkoga(2001-2018).csv')\n",
    "csv_makat      = pd.read_csv('ind_Makat(2001-2018).csv')\n",
    "csv_makhambet  = pd.read_csv('ind_Makhambet(2001-2018).csv')\n",
    "\n",
    "zhylyoi_N    =csv_zhylyoi   ['Nind'] \n",
    "atyrau_N     =csv_atyrau    ['Nind']\n",
    "inder_N      =csv_inder     ['Nind']\n",
    "isatai_N     =csv_isatai    ['Nind']\n",
    "kurmangazy_N =csv_kurmangazy['Nind']\n",
    "kzylkoga_N   =csv_kzylkoga  ['Nind']\n",
    "makat_N      =csv_makat     ['Nind']\n",
    "makhambet_N  =csv_makhambet ['Nind']\n",
    "\n",
    "\n",
    "agr_l = csv['o_ifo_agro']\n",
    "agr_p = csv['o_prod_agro']\n",
    "\n",
    "con_l = csv['o_ifo_building']\n",
    "con_p = csv['o_prod_building']\n",
    "\n",
    "min_l = csv['o_ifo_mining']\n",
    "min_p = csv['o_prod_mining']\n",
    "\n",
    "man_l = csv['o_ifo_man']\n",
    "man_p = csv['o_prod_man']\n",
    "\n",
    "elc_l = csv['o_ifo_energo']\n",
    "elc_p = csv['o_prod_energo']\n",
    "\n",
    "wtr_l = csv['o_ifo_water']\n",
    "wtr_p = csv['o_prod_water']\n",
    "\n",
    "Nind = zhylyoi_N+atyrau_N+inder_N+isatai_N+kurmangazy_N+kzylkoga_N+makat_N+makhambet_N \n",
    "lind = ((min_p.shift(1)*min_l)+(wtr_p.shift(1)*wtr_l) +(elc_p.shift(1)*elc_l)+(man_p.shift(1)*man_l))/Nind.shift(1)\n",
    "\n",
    "lgds = ((agr_p.shift(1)*agr_l)+(Nind.shift(1)*lind)+(con_p.shift(1)*con_l))/(agr_p.shift(1)+Nind.shift(1)+con_p.shift(1))\n",
    "lgds"
   ]
  },
  {
   "cell_type": "code",
   "execution_count": null,
   "metadata": {},
   "outputs": [],
   "source": []
  },
  {
   "cell_type": "code",
   "execution_count": 117,
   "metadata": {},
   "outputs": [],
   "source": [
    "lgds.to_csv(r'lgds_AO(2001-2018).csv',index =False)"
   ]
  },
  {
   "cell_type": "code",
   "execution_count": null,
   "metadata": {},
   "outputs": [],
   "source": []
  }
 ],
 "metadata": {
  "kernelspec": {
   "display_name": "Python 3",
   "language": "python",
   "name": "python3"
  },
  "language_info": {
   "codemirror_mode": {
    "name": "ipython",
    "version": 3
   },
   "file_extension": ".py",
   "mimetype": "text/x-python",
   "name": "python",
   "nbconvert_exporter": "python",
   "pygments_lexer": "ipython3",
   "version": "3.7.6"
  }
 },
 "nbformat": 4,
 "nbformat_minor": 4
}
