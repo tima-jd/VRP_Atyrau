{
 "cells": [
  {
   "cell_type": "code",
   "execution_count": 1,
   "metadata": {},
   "outputs": [
    {
     "data": {
      "text/plain": [
       "0            NaN\n",
       "1            NaN\n",
       "2            NaN\n",
       "3            NaN\n",
       "4            inf\n",
       "5     100.034281\n",
       "6     100.006988\n",
       "7      96.928823\n",
       "8     100.149085\n",
       "9      97.699454\n",
       "10    103.350566\n",
       "11     92.699885\n",
       "12     98.323388\n",
       "13     99.754641\n",
       "14     96.513181\n",
       "15    100.982153\n",
       "16    100.844323\n",
       "17     99.543892\n",
       "18    100.962548\n",
       "dtype: float64"
      ]
     },
     "execution_count": 1,
     "metadata": {},
     "output_type": "execute_result"
    }
   ],
   "source": [
    "import pandas as pd\n",
    "csv = pd.read_csv('vrp_ekz_fact.csv')\n",
    "\n",
    "ltrn = csv['o_ifo_info']\n",
    "Ntrn = csv['o_prod_info']\n",
    "\n",
    "Dtrn =(Ntrn/Ntrn.shift(1)/ltrn) *10000\n",
    "Dtrn"
   ]
  },
  {
   "cell_type": "code",
   "execution_count": null,
   "metadata": {},
   "outputs": [],
   "source": []
  }
 ],
 "metadata": {
  "kernelspec": {
   "display_name": "Python 3",
   "language": "python",
   "name": "python3"
  },
  "language_info": {
   "codemirror_mode": {
    "name": "ipython",
    "version": 3
   },
   "file_extension": ".py",
   "mimetype": "text/x-python",
   "name": "python",
   "nbconvert_exporter": "python",
   "pygments_lexer": "ipython3",
   "version": "3.7.6"
  }
 },
 "nbformat": 4,
 "nbformat_minor": 4
}
