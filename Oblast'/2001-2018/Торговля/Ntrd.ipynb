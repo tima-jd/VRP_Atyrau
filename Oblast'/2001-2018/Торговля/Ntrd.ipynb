{
 "cells": [
  {
   "cell_type": "code",
   "execution_count": 8,
   "metadata": {},
   "outputs": [
    {
     "data": {
      "text/plain": [
       "0        7354.2\n",
       "1        9775.0\n",
       "2       11971.0\n",
       "3       16701.3\n",
       "4       73385.6\n",
       "5       99848.1\n",
       "6      135846.8\n",
       "7      161576.5\n",
       "8      202728.2\n",
       "9      223065.7\n",
       "10     330999.5\n",
       "11     292987.6\n",
       "12     314017.1\n",
       "13     352863.3\n",
       "14     431662.6\n",
       "15     447491.7\n",
       "16     608593.0\n",
       "17    1699489.7\n",
       "18    3290583.0\n",
       "dtype: float64"
      ]
     },
     "execution_count": 8,
     "metadata": {},
     "output_type": "execute_result"
    }
   ],
   "source": [
    "import pandas as pd\n",
    "csv = pd.read_csv('vrp_ekz_fact.csv')\n",
    "\n",
    "atyrau_ret = csv['o_prod_retail_atyrau']\n",
    "atyrau_whl = csv['o_prod_trade_atyrau']\n",
    "\n",
    "inder_ret = csv['o_prod_retail_inder']\n",
    "inder_whl = csv['o_prod_trade_inder']\n",
    "\n",
    "isatai_ret = csv['o_prod_retail_isatai']\n",
    "isatai_whl = csv['o_prod_trade_isatai']\n",
    "\n",
    "kurmangazy_ret = csv['o_prod_retail_kurmangazy']\n",
    "kurmangazy_whl = csv['o_prod_trade_kurmangazy']\n",
    "\n",
    "kzylkoga_ret = csv['o_prod_retail_kzylkoga']\n",
    "kzylkoga_whl = csv['o_prod_trade_kzylkoga']\n",
    "\n",
    "makhambet_ret = csv['o_prod_retail_makhambet']\n",
    "makhambet_whl = csv['o_prod_trade_makhambet']\n",
    "\n",
    "makat_ret = csv['o_prod_retail_makat']\n",
    "makat_whl = csv['o_prod_trade_makat']\n",
    "\n",
    "zhylyoi_ret = csv['o_prod_retail_zhylyoi']\n",
    "zhylyoi_whl = csv['o_prod_trade_zhylyoi']\n",
    "\n",
    "Ntrd = atyrau_whl+atyrau_ret + inder_whl+inder_ret + isatai_whl+ isatai_ret + kurmangazy_whl+kurmangazy_ret + kzylkoga_whl+kzylkoga_ret + makhambet_whl+makhambet_ret + makat_whl+makat_ret + zhylyoi_whl+zhylyoi_ret\n",
    "\n",
    "Ntrd"
   ]
  },
  {
   "cell_type": "code",
   "execution_count": null,
   "metadata": {},
   "outputs": [],
   "source": []
  }
 ],
 "metadata": {
  "kernelspec": {
   "display_name": "Python 3",
   "language": "python",
   "name": "python3"
  },
  "language_info": {
   "codemirror_mode": {
    "name": "ipython",
    "version": 3
   },
   "file_extension": ".py",
   "mimetype": "text/x-python",
   "name": "python",
   "nbconvert_exporter": "python",
   "pygments_lexer": "ipython3",
   "version": "3.7.6"
  }
 },
 "nbformat": 4,
 "nbformat_minor": 4
}
