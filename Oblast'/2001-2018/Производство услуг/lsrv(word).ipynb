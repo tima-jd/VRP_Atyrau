{
 "cells": [
  {
   "cell_type": "code",
   "execution_count": 14,
   "metadata": {},
   "outputs": [
    {
     "name": "stderr",
     "output_type": "stream",
     "text": [
      "C:\\Users\\HP\\anaconda3\\lib\\site-packages\\ipykernel_launcher.py:6: SettingWithCopyWarning: \n",
      "A value is trying to be set on a copy of a slice from a DataFrame\n",
      "\n",
      "See the caveats in the documentation: https://pandas.pydata.org/pandas-docs/stable/user_guide/indexing.html#returning-a-view-versus-a-copy\n",
      "  \n",
      "C:\\Users\\HP\\anaconda3\\lib\\site-packages\\ipykernel_launcher.py:8: SettingWithCopyWarning: \n",
      "A value is trying to be set on a copy of a slice from a DataFrame\n",
      "\n",
      "See the caveats in the documentation: https://pandas.pydata.org/pandas-docs/stable/user_guide/indexing.html#returning-a-view-versus-a-copy\n",
      "  \n",
      "C:\\Users\\HP\\anaconda3\\lib\\site-packages\\ipykernel_launcher.py:10: SettingWithCopyWarning: \n",
      "A value is trying to be set on a copy of a slice from a DataFrame\n",
      "\n",
      "See the caveats in the documentation: https://pandas.pydata.org/pandas-docs/stable/user_guide/indexing.html#returning-a-view-versus-a-copy\n",
      "  # Remove the CWD from sys.path while we load stuff.\n",
      "C:\\Users\\HP\\anaconda3\\lib\\site-packages\\ipykernel_launcher.py:12: SettingWithCopyWarning: \n",
      "A value is trying to be set on a copy of a slice from a DataFrame\n",
      "\n",
      "See the caveats in the documentation: https://pandas.pydata.org/pandas-docs/stable/user_guide/indexing.html#returning-a-view-versus-a-copy\n",
      "  if sys.path[0] == '':\n",
      "C:\\Users\\HP\\anaconda3\\lib\\site-packages\\ipykernel_launcher.py:15: SettingWithCopyWarning: \n",
      "A value is trying to be set on a copy of a slice from a DataFrame\n",
      "\n",
      "See the caveats in the documentation: https://pandas.pydata.org/pandas-docs/stable/user_guide/indexing.html#returning-a-view-versus-a-copy\n",
      "  from ipykernel import kernelapp as app\n",
      "C:\\Users\\HP\\anaconda3\\lib\\site-packages\\ipykernel_launcher.py:18: SettingWithCopyWarning: \n",
      "A value is trying to be set on a copy of a slice from a DataFrame\n",
      "\n",
      "See the caveats in the documentation: https://pandas.pydata.org/pandas-docs/stable/user_guide/indexing.html#returning-a-view-versus-a-copy\n",
      "C:\\Users\\HP\\anaconda3\\lib\\site-packages\\ipykernel_launcher.py:20: SettingWithCopyWarning: \n",
      "A value is trying to be set on a copy of a slice from a DataFrame\n",
      "\n",
      "See the caveats in the documentation: https://pandas.pydata.org/pandas-docs/stable/user_guide/indexing.html#returning-a-view-versus-a-copy\n",
      "C:\\Users\\HP\\anaconda3\\lib\\site-packages\\ipykernel_launcher.py:22: SettingWithCopyWarning: \n",
      "A value is trying to be set on a copy of a slice from a DataFrame\n",
      "\n",
      "See the caveats in the documentation: https://pandas.pydata.org/pandas-docs/stable/user_guide/indexing.html#returning-a-view-versus-a-copy\n",
      "C:\\Users\\HP\\anaconda3\\lib\\site-packages\\ipykernel_launcher.py:24: SettingWithCopyWarning: \n",
      "A value is trying to be set on a copy of a slice from a DataFrame\n",
      "\n",
      "See the caveats in the documentation: https://pandas.pydata.org/pandas-docs/stable/user_guide/indexing.html#returning-a-view-versus-a-copy\n"
     ]
    },
    {
     "data": {
      "text/plain": [
       "0            NaN\n",
       "1     121.800000\n",
       "2     116.300000\n",
       "3     119.627560\n",
       "4     112.967079\n",
       "5      37.677299\n",
       "6      74.471116\n",
       "7     120.890654\n",
       "8     104.867808\n",
       "9     103.016220\n",
       "10    124.263960\n",
       "11     90.361402\n",
       "12    101.175184\n",
       "13    102.257348\n",
       "14    110.195748\n",
       "15    100.324229\n",
       "16    110.189294\n",
       "17    186.970729\n",
       "18    158.869152\n",
       "dtype: float64"
      ]
     },
     "execution_count": 14,
     "metadata": {},
     "output_type": "execute_result"
    }
   ],
   "source": [
    "#В формуле из word документа(методология) используется колонка ltrd, когда как в excel файле вместо ltrd необходимо применить lwhl и lret\n",
    "\n",
    "import pandas as pd\n",
    "csv = pd.read_csv('vrp_ekz_fact.csv')\n",
    "csv_ltrd = pd.read_csv('ltrd_AO(2001-2018).csv')\n",
    "\n",
    "Ntrn = csv['o_prod_transp']\n",
    "Ntrn[:5] = 0\n",
    "Nimt = csv['o_prod_info']\n",
    "Nimt[:4] = 0\n",
    "Nest = csv['o_prod_estate']\n",
    "Nest[:2] = 0\n",
    "Noth = csv['o_prod_other']\n",
    "Noth[:2] = 0\n",
    "Nret = csv['o_prod_retail']\n",
    "Nwhl = csv['o_prod_trade']\n",
    "Nwhl[:4] = 0\n",
    "\n",
    "ltrn = csv['o_ifo_transp']\n",
    "ltrn[:5] = 0\n",
    "limt = csv['o_ifo_info']\n",
    "limt[:4] = 0\n",
    "lest = csv['o_ifo_estate']\n",
    "lest[:14] = 0\n",
    "loth = csv['o_ifo_other']\n",
    "loth[:14] = 0\n",
    "ltrd = csv_ltrd['0']\n",
    "\n",
    "Ntrd = Nret+Nwhl\n",
    "\n",
    "Nsrv = Ntrd+Ntrn+Nimt+Nest+Noth\n",
    "\n",
    "lsrv = ((ltrd*Ntrd.shift(1))+(ltrn*Ntrn.shift(1))+(limt*Nimt.shift(1)) + (lest*Nest.shift(1)) + (loth*Noth.shift(1)))/Nsrv.shift(1)\n",
    "lsrv"
   ]
  },
  {
   "cell_type": "code",
   "execution_count": null,
   "metadata": {},
   "outputs": [],
   "source": []
  }
 ],
 "metadata": {
  "kernelspec": {
   "display_name": "Python 3",
   "language": "python",
   "name": "python3"
  },
  "language_info": {
   "codemirror_mode": {
    "name": "ipython",
    "version": 3
   },
   "file_extension": ".py",
   "mimetype": "text/x-python",
   "name": "python",
   "nbconvert_exporter": "python",
   "pygments_lexer": "ipython3",
   "version": "3.7.6"
  }
 },
 "nbformat": 4,
 "nbformat_minor": 4
}
