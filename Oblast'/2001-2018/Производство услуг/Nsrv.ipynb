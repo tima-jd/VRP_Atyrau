{
 "cells": [
  {
   "cell_type": "code",
   "execution_count": 7,
   "metadata": {},
   "outputs": [
    {
     "data": {
      "text/plain": [
       "0       30319.2\n",
       "1       31196.0\n",
       "2       36693.2\n",
       "3       54447.7\n",
       "4       82345.1\n",
       "5      232046.8\n",
       "6      225764.2\n",
       "7      313122.4\n",
       "8      428155.9\n",
       "9      410563.9\n",
       "10     572223.2\n",
       "11     552915.2\n",
       "12     612912.6\n",
       "13     714175.6\n",
       "14     674086.6\n",
       "15     905735.7\n",
       "16    1090262.8\n",
       "17    2305494.9\n",
       "18    4037519.2\n",
       "dtype: float64"
      ]
     },
     "execution_count": 7,
     "metadata": {},
     "output_type": "execute_result"
    }
   ],
   "source": [
    "import pandas as pd\n",
    "csv = pd.read_csv('vrp_ekz_fact.csv')\n",
    "Ntrn = csv['o_prod_transp']\n",
    "Nimt = csv['o_prod_info']\n",
    "Nest = csv['o_prod_estate']\n",
    "Noth = csv['o_prod_other']\n",
    "\n",
    "Nret = csv['o_prod_retail']\n",
    "Nwhl = csv['o_prod_trade']\n",
    "\n",
    "Ntrd = Nret+Nwhl\n",
    "\n",
    "Nsrv = Ntrd+Ntrn+Nimt+Nest+Noth\n",
    "Nsrv"
   ]
  },
  {
   "cell_type": "code",
   "execution_count": null,
   "metadata": {},
   "outputs": [],
   "source": []
  }
 ],
 "metadata": {
  "kernelspec": {
   "display_name": "Python 3",
   "language": "python",
   "name": "python3"
  },
  "language_info": {
   "codemirror_mode": {
    "name": "ipython",
    "version": 3
   },
   "file_extension": ".py",
   "mimetype": "text/x-python",
   "name": "python",
   "nbconvert_exporter": "python",
   "pygments_lexer": "ipython3",
   "version": "3.7.6"
  }
 },
 "nbformat": 4,
 "nbformat_minor": 4
}
