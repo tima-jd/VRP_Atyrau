{
 "cells": [
  {
   "cell_type": "code",
   "execution_count": 2,
   "metadata": {},
   "outputs": [
    {
     "name": "stderr",
     "output_type": "stream",
     "text": [
      "C:\\Users\\HP\\anaconda3\\lib\\site-packages\\ipykernel_launcher.py:6: SettingWithCopyWarning: \n",
      "A value is trying to be set on a copy of a slice from a DataFrame\n",
      "\n",
      "See the caveats in the documentation: https://pandas.pydata.org/pandas-docs/stable/user_guide/indexing.html#returning-a-view-versus-a-copy\n",
      "  \n",
      "C:\\Users\\HP\\anaconda3\\lib\\site-packages\\ipykernel_launcher.py:8: SettingWithCopyWarning: \n",
      "A value is trying to be set on a copy of a slice from a DataFrame\n",
      "\n",
      "See the caveats in the documentation: https://pandas.pydata.org/pandas-docs/stable/user_guide/indexing.html#returning-a-view-versus-a-copy\n",
      "  \n",
      "C:\\Users\\HP\\anaconda3\\lib\\site-packages\\ipykernel_launcher.py:10: SettingWithCopyWarning: \n",
      "A value is trying to be set on a copy of a slice from a DataFrame\n",
      "\n",
      "See the caveats in the documentation: https://pandas.pydata.org/pandas-docs/stable/user_guide/indexing.html#returning-a-view-versus-a-copy\n",
      "  # Remove the CWD from sys.path while we load stuff.\n",
      "C:\\Users\\HP\\anaconda3\\lib\\site-packages\\ipykernel_launcher.py:12: SettingWithCopyWarning: \n",
      "A value is trying to be set on a copy of a slice from a DataFrame\n",
      "\n",
      "See the caveats in the documentation: https://pandas.pydata.org/pandas-docs/stable/user_guide/indexing.html#returning-a-view-versus-a-copy\n",
      "  if sys.path[0] == '':\n",
      "C:\\Users\\HP\\anaconda3\\lib\\site-packages\\ipykernel_launcher.py:15: SettingWithCopyWarning: \n",
      "A value is trying to be set on a copy of a slice from a DataFrame\n",
      "\n",
      "See the caveats in the documentation: https://pandas.pydata.org/pandas-docs/stable/user_guide/indexing.html#returning-a-view-versus-a-copy\n",
      "  from ipykernel import kernelapp as app\n",
      "C:\\Users\\HP\\anaconda3\\lib\\site-packages\\ipykernel_launcher.py:18: SettingWithCopyWarning: \n",
      "A value is trying to be set on a copy of a slice from a DataFrame\n",
      "\n",
      "See the caveats in the documentation: https://pandas.pydata.org/pandas-docs/stable/user_guide/indexing.html#returning-a-view-versus-a-copy\n",
      "C:\\Users\\HP\\anaconda3\\lib\\site-packages\\ipykernel_launcher.py:20: SettingWithCopyWarning: \n",
      "A value is trying to be set on a copy of a slice from a DataFrame\n",
      "\n",
      "See the caveats in the documentation: https://pandas.pydata.org/pandas-docs/stable/user_guide/indexing.html#returning-a-view-versus-a-copy\n",
      "C:\\Users\\HP\\anaconda3\\lib\\site-packages\\ipykernel_launcher.py:22: SettingWithCopyWarning: \n",
      "A value is trying to be set on a copy of a slice from a DataFrame\n",
      "\n",
      "See the caveats in the documentation: https://pandas.pydata.org/pandas-docs/stable/user_guide/indexing.html#returning-a-view-versus-a-copy\n",
      "C:\\Users\\HP\\anaconda3\\lib\\site-packages\\ipykernel_launcher.py:24: SettingWithCopyWarning: \n",
      "A value is trying to be set on a copy of a slice from a DataFrame\n",
      "\n",
      "See the caveats in the documentation: https://pandas.pydata.org/pandas-docs/stable/user_guide/indexing.html#returning-a-view-versus-a-copy\n"
     ]
    },
    {
     "data": {
      "text/plain": [
       "0            NaN\n",
       "1     109.127459\n",
       "2     117.512474\n",
       "3     120.169936\n",
       "4     379.558160\n",
       "5     747.925022\n",
       "6     130.644650\n",
       "7     114.727184\n",
       "8     130.390396\n",
       "9      93.083610\n",
       "10    112.160390\n",
       "11    106.932595\n",
       "12    109.563530\n",
       "13    113.949371\n",
       "14     85.653645\n",
       "15    133.930646\n",
       "16    109.242167\n",
       "17    113.099153\n",
       "18    110.232805\n",
       "dtype: float64"
      ]
     },
     "execution_count": 2,
     "metadata": {},
     "output_type": "execute_result"
    }
   ],
   "source": [
    "import pandas as pd\n",
    "csv = pd.read_csv('vrp_ekz_fact.csv')\n",
    "csv_ltrd = pd.read_csv('ltrd_AO(2001-2018).csv')\n",
    "\n",
    "Ntrn = csv['o_prod_transp']\n",
    "Ntrn[:5] = 0\n",
    "Nimt = csv['o_prod_info']\n",
    "Nimt[:4] = 0\n",
    "Nest = csv['o_prod_estate']\n",
    "Nest[:2] = 0\n",
    "Noth = csv['o_prod_other']\n",
    "Noth[:2] = 0\n",
    "Nret = csv['o_prod_retail']\n",
    "Nwhl = csv['o_prod_trade']\n",
    "Nwhl[:4] = 0\n",
    "\n",
    "ltrn = csv['o_ifo_transp']\n",
    "ltrn[:5] = 0\n",
    "limt = csv['o_ifo_info']\n",
    "limt[:4] = 0\n",
    "lest = csv['o_ifo_estate']\n",
    "lest[:14] = 0\n",
    "loth = csv['o_ifo_other']\n",
    "loth[:14] = 0\n",
    "ltrd = csv_ltrd['0']\n",
    "\n",
    "Ntrd = Nret+Nwhl\n",
    "Nsrv = Ntrd+Ntrn+Nimt+Nest+Noth\n",
    "\n",
    "lsrv = ((ltrd*Ntrd.shift(1))+(ltrn*Ntrn.shift(1))+(limt*Nimt.shift(1)) + (lest*Nest.shift(1)) + (loth*Noth.shift(1)))/Nsrv.shift(1)\n",
    "\n",
    "Dsrv = Nsrv/Nsrv.shift(1)/lsrv * 10000\n",
    "Dsrv"
   ]
  },
  {
   "cell_type": "code",
   "execution_count": null,
   "metadata": {},
   "outputs": [],
   "source": []
  }
 ],
 "metadata": {
  "kernelspec": {
   "display_name": "Python 3",
   "language": "python",
   "name": "python3"
  },
  "language_info": {
   "codemirror_mode": {
    "name": "ipython",
    "version": 3
   },
   "file_extension": ".py",
   "mimetype": "text/x-python",
   "name": "python",
   "nbconvert_exporter": "python",
   "pygments_lexer": "ipython3",
   "version": "3.7.6"
  }
 },
 "nbformat": 4,
 "nbformat_minor": 4
}
