{
 "cells": [
  {
   "cell_type": "code",
   "execution_count": 9,
   "metadata": {},
   "outputs": [
    {
     "data": {
      "text/plain": [
       "0            NaN\n",
       "1            NaN\n",
       "2            NaN\n",
       "3            NaN\n",
       "4            NaN\n",
       "5            inf\n",
       "6      55.456879\n",
       "7     122.425619\n",
       "8     147.372818\n",
       "9      79.503707\n",
       "10    118.625174\n",
       "11    101.814905\n",
       "12    105.085008\n",
       "13    119.247675\n",
       "14     60.092759\n",
       "15    199.533075\n",
       "16    104.093246\n",
       "17    124.468838\n",
       "18    116.154183\n",
       "dtype: float64"
      ]
     },
     "execution_count": 9,
     "metadata": {},
     "output_type": "execute_result"
    }
   ],
   "source": [
    "import pandas as pd\n",
    "csv = pd.read_csv('vrp_ekz_fact.csv')\n",
    "\n",
    "ltrn = csv['o_ifo_transp']\n",
    "Ntrn = csv['o_prod_transp']\n",
    "\n",
    "Dtrn =(Ntrn/Ntrn.shift(1)/ltrn) *10000\n",
    "Dtrn"
   ]
  },
  {
   "cell_type": "code",
   "execution_count": null,
   "metadata": {},
   "outputs": [],
   "source": []
  }
 ],
 "metadata": {
  "kernelspec": {
   "display_name": "Python 3",
   "language": "python",
   "name": "python3"
  },
  "language_info": {
   "codemirror_mode": {
    "name": "ipython",
    "version": 3
   },
   "file_extension": ".py",
   "mimetype": "text/x-python",
   "name": "python",
   "nbconvert_exporter": "python",
   "pygments_lexer": "ipython3",
   "version": "3.7.6"
  }
 },
 "nbformat": 4,
 "nbformat_minor": 4
}
