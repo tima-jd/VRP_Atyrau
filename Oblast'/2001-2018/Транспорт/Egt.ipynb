{
 "cells": [
  {
   "cell_type": "code",
   "execution_count": 2,
   "metadata": {},
   "outputs": [
    {
     "data": {
      "text/plain": [
       "1.4575111432282974"
      ]
     },
     "execution_count": 2,
     "metadata": {},
     "output_type": "execute_result"
    }
   ],
   "source": [
    "import pandas as pd\n",
    "csv = pd.read_csv('vrp_ekz_fact.csv')\n",
    "\n",
    "ltrnS_csv = pd.read_csv('ltrnS_AO(2001-2018).csv')\n",
    "lgtS_csv = pd.read_csv('lgtS_AO(2001-2018).csv')\n",
    "\n",
    "ltrnS = ltrnS_csv['c1']\n",
    "lgtS = lgtS_csv['c1'] \n",
    "\n",
    "ltrnS[:4] = 0 \n",
    "\n",
    "Egt = ((lgtS - lgtS.mean()) * (ltrnS - ltrnS.mean())).sum() / ((lgtS - lgtS.mean())**2).sum()\n",
    "Egt"
   ]
  },
  {
   "cell_type": "code",
   "execution_count": null,
   "metadata": {},
   "outputs": [],
   "source": []
  }
 ],
 "metadata": {
  "kernelspec": {
   "display_name": "Python 3",
   "language": "python",
   "name": "python3"
  },
  "language_info": {
   "codemirror_mode": {
    "name": "ipython",
    "version": 3
   },
   "file_extension": ".py",
   "mimetype": "text/x-python",
   "name": "python",
   "nbconvert_exporter": "python",
   "pygments_lexer": "ipython3",
   "version": "3.7.6"
  }
 },
 "nbformat": 4,
 "nbformat_minor": 4
}
