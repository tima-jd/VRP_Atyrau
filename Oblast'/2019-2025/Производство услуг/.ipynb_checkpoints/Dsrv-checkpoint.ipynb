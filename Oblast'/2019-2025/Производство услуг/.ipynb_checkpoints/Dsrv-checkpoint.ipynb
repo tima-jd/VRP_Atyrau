{
 "cells": [
  {
   "cell_type": "code",
   "execution_count": 3,
   "metadata": {},
   "outputs": [
    {
     "data": {
      "text/plain": [
       "0     105.420000\n",
       "1     118.785914\n",
       "2     110.600599\n",
       "3     110.349411\n",
       "4     110.417140\n",
       "5     109.750826\n",
       "6     110.450803\n",
       "7     105.420000\n",
       "8     152.575218\n",
       "9     117.307607\n",
       "10    118.246183\n",
       "11    124.230345\n",
       "12    119.572639\n",
       "13    121.234141\n",
       "14    105.420000\n",
       "15    108.024826\n",
       "16    108.045334\n",
       "17    105.145410\n",
       "18    106.095285\n",
       "19    106.346870\n",
       "20    121.680580\n",
       "Name: 0, dtype: float64"
      ]
     },
     "execution_count": 3,
     "metadata": {},
     "output_type": "execute_result"
    }
   ],
   "source": [
    "import pandas as pd\n",
    "xlsx = pd.read_csv('vrp_ekz_prog.csv')\n",
    "\n",
    "csv_Nsrv = pd.read_csv('Nsrv_AO(2019-2025).csv')\n",
    "csv_lsrv = pd.read_csv('lsrv_AO(2019-2025).csv')\n",
    "\n",
    "Nsrv = csv_Nsrv['0']\n",
    "lsrv = csv_lsrv['0']\n",
    "\n",
    "Dsrv = Nsrv/Nsrv.shift(1)/lsrv * 10000\n",
    "\n",
    "Dsrv_b =Dsrv.loc[xlsx.o_script.str.match(r'базовый')].reset_index(drop = True)\n",
    "Dsrv_o =Dsrv.loc[xlsx.o_script.str.match(r'оптимистичный')].reset_index(drop = True)\n",
    "Dsrv_p =Dsrv.loc[xlsx.o_script.str.match(r'пессимистичный')].reset_index(drop = True)\n",
    "Dsrv_b[0]= 105.42\n",
    "Dsrv_o[0]= 105.42\n",
    "Dsrv_p[0]= 105.42\n",
    "Dsrv = Dsrv_b.append(Dsrv_o).append(Dsrv_p).reset_index(drop = True)\n",
    "Dsrv"
   ]
  },
  {
   "cell_type": "code",
   "execution_count": null,
   "metadata": {},
   "outputs": [],
   "source": []
  }
 ],
 "metadata": {
  "kernelspec": {
   "display_name": "Python 3",
   "language": "python",
   "name": "python3"
  },
  "language_info": {
   "codemirror_mode": {
    "name": "ipython",
    "version": 3
   },
   "file_extension": ".py",
   "mimetype": "text/x-python",
   "name": "python",
   "nbconvert_exporter": "python",
   "pygments_lexer": "ipython3",
   "version": "3.7.6"
  }
 },
 "nbformat": 4,
 "nbformat_minor": 4
}
