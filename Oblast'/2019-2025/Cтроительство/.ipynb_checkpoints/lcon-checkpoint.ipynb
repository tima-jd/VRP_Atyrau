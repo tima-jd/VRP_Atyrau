{
 "cells": [
  {
   "cell_type": "code",
   "execution_count": 5,
   "metadata": {},
   "outputs": [],
   "source": [
    "import pandas as pd\n",
    "\n",
    "csv_AO = pd.read_csv('Ncon_AO(2019-2025).csv')\n",
    "csv_inder_n = pd.read_csv('vrp_prognoz(2019-2025)(Inder).csv')\n",
    "csv_isatai_n = pd.read_csv('vrp_prognoz(2019-2025)(Isatai).csv')\n",
    "csv_atyrau_n = pd.read_csv('vrp_prognoz(2019-2025)(Atyrau).csv')\n",
    "csv_kurmangazy_n = pd.read_csv('vrp_prognoz(2019-2025)(Kurmangazy).csv')\n",
    "csv_kzylkoga_n = pd.read_csv('vrp_prognoz(2019-2025)(Kzylkoga).csv')\n",
    "csv_makat_n = pd.read_csv('vrp_prognoz(2019-2025)(Makat).csv')\n",
    "csv_makhambet_n = pd.read_csv('vrp_prognoz(2019-2025)(Makhambet).csv')\n",
    "csv_zhylyoi_n = pd.read_csv('vrp_prognoz(2019-2025)(Zhylyoi).csv')\n",
    "\n",
    "inder_n =         csv_inder_n['Ncon']\n",
    "isatai_n =       csv_isatai_n['Ncon']\n",
    "atyrau_n =       csv_atyrau_n['Ncon']\n",
    "kurmangazy_n=csv_kurmangazy_n['Ncon'] \n",
    "kzylkoga_n =   csv_kzylkoga_n['Ncon'] \n",
    "makat_n =         csv_makat_n['Ncon']\n",
    "makhambet_n = csv_makhambet_n['Ncon']\n",
    "zhylyoi_n =     csv_zhylyoi_n['Ncon']\n",
    "\n",
    "AO=csv_AO['Ncon']\n",
    "\n",
    "inder_l =         csv_inder_n['lcon']\n",
    "isatai_l =       csv_isatai_n['lcon']\n",
    "atyrau_l =       csv_atyrau_n['lcon']\n",
    "kurmangazy_l=csv_kurmangazy_n['lcon'] \n",
    "kzylkoga_l =   csv_kzylkoga_n['lcon'] \n",
    "makat_l =         csv_makat_n['lcon']\n",
    "makhambet_l = csv_makhambet_n['lcon']\n",
    "zhylyoi_l =     csv_zhylyoi_n['lcon']\n",
    "\n",
    "inder = (inder_n/AO*(inder_l-100))\n",
    "isatai = (isatai_n/AO*(isatai_l-100))\n",
    "atyrau = (atyrau_n/AO*(atyrau_l-100))\n",
    "kurmangazy = (kurmangazy_n/AO*(kurmangazy_l-100))\n",
    "kzylkoga = (kzylkoga_n/AO*(kzylkoga_l-100))\n",
    "makat = (makat_n/AO*(makat_l-100))\n",
    "makhambet = (makhambet_n/AO*(makhambet_l-100))\n",
    "zhylyoi = (zhylyoi_n/AO*(zhylyoi_l-100))\n",
    "\n",
    "lcon = (inder+isatai+atyrau+kurmangazy+kzylkoga+makat+makhambet+zhylyoi)+100\n",
    "lcon.to_csv(r'lcon_AO(2019-2025).csv', index=False)"
   ]
  },
  {
   "cell_type": "code",
   "execution_count": null,
   "metadata": {},
   "outputs": [],
   "source": []
  }
 ],
 "metadata": {
  "kernelspec": {
   "display_name": "Python 3",
   "language": "python",
   "name": "python3"
  },
  "language_info": {
   "codemirror_mode": {
    "name": "ipython",
    "version": 3
   },
   "file_extension": ".py",
   "mimetype": "text/x-python",
   "name": "python",
   "nbconvert_exporter": "python",
   "pygments_lexer": "ipython3",
   "version": "3.7.6"
  }
 },
 "nbformat": 4,
 "nbformat_minor": 4
}
