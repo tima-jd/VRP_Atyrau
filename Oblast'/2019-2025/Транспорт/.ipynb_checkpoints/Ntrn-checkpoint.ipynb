{
 "cells": [
  {
   "cell_type": "code",
   "execution_count": 7,
   "metadata": {},
   "outputs": [
    {
     "data": {
      "text/plain": [
       "0     106.236590\n",
       "1     106.236590\n",
       "2     106.236590\n",
       "3     105.197158\n",
       "4     105.197158\n",
       "5     105.197158\n",
       "6     105.197158\n",
       "7     106.236590\n",
       "8     105.841606\n",
       "9     105.841606\n",
       "10    104.802174\n",
       "11    104.802174\n",
       "12    104.802174\n",
       "13    104.802174\n",
       "14    107.837315\n",
       "15    107.837315\n",
       "16    106.797883\n",
       "17    106.797883\n",
       "18    106.797883\n",
       "19    106.797883\n",
       "20    106.236590\n",
       "Name: o_inflation, dtype: float64"
      ]
     },
     "execution_count": 7,
     "metadata": {},
     "output_type": "execute_result"
    }
   ],
   "source": [
    "import pandas as pd\n",
    "csv = pd.read_csv('vrp_ekz_prog.csv')\n",
    "inf = csv['o_inflation']\n",
    "\n",
    "Dtrn = inf*1.039431643742123+100\n",
    "Dtrn"
   ]
  },
  {
   "cell_type": "code",
   "execution_count": 15,
   "metadata": {},
   "outputs": [
    {
     "data": {
      "text/plain": [
       "0     96.4128\n",
       "1     101.593\n",
       "2     100.501\n",
       "3     100.371\n",
       "4     100.992\n",
       "5     98.9877\n",
       "6     99.2233\n",
       "7         NaN\n",
       "8         NaN\n",
       "9         NaN\n",
       "10        NaN\n",
       "11        NaN\n",
       "12        NaN\n",
       "13        NaN\n",
       "14        NaN\n",
       "15        NaN\n",
       "16        NaN\n",
       "17        NaN\n",
       "18        NaN\n",
       "19        NaN\n",
       "20        NaN\n",
       "Name: c1, dtype: object"
      ]
     },
     "execution_count": 15,
     "metadata": {},
     "output_type": "execute_result"
    }
   ],
   "source": [
    "import pandas as pd \n",
    "lgt_csv = pd.read_csv('lgt_AO(2019-2025).csv')\n",
    "lgt = lgt_csv['0'] \n",
    "\n",
    "i=0\n",
    "c=100\n",
    "\n",
    "newdf = pd.DataFrame(columns=['c1'], index=range(21))\n",
    "while i<=20:\n",
    "    c = (c*((lgt[i]-100) * 1.4575111432282974+100))/100\n",
    "    newdf.loc[i].c1 = c\n",
    "    i=i+1 \n",
    "ltrnS=newdf['c1']\n",
    "l = newdf['c1']\n",
    "trn_l = l.shift(1)\n",
    "trn_l[0] = 107.5\n",
    "\n",
    "ltrn = ltrnS/trn_l*100\n",
    "\n",
    "ltrn"
   ]
  },
  {
   "cell_type": "code",
   "execution_count": 17,
   "metadata": {},
   "outputs": [
    {
     "data": {
      "text/plain": [
       "0     677861\n",
       "1     731611\n",
       "2     781136\n",
       "3     824778\n",
       "4     876254\n",
       "5     912464\n",
       "6     952430\n",
       "7        NaN\n",
       "8        NaN\n",
       "9        NaN\n",
       "10       NaN\n",
       "11       NaN\n",
       "12       NaN\n",
       "13       NaN\n",
       "14       NaN\n",
       "15       NaN\n",
       "16       NaN\n",
       "17       NaN\n",
       "18       NaN\n",
       "19       NaN\n",
       "20       NaN\n",
       "Name: c1, dtype: object"
      ]
     },
     "execution_count": 17,
     "metadata": {},
     "output_type": "execute_result"
    }
   ],
   "source": [
    "i=0\n",
    "c=661807.7\n",
    "\n",
    "\n",
    "newdf = pd.DataFrame(columns=['c1'], index=range(21))\n",
    "while i<=20:\n",
    "    c = (c*ltrn[i] * Dtrn[i])/10000\n",
    "    newdf.loc[i].c1 = c\n",
    "    i=i+1\n",
    "Ntrn=newdf['c1']\n",
    "\n",
    "Ntrn"
   ]
  },
  {
   "cell_type": "code",
   "execution_count": null,
   "metadata": {},
   "outputs": [],
   "source": []
  }
 ],
 "metadata": {
  "kernelspec": {
   "display_name": "Python 3",
   "language": "python",
   "name": "python3"
  },
  "language_info": {
   "codemirror_mode": {
    "name": "ipython",
    "version": 3
   },
   "file_extension": ".py",
   "mimetype": "text/x-python",
   "name": "python",
   "nbconvert_exporter": "python",
   "pygments_lexer": "ipython3",
   "version": "3.7.6"
  }
 },
 "nbformat": 4,
 "nbformat_minor": 4
}
