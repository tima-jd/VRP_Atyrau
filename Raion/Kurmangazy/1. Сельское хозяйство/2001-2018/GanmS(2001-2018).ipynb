{
 "cells": [
  {
   "cell_type": "code",
   "execution_count": 1,
   "metadata": {},
   "outputs": [
    {
     "data": {
      "text/plain": [
       "0     42.8959\n",
       "1     45.5172\n",
       "2     46.9425\n",
       "3     50.0167\n",
       "4     54.3721\n",
       "5      57.467\n",
       "6      59.819\n",
       "7     62.0275\n",
       "8     64.8381\n",
       "9     66.0624\n",
       "10     69.279\n",
       "11    69.3866\n",
       "12    70.2029\n",
       "13    72.0593\n",
       "14     79.984\n",
       "15    83.2588\n",
       "16    85.9944\n",
       "17    91.3981\n",
       "18        100\n",
       "Name: c1, dtype: object"
      ]
     },
     "execution_count": 1,
     "metadata": {},
     "output_type": "execute_result"
    }
   ],
   "source": [
    "import pandas as pd\n",
    "xlsx = pd.read_csv('vrp_ekz_fact.csv')\n",
    "Ganm = ((xlsx['o_cattle_kurmangazy'] * xlsx['o_weight_cattle']) + (xlsx['o_goats_kurmangazy'] * xlsx['o_weight_goats']) + (xlsx['o_horses_kurmangazy']* xlsx['o_weight_horses']) + (xlsx['o_poultry_kurmangazy'] * xlsx['o_weight_poultry']))/((xlsx['o_cattle_kurmangazy'] * xlsx['o_weight_cattle']).shift(1) + (xlsx['o_goats_kurmangazy'] * xlsx['o_weight_goats']).shift(1) + (xlsx['o_horses_kurmangazy']* xlsx['o_weight_horses']).shift(1) + (xlsx['o_poultry_kurmangazy'] * xlsx['o_weight_poultry']).shift(1)) * 100\n",
    "i=18\n",
    "c=100\n",
    "newdf = pd.DataFrame(columns=['c1'], index=range(19))\n",
    "\n",
    "while i>0:\n",
    "    c = (c/Ganm[i]) * 100\n",
    "    i=i-1\n",
    "    newdf.loc[i].c1 = c\n",
    "    \n",
    "GanmS=newdf['c1']\n",
    "GanmS[18]=100\n",
    "\n",
    "GanmS"
   ]
  },
  {
   "cell_type": "code",
   "execution_count": null,
   "metadata": {},
   "outputs": [],
   "source": []
  }
 ],
 "metadata": {
  "kernelspec": {
   "display_name": "Python 3",
   "language": "python",
   "name": "python3"
  },
  "language_info": {
   "codemirror_mode": {
    "name": "ipython",
    "version": 3
   },
   "file_extension": ".py",
   "mimetype": "text/x-python",
   "name": "python",
   "nbconvert_exporter": "python",
   "pygments_lexer": "ipython3",
   "version": "3.7.6"
  }
 },
 "nbformat": 4,
 "nbformat_minor": 4
}
