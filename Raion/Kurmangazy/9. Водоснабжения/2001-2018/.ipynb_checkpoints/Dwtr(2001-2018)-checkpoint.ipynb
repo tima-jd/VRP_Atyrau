{
 "cells": [
  {
   "cell_type": "code",
   "execution_count": 1,
   "metadata": {},
   "outputs": [
    {
     "data": {
      "text/plain": [
       "0            NaN\n",
       "1     128.369705\n",
       "2     113.378685\n",
       "3      94.966762\n",
       "4            NaN\n",
       "5            NaN\n",
       "6            NaN\n",
       "7            NaN\n",
       "8            NaN\n",
       "9            inf\n",
       "10     94.039352\n",
       "11     98.231827\n",
       "12    228.032837\n",
       "13      5.539608\n",
       "14     33.230108\n",
       "15    127.045290\n",
       "16    103.389127\n",
       "17    106.170201\n",
       "18    108.727690\n",
       "dtype: float64"
      ]
     },
     "execution_count": 1,
     "metadata": {},
     "output_type": "execute_result"
    }
   ],
   "source": [
    "from scipy.stats.mstats import gmean\n",
    "import pandas as pd\n",
    "csv = pd.read_csv('vrp_ekz_fact.csv')\n",
    "\n",
    "inf = csv['o_inflation']\n",
    "\n",
    "lwtr = csv['o_ifo_water_isatai']\n",
    "Nwtr = csv['o_prod_water_isatai']\n",
    "\n",
    "Dwtr = Nwtr/Nwtr.shift(1)/lwtr *10000\n",
    "Dwtr"
   ]
  },
  {
   "cell_type": "code",
   "execution_count": null,
   "metadata": {},
   "outputs": [],
   "source": []
  }
 ],
 "metadata": {
  "kernelspec": {
   "display_name": "Python 3",
   "language": "python",
   "name": "python3"
  },
  "language_info": {
   "codemirror_mode": {
    "name": "ipython",
    "version": 3
   },
   "file_extension": ".py",
   "mimetype": "text/x-python",
   "name": "python",
   "nbconvert_exporter": "python",
   "pygments_lexer": "ipython3",
   "version": "3.7.6"
  }
 },
 "nbformat": 4,
 "nbformat_minor": 4
}
