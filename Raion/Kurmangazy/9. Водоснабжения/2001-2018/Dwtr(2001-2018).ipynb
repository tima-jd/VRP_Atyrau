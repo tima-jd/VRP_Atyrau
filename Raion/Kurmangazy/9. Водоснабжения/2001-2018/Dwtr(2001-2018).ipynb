{
 "cells": [
  {
   "cell_type": "code",
   "execution_count": 1,
   "metadata": {},
   "outputs": [
    {
     "data": {
      "text/plain": [
       "0            NaN\n",
       "1     136.054422\n",
       "2      67.114094\n",
       "3       4.541326\n",
       "4     200.000000\n",
       "5     155.520995\n",
       "6      96.401028\n",
       "7      72.046110\n",
       "8     113.765643\n",
       "9     301.750151\n",
       "10    591.758940\n",
       "11     99.229668\n",
       "12     98.927342\n",
       "13     99.817912\n",
       "14     97.630028\n",
       "15     55.928412\n",
       "16    103.532709\n",
       "17    109.733242\n",
       "18    113.811027\n",
       "dtype: float64"
      ]
     },
     "execution_count": 1,
     "metadata": {},
     "output_type": "execute_result"
    }
   ],
   "source": [
    "from scipy.stats.mstats import gmean\n",
    "import pandas as pd\n",
    "csv = pd.read_csv('vrp_ekz_fact.csv')\n",
    "\n",
    "inf = csv['o_inflation']\n",
    "\n",
    "lwtr = csv['o_ifo_water_kurmangazy']\n",
    "Nwtr = csv['o_prod_water_kurmangazy']\n",
    "\n",
    "Dwtr = Nwtr/Nwtr.shift(1)/lwtr *10000\n",
    "Dwtr"
   ]
  },
  {
   "cell_type": "code",
   "execution_count": null,
   "metadata": {},
   "outputs": [],
   "source": []
  }
 ],
 "metadata": {
  "kernelspec": {
   "display_name": "Python 3",
   "language": "python",
   "name": "python3"
  },
  "language_info": {
   "codemirror_mode": {
    "name": "ipython",
    "version": 3
   },
   "file_extension": ".py",
   "mimetype": "text/x-python",
   "name": "python",
   "nbconvert_exporter": "python",
   "pygments_lexer": "ipython3",
   "version": "3.7.6"
  }
 },
 "nbformat": 4,
 "nbformat_minor": 4
}
