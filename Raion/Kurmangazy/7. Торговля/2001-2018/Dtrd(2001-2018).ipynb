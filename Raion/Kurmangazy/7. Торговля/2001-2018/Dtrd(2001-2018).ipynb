{
 "cells": [
  {
   "cell_type": "code",
   "execution_count": 1,
   "metadata": {},
   "outputs": [
    {
     "data": {
      "text/plain": [
       "0            NaN\n",
       "1     162.134825\n",
       "2     142.687406\n",
       "3     186.657449\n",
       "4     172.900173\n",
       "5     113.066836\n",
       "6     194.573998\n",
       "7     166.578997\n",
       "8     117.439167\n",
       "9     117.103541\n",
       "10    106.219572\n",
       "11    107.299283\n",
       "12    104.905909\n",
       "13    103.623769\n",
       "14    106.878473\n",
       "15    108.001954\n",
       "16    118.282014\n",
       "17    112.840436\n",
       "18    107.917968\n",
       "dtype: float64"
      ]
     },
     "execution_count": 1,
     "metadata": {},
     "output_type": "execute_result"
    }
   ],
   "source": [
    "import pandas as pd\n",
    "csv = pd.read_csv('vrp_ekz_fact.csv')\n",
    "Nret = csv['o_prod_retail_kurmangazy']\n",
    "Nwhl = csv['o_prod_trade_kurmangazy']\n",
    "lret = csv['o_ifo_retail_kurmangazy']\n",
    "lwhl = csv['o_ifo_trade_kurmangazy']\n",
    "Ntrd = Nwhl+Nret\n",
    "\n",
    "ltrd = (lret*Nret.shift(1)+lwhl*Nwhl.shift(1))/Ntrd.shift(1)\n",
    "Dtrd = Ntrd/Ntrd.shift(1)/ltrd*10000\n",
    "\n",
    "Dtrd"
   ]
  },
  {
   "cell_type": "code",
   "execution_count": null,
   "metadata": {},
   "outputs": [],
   "source": []
  }
 ],
 "metadata": {
  "kernelspec": {
   "display_name": "Python 3",
   "language": "python",
   "name": "python3"
  },
  "language_info": {
   "codemirror_mode": {
    "name": "ipython",
    "version": 3
   },
   "file_extension": ".py",
   "mimetype": "text/x-python",
   "name": "python",
   "nbconvert_exporter": "python",
   "pygments_lexer": "ipython3",
   "version": "3.7.6"
  }
 },
 "nbformat": 4,
 "nbformat_minor": 4
}
