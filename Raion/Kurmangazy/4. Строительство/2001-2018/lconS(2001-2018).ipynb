{
 "cells": [
  {
   "cell_type": "code",
   "execution_count": 1,
   "metadata": {},
   "outputs": [
    {
     "data": {
      "text/plain": [
       "0     8.03852e-05\n",
       "1     2.57233e-05\n",
       "2     0.000104539\n",
       "3     0.000127747\n",
       "4     0.000130813\n",
       "5     0.000342599\n",
       "6     2.67228e-05\n",
       "7      3.5568e-05\n",
       "8      0.00120931\n",
       "9      0.00117787\n",
       "10       0.108364\n",
       "11        2.16728\n",
       "12        1.80101\n",
       "13        32.4182\n",
       "14         27.134\n",
       "15        15.8734\n",
       "16        6.73032\n",
       "17         20.938\n",
       "18            100\n",
       "Name: c1, dtype: object"
      ]
     },
     "execution_count": 1,
     "metadata": {},
     "output_type": "execute_result"
    }
   ],
   "source": [
    "import pandas as pd\n",
    "csv = pd.read_csv('vrp_ekz_fact.csv')\n",
    "lcon = csv['o_ifo_building_kurmangazy']\n",
    "\n",
    "i=18\n",
    "c=100\n",
    "newdf = pd.DataFrame(columns=['c1'], index=range(18))\n",
    "while i> 0:\n",
    "    c = (c/lcon[i]) * 100\n",
    "    i=i-1\n",
    "    newdf.loc[i].c1 = c\n",
    "lconS=newdf['c1']\n",
    "lconS[18]=100\n",
    "\n",
    "lconS\n"
   ]
  },
  {
   "cell_type": "code",
   "execution_count": null,
   "metadata": {},
   "outputs": [],
   "source": []
  }
 ],
 "metadata": {
  "kernelspec": {
   "display_name": "Python 3",
   "language": "python",
   "name": "python3"
  },
  "language_info": {
   "codemirror_mode": {
    "name": "ipython",
    "version": 3
   },
   "file_extension": ".py",
   "mimetype": "text/x-python",
   "name": "python",
   "nbconvert_exporter": "python",
   "pygments_lexer": "ipython3",
   "version": "3.7.6"
  }
 },
 "nbformat": 4,
 "nbformat_minor": 4
}
