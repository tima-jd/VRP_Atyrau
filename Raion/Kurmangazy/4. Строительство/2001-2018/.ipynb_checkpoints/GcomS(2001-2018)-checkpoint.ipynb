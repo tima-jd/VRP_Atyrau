{
 "cells": [
  {
   "cell_type": "code",
   "execution_count": 1,
   "metadata": {},
   "outputs": [
    {
     "data": {
      "text/plain": [
       "0     17.6134\n",
       "1     26.4201\n",
       "2     44.0335\n",
       "3     66.0502\n",
       "4     57.2435\n",
       "5     57.2435\n",
       "6     70.4535\n",
       "7     48.4368\n",
       "8     48.4368\n",
       "9     48.4368\n",
       "10    48.4368\n",
       "11    52.8402\n",
       "12    52.8402\n",
       "13    57.2435\n",
       "14    66.0502\n",
       "15    88.0669\n",
       "16    96.8736\n",
       "17    140.907\n",
       "18        100\n",
       "Name: c1, dtype: object"
      ]
     },
     "execution_count": 1,
     "metadata": {},
     "output_type": "execute_result"
    }
   ],
   "source": [
    "import pandas as pd\n",
    "csv = pd.read_csv('vrp_ekz_fact.csv')\n",
    "com = csv['o_housing_isatai']\n",
    "lmin = csv['o_ifo_mining_isatai']\n",
    "Gcom = com/com.shift(1)*100\n",
    "\n",
    "i=18\n",
    "c=100\n",
    "newdf = pd.DataFrame(columns=['c1'], index=range(19))\n",
    "while i>0:\n",
    "    c = (c/Gcom[i]) * 100\n",
    "    i=i-1\n",
    "    newdf.loc[i].c1 = c\n",
    "GcomS=newdf['c1']\n",
    "GcomS[18]=100\n",
    "\n",
    "GcomS\n"
   ]
  },
  {
   "cell_type": "code",
   "execution_count": null,
   "metadata": {},
   "outputs": [],
   "source": []
  }
 ],
 "metadata": {
  "kernelspec": {
   "display_name": "Python 3",
   "language": "python",
   "name": "python3"
  },
  "language_info": {
   "codemirror_mode": {
    "name": "ipython",
    "version": 3
   },
   "file_extension": ".py",
   "mimetype": "text/x-python",
   "name": "python",
   "nbconvert_exporter": "python",
   "pygments_lexer": "ipython3",
   "version": "3.7.6"
  }
 },
 "nbformat": 4,
 "nbformat_minor": 4
}
