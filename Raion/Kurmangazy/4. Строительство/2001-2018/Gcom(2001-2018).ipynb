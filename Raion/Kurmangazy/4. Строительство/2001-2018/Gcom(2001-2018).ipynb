{
 "cells": [
  {
   "cell_type": "code",
   "execution_count": 3,
   "metadata": {},
   "outputs": [
    {
     "data": {
      "text/plain": [
       "0            NaN\n",
       "1     100.000000\n",
       "2     120.000000\n",
       "3     166.666667\n",
       "4      30.000000\n",
       "5     166.666667\n",
       "6     140.000000\n",
       "7     114.285714\n",
       "8     100.000000\n",
       "9     100.000000\n",
       "10    112.500000\n",
       "11    100.000000\n",
       "12    100.000000\n",
       "13    100.000000\n",
       "14    100.000000\n",
       "15    100.000000\n",
       "16    211.111111\n",
       "17     47.368421\n",
       "18    124.222222\n",
       "Name: o_housing_kurmangazy, dtype: float64"
      ]
     },
     "execution_count": 3,
     "metadata": {},
     "output_type": "execute_result"
    }
   ],
   "source": [
    "import pandas as pd\n",
    "csv = pd.read_csv('vrp_ekz_fact.csv')\n",
    "com = csv['o_housing_kurmangazy']\n",
    "lmin = csv['o_ifo_mining_kurmangazy']\n",
    "\n",
    "Gcom = com/com.shift(1)*100\n",
    "\n",
    "Gcom"
   ]
  },
  {
   "cell_type": "code",
   "execution_count": null,
   "metadata": {},
   "outputs": [],
   "source": []
  }
 ],
 "metadata": {
  "kernelspec": {
   "display_name": "Python 3",
   "language": "python",
   "name": "python3"
  },
  "language_info": {
   "codemirror_mode": {
    "name": "ipython",
    "version": 3
   },
   "file_extension": ".py",
   "mimetype": "text/x-python",
   "name": "python",
   "nbconvert_exporter": "python",
   "pygments_lexer": "ipython3",
   "version": "3.7.6"
  }
 },
 "nbformat": 4,
 "nbformat_minor": 4
}
