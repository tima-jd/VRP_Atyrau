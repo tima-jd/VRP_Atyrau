{
 "cells": [
  {
   "cell_type": "code",
   "execution_count": 1,
   "metadata": {},
   "outputs": [
    {
     "data": {
      "text/plain": [
       "0            NaN\n",
       "1     103.058511\n",
       "2     102.790831\n",
       "3      99.210738\n",
       "4     104.187400\n",
       "5     104.403526\n",
       "6      57.384391\n",
       "7     106.283557\n",
       "8      10.496957\n",
       "9     102.669405\n",
       "10     10.354967\n",
       "11     10.415822\n",
       "12    102.819540\n",
       "13     10.294397\n",
       "14    106.928041\n",
       "15    103.163171\n",
       "16    104.799424\n",
       "17    105.224770\n",
       "18    104.813041\n",
       "dtype: float64"
      ]
     },
     "execution_count": 1,
     "metadata": {},
     "output_type": "execute_result"
    }
   ],
   "source": [
    "import pandas as pd\n",
    "csv = pd.read_csv('vrp_ekz_fact.csv')\n",
    "lcon = csv['o_ifo_building_kurmangazy']\n",
    "Ncon = csv['o_prod_building_kurmangazy']\n",
    "\n",
    "Dcon = Ncon/Ncon.shift(1)/lcon*10000\n",
    "\n",
    "Dcon"
   ]
  },
  {
   "cell_type": "code",
   "execution_count": null,
   "metadata": {},
   "outputs": [],
   "source": []
  }
 ],
 "metadata": {
  "kernelspec": {
   "display_name": "Python 3",
   "language": "python",
   "name": "python3"
  },
  "language_info": {
   "codemirror_mode": {
    "name": "ipython",
    "version": 3
   },
   "file_extension": ".py",
   "mimetype": "text/x-python",
   "name": "python",
   "nbconvert_exporter": "python",
   "pygments_lexer": "ipython3",
   "version": "3.7.6"
  }
 },
 "nbformat": 4,
 "nbformat_minor": 4
}
