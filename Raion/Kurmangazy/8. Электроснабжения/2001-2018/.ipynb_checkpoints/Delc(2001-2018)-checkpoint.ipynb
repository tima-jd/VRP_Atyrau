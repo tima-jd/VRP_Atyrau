{
 "cells": [
  {
   "cell_type": "code",
   "execution_count": 1,
   "metadata": {},
   "outputs": [
    {
     "data": {
      "text/plain": [
       "0             NaN\n",
       "1        0.000000\n",
       "2             inf\n",
       "3       29.496592\n",
       "4      364.842454\n",
       "5      104.493208\n",
       "6      192.901235\n",
       "7       28.169014\n",
       "8      109.790752\n",
       "9       71.157495\n",
       "10     165.401829\n",
       "11      67.281815\n",
       "12      23.201138\n",
       "13    2283.105023\n",
       "14      73.170732\n",
       "15     114.638448\n",
       "16      92.225714\n",
       "17     109.035912\n",
       "18     102.508249\n",
       "dtype: float64"
      ]
     },
     "execution_count": 1,
     "metadata": {},
     "output_type": "execute_result"
    }
   ],
   "source": [
    "import pandas as pd\n",
    "csv = pd.read_csv('vrp_ekz_fact.csv')\n",
    "\n",
    "lelc = csv['o_ifo_energo_kurmangazy']\n",
    "Nelc = csv['o_prod_energo_kurmangazy']\n",
    "\n",
    "Delc = Nelc/Nelc.shift(1)/lelc *10000\n",
    "Delc"
   ]
  },
  {
   "cell_type": "code",
   "execution_count": null,
   "metadata": {},
   "outputs": [],
   "source": []
  }
 ],
 "metadata": {
  "kernelspec": {
   "display_name": "Python 3",
   "language": "python",
   "name": "python3"
  },
  "language_info": {
   "codemirror_mode": {
    "name": "ipython",
    "version": 3
   },
   "file_extension": ".py",
   "mimetype": "text/x-python",
   "name": "python",
   "nbconvert_exporter": "python",
   "pygments_lexer": "ipython3",
   "version": "3.7.6"
  }
 },
 "nbformat": 4,
 "nbformat_minor": 4
}
