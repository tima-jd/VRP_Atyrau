{
 "cells": [
  {
   "cell_type": "code",
   "execution_count": 4,
   "metadata": {},
   "outputs": [
    {
     "name": "stderr",
     "output_type": "stream",
     "text": [
      "C:\\Users\\HP\\anaconda3\\lib\\site-packages\\ipykernel_launcher.py:9: RuntimeWarning: divide by zero encountered in double_scalars\n",
      "  if __name__ == '__main__':\n"
     ]
    },
    {
     "data": {
      "text/plain": [
       "0           0\n",
       "1           0\n",
       "2           0\n",
       "3           0\n",
       "4     4.28344\n",
       "5     4.45478\n",
       "6     22.4432\n",
       "7     44.0335\n",
       "8     42.3162\n",
       "9     57.0423\n",
       "10       56.7\n",
       "11    59.9886\n",
       "12    54.4697\n",
       "13    79.9615\n",
       "14    136.014\n",
       "15    82.4248\n",
       "16    88.3594\n",
       "17    77.5795\n",
       "18        100\n",
       "Name: c1, dtype: object"
      ]
     },
     "execution_count": 4,
     "metadata": {},
     "output_type": "execute_result"
    }
   ],
   "source": [
    "import pandas as pd\n",
    "csv = pd.read_csv('vrp_ekz_fact.csv')\n",
    "lmin = csv['o_ifo_mining_kurmangazy']\n",
    "\n",
    "i=18\n",
    "c=100\n",
    "newdf = pd.DataFrame(columns=['c1'], index=range(18))\n",
    "while i> 0:\n",
    "    c = (c/lmin[i]) * 100\n",
    "    i=i-1\n",
    "    newdf.loc[i].c1 = c\n",
    "lminS=newdf['c1']\n",
    "lminS[18]=100\n",
    "lminS[:4]=0\n",
    "lminS"
   ]
  },
  {
   "cell_type": "code",
   "execution_count": 5,
   "metadata": {},
   "outputs": [
    {
     "data": {
      "text/plain": [
       "0     33.7582\n",
       "1     39.2088\n",
       "2     41.2967\n",
       "3     40.7253\n",
       "4     43.2527\n",
       "5     43.3846\n",
       "6     43.2967\n",
       "7     45.0769\n",
       "8     54.2857\n",
       "9     73.1868\n",
       "10    72.7473\n",
       "11    83.7363\n",
       "12     76.044\n",
       "13    111.648\n",
       "14    82.8571\n",
       "15    81.5385\n",
       "16    88.3516\n",
       "17    77.5824\n",
       "18        100\n",
       "Name: c1, dtype: object"
      ]
     },
     "execution_count": 5,
     "metadata": {},
     "output_type": "execute_result"
    }
   ],
   "source": [
    "import pandas as pd\n",
    "csv = pd.read_csv('vrp_ekz_fact.csv')\n",
    "voil = csv['o_oil_kurmangazy']\n",
    "Gvoil = voil/voil.shift(1)*100\n",
    "\n",
    "i=18\n",
    "c=100\n",
    "newdf = pd.DataFrame(columns=['c1'], index=range(19))\n",
    "while i>0:\n",
    "    c = (c/Gvoil[i]) * 100\n",
    "    i=i-1\n",
    "    newdf.loc[i].c1 = c\n",
    "GvoilS=newdf['c1']\n",
    "GvoilS[18]=100\n",
    "GvoilS"
   ]
  },
  {
   "cell_type": "code",
   "execution_count": 6,
   "metadata": {},
   "outputs": [
    {
     "data": {
      "text/plain": [
       "1.4813207991810204"
      ]
     },
     "execution_count": 6,
     "metadata": {},
     "output_type": "execute_result"
    }
   ],
   "source": [
    "Evoil= ((GvoilS-GvoilS.mean())*(lminS-lminS.mean())).sum()/((GvoilS-GvoilS.mean())**2).sum()\n",
    "Evoil"
   ]
  },
  {
   "cell_type": "code",
   "execution_count": null,
   "metadata": {},
   "outputs": [],
   "source": []
  }
 ],
 "metadata": {
  "kernelspec": {
   "display_name": "Python 3",
   "language": "python",
   "name": "python3"
  },
  "language_info": {
   "codemirror_mode": {
    "name": "ipython",
    "version": 3
   },
   "file_extension": ".py",
   "mimetype": "text/x-python",
   "name": "python",
   "nbconvert_exporter": "python",
   "pygments_lexer": "ipython3",
   "version": "3.7.6"
  }
 },
 "nbformat": 4,
 "nbformat_minor": 4
}
