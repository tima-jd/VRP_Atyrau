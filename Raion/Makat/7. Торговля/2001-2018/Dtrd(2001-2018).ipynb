{
 "cells": [
  {
   "cell_type": "code",
   "execution_count": 1,
   "metadata": {},
   "outputs": [
    {
     "data": {
      "text/plain": [
       "0             NaN\n",
       "1      162.137447\n",
       "2      142.503624\n",
       "3      186.618116\n",
       "4      155.340499\n",
       "5      126.279729\n",
       "6     2099.055697\n",
       "7      128.821332\n",
       "8       88.368110\n",
       "9       27.854241\n",
       "10     101.626365\n",
       "11     105.266667\n",
       "12     103.538239\n",
       "13     103.675093\n",
       "14     106.963265\n",
       "15     107.200147\n",
       "16     116.594387\n",
       "17     111.318170\n",
       "18     108.625472\n",
       "dtype: float64"
      ]
     },
     "execution_count": 1,
     "metadata": {},
     "output_type": "execute_result"
    }
   ],
   "source": [
    "import pandas as pd\n",
    "csv = pd.read_csv('vrp_ekz_fact.csv')\n",
    "Nret = csv['o_prod_retail_makat']\n",
    "Nwhl = csv['o_prod_trade_makat']\n",
    "lret = csv['o_ifo_retail_makat']\n",
    "lwhl = csv['o_ifo_trade_makat']\n",
    "Ntrd = Nwhl+Nret\n",
    "\n",
    "ltrd = (lret*Nret.shift(1)+lwhl*Nwhl.shift(1))/Ntrd.shift(1)\n",
    "Dtrd = Ntrd/Ntrd.shift(1)/ltrd*10000\n",
    "\n",
    "Dtrd"
   ]
  },
  {
   "cell_type": "code",
   "execution_count": null,
   "metadata": {},
   "outputs": [],
   "source": []
  }
 ],
 "metadata": {
  "kernelspec": {
   "display_name": "Python 3",
   "language": "python",
   "name": "python3"
  },
  "language_info": {
   "codemirror_mode": {
    "name": "ipython",
    "version": 3
   },
   "file_extension": ".py",
   "mimetype": "text/x-python",
   "name": "python",
   "nbconvert_exporter": "python",
   "pygments_lexer": "ipython3",
   "version": "3.7.6"
  }
 },
 "nbformat": 4,
 "nbformat_minor": 4
}
