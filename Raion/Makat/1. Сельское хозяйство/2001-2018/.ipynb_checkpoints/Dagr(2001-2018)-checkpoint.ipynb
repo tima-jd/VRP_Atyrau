{
 "cells": [
  {
   "cell_type": "code",
   "execution_count": 3,
   "metadata": {},
   "outputs": [
    {
     "data": {
      "text/plain": [
       "0            NaN\n",
       "1     113.501654\n",
       "2     113.373250\n",
       "3     113.386146\n",
       "4     107.943142\n",
       "5     137.314519\n",
       "6     117.353815\n",
       "7     118.311584\n",
       "8     111.453677\n",
       "9     105.888580\n",
       "10    147.594477\n",
       "11    125.746856\n",
       "12    104.241140\n",
       "13    107.498378\n",
       "14     54.895435\n",
       "15    123.062754\n",
       "16     97.167616\n",
       "17     96.539787\n",
       "18    108.143659\n",
       "dtype: float64"
      ]
     },
     "execution_count": 3,
     "metadata": {},
     "output_type": "execute_result"
    }
   ],
   "source": [
    "import pandas as pd\n",
    "import numpy as np\n",
    "csv_file = pd.read_csv('vrp_ekz_fact.csv')\n",
    "lagr = csv_file['o_ifo_agro_makat']\n",
    "Nagr= csv_file['o_prod_agro_makat']\n",
    "Dagr = Nagr/Nagr.shift(1)/lagr*10000\n",
    "\n",
    "Dagr"
   ]
  },
  {
   "cell_type": "code",
   "execution_count": null,
   "metadata": {},
   "outputs": [],
   "source": []
  },
  {
   "cell_type": "code",
   "execution_count": null,
   "metadata": {},
   "outputs": [],
   "source": []
  }
 ],
 "metadata": {
  "kernelspec": {
   "display_name": "Python 3",
   "language": "python",
   "name": "python3"
  },
  "language_info": {
   "codemirror_mode": {
    "name": "ipython",
    "version": 3
   },
   "file_extension": ".py",
   "mimetype": "text/x-python",
   "name": "python",
   "nbconvert_exporter": "python",
   "pygments_lexer": "ipython3",
   "version": "3.7.6"
  }
 },
 "nbformat": 4,
 "nbformat_minor": 4
}
