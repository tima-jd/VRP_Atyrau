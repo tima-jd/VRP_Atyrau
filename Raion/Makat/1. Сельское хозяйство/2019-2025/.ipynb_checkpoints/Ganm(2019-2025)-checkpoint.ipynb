{
 "cells": [
  {
   "cell_type": "code",
   "execution_count": 1,
   "metadata": {},
   "outputs": [
    {
     "data": {
      "text/plain": [
       "0     104.899699\n",
       "1     104.919752\n",
       "2     104.970923\n",
       "3     105.002478\n",
       "4     105.042747\n",
       "5     105.078728\n",
       "6     105.117264\n",
       "7      74.527964\n",
       "8     104.919752\n",
       "9     104.970923\n",
       "10    105.002478\n",
       "11    105.042747\n",
       "12    105.078728\n",
       "13    105.117264\n",
       "14     78.194555\n",
       "15    104.970923\n",
       "16    105.002478\n",
       "17    105.042747\n",
       "18    105.078728\n",
       "19    105.117264\n",
       "20     74.527964\n",
       "dtype: float64"
      ]
     },
     "execution_count": 1,
     "metadata": {},
     "output_type": "execute_result"
    }
   ],
   "source": [
    "import pandas as pd\n",
    "xlsx = pd.read_csv('vrp_ekz_prog.csv')\n",
    "l = ((xlsx['o_cattle_isatai'] * xlsx['o_weight_cattle']).shift(1) + (xlsx['o_goats_isatai'] * xlsx['o_weight_goats']).shift(1) + (xlsx['o_horses_isatai']* xlsx['o_weight_horses']).shift(1) + (xlsx['o_poultry_isatai'] * xlsx['o_weight_poultry']).shift(1))\n",
    "l[0] =  12217.24\n",
    "Ganm = ((xlsx['o_cattle_isatai'] * xlsx['o_weight_cattle']) + (xlsx['o_goats_isatai'] * xlsx['o_weight_goats']) + (xlsx['o_horses_isatai']* xlsx['o_weight_horses']) + (xlsx['o_poultry_isatai'] * xlsx['o_weight_poultry']))/l * 100\n",
    "Ganm"
   ]
  },
  {
   "cell_type": "code",
   "execution_count": null,
   "metadata": {},
   "outputs": [],
   "source": []
  }
 ],
 "metadata": {
  "kernelspec": {
   "display_name": "Python 3",
   "language": "python",
   "name": "python3"
  },
  "language_info": {
   "codemirror_mode": {
    "name": "ipython",
    "version": 3
   },
   "file_extension": ".py",
   "mimetype": "text/x-python",
   "name": "python",
   "nbconvert_exporter": "python",
   "pygments_lexer": "ipython3",
   "version": "3.7.6"
  }
 },
 "nbformat": 4,
 "nbformat_minor": 4
}
