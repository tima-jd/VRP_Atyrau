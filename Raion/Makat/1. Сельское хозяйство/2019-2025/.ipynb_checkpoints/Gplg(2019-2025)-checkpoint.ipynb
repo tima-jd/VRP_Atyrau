{
 "cells": [
  {
   "cell_type": "code",
   "execution_count": 7,
   "metadata": {},
   "outputs": [
    {
     "data": {
      "text/plain": [
       "0     104.229935\n",
       "1     104.370447\n",
       "2     104.386839\n",
       "3     104.489016\n",
       "4     104.570384\n",
       "5     104.632867\n",
       "6     104.594820\n",
       "7      76.757188\n",
       "8     104.370447\n",
       "9     104.386839\n",
       "10    104.489016\n",
       "11    104.570384\n",
       "12    104.632867\n",
       "13    104.594820\n",
       "14     80.111821\n",
       "15    104.386839\n",
       "16    104.489016\n",
       "17    104.570384\n",
       "18    104.632867\n",
       "19    104.594820\n",
       "20     76.757188\n",
       "dtype: float64"
      ]
     },
     "execution_count": 7,
     "metadata": {},
     "output_type": "execute_result"
    }
   ],
   "source": [
    "import pandas as pd\n",
    "import numpy as np\n",
    "xlsx = pd.read_csv('vrp_ekz_prog.csv')\n",
    "l = (xlsx['o_potato_kurmangazy'].shift(1) + xlsx['o_grain_kurmangazy'].shift(1) + xlsx['o_vegetables_kurmangazy'].shift(1))\n",
    "l[0]=9.22\n",
    "Gplg = ((xlsx['o_potato_kurmangazy'] + xlsx['o_grain_kurmangazy'] + xlsx['o_vegetables_kurmangazy'])/l)*100\n",
    "Gplg"
   ]
  },
  {
   "cell_type": "code",
   "execution_count": null,
   "metadata": {},
   "outputs": [],
   "source": []
  }
 ],
 "metadata": {
  "kernelspec": {
   "display_name": "Python 3",
   "language": "python",
   "name": "python3"
  },
  "language_info": {
   "codemirror_mode": {
    "name": "ipython",
    "version": 3
   },
   "file_extension": ".py",
   "mimetype": "text/x-python",
   "name": "python",
   "nbconvert_exporter": "python",
   "pygments_lexer": "ipython3",
   "version": "3.7.6"
  }
 },
 "nbformat": 4,
 "nbformat_minor": 4
}
