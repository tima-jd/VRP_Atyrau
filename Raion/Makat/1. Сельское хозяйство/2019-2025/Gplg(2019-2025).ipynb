{
 "cells": [
  {
   "cell_type": "code",
   "execution_count": 3,
   "metadata": {},
   "outputs": [
    {
     "data": {
      "text/plain": [
       "0      92.857143\n",
       "1     100.000000\n",
       "2      92.307692\n",
       "3     100.000000\n",
       "4     100.000000\n",
       "5      91.666667\n",
       "6     109.090909\n",
       "7     108.333333\n",
       "8     100.000000\n",
       "9      92.307692\n",
       "10    100.000000\n",
       "11    100.000000\n",
       "12     91.666667\n",
       "13    109.090909\n",
       "14    108.333333\n",
       "15     92.307692\n",
       "16    100.000000\n",
       "17    100.000000\n",
       "18     91.666667\n",
       "19    109.090909\n",
       "20    108.333333\n",
       "dtype: float64"
      ]
     },
     "execution_count": 3,
     "metadata": {},
     "output_type": "execute_result"
    }
   ],
   "source": [
    "import pandas as pd\n",
    "xlsx = pd.read_csv('vrp_ekz_prog.csv')\n",
    "l = (xlsx['o_potato_makat'].shift(1) + xlsx['o_grain_makat'].shift(1) + xlsx['o_vegetables_makat'].shift(1))\n",
    "l[0]=0.14\n",
    "Gplg = ((xlsx['o_potato_makat'] + xlsx['o_grain_makat'] + xlsx['o_vegetables_makat'])/l)*100\n",
    "Gplg"
   ]
  },
  {
   "cell_type": "code",
   "execution_count": null,
   "metadata": {},
   "outputs": [],
   "source": []
  }
 ],
 "metadata": {
  "kernelspec": {
   "display_name": "Python 3",
   "language": "python",
   "name": "python3"
  },
  "language_info": {
   "codemirror_mode": {
    "name": "ipython",
    "version": 3
   },
   "file_extension": ".py",
   "mimetype": "text/x-python",
   "name": "python",
   "nbconvert_exporter": "python",
   "pygments_lexer": "ipython3",
   "version": "3.7.6"
  }
 },
 "nbformat": 4,
 "nbformat_minor": 4
}
