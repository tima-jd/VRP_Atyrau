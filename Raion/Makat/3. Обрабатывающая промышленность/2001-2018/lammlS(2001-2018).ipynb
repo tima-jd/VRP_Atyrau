{
 "cells": [
  {
   "cell_type": "code",
   "execution_count": 1,
   "metadata": {},
   "outputs": [],
   "source": [
    "import pandas as pd\n",
    "csv = pd.read_csv('vrp_ekz_fact.csv')\n",
    "\n",
    "lagr = csv['o_ifo_agro_makat']\n",
    "Nagr = csv['o_prod_agro_makat']\n",
    "lmin = csv['o_ifo_mining_makat']\n",
    "Nmin = csv['o_prod_mining_makat']\n",
    "lman= csv['o_ifo_man_makat']\n",
    "Nman = csv['o_prod_man_makat']\n",
    "\n",
    "lamml = (lagr*Nagr.shift(1)+lmin*Nmin.shift(1)+lman.shift(1)*Nman.shift(2))/(Nagr.shift(1)+Nmin.shift(1)+Nman.shift(2))\n",
    "\n",
    "i=18\n",
    "c=100\n",
    "newdf = pd.DataFrame(columns=['c1'], index=range(19))\n",
    "while i>0:\n",
    "    c = (c/lamml[i]) * 100\n",
    "    i=i-1\n",
    "    newdf.loc[i].c1 = c\n",
    "lammlS=newdf['c1']\n",
    "lammlS[18]=100\n",
    "\n",
    "lammlS.to_csv(r'lammlS(2001-2018).csv', index = False)"
   ]
  },
  {
   "cell_type": "code",
   "execution_count": null,
   "metadata": {},
   "outputs": [],
   "source": []
  }
 ],
 "metadata": {
  "kernelspec": {
   "display_name": "Python 3",
   "language": "python",
   "name": "python3"
  },
  "language_info": {
   "codemirror_mode": {
    "name": "ipython",
    "version": 3
   },
   "file_extension": ".py",
   "mimetype": "text/x-python",
   "name": "python",
   "nbconvert_exporter": "python",
   "pygments_lexer": "ipython3",
   "version": "3.7.6"
  }
 },
 "nbformat": 4,
 "nbformat_minor": 4
}
