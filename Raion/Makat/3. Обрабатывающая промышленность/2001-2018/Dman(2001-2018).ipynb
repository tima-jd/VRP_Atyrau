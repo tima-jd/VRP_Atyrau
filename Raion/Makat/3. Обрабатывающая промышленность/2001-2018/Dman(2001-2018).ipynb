{
 "cells": [
  {
   "cell_type": "code",
   "execution_count": 1,
   "metadata": {},
   "outputs": [
    {
     "data": {
      "text/plain": [
       "0            NaN\n",
       "1            inf\n",
       "2            inf\n",
       "3      98.268816\n",
       "4     105.602197\n",
       "5     112.329064\n",
       "6     117.011167\n",
       "7     112.735692\n",
       "8     128.006950\n",
       "9     106.345735\n",
       "10    135.425047\n",
       "11    127.497659\n",
       "12     71.913055\n",
       "13    127.960724\n",
       "14     80.662491\n",
       "15    103.942377\n",
       "16    115.000096\n",
       "17    130.388355\n",
       "18    101.482569\n",
       "dtype: float64"
      ]
     },
     "execution_count": 1,
     "metadata": {},
     "output_type": "execute_result"
    }
   ],
   "source": [
    "import pandas as pd\n",
    "csv = pd.read_csv('vrp_ekz_fact.csv')\n",
    "\n",
    "lman= csv['o_ifo_man_makat']\n",
    "Nman = csv['o_prod_man_makat']\n",
    "\n",
    "Dman = Nman/Nman.shift(1)/lman * 10000\n",
    "\n",
    "Dman"
   ]
  },
  {
   "cell_type": "code",
   "execution_count": null,
   "metadata": {},
   "outputs": [],
   "source": []
  }
 ],
 "metadata": {
  "kernelspec": {
   "display_name": "Python 3",
   "language": "python",
   "name": "python3"
  },
  "language_info": {
   "codemirror_mode": {
    "name": "ipython",
    "version": 3
   },
   "file_extension": ".py",
   "mimetype": "text/x-python",
   "name": "python",
   "nbconvert_exporter": "python",
   "pygments_lexer": "ipython3",
   "version": "3.7.6"
  }
 },
 "nbformat": 4,
 "nbformat_minor": 4
}
