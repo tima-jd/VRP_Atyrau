{
 "cells": [
  {
   "cell_type": "code",
   "execution_count": 1,
   "metadata": {},
   "outputs": [
    {
     "data": {
      "text/plain": [
       "0            NaN\n",
       "1     162.137447\n",
       "2     142.503624\n",
       "3     186.618116\n",
       "4     155.340499\n",
       "5     113.028456\n",
       "6     194.693934\n",
       "7     195.699934\n",
       "8      23.606398\n",
       "9     103.259363\n",
       "10    106.259091\n",
       "11    107.288660\n",
       "12    103.973745\n",
       "13    103.724401\n",
       "14    107.082074\n",
       "15    107.997201\n",
       "16    118.327353\n",
       "17    111.702434\n",
       "18    107.853051\n",
       "dtype: float64"
      ]
     },
     "execution_count": 1,
     "metadata": {},
     "output_type": "execute_result"
    }
   ],
   "source": [
    "import pandas as pd\n",
    "csv = pd.read_csv('vrp_ekz_fact.csv')\n",
    "lret = csv['o_ifo_retail_makat']\n",
    "Nret = csv['o_prod_retail_makat']\n",
    "Dret = Nret/Nret.shift(1)/lret * 10000\n",
    "Dret"
   ]
  },
  {
   "cell_type": "code",
   "execution_count": null,
   "metadata": {},
   "outputs": [],
   "source": []
  }
 ],
 "metadata": {
  "kernelspec": {
   "display_name": "Python 3",
   "language": "python",
   "name": "python3"
  },
  "language_info": {
   "codemirror_mode": {
    "name": "ipython",
    "version": 3
   },
   "file_extension": ".py",
   "mimetype": "text/x-python",
   "name": "python",
   "nbconvert_exporter": "python",
   "pygments_lexer": "ipython3",
   "version": "3.7.6"
  }
 },
 "nbformat": 4,
 "nbformat_minor": 4
}
