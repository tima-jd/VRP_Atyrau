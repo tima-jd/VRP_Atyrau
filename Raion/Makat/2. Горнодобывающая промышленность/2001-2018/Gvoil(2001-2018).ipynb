{
 "cells": [
  {
   "cell_type": "code",
   "execution_count": 3,
   "metadata": {},
   "outputs": [
    {
     "data": {
      "text/plain": [
       "0     483.12\n",
       "1     561.14\n",
       "2     590.71\n",
       "3     582.63\n",
       "4     618.72\n",
       "5     620.80\n",
       "6     619.49\n",
       "7     644.92\n",
       "8     776.70\n",
       "9     720.40\n",
       "10    745.10\n",
       "11    744.30\n",
       "12    739.60\n",
       "13    759.90\n",
       "14    688.40\n",
       "15    657.40\n",
       "16    619.30\n",
       "17    536.40\n",
       "18    510.60\n",
       "Name: o_oil_makat, dtype: float64"
      ]
     },
     "execution_count": 3,
     "metadata": {},
     "output_type": "execute_result"
    }
   ],
   "source": [
    "import pandas as pd\n",
    "csv = pd.read_csv('vrp_ekz_fact.csv')\n",
    "voil = csv['o_oil_makat']\n",
    "Gvoil = voil/voil.shift(1)*100\n",
    "voil"
   ]
  },
  {
   "cell_type": "code",
   "execution_count": null,
   "metadata": {},
   "outputs": [],
   "source": []
  }
 ],
 "metadata": {
  "kernelspec": {
   "display_name": "Python 3",
   "language": "python",
   "name": "python3"
  },
  "language_info": {
   "codemirror_mode": {
    "name": "ipython",
    "version": 3
   },
   "file_extension": ".py",
   "mimetype": "text/x-python",
   "name": "python",
   "nbconvert_exporter": "python",
   "pygments_lexer": "ipython3",
   "version": "3.7.6"
  }
 },
 "nbformat": 4,
 "nbformat_minor": 4
}
