{
 "cells": [
  {
   "cell_type": "code",
   "execution_count": 3,
   "metadata": {},
   "outputs": [
    {
     "data": {
      "text/plain": [
       "0      5.00\n",
       "1      7.00\n",
       "2     12.00\n",
       "3     21.00\n",
       "4     10.00\n",
       "5     11.00\n",
       "6     23.00\n",
       "7     15.00\n",
       "8     17.00\n",
       "9     19.00\n",
       "10    19.00\n",
       "11    20.00\n",
       "12    22.00\n",
       "13    30.00\n",
       "14    20.00\n",
       "15    13.00\n",
       "16    14.00\n",
       "17    14.00\n",
       "18    27.33\n",
       "Name: o_housing_makat, dtype: float64"
      ]
     },
     "execution_count": 3,
     "metadata": {},
     "output_type": "execute_result"
    }
   ],
   "source": [
    "import pandas as pd\n",
    "csv = pd.read_csv('vrp_ekz_fact.csv')\n",
    "com = csv['o_housing_makat']\n",
    "lmin = csv['o_ifo_mining_makat']\n",
    "\n",
    "Gcom = com/com.shift(1)*100\n",
    "\n",
    "com"
   ]
  },
  {
   "cell_type": "code",
   "execution_count": null,
   "metadata": {},
   "outputs": [],
   "source": []
  }
 ],
 "metadata": {
  "kernelspec": {
   "display_name": "Python 3",
   "language": "python",
   "name": "python3"
  },
  "language_info": {
   "codemirror_mode": {
    "name": "ipython",
    "version": 3
   },
   "file_extension": ".py",
   "mimetype": "text/x-python",
   "name": "python",
   "nbconvert_exporter": "python",
   "pygments_lexer": "ipython3",
   "version": "3.7.6"
  }
 },
 "nbformat": 4,
 "nbformat_minor": 4
}
