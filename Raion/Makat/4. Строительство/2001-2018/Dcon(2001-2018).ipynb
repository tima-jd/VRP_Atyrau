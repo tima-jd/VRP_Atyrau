{
 "cells": [
  {
   "cell_type": "code",
   "execution_count": 1,
   "metadata": {},
   "outputs": [
    {
     "data": {
      "text/plain": [
       "0             NaN\n",
       "1             inf\n",
       "2             NaN\n",
       "3             inf\n",
       "4      104.150438\n",
       "5      104.408547\n",
       "6       57.641123\n",
       "7      106.158790\n",
       "8       10.620347\n",
       "9       15.664826\n",
       "10     106.944698\n",
       "11    2163.976842\n",
       "12     336.266419\n",
       "13     104.532284\n",
       "14     106.814454\n",
       "15     103.077595\n",
       "16     104.823260\n",
       "17     105.207812\n",
       "18     104.818465\n",
       "dtype: float64"
      ]
     },
     "execution_count": 1,
     "metadata": {},
     "output_type": "execute_result"
    }
   ],
   "source": [
    "import pandas as pd\n",
    "csv = pd.read_csv('vrp_ekz_fact.csv')\n",
    "lcon = csv['o_ifo_building_makat']\n",
    "Ncon = csv['o_prod_building_makat']\n",
    "\n",
    "Dcon = Ncon/Ncon.shift(1)/lcon*10000\n",
    "\n",
    "Dcon"
   ]
  },
  {
   "cell_type": "code",
   "execution_count": null,
   "metadata": {},
   "outputs": [],
   "source": []
  }
 ],
 "metadata": {
  "kernelspec": {
   "display_name": "Python 3",
   "language": "python",
   "name": "python3"
  },
  "language_info": {
   "codemirror_mode": {
    "name": "ipython",
    "version": 3
   },
   "file_extension": ".py",
   "mimetype": "text/x-python",
   "name": "python",
   "nbconvert_exporter": "python",
   "pygments_lexer": "ipython3",
   "version": "3.7.6"
  }
 },
 "nbformat": 4,
 "nbformat_minor": 4
}
