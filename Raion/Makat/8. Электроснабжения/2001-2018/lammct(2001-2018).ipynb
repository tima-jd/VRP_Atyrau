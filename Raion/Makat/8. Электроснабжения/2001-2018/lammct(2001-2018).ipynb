{
 "cells": [
  {
   "cell_type": "code",
   "execution_count": 2,
   "metadata": {},
   "outputs": [
    {
     "data": {
      "text/plain": [
       "0            NaN\n",
       "1     100.894555\n",
       "2     101.515759\n",
       "3     100.661896\n",
       "4     105.287970\n",
       "5     105.301398\n",
       "6     104.674352\n",
       "7     105.340139\n",
       "8     234.886034\n",
       "9     103.118627\n",
       "10    109.120117\n",
       "11    107.930183\n",
       "12     76.924103\n",
       "13     94.688460\n",
       "14     86.980815\n",
       "15     93.798534\n",
       "16    100.302391\n",
       "17     81.785184\n",
       "18    100.048171\n",
       "dtype: float64"
      ]
     },
     "execution_count": 2,
     "metadata": {},
     "output_type": "execute_result"
    }
   ],
   "source": [
    "import pandas as pd\n",
    "csv = pd.read_csv('vrp_ekz_fact.csv')\n",
    "\n",
    "l = pd.read_csv('lamm(2001-2018).csv')\n",
    "lt = pd.read_csv('ltrd(2001-2018).csv') \n",
    "Nt = pd.read_csv('Ntrd(2001-2018).csv') \n",
    "\n",
    "lamm = l['0']\n",
    "ltrd = lt['0']\n",
    "Ntrd = Nt['0']\n",
    "\n",
    "lagr = csv['o_ifo_agro_makat']\n",
    "Nagr = csv['o_prod_agro_makat']\n",
    "lmin = csv['o_ifo_mining_makat']\n",
    "Nmin = csv['o_prod_mining_makat']\n",
    "lman= csv['o_ifo_man_makat']\n",
    "Nman = csv['o_prod_man_makat']\n",
    "\n",
    "lcon = csv['o_ifo_building_makat']\n",
    "Ncon = csv['o_prod_building_makat']\n",
    "\n",
    "lammct = (lagr*Nagr.shift(1) + lmin*Nmin.shift(1)+lman*Nman.shift(1)+lcon*Ncon.shift(1)+ ltrd*Ntrd.shift(1))/(Nagr.shift(1)+Nmin.shift(1)+Nman.shift(1)+Ncon.shift(1)+Ntrd.shift(1))\n",
    "\n",
    "lammct"
   ]
  },
  {
   "cell_type": "code",
   "execution_count": null,
   "metadata": {},
   "outputs": [],
   "source": []
  }
 ],
 "metadata": {
  "kernelspec": {
   "display_name": "Python 3",
   "language": "python",
   "name": "python3"
  },
  "language_info": {
   "codemirror_mode": {
    "name": "ipython",
    "version": 3
   },
   "file_extension": ".py",
   "mimetype": "text/x-python",
   "name": "python",
   "nbconvert_exporter": "python",
   "pygments_lexer": "ipython3",
   "version": "3.7.6"
  }
 },
 "nbformat": 4,
 "nbformat_minor": 4
}
