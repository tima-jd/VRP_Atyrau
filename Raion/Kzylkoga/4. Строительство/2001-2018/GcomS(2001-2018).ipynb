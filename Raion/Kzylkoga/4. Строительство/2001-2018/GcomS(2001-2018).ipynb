{
 "cells": [
  {
   "cell_type": "code",
   "execution_count": 1,
   "metadata": {},
   "outputs": [
    {
     "data": {
      "text/plain": [
       "0     17.2117\n",
       "1     8.60585\n",
       "2     25.8176\n",
       "3     51.6351\n",
       "4      60.241\n",
       "5     68.8468\n",
       "6     77.4527\n",
       "7     68.8468\n",
       "8     68.8468\n",
       "9     68.8468\n",
       "10    68.8468\n",
       "11    77.4527\n",
       "12    77.4527\n",
       "13    86.0585\n",
       "14    94.6644\n",
       "15     103.27\n",
       "16     103.27\n",
       "17     103.27\n",
       "18        100\n",
       "Name: c1, dtype: object"
      ]
     },
     "execution_count": 1,
     "metadata": {},
     "output_type": "execute_result"
    }
   ],
   "source": [
    "import pandas as pd\n",
    "csv = pd.read_csv('vrp_ekz_fact.csv')\n",
    "com = csv['o_housing_kzylkoga']\n",
    "lmin = csv['o_ifo_mining_kzylkoga']\n",
    "\n",
    "Gcom = com/com.shift(1)*100\n",
    "\n",
    "i=18\n",
    "c=100\n",
    "newdf = pd.DataFrame(columns=['c1'], index=range(19))\n",
    "while i>0:\n",
    "    c = (c/Gcom[i]) * 100\n",
    "    i=i-1\n",
    "    newdf.loc[i].c1 = c\n",
    "GcomS=newdf['c1']\n",
    "GcomS[18]=100\n",
    "\n",
    "GcomS\n"
   ]
  },
  {
   "cell_type": "code",
   "execution_count": null,
   "metadata": {},
   "outputs": [],
   "source": []
  }
 ],
 "metadata": {
  "kernelspec": {
   "display_name": "Python 3",
   "language": "python",
   "name": "python3"
  },
  "language_info": {
   "codemirror_mode": {
    "name": "ipython",
    "version": 3
   },
   "file_extension": ".py",
   "mimetype": "text/x-python",
   "name": "python",
   "nbconvert_exporter": "python",
   "pygments_lexer": "ipython3",
   "version": "3.7.6"
  }
 },
 "nbformat": 4,
 "nbformat_minor": 4
}
