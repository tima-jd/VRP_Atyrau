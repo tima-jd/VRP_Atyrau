{
 "cells": [
  {
   "cell_type": "code",
   "execution_count": 1,
   "metadata": {},
   "outputs": [
    {
     "data": {
      "text/plain": [
       "0     102.886575\n",
       "1     102.955224\n",
       "2     103.016310\n",
       "3     103.058581\n",
       "4     103.120522\n",
       "5     103.179440\n",
       "6     103.244295\n",
       "7      83.283147\n",
       "8     102.955224\n",
       "9     103.016310\n",
       "10    103.058581\n",
       "11    103.120522\n",
       "12    103.179440\n",
       "13    103.244295\n",
       "14     85.744351\n",
       "15    103.016310\n",
       "16    103.058581\n",
       "17    103.120522\n",
       "18    103.179440\n",
       "19    103.244295\n",
       "20     83.283147\n",
       "dtype: float64"
      ]
     },
     "execution_count": 1,
     "metadata": {},
     "output_type": "execute_result"
    }
   ],
   "source": [
    "import pandas as pd\n",
    "xlsx = pd.read_csv('vrp_ekz_prog.csv')\n",
    "l = ((xlsx['o_cattle_kzylkoga'] * xlsx['o_weight_cattle']).shift(1) + (xlsx['o_goats_kzylkoga'] * xlsx['o_weight_goats']).shift(1) + (xlsx['o_horses_kzylkoga']* xlsx['o_weight_horses']).shift(1) + (xlsx['o_poultry_kzylkoga'] * xlsx['o_weight_poultry']).shift(1))\n",
    "l[0] =  17461.04\n",
    "Ganm = ((xlsx['o_cattle_kzylkoga'] * xlsx['o_weight_cattle']) + (xlsx['o_goats_kzylkoga'] * xlsx['o_weight_goats']) + (xlsx['o_horses_kzylkoga']* xlsx['o_weight_horses']) + (xlsx['o_poultry_kzylkoga'] * xlsx['o_weight_poultry']))/l * 100\n",
    "Ganm"
   ]
  },
  {
   "cell_type": "code",
   "execution_count": null,
   "metadata": {},
   "outputs": [],
   "source": []
  }
 ],
 "metadata": {
  "kernelspec": {
   "display_name": "Python 3",
   "language": "python",
   "name": "python3"
  },
  "language_info": {
   "codemirror_mode": {
    "name": "ipython",
    "version": 3
   },
   "file_extension": ".py",
   "mimetype": "text/x-python",
   "name": "python",
   "nbconvert_exporter": "python",
   "pygments_lexer": "ipython3",
   "version": "3.7.6"
  }
 },
 "nbformat": 4,
 "nbformat_minor": 4
}
