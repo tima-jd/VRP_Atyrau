{
 "cells": [
  {
   "cell_type": "code",
   "execution_count": 1,
   "metadata": {},
   "outputs": [
    {
     "data": {
      "text/plain": [
       "0     65.0088\n",
       "1     66.3503\n",
       "2     67.0046\n",
       "3     76.9387\n",
       "4     84.2104\n",
       "5     87.1891\n",
       "6     93.1234\n",
       "7      101.27\n",
       "8      104.99\n",
       "9     107.792\n",
       "10    108.404\n",
       "11    109.944\n",
       "12    97.6731\n",
       "13    90.8553\n",
       "14    90.7093\n",
       "15    91.4704\n",
       "16     92.377\n",
       "17    97.0479\n",
       "18        100\n",
       "Name: c1, dtype: object"
      ]
     },
     "execution_count": 1,
     "metadata": {},
     "output_type": "execute_result"
    }
   ],
   "source": [
    "import pandas as pd\n",
    "xlsx = pd.read_csv('vrp_ekz_fact.csv')\n",
    "Ganm = ((xlsx['o_cattle_kzylkoga'] * xlsx['o_weight_cattle']) + (xlsx['o_goats_kzylkoga'] * xlsx['o_weight_goats']) + (xlsx['o_horses_kzylkoga']* xlsx['o_weight_horses']) + (xlsx['o_poultry_kzylkoga'] * xlsx['o_weight_poultry']))/((xlsx['o_cattle_kzylkoga'] * xlsx['o_weight_cattle']).shift(1) + (xlsx['o_goats_kzylkoga'] * xlsx['o_weight_goats']).shift(1) + (xlsx['o_horses_kzylkoga']* xlsx['o_weight_horses']).shift(1) + (xlsx['o_poultry_kzylkoga'] * xlsx['o_weight_poultry']).shift(1)) * 100\n",
    "i=18\n",
    "c=100\n",
    "newdf = pd.DataFrame(columns=['c1'], index=range(19))\n",
    "\n",
    "while i>0:\n",
    "    c = (c/Ganm[i]) * 100\n",
    "    i=i-1\n",
    "    newdf.loc[i].c1 = c\n",
    "    \n",
    "GanmS=newdf['c1']\n",
    "GanmS[18]=100\n",
    "\n",
    "GanmS"
   ]
  },
  {
   "cell_type": "code",
   "execution_count": null,
   "metadata": {},
   "outputs": [],
   "source": []
  }
 ],
 "metadata": {
  "kernelspec": {
   "display_name": "Python 3",
   "language": "python",
   "name": "python3"
  },
  "language_info": {
   "codemirror_mode": {
    "name": "ipython",
    "version": 3
   },
   "file_extension": ".py",
   "mimetype": "text/x-python",
   "name": "python",
   "nbconvert_exporter": "python",
   "pygments_lexer": "ipython3",
   "version": "3.7.6"
  }
 },
 "nbformat": 4,
 "nbformat_minor": 4
}
