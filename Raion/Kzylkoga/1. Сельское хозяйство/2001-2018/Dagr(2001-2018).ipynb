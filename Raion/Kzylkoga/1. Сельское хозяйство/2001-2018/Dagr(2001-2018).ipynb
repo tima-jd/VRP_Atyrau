{
 "cells": [
  {
   "cell_type": "code",
   "execution_count": 1,
   "metadata": {},
   "outputs": [
    {
     "data": {
      "text/plain": [
       "0            NaN\n",
       "1     114.383382\n",
       "2     114.377405\n",
       "3     114.417456\n",
       "4     107.921989\n",
       "5     137.361052\n",
       "6     117.402813\n",
       "7     118.248420\n",
       "8     111.356077\n",
       "9     105.964769\n",
       "10    112.523908\n",
       "11    130.234811\n",
       "12    119.946969\n",
       "13    108.199459\n",
       "14     85.145108\n",
       "15    134.118870\n",
       "16     98.742584\n",
       "17     94.125051\n",
       "18    106.497707\n",
       "dtype: float64"
      ]
     },
     "execution_count": 1,
     "metadata": {},
     "output_type": "execute_result"
    }
   ],
   "source": [
    "import pandas as pd\n",
    "import numpy as np\n",
    "csv_file = pd.read_csv('vrp_ekz_fact.csv')\n",
    "lagr = csv_file['o_ifo_agro_kzylkoga']\n",
    "Nagr= csv_file['o_prod_agro_kzylkoga']\n",
    "Dagr = Nagr/Nagr.shift(1)/lagr*10000\n",
    "\n",
    "Dagr"
   ]
  },
  {
   "cell_type": "code",
   "execution_count": null,
   "metadata": {},
   "outputs": [],
   "source": []
  },
  {
   "cell_type": "code",
   "execution_count": null,
   "metadata": {},
   "outputs": [],
   "source": []
  }
 ],
 "metadata": {
  "kernelspec": {
   "display_name": "Python 3",
   "language": "python",
   "name": "python3"
  },
  "language_info": {
   "codemirror_mode": {
    "name": "ipython",
    "version": 3
   },
   "file_extension": ".py",
   "mimetype": "text/x-python",
   "name": "python",
   "nbconvert_exporter": "python",
   "pygments_lexer": "ipython3",
   "version": "3.7.6"
  }
 },
 "nbformat": 4,
 "nbformat_minor": 4
}
