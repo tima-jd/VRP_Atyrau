{
 "cells": [
  {
   "cell_type": "code",
   "execution_count": 1,
   "metadata": {},
   "outputs": [
    {
     "data": {
      "text/plain": [
       "0            NaN\n",
       "1     102.919667\n",
       "2     124.632269\n",
       "3     135.662459\n",
       "4      99.220508\n",
       "5     132.507374\n",
       "6     124.094813\n",
       "7     116.275360\n",
       "8     129.752053\n",
       "9      95.441211\n",
       "10    128.420753\n",
       "11    145.047412\n",
       "12    101.066809\n",
       "13    101.501438\n",
       "14    102.923137\n",
       "15     59.217112\n",
       "16    139.356338\n",
       "17    116.450652\n",
       "18     55.850790\n",
       "dtype: float64"
      ]
     },
     "execution_count": 1,
     "metadata": {},
     "output_type": "execute_result"
    }
   ],
   "source": [
    "import pandas as pd\n",
    "csv = pd.read_csv('vrp_ekz_fact.csv')\n",
    "lmin = csv['o_ifo_mining_kzylkoga']\n",
    "Nmin=csv['o_prod_mining_kzylkoga']\n",
    "\n",
    "Dmin = (Nmin/Nmin.shift(1)/lmin)*10000\n",
    "Dmin"
   ]
  },
  {
   "cell_type": "code",
   "execution_count": null,
   "metadata": {},
   "outputs": [],
   "source": []
  }
 ],
 "metadata": {
  "kernelspec": {
   "display_name": "Python 3",
   "language": "python",
   "name": "python3"
  },
  "language_info": {
   "codemirror_mode": {
    "name": "ipython",
    "version": 3
   },
   "file_extension": ".py",
   "mimetype": "text/x-python",
   "name": "python",
   "nbconvert_exporter": "python",
   "pygments_lexer": "ipython3",
   "version": "3.7.6"
  }
 },
 "nbformat": 4,
 "nbformat_minor": 4
}
