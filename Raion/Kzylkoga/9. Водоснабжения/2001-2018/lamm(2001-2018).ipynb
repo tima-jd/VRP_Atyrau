{
 "cells": [
  {
   "cell_type": "code",
   "execution_count": 1,
   "metadata": {},
   "outputs": [],
   "source": [
    "import pandas as pd\n",
    "csv = pd.read_csv('vrp_ekz_fact.csv')\n",
    "\n",
    "lagr = csv['o_ifo_agro_kzylkoga']\n",
    "Nagr = csv['o_prod_agro_kzylkoga']\n",
    "\n",
    "lmin = csv['o_ifo_mining_kzylkoga']\n",
    "Nmin = csv['o_prod_mining_kzylkoga']\n",
    "\n",
    "lman = csv['o_ifo_man_kzylkoga']\n",
    "Nman = csv['o_prod_man_kzylkoga']\n",
    "\n",
    "lcon = csv['o_ifo_building_kzylkoga']\n",
    "Ncon = csv['o_prod_building_kzylkoga']\n",
    "\n",
    "lamm= (lagr*Nagr.shift(1)+lmin*Nmin.shift(1)+lman*Nman.shift(1))/(Nagr.shift(1)+Nmin.shift(1)+Nman.shift(1))\n",
    "\n",
    "lamm.to_csv(r'lamm(2001-2018).csv', index = False)"
   ]
  },
  {
   "cell_type": "code",
   "execution_count": null,
   "metadata": {},
   "outputs": [],
   "source": []
  }
 ],
 "metadata": {
  "kernelspec": {
   "display_name": "Python 3",
   "language": "python",
   "name": "python3"
  },
  "language_info": {
   "codemirror_mode": {
    "name": "ipython",
    "version": 3
   },
   "file_extension": ".py",
   "mimetype": "text/x-python",
   "name": "python",
   "nbconvert_exporter": "python",
   "pygments_lexer": "ipython3",
   "version": "3.7.6"
  }
 },
 "nbformat": 4,
 "nbformat_minor": 4
}
