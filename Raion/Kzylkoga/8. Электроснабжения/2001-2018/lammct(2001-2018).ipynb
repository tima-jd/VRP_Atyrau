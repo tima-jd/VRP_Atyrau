{
 "cells": [
  {
   "cell_type": "code",
   "execution_count": 2,
   "metadata": {},
   "outputs": [
    {
     "data": {
      "text/plain": [
       "0            NaN\n",
       "1     141.684783\n",
       "2     113.071447\n",
       "3     128.837475\n",
       "4     156.848134\n",
       "5     101.413855\n",
       "6     104.616798\n",
       "7     100.258312\n",
       "8     101.042671\n",
       "9     121.522374\n",
       "10     98.781210\n",
       "11    105.186318\n",
       "12    109.465931\n",
       "13    101.695439\n",
       "14    103.785822\n",
       "15     98.803384\n",
       "16    101.535243\n",
       "17     98.187428\n",
       "18    100.021898\n",
       "dtype: float64"
      ]
     },
     "execution_count": 2,
     "metadata": {},
     "output_type": "execute_result"
    }
   ],
   "source": [
    "import pandas as pd\n",
    "csv = pd.read_csv('vrp_ekz_fact.csv')\n",
    "\n",
    "l = pd.read_csv('lamm(2001-2018).csv')\n",
    "lt = pd.read_csv('ltrd(2001-2018).csv') \n",
    "Nt = pd.read_csv('Ntrd(2001-2018).csv') \n",
    "\n",
    "lamm = l['0']\n",
    "ltrd = lt['0']\n",
    "Ntrd = Nt['0']\n",
    "\n",
    "lagr = csv['o_ifo_agro_kzylkoga']\n",
    "Nagr = csv['o_prod_agro_kzylkoga']\n",
    "\n",
    "lmin = csv['o_ifo_mining_kzylkoga']\n",
    "Nmin = csv['o_prod_mining_kzylkoga']\n",
    "\n",
    "lman = csv['o_ifo_man_kzylkoga']\n",
    "Nman = csv['o_prod_man_kzylkoga']\n",
    "\n",
    "\n",
    "lcon = csv['o_ifo_building_kzylkoga']\n",
    "Ncon = csv['o_prod_building_kzylkoga']\n",
    "\n",
    "lammct = (lagr*Nagr.shift(1) + lmin*Nmin.shift(1)+lman*Nman.shift(1)+lcon*Ncon.shift(1)+ ltrd*Ntrd.shift(1))/(Nagr.shift(1)+Nmin.shift(1)+Nman.shift(1)+Ncon.shift(1)+Ntrd.shift(1))\n",
    "\n",
    "lammct"
   ]
  },
  {
   "cell_type": "code",
   "execution_count": null,
   "metadata": {},
   "outputs": [],
   "source": []
  }
 ],
 "metadata": {
  "kernelspec": {
   "display_name": "Python 3",
   "language": "python",
   "name": "python3"
  },
  "language_info": {
   "codemirror_mode": {
    "name": "ipython",
    "version": 3
   },
   "file_extension": ".py",
   "mimetype": "text/x-python",
   "name": "python",
   "nbconvert_exporter": "python",
   "pygments_lexer": "ipython3",
   "version": "3.7.6"
  }
 },
 "nbformat": 4,
 "nbformat_minor": 4
}
