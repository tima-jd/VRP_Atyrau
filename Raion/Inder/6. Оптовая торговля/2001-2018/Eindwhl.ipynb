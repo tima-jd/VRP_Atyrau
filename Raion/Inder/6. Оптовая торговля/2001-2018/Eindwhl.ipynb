{
 "cells": [
  {
   "cell_type": "code",
   "execution_count": 9,
   "metadata": {},
   "outputs": [
    {
     "data": {
      "text/plain": [
       "0      0.0\n",
       "1      0.0\n",
       "2      0.0\n",
       "3      0.0\n",
       "4      0.0\n",
       "5      0.0\n",
       "6      0.0\n",
       "7      0.0\n",
       "8      0.0\n",
       "9     24.9\n",
       "10     0.0\n",
       "11     0.0\n",
       "12     0.0\n",
       "13     0.0\n",
       "14     0.0\n",
       "15     0.0\n",
       "16     0.0\n",
       "17     0.0\n",
       "18     0.0\n",
       "Name: o_ifo_trade_isatai, dtype: float64"
      ]
     },
     "execution_count": 9,
     "metadata": {},
     "output_type": "execute_result"
    }
   ],
   "source": [
    "from scipy.stats.mstats import gmean\n",
    "\n",
    "import pandas as pd\n",
    "csv = pd.read_csv('vrp_ekz_fact.csv')\n",
    "a = pd.read_csv('Dind, lind,Nind (2001-2018).csv')\n",
    "l = pd.read_csv('lamm(2001-2018).csv')\n",
    "\n",
    "Dind = a['Dind']\n",
    "\n",
    "lamm = l['0']\n",
    "\n",
    "lwhl = csv['o_ifo_trade_isatai']\n",
    "Nwhl = csv['o_prod_trade_isatai']\n",
    "\n",
    "Dwhl = Nwhl/Nwhl.shift(1)/lwhl * 10000\n",
    "\n",
    "Eindwhl = (gmean(Dwhl[9:]))/(gmean(Dind[9:]))\n",
    "\n"
   ]
  },
  {
   "cell_type": "code",
   "execution_count": null,
   "metadata": {},
   "outputs": [],
   "source": []
  }
 ],
 "metadata": {
  "kernelspec": {
   "display_name": "Python 3",
   "language": "python",
   "name": "python3"
  },
  "language_info": {
   "codemirror_mode": {
    "name": "ipython",
    "version": 3
   },
   "file_extension": ".py",
   "mimetype": "text/x-python",
   "name": "python",
   "nbconvert_exporter": "python",
   "pygments_lexer": "ipython3",
   "version": "3.7.6"
  }
 },
 "nbformat": 4,
 "nbformat_minor": 4
}
