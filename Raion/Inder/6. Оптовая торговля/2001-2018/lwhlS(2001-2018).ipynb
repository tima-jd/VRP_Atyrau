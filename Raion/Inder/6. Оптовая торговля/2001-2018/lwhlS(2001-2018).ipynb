{
 "cells": [
  {
   "cell_type": "code",
   "execution_count": 3,
   "metadata": {},
   "outputs": [
    {
     "name": "stderr",
     "output_type": "stream",
     "text": [
      "C:\\Users\\HP\\anaconda3\\lib\\site-packages\\ipykernel_launcher.py:13: RuntimeWarning: divide by zero encountered in double_scalars\n",
      "  del sys.path[0]\n"
     ]
    },
    {
     "data": {
      "text/plain": [
       "0         inf\n",
       "1         inf\n",
       "2         inf\n",
       "3         inf\n",
       "4         inf\n",
       "5         inf\n",
       "6         inf\n",
       "7         inf\n",
       "8     20.7625\n",
       "9     24.2921\n",
       "10     28.519\n",
       "11    51.4482\n",
       "12    58.2394\n",
       "13    85.2625\n",
       "14    74.4341\n",
       "15    100.933\n",
       "16     62.982\n",
       "17    118.343\n",
       "18        100\n",
       "Name: c1, dtype: object"
      ]
     },
     "execution_count": 3,
     "metadata": {},
     "output_type": "execute_result"
    }
   ],
   "source": [
    "import pandas as pd\n",
    "csv = pd.read_csv('vrp_ekz_fact.csv')\n",
    "l = pd.read_csv('lamm(2001-2018).csv')\n",
    "lamm = l['0']\n",
    "lwhl = csv['o_ifo_trade_inder']\n",
    "\n",
    "c=100\n",
    "\n",
    "i=18\n",
    "newdf = pd.DataFrame(columns=['c1'], index=range(19))\n",
    "while i>0:\n",
    "    \n",
    "    c = c/lwhl[i]*100 \n",
    "    i = i-1\n",
    "    newdf.loc[i].c1 = c\n",
    "    \n",
    "S = newdf['c1']\n",
    "S[18]=100\n",
    "lwhlS = S\n",
    "lwhlS"
   ]
  },
  {
   "cell_type": "code",
   "execution_count": null,
   "metadata": {},
   "outputs": [],
   "source": []
  }
 ],
 "metadata": {
  "kernelspec": {
   "display_name": "Python 3",
   "language": "python",
   "name": "python3"
  },
  "language_info": {
   "codemirror_mode": {
    "name": "ipython",
    "version": 3
   },
   "file_extension": ".py",
   "mimetype": "text/x-python",
   "name": "python",
   "nbconvert_exporter": "python",
   "pygments_lexer": "ipython3",
   "version": "3.7.6"
  }
 },
 "nbformat": 4,
 "nbformat_minor": 4
}
