{
 "cells": [
  {
   "cell_type": "code",
   "execution_count": 3,
   "metadata": {},
   "outputs": [],
   "source": [
    "import pandas as pd\n",
    "import numpy as np\n",
    "csv_f = pd.read_csv('vrp_ekz_fact.csv')\n",
    "csv_file = pd.read_csv('vrp_ekz_prog.csv')\n",
    "Dcon = pd.read_csv('Dcon(2019-2025).csv')\n",
    "lcon = pd.read_csv('lcon(2019-2025).csv')\n",
    "\n",
    "Dcon_b = Dcon['Dcon_b']\n",
    "Dcon_o = Dcon['Dcon_o']\n",
    "Dcon_p = Dcon['Dcon_p']\n",
    "\n",
    "lcon_b = lcon['lcon_b']\n",
    "lcon_o = lcon['lcon_o']\n",
    "lcon_p = lcon['lcon_p']\n",
    "\n",
    "\n",
    "newdf = pd.DataFrame(columns=['Ncon_b','Ncon_o','Ncon_p'], index=range(12))\n",
    "\n",
    "b = 446\n",
    "o = 446\n",
    "p = 446\n",
    "i=0\n",
    "\n",
    "while i<=len(lcon_b)-1:\n",
    "    b = b * lcon_b[i] * Dcon_b[i]/10000\n",
    "    o = o * lcon_o[i] * Dcon_o[i]/10000\n",
    "    p = p * lcon_p[i] * Dcon_p[i]/10000\n",
    "    \n",
    "    newdf.loc[i].Ncon_b = b \n",
    "    newdf.loc[i].Ncon_o = o\n",
    "    newdf.loc[i].Ncon_p = p    \n",
    "    i=i+1\n",
    "\n",
    "newdf.to_csv(r'Ncon_Inder(2019-2025).csv')"
   ]
  },
  {
   "cell_type": "code",
   "execution_count": null,
   "metadata": {},
   "outputs": [],
   "source": []
  }
 ],
 "metadata": {
  "kernelspec": {
   "display_name": "Python 3",
   "language": "python",
   "name": "python3"
  },
  "language_info": {
   "codemirror_mode": {
    "name": "ipython",
    "version": 3
   },
   "file_extension": ".py",
   "mimetype": "text/x-python",
   "name": "python",
   "nbconvert_exporter": "python",
   "pygments_lexer": "ipython3",
   "version": "3.7.6"
  }
 },
 "nbformat": 4,
 "nbformat_minor": 4
}
