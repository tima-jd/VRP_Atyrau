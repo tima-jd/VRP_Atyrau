{
 "cells": [
  {
   "cell_type": "code",
   "execution_count": 2,
   "metadata": {},
   "outputs": [
    {
     "data": {
      "text/plain": [
       "0     13.9228\n",
       "1      35.364\n",
       "2     45.0891\n",
       "3     64.6127\n",
       "4     103.962\n",
       "5     103.962\n",
       "6     75.1644\n",
       "7     65.5434\n",
       "8     62.3973\n",
       "9     60.8374\n",
       "10    58.2214\n",
       "11    79.2393\n",
       "12    74.5642\n",
       "13    134.066\n",
       "14    203.379\n",
       "15    147.246\n",
       "16    83.0468\n",
       "17    101.317\n",
       "18        100\n",
       "Name: c1, dtype: object"
      ]
     },
     "execution_count": 2,
     "metadata": {},
     "output_type": "execute_result"
    }
   ],
   "source": [
    "import pandas as pd\n",
    "csv = pd.read_csv('vrp_ekz_fact.csv')\n",
    "lmin = csv['o_ifo_mining_inder']\n",
    "\n",
    "i=18\n",
    "c=100\n",
    "newdf = pd.DataFrame(columns=['c1'], index=range(18))\n",
    "while i> 0:\n",
    "    c = (c/lmin[i]) * 100\n",
    "    i=i-1\n",
    "    newdf.loc[i].c1 = c\n",
    "lminS=newdf['c1']\n",
    "lminS[18]=100\n",
    "\n",
    "lminS"
   ]
  },
  {
   "cell_type": "code",
   "execution_count": null,
   "metadata": {},
   "outputs": [],
   "source": []
  }
 ],
 "metadata": {
  "kernelspec": {
   "display_name": "Python 3",
   "language": "python",
   "name": "python3"
  },
  "language_info": {
   "codemirror_mode": {
    "name": "ipython",
    "version": 3
   },
   "file_extension": ".py",
   "mimetype": "text/x-python",
   "name": "python",
   "nbconvert_exporter": "python",
   "pygments_lexer": "ipython3",
   "version": "3.7.6"
  }
 },
 "nbformat": 4,
 "nbformat_minor": 4
}
