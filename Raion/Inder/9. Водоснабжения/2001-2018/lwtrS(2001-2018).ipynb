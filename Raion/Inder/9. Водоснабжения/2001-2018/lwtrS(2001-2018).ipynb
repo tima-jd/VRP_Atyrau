{
 "cells": [
  {
   "cell_type": "code",
   "execution_count": 1,
   "metadata": {},
   "outputs": [
    {
     "data": {
      "text/plain": [
       "0     4.94129\n",
       "1     5.76648\n",
       "2      4.0769\n",
       "3      4.6599\n",
       "4     4.83698\n",
       "5     4.01953\n",
       "6     3.14327\n",
       "7     4.10825\n",
       "8     4.16166\n",
       "9     5.71396\n",
       "10     6.8339\n",
       "11    9.02074\n",
       "12    9.32745\n",
       "13    8.34807\n",
       "14    15.6693\n",
       "15    13.7733\n",
       "16    24.2824\n",
       "17    32.5627\n",
       "18        100\n",
       "Name: c1, dtype: object"
      ]
     },
     "execution_count": 1,
     "metadata": {},
     "output_type": "execute_result"
    }
   ],
   "source": [
    "import pandas as pd\n",
    "csv = pd.read_csv('vrp_ekz_fact.csv')\n",
    "lwtr = csv['o_ifo_water_inder']\n",
    "\n",
    "c=100\n",
    "i=18\n",
    "\n",
    "\n",
    "newdf = pd.DataFrame(columns=['c1'], index=range(19))\n",
    "\n",
    "while i>0:    \n",
    "    c = c/lwtr[i]*100 \n",
    "    i = i-1\n",
    "    newdf.loc[i].c1 = c\n",
    "    \n",
    "lwtrS = newdf['c1']\n",
    "lwtrS[18]=100\n",
    "\n",
    "lwtrS"
   ]
  },
  {
   "cell_type": "code",
   "execution_count": null,
   "metadata": {},
   "outputs": [],
   "source": []
  }
 ],
 "metadata": {
  "kernelspec": {
   "display_name": "Python 3",
   "language": "python",
   "name": "python3"
  },
  "language_info": {
   "codemirror_mode": {
    "name": "ipython",
    "version": 3
   },
   "file_extension": ".py",
   "mimetype": "text/x-python",
   "name": "python",
   "nbconvert_exporter": "python",
   "pygments_lexer": "ipython3",
   "version": "3.7.6"
  }
 },
 "nbformat": 4,
 "nbformat_minor": 4
}
