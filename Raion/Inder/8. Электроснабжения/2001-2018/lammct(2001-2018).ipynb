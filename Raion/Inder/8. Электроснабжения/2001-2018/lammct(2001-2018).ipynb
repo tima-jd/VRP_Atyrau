{
 "cells": [
  {
   "cell_type": "code",
   "execution_count": 1,
   "metadata": {},
   "outputs": [
    {
     "data": {
      "text/plain": [
       "0             NaN\n",
       "1      128.611263\n",
       "2      101.244391\n",
       "3      110.066027\n",
       "4     1403.607520\n",
       "5      109.018493\n",
       "6      113.228935\n",
       "7      104.350537\n",
       "8       99.948653\n",
       "9       92.640014\n",
       "10     189.148178\n",
       "11     297.678808\n",
       "12      97.538798\n",
       "13     416.597991\n",
       "14     796.773343\n",
       "15      74.656250\n",
       "16      88.868509\n",
       "17     121.167131\n",
       "18     155.887552\n",
       "dtype: float64"
      ]
     },
     "execution_count": 1,
     "metadata": {},
     "output_type": "execute_result"
    }
   ],
   "source": [
    "import pandas as pd\n",
    "csv = pd.read_csv('vrp_ekz_fact.csv')\n",
    "\n",
    "l = pd.read_csv('lamm(2001-2018).csv')\n",
    "lt = pd.read_csv('ltrd(2001-2018).csv') \n",
    "Nt = pd.read_csv('Ntrd(2001-2018).csv') \n",
    "\n",
    "lamm = l['0']\n",
    "ltrd = lt['0']\n",
    "Ntrd = Nt['0']\n",
    "\n",
    "\n",
    "lagr = csv['o_ifo_agro_inder']\n",
    "Nagr = csv['o_prod_agro_inder']\n",
    "\n",
    "lmin = csv['o_ifo_mining_inder']\n",
    "Nmin = csv['o_prod_mining_inder']\n",
    "\n",
    "lman = csv['o_ifo_man_inder']\n",
    "Nman = csv['o_prod_man_inder']\n",
    "\n",
    "lcon = csv['o_ifo_building_inder']\n",
    "Ncon = csv['o_prod_building_inder']\n",
    "\n",
    "lammct = (lagr*Nagr.shift(1) + lmin*Nmin.shift(1)+lman*Nman.shift(1)+lcon*Ncon.shift(1)+ ltrd*Ntrd.shift(1))/(Nagr.shift(1)+Nmin.shift(1)+Nman.shift(1)+Ncon.shift(1)+Ntrd.shift(1))\n",
    "\n",
    "lammct"
   ]
  },
  {
   "cell_type": "code",
   "execution_count": null,
   "metadata": {},
   "outputs": [],
   "source": []
  }
 ],
 "metadata": {
  "kernelspec": {
   "display_name": "Python 3",
   "language": "python",
   "name": "python3"
  },
  "language_info": {
   "codemirror_mode": {
    "name": "ipython",
    "version": 3
   },
   "file_extension": ".py",
   "mimetype": "text/x-python",
   "name": "python",
   "nbconvert_exporter": "python",
   "pygments_lexer": "ipython3",
   "version": "3.7.6"
  }
 },
 "nbformat": 4,
 "nbformat_minor": 4
}
