{
 "cells": [
  {
   "cell_type": "code",
   "execution_count": 5,
   "metadata": {},
   "outputs": [
    {
     "data": {
      "text/plain": [
       "0            NaN\n",
       "1      62.500000\n",
       "2     102.857143\n",
       "3     116.666667\n",
       "4     107.142857\n",
       "5      95.555556\n",
       "6      86.046512\n",
       "7     108.108108\n",
       "8     120.000000\n",
       "9     131.250000\n",
       "10     93.650794\n",
       "11    103.389831\n",
       "12    101.639344\n",
       "13    130.645161\n",
       "14    138.765432\n",
       "15    145.106762\n",
       "16    106.683017\n",
       "17    104.597701\n",
       "18    104.010989\n",
       "dtype: float64"
      ]
     },
     "execution_count": 5,
     "metadata": {},
     "output_type": "execute_result"
    }
   ],
   "source": [
    "import pandas as pd\n",
    "xlsx = pd.read_csv('vrp_ekz_fact.csv')\n",
    "Gplg = ((xlsx['o_potato_inder'] + xlsx['o_grain_inder'] + xlsx['o_vegetables_inder'])/(xlsx['o_potato_inder'].shift(1) + xlsx['o_grain_inder'].shift(1) + xlsx['o_vegetables_inder'].shift(1))) * 100\n",
    "Gplg"
   ]
  },
  {
   "cell_type": "code",
   "execution_count": null,
   "metadata": {},
   "outputs": [],
   "source": []
  }
 ],
 "metadata": {
  "kernelspec": {
   "display_name": "Python 3",
   "language": "python",
   "name": "python3"
  },
  "language_info": {
   "codemirror_mode": {
    "name": "ipython",
    "version": 3
   },
   "file_extension": ".py",
   "mimetype": "text/x-python",
   "name": "python",
   "nbconvert_exporter": "python",
   "pygments_lexer": "ipython3",
   "version": "3.7.6"
  }
 },
 "nbformat": 4,
 "nbformat_minor": 4
}
