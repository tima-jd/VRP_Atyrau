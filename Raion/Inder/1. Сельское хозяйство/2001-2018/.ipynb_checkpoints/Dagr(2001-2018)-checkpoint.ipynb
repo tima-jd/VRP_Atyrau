{
 "cells": [
  {
   "cell_type": "code",
   "execution_count": 1,
   "metadata": {},
   "outputs": [
    {
     "data": {
      "text/plain": [
       "0            NaN\n",
       "1     111.370957\n",
       "2     111.379739\n",
       "3     111.362503\n",
       "4     107.916573\n",
       "5     137.238673\n",
       "6     117.355578\n",
       "7     118.345606\n",
       "8     111.381150\n",
       "9     105.939833\n",
       "10    151.353552\n",
       "11    148.122122\n",
       "12    111.208636\n",
       "13    109.167251\n",
       "14    109.705139\n",
       "15     85.874804\n",
       "16     97.759555\n",
       "17     96.553874\n",
       "18    104.086807\n",
       "dtype: float64"
      ]
     },
     "execution_count": 1,
     "metadata": {},
     "output_type": "execute_result"
    }
   ],
   "source": [
    "import pandas as pd\n",
    "import numpy as np\n",
    "csv_file = pd.read_csv('vrp_ekz_fact.csv')\n",
    "lagr = csv_file['o_ifo_agro_inder']\n",
    "Nagr= csv_file['o_prod_agro_inder']\n",
    "Dagr = Nagr/Nagr.shift(1)/lagr*10000\n",
    "\n",
    "Dagr"
   ]
  },
  {
   "cell_type": "code",
   "execution_count": null,
   "metadata": {},
   "outputs": [],
   "source": []
  }
 ],
 "metadata": {
  "kernelspec": {
   "display_name": "Python 3",
   "language": "python",
   "name": "python3"
  },
  "language_info": {
   "codemirror_mode": {
    "name": "ipython",
    "version": 3
   },
   "file_extension": ".py",
   "mimetype": "text/x-python",
   "name": "python",
   "nbconvert_exporter": "python",
   "pygments_lexer": "ipython3",
   "version": "3.7.6"
  }
 },
 "nbformat": 4,
 "nbformat_minor": 4
}
