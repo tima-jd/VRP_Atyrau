{
 "cells": [
  {
   "cell_type": "code",
   "execution_count": 3,
   "metadata": {},
   "outputs": [
    {
     "data": {
      "text/plain": [
       "2.4853648695011965"
      ]
     },
     "execution_count": 3,
     "metadata": {},
     "output_type": "execute_result"
    }
   ],
   "source": [
    "import pandas as pd\n",
    "csv = pd.read_csv('vrp_ekz_fact.csv')\n",
    "lcon = csv['o_ifo_building_atyrau']\n",
    "com = csv['o_housing_atyrau']\n",
    "\n",
    "Gcom = com/com.shift(1)*100\n",
    "\n",
    "i=18\n",
    "c=100\n",
    "b=100\n",
    "newdf = pd.DataFrame(columns=['c1','c2'], index=range(18))\n",
    "while i> 0:\n",
    "    c = (c/lcon[i]) * 100\n",
    "    b = (b/Gcom[i]) * 100\n",
    "    \n",
    "    i=i-1\n",
    "    \n",
    "    newdf.loc[i].c1 = c\n",
    "    newdf.loc[i].c2 = b\n",
    "    \n",
    "lconS=newdf['c1']\n",
    "lconS[18]=100\n",
    "GcomS=newdf['c2']\n",
    "GcomS[18]=100\n",
    "\n",
    "Ecom= ((GcomS-GcomS.mean())*(lconS-lconS.mean())).sum()/((GcomS-GcomS.mean())**2).sum()\n",
    "\n",
    "Ecom"
   ]
  },
  {
   "cell_type": "code",
   "execution_count": null,
   "metadata": {},
   "outputs": [],
   "source": []
  }
 ],
 "metadata": {
  "kernelspec": {
   "display_name": "Python 3",
   "language": "python",
   "name": "python3"
  },
  "language_info": {
   "codemirror_mode": {
    "name": "ipython",
    "version": 3
   },
   "file_extension": ".py",
   "mimetype": "text/x-python",
   "name": "python",
   "nbconvert_exporter": "python",
   "pygments_lexer": "ipython3",
   "version": "3.7.6"
  }
 },
 "nbformat": 4,
 "nbformat_minor": 4
}
