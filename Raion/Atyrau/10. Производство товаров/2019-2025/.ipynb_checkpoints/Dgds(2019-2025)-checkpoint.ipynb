{
 "cells": [
  {
   "cell_type": "code",
   "execution_count": 1,
   "metadata": {},
   "outputs": [
    {
     "data": {
      "text/plain": [
       "0     103.989902\n",
       "1     100.302523\n",
       "2      98.074740\n",
       "3      97.430793\n",
       "4      97.036172\n",
       "5      96.685931\n",
       "6      97.192338\n",
       "7      87.073118\n",
       "8      89.462770\n",
       "9      93.297232\n",
       "10     93.614616\n",
       "11     95.434160\n",
       "12     92.175307\n",
       "13     92.550452\n",
       "14     92.035557\n",
       "15     99.277513\n",
       "16    100.740929\n",
       "17    100.044024\n",
       "18    101.825331\n",
       "19    102.693531\n",
       "20     88.318411\n",
       "dtype: float64"
      ]
     },
     "execution_count": 1,
     "metadata": {},
     "output_type": "execute_result"
    }
   ],
   "source": [
    "import pandas as pd\n",
    "\n",
    "csv = pd.read_csv('vrp_ekz_fact.csv')\n",
    "\n",
    "Nagr_csv = pd.read_csv('Nagr(2019-2025).csv')\n",
    "Ncon_csv = pd.read_csv('Ncon(2019-2025).csv')\n",
    "Nind_csv = pd.read_csv('Dind, lind,Nind (2001-2018).csv')\n",
    "\n",
    "Nind_csv = pd.read_csv('Расчет по Оптовой торговле, Электро и Водоснабжению.csv')\n",
    "\n",
    "lagr_csv = pd.read_csv('lagrt(2019-2025).csv')\n",
    "lcon_csv = pd.read_csv('lcon(2019-2025).csv')\n",
    "\n",
    "lagr_f = csv['o_ifo_agro_atyrau'] \n",
    "lcon_f = csv['o_ifo_building_atyrau'] \n",
    "\n",
    "Nagr_f = csv['o_prod_agro_atyrau']\n",
    "Ncon_f = csv['o_prod_building_atyrau']\n",
    "Nind_f = Nind_csv['Nind']\n",
    "\n",
    "Nagr = Nagr_csv['c1']\n",
    "Ncon = Ncon_csv['c1']\n",
    "\n",
    "lagr = lagr_csv['c1']\n",
    "lcon = lcon_csv['c1']\n",
    "\n",
    "Nind = Nind_csv['Nind']\n",
    "lind = Nind_csv['lind']\n",
    "\n",
    "lgds = (lagr[1:]*Nagr.shift(1) + lind[1:]*Nind.shift(1) + lcon[1:]*Ncon.shift(1))/(Nagr.shift(1)+Nind.shift(1)+Ncon.shift(1))\n",
    "\n",
    "lgds[0]=(lagr[0]*Nagr_f[18]+lind[0]*Nind_f[18]+lcon[0]*Ncon_f[18])/(Ncon_f[18]+Nind_f[18]+Nagr_f[18])\n",
    "\n",
    "lgds"
   ]
  },
  {
   "cell_type": "code",
   "execution_count": 2,
   "metadata": {},
   "outputs": [
    {
     "data": {
      "text/plain": [
       "0     7.627007e+05\n",
       "1     8.745050e+05\n",
       "2     8.993441e+05\n",
       "3     9.240698e+05\n",
       "4     9.451978e+05\n",
       "5     9.563607e+05\n",
       "6     9.776604e+05\n",
       "7     8.014985e+05\n",
       "8     1.071653e+06\n",
       "9     1.105760e+06\n",
       "10    1.155588e+06\n",
       "11    1.279277e+06\n",
       "12    1.317669e+06\n",
       "13    1.372320e+06\n",
       "14    8.246381e+05\n",
       "15    8.295665e+05\n",
       "16    8.422662e+05\n",
       "17    8.266712e+05\n",
       "18    8.346371e+05\n",
       "19    8.532868e+05\n",
       "20    8.809478e+05\n",
       "dtype: float64"
      ]
     },
     "execution_count": 2,
     "metadata": {},
     "output_type": "execute_result"
    }
   ],
   "source": [
    "import pandas as pd\n",
    "\n",
    "Nagr_csv = pd.read_csv('Nagr(2019-2025).csv')\n",
    "Ncon_csv = pd.read_csv('Ncon(2019-2025).csv')\n",
    "Nind_csv = pd.read_csv('Расчет по Оптовой торговле, Электро и Водоснабжению.csv')\n",
    "\n",
    "Nagr = Nagr_csv['c1']\n",
    "Ncon = Ncon_csv['c1']\n",
    "Nind = Nind_csv['Nind']\n",
    "\n",
    "Ngds = Nind + Ncon + Nagr\n",
    "Ngds"
   ]
  },
  {
   "cell_type": "code",
   "execution_count": null,
   "metadata": {},
   "outputs": [],
   "source": [
    "Dgds = Ngds[1:]/Ngds.shift(1)/lgds[1:] * 10000\n",
    "Dgds[0] =Ngds[0]/737538.7/lgds[0] * 10000\n",
    "Dgds"
   ]
  }
 ],
 "metadata": {
  "kernelspec": {
   "display_name": "Python 3",
   "language": "python",
   "name": "python3"
  },
  "language_info": {
   "codemirror_mode": {
    "name": "ipython",
    "version": 3
   },
   "file_extension": ".py",
   "mimetype": "text/x-python",
   "name": "python",
   "nbconvert_exporter": "python",
   "pygments_lexer": "ipython3",
   "version": "3.7.6"
  }
 },
 "nbformat": 4,
 "nbformat_minor": 4
}
