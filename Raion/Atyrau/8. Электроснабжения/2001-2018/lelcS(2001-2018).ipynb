{
 "cells": [
  {
   "cell_type": "code",
   "execution_count": 2,
   "metadata": {},
   "outputs": [
    {
     "data": {
      "text/plain": [
       "0     13.4174\n",
       "1     11.7939\n",
       "2     13.3271\n",
       "3     12.5941\n",
       "4     12.9341\n",
       "5     14.1629\n",
       "6      15.395\n",
       "7     16.5651\n",
       "8     17.1283\n",
       "9     17.8476\n",
       "10    18.5616\n",
       "11    19.1184\n",
       "12    20.5714\n",
       "13    21.6617\n",
       "14    88.8562\n",
       "15    136.039\n",
       "16    134.679\n",
       "17    157.978\n",
       "18        100\n",
       "Name: c1, dtype: object"
      ]
     },
     "execution_count": 2,
     "metadata": {},
     "output_type": "execute_result"
    }
   ],
   "source": [
    "import pandas as pd\n",
    "csv = pd.read_csv('vrp_ekz_fact.csv')\n",
    "lelc = csv['o_ifo_energo_atyrau']\n",
    "\n",
    "c=100\n",
    "i=18\n",
    "\n",
    "\n",
    "newdf = pd.DataFrame(columns=['c1'], index=range(19))\n",
    "\n",
    "while i>0:    \n",
    "    c = c/lelc[i]*100 \n",
    "    i = i-1\n",
    "    newdf.loc[i].c1 = c\n",
    "    \n",
    "lelcS = newdf['c1']\n",
    "lelcS[18]=100\n",
    "\n",
    "lelcS"
   ]
  },
  {
   "cell_type": "code",
   "execution_count": null,
   "metadata": {},
   "outputs": [],
   "source": []
  }
 ],
 "metadata": {
  "kernelspec": {
   "display_name": "Python 3",
   "language": "python",
   "name": "python3"
  },
  "language_info": {
   "codemirror_mode": {
    "name": "ipython",
    "version": 3
   },
   "file_extension": ".py",
   "mimetype": "text/x-python",
   "name": "python",
   "nbconvert_exporter": "python",
   "pygments_lexer": "ipython3",
   "version": "3.7.6"
  }
 },
 "nbformat": 4,
 "nbformat_minor": 4
}
