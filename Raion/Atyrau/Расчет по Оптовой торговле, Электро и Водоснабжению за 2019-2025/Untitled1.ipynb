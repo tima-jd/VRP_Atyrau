{
 "cells": [
  {
   "cell_type": "code",
   "execution_count": 13,
   "metadata": {},
   "outputs": [
    {
     "data": {
      "text/plain": [
       "0     105.089402\n",
       "1     105.094169\n",
       "2     105.120557\n",
       "3     105.102849\n",
       "4     105.121318\n",
       "5     105.130745\n",
       "6     105.132991\n",
       "7      76.116703\n",
       "8     105.094169\n",
       "9     105.120557\n",
       "10    105.102849\n",
       "11    105.121318\n",
       "12    105.130745\n",
       "13    105.132991\n",
       "14     79.385589\n",
       "15    105.120557\n",
       "16    105.102849\n",
       "17    105.121318\n",
       "18    105.130745\n",
       "19    105.132991\n",
       "20     76.116703\n",
       "Name: c1, dtype: float64"
      ]
     },
     "execution_count": 13,
     "metadata": {},
     "output_type": "execute_result"
    }
   ],
   "source": [
    "import pandas as pd\n",
    "\n",
    "csv = pd.read_csv('vrp_ekz_fact.csv')\n",
    "csv_p = pd.read_csv('vrp_ekz_prog.csv')\n",
    "\n",
    "lret_csv = pd.read_csv('lret(2019-2025).csv')\n",
    "lwhl_csv = pd.read_csv('lwhl(2019-2025).csv')\n",
    "lagr_csv = pd.read_csv('lagrt(2019-2025).csv')\n",
    "lmin_csv = pd.read_csv('lmin(2019-2025).csv')\n",
    "lcon_csv = pd.read_csv('lcon(2019-2025).csv')\n",
    "ltrd_csv = pd.read_csv('ltrd(2001-2018).csv')\n",
    "man_csv = pd.read_csv('lman, Nman(2019-2025).csv')\n",
    "Ncon_csv = pd.read_csv('Ncon(2019-2025).csv')\n",
    "Ntrd_csv = pd.read_csv('Ntrd(2001-2018).csv')\n",
    "Nmin_csv = pd.read_csv('Nmin(2019-2025).csv')\n",
    "Nret_csv = pd.read_csv('Nret(2019-2025).csv')\n",
    "Nagr_csv = pd.read_csv('Nagr(2019-2025).csv')\n",
    "\n",
    "Nret_f = csv['o_prod_retail_zhylyoi']\n",
    "Nwhl_f = csv['o_prod_trade_zhylyoi']\n",
    "Nagr_f = csv['o_prod_agro_zhylyoi']\n",
    "Nmin_f = csv['o_prod_mining_zhylyoi']\n",
    "Nman_f = csv['o_prod_man_zhylyoi']\n",
    "Ncon_f = csv['o_prod_building_zhylyoi']\n",
    "Nelc_f = csv['o_prod_energo_zhylyoi']\n",
    "Nwtr_f = csv['o_prod_water_zhylyoi']\n",
    "Nind_f = csv['o_prod_water_zhylyoi']\n",
    "\n",
    "lelc_f = csv['o_ifo_energo_zhylyoi']\n",
    "lwtr_f = csv['o_ifo_water_zhylyoi']\n",
    "\n",
    "\n",
    "Ntrd_f = Ntrd_csv['0']\n",
    "ltrd_f = ltrd_csv['0']\n",
    "\n",
    "\n",
    "Nmin = Nmin_csv['c1']\n",
    "\n",
    "Nman = man_csv['Nman']\n",
    "lman = man_csv['lman']\n",
    "\n",
    "lret = lret_csv['c1']\n",
    "lwhl = lwhl_csv['c1']\n",
    "lagr = lagr_csv['c1']\n",
    "lmin = lmin_csv['c1']\n",
    "lcon = lcon_csv['c1']\n",
    "Ncon = Ncon_csv['c1']\n",
    "Nret = Nret_csv['c1']\n",
    "Nagr = Nagr_csv['c1']\n",
    "\n",
    "inf = csv_p['o_inflation']\n",
    "\n",
    "lagr"
   ]
  },
  {
   "cell_type": "code",
   "execution_count": null,
   "metadata": {},
   "outputs": [],
   "source": []
  }
 ],
 "metadata": {
  "kernelspec": {
   "display_name": "Python 3",
   "language": "python",
   "name": "python3"
  },
  "language_info": {
   "codemirror_mode": {
    "name": "ipython",
    "version": 3
   },
   "file_extension": ".py",
   "mimetype": "text/x-python",
   "name": "python",
   "nbconvert_exporter": "python",
   "pygments_lexer": "ipython3",
   "version": "3.7.6"
  }
 },
 "nbformat": 4,
 "nbformat_minor": 4
}
