{
 "cells": [
  {
   "cell_type": "code",
   "execution_count": 8,
   "metadata": {},
   "outputs": [
    {
     "data": {
      "text/plain": [
       "0     102.120320\n",
       "1     115.088889\n",
       "2      99.761859\n",
       "3     100.645161\n",
       "4     100.000000\n",
       "5      98.076923\n",
       "6     100.000000\n",
       "7      88.235294\n",
       "8     118.577185\n",
       "9      99.638554\n",
       "10    102.485320\n",
       "11    112.802764\n",
       "12     98.429222\n",
       "13    101.106359\n",
       "14     83.385185\n",
       "15     99.826357\n",
       "16     99.684386\n",
       "17     93.127888\n",
       "18     97.847868\n",
       "19     99.276406\n",
       "20     98.005195\n",
       "Name: o_oil_atyrau, dtype: float64"
      ]
     },
     "execution_count": 8,
     "metadata": {},
     "output_type": "execute_result"
    }
   ],
   "source": [
    "import pandas as pd\n",
    "csv = pd.read_csv('vrp_ekz_prog.csv')\n",
    "voil = csv['o_oil_atyrau']\n",
    "c=csv['o_year']\n",
    "\n",
    "l=voil.shift(1)\n",
    "l[0]= 13219.7\n",
    "Gvoil= voil/l*100\n",
    "Gvoil"
   ]
  },
  {
   "cell_type": "code",
   "execution_count": null,
   "metadata": {},
   "outputs": [],
   "source": []
  }
 ],
 "metadata": {
  "kernelspec": {
   "display_name": "Python 3",
   "language": "python",
   "name": "python3"
  },
  "language_info": {
   "codemirror_mode": {
    "name": "ipython",
    "version": 3
   },
   "file_extension": ".py",
   "mimetype": "text/x-python",
   "name": "python",
   "nbconvert_exporter": "python",
   "pygments_lexer": "ipython3",
   "version": "3.7.6"
  }
 },
 "nbformat": 4,
 "nbformat_minor": 4
}
