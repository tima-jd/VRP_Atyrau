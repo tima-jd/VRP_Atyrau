{
 "cells": [
  {
   "cell_type": "code",
   "execution_count": 4,
   "metadata": {},
   "outputs": [
    {
     "data": {
      "text/plain": [
       "0            NaN\n",
       "1            NaN\n",
       "2            NaN\n",
       "3            NaN\n",
       "4            NaN\n",
       "5            NaN\n",
       "6            NaN\n",
       "7            NaN\n",
       "8            NaN\n",
       "9            NaN\n",
       "10           NaN\n",
       "11           NaN\n",
       "12           NaN\n",
       "13           NaN\n",
       "14           NaN\n",
       "15           NaN\n",
       "16           inf\n",
       "17    865.882968\n",
       "18    159.532975\n",
       "Name: o_oil_atyrau, dtype: float64"
      ]
     },
     "execution_count": 4,
     "metadata": {},
     "output_type": "execute_result"
    }
   ],
   "source": [
    "import pandas as pd\n",
    "csv = pd.read_csv('vrp_ekz_fact.csv')\n",
    "voil = csv['o_oil_atyrau']\n",
    "Gvoil = voil/voil.shift(1)*100\n",
    "Gvoil"
   ]
  },
  {
   "cell_type": "code",
   "execution_count": null,
   "metadata": {},
   "outputs": [],
   "source": []
  }
 ],
 "metadata": {
  "kernelspec": {
   "display_name": "Python 3",
   "language": "python",
   "name": "python3"
  },
  "language_info": {
   "codemirror_mode": {
    "name": "ipython",
    "version": 3
   },
   "file_extension": ".py",
   "mimetype": "text/x-python",
   "name": "python",
   "nbconvert_exporter": "python",
   "pygments_lexer": "ipython3",
   "version": "3.7.6"
  }
 },
 "nbformat": 4,
 "nbformat_minor": 4
}
