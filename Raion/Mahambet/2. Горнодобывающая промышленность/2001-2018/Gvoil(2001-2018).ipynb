{
 "cells": [
  {
   "cell_type": "code",
   "execution_count": 1,
   "metadata": {},
   "outputs": [
    {
     "data": {
      "text/plain": [
       "0     17.73\n",
       "1     20.59\n",
       "2     21.68\n",
       "3     21.38\n",
       "4     22.70\n",
       "5     22.78\n",
       "6     22.73\n",
       "7     23.66\n",
       "8     28.50\n",
       "9     28.80\n",
       "10    40.90\n",
       "11    62.70\n",
       "12    64.50\n",
       "13    69.00\n",
       "14    73.70\n",
       "15    59.00\n",
       "16    52.00\n",
       "17    52.60\n",
       "18    52.10\n",
       "Name: o_oil_makhambet, dtype: float64"
      ]
     },
     "execution_count": 1,
     "metadata": {},
     "output_type": "execute_result"
    }
   ],
   "source": [
    "import pandas as pd\n",
    "csv = pd.read_csv('vrp_ekz_fact.csv')\n",
    "voil = csv['o_oil_makhambet']\n",
    "Gvoil = voil/voil.shift(1)*100\n",
    "voil"
   ]
  },
  {
   "cell_type": "code",
   "execution_count": null,
   "metadata": {},
   "outputs": [],
   "source": []
  }
 ],
 "metadata": {
  "kernelspec": {
   "display_name": "Python 3",
   "language": "python",
   "name": "python3"
  },
  "language_info": {
   "codemirror_mode": {
    "name": "ipython",
    "version": 3
   },
   "file_extension": ".py",
   "mimetype": "text/x-python",
   "name": "python",
   "nbconvert_exporter": "python",
   "pygments_lexer": "ipython3",
   "version": "3.7.6"
  }
 },
 "nbformat": 4,
 "nbformat_minor": 4
}
