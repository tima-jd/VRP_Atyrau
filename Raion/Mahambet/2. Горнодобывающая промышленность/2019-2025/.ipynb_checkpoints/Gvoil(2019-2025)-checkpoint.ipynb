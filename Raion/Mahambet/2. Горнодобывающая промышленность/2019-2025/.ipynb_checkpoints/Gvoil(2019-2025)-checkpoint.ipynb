{
 "cells": [
  {
   "cell_type": "code",
   "execution_count": 1,
   "metadata": {},
   "outputs": [
    {
     "data": {
      "text/plain": [
       "0     101.938580\n",
       "1     103.125588\n",
       "2      99.872193\n",
       "3     101.974406\n",
       "4     116.385801\n",
       "5     100.523722\n",
       "6     101.639595\n",
       "7      80.069350\n",
       "8     106.251177\n",
       "9      99.734184\n",
       "10    103.855721\n",
       "11    131.291702\n",
       "12    100.886109\n",
       "13    102.764144\n",
       "14     67.797888\n",
       "15     99.925844\n",
       "16    101.001855\n",
       "17    108.412932\n",
       "18    100.288038\n",
       "19    100.895422\n",
       "20     88.931681\n",
       "Name: o_oil_makhambet, dtype: float64"
      ]
     },
     "execution_count": 1,
     "metadata": {},
     "output_type": "execute_result"
    }
   ],
   "source": [
    "import pandas as pd\n",
    "csv = pd.read_csv('vrp_ekz_prog.csv')\n",
    "\n",
    "voil = csv['o_oil_makhambet']\n",
    "\n",
    "l=voil.shift(1)\n",
    "l[0]= 52.10\n",
    "Gvoil= voil/l*100\n",
    "Gvoil"
   ]
  },
  {
   "cell_type": "code",
   "execution_count": null,
   "metadata": {},
   "outputs": [],
   "source": []
  }
 ],
 "metadata": {
  "kernelspec": {
   "display_name": "Python 3",
   "language": "python",
   "name": "python3"
  },
  "language_info": {
   "codemirror_mode": {
    "name": "ipython",
    "version": 3
   },
   "file_extension": ".py",
   "mimetype": "text/x-python",
   "name": "python",
   "nbconvert_exporter": "python",
   "pygments_lexer": "ipython3",
   "version": "3.7.6"
  }
 },
 "nbformat": 4,
 "nbformat_minor": 4
}
