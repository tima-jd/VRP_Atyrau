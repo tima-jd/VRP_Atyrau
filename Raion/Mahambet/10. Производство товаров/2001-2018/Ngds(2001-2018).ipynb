{
 "cells": [
  {
   "cell_type": "code",
   "execution_count": 1,
   "metadata": {},
   "outputs": [],
   "source": [
    "import pandas as pd\n",
    "csv = pd.read_csv('vrp_ekz_fact.csv')\n",
    "lind_csv = pd.read_csv('Dind, lind,Nind (2001-2018).csv')\n",
    "\n",
    "Nagr = csv['o_prod_agro_makhambet']\n",
    "Ncon = csv['o_prod_building_makhambet']\n",
    "\n",
    "Nwtr = csv['o_prod_water_makhambet']\n",
    "Nelc = csv['o_prod_energo_makhambet']\n",
    "Nman = csv['o_prod_man_makhambet']\n",
    "Nmin = csv['o_prod_mining_makhambet']\n",
    "\n",
    "lagr = csv['o_ifo_agro_makhambet']\n",
    "lcon = csv['o_ifo_building_makhambet']\n",
    "\n",
    "\n",
    "lind = lind_csv['lind']\n",
    "\n",
    "Nind = Nmin+Nman+Nelc+Nwtr\n",
    "\n",
    "Ngds = Nagr+Nind+Ncon\n",
    "\n",
    "Ngds.to_csv (r'Ngds_Makhambet(2001-2018).csv', index = False)"
   ]
  },
  {
   "cell_type": "code",
   "execution_count": null,
   "metadata": {},
   "outputs": [],
   "source": []
  }
 ],
 "metadata": {
  "kernelspec": {
   "display_name": "Python 3",
   "language": "python",
   "name": "python3"
  },
  "language_info": {
   "codemirror_mode": {
    "name": "ipython",
    "version": 3
   },
   "file_extension": ".py",
   "mimetype": "text/x-python",
   "name": "python",
   "nbconvert_exporter": "python",
   "pygments_lexer": "ipython3",
   "version": "3.7.6"
  }
 },
 "nbformat": 4,
 "nbformat_minor": 4
}
