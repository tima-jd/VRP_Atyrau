{
 "cells": [
  {
   "cell_type": "code",
   "execution_count": 1,
   "metadata": {},
   "outputs": [
    {
     "data": {
      "text/plain": [
       "0            NaN\n",
       "1     162.171390\n",
       "2     142.675967\n",
       "3     163.398693\n",
       "4     172.593808\n",
       "5     113.001166\n",
       "6     194.768912\n",
       "7      60.127310\n",
       "8     112.065879\n",
       "9     103.229516\n",
       "10    106.226685\n",
       "11    107.294825\n",
       "12    104.096060\n",
       "13    121.331934\n",
       "14    104.724437\n",
       "15    102.732297\n",
       "16    110.891152\n",
       "17    110.606646\n",
       "18    109.164844\n",
       "dtype: float64"
      ]
     },
     "execution_count": 1,
     "metadata": {},
     "output_type": "execute_result"
    }
   ],
   "source": [
    "import pandas as pd\n",
    "csv = pd.read_csv('vrp_ekz_fact.csv')\n",
    "Nret = csv['o_prod_retail_makhambet']\n",
    "Nwhl = csv['o_prod_trade_makhambet']\n",
    "lret = csv['o_ifo_retail_makhambet']\n",
    "lwhl = csv['o_ifo_trade_makhambet']\n",
    "Ntrd = Nwhl+Nret\n",
    "\n",
    "\n",
    "ltrd = (lret*Nret.shift(1)+lwhl*Nwhl.shift(1))/Ntrd.shift(1)\n",
    "Dtrd = Ntrd/Ntrd.shift(1)/ltrd*10000\n",
    "\n",
    "Dtrd"
   ]
  },
  {
   "cell_type": "code",
   "execution_count": null,
   "metadata": {},
   "outputs": [],
   "source": []
  }
 ],
 "metadata": {
  "kernelspec": {
   "display_name": "Python 3",
   "language": "python",
   "name": "python3"
  },
  "language_info": {
   "codemirror_mode": {
    "name": "ipython",
    "version": 3
   },
   "file_extension": ".py",
   "mimetype": "text/x-python",
   "name": "python",
   "nbconvert_exporter": "python",
   "pygments_lexer": "ipython3",
   "version": "3.7.6"
  }
 },
 "nbformat": 4,
 "nbformat_minor": 4
}
