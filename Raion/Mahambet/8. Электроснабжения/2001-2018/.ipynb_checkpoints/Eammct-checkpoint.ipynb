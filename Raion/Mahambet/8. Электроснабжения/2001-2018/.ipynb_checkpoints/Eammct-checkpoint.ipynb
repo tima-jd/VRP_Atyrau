{
 "cells": [
  {
   "cell_type": "code",
   "execution_count": 4,
   "metadata": {},
   "outputs": [
    {
     "name": "stderr",
     "output_type": "stream",
     "text": [
      "C:\\Users\\HP\\anaconda3\\lib\\site-packages\\ipykernel_launcher.py:34: RuntimeWarning: divide by zero encountered in double_scalars\n"
     ]
    },
    {
     "data": {
      "text/plain": [
       "-1.5760921397609384"
      ]
     },
     "execution_count": 4,
     "metadata": {},
     "output_type": "execute_result"
    }
   ],
   "source": [
    "import pandas as pd\n",
    "csv = pd.read_csv('vrp_ekz_fact.csv')\n",
    "\n",
    "l = pd.read_csv('lamm(2001-2018).csv')\n",
    "lt = pd.read_csv('ltrd(2001-2018).csv') \n",
    "Nt = pd.read_csv('Ntrd(2001-2018).csv') \n",
    "\n",
    "lamm = l['0']\n",
    "\n",
    "ltrd = lt['0']\n",
    "Ntrd = Nt['0']\n",
    "\n",
    "lelc = csv['o_ifo_energo_makhambet']\n",
    "\n",
    "lagr = csv['o_ifo_agro_makhambet']\n",
    "Nagr = csv['o_prod_agro_makhambet']\n",
    "lmin = csv['o_ifo_mining_makhambet']\n",
    "Nmin = csv['o_prod_mining_makhambet']\n",
    "lman= csv['o_ifo_man_makhambet']\n",
    "Nman = csv['o_prod_man_makhambet']\n",
    "\n",
    "lcon = csv['o_ifo_building_makhambet']\n",
    "Ncon = csv['o_prod_building_makhambet']\n",
    "\n",
    "lammct = (lagr*Nagr.shift(1) + lmin*Nmin.shift(1)+lman*Nman.shift(1)+lcon*Ncon.shift(1)+ ltrd*Ntrd.shift(1))/(Nagr.shift(1)+Nmin.shift(1)+Nman.shift(1)+Ncon.shift(1)+Ntrd.shift(1))\n",
    "\n",
    "c=100\n",
    "b = 100\n",
    "\n",
    "i=18\n",
    "newdf = pd.DataFrame(columns=['c1','b1'], index=range(19))\n",
    "\n",
    "while i>0:\n",
    "    b = b/lelc[i] * 100\n",
    "    c = c/lammct[i]*100 \n",
    "    i = i-1\n",
    "    newdf.loc[i].c1 = c\n",
    "    newdf.loc[i].b1 = b\n",
    "lammctS = newdf['c1']\n",
    "lelcS = newdf['b1']\n",
    "\n",
    "lelcS[18] = 100\n",
    "lelcS[:6] = 0\n",
    "lammctS[18]=100\n",
    "\n",
    "Eammct = ((lammctS-lammctS.mean())*(lelcS-lelcS.mean())).sum()/((lammctS-lammctS.mean())**2).sum()\n",
    "\n",
    "Eammct"
   ]
  },
  {
   "cell_type": "code",
   "execution_count": null,
   "metadata": {},
   "outputs": [],
   "source": []
  }
 ],
 "metadata": {
  "kernelspec": {
   "display_name": "Python 3",
   "language": "python",
   "name": "python3"
  },
  "language_info": {
   "codemirror_mode": {
    "name": "ipython",
    "version": 3
   },
   "file_extension": ".py",
   "mimetype": "text/x-python",
   "name": "python",
   "nbconvert_exporter": "python",
   "pygments_lexer": "ipython3",
   "version": "3.7.6"
  }
 },
 "nbformat": 4,
 "nbformat_minor": 4
}
