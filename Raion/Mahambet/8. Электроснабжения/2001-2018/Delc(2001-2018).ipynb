{
 "cells": [
  {
   "cell_type": "code",
   "execution_count": 1,
   "metadata": {},
   "outputs": [
    {
     "data": {
      "text/plain": [
       "0            NaN\n",
       "1            NaN\n",
       "2            NaN\n",
       "3            NaN\n",
       "4            NaN\n",
       "5            NaN\n",
       "6            NaN\n",
       "7            inf\n",
       "8     148.809524\n",
       "9      99.552016\n",
       "10     71.181615\n",
       "11     99.601594\n",
       "12    152.625153\n",
       "13    607.734807\n",
       "14    137.174211\n",
       "15    130.718954\n",
       "16     92.137592\n",
       "17    102.459016\n",
       "18    104.974160\n",
       "dtype: float64"
      ]
     },
     "execution_count": 1,
     "metadata": {},
     "output_type": "execute_result"
    }
   ],
   "source": [
    "import pandas as pd\n",
    "csv = pd.read_csv('vrp_ekz_fact.csv')\n",
    "\n",
    "lelc = csv['o_ifo_energo_makhambet']\n",
    "Nelc = csv['o_prod_energo_makhambet']\n",
    "\n",
    "Delc = Nelc/Nelc.shift(1)/lelc *10000\n",
    "Delc"
   ]
  },
  {
   "cell_type": "code",
   "execution_count": null,
   "metadata": {},
   "outputs": [],
   "source": []
  }
 ],
 "metadata": {
  "kernelspec": {
   "display_name": "Python 3",
   "language": "python",
   "name": "python3"
  },
  "language_info": {
   "codemirror_mode": {
    "name": "ipython",
    "version": 3
   },
   "file_extension": ".py",
   "mimetype": "text/x-python",
   "name": "python",
   "nbconvert_exporter": "python",
   "pygments_lexer": "ipython3",
   "version": "3.7.6"
  }
 },
 "nbformat": 4,
 "nbformat_minor": 4
}
