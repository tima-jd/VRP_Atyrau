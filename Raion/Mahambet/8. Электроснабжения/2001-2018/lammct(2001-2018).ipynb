{
 "cells": [
  {
   "cell_type": "code",
   "execution_count": 1,
   "metadata": {},
   "outputs": [
    {
     "data": {
      "text/plain": [
       "0            NaN\n",
       "1     129.759775\n",
       "2     100.380949\n",
       "3     102.014461\n",
       "4     102.457680\n",
       "5     101.187138\n",
       "6     109.517400\n",
       "7     270.312184\n",
       "8     103.920469\n",
       "9      98.054165\n",
       "10    319.952567\n",
       "11    262.030159\n",
       "12    334.701221\n",
       "13    144.840374\n",
       "14    313.656593\n",
       "15     93.368892\n",
       "16    101.075306\n",
       "17     84.882778\n",
       "18     88.335519\n",
       "dtype: float64"
      ]
     },
     "execution_count": 1,
     "metadata": {},
     "output_type": "execute_result"
    }
   ],
   "source": [
    "import pandas as pd\n",
    "csv = pd.read_csv('vrp_ekz_fact.csv')\n",
    "\n",
    "l = pd.read_csv('lamm(2001-2018).csv')\n",
    "lt = pd.read_csv('ltrd(2001-2018).csv') \n",
    "Nt = pd.read_csv('Ntrd(2001-2018).csv') \n",
    "\n",
    "lamm = l['0']\n",
    "ltrd = lt['0']\n",
    "Ntrd = Nt['0']\n",
    "\n",
    "lelc = csv['o_ifo_energo_makhambet']\n",
    "\n",
    "lagr = csv['o_ifo_agro_makhambet']\n",
    "Nagr = csv['o_prod_agro_makhambet']\n",
    "lmin = csv['o_ifo_mining_makhambet']\n",
    "Nmin = csv['o_prod_mining_makhambet']\n",
    "lman= csv['o_ifo_man_makhambet']\n",
    "Nman = csv['o_prod_man_makhambet']\n",
    "\n",
    "lcon = csv['o_ifo_building_makhambet']\n",
    "Ncon = csv['o_prod_building_makhambet']\n",
    "lammct = (lagr*Nagr.shift(1) + lmin*Nmin.shift(1)+lman*Nman.shift(1)+lcon*Ncon.shift(1)+ ltrd*Ntrd.shift(1))/(Nagr.shift(1)+Nmin.shift(1)+Nman.shift(1)+Ncon.shift(1)+Ntrd.shift(1))\n",
    "\n",
    "lammct"
   ]
  },
  {
   "cell_type": "code",
   "execution_count": null,
   "metadata": {},
   "outputs": [],
   "source": []
  }
 ],
 "metadata": {
  "kernelspec": {
   "display_name": "Python 3",
   "language": "python",
   "name": "python3"
  },
  "language_info": {
   "codemirror_mode": {
    "name": "ipython",
    "version": 3
   },
   "file_extension": ".py",
   "mimetype": "text/x-python",
   "name": "python",
   "nbconvert_exporter": "python",
   "pygments_lexer": "ipython3",
   "version": "3.7.6"
  }
 },
 "nbformat": 4,
 "nbformat_minor": 4
}
