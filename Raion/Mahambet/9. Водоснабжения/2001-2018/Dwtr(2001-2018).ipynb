{
 "cells": [
  {
   "cell_type": "code",
   "execution_count": 1,
   "metadata": {},
   "outputs": [
    {
     "data": {
      "text/plain": [
       "0              NaN\n",
       "1              NaN\n",
       "2              NaN\n",
       "3              NaN\n",
       "4              NaN\n",
       "5              NaN\n",
       "6              NaN\n",
       "7              inf\n",
       "8     1.492537e+02\n",
       "9     1.331275e+04\n",
       "10    1.048617e+02\n",
       "11    1.045832e+02\n",
       "12    1.111582e+02\n",
       "13    1.027422e+02\n",
       "14    6.077110e+01\n",
       "15    1.279331e+02\n",
       "16    1.008178e+02\n",
       "17    1.062096e+02\n",
       "18    1.098343e+02\n",
       "dtype: float64"
      ]
     },
     "execution_count": 1,
     "metadata": {},
     "output_type": "execute_result"
    }
   ],
   "source": [
    "from scipy.stats.mstats import gmean\n",
    "import pandas as pd\n",
    "csv = pd.read_csv('vrp_ekz_fact.csv')\n",
    "\n",
    "inf = csv['o_inflation']\n",
    "\n",
    "lwtr = csv['o_ifo_water_makhambet']\n",
    "Nwtr = csv['o_prod_water_makhambet']\n",
    "\n",
    "Dwtr = Nwtr/Nwtr.shift(1)/lwtr *10000\n",
    "Dwtr"
   ]
  },
  {
   "cell_type": "code",
   "execution_count": null,
   "metadata": {},
   "outputs": [],
   "source": []
  },
  {
   "cell_type": "code",
   "execution_count": null,
   "metadata": {},
   "outputs": [],
   "source": []
  }
 ],
 "metadata": {
  "kernelspec": {
   "display_name": "Python 3",
   "language": "python",
   "name": "python3"
  },
  "language_info": {
   "codemirror_mode": {
    "name": "ipython",
    "version": 3
   },
   "file_extension": ".py",
   "mimetype": "text/x-python",
   "name": "python",
   "nbconvert_exporter": "python",
   "pygments_lexer": "ipython3",
   "version": "3.7.6"
  }
 },
 "nbformat": 4,
 "nbformat_minor": 4
}
