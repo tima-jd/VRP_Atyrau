{
 "cells": [
  {
   "cell_type": "code",
   "execution_count": 1,
   "metadata": {},
   "outputs": [
    {
     "data": {
      "text/plain": [
       "0            NaN\n",
       "1     162.171390\n",
       "2     142.675967\n",
       "3     163.398693\n",
       "4     172.593808\n",
       "5     113.001166\n",
       "6     194.768912\n",
       "7      60.127310\n",
       "8     112.065879\n",
       "9     103.229516\n",
       "10    106.226685\n",
       "11    107.294825\n",
       "12    104.096060\n",
       "13    103.645391\n",
       "14    107.405034\n",
       "15    107.948952\n",
       "16    118.240247\n",
       "17    111.717874\n",
       "18    107.790984\n",
       "dtype: float64"
      ]
     },
     "execution_count": 1,
     "metadata": {},
     "output_type": "execute_result"
    }
   ],
   "source": [
    "import pandas as pd\n",
    "csv = pd.read_csv('vrp_ekz_fact.csv')\n",
    "lret = csv['o_ifo_retail_makhambet']\n",
    "Nret = csv['o_prod_retail_makhambet']\n",
    "Dret = Nret/Nret.shift(1)/lret * 10000\n",
    "Dret"
   ]
  },
  {
   "cell_type": "code",
   "execution_count": null,
   "metadata": {},
   "outputs": [],
   "source": []
  }
 ],
 "metadata": {
  "kernelspec": {
   "display_name": "Python 3",
   "language": "python",
   "name": "python3"
  },
  "language_info": {
   "codemirror_mode": {
    "name": "ipython",
    "version": 3
   },
   "file_extension": ".py",
   "mimetype": "text/x-python",
   "name": "python",
   "nbconvert_exporter": "python",
   "pygments_lexer": "ipython3",
   "version": "3.7.6"
  }
 },
 "nbformat": 4,
 "nbformat_minor": 4
}
