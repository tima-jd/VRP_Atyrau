{
 "cells": [
  {
   "cell_type": "code",
   "execution_count": 1,
   "metadata": {},
   "outputs": [
    {
     "data": {
      "text/plain": [
       "0     100.658617\n",
       "1     100.981461\n",
       "2     101.007919\n",
       "3     100.997862\n",
       "4     100.988003\n",
       "5     101.013277\n",
       "6     101.003113\n",
       "7      94.212329\n",
       "8     103.053435\n",
       "9     102.962963\n",
       "10    102.911956\n",
       "11    102.862850\n",
       "12    102.783172\n",
       "13    102.707809\n",
       "14     84.304108\n",
       "15    100.000000\n",
       "16     99.963636\n",
       "17    100.000000\n",
       "18     99.963623\n",
       "19    100.000000\n",
       "20    100.109170\n",
       "Name: o_housing_makat, dtype: float64"
      ]
     },
     "execution_count": 1,
     "metadata": {},
     "output_type": "execute_result"
    }
   ],
   "source": [
    "import pandas as pd\n",
    "csv = pd.read_csv('vrp_ekz_prog.csv')\n",
    "com = csv['o_housing_makat']\n",
    "a=com.shift(1)\n",
    "a[0]=27.33\n",
    "Gcom = com/a*100\n",
    "Gcom\n"
   ]
  },
  {
   "cell_type": "code",
   "execution_count": null,
   "metadata": {},
   "outputs": [],
   "source": []
  }
 ],
 "metadata": {
  "kernelspec": {
   "display_name": "Python 3",
   "language": "python",
   "name": "python3"
  },
  "language_info": {
   "codemirror_mode": {
    "name": "ipython",
    "version": 3
   },
   "file_extension": ".py",
   "mimetype": "text/x-python",
   "name": "python",
   "nbconvert_exporter": "python",
   "pygments_lexer": "ipython3",
   "version": "3.7.6"
  }
 },
 "nbformat": 4,
 "nbformat_minor": 4
}
