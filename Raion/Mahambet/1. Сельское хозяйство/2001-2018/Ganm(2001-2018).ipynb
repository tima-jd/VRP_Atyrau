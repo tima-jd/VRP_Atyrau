{
 "cells": [
  {
   "cell_type": "code",
   "execution_count": 1,
   "metadata": {},
   "outputs": [
    {
     "data": {
      "text/plain": [
       "0     6085.64\n",
       "1     6090.18\n",
       "2     6200.88\n",
       "3     6424.48\n",
       "4     6785.06\n",
       "5     7090.42\n",
       "6     7442.02\n",
       "7     7614.32\n",
       "8     7851.40\n",
       "9     8001.60\n",
       "10    8264.78\n",
       "11    8580.62\n",
       "12    6432.48\n",
       "13    6361.92\n",
       "14    6511.46\n",
       "15    7294.72\n",
       "16    7766.92\n",
       "17    8237.26\n",
       "18    8583.82\n",
       "dtype: float64"
      ]
     },
     "execution_count": 1,
     "metadata": {},
     "output_type": "execute_result"
    }
   ],
   "source": [
    "import pandas as pd\n",
    "xlsx = pd.read_csv('vrp_ekz_fact.csv')\n",
    "Ganm = ((xlsx['o_cattle_makhambet'] * xlsx['o_weight_cattle']) + (xlsx['o_goats_makhambet'] * xlsx['o_weight_goats']) + (xlsx['o_horses_makhambet']* xlsx['o_weight_horses']) + (xlsx['o_poultry_makhambet'] * xlsx['o_weight_poultry']))/((xlsx['o_cattle_makhambet'] * xlsx['o_weight_cattle']).shift(1) + (xlsx['o_goats_makhambet'] * xlsx['o_weight_goats']).shift(1) + (xlsx['o_horses_makhambet']* xlsx['o_weight_horses']).shift(1) + (xlsx['o_poultry_makhambet'] * xlsx['o_weight_poultry']).shift(1)) * 100\n",
    "k = ((xlsx['o_cattle_makhambet'] * xlsx['o_weight_cattle']) + (xlsx['o_goats_makhambet'] * xlsx['o_weight_goats']) + (xlsx['o_horses_makhambet']* xlsx['o_weight_horses']) + (xlsx['o_poultry_makhambet'] * xlsx['o_weight_poultry']))\n",
    "k"
   ]
  },
  {
   "cell_type": "code",
   "execution_count": null,
   "metadata": {},
   "outputs": [],
   "source": []
  }
 ],
 "metadata": {
  "kernelspec": {
   "display_name": "Python 3",
   "language": "python",
   "name": "python3"
  },
  "language_info": {
   "codemirror_mode": {
    "name": "ipython",
    "version": 3
   },
   "file_extension": ".py",
   "mimetype": "text/x-python",
   "name": "python",
   "nbconvert_exporter": "python",
   "pygments_lexer": "ipython3",
   "version": "3.7.6"
  }
 },
 "nbformat": 4,
 "nbformat_minor": 4
}
