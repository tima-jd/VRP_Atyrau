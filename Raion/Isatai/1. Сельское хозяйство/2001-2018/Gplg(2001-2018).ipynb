{
 "cells": [
  {
   "cell_type": "code",
   "execution_count": 2,
   "metadata": {},
   "outputs": [
    {
     "data": {
      "text/plain": [
       "0     1.10\n",
       "1     0.30\n",
       "2     0.40\n",
       "3     0.40\n",
       "4     0.40\n",
       "5     0.40\n",
       "6     0.10\n",
       "7     0.10\n",
       "8     0.10\n",
       "9     0.10\n",
       "10    0.10\n",
       "11    0.20\n",
       "12    0.20\n",
       "13    0.00\n",
       "14    0.00\n",
       "15    0.01\n",
       "16    0.11\n",
       "17    0.02\n",
       "18    0.09\n",
       "dtype: float64"
      ]
     },
     "execution_count": 2,
     "metadata": {},
     "output_type": "execute_result"
    }
   ],
   "source": [
    "import pandas as pd\n",
    "xlsx = pd.read_csv('vrp_ekz_fact.csv')\n",
    "Gplg = ((xlsx['o_potato_isatai'] + xlsx['o_grain_isatai'] + xlsx['o_vegetables_isatai'])/(xlsx['o_potato_isatai'].shift(1) + xlsx['o_grain_isatai'].shift(1) + xlsx['o_vegetables_isatai'].shift(1))) * 100\n",
    "\n",
    "Gplg_f = (xlsx['o_potato_isatai'] + xlsx['o_grain_isatai'] + xlsx['o_vegetables_isatai'])\n",
    "Gplg_f"
   ]
  },
  {
   "cell_type": "code",
   "execution_count": null,
   "metadata": {},
   "outputs": [],
   "source": []
  }
 ],
 "metadata": {
  "kernelspec": {
   "display_name": "Python 3",
   "language": "python",
   "name": "python3"
  },
  "language_info": {
   "codemirror_mode": {
    "name": "ipython",
    "version": 3
   },
   "file_extension": ".py",
   "mimetype": "text/x-python",
   "name": "python",
   "nbconvert_exporter": "python",
   "pygments_lexer": "ipython3",
   "version": "3.7.6"
  }
 },
 "nbformat": 4,
 "nbformat_minor": 4
}
