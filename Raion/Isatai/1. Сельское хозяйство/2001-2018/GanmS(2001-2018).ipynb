{
 "cells": [
  {
   "cell_type": "code",
   "execution_count": 1,
   "metadata": {},
   "outputs": [
    {
     "data": {
      "text/plain": [
       "0     46.1567\n",
       "1     47.7481\n",
       "2     51.1598\n",
       "3     55.3015\n",
       "4     56.5249\n",
       "5     58.7989\n",
       "6      62.355\n",
       "7     63.5584\n",
       "8     64.7307\n",
       "9     65.9848\n",
       "10    68.2504\n",
       "11    69.8999\n",
       "12    66.0247\n",
       "13    64.1677\n",
       "14    73.6466\n",
       "15    84.7041\n",
       "16    88.4169\n",
       "17    92.7247\n",
       "18        100\n",
       "Name: c1, dtype: object"
      ]
     },
     "execution_count": 1,
     "metadata": {},
     "output_type": "execute_result"
    }
   ],
   "source": [
    "import pandas as pd\n",
    "xlsx = pd.read_csv('vrp_ekz_fact.csv')\n",
    "Ganm = ((xlsx['o_cattle_isatai'] * xlsx['o_weight_cattle']) + (xlsx['o_goats_isatai'] * xlsx['o_weight_goats']) + (xlsx['o_horses_isatai']* xlsx['o_weight_horses']) + (xlsx['o_poultry_isatai'] * xlsx['o_weight_poultry']))/((xlsx['o_cattle_isatai'] * xlsx['o_weight_cattle']).shift(1) + (xlsx['o_goats_isatai'] * xlsx['o_weight_goats']).shift(1) + (xlsx['o_horses_isatai']* xlsx['o_weight_horses']).shift(1) + (xlsx['o_poultry_isatai'] * xlsx['o_weight_poultry']).shift(1)) * 100\n",
    "i=18\n",
    "c=100\n",
    "newdf = pd.DataFrame(columns=['c1'], index=range(19))\n",
    "\n",
    "while i>0:\n",
    "    c = (c/Ganm[i]) * 100\n",
    "    i=i-1\n",
    "    newdf.loc[i].c1 = c\n",
    "    \n",
    "GanmS=newdf['c1']\n",
    "GanmS[18]=100\n",
    "\n",
    "GanmS"
   ]
  },
  {
   "cell_type": "code",
   "execution_count": null,
   "metadata": {},
   "outputs": [],
   "source": []
  }
 ],
 "metadata": {
  "kernelspec": {
   "display_name": "Python 3",
   "language": "python",
   "name": "python3"
  },
  "language_info": {
   "codemirror_mode": {
    "name": "ipython",
    "version": 3
   },
   "file_extension": ".py",
   "mimetype": "text/x-python",
   "name": "python",
   "nbconvert_exporter": "python",
   "pygments_lexer": "ipython3",
   "version": "3.7.6"
  }
 },
 "nbformat": 4,
 "nbformat_minor": 4
}
