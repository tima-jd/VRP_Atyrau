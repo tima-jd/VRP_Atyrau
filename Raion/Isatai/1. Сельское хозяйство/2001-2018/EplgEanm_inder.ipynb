{
 "cells": [
  {
   "cell_type": "code",
   "execution_count": 11,
   "metadata": {},
   "outputs": [
    {
     "data": {
      "text/plain": [
       "0.22620313902319997"
      ]
     },
     "execution_count": 11,
     "metadata": {},
     "output_type": "execute_result"
    }
   ],
   "source": [
    "import pandas as pd\n",
    "import numpy as np\n",
    "xlsx = pd.read_csv('vrp_ekz_fact.csv')\n",
    "l = xlsx['o_year']\n",
    "Gplg = ((xlsx['o_potato_isatai'] + xlsx['o_grain_isatai'] + xlsx['o_vegetables_isatai'])/(xlsx['o_potato_isatai'].shift(1) + xlsx['o_grain_isatai'].shift(1) + xlsx['o_vegetables_isatai'].shift(1))) * 100\n",
    "d = xlsx['o_ifo_agro_isatai']\n",
    " \n",
    "i=18\n",
    "c=100\n",
    "l=100\n",
    "newdf = pd.DataFrame(columns=['c1','c2'], index=range(19))\n",
    "while i>0:\n",
    "    c = (c/d[i]) * 100\n",
    "    l=l/Gplg[i]*100\n",
    "    i=i-1\n",
    "    newdf.loc[i].c1 = c\n",
    "    newdf.loc[i].c2 = l\n",
    "\n",
    "LagrS=newdf['c1']\n",
    "LagrS[18]=100\n",
    "\n",
    "GplgS=newdf['c2']\n",
    "GplgS[18]=100\n",
    "GplgS[:14]=0\n",
    "\n",
    "Eplg_isatai = ((GplgS - GplgS.mean()) * (LagrS - LagrS.mean())).sum() / ((GplgS - GplgS.mean())**2).sum()\n",
    "Eplg_isatai"
   ]
  },
  {
   "cell_type": "code",
   "execution_count": 9,
   "metadata": {},
   "outputs": [
    {
     "data": {
      "text/plain": [
       "0.9509250110855416"
      ]
     },
     "execution_count": 9,
     "metadata": {},
     "output_type": "execute_result"
    }
   ],
   "source": [
    "import pandas as pd\n",
    "import numpy as np\n",
    "xlsx = pd.read_csv('vrp_ekz_fact.csv')\n",
    "l = xlsx['o_year']\n",
    "Ganm = ((xlsx['o_cattle_isatai'] * xlsx['o_weight_cattle']) + (xlsx['o_goats_isatai'] * xlsx['o_weight_goats']) + (xlsx['o_horses_isatai']* xlsx['o_weight_horses']) + (xlsx['o_poultry_isatai'] * xlsx['o_weight_poultry']))/((xlsx['o_cattle_isatai'] * xlsx['o_weight_cattle']).shift(1) + (xlsx['o_goats_isatai'] * xlsx['o_weight_goats']).shift(1) + (xlsx['o_horses_isatai']* xlsx['o_weight_horses']).shift(1) + (xlsx['o_poultry_isatai'] * xlsx['o_weight_poultry']).shift(1)) * 100\n",
    "d = xlsx['o_ifo_agro_isatai']\n",
    " \n",
    "i=18\n",
    "c=100\n",
    "l=100\n",
    "newdf = pd.DataFrame(columns=['c1','c2'], index=range(19))\n",
    "while i>0:\n",
    "    c = (c/d[i]) * 100\n",
    "    l=l/Ganm[i]*100\n",
    "    i=i-1\n",
    "    newdf.loc[i].c1 = c\n",
    "    newdf.loc[i].c2 = l\n",
    "\n",
    "LagrS=newdf['c1']\n",
    "LagrS[18]=100\n",
    "\n",
    "GanmS=newdf['c2']\n",
    "GanmS[18]=100\n",
    "\n",
    "Eanm_isatai = ((GanmS - GanmS.mean()) * (LagrS - LagrS.mean())).sum() / ((GanmS - GanmS.mean())**2).sum()\n",
    "Eanm_isatai"
   ]
  },
  {
   "cell_type": "code",
   "execution_count": null,
   "metadata": {},
   "outputs": [],
   "source": []
  }
 ],
 "metadata": {
  "kernelspec": {
   "display_name": "Python 3",
   "language": "python",
   "name": "python3"
  },
  "language_info": {
   "codemirror_mode": {
    "name": "ipython",
    "version": 3
   },
   "file_extension": ".py",
   "mimetype": "text/x-python",
   "name": "python",
   "nbconvert_exporter": "python",
   "pygments_lexer": "ipython3",
   "version": "3.7.6"
  }
 },
 "nbformat": 4,
 "nbformat_minor": 4
}
