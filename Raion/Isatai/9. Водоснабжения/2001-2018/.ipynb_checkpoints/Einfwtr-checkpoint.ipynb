{
 "cells": [
  {
   "cell_type": "code",
   "execution_count": 2,
   "metadata": {},
   "outputs": [
    {
     "data": {
      "text/plain": [
       "0.6785394105107511"
      ]
     },
     "execution_count": 2,
     "metadata": {},
     "output_type": "execute_result"
    }
   ],
   "source": [
    "from scipy.stats.mstats import gmean\n",
    "import pandas as pd\n",
    "csv = pd.read_csv('vrp_ekz_fact.csv')\n",
    "\n",
    "inf = csv['o_inflation']\n",
    "\n",
    "lwtr = csv['o_ifo_water_isatai']\n",
    "Nwtr = csv['o_prod_water_isatai']\n",
    "\n",
    "Dwtr = Nwtr/Nwtr.shift(1)/lwtr *10000\n",
    "\n",
    "Einfwtr = (gmean(Dwtr[10:]))/(gmean(inf[10:]+100))\n",
    "Einfwtr"
   ]
  },
  {
   "cell_type": "code",
   "execution_count": null,
   "metadata": {},
   "outputs": [],
   "source": []
  }
 ],
 "metadata": {
  "kernelspec": {
   "display_name": "Python 3",
   "language": "python",
   "name": "python3"
  },
  "language_info": {
   "codemirror_mode": {
    "name": "ipython",
    "version": 3
   },
   "file_extension": ".py",
   "mimetype": "text/x-python",
   "name": "python",
   "nbconvert_exporter": "python",
   "pygments_lexer": "ipython3",
   "version": "3.7.6"
  }
 },
 "nbformat": 4,
 "nbformat_minor": 4
}
