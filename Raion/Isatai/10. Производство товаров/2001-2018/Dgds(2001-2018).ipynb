{
 "cells": [
  {
   "cell_type": "code",
   "execution_count": 1,
   "metadata": {},
   "outputs": [
    {
     "data": {
      "text/plain": [
       "0            NaN\n",
       "1     104.320665\n",
       "2     119.040311\n",
       "3     137.536424\n",
       "4     100.804508\n",
       "5     140.854201\n",
       "6     115.960963\n",
       "7     116.688278\n",
       "8     133.020003\n",
       "9      90.533523\n",
       "10     98.377002\n",
       "11    147.324102\n",
       "12    101.801225\n",
       "13     76.191917\n",
       "14    105.955414\n",
       "15     63.262749\n",
       "16    136.221193\n",
       "17    114.445646\n",
       "18     37.214631\n",
       "dtype: float64"
      ]
     },
     "execution_count": 1,
     "metadata": {},
     "output_type": "execute_result"
    }
   ],
   "source": [
    "import pandas as pd\n",
    "csv = pd.read_csv('vrp_ekz_fact.csv')\n",
    "lind_csv = pd.read_csv('Dind, lind,Nind (2001-2018).csv')\n",
    "\n",
    "Nagr = csv['o_prod_agro_isatai']\n",
    "Ncon = csv['o_prod_building_isatai']\n",
    "\n",
    "Nwtr = csv['o_prod_water_isatai']\n",
    "Nelc = csv['o_prod_energo_isatai']\n",
    "Nman = csv['o_prod_man_isatai']\n",
    "Nmin = csv['o_prod_mining_isatai']\n",
    "\n",
    "lagr = csv['o_ifo_agro_isatai']\n",
    "lcon = csv['o_ifo_building_isatai']\n",
    "\n",
    "\n",
    "lind = lind_csv['lind']\n",
    "\n",
    "Nind = Nmin+Nman+Nelc+Nwtr\n",
    "\n",
    "Ngds = Nagr+Nind+Ncon\n",
    "\n",
    "lgds = (lagr*Nagr.shift(1) + lind*Nind.shift(1) + lcon*Ncon.shift(1))/(Nagr.shift(1)+Nind.shift(1)+Ncon.shift(1))\n",
    "\n",
    "Dgds = Ngds/Ngds.shift(1)/lgds * 10000\n",
    "\n",
    "Dgds"
   ]
  },
  {
   "cell_type": "code",
   "execution_count": null,
   "metadata": {},
   "outputs": [],
   "source": []
  }
 ],
 "metadata": {
  "kernelspec": {
   "display_name": "Python 3",
   "language": "python",
   "name": "python3"
  },
  "language_info": {
   "codemirror_mode": {
    "name": "ipython",
    "version": 3
   },
   "file_extension": ".py",
   "mimetype": "text/x-python",
   "name": "python",
   "nbconvert_exporter": "python",
   "pygments_lexer": "ipython3",
   "version": "3.7.6"
  }
 },
 "nbformat": 4,
 "nbformat_minor": 4
}
