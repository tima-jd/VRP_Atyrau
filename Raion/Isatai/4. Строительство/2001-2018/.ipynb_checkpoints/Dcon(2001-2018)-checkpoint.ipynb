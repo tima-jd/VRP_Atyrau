{
 "cells": [
  {
   "cell_type": "code",
   "execution_count": 1,
   "metadata": {},
   "outputs": [
    {
     "data": {
      "text/plain": [
       "0            NaN\n",
       "1            inf\n",
       "2     102.880658\n",
       "3      99.206349\n",
       "4     104.304636\n",
       "5     104.427736\n",
       "6       6.153846\n",
       "7     106.351080\n",
       "8      84.770494\n",
       "9     104.436990\n",
       "10     10.308442\n",
       "11     10.532554\n",
       "12    102.819113\n",
       "13     10.460968\n",
       "14     10.725979\n",
       "15    103.127901\n",
       "16    104.809100\n",
       "17    105.184703\n",
       "18    105.023218\n",
       "dtype: float64"
      ]
     },
     "execution_count": 1,
     "metadata": {},
     "output_type": "execute_result"
    }
   ],
   "source": [
    "import pandas as pd\n",
    "csv = pd.read_csv('vrp_ekz_fact.csv')\n",
    "lcon = csv['o_ifo_building_inder']\n",
    "Ncon = csv['o_prod_building_inder']\n",
    "\n",
    "Dcon = Ncon/Ncon.shift(1)/lcon*10000\n",
    "\n",
    "Dcon"
   ]
  },
  {
   "cell_type": "code",
   "execution_count": null,
   "metadata": {},
   "outputs": [],
   "source": []
  }
 ],
 "metadata": {
  "kernelspec": {
   "display_name": "Python 3",
   "language": "python",
   "name": "python3"
  },
  "language_info": {
   "codemirror_mode": {
    "name": "ipython",
    "version": 3
   },
   "file_extension": ".py",
   "mimetype": "text/x-python",
   "name": "python",
   "nbconvert_exporter": "python",
   "pygments_lexer": "ipython3",
   "version": "3.7.6"
  }
 },
 "nbformat": 4,
 "nbformat_minor": 4
}
