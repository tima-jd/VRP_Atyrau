{
 "cells": [
  {
   "cell_type": "code",
   "execution_count": 13,
   "metadata": {},
   "outputs": [
    {
     "data": {
      "text/plain": [
       "0      88.637633\n",
       "1     102.362205\n",
       "2     100.000000\n",
       "3     100.000000\n",
       "4     100.000000\n",
       "5     100.000000\n",
       "6     100.000000\n",
       "7      97.692308\n",
       "8     122.960630\n",
       "9     100.000000\n",
       "10    100.000000\n",
       "11    100.000000\n",
       "12    100.000000\n",
       "13    100.000000\n",
       "14     66.495902\n",
       "15    100.000000\n",
       "16    100.000000\n",
       "17    100.000000\n",
       "18    100.000000\n",
       "19    100.000000\n",
       "20    122.303544\n",
       "Name: o_oil_price, dtype: float64"
      ]
     },
     "execution_count": 13,
     "metadata": {},
     "output_type": "execute_result"
    }
   ],
   "source": [
    "import pandas as pd\n",
    "csv = pd.read_csv('vrp_ekz_prog.csv')\n",
    "\n",
    "\n",
    "poil = csv['o_oil_price']\n",
    "c=csv['o_year']\n",
    "voil = csv['o_oil_isatai']\n",
    "\n",
    "h=poil.shift(1)\n",
    "h[0]= 71.64\n",
    "Gpoil= poil/h*100\n",
    "\n",
    "l=voil.shift(1)\n",
    "l[0]= 1142.60\n",
    "Gvoil= voil/l*100\n",
    "\n",
    "Gpoil\n",
    "\n"
   ]
  },
  {
   "cell_type": "code",
   "execution_count": 14,
   "metadata": {},
   "outputs": [
    {
     "data": {
      "text/plain": [
       "0     96.2501\n",
       "1     93.0668\n",
       "2     92.6006\n",
       "3     88.5043\n",
       "4     88.2431\n",
       "5     87.8098\n",
       "6     89.2874\n",
       "7     96.6038\n",
       "8     98.4517\n",
       "9     97.8835\n",
       "10    94.5867\n",
       "11    101.802\n",
       "12    101.528\n",
       "13    103.953\n",
       "14    90.2898\n",
       "15    89.8737\n",
       "16     85.402\n",
       "17    81.5182\n",
       "18    81.0009\n",
       "19    81.9892\n",
       "20    98.5091\n",
       "Name: c1, dtype: object"
      ]
     },
     "execution_count": 14,
     "metadata": {},
     "output_type": "execute_result"
    }
   ],
   "source": [
    "i=0\n",
    "c=100\n",
    "\n",
    "newdf = pd.DataFrame(columns=['c1'], index=range(21))\n",
    "while i<=20:\n",
    "    c = (c*((((Gpoil[i]-100) * 0.16738334886499334) + ((Gvoil[i]-100) * 0.6217741103304282)) + 100)) /100\n",
    "    newdf.loc[i].c1 = c\n",
    "    i=i+1\n",
    "lminS=newdf['c1']\n",
    "\n",
    "lminS"
   ]
  },
  {
   "cell_type": "code",
   "execution_count": 15,
   "metadata": {},
   "outputs": [
    {
     "data": {
      "text/plain": [
       "0     96.2501\n",
       "1     96.6927\n",
       "2     99.4991\n",
       "3     95.5764\n",
       "4     99.7049\n",
       "5      99.509\n",
       "6     101.683\n",
       "7     108.194\n",
       "8     101.913\n",
       "9     99.4229\n",
       "10    96.6319\n",
       "11    107.628\n",
       "12     99.731\n",
       "13    102.389\n",
       "14    86.8563\n",
       "15    99.5392\n",
       "16    95.0244\n",
       "17    95.4523\n",
       "18    99.3654\n",
       "19     101.22\n",
       "20    120.149\n",
       "Name: c1, dtype: object"
      ]
     },
     "execution_count": 15,
     "metadata": {},
     "output_type": "execute_result"
    }
   ],
   "source": [
    "w=lminS.shift(1)\n",
    "w[0]=100\n",
    "lmint = lminS/w*100\n",
    "lmint"
   ]
  },
  {
   "cell_type": "code",
   "execution_count": 16,
   "metadata": {},
   "outputs": [],
   "source": [
    "lmint.to_csv(r'lmin(2019-2025).csv')"
   ]
  },
  {
   "cell_type": "code",
   "execution_count": null,
   "metadata": {},
   "outputs": [],
   "source": []
  }
 ],
 "metadata": {
  "kernelspec": {
   "display_name": "Python 3",
   "language": "python",
   "name": "python3"
  },
  "language_info": {
   "codemirror_mode": {
    "name": "ipython",
    "version": 3
   },
   "file_extension": ".py",
   "mimetype": "text/x-python",
   "name": "python",
   "nbconvert_exporter": "python",
   "pygments_lexer": "ipython3",
   "version": "3.7.6"
  }
 },
 "nbformat": 4,
 "nbformat_minor": 4
}
