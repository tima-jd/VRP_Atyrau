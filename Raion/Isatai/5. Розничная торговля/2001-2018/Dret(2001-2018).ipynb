{
 "cells": [
  {
   "cell_type": "code",
   "execution_count": 1,
   "metadata": {},
   "outputs": [
    {
     "data": {
      "text/plain": [
       "0            NaN\n",
       "1     161.765341\n",
       "2     168.884686\n",
       "3     186.615187\n",
       "4     143.163185\n",
       "5     112.953593\n",
       "6     194.534507\n",
       "7     134.167234\n",
       "8     113.154283\n",
       "9     103.872082\n",
       "10    106.200458\n",
       "11    107.284101\n",
       "12    104.131766\n",
       "13    103.655668\n",
       "14    106.909947\n",
       "15    108.013932\n",
       "16    118.281973\n",
       "17    111.693055\n",
       "18    107.806817\n",
       "dtype: float64"
      ]
     },
     "execution_count": 1,
     "metadata": {},
     "output_type": "execute_result"
    }
   ],
   "source": [
    "import pandas as pd\n",
    "csv = pd.read_csv('vrp_ekz_fact.csv')\n",
    "lret = csv['o_ifo_retail_isatai']\n",
    "Nret = csv['o_prod_retail_isatai']\n",
    "Dret = Nret/Nret.shift(1)/lret * 10000\n",
    "Dret"
   ]
  },
  {
   "cell_type": "code",
   "execution_count": null,
   "metadata": {},
   "outputs": [],
   "source": []
  }
 ],
 "metadata": {
  "kernelspec": {
   "display_name": "Python 3",
   "language": "python",
   "name": "python3"
  },
  "language_info": {
   "codemirror_mode": {
    "name": "ipython",
    "version": 3
   },
   "file_extension": ".py",
   "mimetype": "text/x-python",
   "name": "python",
   "nbconvert_exporter": "python",
   "pygments_lexer": "ipython3",
   "version": "3.7.6"
  }
 },
 "nbformat": 4,
 "nbformat_minor": 4
}
