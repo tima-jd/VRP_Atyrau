{
 "cells": [
  {
   "cell_type": "code",
   "execution_count": 2,
   "metadata": {},
   "outputs": [
    {
     "data": {
      "text/plain": [
       "0            NaN\n",
       "1     123.888995\n",
       "2     105.434765\n",
       "3      97.069268\n",
       "4     107.328689\n",
       "5     105.565077\n",
       "6     101.010245\n",
       "7     103.502996\n",
       "8     123.043445\n",
       "9     126.729316\n",
       "10    114.762490\n",
       "11     99.715272\n",
       "12     95.286407\n",
       "13    112.321777\n",
       "14     99.996539\n",
       "15    102.153943\n",
       "16    104.313980\n",
       "17    110.107568\n",
       "18    101.127888\n",
       "dtype: float64"
      ]
     },
     "execution_count": 2,
     "metadata": {},
     "output_type": "execute_result"
    }
   ],
   "source": [
    "import pandas as pd\n",
    "csv = pd.read_csv('vrp_ekz_fact.csv')\n",
    "\n",
    "l = pd.read_csv('lamm(2001-2018).csv')\n",
    "lt = pd.read_csv('ltrd(2001-2018).csv') \n",
    "Nt = pd.read_csv('Ntrd(2001-2018).csv') \n",
    "\n",
    "lamm = l['0']\n",
    "\n",
    "ltrd = lt['0']\n",
    "Ntrd = Nt['0']\n",
    "\n",
    "\n",
    "lagr = csv['o_ifo_agro_zhylyoi']\n",
    "Nagr = csv['o_prod_agro_zhylyoi']\n",
    "\n",
    "lmin = csv['o_ifo_mining_zhylyoi']\n",
    "Nmin = csv['o_prod_mining_zhylyoi']\n",
    "\n",
    "lman = csv['o_ifo_man_zhylyoi']\n",
    "Nman = csv['o_prod_man_zhylyoi']\n",
    "\n",
    "lcon = csv['o_ifo_building_zhylyoi']\n",
    "Ncon = csv['o_prod_building_zhylyoi']\n",
    "\n",
    "lammct = (lagr*Nagr.shift(1) + lmin*Nmin.shift(1)+lman*Nman.shift(1)+lcon*Ncon.shift(1)+ ltrd*Ntrd.shift(1))/(Nagr.shift(1)+Nmin.shift(1)+Nman.shift(1)+Ncon.shift(1)+Ntrd.shift(1))\n",
    "lammct"
   ]
  },
  {
   "cell_type": "code",
   "execution_count": null,
   "metadata": {},
   "outputs": [],
   "source": []
  }
 ],
 "metadata": {
  "kernelspec": {
   "display_name": "Python 3",
   "language": "python",
   "name": "python3"
  },
  "language_info": {
   "codemirror_mode": {
    "name": "ipython",
    "version": 3
   },
   "file_extension": ".py",
   "mimetype": "text/x-python",
   "name": "python",
   "nbconvert_exporter": "python",
   "pygments_lexer": "ipython3",
   "version": "3.7.6"
  }
 },
 "nbformat": 4,
 "nbformat_minor": 4
}
