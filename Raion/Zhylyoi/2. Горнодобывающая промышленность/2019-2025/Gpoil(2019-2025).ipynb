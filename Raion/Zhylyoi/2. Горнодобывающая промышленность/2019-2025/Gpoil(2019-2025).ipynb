{
 "cells": [
  {
   "cell_type": "code",
   "execution_count": 9,
   "metadata": {},
   "outputs": [
    {
     "data": {
      "text/plain": [
       "(0      88.637633\n",
       " 1     102.362205\n",
       " 2     100.000000\n",
       " 3     100.000000\n",
       " 4     100.000000\n",
       " 5     100.000000\n",
       " 6     100.000000\n",
       " 7      97.692308\n",
       " 8     122.960630\n",
       " 9     100.000000\n",
       " 10    100.000000\n",
       " 11    100.000000\n",
       " 12    100.000000\n",
       " 13    100.000000\n",
       " 14     66.495902\n",
       " 15    100.000000\n",
       " 16    100.000000\n",
       " 17    100.000000\n",
       " 18    100.000000\n",
       " 19    100.000000\n",
       " 20    122.303544\n",
       " Name: o_oil_price, dtype: float64,\n",
       " 0     2019\n",
       " 1     2020\n",
       " 2     2021\n",
       " 3     2022\n",
       " 4     2023\n",
       " 5     2024\n",
       " 6     2025\n",
       " 7     2019\n",
       " 8     2020\n",
       " 9     2021\n",
       " 10    2022\n",
       " 11    2023\n",
       " 12    2024\n",
       " 13    2025\n",
       " 14    2020\n",
       " 15    2021\n",
       " 16    2022\n",
       " 17    2023\n",
       " 18    2024\n",
       " 19    2025\n",
       " 20    2019\n",
       " Name: o_year, dtype: int64)"
      ]
     },
     "execution_count": 9,
     "metadata": {},
     "output_type": "execute_result"
    }
   ],
   "source": [
    "import pandas as pd\n",
    "csv = pd.read_csv('vrp_ekz_prog.csv')\n",
    "poil = csv['o_oil_price']\n",
    "c=csv['o_year']\n",
    "l=poil.shift(1)\n",
    "l[0]= 71.64\n",
    "Gpoil= poil/l*100\n",
    "Gpoil,c"
   ]
  },
  {
   "cell_type": "code",
   "execution_count": null,
   "metadata": {},
   "outputs": [],
   "source": []
  }
 ],
 "metadata": {
  "kernelspec": {
   "display_name": "Python 3",
   "language": "python",
   "name": "python3"
  },
  "language_info": {
   "codemirror_mode": {
    "name": "ipython",
    "version": 3
   },
   "file_extension": ".py",
   "mimetype": "text/x-python",
   "name": "python",
   "nbconvert_exporter": "python",
   "pygments_lexer": "ipython3",
   "version": "3.7.6"
  }
 },
 "nbformat": 4,
 "nbformat_minor": 4
}
