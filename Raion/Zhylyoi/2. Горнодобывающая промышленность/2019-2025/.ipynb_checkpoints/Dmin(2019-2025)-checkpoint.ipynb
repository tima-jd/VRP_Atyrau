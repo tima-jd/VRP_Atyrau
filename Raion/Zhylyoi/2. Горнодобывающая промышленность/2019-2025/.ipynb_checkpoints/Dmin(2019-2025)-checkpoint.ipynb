{
 "cells": [
  {
   "cell_type": "code",
   "execution_count": null,
   "metadata": {},
   "outputs": [],
   "source": []
  },
  {
   "cell_type": "code",
   "execution_count": 5,
   "metadata": {},
   "outputs": [
    {
     "data": {
      "text/plain": [
       "0.9995103375980897"
      ]
     },
     "execution_count": 5,
     "metadata": {},
     "output_type": "execute_result"
    }
   ],
   "source": [
    "from scipy.stats.mstats import gmean\n",
    "import pandas as pd\n",
    "\n",
    "csv = pd.read_csv('vrp_ekz_fact.csv')\n",
    "c = pd.read_csv('vrp_ekz_prog.csv')\n",
    "\n",
    "lmin = csv['o_ifo_mining_zhylyoi']\n",
    "Nmin=csv['o_prod_mining_zhylyoi']\n",
    "\n",
    "poil_f = csv['o_oil_price']\n",
    "rateKZT_f= csv['o_exchange_rate']\n",
    "\n",
    "poil_p = c['o_oil_price']\n",
    "rateKZT_p= c['o_exchange_rate']\n",
    "\n",
    "Dmin = Nmin/Nmin.shift(1)/lmin*10000\n",
    "\n",
    "GpoilKZT_f= ((poil_f*rateKZT_f)/(poil_f.shift(1)*rateKZT_f.shift(1)))*100\n",
    "\n",
    "GpoilKZT_p= ((poil_p*rateKZT_p)/(poil_p.shift(1)*rateKZT_p.shift(1)))*100\n",
    "\n",
    "\n",
    "GpoilKZT_p[0]=(poil_p[0] * rateKZT_p[0])/(344.71*71.64)*100\n",
    "\n",
    "\n",
    "EpoilKZT = (gmean(Dmin[1:]))/(gmean(GpoilKZT_f[1:]))\n",
    "\n",
    "EpoilKZT"
   ]
  },
  {
   "cell_type": "code",
   "execution_count": 8,
   "metadata": {},
   "outputs": [
    {
     "data": {
      "text/plain": [
       "0      98.612649\n",
       "1     104.095151\n",
       "2     100.000000\n",
       "3     100.000000\n",
       "4     100.000000\n",
       "5     100.000000\n",
       "6     100.000000\n",
       "7      96.066030\n",
       "8     123.430093\n",
       "9     100.000000\n",
       "10    100.000000\n",
       "11    100.000000\n",
       "12    100.000000\n",
       "13    100.000000\n",
       "14     70.828109\n",
       "15    100.000000\n",
       "16    100.000000\n",
       "17    100.000000\n",
       "18    100.000000\n",
       "19    100.000000\n",
       "20    114.391508\n",
       "dtype: float64"
      ]
     },
     "execution_count": 8,
     "metadata": {},
     "output_type": "execute_result"
    }
   ],
   "source": [
    "Dmin = (GpoilKZT_p-100)*EpoilKZT + 100\n",
    "\n",
    "Dmin"
   ]
  },
  {
   "cell_type": "code",
   "execution_count": 9,
   "metadata": {},
   "outputs": [],
   "source": [
    "Dmin.to_csv (r'Dmin(2019-2025).csv', index = False)\n"
   ]
  },
  {
   "cell_type": "code",
   "execution_count": null,
   "metadata": {},
   "outputs": [],
   "source": []
  }
 ],
 "metadata": {
  "kernelspec": {
   "display_name": "Python 3",
   "language": "python",
   "name": "python3"
  },
  "language_info": {
   "codemirror_mode": {
    "name": "ipython",
    "version": 3
   },
   "file_extension": ".py",
   "mimetype": "text/x-python",
   "name": "python",
   "nbconvert_exporter": "python",
   "pygments_lexer": "ipython3",
   "version": "3.7.6"
  }
 },
 "nbformat": 4,
 "nbformat_minor": 4
}
