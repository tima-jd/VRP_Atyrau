{
 "cells": [
  {
   "cell_type": "code",
   "execution_count": 2,
   "metadata": {},
   "outputs": [
    {
     "data": {
      "text/plain": [
       "5     77.9034\n",
       "6      93.244\n",
       "7     104.243\n",
       "8     136.348\n",
       "9     89.4612\n",
       "10    112.577\n",
       "11      156.7\n",
       "12    155.709\n",
       "13    151.368\n",
       "14    136.125\n",
       "15    75.9352\n",
       "16    64.2099\n",
       "17    77.7638\n",
       "18        100\n",
       "Name: c1, dtype: object"
      ]
     },
     "execution_count": 2,
     "metadata": {},
     "output_type": "execute_result"
    }
   ],
   "source": [
    "import pandas as pd\n",
    "csv = pd.read_csv('vrp_ekz_fact.csv')\n",
    "poil = csv['o_oil_price']\n",
    "\n",
    "Gpoil= poil/poil.shift(1)*100\n",
    "\n",
    "i=18\n",
    "c=100\n",
    "newdf = pd.DataFrame(columns=['c1'], index=range(18))\n",
    "while i>0:\n",
    "    c = (c/Gpoil[i]) * 100\n",
    "    i=i-1\n",
    "    newdf.loc[i].c1 = c\n",
    "Gpo=newdf['c1']\n",
    "\n",
    "Gpo[18]=100\n",
    "GpoilS = Gpo[5:]\n",
    "\n",
    "GpoilS"
   ]
  },
  {
   "cell_type": "code",
   "execution_count": 8,
   "metadata": {},
   "outputs": [
    {
     "data": {
      "text/plain": [
       "5     44.9941\n",
       "6     44.6792\n",
       "7     47.0025\n",
       "8     58.9411\n",
       "9     74.9142\n",
       "10    85.7018\n",
       "11    85.7875\n",
       "12    81.7555\n",
       "13    91.6479\n",
       "14     91.098\n",
       "15    92.3734\n",
       "16    94.6827\n",
       "17    99.7009\n",
       "18        100\n",
       "Name: c1, dtype: object"
      ]
     },
     "execution_count": 8,
     "metadata": {},
     "output_type": "execute_result"
    }
   ],
   "source": [
    "import pandas as pd\n",
    "csv = pd.read_csv('vrp_ekz_fact.csv')\n",
    "lmin = csv['o_ifo_mining_zhylyoi']\n",
    "\n",
    "i=18\n",
    "c=100\n",
    "newdf = pd.DataFrame(columns=['c1'], index=range(19))\n",
    "while i> 0:\n",
    "    c = (c/lmin[i]) * 100\n",
    "    i=i-1\n",
    "    newdf.loc[i].c1 = c\n",
    "lmi=newdf['c1']\n",
    "lmi[18]=100\n",
    "lminS=lmi[5:]\n",
    "\n",
    "lminS\n"
   ]
  },
  {
   "cell_type": "code",
   "execution_count": 10,
   "metadata": {},
   "outputs": [
    {
     "data": {
      "text/plain": [
       "0.0478466159622517"
      ]
     },
     "execution_count": 10,
     "metadata": {},
     "output_type": "execute_result"
    }
   ],
   "source": [
    "Epoil= ((GpoilS-GpoilS.mean())*(lminS-lminS.mean())).sum()/((GpoilS-GpoilS.mean())**2).sum()\n",
    "Epoil"
   ]
  },
  {
   "cell_type": "code",
   "execution_count": null,
   "metadata": {},
   "outputs": [],
   "source": []
  }
 ],
 "metadata": {
  "kernelspec": {
   "display_name": "Python 3",
   "language": "python",
   "name": "python3"
  },
  "language_info": {
   "codemirror_mode": {
    "name": "ipython",
    "version": 3
   },
   "file_extension": ".py",
   "mimetype": "text/x-python",
   "name": "python",
   "nbconvert_exporter": "python",
   "pygments_lexer": "ipython3",
   "version": "3.7.6"
  }
 },
 "nbformat": 4,
 "nbformat_minor": 4
}
