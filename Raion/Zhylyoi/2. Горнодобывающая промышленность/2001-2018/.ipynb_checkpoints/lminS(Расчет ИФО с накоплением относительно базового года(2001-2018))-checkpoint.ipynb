{
 "cells": [
  {
   "cell_type": "code",
   "execution_count": 6,
   "metadata": {},
   "outputs": [
    {
     "data": {
      "text/plain": [
       "0     32.0374\n",
       "1     34.8888\n",
       "2      41.413\n",
       "3     42.9452\n",
       "4     41.6998\n",
       "5     44.9941\n",
       "6     44.9941\n",
       "7     44.6792\n",
       "8     47.0025\n",
       "9     58.9411\n",
       "10    74.9142\n",
       "11    85.7018\n",
       "12    85.7875\n",
       "13    81.7555\n",
       "14    91.6479\n",
       "15     91.098\n",
       "16    92.3734\n",
       "17    94.6827\n",
       "18        100\n",
       "Name: c1, dtype: object"
      ]
     },
     "execution_count": 6,
     "metadata": {},
     "output_type": "execute_result"
    }
   ],
   "source": [
    "import pandas as pd\n",
    "csv = pd.read_csv('vrp_ekz_fact.csv')\n",
    "lmin = csv['o_ifo_mining_zhylyoi']\n",
    "\n",
    "i=18\n",
    "c=100\n",
    "newdf = pd.DataFrame(columns=['c1'], index=range(19))\n",
    "while i>= 0:\n",
    "    c = (c/lmin[i]) * 100\n",
    "    newdf.loc[i].c1 = c\n",
    "    i=i-1\n",
    "lminS=newdf['c1']\n",
    "lminS[18]=100\n",
    "\n",
    "lminS\n"
   ]
  },
  {
   "cell_type": "code",
   "execution_count": null,
   "metadata": {},
   "outputs": [],
   "source": []
  }
 ],
 "metadata": {
  "kernelspec": {
   "display_name": "Python 3",
   "language": "python",
   "name": "python3"
  },
  "language_info": {
   "codemirror_mode": {
    "name": "ipython",
    "version": 3
   },
   "file_extension": ".py",
   "mimetype": "text/x-python",
   "name": "python",
   "nbconvert_exporter": "python",
   "pygments_lexer": "ipython3",
   "version": "3.7.6"
  }
 },
 "nbformat": 4,
 "nbformat_minor": 4
}
