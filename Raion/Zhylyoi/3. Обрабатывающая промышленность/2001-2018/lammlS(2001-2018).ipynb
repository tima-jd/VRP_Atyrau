{
 "cells": [
  {
   "cell_type": "code",
   "execution_count": 1,
   "metadata": {},
   "outputs": [
    {
     "data": {
      "text/plain": [
       "0         NaN\n",
       "1     39.2698\n",
       "2     42.6711\n",
       "3     41.8405\n",
       "4     45.0289\n",
       "5      45.402\n",
       "6     45.1197\n",
       "7     47.1539\n",
       "8     58.6699\n",
       "9     73.8375\n",
       "10    85.3435\n",
       "11    86.2371\n",
       "12    82.2351\n",
       "13    91.2307\n",
       "14    91.3064\n",
       "15    92.3954\n",
       "16     94.434\n",
       "17    99.4038\n",
       "18        100\n",
       "Name: c1, dtype: object"
      ]
     },
     "execution_count": 1,
     "metadata": {},
     "output_type": "execute_result"
    }
   ],
   "source": [
    "import pandas as pd\n",
    "csv = pd.read_csv('vrp_ekz_fact.csv')\n",
    "lagr = csv['o_ifo_agro_zhylyoi']\n",
    "Nagr = csv['o_prod_agro_zhylyoi']\n",
    "lmin = csv['o_ifo_mining_zhylyoi']\n",
    "Nmin = csv['o_prod_mining_zhylyoi']\n",
    "lman= csv['o_ifo_man_zhylyoi']\n",
    "Nman = csv['o_prod_man_zhylyoi']\n",
    "\n",
    "lamml = (lagr*Nagr.shift(1)+lmin*Nmin.shift(1)+lman.shift(1)*Nman.shift(2))/(Nagr.shift(1)+Nmin.shift(1)+Nman.shift(2))\n",
    "\n",
    "i=18\n",
    "c=100\n",
    "newdf = pd.DataFrame(columns=['c1'], index=range(19))\n",
    "while i>0:\n",
    "    c = (c/lamml[i]) * 100\n",
    "    i=i-1\n",
    "    newdf.loc[i].c1 = c\n",
    "lammlS=newdf['c1']\n",
    "lammlS[18]=100\n",
    "\n",
    "lammlS"
   ]
  },
  {
   "cell_type": "code",
   "execution_count": null,
   "metadata": {},
   "outputs": [],
   "source": []
  }
 ],
 "metadata": {
  "kernelspec": {
   "display_name": "Python 3",
   "language": "python",
   "name": "python3"
  },
  "language_info": {
   "codemirror_mode": {
    "name": "ipython",
    "version": 3
   },
   "file_extension": ".py",
   "mimetype": "text/x-python",
   "name": "python",
   "nbconvert_exporter": "python",
   "pygments_lexer": "ipython3",
   "version": "3.7.6"
  }
 },
 "nbformat": 4,
 "nbformat_minor": 4
}
