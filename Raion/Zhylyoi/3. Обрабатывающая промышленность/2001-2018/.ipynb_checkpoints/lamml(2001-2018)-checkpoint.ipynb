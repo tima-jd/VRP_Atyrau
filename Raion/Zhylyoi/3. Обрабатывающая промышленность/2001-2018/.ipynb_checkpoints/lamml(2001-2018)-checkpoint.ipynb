{
 "cells": [
  {
   "cell_type": "code",
   "execution_count": 4,
   "metadata": {},
   "outputs": [
    {
     "data": {
      "text/plain": [
       "0            NaN\n",
       "1            NaN\n",
       "2     108.661408\n",
       "3      98.053501\n",
       "4     107.620332\n",
       "5     100.828631\n",
       "6      99.378306\n",
       "7     104.508391\n",
       "8     124.422177\n",
       "9     125.852443\n",
       "10    115.582879\n",
       "11    101.047094\n",
       "12     95.359218\n",
       "13    110.938922\n",
       "14    100.083031\n",
       "15    101.192608\n",
       "16    102.206442\n",
       "17    105.262672\n",
       "18    100.599797\n",
       "dtype: float64"
      ]
     },
     "execution_count": 4,
     "metadata": {},
     "output_type": "execute_result"
    }
   ],
   "source": [
    "import pandas as pd\n",
    "csv = pd.read_csv('vrp_ekz_fact.csv')\n",
    "lagr = csv['o_ifo_agro_zhylyoi']\n",
    "Nagr = csv['o_prod_agro_zhylyoi']\n",
    "lmin = csv['o_ifo_mining_zhylyoi']\n",
    "Nmin = csv['o_prod_mining_zhylyoi']\n",
    "lman= csv['o_ifo_man_zhylyoi']\n",
    "Nman = csv['o_prod_man_zhylyoi']\n",
    "\n",
    "lamml = (lagr*Nagr.shift(1)+lmin*Nmin.shift(1)+lman.shift(1)*Nman.shift(2))/(Nagr.shift(1)+Nmin.shift(1)+Nman.shift(2))\n",
    "\n",
    "lamml"
   ]
  },
  {
   "cell_type": "code",
   "execution_count": null,
   "metadata": {},
   "outputs": [],
   "source": []
  }
 ],
 "metadata": {
  "kernelspec": {
   "display_name": "Python 3",
   "language": "python",
   "name": "python3"
  },
  "language_info": {
   "codemirror_mode": {
    "name": "ipython",
    "version": 3
   },
   "file_extension": ".py",
   "mimetype": "text/x-python",
   "name": "python",
   "nbconvert_exporter": "python",
   "pygments_lexer": "ipython3",
   "version": "3.7.6"
  }
 },
 "nbformat": 4,
 "nbformat_minor": 4
}
