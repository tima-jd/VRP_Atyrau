{
 "cells": [
  {
   "cell_type": "code",
   "execution_count": 1,
   "metadata": {},
   "outputs": [
    {
     "data": {
      "text/plain": [
       "0     4.77883\n",
       "1     38.9905\n",
       "2     48.7771\n",
       "3     50.5819\n",
       "4     57.0564\n",
       "5     57.3416\n",
       "6     54.0158\n",
       "7     58.6612\n",
       "8     59.4825\n",
       "9     80.1229\n",
       "10    95.0257\n",
       "11    91.6048\n",
       "12    85.3757\n",
       "13    95.3646\n",
       "14    93.0759\n",
       "15    92.2382\n",
       "16    96.6656\n",
       "17    101.112\n",
       "18        100\n",
       "Name: c1, dtype: object"
      ]
     },
     "execution_count": 1,
     "metadata": {},
     "output_type": "execute_result"
    }
   ],
   "source": [
    "import pandas as pd\n",
    "csv = pd.read_csv('vrp_ekz_fact.csv')\n",
    "lman= csv['o_ifo_man_zhylyoi']\n",
    "\n",
    "i=18\n",
    "c=100\n",
    "newdf = pd.DataFrame(columns=['c1'], index=range(19))\n",
    "while i>0:\n",
    "    c = (c/lman[i]) * 100\n",
    "    i=i-1\n",
    "    newdf.loc[i].c1 = c\n",
    "lmanS=newdf['c1']\n",
    "lmanS[18]=100\n",
    "\n",
    "lmanS"
   ]
  },
  {
   "cell_type": "code",
   "execution_count": null,
   "metadata": {},
   "outputs": [],
   "source": []
  }
 ],
 "metadata": {
  "kernelspec": {
   "display_name": "Python 3",
   "language": "python",
   "name": "python3"
  },
  "language_info": {
   "codemirror_mode": {
    "name": "ipython",
    "version": 3
   },
   "file_extension": ".py",
   "mimetype": "text/x-python",
   "name": "python",
   "nbconvert_exporter": "python",
   "pygments_lexer": "ipython3",
   "version": "3.7.6"
  }
 },
 "nbformat": 4,
 "nbformat_minor": 4
}
