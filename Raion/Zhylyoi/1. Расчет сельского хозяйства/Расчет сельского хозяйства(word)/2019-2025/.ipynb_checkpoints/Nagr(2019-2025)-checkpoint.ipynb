{
 "cells": [
  {
   "cell_type": "code",
   "execution_count": 2,
   "metadata": {},
   "outputs": [],
   "source": [
    "import pandas as pd\n",
    "import numpy as np\n",
    "csv_file = pd.read_csv('vrp_ekz_prog.csv')\n",
    "Dagr = pd.read_csv('Dagr(2019-2025).csv')\n",
    "lagr = pd.read_csv('lagr(2019-2025).csv')\n",
    "\n",
    "Dagr_b = Dagr['Dagr_b']\n",
    "Dagr_o = Dagr['Dagr_o']\n",
    "Dagr_p = Dagr['Dagr_p']\n",
    "\n",
    "lagr_b = lagr['lagr_b']\n",
    "lagr_o = lagr['lagr_o']\n",
    "lagr_p = lagr['lagr_p']\n",
    "\n",
    "\n",
    "newdf = pd.DataFrame(columns=['Nagr_b','Nagr_o','Nagr_p'], index=range(12))\n",
    "\n",
    "b = 5962\n",
    "o = 5962\n",
    "p = 5962\n",
    "i=0\n",
    "while i<=(len(lagr_b)-1):\n",
    "    b = b * lagr_b[i] * Dagr_b[i]/10000\n",
    "    o = o * lagr_o[i] * Dagr_o[i]/10000\n",
    "    p = p * lagr_p[i] * Dagr_p[i]/10000\n",
    "    \n",
    "    newdf.loc[i].Nagr_b = b    \n",
    "    newdf.loc[i].Nagr_o = o    \n",
    "    newdf.loc[i].Nagr_p = p    \n",
    "    i=i+1\n",
    "newdf.to_csv (r'Nagr_Zhylyoi(2019-2025).csv', index = False)"
   ]
  },
  {
   "cell_type": "code",
   "execution_count": null,
   "metadata": {},
   "outputs": [],
   "source": []
  },
  {
   "cell_type": "code",
   "execution_count": null,
   "metadata": {},
   "outputs": [],
   "source": []
  },
  {
   "cell_type": "code",
   "execution_count": 4,
   "metadata": {},
   "outputs": [],
   "source": []
  },
  {
   "cell_type": "code",
   "execution_count": null,
   "metadata": {},
   "outputs": [],
   "source": []
  },
  {
   "cell_type": "code",
   "execution_count": null,
   "metadata": {},
   "outputs": [],
   "source": []
  }
 ],
 "metadata": {
  "kernelspec": {
   "display_name": "Python 3",
   "language": "python",
   "name": "python3"
  },
  "language_info": {
   "codemirror_mode": {
    "name": "ipython",
    "version": 3
   },
   "file_extension": ".py",
   "mimetype": "text/x-python",
   "name": "python",
   "nbconvert_exporter": "python",
   "pygments_lexer": "ipython3",
   "version": "3.7.6"
  }
 },
 "nbformat": 4,
 "nbformat_minor": 4
}
