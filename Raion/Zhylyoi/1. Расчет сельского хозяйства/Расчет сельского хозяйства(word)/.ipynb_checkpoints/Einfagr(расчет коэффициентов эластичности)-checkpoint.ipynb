{
 "cells": [
  {
   "cell_type": "code",
   "execution_count": 10,
   "metadata": {},
   "outputs": [
    {
     "data": {
      "text/plain": [
       "2.1040144786706185"
      ]
     },
     "execution_count": 10,
     "metadata": {},
     "output_type": "execute_result"
    }
   ],
   "source": [
    "import pandas as pd\n",
    "import numpy as np\n",
    "csv_file = pd.read_csv('vrp_ekz_fact.csv')\n",
    "c = pd.read_csv('ekzo_fact.csv')\n",
    "\n",
    "lagr = csv_file['o_ifo_agro_zhylyoi']\n",
    "Nagr= csv_file['o_prod_agro_zhylyoi']\n",
    "inf = c['o_inflation_a']\n",
    "Dagr = (Nagr/Nagr.shift(1)/lagr)*10000\n",
    "\n",
    "Einfagr = ((Dagr.prod())**(1/Dagr.mean()))/(((inf+100).prod())**(1/Dagr.mean()))\n",
    "\n",
    "Einfagr"
   ]
  },
  {
   "cell_type": "code",
   "execution_count": null,
   "metadata": {},
   "outputs": [],
   "source": []
  }
 ],
 "metadata": {
  "kernelspec": {
   "display_name": "Python 3",
   "language": "python",
   "name": "python3"
  },
  "language_info": {
   "codemirror_mode": {
    "name": "ipython",
    "version": 3
   },
   "file_extension": ".py",
   "mimetype": "text/x-python",
   "name": "python",
   "nbconvert_exporter": "python",
   "pygments_lexer": "ipython3",
   "version": "3.7.6"
  }
 },
 "nbformat": 4,
 "nbformat_minor": 4
}
