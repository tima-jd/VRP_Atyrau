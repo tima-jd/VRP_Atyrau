{
 "cells": [
  {
   "cell_type": "code",
   "execution_count": 4,
   "metadata": {},
   "outputs": [
    {
     "data": {
      "text/plain": [
       "0            NaN\n",
       "1     117.410193\n",
       "2     117.441914\n",
       "3     117.403321\n",
       "4     107.898682\n",
       "5     137.268449\n",
       "6     117.428276\n",
       "7     118.262991\n",
       "8     111.438625\n",
       "9     105.852191\n",
       "10    108.515227\n",
       "11    121.970119\n",
       "12    126.170015\n",
       "13    122.545311\n",
       "14    153.747164\n",
       "15     68.461843\n",
       "16    104.896746\n",
       "17     96.587318\n",
       "18    105.989474\n",
       "dtype: float64"
      ]
     },
     "execution_count": 4,
     "metadata": {},
     "output_type": "execute_result"
    }
   ],
   "source": [
    "import pandas as pd\n",
    "import numpy as np\n",
    "csv_file = pd.read_csv('vrp_ekz_fact.csv')\n",
    "lagr = csv_file['o_ifo_agro_zhylyoi']\n",
    "Nagr= csv_file['o_prod_agro_zhylyoi']\n",
    "Dagr = (Nagr/Nagr.shift(1)/lagr)*10000\n",
    "\n",
    "Dagr"
   ]
  },
  {
   "cell_type": "code",
   "execution_count": null,
   "metadata": {},
   "outputs": [],
   "source": []
  }
 ],
 "metadata": {
  "kernelspec": {
   "display_name": "Python 3",
   "language": "python",
   "name": "python3"
  },
  "language_info": {
   "codemirror_mode": {
    "name": "ipython",
    "version": 3
   },
   "file_extension": ".py",
   "mimetype": "text/x-python",
   "name": "python",
   "nbconvert_exporter": "python",
   "pygments_lexer": "ipython3",
   "version": "3.7.6"
  }
 },
 "nbformat": 4,
 "nbformat_minor": 4
}
