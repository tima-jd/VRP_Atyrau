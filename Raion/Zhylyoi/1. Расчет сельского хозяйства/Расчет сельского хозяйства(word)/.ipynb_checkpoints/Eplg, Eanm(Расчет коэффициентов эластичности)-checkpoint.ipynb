{
 "cells": [
  {
   "cell_type": "code",
   "execution_count": 2,
   "metadata": {},
   "outputs": [
    {
     "data": {
      "text/plain": [
       "0     100.908174\n",
       "1     105.485232\n",
       "2     101.522843\n",
       "3      99.800399\n",
       "4      96.061479\n",
       "5      93.632959\n",
       "6      87.183958\n",
       "7      73.206442\n",
       "8     100.908174\n",
       "9     118.063754\n",
       "10    101.317123\n",
       "11     97.276265\n",
       "12     88.731145\n",
       "13    100.908174\n",
       "14    118.203310\n",
       "15     90.090090\n",
       "16     88.731145\n",
       "17     99.601594\n",
       "18     99.304866\n",
       "Name: o_ifo_agro_atyrau, dtype: float64"
      ]
     },
     "execution_count": 2,
     "metadata": {},
     "output_type": "execute_result"
    }
   ],
   "source": [
    "import pandas as pd\n",
    "import numpy as np\n",
    "xlsx = pd.read_csv('vrp_ekz_fact.csv')\n",
    "d = xlsx['o_ifo_agro_atyrau']\n",
    "IagrS = (100/d) * 100\n",
    "IagrS"
   ]
  },
  {
   "cell_type": "code",
   "execution_count": 3,
   "metadata": {},
   "outputs": [
    {
     "data": {
      "text/plain": [
       "-0.013579003946168778"
      ]
     },
     "execution_count": 3,
     "metadata": {},
     "output_type": "execute_result"
    }
   ],
   "source": [
    "import pandas as pd\n",
    "import numpy as np\n",
    "xlsx = pd.read_csv('vrp_ekz_fact.csv')\n",
    "l = xlsx['o_year']\n",
    "c = ((xlsx['o_potato_zhylyoi'] + xlsx['o_grain_zhylyoi'] + xlsx['o_vegetables_zhylyoi'])/(xlsx['o_potato_zhylyoi'].shift(1) + xlsx['o_grain_zhylyoi'].shift(1) + xlsx['o_vegetables_zhylyoi'].shift(1))) * 100\n",
    "GplgS = (100/c) * 100\n",
    "Eplg = ((GplgS - GplgS.mean()) * (IagrS - IagrS.mean())).sum() / ((GplgS - GplgS.mean())**2).sum()\n",
    "Eplg"
   ]
  },
  {
   "cell_type": "code",
   "execution_count": 5,
   "metadata": {},
   "outputs": [
    {
     "data": {
      "text/plain": [
       "-0.20936633573419317"
      ]
     },
     "execution_count": 5,
     "metadata": {},
     "output_type": "execute_result"
    }
   ],
   "source": [
    "import pandas as pd\n",
    "import numpy as np\n",
    "xlsx = pd.read_csv('vrp_ekz_fact.csv')\n",
    "l = xlsx['o_year']\n",
    "Ganm = ((xlsx['o_cattle_zhylyoi'] * xlsx['o_weight_cattle']) + (xlsx['o_goats_zhylyoi'] * xlsx['o_weight_goats']) + (xlsx['o_horses_zhylyoi']* xlsx['o_weight_horses']) + (xlsx['o_poultry_zhylyoi'] * xlsx['o_weight_poultry']))/((xlsx['o_cattle_zhylyoi'] * xlsx['o_weight_cattle']).shift(1) + (xlsx['o_goats_zhylyoi'] * xlsx['o_weight_goats']).shift(1) + (xlsx['o_horses_zhylyoi']* xlsx['o_weight_horses']).shift(1) + (xlsx['o_poultry_zhylyoi'] * xlsx['o_weight_poultry']).shift(1)) * 100\n",
    "GanmS = (100/Ganm) * 100\n",
    "Eanm = ((GanmS - GanmS.mean()) * (IagrS - IagrS.mean())).sum() / ((GanmS - GanmS.mean())**2).sum()\n",
    "Eanm"
   ]
  },
  {
   "cell_type": "code",
   "execution_count": null,
   "metadata": {},
   "outputs": [],
   "source": []
  }
 ],
 "metadata": {
  "kernelspec": {
   "display_name": "Python 3",
   "language": "python",
   "name": "python3"
  },
  "language_info": {
   "codemirror_mode": {
    "name": "ipython",
    "version": 3
   },
   "file_extension": ".py",
   "mimetype": "text/x-python",
   "name": "python",
   "nbconvert_exporter": "python",
   "pygments_lexer": "ipython3",
   "version": "3.7.6"
  }
 },
 "nbformat": 4,
 "nbformat_minor": 4
}
