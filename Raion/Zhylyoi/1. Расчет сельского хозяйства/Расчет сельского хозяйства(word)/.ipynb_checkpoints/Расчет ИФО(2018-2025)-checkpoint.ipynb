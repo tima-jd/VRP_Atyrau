{
 "cells": [
  {
   "cell_type": "code",
   "execution_count": 2,
   "metadata": {},
   "outputs": [
    {
     "data": {
      "text/plain": [
       "0            NaN\n",
       "1      94.194194\n",
       "2     108.969182\n",
       "3     109.869319\n",
       "4      94.230428\n",
       "5      96.420497\n",
       "6     101.602188\n",
       "7     102.403846\n",
       "8      99.061033\n",
       "9      91.090047\n",
       "10    104.786681\n",
       "11    107.348560\n",
       "12     97.224792\n",
       "13     94.766889\n",
       "14    100.803213\n",
       "15    104.282869\n",
       "16     99.331423\n",
       "17     98.461538\n",
       "18    102.050781\n",
       "Name: o_ifo_agro, dtype: float64"
      ]
     },
     "execution_count": 2,
     "metadata": {},
     "output_type": "execute_result"
    }
   ],
   "source": [
    "import pandas as pd\n",
    "import numpy as np\n",
    "xlsx = pd.read_csv('vrp_ekz_fact.csv')\n",
    "l = xlsx['o_year']\n",
    "d = xlsx['o_ifo_agro']\n",
    "Lagr = (d/d.shift(1)) * 100\n",
    "Lagr"
   ]
  },
  {
   "cell_type": "code",
   "execution_count": null,
   "metadata": {},
   "outputs": [],
   "source": []
  }
 ],
 "metadata": {
  "kernelspec": {
   "display_name": "Python 3",
   "language": "python",
   "name": "python3"
  },
  "language_info": {
   "codemirror_mode": {
    "name": "ipython",
    "version": 3
   },
   "file_extension": ".py",
   "mimetype": "text/x-python",
   "name": "python",
   "nbconvert_exporter": "python",
   "pygments_lexer": "ipython3",
   "version": "3.7.6"
  }
 },
 "nbformat": 4,
 "nbformat_minor": 4
}
