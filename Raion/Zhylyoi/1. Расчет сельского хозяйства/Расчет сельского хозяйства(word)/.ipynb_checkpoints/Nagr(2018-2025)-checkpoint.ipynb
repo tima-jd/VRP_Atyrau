{
 "cells": [
  {
   "cell_type": "code",
   "execution_count": 13,
   "metadata": {},
   "outputs": [
    {
     "data": {
      "text/plain": [
       "0              NaN\n",
       "1      4413.386213\n",
       "2      5308.190722\n",
       "3      6684.007807\n",
       "4      7343.302450\n",
       "5      8109.986036\n",
       "6     11581.860621\n",
       "7     14482.302935\n",
       "8     18071.947105\n",
       "9     19345.419176\n",
       "10    20628.503306\n",
       "11    31667.366176\n",
       "12    42006.593688\n",
       "13    47923.254869\n",
       "14    52781.215360\n",
       "15    60236.354346\n",
       "16    62645.784696\n",
       "17    64498.004863\n",
       "18    65418.288143\n",
       "19             NaN\n",
       "20             NaN\n",
       "dtype: float64"
      ]
     },
     "execution_count": 13,
     "metadata": {},
     "output_type": "execute_result"
    }
   ],
   "source": [
    "import pandas as pd\n",
    "import numpy as np\n",
    "csv_file = pd.read_csv('vrp_ekz_fact.csv')\n",
    "csv_file_2 = pd.read_csv('vrp_ekz_prog.csv')\n",
    "Nagr= csv_file['o_prod_agro']\n",
    "inflation = csv_file_2['o_inflation']\n",
    "Lagr = csv_file['o_ifo_agro']\n",
    "lagrS = (100/Lagr) * 100\n",
    "Dagr = (Nagr/Nagr.shift(1)/lagrS)*10000\n",
    "Einfagr = ((Dagr.prod())**1/Dagr.mean())/(((inflation+100).prod())**1/Dagr.mean())\n",
    "\n",
    "Dagr = inflation * Einfagr +100\n",
    "\n",
    "Nagr = (Nagr.shift(1)*Lagr * Dagr)/10000\n",
    "\n",
    "Nagr"
   ]
  },
  {
   "cell_type": "code",
   "execution_count": null,
   "metadata": {},
   "outputs": [],
   "source": []
  }
 ],
 "metadata": {
  "kernelspec": {
   "display_name": "Python 3",
   "language": "python",
   "name": "python3"
  },
  "language_info": {
   "codemirror_mode": {
    "name": "ipython",
    "version": 3
   },
   "file_extension": ".py",
   "mimetype": "text/x-python",
   "name": "python",
   "nbconvert_exporter": "python",
   "pygments_lexer": "ipython3",
   "version": "3.7.6"
  }
 },
 "nbformat": 4,
 "nbformat_minor": 4
}
