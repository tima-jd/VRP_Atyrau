{
 "cells": [
  {
   "cell_type": "code",
   "execution_count": 14,
   "metadata": {},
   "outputs": [
    {
     "data": {
      "text/plain": [
       "(0            NaN\n",
       " 1      91.879527\n",
       " 2     105.399508\n",
       " 3     101.436066\n",
       " 4      99.709599\n",
       " 5      95.967961\n",
       " 6      93.534984\n",
       " 7      95.222802\n",
       " 8      66.656377\n",
       " 9     100.826169\n",
       " 10    117.962840\n",
       " 11    101.224942\n",
       " 12     97.181564\n",
       " 13     88.638299\n",
       " 14    101.293952\n",
       " 15    118.107250\n",
       " 16     90.013086\n",
       " 17     88.650415\n",
       " 18     99.504629\n",
       " 19           NaN\n",
       " 20           NaN\n",
       " dtype: float64,\n",
       " 0     2019\n",
       " 1     2020\n",
       " 2     2021\n",
       " 3     2022\n",
       " 4     2023\n",
       " 5     2024\n",
       " 6     2025\n",
       " 7     2019\n",
       " 8     2020\n",
       " 9     2021\n",
       " 10    2022\n",
       " 11    2023\n",
       " 12    2024\n",
       " 13    2025\n",
       " 14    2020\n",
       " 15    2021\n",
       " 16    2022\n",
       " 17    2023\n",
       " 18    2024\n",
       " 19    2025\n",
       " 20    2019\n",
       " Name: o_year, dtype: int64)"
      ]
     },
     "execution_count": 14,
     "metadata": {},
     "output_type": "execute_result"
    }
   ],
   "source": [
    "import pandas as pd\n",
    "import numpy as np\n",
    "xlsx = pd.read_csv('vrp_ekz_prog.csv')\n",
    "csv = pd.read_csv('vrp_ekz_fact.csv')\n",
    "\n",
    "l = xlsx['o_year']\n",
    "Gplg = ((xlsx['o_potato_zhylyoi'] + xlsx['o_grain_zhylyoi'] + xlsx['o_vegetables_zhylyoi'])/(xlsx['o_potato_zhylyoi'].shift(1) + xlsx['o_grain_zhylyoi'].shift(1) + xlsx['o_vegetables_zhylyoi'].shift(1))) * 100\n",
    "Ganm = ((xlsx['o_cattle_zhylyoi'] * xlsx['o_weight_cattle']) + (xlsx['o_goats_zhylyoi'] * xlsx['o_weight_goats']) + (xlsx['o_horses_zhylyoi']* xlsx['o_weight_horses']) + (xlsx['o_poultry_zhylyoi'] * xlsx['o_weight_poultry']))/((xlsx['o_cattle_zhylyoi'] * xlsx['o_weight_cattle']).shift(1) + (xlsx['o_goats_zhylyoi'] * xlsx['o_weight_goats']).shift(1) + (xlsx['o_horses_zhylyoi']* xlsx['o_weight_horses']).shift(1) + (xlsx['o_poultry_zhylyoi'] * xlsx['o_weight_poultry']).shift(1)) * 100\n",
    "d = csv['o_ifo_agro_atyrau']\n",
    "IagrS = (100/d) * 100\n",
    "GanmS = (100/s) * 100\n",
    "GplgS = (100/c) * 100\n",
    "Eplg = ((GplgS - GplgS.mean()) * (IagrS - IagrS.mean())).sum() / ((GplgS - GplgS.mean())**2).sum()\n",
    "Eanm = ((GanmS - GanmS.mean()) * (IagrS - IagrS.mean())).sum() / ((GanmS - GanmS.mean())**2).sum()\n",
    "\n",
    "LagrS = (IagrS.shift(1) * ((Gplg-100) * Eplg + (Ganm - 100) * Eanm +100))/100 \n",
    "\n",
    "LagrS,l\n"
   ]
  },
  {
   "cell_type": "code",
   "execution_count": null,
   "metadata": {},
   "outputs": [],
   "source": []
  }
 ],
 "metadata": {
  "kernelspec": {
   "display_name": "Python 3",
   "language": "python",
   "name": "python3"
  },
  "language_info": {
   "codemirror_mode": {
    "name": "ipython",
    "version": 3
   },
   "file_extension": ".py",
   "mimetype": "text/x-python",
   "name": "python",
   "nbconvert_exporter": "python",
   "pygments_lexer": "ipython3",
   "version": "3.7.6"
  }
 },
 "nbformat": 4,
 "nbformat_minor": 4
}
