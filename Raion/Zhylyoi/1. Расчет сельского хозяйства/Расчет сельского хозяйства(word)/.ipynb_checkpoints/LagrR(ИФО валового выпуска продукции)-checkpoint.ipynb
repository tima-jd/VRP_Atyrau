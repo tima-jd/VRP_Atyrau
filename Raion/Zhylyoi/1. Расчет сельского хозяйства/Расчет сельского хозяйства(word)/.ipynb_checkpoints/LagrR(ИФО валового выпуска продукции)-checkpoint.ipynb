{
 "cells": [
  {
   "cell_type": "code",
   "execution_count": 5,
   "metadata": {},
   "outputs": [
    {
     "data": {
      "text/plain": [
       "0            NaN\n",
       "1     104.960579\n",
       "2     101.377198\n",
       "3      99.819492\n",
       "4      96.438182\n",
       "5      94.245635\n",
       "6      88.400380\n",
       "7      75.698536\n",
       "8     100.808332\n",
       "9     115.621305\n",
       "10    101.180222\n",
       "11     97.501187\n",
       "12     89.592996\n",
       "13    100.836615\n",
       "14    116.599424\n",
       "15     91.403871\n",
       "16     89.707034\n",
       "17     99.635513\n",
       "18     99.361805\n",
       "dtype: float64"
      ]
     },
     "execution_count": 5,
     "metadata": {},
     "output_type": "execute_result"
    }
   ],
   "source": [
    "import pandas as pd\n",
    "import numpy as np\n",
    "csv_file = pd.read_csv('vrp_ekz_fact.csv')\n",
    "l = csv_file['o_year']\n",
    "d = csv_file['o_ifo_agro_atyrau']\n",
    "Nagr= csv_file['o_prod_agro']\n",
    "Nagr_1= csv_file['o_prod_agro_atyrau']\n",
    "Nagr_2= csv_file['o_prod_agro_inder']\n",
    "Nagr_3= csv_file['o_prod_agro_isatai']\n",
    "Nagr_4= csv_file['o_prod_agro_kurmangazy']\n",
    "Nagr_5= csv_file['o_prod_agro_kzylkoga']\n",
    "Nagr_6= csv_file['o_prod_agro_makat']\n",
    "Nagr_7= csv_file['o_prod_agro_makhambet']\n",
    "\n",
    "NagrI = Nagr_1+Nagr_2+Nagr_3+Nagr_4+Nagr_5+Nagr_6+Nagr_7\n",
    "\n",
    "NagrR=NagrI\n",
    "\n",
    "LagrS = (100/d) * 100\n",
    "\n",
    "LagrR=(NagrI.shift(1)/Nagr.shift(1))*(LagrS-100)+100\n",
    "    \n",
    "LagrR"
   ]
  },
  {
   "cell_type": "code",
   "execution_count": null,
   "metadata": {},
   "outputs": [],
   "source": []
  }
 ],
 "metadata": {
  "kernelspec": {
   "display_name": "Python 3",
   "language": "python",
   "name": "python3"
  },
  "language_info": {
   "codemirror_mode": {
    "name": "ipython",
    "version": 3
   },
   "file_extension": ".py",
   "mimetype": "text/x-python",
   "name": "python",
   "nbconvert_exporter": "python",
   "pygments_lexer": "ipython3",
   "version": "3.7.6"
  }
 },
 "nbformat": 4,
 "nbformat_minor": 4
}
