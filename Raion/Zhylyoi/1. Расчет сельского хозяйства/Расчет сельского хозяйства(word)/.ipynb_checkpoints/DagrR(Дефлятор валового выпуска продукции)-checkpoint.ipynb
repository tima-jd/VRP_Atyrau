{
 "cells": [
  {
   "cell_type": "code",
   "execution_count": 9,
   "metadata": {},
   "outputs": [
    {
     "data": {
      "text/plain": [
       "0            NaN\n",
       "1     105.159525\n",
       "2     113.049206\n",
       "3     116.802332\n",
       "4     118.694728\n",
       "5     149.356464\n",
       "6     138.420702\n",
       "7     163.303565\n",
       "8     113.264657\n",
       "9      91.195618\n",
       "10    144.705029\n",
       "11    140.862593\n",
       "12    134.032238\n",
       "13    107.257077\n",
       "14     89.281291\n",
       "15    120.617268\n",
       "16    116.749865\n",
       "17    100.104037\n",
       "18    109.620749\n",
       "dtype: float64"
      ]
     },
     "execution_count": 9,
     "metadata": {},
     "output_type": "execute_result"
    }
   ],
   "source": [
    "import pandas as pd\n",
    "import numpy as np\n",
    "csv_file = pd.read_csv('vrp_ekz_fact.csv')\n",
    "l = csv_file['o_year']\n",
    "d = csv_file['o_ifo_agro_atyrau']\n",
    "Nagr= csv_file['o_prod_agro']\n",
    "Nagr_1= csv_file['o_prod_agro_atyrau']\n",
    "Nagr_2= csv_file['o_prod_agro_inder']\n",
    "Nagr_3= csv_file['o_prod_agro_isatai']\n",
    "Nagr_4= csv_file['o_prod_agro_kurmangazy']\n",
    "Nagr_5= csv_file['o_prod_agro_kzylkoga']\n",
    "Nagr_6= csv_file['o_prod_agro_makat']\n",
    "Nagr_7= csv_file['o_prod_agro_makhambet']\n",
    "\n",
    "NagrI = Nagr_1+Nagr_2+Nagr_3+Nagr_4+Nagr_5+Nagr_6+Nagr_7\n",
    "\n",
    "NagrR=NagrI\n",
    "\n",
    "LagrS = (100/d) * 100\n",
    "\n",
    "LagrR=(NagrI.shift(1)/Nagr.shift(1))*(LagrS-100)+100\n",
    "    \n",
    "LagrR\n",
    "\n",
    "DagrR = NagrR/NagrR.shift(1)/LagrR*10000\n",
    "DagrR"
   ]
  },
  {
   "cell_type": "code",
   "execution_count": null,
   "metadata": {},
   "outputs": [],
   "source": []
  }
 ],
 "metadata": {
  "kernelspec": {
   "display_name": "Python 3",
   "language": "python",
   "name": "python3"
  },
  "language_info": {
   "codemirror_mode": {
    "name": "ipython",
    "version": 3
   },
   "file_extension": ".py",
   "mimetype": "text/x-python",
   "name": "python",
   "nbconvert_exporter": "python",
   "pygments_lexer": "ipython3",
   "version": "3.7.6"
  }
 },
 "nbformat": 4,
 "nbformat_minor": 4
}
