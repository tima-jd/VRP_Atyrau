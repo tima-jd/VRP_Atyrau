{
 "cells": [
  {
   "cell_type": "code",
   "execution_count": 3,
   "metadata": {},
   "outputs": [
    {
     "data": {
      "text/plain": [
       "0     106.796\n",
       "1     48.5437\n",
       "2     58.2524\n",
       "3     58.2524\n",
       "4     58.2524\n",
       "5     67.9612\n",
       "6     9.70874\n",
       "7     19.4175\n",
       "8     29.1262\n",
       "9     29.1262\n",
       "10    29.1262\n",
       "11    29.1262\n",
       "12    29.1262\n",
       "13    29.1262\n",
       "14    46.6019\n",
       "15    50.4854\n",
       "16    56.3107\n",
       "17    57.2816\n",
       "18        100\n",
       "Name: c1, dtype: object"
      ]
     },
     "execution_count": 3,
     "metadata": {},
     "output_type": "execute_result"
    }
   ],
   "source": [
    "import pandas as pd\n",
    "import numpy as np\n",
    "xlsx = pd.read_csv('vrp_ekz_fact.csv')\n",
    "l = xlsx['o_year']\n",
    "b = ((xlsx['o_potato_zhylyoi'] + xlsx['o_grain_zhylyoi'] + xlsx['o_vegetables_zhylyoi'])/(xlsx['o_potato_zhylyoi'].shift(1) + xlsx['o_grain_zhylyoi'].shift(1) + xlsx['o_vegetables_zhylyoi'].shift(1))) * 100\n",
    "\n",
    "i=18\n",
    "c=100\n",
    "newdf = pd.DataFrame(columns=['c1'], index=range(19))\n",
    "while i>0:\n",
    "    c = (c/b[i]) * 100\n",
    "    i=i-1\n",
    "    newdf.loc[i].c1 = c\n",
    "GplgS=newdf['c1']\n",
    "GplgS[18]=100\n",
    "\n",
    "GplgS"
   ]
  },
  {
   "cell_type": "code",
   "execution_count": 18,
   "metadata": {},
   "outputs": [
    {
     "data": {
      "text/plain": [
       "0     100.000000\n",
       "1     100.970874\n",
       "2     100.970874\n",
       "3     100.970874\n",
       "4     100.970874\n",
       "5     100.970874\n",
       "6     100.970874\n",
       "7     100.000000\n",
       "8     100.970874\n",
       "9     100.970874\n",
       "10    100.970874\n",
       "11    100.970874\n",
       "12    100.970874\n",
       "13    100.970874\n",
       "14    100.970874\n",
       "15    100.970874\n",
       "16    100.970874\n",
       "17    100.970874\n",
       "18    100.970874\n",
       "19    100.970874\n",
       "20    100.000000\n",
       "dtype: float64"
      ]
     },
     "execution_count": 18,
     "metadata": {},
     "output_type": "execute_result"
    }
   ],
   "source": [
    "import pandas as pd\n",
    "import numpy as np\n",
    "xlsx = pd.read_csv('vrp_ekz_prog.csv')\n",
    "b = 100*((xlsx['o_potato_zhylyoi'] + xlsx['o_grain_zhylyoi'] + xlsx['o_vegetables_zhylyoi'])/(xlsx['o_potato_zhylyoi'].iloc[-1] + xlsx['o_grain_zhylyoi'].iloc[-1] + xlsx['o_vegetables_zhylyoi'].iloc[-1]))\n",
    "b"
   ]
  },
  {
   "cell_type": "code",
   "execution_count": null,
   "metadata": {},
   "outputs": [],
   "source": []
  }
 ],
 "metadata": {
  "kernelspec": {
   "display_name": "Python 3",
   "language": "python",
   "name": "python3"
  },
  "language_info": {
   "codemirror_mode": {
    "name": "ipython",
    "version": 3
   },
   "file_extension": ".py",
   "mimetype": "text/x-python",
   "name": "python",
   "nbconvert_exporter": "python",
   "pygments_lexer": "ipython3",
   "version": "3.7.6"
  }
 },
 "nbformat": 4,
 "nbformat_minor": 4
}
