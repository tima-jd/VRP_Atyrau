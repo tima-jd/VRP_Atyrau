{
 "cells": [
  {
   "cell_type": "code",
   "execution_count": 5,
   "metadata": {},
   "outputs": [
    {
     "data": {
      "text/plain": [
       "0     100.630694\n",
       "1     100.595656\n",
       "2     100.437982\n",
       "3     100.239430\n",
       "4     100.385424\n",
       "5     100.385424\n",
       "6     100.548938\n",
       "7     100.502220\n",
       "8     100.870125\n",
       "9     100.484700\n",
       "10    100.408783\n",
       "11    100.490540\n",
       "12    100.315347\n",
       "13    100.321187\n",
       "14    100.373745\n",
       "15    100.408783\n",
       "16    100.835086\n",
       "17    100.513899\n",
       "18    100.327027\n",
       "Name: o_inflation, dtype: float64"
      ]
     },
     "execution_count": 5,
     "metadata": {},
     "output_type": "execute_result"
    }
   ],
   "source": [
    "import pandas as pd\n",
    "import numpy as np\n",
    "csv_file = pd.read_csv('vrp_ekz_fact.csv')\n",
    "d = csv_file['o_ifo_agro']\n",
    "inflation = csv_file['o_inflation']\n",
    "b= csv_file['o_prod_agro']\n",
    "lagrS = (100/d) * 100\n",
    "Dagr = (b/b.shift(1)/lagrS)*10000\n",
    "Einfagr = ((Dagr.prod())**1/Dagr.mean())/(((inflation+100).prod())**1/Dagr.mean())\n",
    "Dagr = inflation * Einfagr +100\n",
    "Dagr"
   ]
  },
  {
   "cell_type": "code",
   "execution_count": null,
   "metadata": {},
   "outputs": [],
   "source": []
  }
 ],
 "metadata": {
  "kernelspec": {
   "display_name": "Python 3",
   "language": "python",
   "name": "python3"
  },
  "language_info": {
   "codemirror_mode": {
    "name": "ipython",
    "version": 3
   },
   "file_extension": ".py",
   "mimetype": "text/x-python",
   "name": "python",
   "nbconvert_exporter": "python",
   "pygments_lexer": "ipython3",
   "version": "3.7.6"
  }
 },
 "nbformat": 4,
 "nbformat_minor": 4
}
