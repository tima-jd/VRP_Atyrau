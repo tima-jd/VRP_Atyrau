{
 "cells": [
  {
   "cell_type": "code",
   "execution_count": 9,
   "metadata": {},
   "outputs": [
    {
     "data": {
      "text/plain": [
       "0      4241.5\n",
       "1      4681.6\n",
       "2      5365.4\n",
       "3      6255.6\n",
       "4      7160.6\n",
       "5     10079.4\n",
       "6     12333.6\n",
       "7     15246.6\n",
       "8     17408.6\n",
       "9     18355.9\n",
       "10    26875.4\n",
       "11    36911.4\n",
       "12    44324.5\n",
       "13    47938.9\n",
       "14    49905.1\n",
       "15    55019.8\n",
       "16    57623.8\n",
       "17    57473.5\n",
       "18    62600.8\n",
       "dtype: float64"
      ]
     },
     "execution_count": 9,
     "metadata": {},
     "output_type": "execute_result"
    }
   ],
   "source": [
    "import pandas as pd\n",
    "import numpy as np\n",
    "csv_file = pd.read_csv('vrp_ekz_fact.csv')\n",
    "csv_file_2 = pd.read_csv('vrp_ekz_prog.csv')\n",
    "Nagr= csv_file['o_prod_agro']\n",
    "Nagr_1= csv_file['o_prod_agro_atyrau']\n",
    "Nagr_2= csv_file['o_prod_agro_inder']\n",
    "Nagr_3= csv_file['o_prod_agro_isatai']\n",
    "Nagr_4= csv_file['o_prod_agro_kurmangazy']\n",
    "Nagr_5= csv_file['o_prod_agro_kzylkoga']\n",
    "Nagr_6= csv_file['o_prod_agro_makat']\n",
    "Nagr_7= csv_file['o_prod_agro_makhambet']\n",
    "\n",
    "NagrI = Nagr_1+Nagr_2+Nagr_3+Nagr_4+Nagr_5+Nagr_6+Nagr_7\n",
    "\n",
    "NagrR=NagrI\n",
    "\n",
    "NagrR"
   ]
  },
  {
   "cell_type": "code",
   "execution_count": null,
   "metadata": {},
   "outputs": [],
   "source": []
  }
 ],
 "metadata": {
  "kernelspec": {
   "display_name": "Python 3",
   "language": "python",
   "name": "python3"
  },
  "language_info": {
   "codemirror_mode": {
    "name": "ipython",
    "version": 3
   },
   "file_extension": ".py",
   "mimetype": "text/x-python",
   "name": "python",
   "nbconvert_exporter": "python",
   "pygments_lexer": "ipython3",
   "version": "3.7.6"
  }
 },
 "nbformat": 4,
 "nbformat_minor": 4
}
