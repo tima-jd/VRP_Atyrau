{
 "cells": [
  {
   "cell_type": "code",
   "execution_count": 1,
   "metadata": {},
   "outputs": [
    {
     "data": {
      "text/plain": [
       "0     88.9686\n",
       "1     113.524\n",
       "2      52.221\n",
       "3     44.9623\n",
       "4     37.2738\n",
       "5     40.6657\n",
       "6     38.9577\n",
       "7       41.49\n",
       "8     47.3815\n",
       "9     31.5561\n",
       "10    33.3232\n",
       "11    34.3563\n",
       "12    33.0851\n",
       "13    47.3117\n",
       "14    83.4578\n",
       "15    78.4503\n",
       "16    87.2367\n",
       "17    89.7666\n",
       "18        100\n",
       "Name: c1, dtype: object"
      ]
     },
     "execution_count": 1,
     "metadata": {},
     "output_type": "execute_result"
    }
   ],
   "source": [
    "import pandas as pd\n",
    "csv = pd.read_csv('vrp_ekz_fact.csv')\n",
    "lelc = csv['o_ifo_energo_zhylyoi']\n",
    "\n",
    "c=100\n",
    "i=18\n",
    "\n",
    "\n",
    "newdf = pd.DataFrame(columns=['c1'], index=range(19))\n",
    "\n",
    "while i>0:    \n",
    "    c = c/lelc[i]*100 \n",
    "    i = i-1\n",
    "    newdf.loc[i].c1 = c\n",
    "    \n",
    "lelcS = newdf['c1']\n",
    "lelcS[18]=100\n",
    "\n",
    "lelcS"
   ]
  },
  {
   "cell_type": "code",
   "execution_count": null,
   "metadata": {},
   "outputs": [],
   "source": []
  }
 ],
 "metadata": {
  "kernelspec": {
   "display_name": "Python 3",
   "language": "python",
   "name": "python3"
  },
  "language_info": {
   "codemirror_mode": {
    "name": "ipython",
    "version": 3
   },
   "file_extension": ".py",
   "mimetype": "text/x-python",
   "name": "python",
   "nbconvert_exporter": "python",
   "pygments_lexer": "ipython3",
   "version": "3.7.6"
  }
 },
 "nbformat": 4,
 "nbformat_minor": 4
}
