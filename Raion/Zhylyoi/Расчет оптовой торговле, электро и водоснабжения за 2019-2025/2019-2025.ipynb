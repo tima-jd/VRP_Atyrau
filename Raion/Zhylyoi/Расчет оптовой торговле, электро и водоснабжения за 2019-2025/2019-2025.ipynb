{
 "cells": [
  {
   "cell_type": "code",
   "execution_count": 2,
   "metadata": {},
   "outputs": [
    {
     "ename": "KeyError",
     "evalue": "'Ntrd_zhylyoi'",
     "output_type": "error",
     "traceback": [
      "\u001b[1;31m---------------------------------------------------------------------------\u001b[0m",
      "\u001b[1;31mKeyError\u001b[0m                                  Traceback (most recent call last)",
      "\u001b[1;32m~\\anaconda3\\lib\\site-packages\\pandas\\core\\indexes\\base.py\u001b[0m in \u001b[0;36mget_loc\u001b[1;34m(self, key, method, tolerance)\u001b[0m\n\u001b[0;32m   2645\u001b[0m             \u001b[1;32mtry\u001b[0m\u001b[1;33m:\u001b[0m\u001b[1;33m\u001b[0m\u001b[1;33m\u001b[0m\u001b[0m\n\u001b[1;32m-> 2646\u001b[1;33m                 \u001b[1;32mreturn\u001b[0m \u001b[0mself\u001b[0m\u001b[1;33m.\u001b[0m\u001b[0m_engine\u001b[0m\u001b[1;33m.\u001b[0m\u001b[0mget_loc\u001b[0m\u001b[1;33m(\u001b[0m\u001b[0mkey\u001b[0m\u001b[1;33m)\u001b[0m\u001b[1;33m\u001b[0m\u001b[1;33m\u001b[0m\u001b[0m\n\u001b[0m\u001b[0;32m   2647\u001b[0m             \u001b[1;32mexcept\u001b[0m \u001b[0mKeyError\u001b[0m\u001b[1;33m:\u001b[0m\u001b[1;33m\u001b[0m\u001b[1;33m\u001b[0m\u001b[0m\n",
      "\u001b[1;32mpandas\\_libs\\index.pyx\u001b[0m in \u001b[0;36mpandas._libs.index.IndexEngine.get_loc\u001b[1;34m()\u001b[0m\n",
      "\u001b[1;32mpandas\\_libs\\index.pyx\u001b[0m in \u001b[0;36mpandas._libs.index.IndexEngine.get_loc\u001b[1;34m()\u001b[0m\n",
      "\u001b[1;32mpandas\\_libs\\hashtable_class_helper.pxi\u001b[0m in \u001b[0;36mpandas._libs.hashtable.PyObjectHashTable.get_item\u001b[1;34m()\u001b[0m\n",
      "\u001b[1;32mpandas\\_libs\\hashtable_class_helper.pxi\u001b[0m in \u001b[0;36mpandas._libs.hashtable.PyObjectHashTable.get_item\u001b[1;34m()\u001b[0m\n",
      "\u001b[1;31mKeyError\u001b[0m: 'Ntrd_zhylyoi'",
      "\nDuring handling of the above exception, another exception occurred:\n",
      "\u001b[1;31mKeyError\u001b[0m                                  Traceback (most recent call last)",
      "\u001b[1;32m<ipython-input-2-4f101fab8ec8>\u001b[0m in \u001b[0;36m<module>\u001b[1;34m\u001b[0m\n\u001b[0;32m     30\u001b[0m \u001b[1;33m\u001b[0m\u001b[0m\n\u001b[0;32m     31\u001b[0m \u001b[1;33m\u001b[0m\u001b[0m\n\u001b[1;32m---> 32\u001b[1;33m \u001b[0mNtrd_f\u001b[0m \u001b[1;33m=\u001b[0m \u001b[0mNtrd_csv\u001b[0m\u001b[1;33m[\u001b[0m\u001b[1;34m'Ntrd_zhylyoi'\u001b[0m\u001b[1;33m]\u001b[0m\u001b[1;33m\u001b[0m\u001b[1;33m\u001b[0m\u001b[0m\n\u001b[0m\u001b[0;32m     33\u001b[0m \u001b[0mltrd_f\u001b[0m \u001b[1;33m=\u001b[0m \u001b[0mltrd_csv\u001b[0m\u001b[1;33m[\u001b[0m\u001b[1;34m'ltrd_zhylyoi'\u001b[0m\u001b[1;33m]\u001b[0m\u001b[1;33m\u001b[0m\u001b[1;33m\u001b[0m\u001b[0m\n\u001b[0;32m     34\u001b[0m \u001b[1;33m\u001b[0m\u001b[0m\n",
      "\u001b[1;32m~\\anaconda3\\lib\\site-packages\\pandas\\core\\frame.py\u001b[0m in \u001b[0;36m__getitem__\u001b[1;34m(self, key)\u001b[0m\n\u001b[0;32m   2798\u001b[0m             \u001b[1;32mif\u001b[0m \u001b[0mself\u001b[0m\u001b[1;33m.\u001b[0m\u001b[0mcolumns\u001b[0m\u001b[1;33m.\u001b[0m\u001b[0mnlevels\u001b[0m \u001b[1;33m>\u001b[0m \u001b[1;36m1\u001b[0m\u001b[1;33m:\u001b[0m\u001b[1;33m\u001b[0m\u001b[1;33m\u001b[0m\u001b[0m\n\u001b[0;32m   2799\u001b[0m                 \u001b[1;32mreturn\u001b[0m \u001b[0mself\u001b[0m\u001b[1;33m.\u001b[0m\u001b[0m_getitem_multilevel\u001b[0m\u001b[1;33m(\u001b[0m\u001b[0mkey\u001b[0m\u001b[1;33m)\u001b[0m\u001b[1;33m\u001b[0m\u001b[1;33m\u001b[0m\u001b[0m\n\u001b[1;32m-> 2800\u001b[1;33m             \u001b[0mindexer\u001b[0m \u001b[1;33m=\u001b[0m \u001b[0mself\u001b[0m\u001b[1;33m.\u001b[0m\u001b[0mcolumns\u001b[0m\u001b[1;33m.\u001b[0m\u001b[0mget_loc\u001b[0m\u001b[1;33m(\u001b[0m\u001b[0mkey\u001b[0m\u001b[1;33m)\u001b[0m\u001b[1;33m\u001b[0m\u001b[1;33m\u001b[0m\u001b[0m\n\u001b[0m\u001b[0;32m   2801\u001b[0m             \u001b[1;32mif\u001b[0m \u001b[0mis_integer\u001b[0m\u001b[1;33m(\u001b[0m\u001b[0mindexer\u001b[0m\u001b[1;33m)\u001b[0m\u001b[1;33m:\u001b[0m\u001b[1;33m\u001b[0m\u001b[1;33m\u001b[0m\u001b[0m\n\u001b[0;32m   2802\u001b[0m                 \u001b[0mindexer\u001b[0m \u001b[1;33m=\u001b[0m \u001b[1;33m[\u001b[0m\u001b[0mindexer\u001b[0m\u001b[1;33m]\u001b[0m\u001b[1;33m\u001b[0m\u001b[1;33m\u001b[0m\u001b[0m\n",
      "\u001b[1;32m~\\anaconda3\\lib\\site-packages\\pandas\\core\\indexes\\base.py\u001b[0m in \u001b[0;36mget_loc\u001b[1;34m(self, key, method, tolerance)\u001b[0m\n\u001b[0;32m   2646\u001b[0m                 \u001b[1;32mreturn\u001b[0m \u001b[0mself\u001b[0m\u001b[1;33m.\u001b[0m\u001b[0m_engine\u001b[0m\u001b[1;33m.\u001b[0m\u001b[0mget_loc\u001b[0m\u001b[1;33m(\u001b[0m\u001b[0mkey\u001b[0m\u001b[1;33m)\u001b[0m\u001b[1;33m\u001b[0m\u001b[1;33m\u001b[0m\u001b[0m\n\u001b[0;32m   2647\u001b[0m             \u001b[1;32mexcept\u001b[0m \u001b[0mKeyError\u001b[0m\u001b[1;33m:\u001b[0m\u001b[1;33m\u001b[0m\u001b[1;33m\u001b[0m\u001b[0m\n\u001b[1;32m-> 2648\u001b[1;33m                 \u001b[1;32mreturn\u001b[0m \u001b[0mself\u001b[0m\u001b[1;33m.\u001b[0m\u001b[0m_engine\u001b[0m\u001b[1;33m.\u001b[0m\u001b[0mget_loc\u001b[0m\u001b[1;33m(\u001b[0m\u001b[0mself\u001b[0m\u001b[1;33m.\u001b[0m\u001b[0m_maybe_cast_indexer\u001b[0m\u001b[1;33m(\u001b[0m\u001b[0mkey\u001b[0m\u001b[1;33m)\u001b[0m\u001b[1;33m)\u001b[0m\u001b[1;33m\u001b[0m\u001b[1;33m\u001b[0m\u001b[0m\n\u001b[0m\u001b[0;32m   2649\u001b[0m         \u001b[0mindexer\u001b[0m \u001b[1;33m=\u001b[0m \u001b[0mself\u001b[0m\u001b[1;33m.\u001b[0m\u001b[0mget_indexer\u001b[0m\u001b[1;33m(\u001b[0m\u001b[1;33m[\u001b[0m\u001b[0mkey\u001b[0m\u001b[1;33m]\u001b[0m\u001b[1;33m,\u001b[0m \u001b[0mmethod\u001b[0m\u001b[1;33m=\u001b[0m\u001b[0mmethod\u001b[0m\u001b[1;33m,\u001b[0m \u001b[0mtolerance\u001b[0m\u001b[1;33m=\u001b[0m\u001b[0mtolerance\u001b[0m\u001b[1;33m)\u001b[0m\u001b[1;33m\u001b[0m\u001b[1;33m\u001b[0m\u001b[0m\n\u001b[0;32m   2650\u001b[0m         \u001b[1;32mif\u001b[0m \u001b[0mindexer\u001b[0m\u001b[1;33m.\u001b[0m\u001b[0mndim\u001b[0m \u001b[1;33m>\u001b[0m \u001b[1;36m1\u001b[0m \u001b[1;32mor\u001b[0m \u001b[0mindexer\u001b[0m\u001b[1;33m.\u001b[0m\u001b[0msize\u001b[0m \u001b[1;33m>\u001b[0m \u001b[1;36m1\u001b[0m\u001b[1;33m:\u001b[0m\u001b[1;33m\u001b[0m\u001b[1;33m\u001b[0m\u001b[0m\n",
      "\u001b[1;32mpandas\\_libs\\index.pyx\u001b[0m in \u001b[0;36mpandas._libs.index.IndexEngine.get_loc\u001b[1;34m()\u001b[0m\n",
      "\u001b[1;32mpandas\\_libs\\index.pyx\u001b[0m in \u001b[0;36mpandas._libs.index.IndexEngine.get_loc\u001b[1;34m()\u001b[0m\n",
      "\u001b[1;32mpandas\\_libs\\hashtable_class_helper.pxi\u001b[0m in \u001b[0;36mpandas._libs.hashtable.PyObjectHashTable.get_item\u001b[1;34m()\u001b[0m\n",
      "\u001b[1;32mpandas\\_libs\\hashtable_class_helper.pxi\u001b[0m in \u001b[0;36mpandas._libs.hashtable.PyObjectHashTable.get_item\u001b[1;34m()\u001b[0m\n",
      "\u001b[1;31mKeyError\u001b[0m: 'Ntrd_zhylyoi'"
     ]
    }
   ],
   "source": [
    "import pandas as pd\n",
    "\n",
    "csv = pd.read_csv('vrp_ekz_fact.csv')\n",
    "csv_p = pd.read_csv('vrp_ekz_prog.csv')\n",
    "lret_csv = pd.read_csv('lret(2019-2025).csv')\n",
    "lwhl_csv = pd.read_csv('lwhl(2019-2025).csv')\n",
    "lagr_csv = pd.read_csv('lagrt(2019-2025).csv')\n",
    "lmin_csv = pd.read_csv('lmint(2019-2025).csv')\n",
    "lcon_csv = pd.read_csv('lcon(2019-2025).csv')\n",
    "ltrd_csv = pd.read_csv('ltrd(2001-2018).csv')\n",
    "man_csv  = pd.read_csv('lman, Nman(2019-2025).csv')\n",
    "Ncon_csv = pd.read_csv('Ncon(2019-2025).csv')\n",
    "Ntrd_csv = pd.read_csv('Ntrd(2001-2018).csv')\n",
    "Nmin_csv = pd.read_csv('Nmin(2019-2025).csv')\n",
    "Nret_csv = pd.read_csv('Nret(2019-2025).csv')\n",
    "Nagr_csv = pd.read_csv('Nagr(2019-2025).csv')\n",
    "\n",
    "Nret_f = csv['o_prod_retail_zhylyoi']\n",
    "Nwhl_f = csv['o_prod_trade_zhylyoi']\n",
    "Nagr_f = csv['o_prod_agro_zhylyoi']\n",
    "Nmin_f = csv['o_prod_mining_zhylyoi']\n",
    "Nman_f = csv['o_prod_man_zhylyoi']\n",
    "Ncon_f = csv['o_prod_building_zhylyoi']\n",
    "Nelc_f = csv['o_prod_energo_zhylyoi']\n",
    "Nwtr_f = csv['o_prod_water_zhylyoi']\n",
    "Nind_f = csv['o_prod_water_zhylyoi']\n",
    "\n",
    "lelc_f = csv['o_ifo_energo_zhylyoi']\n",
    "lwtr_f = csv['o_ifo_water_zhylyoi']\n",
    "\n",
    "\n",
    "Ntrd_f = Ntrd_csv['Ntrd_zhylyoi']\n",
    "ltrd_f = ltrd_csv['ltrd_zhylyoi']\n",
    "\n",
    "\n",
    "Nmin = Nmin_csv['c1']\n",
    "\n",
    "Nman = man_csv['Nman']\n",
    "lman = man_csv['lman']\n",
    "\n",
    "lret = lret_csv['c1']\n",
    "lwhl = lwhl_csv['c1']\n",
    "lagr = lagr_csv['c1']\n",
    "lmin = lmin_csv['c1']\n",
    "lcon = lcon_csv['c1']\n",
    "Ncon = Ncon_csv['c1']\n",
    "Nret = Nret_csv['c1']\n",
    "Nagr = Nagr_csv['c1']\n",
    "\n",
    "inf = csv_p['o_inflation']\n",
    "\n",
    "ltrd = (lret[0]*Nret_f[18] + lwhl[0]*Nwhl_f[18])/Ntrd_f[18]\n",
    "ltrd"
   ]
  },
  {
   "cell_type": "code",
   "execution_count": null,
   "metadata": {},
   "outputs": [],
   "source": [
    "lammct = (lagr[0]*Nagr_f[18] + lmin[0]*Nmin_f[18] + lman[0]*Nman_f[18] + lcon[0]*Ncon_f[18] + ltrd * Ntrd_f[18])/(Nagr_f[18]+Nmin_f[18]+Nman_f[18]+Ncon_f[18]+Ntrd_f[18])\n",
    "Ntrd_f[18]"
   ]
  },
  {
   "cell_type": "code",
   "execution_count": null,
   "metadata": {},
   "outputs": [],
   "source": [
    "S= (100*((lammct-100)*0.2517289419891494+100))/100\n",
    "S"
   ]
  },
  {
   "cell_type": "code",
   "execution_count": 5,
   "metadata": {},
   "outputs": [
    {
     "data": {
      "text/plain": [
       "(101.04367575522389, 101.04367575522389)"
      ]
     },
     "execution_count": 5,
     "metadata": {},
     "output_type": "execute_result"
    }
   ],
   "source": [
    "lelc= S/100 * 100\n",
    "lwtr= S/100 * 100\n",
    "lelc,lwtr"
   ]
  },
  {
   "cell_type": "code",
   "execution_count": 6,
   "metadata": {},
   "outputs": [
    {
     "data": {
      "text/plain": [
       "0     105.658010\n",
       "1     105.658010\n",
       "2     105.658010\n",
       "3     104.715008\n",
       "4     104.715008\n",
       "5     104.715008\n",
       "6     104.715008\n",
       "7     105.658010\n",
       "8     105.299669\n",
       "9     105.299669\n",
       "10    104.356668\n",
       "11    104.356668\n",
       "12    104.356668\n",
       "13    104.356668\n",
       "14    107.110233\n",
       "15    107.110233\n",
       "16    106.167231\n",
       "17    106.167231\n",
       "18    106.167231\n",
       "19    106.167231\n",
       "20    105.658010\n",
       "Name: o_inflation, dtype: float64"
      ]
     },
     "execution_count": 6,
     "metadata": {},
     "output_type": "execute_result"
    }
   ],
   "source": [
    "Delc = inf * 0.9430016824852231 + 100\n",
    "Delc"
   ]
  },
  {
   "cell_type": "code",
   "execution_count": 7,
   "metadata": {},
   "outputs": [
    {
     "data": {
      "text/plain": [
       "0     107.037205\n",
       "1     107.037205\n",
       "2     107.037205\n",
       "3     105.864338\n",
       "4     105.864338\n",
       "5     105.864338\n",
       "6     105.864338\n",
       "7     107.037205\n",
       "8     106.591516\n",
       "9     106.591516\n",
       "10    105.418648\n",
       "11    105.418648\n",
       "12    105.418648\n",
       "13    105.418648\n",
       "14    108.843421\n",
       "15    108.843421\n",
       "16    107.670554\n",
       "17    107.670554\n",
       "18    107.670554\n",
       "19    107.670554\n",
       "20    107.037205\n",
       "Name: o_inflation, dtype: float64"
      ]
     },
     "execution_count": 7,
     "metadata": {},
     "output_type": "execute_result"
    }
   ],
   "source": [
    "Dwtr = inf * 1.1728675423595232 + 100\n",
    "Dwtr"
   ]
  },
  {
   "cell_type": "code",
   "execution_count": 8,
   "metadata": {},
   "outputs": [],
   "source": [
    "Nelc = (Nelc_f[18]*lelc*Delc[0])/10000\n",
    "Nwtr = (Nwtr_f[18]*lwtr*Dwtr[0])/10000"
   ]
  },
  {
   "cell_type": "code",
   "execution_count": 9,
   "metadata": {},
   "outputs": [
    {
     "data": {
      "text/plain": [
       "6495977.577171189"
      ]
     },
     "execution_count": 9,
     "metadata": {},
     "output_type": "execute_result"
    }
   ],
   "source": [
    "Nind = Nmin[0]+Nman[0]+Nelc+Nwtr\n",
    "Nind"
   ]
  },
  {
   "cell_type": "code",
   "execution_count": 10,
   "metadata": {},
   "outputs": [
    {
     "data": {
      "text/plain": [
       "6495977.577171189"
      ]
     },
     "execution_count": 10,
     "metadata": {},
     "output_type": "execute_result"
    }
   ],
   "source": [
    "Nind_f = Nmin_f+Nman_f+Nelc_f+Nwtr_f\n",
    "lind = ((lmin[0]*Nmin_f[18])+(lman[0]*Nman_f[18])+(lelc*Nelc_f[18])+(lwtr*Nwtr_f[18]))/ Nind_f[18]\n",
    "Nind = Nmin[0]+Nman[0]+Nelc+Nwtr\n",
    "Nind\n"
   ]
  },
  {
   "cell_type": "code",
   "execution_count": 11,
   "metadata": {},
   "outputs": [
    {
     "data": {
      "text/plain": [
       "98.63633693004982"
      ]
     },
     "execution_count": 11,
     "metadata": {},
     "output_type": "execute_result"
    }
   ],
   "source": [
    "Dind= (Nind/Nind_f[18]/lind)*10000\n",
    "Dind"
   ]
  },
  {
   "cell_type": "code",
   "execution_count": 12,
   "metadata": {},
   "outputs": [
    {
     "data": {
      "text/plain": [
       "104.03349919344137"
      ]
     },
     "execution_count": 12,
     "metadata": {},
     "output_type": "execute_result"
    }
   ],
   "source": [
    "Dwhl = inf[0] * 0.8682811022075624 + (Dind-100)*0.8625205490436728+100\n",
    "Dwhl"
   ]
  },
  {
   "cell_type": "code",
   "execution_count": 17,
   "metadata": {},
   "outputs": [
    {
     "data": {
      "text/plain": [
       "26306.075990757665"
      ]
     },
     "execution_count": 17,
     "metadata": {},
     "output_type": "execute_result"
    }
   ],
   "source": [
    "Nwhl_p = (Nwhl_f[18]*lwhl[0]*Dwhl)/10000\n",
    "Ntrd_p = Nret[0]+Nwhl_p\n",
    "Ntrd_p"
   ]
  },
  {
   "cell_type": "code",
   "execution_count": 19,
   "metadata": {},
   "outputs": [
    {
     "data": {
      "text/plain": [
       "103.64466085557311"
      ]
     },
     "execution_count": 19,
     "metadata": {},
     "output_type": "execute_result"
    }
   ],
   "source": [
    "ltrd_p = (lret[1]*Nret[0] + lwhl[1]*Nwhl_p)/Ntrd\n",
    "\n",
    "\n",
    "lammct = (lagr[1]*Nagr[0] + lmin[1]*Nmin[0] + lman[1]*Nman[0] + lcon[1]*Ncon[0] + ltrd_p * Ntrd)/(Nagr[0]+Nmin[0]+Nman[0]+Ncon[0]+Ntrd_p)\n",
    "ltrd_p"
   ]
  },
  {
   "cell_type": "code",
   "execution_count": null,
   "metadata": {},
   "outputs": [],
   "source": []
  },
  {
   "cell_type": "code",
   "execution_count": null,
   "metadata": {},
   "outputs": [],
   "source": []
  }
 ],
 "metadata": {
  "kernelspec": {
   "display_name": "Python 3",
   "language": "python",
   "name": "python3"
  },
  "language_info": {
   "codemirror_mode": {
    "name": "ipython",
    "version": 3
   },
   "file_extension": ".py",
   "mimetype": "text/x-python",
   "name": "python",
   "nbconvert_exporter": "python",
   "pygments_lexer": "ipython3",
   "version": "3.7.6"
  }
 },
 "nbformat": 4,
 "nbformat_minor": 4
}
