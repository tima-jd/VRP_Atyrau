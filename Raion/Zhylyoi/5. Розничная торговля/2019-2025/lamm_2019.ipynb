{
 "cells": [
  {
   "cell_type": "code",
   "execution_count": 2,
   "metadata": {},
   "outputs": [
    {
     "data": {
      "text/plain": [
       "104.22258867407042"
      ]
     },
     "execution_count": 2,
     "metadata": {},
     "output_type": "execute_result"
    }
   ],
   "source": [
    "import pandas as pd\n",
    "\n",
    "c = pd.read_csv('vrp_ekz_fact.csv')\n",
    "\n",
    "q = pd.read_csv('lagr(2019-2025).csv')\n",
    "w = pd.read_csv('lmin(2019-2025).csv')\n",
    "t = pd.read_csv('lman, Nman(2019-2025).csv')\n",
    "\n",
    "lman =t['lman_b']\n",
    "Nman =c['o_prod_man_zhylyoi']\n",
    "\n",
    "Nmin =c['o_prod_mining_zhylyoi']\n",
    "Nagr =c['o_prod_agro_zhylyoi']\n",
    "\n",
    "lagr =q['lagr_b']\n",
    "lmin =w['lmin_b']\n",
    "\n",
    "lamm_2019 = (lagr[0]*Nagr[18]+lmin[0]*Nmin[18]+lman[0]*Nman[18])/(Nagr[18]+Nmin[18]+Nman[18])    \n",
    "lamm_2019"
   ]
  },
  {
   "cell_type": "code",
   "execution_count": null,
   "metadata": {},
   "outputs": [],
   "source": []
  }
 ],
 "metadata": {
  "kernelspec": {
   "display_name": "Python 3",
   "language": "python",
   "name": "python3"
  },
  "language_info": {
   "codemirror_mode": {
    "name": "ipython",
    "version": 3
   },
   "file_extension": ".py",
   "mimetype": "text/x-python",
   "name": "python",
   "nbconvert_exporter": "python",
   "pygments_lexer": "ipython3",
   "version": "3.7.6"
  }
 },
 "nbformat": 4,
 "nbformat_minor": 4
}
