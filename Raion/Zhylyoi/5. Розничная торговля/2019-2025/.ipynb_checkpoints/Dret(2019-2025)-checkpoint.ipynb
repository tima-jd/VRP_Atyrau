{
 "cells": [
  {
   "cell_type": "code",
   "execution_count": 1,
   "metadata": {},
   "outputs": [
    {
     "data": {
      "text/plain": [
       "0     106.990986\n",
       "1     106.990986\n",
       "2     106.990986\n",
       "3     105.825822\n",
       "4     105.825822\n",
       "5     105.825822\n",
       "6     105.825822\n",
       "7     106.990986\n",
       "8     106.548223\n",
       "9     106.548223\n",
       "10    105.383059\n",
       "11    105.383059\n",
       "12    105.383059\n",
       "13    105.383059\n",
       "14    108.785339\n",
       "15    108.785339\n",
       "16    107.620175\n",
       "17    107.620175\n",
       "18    107.620175\n",
       "19    107.620175\n",
       "20    106.990986\n",
       "Name: o_inflation, dtype: float64"
      ]
     },
     "execution_count": 1,
     "metadata": {},
     "output_type": "execute_result"
    }
   ],
   "source": [
    "import pandas as pd\n",
    "csv = pd.read_csv('vrp_ekz_prog.csv')\n",
    "inf = csv['o_inflation']\n",
    "Dret = inf * 1.165164308 + 100\n",
    "Dret"
   ]
  },
  {
   "cell_type": "code",
   "execution_count": null,
   "metadata": {},
   "outputs": [],
   "source": []
  }
 ],
 "metadata": {
  "kernelspec": {
   "display_name": "Python 3",
   "language": "python",
   "name": "python3"
  },
  "language_info": {
   "codemirror_mode": {
    "name": "ipython",
    "version": 3
   },
   "file_extension": ".py",
   "mimetype": "text/x-python",
   "name": "python",
   "nbconvert_exporter": "python",
   "pygments_lexer": "ipython3",
   "version": "3.7.6"
  }
 },
 "nbformat": 4,
 "nbformat_minor": 4
}
