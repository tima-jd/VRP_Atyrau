{
 "cells": [
  {
   "cell_type": "code",
   "execution_count": 1,
   "metadata": {},
   "outputs": [
    {
     "data": {
      "text/plain": [
       "0       507.8\n",
       "1       636.7\n",
       "2       659.0\n",
       "3       921.0\n",
       "4      1272.8\n",
       "5      1742.6\n",
       "6      1758.6\n",
       "7      2211.0\n",
       "8      3121.6\n",
       "9      4404.1\n",
       "10     9163.6\n",
       "11    14270.2\n",
       "12    12310.0\n",
       "13     7286.2\n",
       "14    13987.7\n",
       "15    12568.5\n",
       "16    18607.1\n",
       "17    19513.9\n",
       "18    21313.5\n",
       "Name: o_prod_retail_zhylyoi, dtype: float64"
      ]
     },
     "execution_count": 1,
     "metadata": {},
     "output_type": "execute_result"
    }
   ],
   "source": [
    "import pandas as pd\n",
    "csv = pd.read_csv('vrp_ekz_fact.csv')\n",
    "lret = csv['o_ifo_retail_zhylyoi']\n",
    "Nret = csv['o_prod_retail_zhylyoi']\n",
    "Dret = Nret/Nret.shift(1)/lret * 10000\n",
    "Nret"
   ]
  },
  {
   "cell_type": "code",
   "execution_count": null,
   "metadata": {},
   "outputs": [],
   "source": []
  }
 ],
 "metadata": {
  "kernelspec": {
   "display_name": "Python 3",
   "language": "python",
   "name": "python3"
  },
  "language_info": {
   "codemirror_mode": {
    "name": "ipython",
    "version": 3
   },
   "file_extension": ".py",
   "mimetype": "text/x-python",
   "name": "python",
   "nbconvert_exporter": "python",
   "pygments_lexer": "ipython3",
   "version": "3.7.6"
  }
 },
 "nbformat": 4,
 "nbformat_minor": 4
}
