{
 "cells": [
  {
   "cell_type": "code",
   "execution_count": 1,
   "metadata": {},
   "outputs": [
    {
     "data": {
      "text/plain": [
       "0            NaN\n",
       "1     162.204411\n",
       "2     142.761979\n",
       "3     186.591733\n",
       "4     422.860527\n",
       "5     224.509408\n",
       "6     423.899494\n",
       "7     139.816091\n",
       "8     126.595508\n",
       "9      61.875137\n",
       "10    103.945168\n",
       "11    106.011727\n",
       "12    103.743894\n",
       "13    103.330759\n",
       "14    106.630552\n",
       "15    106.737365\n",
       "16    117.338083\n",
       "17     95.370921\n",
       "18    107.987043\n",
       "dtype: float64"
      ]
     },
     "execution_count": 1,
     "metadata": {},
     "output_type": "execute_result"
    }
   ],
   "source": [
    "import pandas as pd\n",
    "csv = pd.read_csv('vrp_ekz_fact.csv')\n",
    "Nret = csv['o_prod_retail_zhylyoi']\n",
    "Nwhl = csv['o_prod_trade_zhylyoi']\n",
    "lret = csv['o_ifo_retail_zhylyoi']\n",
    "lwhl = csv['o_ifo_trade_zhylyoi']\n",
    "Ntrd = Nwhl+Nret\n",
    "\n",
    "ltrd = (lret*Nret.shift(1)+lwhl*Nwhl.shift(1))/Ntrd.shift(1)\n",
    "Dtrd = Ntrd/Ntrd.shift(1)/ltrd*10000\n",
    "\n",
    "Dtrd"
   ]
  },
  {
   "cell_type": "code",
   "execution_count": null,
   "metadata": {},
   "outputs": [],
   "source": []
  }
 ],
 "metadata": {
  "kernelspec": {
   "display_name": "Python 3",
   "language": "python",
   "name": "python3"
  },
  "language_info": {
   "codemirror_mode": {
    "name": "ipython",
    "version": 3
   },
   "file_extension": ".py",
   "mimetype": "text/x-python",
   "name": "python",
   "nbconvert_exporter": "python",
   "pygments_lexer": "ipython3",
   "version": "3.7.6"
  }
 },
 "nbformat": 4,
 "nbformat_minor": 4
}
