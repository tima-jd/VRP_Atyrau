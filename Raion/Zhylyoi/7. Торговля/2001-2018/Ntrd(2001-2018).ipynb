{
 "cells": [
  {
   "cell_type": "code",
   "execution_count": 1,
   "metadata": {},
   "outputs": [
    {
     "data": {
      "text/plain": [
       "0       507.8\n",
       "1       636.7\n",
       "2       659.0\n",
       "3       921.0\n",
       "4      2998.8\n",
       "5      3460.5\n",
       "6      3826.4\n",
       "7      4785.1\n",
       "8      5953.5\n",
       "9      6568.7\n",
       "10    14030.5\n",
       "11    16912.2\n",
       "12    13298.0\n",
       "13     9883.8\n",
       "14    16486.4\n",
       "15    15849.0\n",
       "16    21074.5\n",
       "17    22176.5\n",
       "18    23523.0\n",
       "dtype: float64"
      ]
     },
     "execution_count": 1,
     "metadata": {},
     "output_type": "execute_result"
    }
   ],
   "source": [
    "import pandas as pd\n",
    "csv = pd.read_csv('vrp_ekz_fact.csv')\n",
    "Nret = csv['o_prod_retail_zhylyoi']\n",
    "Nwhl = csv['o_prod_trade_zhylyoi']\n",
    "Ntrd = Nwhl+Nret\n",
    "Ntrd\n"
   ]
  },
  {
   "cell_type": "code",
   "execution_count": null,
   "metadata": {},
   "outputs": [],
   "source": []
  }
 ],
 "metadata": {
  "kernelspec": {
   "display_name": "Python 3",
   "language": "python",
   "name": "python3"
  },
  "language_info": {
   "codemirror_mode": {
    "name": "ipython",
    "version": 3
   },
   "file_extension": ".py",
   "mimetype": "text/x-python",
   "name": "python",
   "nbconvert_exporter": "python",
   "pygments_lexer": "ipython3",
   "version": "3.7.6"
  }
 },
 "nbformat": 4,
 "nbformat_minor": 4
}
