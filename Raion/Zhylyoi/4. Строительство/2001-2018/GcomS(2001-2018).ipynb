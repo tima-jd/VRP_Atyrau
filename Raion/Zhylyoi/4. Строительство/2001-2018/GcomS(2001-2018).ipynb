{
 "cells": [
  {
   "cell_type": "code",
   "execution_count": 2,
   "metadata": {},
   "outputs": [
    {
     "data": {
      "text/plain": [
       "0     22.2455\n",
       "1     34.0225\n",
       "2     45.7995\n",
       "3     51.0338\n",
       "4     47.1081\n",
       "5     96.8333\n",
       "6     124.313\n",
       "7     120.387\n",
       "8     121.696\n",
       "9      126.93\n",
       "10    146.558\n",
       "11    149.176\n",
       "12    153.101\n",
       "13    104.685\n",
       "14    107.302\n",
       "15    107.302\n",
       "16    129.547\n",
       "17    94.2162\n",
       "18        100\n",
       "Name: c1, dtype: object"
      ]
     },
     "execution_count": 2,
     "metadata": {},
     "output_type": "execute_result"
    }
   ],
   "source": [
    "import pandas as pd\n",
    "csv = pd.read_csv('vrp_ekz_fact.csv')\n",
    "com = csv['o_housing_zhylyoi']\n",
    "lmin = csv['o_ifo_mining_zhylyoi']\n",
    "\n",
    "Gcom = com/com.shift(1)*100\n",
    "\n",
    "i=18\n",
    "c=100\n",
    "newdf = pd.DataFrame(columns=['c1'], index=range(19))\n",
    "while i>0:\n",
    "    c = (c/Gcom[i]) * 100\n",
    "    i=i-1\n",
    "    newdf.loc[i].c1 = c\n",
    "GcomS=newdf['c1']\n",
    "GcomS[18]=100\n",
    "\n",
    "GcomS"
   ]
  },
  {
   "cell_type": "code",
   "execution_count": null,
   "metadata": {},
   "outputs": [],
   "source": []
  }
 ],
 "metadata": {
  "kernelspec": {
   "display_name": "Python 3",
   "language": "python",
   "name": "python3"
  },
  "language_info": {
   "codemirror_mode": {
    "name": "ipython",
    "version": 3
   },
   "file_extension": ".py",
   "mimetype": "text/x-python",
   "name": "python",
   "nbconvert_exporter": "python",
   "pygments_lexer": "ipython3",
   "version": "3.7.6"
  }
 },
 "nbformat": 4,
 "nbformat_minor": 4
}
