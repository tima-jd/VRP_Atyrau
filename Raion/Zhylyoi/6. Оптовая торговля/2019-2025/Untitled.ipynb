{
 "cells": [
  {
   "cell_type": "code",
   "execution_count": 4,
   "metadata": {},
   "outputs": [
    {
     "data": {
      "text/plain": [
       "0            NaN\n",
       "1            NaN\n",
       "2            NaN\n",
       "3            NaN\n",
       "4            NaN\n",
       "5            NaN\n",
       "6            NaN\n",
       "7     114.804870\n",
       "8     129.514629\n",
       "9      87.848619\n",
       "10    127.038476\n",
       "11    137.330530\n",
       "12    105.256084\n",
       "13    103.143728\n",
       "14    112.595328\n",
       "15     79.199741\n",
       "16    128.494837\n",
       "17    118.301986\n",
       "18    133.058116\n",
       "19           NaN\n",
       "20           NaN\n",
       "dtype: float64"
      ]
     },
     "execution_count": 4,
     "metadata": {},
     "output_type": "execute_result"
    }
   ],
   "source": [
    "from scipy.stats.mstats import gmean\n",
    "\n",
    "import pandas as pd\n",
    "csv = pd.read_csv('vrp_ekz_prog.csv')\n",
    "a = pd.read_csv('Dind(2019-2025).csv')\n",
    "\n",
    "inf = csv['o_inflation']\n",
    "Dind = a['Dind']\n",
    "\n",
    "Dwhl = inf * 0.8682811022075624 +(Dind-100) * 0.8625205490436728 + 100\n",
    "Dwhl\n"
   ]
  },
  {
   "cell_type": "code",
   "execution_count": null,
   "metadata": {},
   "outputs": [],
   "source": []
  }
 ],
 "metadata": {
  "kernelspec": {
   "display_name": "Python 3",
   "language": "python",
   "name": "python3"
  },
  "language_info": {
   "codemirror_mode": {
    "name": "ipython",
    "version": 3
   },
   "file_extension": ".py",
   "mimetype": "text/x-python",
   "name": "python",
   "nbconvert_exporter": "python",
   "pygments_lexer": "ipython3",
   "version": "3.7.6"
  }
 },
 "nbformat": 4,
 "nbformat_minor": 4
}
