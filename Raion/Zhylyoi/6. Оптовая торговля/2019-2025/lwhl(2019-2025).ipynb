{
 "cells": [
  {
   "cell_type": "code",
   "execution_count": 1,
   "metadata": {},
   "outputs": [
    {
     "data": {
      "text/plain": [
       "0     105.673\n",
       "1     110.237\n",
       "2     114.457\n",
       "3     118.493\n",
       "4     141.253\n",
       "5     153.101\n",
       "6     157.566\n",
       "7     109.416\n",
       "8     113.285\n",
       "9     117.337\n",
       "10     123.84\n",
       "11    169.494\n",
       "12    183.893\n",
       "13    191.612\n",
       "14    102.824\n",
       "15    101.809\n",
       "16    104.194\n",
       "17    114.127\n",
       "18    123.496\n",
       "19    126.318\n",
       "20    100.363\n",
       "Name: c1, dtype: object"
      ]
     },
     "execution_count": 1,
     "metadata": {},
     "output_type": "execute_result"
    }
   ],
   "source": [
    "import pandas as pd\n",
    "a = pd.read_csv('lamm(2019-2025).csv')\n",
    "lamm = a['lamm']\n",
    "\n",
    "c=100\n",
    "i=0\n",
    "newdf = pd.DataFrame(columns=['c1'], index=range(21))\n",
    "while i<=20:\n",
    "    c = c * ((lamm[i]-100)*1.343430083870489 + 100)/100\n",
    "    newdf.loc[i].c1 = c\n",
    "    i = i+1\n",
    "lwhlS = newdf['c1']\n",
    "lwhlS"
   ]
  },
  {
   "cell_type": "code",
   "execution_count": 2,
   "metadata": {},
   "outputs": [
    {
     "data": {
      "text/plain": [
       "0     105.673\n",
       "1     104.319\n",
       "2     103.829\n",
       "3     103.526\n",
       "4     119.208\n",
       "5     108.388\n",
       "6     102.917\n",
       "7     69.4414\n",
       "8     103.536\n",
       "9     103.577\n",
       "10    105.542\n",
       "11    136.866\n",
       "12    108.495\n",
       "13    104.197\n",
       "14    53.6626\n",
       "15    99.0135\n",
       "16    102.342\n",
       "17    109.533\n",
       "18     108.21\n",
       "19    102.285\n",
       "20    79.4526\n",
       "Name: c1, dtype: object"
      ]
     },
     "execution_count": 2,
     "metadata": {},
     "output_type": "execute_result"
    }
   ],
   "source": [
    "l = lwhlS.shift(1)\n",
    "l[0]=100\n",
    "\n",
    "lwhl = (lwhlS/l) * 100\n",
    "lwhl"
   ]
  },
  {
   "cell_type": "code",
   "execution_count": 4,
   "metadata": {},
   "outputs": [],
   "source": [
    "lwhl.to_csv(r'lwhl_Zhylyoi(2019-2025).csv')"
   ]
  },
  {
   "cell_type": "code",
   "execution_count": null,
   "metadata": {},
   "outputs": [],
   "source": []
  }
 ],
 "metadata": {
  "kernelspec": {
   "display_name": "Python 3",
   "language": "python",
   "name": "python3"
  },
  "language_info": {
   "codemirror_mode": {
    "name": "ipython",
    "version": 3
   },
   "file_extension": ".py",
   "mimetype": "text/x-python",
   "name": "python",
   "nbconvert_exporter": "python",
   "pygments_lexer": "ipython3",
   "version": "3.7.6"
  }
 },
 "nbformat": 4,
 "nbformat_minor": 4
}
