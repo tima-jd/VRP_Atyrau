{
 "cells": [
  {
   "cell_type": "code",
   "execution_count": 13,
   "metadata": {},
   "outputs": [
    {
     "data": {
      "text/plain": [
       "0     33.4217\n",
       "1     41.3579\n",
       "2     43.2346\n",
       "3     42.1907\n",
       "4     45.6952\n",
       "5     45.7148\n",
       "6     45.2254\n",
       "7     47.6928\n",
       "8     58.9932\n",
       "9     75.2008\n",
       "10     86.251\n",
       "11    86.1134\n",
       "12     81.962\n",
       "13    91.8492\n",
       "14    91.2117\n",
       "15    92.3628\n",
       "16    94.8182\n",
       "17    99.7814\n",
       "18        100\n",
       "Name: c1, dtype: object"
      ]
     },
     "execution_count": 13,
     "metadata": {},
     "output_type": "execute_result"
    }
   ],
   "source": [
    "import pandas as pd\n",
    "l = pd.read_csv('lamm(2001-2018).csv')\n",
    "lamm = l['0']\n",
    "\n",
    "c=100\n",
    "\n",
    "i=18\n",
    "newdf = pd.DataFrame(columns=['c1'], index=range(19))\n",
    "while i>0:\n",
    "    \n",
    "    c = c/lamm[i]*100 \n",
    "    i = i-1\n",
    "    newdf.loc[i].c1 = c\n",
    "    \n",
    "lammS = newdf['c1']\n",
    "lammS[18]=100\n",
    "lammS"
   ]
  },
  {
   "cell_type": "code",
   "execution_count": null,
   "metadata": {},
   "outputs": [],
   "source": []
  }
 ],
 "metadata": {
  "kernelspec": {
   "display_name": "Python 3",
   "language": "python",
   "name": "python3"
  },
  "language_info": {
   "codemirror_mode": {
    "name": "ipython",
    "version": 3
   },
   "file_extension": ".py",
   "mimetype": "text/x-python",
   "name": "python",
   "nbconvert_exporter": "python",
   "pygments_lexer": "ipython3",
   "version": "3.7.6"
  }
 },
 "nbformat": 4,
 "nbformat_minor": 4
}
