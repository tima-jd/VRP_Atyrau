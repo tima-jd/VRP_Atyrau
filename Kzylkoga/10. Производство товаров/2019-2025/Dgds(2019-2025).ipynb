{
 "cells": [
  {
   "cell_type": "code",
   "execution_count": 2,
   "metadata": {},
   "outputs": [],
   "source": [
    "import pandas as pd\n",
    "\n",
    "csv = pd.read_csv('lgds(2019-2025).csv')\n",
    "csv_n = pd.read_csv('Ngds(2019-2025).csv')\n",
    "\n",
    "lgds =   csv['0']\n",
    "Ngds = csv_n['0']\n",
    "\n",
    "Ngds_p = Ngds.shift(1)\n",
    "Ngds_p[0] =  66981.3\n",
    "Ngds_p[7] =  66981.3\n",
    "Ngds_p[14] = 66981.3\n",
    "\n",
    "Dgds = Ngds/Ngds_p/lgds * 10000\n",
    "\n",
    "Dgds.to_csv(r'Dgds(2019-2025).csv',index = False)\n",
    "Dgds.to_csv(r'Dgds_Kzylkoga(2019-2025).csv',index = False)"
   ]
  },
  {
   "cell_type": "code",
   "execution_count": null,
   "metadata": {},
   "outputs": [],
   "source": []
  },
  {
   "cell_type": "code",
   "execution_count": null,
   "metadata": {},
   "outputs": [],
   "source": []
  },
  {
   "cell_type": "code",
   "execution_count": null,
   "metadata": {},
   "outputs": [],
   "source": []
  }
 ],
 "metadata": {
  "kernelspec": {
   "display_name": "Python 3",
   "language": "python",
   "name": "python3"
  },
  "language_info": {
   "codemirror_mode": {
    "name": "ipython",
    "version": 3
   },
   "file_extension": ".py",
   "mimetype": "text/x-python",
   "name": "python",
   "nbconvert_exporter": "python",
   "pygments_lexer": "ipython3",
   "version": "3.7.6"
  }
 },
 "nbformat": 4,
 "nbformat_minor": 4
}
