{
 "cells": [
  {
   "cell_type": "code",
   "execution_count": 1,
   "metadata": {},
   "outputs": [
    {
     "data": {
      "text/plain": [
       "0            NaN\n",
       "1     106.685575\n",
       "2      93.833199\n",
       "3     107.269948\n",
       "4     109.298931\n",
       "5     128.102970\n",
       "6     118.412654\n",
       "7      99.687166\n",
       "8      95.079479\n",
       "9      93.755898\n",
       "10     67.723572\n",
       "11     41.228523\n",
       "12    110.174214\n",
       "13     34.181583\n",
       "14     95.503929\n",
       "15     89.411393\n",
       "16     91.251953\n",
       "17    102.886895\n",
       "18    114.056459\n",
       "dtype: float64"
      ]
     },
     "execution_count": 1,
     "metadata": {},
     "output_type": "execute_result"
    }
   ],
   "source": [
    "import pandas as pd\n",
    "csv = pd.read_csv('vrp_ekz_fact.csv')\n",
    "lind_csv = pd.read_csv('Dind, lind,Nind (2001-2018).csv')\n",
    "\n",
    "Nagr = csv['o_prod_agro_kurmangazy']\n",
    "Ncon = csv['o_prod_building_kurmangazy']\n",
    "\n",
    "Nwtr = csv['o_prod_water_kurmangazy']\n",
    "Nelc = csv['o_prod_energo_kurmangazy']\n",
    "Nman = csv['o_prod_man_kurmangazy']\n",
    "Nmin = csv['o_prod_mining_kurmangazy']\n",
    "\n",
    "lagr = csv['o_ifo_agro_kurmangazy']\n",
    "lcon = csv['o_ifo_building_kurmangazy']\n",
    "\n",
    "\n",
    "lind = lind_csv['lind']\n",
    "\n",
    "Nind = Nmin+Nman+Nelc+Nwtr\n",
    "\n",
    "Ngds = Nagr+Nind+Ncon\n",
    "\n",
    "lgds = (lagr*Nagr.shift(1) + lind*Nind.shift(1) + lcon*Ncon.shift(1))/(Nagr.shift(1)+Nind.shift(1)+Ncon.shift(1))\n",
    "\n",
    "Dgds = Ngds/Ngds.shift(1)/lgds * 10000\n",
    "\n",
    "Dgds"
   ]
  },
  {
   "cell_type": "code",
   "execution_count": null,
   "metadata": {},
   "outputs": [],
   "source": []
  }
 ],
 "metadata": {
  "kernelspec": {
   "display_name": "Python 3",
   "language": "python",
   "name": "python3"
  },
  "language_info": {
   "codemirror_mode": {
    "name": "ipython",
    "version": 3
   },
   "file_extension": ".py",
   "mimetype": "text/x-python",
   "name": "python",
   "nbconvert_exporter": "python",
   "pygments_lexer": "ipython3",
   "version": "3.7.6"
  }
 },
 "nbformat": 4,
 "nbformat_minor": 4
}
