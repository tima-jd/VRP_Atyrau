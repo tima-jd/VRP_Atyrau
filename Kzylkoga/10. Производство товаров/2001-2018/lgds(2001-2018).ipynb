{
 "cells": [
  {
   "cell_type": "code",
   "execution_count": 1,
   "metadata": {},
   "outputs": [
    {
     "data": {
      "text/plain": [
       "0            NaN\n",
       "1     142.070692\n",
       "2     112.525972\n",
       "3     129.655338\n",
       "4     157.952296\n",
       "5     101.435965\n",
       "6     105.002891\n",
       "7     100.489237\n",
       "8     101.078088\n",
       "9     120.328932\n",
       "10     98.742495\n",
       "11    105.239446\n",
       "12    109.536062\n",
       "13    101.542993\n",
       "14    104.291348\n",
       "15     96.401839\n",
       "16    104.746971\n",
       "17     98.399912\n",
       "18    100.012402\n",
       "dtype: float64"
      ]
     },
     "execution_count": 1,
     "metadata": {},
     "output_type": "execute_result"
    }
   ],
   "source": [
    "import pandas as pd\n",
    "csv = pd.read_csv('vrp_ekz_fact.csv')\n",
    "lind_csv = pd.read_csv('Dind, lind,Nind (2001-2018).csv')\n",
    "\n",
    "Nagr = csv['o_prod_agro_kzylkoga']\n",
    "Ncon = csv['o_prod_building_kzylkoga']\n",
    "\n",
    "Nwtr = csv['o_prod_water_kzylkoga']\n",
    "Nelc = csv['o_prod_energo_kzylkoga']\n",
    "Nman = csv['o_prod_man_kzylkoga']\n",
    "Nmin = csv['o_prod_mining_kzylkoga']\n",
    "\n",
    "lagr = csv['o_ifo_agro_kzylkoga']\n",
    "lcon = csv['o_ifo_building_kzylkoga']\n",
    "\n",
    "\n",
    "lind = lind_csv['lind']\n",
    "\n",
    "Nind = Nmin+Nman+Nelc+Nwtr\n",
    "\n",
    "Ngds = Nagr+Nind+Ncon\n",
    "\n",
    "lgds = (lagr*Nagr.shift(1) + lind*Nind.shift(1) + lcon*Ncon.shift(1))/(Nagr.shift(1)+Nind.shift(1)+Ncon.shift(1))\n",
    "lgds"
   ]
  },
  {
   "cell_type": "code",
   "execution_count": null,
   "metadata": {},
   "outputs": [],
   "source": []
  }
 ],
 "metadata": {
  "kernelspec": {
   "display_name": "Python 3",
   "language": "python",
   "name": "python3"
  },
  "language_info": {
   "codemirror_mode": {
    "name": "ipython",
    "version": 3
   },
   "file_extension": ".py",
   "mimetype": "text/x-python",
   "name": "python",
   "nbconvert_exporter": "python",
   "pygments_lexer": "ipython3",
   "version": "3.7.6"
  }
 },
 "nbformat": 4,
 "nbformat_minor": 4
}
