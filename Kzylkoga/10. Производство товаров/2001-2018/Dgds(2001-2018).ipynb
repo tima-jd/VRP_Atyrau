{
 "cells": [
  {
   "cell_type": "code",
   "execution_count": 1,
   "metadata": {},
   "outputs": [
    {
     "data": {
      "text/plain": [
       "0            NaN\n",
       "1     105.570573\n",
       "2     121.265630\n",
       "3     130.838765\n",
       "4     100.297094\n",
       "5     132.000949\n",
       "6     123.202706\n",
       "7     116.300475\n",
       "8     127.526954\n",
       "9      75.713503\n",
       "10    126.394758\n",
       "11    141.409178\n",
       "12    102.553326\n",
       "13    102.224516\n",
       "14    101.448205\n",
       "15     66.447137\n",
       "16    131.895757\n",
       "17    113.352740\n",
       "18     62.398382\n",
       "dtype: float64"
      ]
     },
     "execution_count": 1,
     "metadata": {},
     "output_type": "execute_result"
    }
   ],
   "source": [
    "import pandas as pd\n",
    "csv = pd.read_csv('vrp_ekz_fact.csv')\n",
    "lind_csv = pd.read_csv('Dind, lind,Nind (2001-2018).csv')\n",
    "\n",
    "Nagr = csv['o_prod_agro_kzylkoga']\n",
    "Ncon = csv['o_prod_building_kzylkoga']\n",
    "\n",
    "Nwtr = csv['o_prod_water_kzylkoga']\n",
    "Nelc = csv['o_prod_energo_kzylkoga']\n",
    "Nman = csv['o_prod_man_kzylkoga']\n",
    "Nmin = csv['o_prod_mining_kzylkoga']\n",
    "\n",
    "lagr = csv['o_ifo_agro_kzylkoga']\n",
    "lcon = csv['o_ifo_building_kzylkoga']\n",
    "\n",
    "\n",
    "lind = lind_csv['lind']\n",
    "\n",
    "Nind = Nmin+Nman+Nelc+Nwtr\n",
    "\n",
    "Ngds = Nagr+Nind+Ncon\n",
    "\n",
    "lgds = (lagr*Nagr.shift(1) + lind*Nind.shift(1) + lcon*Ncon.shift(1))/(Nagr.shift(1)+Nind.shift(1)+Ncon.shift(1))\n",
    "\n",
    "Dgds = Ngds/Ngds.shift(1)/lgds * 10000\n",
    "\n",
    "Dgds"
   ]
  },
  {
   "cell_type": "code",
   "execution_count": null,
   "metadata": {},
   "outputs": [],
   "source": []
  }
 ],
 "metadata": {
  "kernelspec": {
   "display_name": "Python 3",
   "language": "python",
   "name": "python3"
  },
  "language_info": {
   "codemirror_mode": {
    "name": "ipython",
    "version": 3
   },
   "file_extension": ".py",
   "mimetype": "text/x-python",
   "name": "python",
   "nbconvert_exporter": "python",
   "pygments_lexer": "ipython3",
   "version": "3.7.6"
  }
 },
 "nbformat": 4,
 "nbformat_minor": 4
}
