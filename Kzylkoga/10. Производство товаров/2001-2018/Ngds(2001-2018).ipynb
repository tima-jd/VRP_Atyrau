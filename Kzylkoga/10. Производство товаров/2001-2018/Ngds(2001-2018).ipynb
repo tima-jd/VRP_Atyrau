{
 "cells": [
  {
   "cell_type": "code",
   "execution_count": 2,
   "metadata": {},
   "outputs": [
    {
     "data": {
      "text/plain": [
       "0       3629.1\n",
       "1       5443.1\n",
       "2       7427.4\n",
       "3      12599.8\n",
       "4      19960.8\n",
       "5      26726.8\n",
       "6      34575.5\n",
       "7      40408.2\n",
       "8      52086.9\n",
       "9      47453.9\n",
       "10     59225.0\n",
       "11     88137.6\n",
       "12     99007.5\n",
       "13    102771.6\n",
       "14    108734.1\n",
       "15     69651.0\n",
       "16     96227.6\n",
       "17    107331.3\n",
       "18     66981.3\n",
       "dtype: float64"
      ]
     },
     "execution_count": 2,
     "metadata": {},
     "output_type": "execute_result"
    }
   ],
   "source": [
    "import pandas as pd\n",
    "csv = pd.read_csv('vrp_ekz_fact.csv')\n",
    "lind_csv = pd.read_csv('Dind, lind,Nind (2001-2018).csv')\n",
    "\n",
    "Nagr = csv['o_prod_agro_kzylkoga']\n",
    "Ncon = csv['o_prod_building_kzylkoga']\n",
    "\n",
    "Nwtr = csv['o_prod_water_kzylkoga']\n",
    "Nelc = csv['o_prod_energo_kzylkoga']\n",
    "Nman = csv['o_prod_man_kzylkoga']\n",
    "Nmin = csv['o_prod_mining_kzylkoga']\n",
    "\n",
    "lagr = csv['o_ifo_agro_kzylkoga']\n",
    "lcon = csv['o_ifo_building_kzylkoga']\n",
    "\n",
    "\n",
    "lind = lind_csv['lind']\n",
    "\n",
    "Nind = Nmin+Nman+Nelc+Nwtr\n",
    "\n",
    "Ngds = Nagr+Nind+Ncon\n",
    "Ngds"
   ]
  },
  {
   "cell_type": "code",
   "execution_count": null,
   "metadata": {},
   "outputs": [],
   "source": []
  }
 ],
 "metadata": {
  "kernelspec": {
   "display_name": "Python 3",
   "language": "python",
   "name": "python3"
  },
  "language_info": {
   "codemirror_mode": {
    "name": "ipython",
    "version": 3
   },
   "file_extension": ".py",
   "mimetype": "text/x-python",
   "name": "python",
   "nbconvert_exporter": "python",
   "pygments_lexer": "ipython3",
   "version": "3.7.6"
  }
 },
 "nbformat": 4,
 "nbformat_minor": 4
}
