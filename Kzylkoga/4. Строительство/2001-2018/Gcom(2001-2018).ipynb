{
 "cells": [
  {
   "cell_type": "code",
   "execution_count": 1,
   "metadata": {},
   "outputs": [
    {
     "data": {
      "text/plain": [
       "0            NaN\n",
       "1      50.000000\n",
       "2     300.000000\n",
       "3     200.000000\n",
       "4     116.666667\n",
       "5     114.285714\n",
       "6     112.500000\n",
       "7      88.888889\n",
       "8     100.000000\n",
       "9     100.000000\n",
       "10    100.000000\n",
       "11    112.500000\n",
       "12    100.000000\n",
       "13    111.111111\n",
       "14    110.000000\n",
       "15    109.090909\n",
       "16    100.000000\n",
       "17    100.000000\n",
       "18     96.833333\n",
       "Name: o_housing_kzylkoga, dtype: float64"
      ]
     },
     "execution_count": 1,
     "metadata": {},
     "output_type": "execute_result"
    }
   ],
   "source": [
    "import pandas as pd\n",
    "csv = pd.read_csv('vrp_ekz_fact.csv')\n",
    "com = csv['o_housing_kzylkoga']\n",
    "lmin = csv['o_ifo_mining_kzylkoga']\n",
    "\n",
    "Gcom = com/com.shift(1)*100\n",
    "\n",
    "Gcom"
   ]
  },
  {
   "cell_type": "code",
   "execution_count": null,
   "metadata": {},
   "outputs": [],
   "source": []
  }
 ],
 "metadata": {
  "kernelspec": {
   "display_name": "Python 3",
   "language": "python",
   "name": "python3"
  },
  "language_info": {
   "codemirror_mode": {
    "name": "ipython",
    "version": 3
   },
   "file_extension": ".py",
   "mimetype": "text/x-python",
   "name": "python",
   "nbconvert_exporter": "python",
   "pygments_lexer": "ipython3",
   "version": "3.7.6"
  }
 },
 "nbformat": 4,
 "nbformat_minor": 4
}
