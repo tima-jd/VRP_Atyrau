{
 "cells": [
  {
   "cell_type": "code",
   "execution_count": 1,
   "metadata": {},
   "outputs": [
    {
     "data": {
      "text/plain": [
       "0            NaN\n",
       "1            inf\n",
       "2            NaN\n",
       "3            NaN\n",
       "4            inf\n",
       "5     104.415274\n",
       "6      93.843844\n",
       "7     102.827763\n",
       "8     108.153861\n",
       "9      10.374769\n",
       "10    103.602726\n",
       "11    103.577893\n",
       "12    102.768109\n",
       "13    104.613391\n",
       "14    106.826679\n",
       "15    103.030428\n",
       "16    104.790082\n",
       "17    105.983424\n",
       "18    104.822233\n",
       "dtype: float64"
      ]
     },
     "execution_count": 1,
     "metadata": {},
     "output_type": "execute_result"
    }
   ],
   "source": [
    "import pandas as pd\n",
    "csv = pd.read_csv('vrp_ekz_fact.csv')\n",
    "lcon = csv['o_ifo_building_kzylkoga']\n",
    "Ncon = csv['o_prod_building_kzylkoga']\n",
    "\n",
    "Dcon = Ncon/Ncon.shift(1)/lcon*10000\n",
    "\n",
    "Dcon"
   ]
  },
  {
   "cell_type": "code",
   "execution_count": null,
   "metadata": {},
   "outputs": [],
   "source": []
  }
 ],
 "metadata": {
  "kernelspec": {
   "display_name": "Python 3",
   "language": "python",
   "name": "python3"
  },
  "language_info": {
   "codemirror_mode": {
    "name": "ipython",
    "version": 3
   },
   "file_extension": ".py",
   "mimetype": "text/x-python",
   "name": "python",
   "nbconvert_exporter": "python",
   "pygments_lexer": "ipython3",
   "version": "3.7.6"
  }
 },
 "nbformat": 4,
 "nbformat_minor": 4
}
