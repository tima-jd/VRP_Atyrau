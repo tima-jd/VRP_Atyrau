{
 "cells": [
  {
   "cell_type": "code",
   "execution_count": 8,
   "metadata": {},
   "outputs": [
    {
     "data": {
      "text/plain": [
       "0.9087990702100186"
      ]
     },
     "execution_count": 8,
     "metadata": {},
     "output_type": "execute_result"
    }
   ],
   "source": [
    "from scipy.stats.mstats import gmean\n",
    "import pandas as pd\n",
    "csv = pd.read_csv('vrp_ekz_fact.csv')\n",
    "lcon = csv['o_ifo_building_kurmangazy']\n",
    "Ncon = csv['o_prod_building_kurmangazy']\n",
    "\n",
    "lmin = csv['o_ifo_mining_kurmangazy']\n",
    "Nmin=csv['o_prod_mining_kurmangazy']\n",
    "\n",
    "Dmin = (Nmin/Nmin.shift(1)/lmin)*10000\n",
    "Dcon = Ncon/Ncon.shift(1)/lcon*10000\n",
    "Dcon_isatai = Dcon.drop([0,8,9,10,11,12,13])\n",
    "\n",
    "Emincon = (gmean(Dcon_isatai))/(gmean(Dmin[5:]))\n",
    "Emincon\n"
   ]
  },
  {
   "cell_type": "code",
   "execution_count": null,
   "metadata": {},
   "outputs": [],
   "source": []
  }
 ],
 "metadata": {
  "kernelspec": {
   "display_name": "Python 3",
   "language": "python",
   "name": "python3"
  },
  "language_info": {
   "codemirror_mode": {
    "name": "ipython",
    "version": 3
   },
   "file_extension": ".py",
   "mimetype": "text/x-python",
   "name": "python",
   "nbconvert_exporter": "python",
   "pygments_lexer": "ipython3",
   "version": "3.7.6"
  }
 },
 "nbformat": 4,
 "nbformat_minor": 4
}
