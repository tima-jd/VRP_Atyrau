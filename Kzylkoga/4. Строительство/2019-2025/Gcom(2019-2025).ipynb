{
 "cells": [
  {
   "cell_type": "code",
   "execution_count": 1,
   "metadata": {},
   "outputs": [
    {
     "data": {
      "text/plain": [
       "0     103.309481\n",
       "1      99.913420\n",
       "2      99.913345\n",
       "3     100.000000\n",
       "4      99.913270\n",
       "5     100.000000\n",
       "6      99.913194\n",
       "7     100.347524\n",
       "8     101.904762\n",
       "9     101.954121\n",
       "10    101.833333\n",
       "11    101.800327\n",
       "12    101.688103\n",
       "13    101.660079\n",
       "14     88.802488\n",
       "15     98.949212\n",
       "16     98.938053\n",
       "17     98.926655\n",
       "18     99.005425\n",
       "19     98.904110\n",
       "20    106.648199\n",
       "Name: o_housing_kzylkoga, dtype: float64"
      ]
     },
     "execution_count": 1,
     "metadata": {},
     "output_type": "execute_result"
    }
   ],
   "source": [
    "import pandas as pd\n",
    "csv = pd.read_csv('vrp_ekz_prog.csv')\n",
    "com = csv['o_housing_kzylkoga']\n",
    "a=com.shift(1)\n",
    "a[0]=11.18\n",
    "Gcom = com/a*100\n",
    "Gcom\n"
   ]
  },
  {
   "cell_type": "code",
   "execution_count": null,
   "metadata": {},
   "outputs": [],
   "source": []
  }
 ],
 "metadata": {
  "kernelspec": {
   "display_name": "Python 3",
   "language": "python",
   "name": "python3"
  },
  "language_info": {
   "codemirror_mode": {
    "name": "ipython",
    "version": 3
   },
   "file_extension": ".py",
   "mimetype": "text/x-python",
   "name": "python",
   "nbconvert_exporter": "python",
   "pygments_lexer": "ipython3",
   "version": "3.7.6"
  }
 },
 "nbformat": 4,
 "nbformat_minor": 4
}
