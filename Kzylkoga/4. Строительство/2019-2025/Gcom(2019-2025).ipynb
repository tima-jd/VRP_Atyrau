{
 "cells": [
  {
   "cell_type": "code",
   "execution_count": 2,
   "metadata": {},
   "outputs": [
    {
     "data": {
      "text/plain": [
       "0     11.55\n",
       "1     11.54\n",
       "2     11.53\n",
       "3     11.53\n",
       "4     11.52\n",
       "5     11.52\n",
       "6     11.51\n",
       "7     11.55\n",
       "8     11.77\n",
       "9     12.00\n",
       "10    12.22\n",
       "11    12.44\n",
       "12    12.65\n",
       "13    12.86\n",
       "14    11.42\n",
       "15    11.30\n",
       "16    11.18\n",
       "17    11.06\n",
       "18    10.95\n",
       "19    10.83\n",
       "20    11.55\n",
       "Name: o_housing_kzylkoga, dtype: float64"
      ]
     },
     "execution_count": 2,
     "metadata": {},
     "output_type": "execute_result"
    }
   ],
   "source": [
    "import pandas as pd\n",
    "csv = pd.read_csv('vrp_ekz_prog.csv')\n",
    "s = pd.read_csv('lmin(2019-2025).csv')\n",
    "\n",
    "com = csv['o_housing_kzylkoga']\n",
    "\n",
    "a=com.shift(1)\n",
    "a[0]=11.62\n",
    "a[7]=11.62\n",
    "a[14]=11.62\n",
    "Gcom = com/a*100\n",
    "\n",
    "Gcom_b = Gcom.loc[csv.o_script.str.match(r'базовый')].reset_index(drop = True)\n",
    "Gcom_o = Gcom.loc[csv.o_script.str.match(r'оптимистичный')].reset_index(drop = True)\n",
    "Gcom_p = Gcom.loc[csv.o_script.str.match(r'пессимистичный')].reset_index(drop = True)"
   ]
  },
  {
   "cell_type": "code",
   "execution_count": null,
   "metadata": {},
   "outputs": [],
   "source": []
  }
 ],
 "metadata": {
  "kernelspec": {
   "display_name": "Python 3",
   "language": "python",
   "name": "python3"
  },
  "language_info": {
   "codemirror_mode": {
    "name": "ipython",
    "version": 3
   },
   "file_extension": ".py",
   "mimetype": "text/x-python",
   "name": "python",
   "nbconvert_exporter": "python",
   "pygments_lexer": "ipython3",
   "version": "3.7.6"
  }
 },
 "nbformat": 4,
 "nbformat_minor": 4
}
