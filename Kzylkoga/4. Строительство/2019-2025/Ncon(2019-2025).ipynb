{
 "cells": [
  {
   "cell_type": "code",
   "execution_count": 3,
   "metadata": {},
   "outputs": [],
   "source": [
    "import pandas as pd\n",
    "csv = pd.read_csv('vrp_ekz_prog.csv')\n",
    "csv_f = pd.read_csv('vrp_ekz_fact.csv')\n",
    "\n",
    "s = pd.read_csv('lcon(2019-2025).csv')\n",
    "d = pd.read_csv('Dcon(2019-2025).csv')\n",
    "\n",
    "lcon = s['c1']\n",
    "Dcon = d['0']\n",
    "\n",
    "Ncon_f = csv_f['o_prod_building_kzylkoga']\n",
    "\n",
    "c=Ncon_f[18]\n",
    "\n",
    "i=0\n",
    "newdf = pd.DataFrame(columns=['c1'], index=range(7))\n",
    "\n",
    "while i<=6:\n",
    "    c = c*lcon[i]*Dcon[i]/10000\n",
    "    newdf.loc[i].c1 = c    \n",
    "    i=i+1\n",
    "\n",
    "Ncon=newdf['c1']\n",
    "\n",
    "lcon.to_csv(r'lcon_Kzylkoga(2019-2025).csv', index = False)"
   ]
  },
  {
   "cell_type": "code",
   "execution_count": null,
   "metadata": {},
   "outputs": [],
   "source": []
  }
 ],
 "metadata": {
  "kernelspec": {
   "display_name": "Python 3",
   "language": "python",
   "name": "python3"
  },
  "language_info": {
   "codemirror_mode": {
    "name": "ipython",
    "version": 3
   },
   "file_extension": ".py",
   "mimetype": "text/x-python",
   "name": "python",
   "nbconvert_exporter": "python",
   "pygments_lexer": "ipython3",
   "version": "3.7.6"
  }
 },
 "nbformat": 4,
 "nbformat_minor": 4
}
