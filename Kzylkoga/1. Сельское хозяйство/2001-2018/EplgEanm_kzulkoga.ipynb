{
 "cells": [
  {
   "cell_type": "code",
   "execution_count": 7,
   "metadata": {},
   "outputs": [
    {
     "name": "stderr",
     "output_type": "stream",
     "text": [
      "C:\\Users\\HP\\anaconda3\\lib\\site-packages\\ipykernel_launcher.py:14: RuntimeWarning: invalid value encountered in double_scalars\n",
      "  \n"
     ]
    },
    {
     "data": {
      "text/plain": [
       "0.16913378205671256"
      ]
     },
     "execution_count": 7,
     "metadata": {},
     "output_type": "execute_result"
    }
   ],
   "source": [
    "import pandas as pd\n",
    "import numpy as np\n",
    "xlsx = pd.read_csv('vrp_ekz_fact.csv')\n",
    "l = xlsx['o_year']\n",
    "Gplg = ((xlsx['o_potato_kzylkoga'] + xlsx['o_grain_kzylkoga'] + xlsx['o_vegetables_kzylkoga'])/(xlsx['o_potato_kzylkoga'].shift(1) + xlsx['o_grain_kzylkoga'].shift(1) + xlsx['o_vegetables_kzylkoga'].shift(1))) * 100\n",
    "d = xlsx['o_ifo_agro_kzylkoga']\n",
    " \n",
    "i=18\n",
    "c=100\n",
    "l=100\n",
    "newdf = pd.DataFrame(columns=['c1','c2'], index=range(19))\n",
    "while i>0:\n",
    "    c = (c/d[i]) * 100\n",
    "    l=l/Gplg[i]*100\n",
    "    i=i-1\n",
    "    newdf.loc[i].c1 = c\n",
    "    newdf.loc[i].c2 = l\n",
    "\n",
    "LagrS=newdf['c1']\n",
    "LagrS[18]=100\n",
    "\n",
    "GplgS=newdf['c2']\n",
    "GplgS[18]=100\n",
    "GplgS[:11] = 0\n",
    "Eplg_kzylkoga = ((GplgS - GplgS.mean()) * (LagrS - LagrS.mean())).sum() / ((GplgS - GplgS.mean())**2).sum()\n",
    "Eplg_kzylkoga"
   ]
  },
  {
   "cell_type": "code",
   "execution_count": 8,
   "metadata": {},
   "outputs": [
    {
     "data": {
      "text/plain": [
       "0.40509396026373273"
      ]
     },
     "execution_count": 8,
     "metadata": {},
     "output_type": "execute_result"
    }
   ],
   "source": [
    "import pandas as pd\n",
    "import numpy as np\n",
    "xlsx = pd.read_csv('vrp_ekz_fact.csv')\n",
    "l = xlsx['o_year']\n",
    "Ganm = ((xlsx['o_cattle_kzylkoga'] * xlsx['o_weight_cattle']) + (xlsx['o_goats_kzylkoga'] * xlsx['o_weight_goats']) + (xlsx['o_horses_kzylkoga']* xlsx['o_weight_horses']) + (xlsx['o_poultry_kzylkoga'] * xlsx['o_weight_poultry']))/((xlsx['o_cattle_kzylkoga'] * xlsx['o_weight_cattle']).shift(1) + (xlsx['o_goats_kzylkoga'] * xlsx['o_weight_goats']).shift(1) + (xlsx['o_horses_kzylkoga']* xlsx['o_weight_horses']).shift(1) + (xlsx['o_poultry_kzylkoga'] * xlsx['o_weight_poultry']).shift(1)) * 100\n",
    "d = xlsx['o_ifo_agro_kzylkoga']\n",
    " \n",
    "i=18\n",
    "c=100\n",
    "l=100\n",
    "newdf = pd.DataFrame(columns=['c1','c2'], index=range(19))\n",
    "while i>0:\n",
    "    c = (c/d[i]) * 100\n",
    "    l=l/Ganm[i]*100\n",
    "    i=i-1\n",
    "    newdf.loc[i].c1 = c\n",
    "    newdf.loc[i].c2 = l\n",
    "\n",
    "LagrS=newdf['c1']\n",
    "LagrS[18]=100\n",
    "\n",
    "GanmS=newdf['c2']\n",
    "GanmS[18]=100\n",
    "\n",
    "Eanm_kzylkoga = ((GanmS - GanmS.mean()) * (LagrS - LagrS.mean())).sum() / ((GanmS - GanmS.mean())**2).sum()\n",
    "Eanm_kzylkoga"
   ]
  },
  {
   "cell_type": "code",
   "execution_count": null,
   "metadata": {},
   "outputs": [],
   "source": []
  }
 ],
 "metadata": {
  "kernelspec": {
   "display_name": "Python 3",
   "language": "python",
   "name": "python3"
  },
  "language_info": {
   "codemirror_mode": {
    "name": "ipython",
    "version": 3
   },
   "file_extension": ".py",
   "mimetype": "text/x-python",
   "name": "python",
   "nbconvert_exporter": "python",
   "pygments_lexer": "ipython3",
   "version": "3.7.6"
  }
 },
 "nbformat": 4,
 "nbformat_minor": 4
}
