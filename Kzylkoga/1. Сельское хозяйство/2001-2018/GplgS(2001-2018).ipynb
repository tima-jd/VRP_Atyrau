{
 "cells": [
  {
   "cell_type": "code",
   "execution_count": 3,
   "metadata": {},
   "outputs": [
    {
     "name": "stderr",
     "output_type": "stream",
     "text": [
      "C:\\Users\\HP\\anaconda3\\lib\\site-packages\\ipykernel_launcher.py:9: RuntimeWarning: invalid value encountered in double_scalars\n",
      "  if __name__ == '__main__':\n"
     ]
    },
    {
     "data": {
      "text/plain": [
       "0            NaN\n",
       "1      63.636364\n",
       "2     100.000000\n",
       "3     200.000000\n",
       "4      50.000000\n",
       "5      42.857143\n",
       "6     100.000000\n",
       "7     100.000000\n",
       "8     200.000000\n",
       "9      16.666667\n",
       "10      0.000000\n",
       "11           inf\n",
       "12     22.222222\n",
       "13    141.666667\n",
       "14    100.000000\n",
       "15    194.117647\n",
       "16     63.636364\n",
       "17    109.523810\n",
       "18    130.434783\n",
       "dtype: float64"
      ]
     },
     "execution_count": 3,
     "metadata": {},
     "output_type": "execute_result"
    }
   ],
   "source": [
    "import pandas as pd\n",
    "xlsx = pd.read_csv('vrp_ekz_fact.csv')\n",
    "Gplg = ((xlsx['o_potato_kzylkoga'] + xlsx['o_grain_kzylkoga'] + xlsx['o_vegetables_kzylkoga'])/(xlsx['o_potato_kzylkoga'].shift(1) + xlsx['o_grain_kzylkoga'].shift(1) + xlsx['o_vegetables_kzylkoga'].shift(1))) * 100\n",
    "\n",
    "i=18\n",
    "c=100\n",
    "newdf = pd.DataFrame(columns=['c1'], index=range(19))\n",
    "while i>0:\n",
    "    c = (c/Gplg[i]) * 100\n",
    "    i=i-1\n",
    "    newdf.loc[i].c1 = c\n",
    "GplgS=newdf['c1']\n",
    "GplgS[18]=100\n",
    "Gplg"
   ]
  },
  {
   "cell_type": "code",
   "execution_count": null,
   "metadata": {},
   "outputs": [],
   "source": []
  }
 ],
 "metadata": {
  "kernelspec": {
   "display_name": "Python 3",
   "language": "python",
   "name": "python3"
  },
  "language_info": {
   "codemirror_mode": {
    "name": "ipython",
    "version": 3
   },
   "file_extension": ".py",
   "mimetype": "text/x-python",
   "name": "python",
   "nbconvert_exporter": "python",
   "pygments_lexer": "ipython3",
   "version": "3.7.6"
  }
 },
 "nbformat": 4,
 "nbformat_minor": 4
}
