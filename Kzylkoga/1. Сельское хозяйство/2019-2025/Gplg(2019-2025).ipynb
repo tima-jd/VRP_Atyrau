{
 "cells": [
  {
   "cell_type": "code",
   "execution_count": 1,
   "metadata": {},
   "outputs": [
    {
     "data": {
      "text/plain": [
       "0      93.333333\n",
       "1      96.428571\n",
       "2      96.296296\n",
       "3      96.153846\n",
       "4      96.000000\n",
       "5     100.000000\n",
       "6      91.666667\n",
       "7     127.272727\n",
       "8      96.428571\n",
       "9      96.296296\n",
       "10     96.153846\n",
       "11     96.000000\n",
       "12    100.000000\n",
       "13     91.666667\n",
       "14    122.727273\n",
       "15     96.296296\n",
       "16     96.153846\n",
       "17     96.000000\n",
       "18    100.000000\n",
       "19     91.666667\n",
       "20    127.272727\n",
       "dtype: float64"
      ]
     },
     "execution_count": 1,
     "metadata": {},
     "output_type": "execute_result"
    }
   ],
   "source": [
    "import pandas as pd\n",
    "import numpy as np\n",
    "xlsx = pd.read_csv('vrp_ekz_prog.csv')\n",
    "l = (xlsx['o_potato_kzylkoga'].shift(1) + xlsx['o_grain_kzylkoga'].shift(1) + xlsx['o_vegetables_kzylkoga'].shift(1))\n",
    "l[0]=0.30\n",
    "Gplg = ((xlsx['o_potato_kzylkoga'] + xlsx['o_grain_kzylkoga'] + xlsx['o_vegetables_kzylkoga'])/l)*100\n",
    "Gplg"
   ]
  },
  {
   "cell_type": "code",
   "execution_count": null,
   "metadata": {},
   "outputs": [],
   "source": []
  }
 ],
 "metadata": {
  "kernelspec": {
   "display_name": "Python 3",
   "language": "python",
   "name": "python3"
  },
  "language_info": {
   "codemirror_mode": {
    "name": "ipython",
    "version": 3
   },
   "file_extension": ".py",
   "mimetype": "text/x-python",
   "name": "python",
   "nbconvert_exporter": "python",
   "pygments_lexer": "ipython3",
   "version": "3.7.6"
  }
 },
 "nbformat": 4,
 "nbformat_minor": 4
}
