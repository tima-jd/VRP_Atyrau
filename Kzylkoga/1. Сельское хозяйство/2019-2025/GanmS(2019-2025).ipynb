{
 "cells": [
  {
   "cell_type": "code",
   "execution_count": 2,
   "metadata": {},
   "outputs": [
    {
     "data": {
      "text/plain": [
       "0     102.887\n",
       "1     105.927\n",
       "2     109.122\n",
       "3      112.46\n",
       "4     115.969\n",
       "5     119.656\n",
       "6     123.538\n",
       "7     102.887\n",
       "8     105.927\n",
       "9     109.122\n",
       "10     112.46\n",
       "11    115.969\n",
       "12    119.656\n",
       "13    123.538\n",
       "14    105.927\n",
       "15    109.122\n",
       "16     112.46\n",
       "17    115.969\n",
       "18    119.656\n",
       "19    123.538\n",
       "20    102.887\n",
       "Name: c1, dtype: object"
      ]
     },
     "execution_count": 2,
     "metadata": {},
     "output_type": "execute_result"
    }
   ],
   "source": [
    "import pandas as pd\n",
    "xlsx = pd.read_csv('vrp_ekz_prog.csv')\n",
    "l = ((xlsx['o_cattle_kzylkoga'] * xlsx['o_weight_cattle']).shift(1) + (xlsx['o_goats_kzylkoga'] * xlsx['o_weight_goats']).shift(1) + (xlsx['o_horses_kzylkoga']* xlsx['o_weight_horses']).shift(1) + (xlsx['o_poultry_kzylkoga'] * xlsx['o_weight_poultry']).shift(1))\n",
    "l[0] =  17461.04\n",
    "Ganm = ((xlsx['o_cattle_kzylkoga'] * xlsx['o_weight_cattle']) + (xlsx['o_goats_kzylkoga'] * xlsx['o_weight_goats']) + (xlsx['o_horses_kzylkoga']* xlsx['o_weight_horses']) + (xlsx['o_poultry_kzylkoga'] * xlsx['o_weight_poultry']))/l\n",
    "\n",
    "newdf = pd.DataFrame(columns=['c1'], index=range(21))\n",
    "c=100\n",
    "i=0\n",
    "while i<=20:\n",
    "    c = (c*Ganm[i])\n",
    "    newdf.loc[i].c1 = c\n",
    "    i=i+1\n",
    "GanmS=newdf['c1']\n",
    "\n",
    "GanmS"
   ]
  },
  {
   "cell_type": "code",
   "execution_count": null,
   "metadata": {},
   "outputs": [],
   "source": []
  }
 ],
 "metadata": {
  "kernelspec": {
   "display_name": "Python 3",
   "language": "python",
   "name": "python3"
  },
  "language_info": {
   "codemirror_mode": {
    "name": "ipython",
    "version": 3
   },
   "file_extension": ".py",
   "mimetype": "text/x-python",
   "name": "python",
   "nbconvert_exporter": "python",
   "pygments_lexer": "ipython3",
   "version": "3.7.6"
  }
 },
 "nbformat": 4,
 "nbformat_minor": 4
}
