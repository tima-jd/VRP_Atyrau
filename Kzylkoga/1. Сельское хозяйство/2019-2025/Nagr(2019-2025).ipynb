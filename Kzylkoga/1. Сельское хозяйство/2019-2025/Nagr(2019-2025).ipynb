{
 "cells": [
  {
   "cell_type": "code",
   "execution_count": 1,
   "metadata": {},
   "outputs": [
    {
     "data": {
      "text/plain": [
       "0     102.886575\n",
       "1     102.955224\n",
       "2     103.016310\n",
       "3     103.058581\n",
       "4     103.120522\n",
       "5     103.179440\n",
       "6     103.244295\n",
       "7      83.283147\n",
       "8     102.955224\n",
       "9     103.016310\n",
       "10    103.058581\n",
       "11    103.120522\n",
       "12    103.179440\n",
       "13    103.244295\n",
       "14     85.744351\n",
       "15    103.016310\n",
       "16    103.058581\n",
       "17    103.120522\n",
       "18    103.179440\n",
       "19    103.244295\n",
       "20     83.283147\n",
       "dtype: float64"
      ]
     },
     "execution_count": 1,
     "metadata": {},
     "output_type": "execute_result"
    }
   ],
   "source": [
    "import pandas as pd\n",
    "xlsx = pd.read_csv('vrp_ekz_prog.csv')\n",
    "l = ((xlsx['o_cattle_kzylkoga'] * xlsx['o_weight_cattle']).shift(1) + (xlsx['o_goats_kzylkoga'] * xlsx['o_weight_goats']).shift(1) + (xlsx['o_horses_kzylkoga']* xlsx['o_weight_horses']).shift(1) + (xlsx['o_poultry_kzylkoga'] * xlsx['o_weight_poultry']).shift(1))\n",
    "l[0] =  17461.04\n",
    "Ganm = ((xlsx['o_cattle_kzylkoga'] * xlsx['o_weight_cattle']) + (xlsx['o_goats_kzylkoga'] * xlsx['o_weight_goats']) + (xlsx['o_horses_kzylkoga']* xlsx['o_weight_horses']) + (xlsx['o_poultry_kzylkoga'] * xlsx['o_weight_poultry']))/l * 100\n",
    "Ganm"
   ]
  },
  {
   "cell_type": "code",
   "execution_count": 2,
   "metadata": {},
   "outputs": [
    {
     "data": {
      "text/plain": [
       "0      93.333333\n",
       "1      96.428571\n",
       "2      96.296296\n",
       "3      96.153846\n",
       "4      96.000000\n",
       "5     100.000000\n",
       "6      91.666667\n",
       "7     127.272727\n",
       "8      96.428571\n",
       "9      96.296296\n",
       "10     96.153846\n",
       "11     96.000000\n",
       "12    100.000000\n",
       "13     91.666667\n",
       "14    122.727273\n",
       "15     96.296296\n",
       "16     96.153846\n",
       "17     96.000000\n",
       "18    100.000000\n",
       "19     91.666667\n",
       "20    127.272727\n",
       "dtype: float64"
      ]
     },
     "execution_count": 2,
     "metadata": {},
     "output_type": "execute_result"
    }
   ],
   "source": [
    "import pandas as pd\n",
    "import numpy as np\n",
    "xlsx = pd.read_csv('vrp_ekz_prog.csv')\n",
    "l = (xlsx['o_potato_kzylkoga'].shift(1) + xlsx['o_grain_kzylkoga'].shift(1) + xlsx['o_vegetables_kzylkoga'].shift(1))\n",
    "l[0]=0.30\n",
    "Gplg = ((xlsx['o_potato_kzylkoga'] + xlsx['o_grain_kzylkoga'] + xlsx['o_vegetables_kzylkoga'])/l)*100\n",
    "Gplg"
   ]
  },
  {
   "cell_type": "code",
   "execution_count": 3,
   "metadata": {},
   "outputs": [
    {
     "data": {
      "text/plain": [
       "0     100.042\n",
       "1     100.635\n",
       "2     101.234\n",
       "3      101.83\n",
       "4     102.428\n",
       "5     103.748\n",
       "6     103.649\n",
       "7     101.411\n",
       "8     102.012\n",
       "9      102.62\n",
       "10    103.224\n",
       "11     103.83\n",
       "12    105.168\n",
       "13    105.068\n",
       "14    103.039\n",
       "15    103.652\n",
       "16    104.262\n",
       "17    104.875\n",
       "18    106.226\n",
       "19    106.125\n",
       "20    103.833\n",
       "Name: c1, dtype: object"
      ]
     },
     "execution_count": 3,
     "metadata": {},
     "output_type": "execute_result"
    }
   ],
   "source": [
    "i=0\n",
    "c=100\n",
    "\n",
    "newdf = pd.DataFrame(columns=['c1'], index=range(21))\n",
    "while i<=20:\n",
    "    c = (c*((((Gplg[i]-100) * 0.16913378205671256) + ((Ganm[i]-100) * 0.40509396026373273)) + 100)) /100\n",
    "    newdf.loc[i].c1 = c\n",
    "    i=i+1\n",
    "lagrS=newdf['c1']\n",
    "\n",
    "lagrS"
   ]
  },
  {
   "cell_type": "code",
   "execution_count": 4,
   "metadata": {},
   "outputs": [
    {
     "data": {
      "text/plain": [
       "0     100.042\n",
       "1     100.593\n",
       "2     100.595\n",
       "3     100.588\n",
       "4     100.588\n",
       "5     101.288\n",
       "6     99.9048\n",
       "7     97.8408\n",
       "8     100.593\n",
       "9     100.595\n",
       "10    100.588\n",
       "11    100.588\n",
       "12    101.288\n",
       "13    99.9048\n",
       "14    98.0691\n",
       "15    100.595\n",
       "16    100.588\n",
       "17    100.588\n",
       "18    101.288\n",
       "19    99.9048\n",
       "20    97.8408\n",
       "Name: c1, dtype: object"
      ]
     },
     "execution_count": 4,
     "metadata": {},
     "output_type": "execute_result"
    }
   ],
   "source": [
    "w=lagrS.shift(1)\n",
    "w[0]=100\n",
    "lagrt = lagrS/w*100\n",
    "lagrt"
   ]
  },
  {
   "cell_type": "code",
   "execution_count": 5,
   "metadata": {},
   "outputs": [
    {
     "data": {
      "text/plain": [
       "0     106.227865\n",
       "1     106.227865\n",
       "2     106.227865\n",
       "3     105.189887\n",
       "4     105.189887\n",
       "5     105.189887\n",
       "6     105.189887\n",
       "7     106.227865\n",
       "8     105.833433\n",
       "9     105.833433\n",
       "10    104.795456\n",
       "11    104.795456\n",
       "12    104.795456\n",
       "13    104.795456\n",
       "14    107.826350\n",
       "15    107.826350\n",
       "16    106.788373\n",
       "17    106.788373\n",
       "18    106.788373\n",
       "19    106.788373\n",
       "20    106.227865\n",
       "Name: o_inflation, dtype: float64"
      ]
     },
     "execution_count": 5,
     "metadata": {},
     "output_type": "execute_result"
    }
   ],
   "source": [
    "from scipy.stats.mstats import gmean\n",
    "import pandas as pd\n",
    "import numpy as np\n",
    "c = pd.read_csv('vrp_ekz_prog.csv')\n",
    "\n",
    "inf = c['o_inflation']\n",
    "\n",
    "Dagr= inf *1.0379774697844961 + 100\n",
    "Dagr"
   ]
  },
  {
   "cell_type": "code",
   "execution_count": 6,
   "metadata": {},
   "outputs": [
    {
     "data": {
      "text/plain": [
       "0     12331.1\n",
       "1     13176.7\n",
       "2     14080.7\n",
       "3     14898.7\n",
       "4       15764\n",
       "5     16795.7\n",
       "6     17650.5\n",
       "7     18344.9\n",
       "8     19530.2\n",
       "9     20792.6\n",
       "10    21917.9\n",
       "11    23103.9\n",
       "12    24523.7\n",
       "13    25675.3\n",
       "14    27150.2\n",
       "15    29449.3\n",
       "16    31633.5\n",
       "17    33979.4\n",
       "18    36753.4\n",
       "19      39211\n",
       "20    40753.7\n",
       "Name: c1, dtype: object"
      ]
     },
     "execution_count": 6,
     "metadata": {},
     "output_type": "execute_result"
    }
   ],
   "source": [
    "c=11603.3\n",
    "i=0\n",
    "\n",
    "newdf = pd.DataFrame(columns=['c1'], index=range(21))\n",
    "\n",
    "while i<=20:\n",
    "    c = c*lagrt[i]*Dagr[i]/10000\n",
    "    newdf.loc[i].c1 = c    \n",
    "    i=i+1\n",
    "Nagr=newdf['c1']\n",
    "Nagr"
   ]
  },
  {
   "cell_type": "code",
   "execution_count": 7,
   "metadata": {},
   "outputs": [],
   "source": [
    "lagrt.to_csv(r'lagr_Kzylkoga(2019-2025).csv', index = False)"
   ]
  },
  {
   "cell_type": "code",
   "execution_count": null,
   "metadata": {},
   "outputs": [],
   "source": []
  },
  {
   "cell_type": "code",
   "execution_count": null,
   "metadata": {},
   "outputs": [],
   "source": []
  }
 ],
 "metadata": {
  "kernelspec": {
   "display_name": "Python 3",
   "language": "python",
   "name": "python3"
  },
  "language_info": {
   "codemirror_mode": {
    "name": "ipython",
    "version": 3
   },
   "file_extension": ".py",
   "mimetype": "text/x-python",
   "name": "python",
   "nbconvert_exporter": "python",
   "pygments_lexer": "ipython3",
   "version": "3.7.6"
  }
 },
 "nbformat": 4,
 "nbformat_minor": 4
}
