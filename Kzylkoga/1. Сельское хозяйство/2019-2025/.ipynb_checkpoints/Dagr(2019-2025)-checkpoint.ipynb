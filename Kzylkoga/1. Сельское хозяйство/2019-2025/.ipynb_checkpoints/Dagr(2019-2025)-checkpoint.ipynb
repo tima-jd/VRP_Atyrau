{
 "cells": [
  {
   "cell_type": "code",
   "execution_count": 1,
   "metadata": {},
   "outputs": [
    {
     "data": {
      "text/plain": [
       "0     106.254823\n",
       "1     106.254823\n",
       "2     106.254823\n",
       "3     105.212353\n",
       "4     105.212353\n",
       "5     105.212353\n",
       "6     105.212353\n",
       "7     106.254823\n",
       "8     105.858684\n",
       "9     105.858684\n",
       "10    104.816214\n",
       "11    104.816214\n",
       "12    104.816214\n",
       "13    104.816214\n",
       "14    107.860228\n",
       "15    107.860228\n",
       "16    106.817757\n",
       "17    106.817757\n",
       "18    106.817757\n",
       "19    106.817757\n",
       "20    106.254823\n",
       "Name: o_inflation, dtype: float64"
      ]
     },
     "execution_count": 1,
     "metadata": {},
     "output_type": "execute_result"
    }
   ],
   "source": [
    "from scipy.stats.mstats import gmean\n",
    "import pandas as pd\n",
    "import numpy as np\n",
    "c = pd.read_csv('vrp_ekz_prog.csv')\n",
    "\n",
    "inf = c['o_inflation']\n",
    "\n",
    "Dagr= inf * 1.0424705083866872 + 100\n",
    "Dagr"
   ]
  },
  {
   "cell_type": "code",
   "execution_count": null,
   "metadata": {},
   "outputs": [],
   "source": []
  }
 ],
 "metadata": {
  "kernelspec": {
   "display_name": "Python 3",
   "language": "python",
   "name": "python3"
  },
  "language_info": {
   "codemirror_mode": {
    "name": "ipython",
    "version": 3
   },
   "file_extension": ".py",
   "mimetype": "text/x-python",
   "name": "python",
   "nbconvert_exporter": "python",
   "pygments_lexer": "ipython3",
   "version": "3.7.6"
  }
 },
 "nbformat": 4,
 "nbformat_minor": 4
}
