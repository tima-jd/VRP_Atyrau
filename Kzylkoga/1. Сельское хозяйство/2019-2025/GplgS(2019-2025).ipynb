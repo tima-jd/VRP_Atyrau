{
 "cells": [
  {
   "cell_type": "code",
   "execution_count": 3,
   "metadata": {},
   "outputs": [
    {
     "data": {
      "text/plain": [
       "0     0.933333\n",
       "1     0.964286\n",
       "2     0.962963\n",
       "3     0.961538\n",
       "4     0.960000\n",
       "5     1.000000\n",
       "6     0.916667\n",
       "7     1.272727\n",
       "8     0.964286\n",
       "9     0.962963\n",
       "10    0.961538\n",
       "11    0.960000\n",
       "12    1.000000\n",
       "13    0.916667\n",
       "14    1.227273\n",
       "15    0.962963\n",
       "16    0.961538\n",
       "17    0.960000\n",
       "18    1.000000\n",
       "19    0.916667\n",
       "20    1.272727\n",
       "dtype: float64"
      ]
     },
     "execution_count": 3,
     "metadata": {},
     "output_type": "execute_result"
    }
   ],
   "source": [
    "import pandas as pd\n",
    "import numpy as np\n",
    "xlsx = pd.read_csv('vrp_ekz_prog.csv')\n",
    "l = (xlsx['o_potato_kzylkoga'].shift(1) + xlsx['o_grain_kzylkoga'].shift(1) + xlsx['o_vegetables_kzylkoga'].shift(1))\n",
    "l[0]=0.30\n",
    "Gplg = ((xlsx['o_potato_kzylkoga'] + xlsx['o_grain_kzylkoga'] + xlsx['o_vegetables_kzylkoga'])/l)\n",
    "\n",
    "newdf = pd.DataFrame(columns=['c1'], index=range(21))\n",
    "\n",
    "c=100\n",
    "i=0\n",
    "while i<=20:\n",
    "    c = (c*Gplg[i])\n",
    "    newdf.loc[i].c1 = c\n",
    "    i=i+1\n",
    "GplgS=newdf['c1']\n",
    "\n",
    "Gplg\n"
   ]
  },
  {
   "cell_type": "code",
   "execution_count": null,
   "metadata": {},
   "outputs": [],
   "source": []
  }
 ],
 "metadata": {
  "kernelspec": {
   "display_name": "Python 3",
   "language": "python",
   "name": "python3"
  },
  "language_info": {
   "codemirror_mode": {
    "name": "ipython",
    "version": 3
   },
   "file_extension": ".py",
   "mimetype": "text/x-python",
   "name": "python",
   "nbconvert_exporter": "python",
   "pygments_lexer": "ipython3",
   "version": "3.7.6"
  }
 },
 "nbformat": 4,
 "nbformat_minor": 4
}
