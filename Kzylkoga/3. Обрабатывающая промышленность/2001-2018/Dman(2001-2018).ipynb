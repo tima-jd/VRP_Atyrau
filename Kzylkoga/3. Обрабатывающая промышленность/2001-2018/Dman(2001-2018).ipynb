{
 "cells": [
  {
   "cell_type": "code",
   "execution_count": 1,
   "metadata": {},
   "outputs": [
    {
     "data": {
      "text/plain": [
       "0            NaN\n",
       "1     105.129957\n",
       "2     105.319640\n",
       "3     105.003249\n",
       "4     105.273685\n",
       "5     105.042017\n",
       "6     107.263107\n",
       "7     106.948688\n",
       "8     106.825121\n",
       "9            inf\n",
       "10           inf\n",
       "11    226.598866\n",
       "12     93.931945\n",
       "13    101.118133\n",
       "14    105.970770\n",
       "15     98.921843\n",
       "16     84.241453\n",
       "17     72.327011\n",
       "18    101.347176\n",
       "dtype: float64"
      ]
     },
     "execution_count": 1,
     "metadata": {},
     "output_type": "execute_result"
    }
   ],
   "source": [
    "import pandas as pd\n",
    "csv = pd.read_csv('vrp_ekz_fact.csv')\n",
    "\n",
    "lman= csv['o_ifo_man_kzylkoga']\n",
    "Nman = csv['o_prod_man_kzylkoga']\n",
    "\n",
    "Dman = Nman/Nman.shift(1)/lman * 10000\n",
    "\n",
    "Dman"
   ]
  },
  {
   "cell_type": "code",
   "execution_count": null,
   "metadata": {},
   "outputs": [],
   "source": []
  }
 ],
 "metadata": {
  "kernelspec": {
   "display_name": "Python 3",
   "language": "python",
   "name": "python3"
  },
  "language_info": {
   "codemirror_mode": {
    "name": "ipython",
    "version": 3
   },
   "file_extension": ".py",
   "mimetype": "text/x-python",
   "name": "python",
   "nbconvert_exporter": "python",
   "pygments_lexer": "ipython3",
   "version": "3.7.6"
  }
 },
 "nbformat": 4,
 "nbformat_minor": 4
}
