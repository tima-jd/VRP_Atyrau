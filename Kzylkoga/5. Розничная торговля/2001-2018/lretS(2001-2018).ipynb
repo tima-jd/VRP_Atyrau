{
 "cells": [
  {
   "cell_type": "code",
   "execution_count": 1,
   "metadata": {},
   "outputs": [
    {
     "data": {
      "text/plain": [
       "0     108.462\n",
       "1     71.0424\n",
       "2     129.155\n",
       "3     96.3497\n",
       "4     61.7601\n",
       "5     61.1425\n",
       "6     33.3227\n",
       "7     21.2265\n",
       "8     19.9105\n",
       "9     83.2458\n",
       "10    85.4934\n",
       "11    87.2033\n",
       "12    89.8194\n",
       "13    102.664\n",
       "14    68.4766\n",
       "15    245.283\n",
       "16    111.359\n",
       "17        100\n",
       "18        100\n",
       "Name: c1, dtype: object"
      ]
     },
     "execution_count": 1,
     "metadata": {},
     "output_type": "execute_result"
    }
   ],
   "source": [
    "import pandas as pd\n",
    "csv = pd.read_csv('vrp_ekz_fact.csv')\n",
    "l = csv['o_ifo_retail_kzylkoga']\n",
    "\n",
    "i=18\n",
    "c=100\n",
    "newdf = pd.DataFrame(columns=['c1'], index=range(19))\n",
    "while i>0:\n",
    "    c = (c/l[i]) * 100\n",
    "    i=i-1\n",
    "    newdf.loc[i].c1 = c\n",
    "lretS=newdf['c1']\n",
    "lretS[18]=100\n",
    "\n",
    "lretS"
   ]
  },
  {
   "cell_type": "code",
   "execution_count": null,
   "metadata": {},
   "outputs": [],
   "source": []
  }
 ],
 "metadata": {
  "kernelspec": {
   "display_name": "Python 3",
   "language": "python",
   "name": "python3"
  },
  "language_info": {
   "codemirror_mode": {
    "name": "ipython",
    "version": 3
   },
   "file_extension": ".py",
   "mimetype": "text/x-python",
   "name": "python",
   "nbconvert_exporter": "python",
   "pygments_lexer": "ipython3",
   "version": "3.7.6"
  }
 },
 "nbformat": 4,
 "nbformat_minor": 4
}
