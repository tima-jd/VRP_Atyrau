{
 "cells": [
  {
   "cell_type": "code",
   "execution_count": 1,
   "metadata": {},
   "outputs": [
    {
     "data": {
      "text/plain": [
       "0            NaN\n",
       "1     162.049628\n",
       "2     142.606853\n",
       "3     179.528916\n",
       "4     191.367655\n",
       "5     113.032499\n",
       "6     194.625520\n",
       "7     142.034836\n",
       "8     113.084088\n",
       "9     103.259292\n",
       "10    106.259085\n",
       "11    107.242492\n",
       "12    104.097947\n",
       "13    103.654372\n",
       "14    107.062778\n",
       "15    108.022737\n",
       "16    118.421988\n",
       "17    111.697266\n",
       "18    107.805546\n",
       "dtype: float64"
      ]
     },
     "execution_count": 1,
     "metadata": {},
     "output_type": "execute_result"
    }
   ],
   "source": [
    "import pandas as pd\n",
    "csv = pd.read_csv('vrp_ekz_fact.csv')\n",
    "lret = csv['o_ifo_retail_kzylkoga']\n",
    "Nret = csv['o_prod_retail_kzylkoga']\n",
    "Dret = Nret/Nret.shift(1)/lret * 10000\n",
    "Dret"
   ]
  },
  {
   "cell_type": "code",
   "execution_count": null,
   "metadata": {},
   "outputs": [],
   "source": []
  }
 ],
 "metadata": {
  "kernelspec": {
   "display_name": "Python 3",
   "language": "python",
   "name": "python3"
  },
  "language_info": {
   "codemirror_mode": {
    "name": "ipython",
    "version": 3
   },
   "file_extension": ".py",
   "mimetype": "text/x-python",
   "name": "python",
   "nbconvert_exporter": "python",
   "pygments_lexer": "ipython3",
   "version": "3.7.6"
  }
 },
 "nbformat": 4,
 "nbformat_minor": 4
}
