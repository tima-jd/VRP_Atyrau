{
 "cells": [
  {
   "cell_type": "code",
   "execution_count": 4,
   "metadata": {},
   "outputs": [
    {
     "data": {
      "text/plain": [
       "0     441.07\n",
       "1     512.30\n",
       "2     539.30\n",
       "3     531.92\n",
       "4     564.87\n",
       "5     566.77\n",
       "6     565.58\n",
       "7     588.79\n",
       "8     709.10\n",
       "9     658.60\n",
       "10    645.80\n",
       "11    652.90\n",
       "12    718.20\n",
       "13    725.20\n",
       "14    758.00\n",
       "15    755.80\n",
       "16    739.50\n",
       "17    767.10\n",
       "18    770.30\n",
       "Name: o_oil_kzylkoga, dtype: float64"
      ]
     },
     "execution_count": 4,
     "metadata": {},
     "output_type": "execute_result"
    }
   ],
   "source": [
    "import pandas as pd\n",
    "csv = pd.read_csv('vrp_ekz_fact.csv')\n",
    "voil = csv['o_oil_kzylkoga']\n",
    "Gvoil = voil/voil.shift(1)*100\n",
    "voil"
   ]
  },
  {
   "cell_type": "code",
   "execution_count": null,
   "metadata": {},
   "outputs": [],
   "source": []
  }
 ],
 "metadata": {
  "kernelspec": {
   "display_name": "Python 3",
   "language": "python",
   "name": "python3"
  },
  "language_info": {
   "codemirror_mode": {
    "name": "ipython",
    "version": 3
   },
   "file_extension": ".py",
   "mimetype": "text/x-python",
   "name": "python",
   "nbconvert_exporter": "python",
   "pygments_lexer": "ipython3",
   "version": "3.7.6"
  }
 },
 "nbformat": 4,
 "nbformat_minor": 4
}
