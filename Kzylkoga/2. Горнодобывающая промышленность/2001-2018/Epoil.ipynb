{
 "cells": [
  {
   "cell_type": "code",
   "execution_count": 2,
   "metadata": {},
   "outputs": [
    {
     "data": {
      "text/plain": [
       "0     14.9623\n",
       "1     26.9771\n",
       "2     36.2842\n",
       "3     49.6731\n",
       "4     83.2024\n",
       "5     85.1161\n",
       "6     90.7338\n",
       "7      90.643\n",
       "8     90.3711\n",
       "9     83.9547\n",
       "10    82.3596\n",
       "11    83.2656\n",
       "12    92.7578\n",
       "13    94.0564\n",
       "14    98.9474\n",
       "15    96.2758\n",
       "16      103.4\n",
       "17    100.402\n",
       "18        100\n",
       "Name: c1, dtype: object"
      ]
     },
     "execution_count": 2,
     "metadata": {},
     "output_type": "execute_result"
    }
   ],
   "source": [
    "import pandas as pd\n",
    "csv = pd.read_csv('vrp_ekz_fact.csv')\n",
    "lmin = csv['o_ifo_mining_kzylkoga']\n",
    "\n",
    "i=18\n",
    "c=100\n",
    "newdf = pd.DataFrame(columns=['c1'], index=range(18))\n",
    "while i> 0:\n",
    "    c = (c/lmin[i]) * 100\n",
    "    i=i-1\n",
    "    newdf.loc[i].c1 = c\n",
    "lminS=newdf['c1']\n",
    "lminS[18]=100\n",
    "lminS"
   ]
  },
  {
   "cell_type": "code",
   "execution_count": 3,
   "metadata": {},
   "outputs": [
    {
     "data": {
      "text/plain": [
       "0     39.1541\n",
       "1     34.1988\n",
       "2     35.3713\n",
       "3     39.6845\n",
       "4     53.4478\n",
       "5     77.9034\n",
       "6      93.244\n",
       "7     104.243\n",
       "8     136.348\n",
       "9     89.4612\n",
       "10    112.577\n",
       "11      156.7\n",
       "12    155.709\n",
       "13    151.368\n",
       "14    136.125\n",
       "15    75.9352\n",
       "16    64.2099\n",
       "17    77.7638\n",
       "18        100\n",
       "Name: c1, dtype: object"
      ]
     },
     "execution_count": 3,
     "metadata": {},
     "output_type": "execute_result"
    }
   ],
   "source": [
    "import pandas as pd\n",
    "csv = pd.read_csv('vrp_ekz_fact.csv')\n",
    "poil = csv['o_oil_price']\n",
    "rateKZT= csv['o_exchange_rate']\n",
    "\n",
    "Gpoil= poil/poil.shift(1)*100\n",
    "\n",
    "i=18\n",
    "c=100\n",
    "newdf = pd.DataFrame(columns=['c1'], index=range(18))\n",
    "while i>0:\n",
    "    c = (c/Gpoil[i]) * 100\n",
    "    i=i-1\n",
    "    newdf.loc[i].c1 = c\n",
    "GpoilS=newdf['c1']\n",
    "\n",
    "GpoilS[18]=100\n",
    "GpoilS"
   ]
  },
  {
   "cell_type": "code",
   "execution_count": 4,
   "metadata": {},
   "outputs": [
    {
     "data": {
      "text/plain": [
       "0.4039912336603637"
      ]
     },
     "execution_count": 4,
     "metadata": {},
     "output_type": "execute_result"
    }
   ],
   "source": [
    "Epoil= ((GpoilS-GpoilS.mean())*(lminS-lminS.mean())).sum()/((GpoilS-GpoilS.mean())**2).sum()\n",
    "Epoil"
   ]
  },
  {
   "cell_type": "code",
   "execution_count": null,
   "metadata": {},
   "outputs": [],
   "source": []
  }
 ],
 "metadata": {
  "kernelspec": {
   "display_name": "Python 3",
   "language": "python",
   "name": "python3"
  },
  "language_info": {
   "codemirror_mode": {
    "name": "ipython",
    "version": 3
   },
   "file_extension": ".py",
   "mimetype": "text/x-python",
   "name": "python",
   "nbconvert_exporter": "python",
   "pygments_lexer": "ipython3",
   "version": "3.7.6"
  }
 },
 "nbformat": 4,
 "nbformat_minor": 4
}
