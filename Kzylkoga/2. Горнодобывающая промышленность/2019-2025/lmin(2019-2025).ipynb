{
 "cells": [
  {
   "cell_type": "code",
   "execution_count": 3,
   "metadata": {},
   "outputs": [
    {
     "data": {
      "text/plain": [
       "0      88.637633\n",
       "1     102.362205\n",
       "2     100.000000\n",
       "3     100.000000\n",
       "4     100.000000\n",
       "5     100.000000\n",
       "6     100.000000\n",
       "7      97.692308\n",
       "8     122.960630\n",
       "9     100.000000\n",
       "10    100.000000\n",
       "11    100.000000\n",
       "12    100.000000\n",
       "13    100.000000\n",
       "14     66.495902\n",
       "15    100.000000\n",
       "16    100.000000\n",
       "17    100.000000\n",
       "18    100.000000\n",
       "19    100.000000\n",
       "20    122.303544\n",
       "Name: o_oil_price, dtype: float64"
      ]
     },
     "execution_count": 3,
     "metadata": {},
     "output_type": "execute_result"
    }
   ],
   "source": [
    "import pandas as pd\n",
    "csv = pd.read_csv('vrp_ekz_prog.csv')\n",
    "\n",
    "\n",
    "poil = csv['o_oil_price']\n",
    "c=csv['o_year']\n",
    "voil = csv['o_oil_kzylkoga']\n",
    "\n",
    "h=poil.shift(1)\n",
    "h[0]= 71.64\n",
    "Gpoil= poil/h*100\n",
    "\n",
    "l=voil.shift(1)\n",
    "l[0]= 770.30\n",
    "Gvoil= voil/l*100\n",
    "\n",
    "Gpoil"
   ]
  },
  {
   "cell_type": "code",
   "execution_count": 4,
   "metadata": {},
   "outputs": [
    {
     "data": {
      "text/plain": [
       "0     88.6435\n",
       "1      91.341\n",
       "2     87.2025\n",
       "3     88.1859\n",
       "4     95.1491\n",
       "5      93.892\n",
       "6     98.9797\n",
       "7     88.1462\n",
       "8     102.668\n",
       "9      97.812\n",
       "10    101.913\n",
       "11    132.715\n",
       "12     131.75\n",
       "13    141.395\n",
       "14    70.7972\n",
       "15    67.6633\n",
       "16    67.3445\n",
       "17      64.59\n",
       "18    63.4863\n",
       "19    66.1362\n",
       "20    76.9352\n",
       "Name: c1, dtype: object"
      ]
     },
     "execution_count": 4,
     "metadata": {},
     "output_type": "execute_result"
    }
   ],
   "source": [
    "i=0\n",
    "c=100\n",
    "\n",
    "newdf = pd.DataFrame(columns=['c1'], index=range(21))\n",
    "while i<=20:\n",
    "    c = (c*((((Gpoil[i]-100) * 0.4039912336603637) + ((Gvoil[i]-100) * 1.6651791223839165)) + 100)) /100\n",
    "    newdf.loc[i].c1 = c\n",
    "    i=i+1\n",
    "lminS=newdf['c1']\n",
    "\n",
    "lminS"
   ]
  },
  {
   "cell_type": "code",
   "execution_count": 5,
   "metadata": {},
   "outputs": [
    {
     "data": {
      "text/plain": [
       "0     88.6435\n",
       "1     103.043\n",
       "2     95.4691\n",
       "3     101.128\n",
       "4     107.896\n",
       "5     98.6789\n",
       "6     105.419\n",
       "7     89.0548\n",
       "8     116.475\n",
       "9     95.2698\n",
       "10    104.193\n",
       "11    130.224\n",
       "12    99.2732\n",
       "13     107.32\n",
       "14    50.0706\n",
       "15    95.5734\n",
       "16    99.5288\n",
       "17    95.9099\n",
       "18    98.2912\n",
       "19    104.174\n",
       "20    116.328\n",
       "Name: c1, dtype: object"
      ]
     },
     "execution_count": 5,
     "metadata": {},
     "output_type": "execute_result"
    }
   ],
   "source": [
    "w=lminS.shift(1)\n",
    "w[0]=100\n",
    "lmint = lminS/w*100\n",
    "lmint"
   ]
  },
  {
   "cell_type": "code",
   "execution_count": 6,
   "metadata": {},
   "outputs": [],
   "source": [
    "lmint.to_csv(r'lmin(2019-2025).csv')"
   ]
  },
  {
   "cell_type": "code",
   "execution_count": null,
   "metadata": {},
   "outputs": [],
   "source": []
  }
 ],
 "metadata": {
  "kernelspec": {
   "display_name": "Python 3",
   "language": "python",
   "name": "python3"
  },
  "language_info": {
   "codemirror_mode": {
    "name": "ipython",
    "version": 3
   },
   "file_extension": ".py",
   "mimetype": "text/x-python",
   "name": "python",
   "nbconvert_exporter": "python",
   "pygments_lexer": "ipython3",
   "version": "3.7.6"
  }
 },
 "nbformat": 4,
 "nbformat_minor": 4
}
