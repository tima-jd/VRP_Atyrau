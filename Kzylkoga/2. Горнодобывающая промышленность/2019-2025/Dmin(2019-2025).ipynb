{
 "cells": [
  {
   "cell_type": "code",
   "execution_count": 1,
   "metadata": {},
   "outputs": [],
   "source": [
    "import pandas as pd\n",
    "csv = pd.read_csv('vrp_ekz_prog.csv')\n",
    "poil = csv['o_oil_price']\n",
    "rateKZT= csv['o_exchange_rate']\n",
    "\n",
    "GpoilKZT= ((poil*rateKZT)/(poil.shift(1)*rateKZT.shift(1)))*100\n",
    "GpoilKZT[0]=((poil[0]*rateKZT[0])/(344.71*71.64))*100\n",
    "\n",
    "GpoilKZT[1]=((poil[1]*rateKZT[1])/(poil[0]*rateKZT[0]))*100\n",
    "\n",
    "\n",
    "Dmin = (GpoilKZT-100)*0.9801185389127463 + 100\n",
    "\n",
    "Dmin.to_csv(r'Dmin(2019-2025).csv')"
   ]
  },
  {
   "cell_type": "code",
   "execution_count": null,
   "metadata": {},
   "outputs": [],
   "source": []
  }
 ],
 "metadata": {
  "kernelspec": {
   "display_name": "Python 3",
   "language": "python",
   "name": "python3"
  },
  "language_info": {
   "codemirror_mode": {
    "name": "ipython",
    "version": 3
   },
   "file_extension": ".py",
   "mimetype": "text/x-python",
   "name": "python",
   "nbconvert_exporter": "python",
   "pygments_lexer": "ipython3",
   "version": "3.7.6"
  }
 },
 "nbformat": 4,
 "nbformat_minor": 4
}
