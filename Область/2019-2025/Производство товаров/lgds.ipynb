{
 "cells": [
  {
   "cell_type": "code",
   "execution_count": 1,
   "metadata": {},
   "outputs": [],
   "source": [
    "import pandas as pd\n",
    "\n",
    "csv_AO = pd.read_csv('Ngds_AO(2019-2025).csv')\n",
    "\n",
    "import pandas as pd\n",
    "\n",
    "csv_inder_n = pd.read_csv('Ngds_Inder(2019-2025).csv')\n",
    "csv_isatai_n = pd.read_csv('Ngds_Isatai(2019-2025).csv')\n",
    "csv_atyrau_n = pd.read_csv('Ngds_Atyrau(2019-2025).csv')\n",
    "csv_kurmangazy_n = pd.read_csv('Ngds_Kurmangazy(2019-2025).csv')\n",
    "csv_kzylkoga_n = pd.read_csv('Ngds_Kzylkoga(2019-2025).csv')\n",
    "csv_makat_n = pd.read_csv('Ngds_Makat(2019-2025).csv')\n",
    "csv_makhambet_n = pd.read_csv('Ngds_Makhambet(2019-2025).csv')\n",
    "csv_zhylyoi_n = pd.read_csv('Ngds_Zhylyoi(2019-2025).csv')\n",
    "\n",
    "inder_n = csv_inder_n['0']\n",
    "isatai_n = csv_isatai_n['0']\n",
    "atyrau_n = csv_atyrau_n['0']\n",
    "kurmangazy_n = csv_kurmangazy_n['0'] \n",
    "kzylkoga_n = csv_kzylkoga_n['0'] \n",
    "makat_n = csv_makat_n['0']\n",
    "makhambet_n = csv_makhambet_n['0']\n",
    "zhylyoi_n =  csv_zhylyoi_n['0']\n",
    "\n",
    "\n",
    "\n",
    "csv_inder_l = pd.read_csv('lgds_Inder(2019-2025).csv')\n",
    "csv_isatai_l = pd.read_csv('lgds_Isatai(2019-2025).csv')\n",
    "csv_atyrau_l = pd.read_csv('lgds_Atyrau(2019-2025).csv')\n",
    "csv_kurmangazy_l = pd.read_csv('lgds_Kurmangazy(2019-2025).csv')\n",
    "csv_kzylkoga_l = pd.read_csv('lgds_Kzylkoga(2019-2025).csv')\n",
    "csv_makat_l = pd.read_csv('lgds_Makat(2019-2025).csv')\n",
    "csv_makhambet_l = pd.read_csv('lgds_Makhambet(2019-2025).csv')\n",
    "csv_zhylyoi_l = pd.read_csv('lgds_Zhylyoi(2019-2025).csv')\n",
    "\n",
    "AO=csv_AO['0']\n",
    "\n",
    "inder_l =  csv_inder_l['0']\n",
    "isatai_l =  csv_isatai_l['0']\n",
    "atyrau_l =  csv_atyrau_l['0']\n",
    "kurmangazy_l =  csv_kurmangazy_l['0'] \n",
    "kzylkoga_l =  csv_kzylkoga_l['0'] \n",
    "makat_l =  csv_makat_l['0']\n",
    "makhambet_l =  csv_makhambet_l['0']\n",
    "zhylyoi_l =  csv_zhylyoi_l['0']\n",
    "\n",
    "inder = (inder_n/AO*(inder_l-100))\n",
    "isatai = (isatai_n/AO*(isatai_l-100))\n",
    "atyrau = (atyrau_n/AO*(atyrau_l-100))\n",
    "kurmangazy = (kurmangazy_n/AO*(kurmangazy_l-100))\n",
    "kzylkoga = (kzylkoga_n/AO*(kzylkoga_l-100))\n",
    "makat = (makat_n/AO*(makat_l-100))\n",
    "makhambet = (makhambet_n/AO*(makhambet_l-100))\n",
    "zhylyoi = (zhylyoi_n/AO*(zhylyoi_l-100))\n",
    "\n",
    "lagr = (inder+isatai+atyrau+kurmangazy+kzylkoga+makat+makhambet+zhylyoi)+100\n",
    "\n",
    "lagr.to_csv((r'lgds_AO(2019-2025).csv'),index = False)"
   ]
  },
  {
   "cell_type": "code",
   "execution_count": null,
   "metadata": {},
   "outputs": [],
   "source": []
  }
 ],
 "metadata": {
  "kernelspec": {
   "display_name": "Python 3",
   "language": "python",
   "name": "python3"
  },
  "language_info": {
   "codemirror_mode": {
    "name": "ipython",
    "version": 3
   },
   "file_extension": ".py",
   "mimetype": "text/x-python",
   "name": "python",
   "nbconvert_exporter": "python",
   "pygments_lexer": "ipython3",
   "version": "3.7.6"
  }
 },
 "nbformat": 4,
 "nbformat_minor": 4
}
