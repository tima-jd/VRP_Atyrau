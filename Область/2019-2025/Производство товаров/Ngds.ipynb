{
 "cells": [
  {
   "cell_type": "code",
   "execution_count": 4,
   "metadata": {},
   "outputs": [],
   "source": [
    "import pandas as pd\n",
    "csv_inder = pd.read_csv('Ngds_Inder(2019-2025).csv')\n",
    "csv_isatai = pd.read_csv('Ngds_Isatai(2019-2025).csv')\n",
    "csv_atyrau = pd.read_csv('Ngds_Atyrau(2019-2025).csv')\n",
    "csv_kurmangazy = pd.read_csv('Ngds_Kurmangazy(2019-2025).csv')\n",
    "csv_kzylkoga = pd.read_csv('Ngds_Kzylkoga(2019-2025).csv')\n",
    "csv_makat = pd.read_csv('Ngds_Makat(2019-2025).csv')\n",
    "csv_makhambet = pd.read_csv('Ngds_Makhambet(2019-2025).csv')\n",
    "csv_zhylyoi = pd.read_csv('Ngds_Zhylyoi(2019-2025).csv')\n",
    "\n",
    "inder =  csv_inder['0']\n",
    "isatai =  csv_isatai['0']\n",
    "atyrau =  csv_atyrau['0']\n",
    "kurmangazy =  csv_kurmangazy['0'] \n",
    "kzylkoga =  csv_kzylkoga['0'] \n",
    "makat=  csv_makat['0']\n",
    "makhambet=  csv_makhambet['0']\n",
    "zhylyoi =  csv_zhylyoi['0']\n",
    "\n",
    "\n",
    "Nagr = (inder+isatai+atyrau+kurmangazy+kzylkoga+makat+makhambet+zhylyoi)\n",
    "\n",
    "Nagr.to_csv(r'Ngds_AO(2019-2025).csv', index=False)"
   ]
  },
  {
   "cell_type": "code",
   "execution_count": null,
   "metadata": {},
   "outputs": [],
   "source": []
  }
 ],
 "metadata": {
  "kernelspec": {
   "display_name": "Python 3",
   "language": "python",
   "name": "python3"
  },
  "language_info": {
   "codemirror_mode": {
    "name": "ipython",
    "version": 3
   },
   "file_extension": ".py",
   "mimetype": "text/x-python",
   "name": "python",
   "nbconvert_exporter": "python",
   "pygments_lexer": "ipython3",
   "version": "3.7.6"
  }
 },
 "nbformat": 4,
 "nbformat_minor": 4
}
