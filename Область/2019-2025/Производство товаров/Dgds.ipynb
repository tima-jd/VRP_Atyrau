{
 "cells": [
  {
   "cell_type": "code",
   "execution_count": 5,
   "metadata": {
    "scrolled": true
   },
   "outputs": [
    {
     "data": {
      "text/plain": [
       "0      98.845320\n",
       "1     109.285099\n",
       "2     103.243846\n",
       "3     103.218022\n",
       "4     114.518806\n",
       "5     106.806062\n",
       "6     103.406374\n",
       "7      96.112622\n",
       "8     154.857663\n",
       "9     104.363702\n",
       "10    106.041457\n",
       "11    129.209156\n",
       "12    108.082498\n",
       "13    105.843439\n",
       "14     70.851820\n",
       "15    102.862212\n",
       "16    101.983389\n",
       "17    106.876084\n",
       "18    106.182079\n",
       "19    102.083140\n",
       "20    110.784844\n",
       "Name: 0, dtype: float64"
      ]
     },
     "execution_count": 5,
     "metadata": {},
     "output_type": "execute_result"
    }
   ],
   "source": [
    "import pandas as pd\n",
    "csv_nagr = pd.read_csv('Ngds_AO(2019-2025).csv')\n",
    "csv_lagr = pd.read_csv('lgds_AO(2019-2025).csv')\n",
    "Nagr = csv_nagr['0']\n",
    "lagr = csv_lagr['0']\n",
    "Nagr_p = Nagr.shift(1)\n",
    "Nagr_p[0]= 7784339.8\n",
    "Nagr_p[7]= 7784339.8\n",
    "Nagr_p[14]= 7784339.8\n",
    "\n",
    "Dgds = (Nagr/Nagr_p/lagr) * 10000\n",
    "\n",
    "Dgds"
   ]
  },
  {
   "cell_type": "code",
   "execution_count": null,
   "metadata": {},
   "outputs": [],
   "source": []
  }
 ],
 "metadata": {
  "kernelspec": {
   "display_name": "Python 3",
   "language": "python",
   "name": "python3"
  },
  "language_info": {
   "codemirror_mode": {
    "name": "ipython",
    "version": 3
   },
   "file_extension": ".py",
   "mimetype": "text/x-python",
   "name": "python",
   "nbconvert_exporter": "python",
   "pygments_lexer": "ipython3",
   "version": "3.7.6"
  }
 },
 "nbformat": 4,
 "nbformat_minor": 4
}
