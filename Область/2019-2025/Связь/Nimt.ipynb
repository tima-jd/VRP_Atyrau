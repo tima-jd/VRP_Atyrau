{
 "cells": [
  {
   "cell_type": "code",
   "execution_count": 5,
   "metadata": {},
   "outputs": [
    {
     "data": {
      "text/plain": [
       "0     105.491980\n",
       "1     105.491980\n",
       "2     105.491980\n",
       "3     104.576650\n",
       "4     104.576650\n",
       "5     104.576650\n",
       "6     104.576650\n",
       "7     105.491980\n",
       "8     105.144154\n",
       "9     105.144154\n",
       "10    104.228824\n",
       "11    104.228824\n",
       "12    104.228824\n",
       "13    104.228824\n",
       "14    106.901588\n",
       "15    106.901588\n",
       "16    105.986258\n",
       "17    105.986258\n",
       "18    105.986258\n",
       "19    105.986258\n",
       "20    105.491980\n",
       "Name: o_inflation, dtype: float64"
      ]
     },
     "execution_count": 5,
     "metadata": {},
     "output_type": "execute_result"
    }
   ],
   "source": [
    "import pandas as pd\n",
    "csv = pd.read_csv('vrp_ekz_prog.csv')\n",
    "inf = csv['o_inflation']\n",
    "\n",
    "Dtrn = inf*0.9153299582206615+100\n",
    "Dtrn"
   ]
  },
  {
   "cell_type": "code",
   "execution_count": 6,
   "metadata": {},
   "outputs": [
    {
     "data": {
      "text/plain": [
       "0     103.572\n",
       "1     101.562\n",
       "2     100.492\n",
       "3     100.363\n",
       "4     100.973\n",
       "5     99.0076\n",
       "6     99.2385\n",
       "7         NaN\n",
       "8         NaN\n",
       "9         NaN\n",
       "10        NaN\n",
       "11        NaN\n",
       "12        NaN\n",
       "13        NaN\n",
       "14        NaN\n",
       "15        NaN\n",
       "16        NaN\n",
       "17        NaN\n",
       "18        NaN\n",
       "19        NaN\n",
       "20        NaN\n",
       "Name: c1, dtype: object"
      ]
     },
     "execution_count": 6,
     "metadata": {},
     "output_type": "execute_result"
    }
   ],
   "source": [
    "import pandas as pd \n",
    "lgt_csv = pd.read_csv('lgt_AO(2019-2025).csv')\n",
    "lgt = lgt_csv['0'] \n",
    "\n",
    "i=0\n",
    "c=100\n",
    "\n",
    "newdf = pd.DataFrame(columns=['c1'], index=range(21))\n",
    "while i<=20:\n",
    "    c = (c*((lgt[i]-100) * 1.4288808951077208+100))/100\n",
    "    newdf.loc[i].c1 = c\n",
    "    i=i+1 \n",
    "ltrnS=newdf['c1']\n",
    "l = newdf['c1']\n",
    "trn_l = l.shift(1)\n",
    "trn_l[0] = 100\n",
    "\n",
    "limt = ltrnS/trn_l*100\n",
    "\n",
    "limt"
   ]
  },
  {
   "cell_type": "code",
   "execution_count": 9,
   "metadata": {},
   "outputs": [],
   "source": [
    "i=0\n",
    "c=14340.6\n",
    "\n",
    "newdf = pd.DataFrame(columns=['c1'], index=range(21))\n",
    "while i<=20:\n",
    "    c = (c*limt[i] * Dtrn[i])/10000\n",
    "    newdf.loc[i].c1 = c\n",
    "    i=i+1\n",
    "Nimt=newdf['c1']\n",
    "\n",
    "limt.to_csv(r'limt_AO(2019-2025).csv',index = False)"
   ]
  },
  {
   "cell_type": "code",
   "execution_count": null,
   "metadata": {},
   "outputs": [],
   "source": []
  }
 ],
 "metadata": {
  "kernelspec": {
   "display_name": "Python 3",
   "language": "python",
   "name": "python3"
  },
  "language_info": {
   "codemirror_mode": {
    "name": "ipython",
    "version": 3
   },
   "file_extension": ".py",
   "mimetype": "text/x-python",
   "name": "python",
   "nbconvert_exporter": "python",
   "pygments_lexer": "ipython3",
   "version": "3.7.6"
  }
 },
 "nbformat": 4,
 "nbformat_minor": 4
}
