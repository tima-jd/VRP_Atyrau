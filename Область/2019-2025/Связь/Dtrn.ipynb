{
 "cells": [
  {
   "cell_type": "code",
   "execution_count": 2,
   "metadata": {},
   "outputs": [
    {
     "data": {
      "text/plain": [
       "0     105.491980\n",
       "1     105.491980\n",
       "2     105.491980\n",
       "3     104.576650\n",
       "4     104.576650\n",
       "5     104.576650\n",
       "6     104.576650\n",
       "7     105.491980\n",
       "8     105.144154\n",
       "9     105.144154\n",
       "10    104.228824\n",
       "11    104.228824\n",
       "12    104.228824\n",
       "13    104.228824\n",
       "14    106.901588\n",
       "15    106.901588\n",
       "16    105.986258\n",
       "17    105.986258\n",
       "18    105.986258\n",
       "19    105.986258\n",
       "20    105.491980\n",
       "Name: o_inflation, dtype: float64"
      ]
     },
     "execution_count": 2,
     "metadata": {},
     "output_type": "execute_result"
    }
   ],
   "source": [
    "import pandas as pd\n",
    "csv = pd.read_csv('vrp_ekz_prog.csv')\n",
    "inf = csv['o_inflation']\n",
    "\n",
    "Dtrn = inf*0.9153299582206615+100\n",
    "Dtrn"
   ]
  },
  {
   "cell_type": "code",
   "execution_count": null,
   "metadata": {},
   "outputs": [],
   "source": []
  }
 ],
 "metadata": {
  "kernelspec": {
   "display_name": "Python 3",
   "language": "python",
   "name": "python3"
  },
  "language_info": {
   "codemirror_mode": {
    "name": "ipython",
    "version": 3
   },
   "file_extension": ".py",
   "mimetype": "text/x-python",
   "name": "python",
   "nbconvert_exporter": "python",
   "pygments_lexer": "ipython3",
   "version": "3.7.6"
  }
 },
 "nbformat": 4,
 "nbformat_minor": 4
}
