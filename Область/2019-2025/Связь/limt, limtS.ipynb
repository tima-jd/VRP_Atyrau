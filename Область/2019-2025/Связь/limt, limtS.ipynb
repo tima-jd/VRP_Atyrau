{
 "cells": [
  {
   "cell_type": "code",
   "execution_count": 7,
   "metadata": {},
   "outputs": [],
   "source": [
    "import pandas as pd \n",
    "xlsx = pd.read_csv('vrp_ekz_prog.csv')\n",
    "\n",
    "lgt_csv = pd.read_csv('lgt_AO(2019-2025).csv')\n",
    "lgt = lgt_csv['0'] \n",
    "\n",
    "i=0\n",
    "c=100\n",
    "\n",
    "newdf = pd.DataFrame(columns=['c1'], index=range(21))\n",
    "while i<=20:\n",
    "    c = (c*((lgt[i]-100) * 1.4288808951077208+100))/100\n",
    "    newdf.loc[i].c1 = c\n",
    "    i=i+1 \n",
    "ltrnS=newdf['c1']\n",
    "l = newdf['c1']\n",
    "trn_l = l.shift(1)\n",
    "\n",
    "trn_l_b =trn_l.loc[xlsx.o_script.str.match(r'базовый')].reset_index(drop = True)\n",
    "trn_l_o =trn_l.loc[xlsx.o_script.str.match(r'оптимистичный')].reset_index(drop = True)\n",
    "trn_l_p =trn_l.loc[xlsx.o_script.str.match(r'пессимистичный')].reset_index(drop = True)\n",
    "trn_l_b[0]= 100\n",
    "trn_l_o[0]= 100\n",
    "trn_l_p[0]= 100\n",
    "trn_l = trn_l_b.append(trn_l_o).append(trn_l_p).reset_index(drop = True)\n",
    "\n",
    "limt = ltrnS/trn_l*100\n",
    "\n",
    "limt.to_csv(r'limt_AO(2019-2025).csv', index=False)"
   ]
  },
  {
   "cell_type": "code",
   "execution_count": null,
   "metadata": {},
   "outputs": [],
   "source": []
  }
 ],
 "metadata": {
  "kernelspec": {
   "display_name": "Python 3",
   "language": "python",
   "name": "python3"
  },
  "language_info": {
   "codemirror_mode": {
    "name": "ipython",
    "version": 3
   },
   "file_extension": ".py",
   "mimetype": "text/x-python",
   "name": "python",
   "nbconvert_exporter": "python",
   "pygments_lexer": "ipython3",
   "version": "3.7.6"
  }
 },
 "nbformat": 4,
 "nbformat_minor": 4
}
