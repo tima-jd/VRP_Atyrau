{
 "cells": [
  {
   "cell_type": "code",
   "execution_count": 2,
   "metadata": {},
   "outputs": [],
   "source": [
    "import pandas as pd\n",
    "csv_nagr = pd.read_csv('Ncon_AO(2019-2025).csv')\n",
    "csv_lagr = pd.read_csv('lcon_AO(2019-2025).csv')\n",
    "Nagr = csv_nagr['c1']\n",
    "lagr = csv_lagr['c1']\n",
    "\n",
    "\n",
    "Dcon = (Nagr/Nagr.shift(1)/lagr) * 10000\n",
    "Dcon[0]=98.72693361\n",
    "\n",
    "Dcon.to_csv((r'Dcon_AO(2019-2025).csv'),index = False)"
   ]
  },
  {
   "cell_type": "code",
   "execution_count": null,
   "metadata": {},
   "outputs": [],
   "source": []
  }
 ],
 "metadata": {
  "kernelspec": {
   "display_name": "Python 3",
   "language": "python",
   "name": "python3"
  },
  "language_info": {
   "codemirror_mode": {
    "name": "ipython",
    "version": 3
   },
   "file_extension": ".py",
   "mimetype": "text/x-python",
   "name": "python",
   "nbconvert_exporter": "python",
   "pygments_lexer": "ipython3",
   "version": "3.7.6"
  }
 },
 "nbformat": 4,
 "nbformat_minor": 4
}
