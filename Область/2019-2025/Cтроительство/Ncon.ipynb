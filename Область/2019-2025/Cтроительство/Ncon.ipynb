{
 "cells": [
  {
   "cell_type": "code",
   "execution_count": 3,
   "metadata": {},
   "outputs": [
    {
     "data": {
      "text/plain": [
       "0    24946.158795\n",
       "1    26398.752059\n",
       "2    26393.131482\n",
       "3    26670.881684\n",
       "4    28926.450727\n",
       "5    29017.347207\n",
       "6    29272.607471\n",
       "Name: c1, dtype: float64"
      ]
     },
     "execution_count": 3,
     "metadata": {},
     "output_type": "execute_result"
    }
   ],
   "source": [
    "import pandas as pd\n",
    "csv_inder = pd.read_csv('Ncon_Inder(2019-2025).csv')\n",
    "csv_isatai = pd.read_csv('Ncon_Isatai(2019-2025).csv')\n",
    "csv_atyrau = pd.read_csv('Ncon_Atyrau(2019-2025).csv')\n",
    "csv_kurmangazy = pd.read_csv('Ncon_Kurmangazy(2019-2025).csv')\n",
    "csv_kzylkoga = pd.read_csv('Ncon_Kzylkoga(2019-2025).csv')\n",
    "csv_makat = pd.read_csv('Ncon_Makat(2019-2025).csv')\n",
    "csv_makhambet = pd.read_csv('Ncon_Makhambet(2019-2025).csv')\n",
    "csv_zhylyoi = pd.read_csv('Ncon_Zhylyoi(2019-2025).csv')\n",
    "\n",
    "inder =  csv_inder['c1']\n",
    "isatai =  csv_isatai['c1']\n",
    "atyrau =  csv_atyrau['c1']\n",
    "kurmangazy =  csv_kurmangazy['c1'] \n",
    "kzylkoga =  csv_kzylkoga['c1'] \n",
    "makat=  csv_makat['c1']\n",
    "makhambet=  csv_makhambet['c1']\n",
    "zhylyoi =  csv_zhylyoi['c1']\n",
    "\n",
    "\n",
    "Nagr = (inder+isatai+atyrau+kurmangazy+kzylkoga+makat+makhambet+zhylyoi)\n",
    "\n",
    "kurmangazy"
   ]
  },
  {
   "cell_type": "code",
   "execution_count": null,
   "metadata": {},
   "outputs": [],
   "source": []
  }
 ],
 "metadata": {
  "kernelspec": {
   "display_name": "Python 3",
   "language": "python",
   "name": "python3"
  },
  "language_info": {
   "codemirror_mode": {
    "name": "ipython",
    "version": 3
   },
   "file_extension": ".py",
   "mimetype": "text/x-python",
   "name": "python",
   "nbconvert_exporter": "python",
   "pygments_lexer": "ipython3",
   "version": "3.7.6"
  }
 },
 "nbformat": 4,
 "nbformat_minor": 4
}
