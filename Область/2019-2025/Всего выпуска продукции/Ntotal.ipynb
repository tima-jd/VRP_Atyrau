{
 "cells": [
  {
   "cell_type": "code",
   "execution_count": 4,
   "metadata": {},
   "outputs": [],
   "source": [
    "import pandas as pd\n",
    "\n",
    "csv_srv = pd.read_csv('Nsrv_AO(2019-2025).csv')\n",
    "csv_gds = pd.read_csv('Ngds_AO(2019-2025).csv')\n",
    "\n",
    "Nsrv = csv_srv['0']\n",
    "Ngds = csv_gds['0']\n",
    "\n",
    "Ntotal = Nsrv+ Ngds\n",
    "Ntotal.to_csv(r'Ntotal_AO(2019-2025).csv',index = False)"
   ]
  },
  {
   "cell_type": "code",
   "execution_count": null,
   "metadata": {},
   "outputs": [],
   "source": []
  }
 ],
 "metadata": {
  "kernelspec": {
   "display_name": "Python 3",
   "language": "python",
   "name": "python3"
  },
  "language_info": {
   "codemirror_mode": {
    "name": "ipython",
    "version": 3
   },
   "file_extension": ".py",
   "mimetype": "text/x-python",
   "name": "python",
   "nbconvert_exporter": "python",
   "pygments_lexer": "ipython3",
   "version": "3.7.6"
  }
 },
 "nbformat": 4,
 "nbformat_minor": 4
}
