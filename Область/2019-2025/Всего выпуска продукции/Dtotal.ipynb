{
 "cells": [
  {
   "cell_type": "code",
   "execution_count": 3,
   "metadata": {},
   "outputs": [
    {
     "data": {
      "text/plain": [
       "0     101.000000\n",
       "1     112.881133\n",
       "2     106.183784\n",
       "3     106.270199\n",
       "4     112.169821\n",
       "5     108.294894\n",
       "6     106.739513\n",
       "7            NaN\n",
       "8            NaN\n",
       "9            NaN\n",
       "10           NaN\n",
       "11           NaN\n",
       "12           NaN\n",
       "13           NaN\n",
       "14           NaN\n",
       "15           NaN\n",
       "16           NaN\n",
       "17           NaN\n",
       "18           NaN\n",
       "19           NaN\n",
       "20           NaN\n",
       "Name: 0, dtype: float64"
      ]
     },
     "execution_count": 3,
     "metadata": {},
     "output_type": "execute_result"
    }
   ],
   "source": [
    "import pandas as pd\n",
    "\n",
    "csv_n = pd.read_csv('Ntotal_AO(2019-2025).csv')\n",
    "csv_l = pd.read_csv('ltotal_AO(2019-2025).csv')\n",
    "\n",
    "Ntotal = csv_n['0'] \n",
    "ltotal = csv_l['0']\n",
    "\n",
    "Dtotal = Ntotal/Ntotal.shift(1)/ltotal * 10000\n",
    "Dtotal[0]= 101.0\n",
    "Dtotal"
   ]
  },
  {
   "cell_type": "code",
   "execution_count": null,
   "metadata": {},
   "outputs": [],
   "source": []
  }
 ],
 "metadata": {
  "kernelspec": {
   "display_name": "Python 3",
   "language": "python",
   "name": "python3"
  },
  "language_info": {
   "codemirror_mode": {
    "name": "ipython",
    "version": 3
   },
   "file_extension": ".py",
   "mimetype": "text/x-python",
   "name": "python",
   "nbconvert_exporter": "python",
   "pygments_lexer": "ipython3",
   "version": "3.7.6"
  }
 },
 "nbformat": 4,
 "nbformat_minor": 4
}
