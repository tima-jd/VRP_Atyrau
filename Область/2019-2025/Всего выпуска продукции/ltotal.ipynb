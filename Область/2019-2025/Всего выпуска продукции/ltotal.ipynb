{
 "cells": [
  {
   "cell_type": "code",
   "execution_count": 13,
   "metadata": {},
   "outputs": [],
   "source": [
    "import pandas as pd\n",
    "\n",
    "csv_srv = pd.read_csv('Nsrv_AO(2019-2025).csv')\n",
    "csv_gds = pd.read_csv('Ngds_AO(2019-2025).csv')\n",
    "\n",
    "csv_srv_l = pd.read_csv('lsrv_AO(2019-2025).csv')\n",
    "csv_gds_l = pd.read_csv('lgds_AO(2019-2025).csv')\n",
    "\n",
    "Nsr = csv_srv['0']\n",
    "Ngd = csv_gds['0']\n",
    "\n",
    "lsrv = csv_srv_l['0'] \n",
    "lgds = csv_gds_l['0']\n",
    "\n",
    "Ngds = Ngd.shift(1)\n",
    "Ngds[0] = 7784339.8\n",
    "\n",
    "\n",
    "Nsrv = Nsr.shift(1)\n",
    "Nsrv[0] = 4037519.2\n",
    "\n",
    "Ntotal = Nsrv+ Ngds\n",
    "Ntot = Ntotal.shift(1)\n",
    "Ntot[0] = 11821859.0\n",
    "\n",
    "\n",
    "ltotal = (Ngds/Ntot*(lgds-100) + Nsrv/Ntot * (lsrv-100))+100\n",
    "\n",
    "ltotal.to_csv(r'ltotal_AO(2019-2025).csv',index = False)"
   ]
  },
  {
   "cell_type": "code",
   "execution_count": null,
   "metadata": {},
   "outputs": [],
   "source": []
  }
 ],
 "metadata": {
  "kernelspec": {
   "display_name": "Python 3",
   "language": "python",
   "name": "python3"
  },
  "language_info": {
   "codemirror_mode": {
    "name": "ipython",
    "version": 3
   },
   "file_extension": ".py",
   "mimetype": "text/x-python",
   "name": "python",
   "nbconvert_exporter": "python",
   "pygments_lexer": "ipython3",
   "version": "3.7.6"
  }
 },
 "nbformat": 4,
 "nbformat_minor": 4
}
