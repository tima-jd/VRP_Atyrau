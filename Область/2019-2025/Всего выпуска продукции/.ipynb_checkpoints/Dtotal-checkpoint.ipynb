{
 "cells": [
  {
   "cell_type": "code",
   "execution_count": 1,
   "metadata": {},
   "outputs": [
    {
     "data": {
      "text/plain": [
       "0            NaN\n",
       "1     112.861474\n",
       "2     106.185912\n",
       "3     106.259390\n",
       "4     112.646837\n",
       "5     108.216081\n",
       "6     106.608920\n",
       "7      56.929220\n",
       "8     154.201893\n",
       "9     110.006028\n",
       "10    111.668803\n",
       "11    125.892107\n",
       "12    114.313467\n",
       "13    114.310292\n",
       "14     25.350335\n",
       "15    105.093871\n",
       "16    104.429079\n",
       "17    106.229794\n",
       "18    106.170926\n",
       "19    103.838790\n",
       "20    116.016207\n",
       "Name: 0, dtype: float64"
      ]
     },
     "execution_count": 1,
     "metadata": {},
     "output_type": "execute_result"
    }
   ],
   "source": [
    "import pandas as pd\n",
    "xlsx = pd.read_csv('vrp_ekz_prog.csv')\n",
    "\n",
    "csv_n = pd.read_csv('Ntotal_AO(2019-2025).csv')\n",
    "csv_l = pd.read_csv('ltotal_AO(2019-2025).csv')\n",
    "\n",
    "Ntotal = csv_n['0'] \n",
    "ltotal = csv_l['0']\n",
    "\n",
    "Dtotal = Ntotal/Ntotal.shift(1)/ltotal * 10000\n",
    "Dtotal_b =Dtotal.loc[xlsx.o_script.str.match(r'базовый')].reset_index(drop = True)\n",
    "Dtotal_o =Dtotal.loc[xlsx.o_script.str.match(r'оптимистичный')].reset_index(drop = True)\n",
    "Dtotal_p =Dtotal.loc[xlsx.o_script.str.match(r'пессимистичный')].reset_index(drop = True)\n",
    "Dtotal_b[0]= 101\n",
    "Dtotal_o[0]= 101\n",
    "Dtotal_p[0]= 101\n",
    "\n",
    "Dtotal"
   ]
  },
  {
   "cell_type": "code",
   "execution_count": null,
   "metadata": {},
   "outputs": [],
   "source": []
  }
 ],
 "metadata": {
  "kernelspec": {
   "display_name": "Python 3",
   "language": "python",
   "name": "python3"
  },
  "language_info": {
   "codemirror_mode": {
    "name": "ipython",
    "version": 3
   },
   "file_extension": ".py",
   "mimetype": "text/x-python",
   "name": "python",
   "nbconvert_exporter": "python",
   "pygments_lexer": "ipython3",
   "version": "3.7.6"
  }
 },
 "nbformat": 4,
 "nbformat_minor": 4
}
