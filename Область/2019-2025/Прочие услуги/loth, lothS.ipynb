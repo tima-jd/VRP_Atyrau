{
 "cells": [
  {
   "cell_type": "code",
   "execution_count": 8,
   "metadata": {},
   "outputs": [],
   "source": [
    "import pandas as pd\n",
    "xlsx = pd.read_csv('vrp_ekz_prog.csv')\n",
    "\n",
    "csv = pd.read_csv('vrp_ekz_fact.csv')\n",
    "csv_l = pd.read_csv('lret(2019-2025).csv')\n",
    "lcon = csv_l['0']\n",
    "\n",
    "limit = len(xlsx.loc[xlsx.o_script.str.match(r'базовый')].reset_index(drop = True))-1\n",
    "limit_o = len(xlsx.loc[xlsx.o_script.str.match(r'оптимистичный')].reset_index(drop = True))\n",
    "limit_p = limit_o+limit_o\n",
    "\n",
    "\n",
    "i=0\n",
    "b=100\n",
    "o=100\n",
    "p=100\n",
    "\n",
    "newdf = pd.DataFrame(columns=['c1'], index=range(21))\n",
    "while i<=limit:\n",
    "    b = (b*((lcon[i]-100) *          0.5246727147285848 +100))/100\n",
    "    o = (o*((lcon[i+limit_o]-100) *  0.5246727147285848 +100))/100\n",
    "    p = (p*((lcon[i+limit_p]-100) *  0.5246727147285848 +100))/100\n",
    "    newdf.loc[i].c1 = b\n",
    "    newdf.loc[i+limit_o].c1 = o\n",
    "    newdf.loc[i+limit_p].c1 = p\n",
    "    i=i+1 \n",
    "lestS=newdf['c1']\n",
    "\n",
    "l = newdf['c1']\n",
    "trn_l = l.shift(1)\n",
    "trn_l_b =trn_l.loc[xlsx.o_script.str.match(r'базовый')].reset_index(drop = True)\n",
    "trn_l_o =trn_l.loc[xlsx.o_script.str.match(r'оптимистичный')].reset_index(drop = True)\n",
    "trn_l_p =trn_l.loc[xlsx.o_script.str.match(r'пессимистичный')].reset_index(drop = True)\n",
    "trn_l_b[0]= 100\n",
    "trn_l_o[0]= 100\n",
    "trn_l_p[0]= 100\n",
    "trn_l = trn_l_b.append(trn_l_o).append(trn_l_p).reset_index(drop = True)\n",
    "\n",
    "loth = lestS/trn_l*100\n",
    "loth.to_csv(r'loth_AO(2019-2025).csv', index=False)"
   ]
  },
  {
   "cell_type": "code",
   "execution_count": null,
   "metadata": {},
   "outputs": [],
   "source": []
  }
 ],
 "metadata": {
  "kernelspec": {
   "display_name": "Python 3",
   "language": "python",
   "name": "python3"
  },
  "language_info": {
   "codemirror_mode": {
    "name": "ipython",
    "version": 3
   },
   "file_extension": ".py",
   "mimetype": "text/x-python",
   "name": "python",
   "nbconvert_exporter": "python",
   "pygments_lexer": "ipython3",
   "version": "3.7.6"
  }
 },
 "nbformat": 4,
 "nbformat_minor": 4
}
