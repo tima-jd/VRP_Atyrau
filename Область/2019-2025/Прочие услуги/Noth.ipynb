{
 "cells": [
  {
   "cell_type": "code",
   "execution_count": 3,
   "metadata": {},
   "outputs": [],
   "source": [
    "import pandas as pd\n",
    "csv = pd.read_csv('vrp_ekz_prog.csv')\n",
    "csv_l = pd.read_csv('loth_AO(2019-2025).csv')\n",
    "csv_d = pd.read_csv('Doth_AO(2019-2025).csv')\n",
    "\n",
    "ltrn = csv_l['c1'] \n",
    "Dtrn = csv_d['o_inflation'] \n",
    "\n",
    "\n",
    "limit_b = len(csv.loc[csv.o_script.str.match(r'базовый')].reset_index(drop = True))-1\n",
    "limit_o = len(csv.loc[csv.o_script.str.match(r'оптимистичный')].reset_index(drop = True))\n",
    "limit_p = limit_o+limit_o\n",
    "\n",
    "i=0\n",
    "\n",
    "b=25547.5\n",
    "o=25547.5\n",
    "p=25547.5\n",
    "newdf = pd.DataFrame(columns=['c1'], index=range(21))\n",
    "while i<=limit_b:\n",
    "    b = (b*ltrn[i] * Dtrn[i])/10000\n",
    "    o = (o*ltrn[i+limit_o] * Dtrn[i+7])/10000\n",
    "    p = (p*ltrn[i+limit_p] * Dtrn[i+14])/10000\n",
    "    \n",
    "    newdf.loc[i].c1 = b\n",
    "    newdf.loc[i+limit_o].c1 = o\n",
    "    newdf.loc[i+limit_p].c1 = p\n",
    "    i=i+1\n",
    "Ntrn=newdf['c1']\n",
    "\n",
    "Ntrn.to_csv(r'Noth_AO(2019-2025).csv', index=False)"
   ]
  },
  {
   "cell_type": "code",
   "execution_count": null,
   "metadata": {},
   "outputs": [],
   "source": []
  },
  {
   "cell_type": "code",
   "execution_count": null,
   "metadata": {},
   "outputs": [],
   "source": []
  },
  {
   "cell_type": "code",
   "execution_count": null,
   "metadata": {},
   "outputs": [],
   "source": []
  }
 ],
 "metadata": {
  "kernelspec": {
   "display_name": "Python 3",
   "language": "python",
   "name": "python3"
  },
  "language_info": {
   "codemirror_mode": {
    "name": "ipython",
    "version": 3
   },
   "file_extension": ".py",
   "mimetype": "text/x-python",
   "name": "python",
   "nbconvert_exporter": "python",
   "pygments_lexer": "ipython3",
   "version": "3.7.6"
  }
 },
 "nbformat": 4,
 "nbformat_minor": 4
}
