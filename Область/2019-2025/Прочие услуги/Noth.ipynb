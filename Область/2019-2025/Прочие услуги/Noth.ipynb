{
 "cells": [
  {
   "cell_type": "code",
   "execution_count": 9,
   "metadata": {},
   "outputs": [
    {
     "data": {
      "text/plain": [
       "0     106.578896\n",
       "1     106.578896\n",
       "2     106.578896\n",
       "3     105.482414\n",
       "4     105.482414\n",
       "5     105.482414\n",
       "6     105.482414\n",
       "7     106.578896\n",
       "8     106.162233\n",
       "9     106.162233\n",
       "10    105.065750\n",
       "11    105.065750\n",
       "12    105.065750\n",
       "13    105.065750\n",
       "14    108.267480\n",
       "15    108.267480\n",
       "16    107.170997\n",
       "17    107.170997\n",
       "18    107.170997\n",
       "19    107.170997\n",
       "20    106.578896\n",
       "Name: o_inflation, dtype: float64"
      ]
     },
     "execution_count": 9,
     "metadata": {},
     "output_type": "execute_result"
    }
   ],
   "source": [
    "import pandas as pd\n",
    "csv = pd.read_csv('vrp_ekz_prog.csv')\n",
    "inf = csv['o_inflation']\n",
    "\n",
    "Doth = inf*1.0964827100626027+100\n",
    "Doth"
   ]
  },
  {
   "cell_type": "code",
   "execution_count": 5,
   "metadata": {},
   "outputs": [
    {
     "data": {
      "text/plain": [
       "0     100.841\n",
       "1     102.025\n",
       "2     100.548\n",
       "3     100.609\n",
       "4     101.502\n",
       "5     100.592\n",
       "6     100.737\n",
       "7         NaN\n",
       "8         NaN\n",
       "9         NaN\n",
       "10        NaN\n",
       "11        NaN\n",
       "12        NaN\n",
       "13        NaN\n",
       "14        NaN\n",
       "15        NaN\n",
       "16        NaN\n",
       "17        NaN\n",
       "18        NaN\n",
       "19        NaN\n",
       "20        NaN\n",
       "Name: c1, dtype: object"
      ]
     },
     "execution_count": 5,
     "metadata": {},
     "output_type": "execute_result"
    }
   ],
   "source": [
    "import pandas as pd \n",
    "lgt_csv = pd.read_csv('lret_AO(2019-2025).csv')\n",
    "lret = lgt_csv['c1'] \n",
    "\n",
    "i=0\n",
    "c=100\n",
    "\n",
    "newdf = pd.DataFrame(columns=['c1'], index=range(21))\n",
    "while i<=20:\n",
    "    c = (c*((lret[i]-100) * 0.5246727147285848 + 100))/100\n",
    "    newdf.loc[i].c1 = c\n",
    "    i=i+1 \n",
    "lothS=newdf['c1']\n",
    "l = newdf['c1']\n",
    "trn_l = l.shift(1)\n",
    "trn_l[0] = 100\n",
    "\n",
    "loth = lothS/trn_l*100\n",
    "\n",
    "loth"
   ]
  },
  {
   "cell_type": "code",
   "execution_count": 7,
   "metadata": {},
   "outputs": [],
   "source": [
    "i=0\n",
    "c=25547.5\n",
    "newdf = pd.DataFrame(columns=['c1'], index=range(21))\n",
    "while i<=20:\n",
    "    c = (c*loth[i] * Doth[i])/10000\n",
    "    newdf.loc[i].c1 = c\n",
    "    i=i+1\n",
    "Noth=newdf['c1']\n",
    "\n",
    "loth.to_csv(r'loth_AO(2019-2025).csv',index = False)"
   ]
  },
  {
   "cell_type": "code",
   "execution_count": null,
   "metadata": {},
   "outputs": [],
   "source": []
  }
 ],
 "metadata": {
  "kernelspec": {
   "display_name": "Python 3",
   "language": "python",
   "name": "python3"
  },
  "language_info": {
   "codemirror_mode": {
    "name": "ipython",
    "version": 3
   },
   "file_extension": ".py",
   "mimetype": "text/x-python",
   "name": "python",
   "nbconvert_exporter": "python",
   "pygments_lexer": "ipython3",
   "version": "3.7.6"
  }
 },
 "nbformat": 4,
 "nbformat_minor": 4
}
