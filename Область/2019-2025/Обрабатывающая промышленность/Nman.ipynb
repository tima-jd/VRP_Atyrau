{
 "cells": [
  {
   "cell_type": "code",
   "execution_count": 9,
   "metadata": {},
   "outputs": [
    {
     "data": {
      "text/plain": [
       "0    826.949806\n",
       "1    862.222354\n",
       "2    889.372499\n",
       "3    912.270874\n",
       "4    943.403462\n",
       "5    998.182463\n",
       "6    975.345592\n",
       "Name: Nman, dtype: float64"
      ]
     },
     "execution_count": 9,
     "metadata": {},
     "output_type": "execute_result"
    }
   ],
   "source": [
    "import pandas as pd\n",
    "csv_inder = pd.read_csv('Nman_Inder(2019-2025).csv')\n",
    "csv_isatai = pd.read_csv('Nman_Isatai(2019-2025).csv')\n",
    "csv_atyrau = pd.read_csv('Nman_Atyrau(2019-2025).csv')\n",
    "csv_kurmangazy = pd.read_csv('Nman_Kurmangazy(2019-2025).csv')\n",
    "csv_kzylkoga = pd.read_csv('Nman_Kzylkoga(2019-2025).csv')\n",
    "csv_makat = pd.read_csv('Nman_Makat(2019-2025).csv')\n",
    "csv_makhambet = pd.read_csv('Nman_Makhambet(2019-2025).csv')\n",
    "csv_zhylyoi = pd.read_csv('Nman_Zhylyoi(2019-2025).csv')\n",
    "\n",
    "inder =  csv_inder['Nman']\n",
    "isatai =  csv_isatai['Nman']\n",
    "atyrau =  csv_atyrau['Nman']\n",
    "kurmangazy =  csv_kurmangazy['Nman'] \n",
    "kzylkoga =  csv_kzylkoga['Nman'] \n",
    "makat=  csv_makat['Nman']\n",
    "makhambet=  csv_makhambet['Nman']\n",
    "zhylyoi =  csv_zhylyoi['Nman']\n",
    "\n",
    "\n",
    "Nagr = (inder+isatai+atyrau+kurmangazy+kzylkoga+makat+makhambet+zhylyoi)\n",
    "\n",
    "makat"
   ]
  },
  {
   "cell_type": "code",
   "execution_count": null,
   "metadata": {},
   "outputs": [],
   "source": []
  }
 ],
 "metadata": {
  "kernelspec": {
   "display_name": "Python 3",
   "language": "python",
   "name": "python3"
  },
  "language_info": {
   "codemirror_mode": {
    "name": "ipython",
    "version": 3
   },
   "file_extension": ".py",
   "mimetype": "text/x-python",
   "name": "python",
   "nbconvert_exporter": "python",
   "pygments_lexer": "ipython3",
   "version": "3.7.6"
  }
 },
 "nbformat": 4,
 "nbformat_minor": 4
}
