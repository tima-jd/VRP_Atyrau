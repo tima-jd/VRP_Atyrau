{
 "cells": [
  {
   "cell_type": "code",
   "execution_count": 8,
   "metadata": {},
   "outputs": [],
   "source": [
    "import pandas as pd \n",
    "xlsx = pd.read_csv('vrp_ekz_prog.csv')\n",
    "\n",
    "csv_trd_n = pd.read_csv('Ntrd_AO(2019-2025).csv')\n",
    "csv_trd_l = pd.read_csv('ltrd_AO(2019-2025).csv')\n",
    "\n",
    "csv_gds_n = pd.read_csv('Ngds_AO(2019-2025).csv')\n",
    "csv_gds_l = pd.read_csv('lgds_AO(2019-2025).csv')\n",
    "\n",
    "Ntrd = csv_trd_n['Ntrd']\n",
    "ltrd = csv_trd_l['0']\n",
    "\n",
    "Ngds = csv_gds_n['0']\n",
    "lgds = csv_gds_l['0']\n",
    "\n",
    "Ntrd_p = Ntrd.shift(1)\n",
    "\n",
    "Ntrd_p_b =Ntrd_p.loc[xlsx.o_script.str.match(r'базовый')].reset_index(drop = True)\n",
    "Ntrd_p_o =Ntrd_p.loc[xlsx.o_script.str.match(r'оптимистичный')].reset_index(drop = True)\n",
    "Ntrd_p_p =Ntrd_p.loc[xlsx.o_script.str.match(r'пессимистичный')].reset_index(drop = True)\n",
    "Ntrd_p_b[0]= 3290583.0\n",
    "Ntrd_p_o[0]= 3290583.0\n",
    "Ntrd_p_p[0]= 3290583.0\n",
    "Ntrd_p = Ntrd_p_b.append(Ntrd_p_o).append(Ntrd_p_p).reset_index(drop = True)\n",
    "\n",
    "\n",
    "Ngds_p = Ngds.shift(1)\n",
    "Ngds_p_b =Ngds_p.loc[xlsx.o_script.str.match(r'базовый')].reset_index(drop = True)\n",
    "Ngds_p_o =Ngds_p.loc[xlsx.o_script.str.match(r'оптимистичный')].reset_index(drop = True)\n",
    "Ngds_p_p =Ngds_p.loc[xlsx.o_script.str.match(r'пессимистичный')].reset_index(drop = True)\n",
    "Ngds_p_b[0]= 7784339.8\n",
    "Ngds_p_o[0]= 7784339.8\n",
    "Ngds_p_p[0]= 7784339.8\n",
    "Ngds_p = Ngds_p_b.append(Ngds_p_o).append(Ngds_p_p).reset_index(drop = True)\n",
    "\n",
    "lgt = ((lgds*Ngds_p)+(ltrd*Ntrd_p))/(Ngds_p+Ntrd_p)\n",
    "\n",
    "lgt.to_csv(r'lgt_AO(2019-2025).csv', index=False)"
   ]
  },
  {
   "cell_type": "code",
   "execution_count": null,
   "metadata": {},
   "outputs": [],
   "source": []
  }
 ],
 "metadata": {
  "kernelspec": {
   "display_name": "Python 3",
   "language": "python",
   "name": "python3"
  },
  "language_info": {
   "codemirror_mode": {
    "name": "ipython",
    "version": 3
   },
   "file_extension": ".py",
   "mimetype": "text/x-python",
   "name": "python",
   "nbconvert_exporter": "python",
   "pygments_lexer": "ipython3",
   "version": "3.7.6"
  }
 },
 "nbformat": 4,
 "nbformat_minor": 4
}
