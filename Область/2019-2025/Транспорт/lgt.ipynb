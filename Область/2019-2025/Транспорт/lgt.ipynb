{
 "cells": [
  {
   "cell_type": "code",
   "execution_count": 9,
   "metadata": {},
   "outputs": [],
   "source": [
    "import pandas as pd \n",
    "csv_trd_n = pd.read_csv('Ntrd_AO(2019-2025).csv')\n",
    "csv_trd_l = pd.read_csv('ltrd_AO(2019-2025).csv')\n",
    "\n",
    "csv_gds_n = pd.read_csv('Ngds_AO(2019-2025).csv')\n",
    "csv_gds_l = pd.read_csv('lgds_AO(2019-2025).csv')\n",
    "\n",
    "Ntrd = csv_trd_n['Ntrd']\n",
    "ltrd = csv_trd_l['0']\n",
    "\n",
    "Ngds = csv_gds_n['0']\n",
    "lgds = csv_gds_l['0']\n",
    "\n",
    "lgt = ((lgds*Ngds.shift(1))+(ltrd*Ntrd.shift(1)))/(Ngds.shift(1)+Ntrd.shift(1))\n",
    "lgt[0] = 102.5\n",
    "\n",
    "lgt.to_csv(r'lgt_AO(2019-2025).csv',index = False)\n"
   ]
  },
  {
   "cell_type": "code",
   "execution_count": null,
   "metadata": {},
   "outputs": [],
   "source": []
  }
 ],
 "metadata": {
  "kernelspec": {
   "display_name": "Python 3",
   "language": "python",
   "name": "python3"
  },
  "language_info": {
   "codemirror_mode": {
    "name": "ipython",
    "version": 3
   },
   "file_extension": ".py",
   "mimetype": "text/x-python",
   "name": "python",
   "nbconvert_exporter": "python",
   "pygments_lexer": "ipython3",
   "version": "3.7.6"
  }
 },
 "nbformat": 4,
 "nbformat_minor": 4
}
