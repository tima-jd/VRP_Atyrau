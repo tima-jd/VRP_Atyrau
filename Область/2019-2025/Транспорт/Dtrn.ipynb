{
 "cells": [
  {
   "cell_type": "code",
   "execution_count": 1,
   "metadata": {},
   "outputs": [
    {
     "data": {
      "text/plain": [
       "0     106.236590\n",
       "1     106.236590\n",
       "2     106.236590\n",
       "3     105.197158\n",
       "4     105.197158\n",
       "5     105.197158\n",
       "6     105.197158\n",
       "7     106.236590\n",
       "8     105.841606\n",
       "9     105.841606\n",
       "10    104.802174\n",
       "11    104.802174\n",
       "12    104.802174\n",
       "13    104.802174\n",
       "14    107.837315\n",
       "15    107.837315\n",
       "16    106.797883\n",
       "17    106.797883\n",
       "18    106.797883\n",
       "19    106.797883\n",
       "20    106.236590\n",
       "Name: o_inflation, dtype: float64"
      ]
     },
     "execution_count": 1,
     "metadata": {},
     "output_type": "execute_result"
    }
   ],
   "source": [
    "import pandas as pd\n",
    "csv = pd.read_csv('vrp_ekz_prog.csv')\n",
    "inf = csv['o_inflation']\n",
    "\n",
    "Dtrn = inf*1.039431643742123+100\n",
    "Dtrn"
   ]
  },
  {
   "cell_type": "code",
   "execution_count": null,
   "metadata": {},
   "outputs": [],
   "source": []
  }
 ],
 "metadata": {
  "kernelspec": {
   "display_name": "Python 3",
   "language": "python",
   "name": "python3"
  },
  "language_info": {
   "codemirror_mode": {
    "name": "ipython",
    "version": 3
   },
   "file_extension": ".py",
   "mimetype": "text/x-python",
   "name": "python",
   "nbconvert_exporter": "python",
   "pygments_lexer": "ipython3",
   "version": "3.7.6"
  }
 },
 "nbformat": 4,
 "nbformat_minor": 4
}
