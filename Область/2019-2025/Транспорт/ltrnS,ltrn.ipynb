{
 "cells": [
  {
   "cell_type": "code",
   "execution_count": 1,
   "metadata": {},
   "outputs": [
    {
     "data": {
      "text/plain": [
       "0     103.644\n",
       "1     101.593\n",
       "2     100.501\n",
       "3     100.371\n",
       "4     100.992\n",
       "5     98.9877\n",
       "6     99.2233\n",
       "7         NaN\n",
       "8         NaN\n",
       "9         NaN\n",
       "10        NaN\n",
       "11        NaN\n",
       "12        NaN\n",
       "13        NaN\n",
       "14        NaN\n",
       "15        NaN\n",
       "16        NaN\n",
       "17        NaN\n",
       "18        NaN\n",
       "19        NaN\n",
       "20        NaN\n",
       "Name: c1, dtype: object"
      ]
     },
     "execution_count": 1,
     "metadata": {},
     "output_type": "execute_result"
    }
   ],
   "source": [
    "import pandas as pd \n",
    "lgt_csv = pd.read_csv('lgt_AO(2019-2025).csv')\n",
    "lgt = lgt_csv['0'] \n",
    "\n",
    "i=0\n",
    "c=100\n",
    "\n",
    "newdf = pd.DataFrame(columns=['c1'], index=range(21))\n",
    "while i<=20:\n",
    "    c = (c*((lgt[i]-100) * 1.4575111432282974+100))/100\n",
    "    newdf.loc[i].c1 = c\n",
    "    i=i+1 \n",
    "ltrnS=newdf['c1']\n",
    "l = newdf['c1']\n",
    "trn_l = l.shift(1)\n",
    "trn_l[0] = 100\n",
    "\n",
    "ltrn = ltrnS/trn_l*100\n",
    "\n",
    "ltrn"
   ]
  },
  {
   "cell_type": "code",
   "execution_count": null,
   "metadata": {},
   "outputs": [],
   "source": []
  }
 ],
 "metadata": {
  "kernelspec": {
   "display_name": "Python 3",
   "language": "python",
   "name": "python3"
  },
  "language_info": {
   "codemirror_mode": {
    "name": "ipython",
    "version": 3
   },
   "file_extension": ".py",
   "mimetype": "text/x-python",
   "name": "python",
   "nbconvert_exporter": "python",
   "pygments_lexer": "ipython3",
   "version": "3.7.6"
  }
 },
 "nbformat": 4,
 "nbformat_minor": 4
}
