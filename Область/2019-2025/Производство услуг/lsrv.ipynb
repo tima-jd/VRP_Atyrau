{
 "cells": [
  {
   "cell_type": "code",
   "execution_count": 14,
   "metadata": {},
   "outputs": [],
   "source": [
    "import pandas as pd\n",
    "\n",
    "csv_Nimt = pd.read_csv('Nimt_AO(2019-2025).csv')\n",
    "csv_Noth = pd.read_csv('Noth_AO(2019-2025).csv')\n",
    "csv_Ntrn = pd.read_csv('Ntrn_AO(2019-2025).csv')\n",
    "csv_Ntrd = pd.read_csv('Ntrd_AO(2019-2025).csv')\n",
    "csv_Nest = pd.read_csv('Nest_AO(2019-2025).csv')\n",
    "\n",
    "csv_limt = pd.read_csv('limt_AO(2019-2025).csv')\n",
    "csv_loth = pd.read_csv('loth_AO(2019-2025).csv')\n",
    "csv_ltrn = pd.read_csv('ltrn_AO(2019-2025).csv')\n",
    "csv_ltrd = pd.read_csv('ltrd_AO(2019-2025).csv')\n",
    "csv_lest = pd.read_csv('lest_AO(2019-2025).csv')\n",
    "\n",
    "Nimt = csv_Nimt['c1']\n",
    "Noth = csv_Noth['c1']\n",
    "Ntrn = csv_Ntrn['c1']\n",
    "Ntrd = csv_Ntrd['Ntrd']\n",
    "Nest = csv_Nest['c1']\n",
    "\n",
    "limt = csv_limt['c1']\n",
    "loth = csv_loth['c1']\n",
    "ltrn = csv_ltrn['c1']\n",
    "ltrd = csv_ltrd['0']\n",
    "lest = csv_lest['c1']\n",
    "\n",
    "Nsrv = Nimt+Noth+Ntrn+Ntrd+Nest\n",
    "\n",
    "lsrv = ((ltrd*Ntrd.shift(1))+(ltrn*Ntrn.shift(1))+(limt*Nimt.shift(1)) + (lest*Nest.shift(1)) + (loth*Noth.shift(1)))/Nsrv.shift(1)\n",
    "lsrv[0] = 103.9\n",
    "lsrv.to_csv(r'lsrv_AO(2019-2025).csv',index = False)"
   ]
  },
  {
   "cell_type": "code",
   "execution_count": null,
   "metadata": {},
   "outputs": [],
   "source": []
  }
 ],
 "metadata": {
  "kernelspec": {
   "display_name": "Python 3",
   "language": "python",
   "name": "python3"
  },
  "language_info": {
   "codemirror_mode": {
    "name": "ipython",
    "version": 3
   },
   "file_extension": ".py",
   "mimetype": "text/x-python",
   "name": "python",
   "nbconvert_exporter": "python",
   "pygments_lexer": "ipython3",
   "version": "3.7.6"
  }
 },
 "nbformat": 4,
 "nbformat_minor": 4
}
