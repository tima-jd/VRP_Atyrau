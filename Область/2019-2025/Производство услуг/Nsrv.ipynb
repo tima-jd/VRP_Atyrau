{
 "cells": [
  {
   "cell_type": "code",
   "execution_count": 3,
   "metadata": {},
   "outputs": [
    {
     "ename": "NameError",
     "evalue": "name 'xlsx' is not defined",
     "output_type": "error",
     "traceback": [
      "\u001b[1;31m---------------------------------------------------------------------------\u001b[0m",
      "\u001b[1;31mNameError\u001b[0m                                 Traceback (most recent call last)",
      "\u001b[1;32m<ipython-input-3-b2c9ed1f6865>\u001b[0m in \u001b[0;36m<module>\u001b[1;34m\u001b[0m\n\u001b[0;32m     15\u001b[0m \u001b[0mNsrv\u001b[0m \u001b[1;33m=\u001b[0m \u001b[0mNimt\u001b[0m\u001b[1;33m+\u001b[0m\u001b[0mNoth\u001b[0m\u001b[1;33m+\u001b[0m\u001b[0mNtrn\u001b[0m\u001b[1;33m+\u001b[0m\u001b[0mNtrd\u001b[0m\u001b[1;33m+\u001b[0m\u001b[0mNest\u001b[0m\u001b[1;33m\u001b[0m\u001b[1;33m\u001b[0m\u001b[0m\n\u001b[0;32m     16\u001b[0m \u001b[1;33m\u001b[0m\u001b[0m\n\u001b[1;32m---> 17\u001b[1;33m \u001b[0mNsrv_b\u001b[0m \u001b[1;33m=\u001b[0m\u001b[0mNsrv\u001b[0m\u001b[1;33m.\u001b[0m\u001b[0mloc\u001b[0m\u001b[1;33m[\u001b[0m\u001b[0mxlsx\u001b[0m\u001b[1;33m.\u001b[0m\u001b[0mo_script\u001b[0m\u001b[1;33m.\u001b[0m\u001b[0mstr\u001b[0m\u001b[1;33m.\u001b[0m\u001b[0mmatch\u001b[0m\u001b[1;33m(\u001b[0m\u001b[1;34mr'базовый'\u001b[0m\u001b[1;33m)\u001b[0m\u001b[1;33m]\u001b[0m\u001b[1;33m.\u001b[0m\u001b[0mreset_index\u001b[0m\u001b[1;33m(\u001b[0m\u001b[0mdrop\u001b[0m \u001b[1;33m=\u001b[0m \u001b[1;32mTrue\u001b[0m\u001b[1;33m)\u001b[0m\u001b[1;33m\u001b[0m\u001b[1;33m\u001b[0m\u001b[0m\n\u001b[0m\u001b[0;32m     18\u001b[0m \u001b[0mNsrv_o\u001b[0m \u001b[1;33m=\u001b[0m\u001b[0mNsrv\u001b[0m\u001b[1;33m.\u001b[0m\u001b[0mloc\u001b[0m\u001b[1;33m[\u001b[0m\u001b[0mxlsx\u001b[0m\u001b[1;33m.\u001b[0m\u001b[0mo_script\u001b[0m\u001b[1;33m.\u001b[0m\u001b[0mstr\u001b[0m\u001b[1;33m.\u001b[0m\u001b[0mmatch\u001b[0m\u001b[1;33m(\u001b[0m\u001b[1;34mr'оптимистичный'\u001b[0m\u001b[1;33m)\u001b[0m\u001b[1;33m]\u001b[0m\u001b[1;33m.\u001b[0m\u001b[0mreset_index\u001b[0m\u001b[1;33m(\u001b[0m\u001b[0mdrop\u001b[0m \u001b[1;33m=\u001b[0m \u001b[1;32mTrue\u001b[0m\u001b[1;33m)\u001b[0m\u001b[1;33m\u001b[0m\u001b[1;33m\u001b[0m\u001b[0m\n\u001b[0;32m     19\u001b[0m \u001b[0mNsrv_p\u001b[0m \u001b[1;33m=\u001b[0m\u001b[0mNsrv\u001b[0m\u001b[1;33m.\u001b[0m\u001b[0mloc\u001b[0m\u001b[1;33m[\u001b[0m\u001b[0mxlsx\u001b[0m\u001b[1;33m.\u001b[0m\u001b[0mo_script\u001b[0m\u001b[1;33m.\u001b[0m\u001b[0mstr\u001b[0m\u001b[1;33m.\u001b[0m\u001b[0mmatch\u001b[0m\u001b[1;33m(\u001b[0m\u001b[1;34mr'пессимистичный'\u001b[0m\u001b[1;33m)\u001b[0m\u001b[1;33m]\u001b[0m\u001b[1;33m.\u001b[0m\u001b[0mreset_index\u001b[0m\u001b[1;33m(\u001b[0m\u001b[0mdrop\u001b[0m \u001b[1;33m=\u001b[0m \u001b[1;32mTrue\u001b[0m\u001b[1;33m)\u001b[0m\u001b[1;33m\u001b[0m\u001b[1;33m\u001b[0m\u001b[0m\n",
      "\u001b[1;31mNameError\u001b[0m: name 'xlsx' is not defined"
     ]
    }
   ],
   "source": [
    "import pandas as pd\n",
    "\n",
    "csv_Nimt = pd.read_csv('Nimt_AO(2019-2025).csv')\n",
    "csv_Noth = pd.read_csv('Noth_AO(2019-2025).csv')\n",
    "csv_Ntrn = pd.read_csv('Ntrn_AO(2019-2025).csv')\n",
    "csv_Ntrd = pd.read_csv('Ntrd_AO(2019-2025).csv')\n",
    "csv_Nest = pd.read_csv('Nest_AO(2019-2025).csv')\n",
    "\n",
    "Nimt = csv_Nimt['c1']\n",
    "Noth = csv_Noth['c1']\n",
    "Ntrn = csv_Ntrn['c1']\n",
    "Ntrd = csv_Ntrd['Ntrd']\n",
    "Nest = csv_Nest['c1']\n",
    "\n",
    "Nsrv = Nimt+Noth+Ntrn+Ntrd+Nest\n",
    "\n",
    "Nsrv_b =Nsrv.loc[xlsx.o_script.str.match(r'базовый')].reset_index(drop = True)\n",
    "Nsrv_o =Nsrv.loc[xlsx.o_script.str.match(r'оптимистичный')].reset_index(drop = True)\n",
    "Nsrv_p =Nsrv.loc[xlsx.o_script.str.match(r'пессимистичный')].reset_index(drop = True)\n",
    "Nsrv_b[0]= 4037519.2\n",
    "Nsrv_o[0]= 4037519.2\n",
    "Nsrv_p[0]= 4037519.2\n",
    "Nsrv = Nsrv_b.append(trn_l_o).append(Nsrv_p).reset_index(drop = True)\n",
    "\n",
    "\n",
    "Noth_b =Noth.loc[xlsx.o_script.str.match(r'базовый')].reset_index(drop = True)\n",
    "Noth_o =Noth.loc[xlsx.o_script.str.match(r'оптимистичный')].reset_index(drop = True)\n",
    "Noth_p =Noth.loc[xlsx.o_script.str.match(r'пессимистичный')].reset_index(drop = True)\n",
    "Noth_b[0]= 25547.5\n",
    "Noth_o[0]= 25547.5\n",
    "Noth_p[0]= 25547.5\n",
    "Noth = Noth_b.append(Noth_o).append(Noth_p).reset_index(drop = True)\n",
    "\n",
    "\n",
    "\n",
    "Nsrv.to_csv(r'Nsrv_AO(2019-2025).csv',index = False)"
   ]
  },
  {
   "cell_type": "code",
   "execution_count": null,
   "metadata": {},
   "outputs": [],
   "source": []
  }
 ],
 "metadata": {
  "kernelspec": {
   "display_name": "Python 3",
   "language": "python",
   "name": "python3"
  },
  "language_info": {
   "codemirror_mode": {
    "name": "ipython",
    "version": 3
   },
   "file_extension": ".py",
   "mimetype": "text/x-python",
   "name": "python",
   "nbconvert_exporter": "python",
   "pygments_lexer": "ipython3",
   "version": "3.7.6"
  }
 },
 "nbformat": 4,
 "nbformat_minor": 4
}
