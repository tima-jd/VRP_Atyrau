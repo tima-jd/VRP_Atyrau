{
 "cells": [
  {
   "cell_type": "code",
   "execution_count": 9,
   "metadata": {},
   "outputs": [],
   "source": [
    "import pandas as pd\n",
    "\n",
    "xlsx = pd.read_csv('vrp_ekz_prog.csv')\n",
    "\n",
    "csv_Nimt = pd.read_csv('Nimt_AO(2019-2025).csv')\n",
    "csv_Noth = pd.read_csv('Noth_AO(2019-2025).csv')\n",
    "csv_Ntrn = pd.read_csv('Ntrn_AO(2019-2025).csv')\n",
    "csv_Ntrd = pd.read_csv('Ntrd_AO(2019-2025).csv')\n",
    "csv_Nest = pd.read_csv('Nest_AO(2019-2025).csv')\n",
    "\n",
    "Nimt = csv_Nimt['c1']\n",
    "Noth = csv_Noth['c1']\n",
    "Ntrn = csv_Ntrn['c1']\n",
    "Ntrd = csv_Ntrd['Ntrd']\n",
    "Nest = csv_Nest['c1']\n",
    "\n",
    "Nsrv = Nimt+Noth+Ntrn+Ntrd+Nest\n",
    "\n",
    "Nsrv_b =Nsrv.loc[xlsx.o_script.str.match(r'базовый')].reset_index(drop = True)\n",
    "Nsrv_o =Nsrv.loc[xlsx.o_script.str.match(r'оптимистичный')].reset_index(drop = True)\n",
    "Nsrv_p =Nsrv.loc[xlsx.o_script.str.match(r'пессимистичный')].reset_index(drop = True)\n",
    "\n",
    "Nsrv = Nsrv_b.append(Nsrv_o).append(Nsrv_p).reset_index(drop = True)\n",
    "\n",
    "Nsrv.to_csv(r'Nsrv_AO(2019-2025).csv')"
   ]
  },
  {
   "cell_type": "code",
   "execution_count": null,
   "metadata": {},
   "outputs": [],
   "source": []
  }
 ],
 "metadata": {
  "kernelspec": {
   "display_name": "Python 3",
   "language": "python",
   "name": "python3"
  },
  "language_info": {
   "codemirror_mode": {
    "name": "ipython",
    "version": 3
   },
   "file_extension": ".py",
   "mimetype": "text/x-python",
   "name": "python",
   "nbconvert_exporter": "python",
   "pygments_lexer": "ipython3",
   "version": "3.7.6"
  }
 },
 "nbformat": 4,
 "nbformat_minor": 4
}
