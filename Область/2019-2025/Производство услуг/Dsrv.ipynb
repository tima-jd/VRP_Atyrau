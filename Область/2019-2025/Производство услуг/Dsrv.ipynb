{
 "cells": [
  {
   "cell_type": "code",
   "execution_count": 3,
   "metadata": {},
   "outputs": [
    {
     "data": {
      "text/plain": [
       "0     105.400000\n",
       "1     119.024815\n",
       "2     110.687288\n",
       "3     110.430877\n",
       "4     110.493685\n",
       "5     109.810248\n",
       "6     110.510359\n",
       "7            NaN\n",
       "8            NaN\n",
       "9            NaN\n",
       "10           NaN\n",
       "11           NaN\n",
       "12           NaN\n",
       "13           NaN\n",
       "14           NaN\n",
       "15           NaN\n",
       "16           NaN\n",
       "17           NaN\n",
       "18           NaN\n",
       "19           NaN\n",
       "20           NaN\n",
       "Name: 0, dtype: float64"
      ]
     },
     "execution_count": 3,
     "metadata": {},
     "output_type": "execute_result"
    }
   ],
   "source": [
    "import pandas as pd\n",
    "\n",
    "csv_Nsrv = pd.read_csv('Nsrv_AO(2019-2025).csv')\n",
    "csv_lsrv = pd.read_csv('lsrv_AO(2019-2025).csv')\n",
    "\n",
    "Nsrv = csv_Nsrv['0']\n",
    "lsrv = csv_lsrv['0']\n",
    "\n",
    "Dsrv = Nsrv/Nsrv.shift(1)/lsrv * 10000\n",
    "Dsrv[0] = 105.4\n",
    "Dsrv"
   ]
  },
  {
   "cell_type": "code",
   "execution_count": null,
   "metadata": {},
   "outputs": [],
   "source": []
  }
 ],
 "metadata": {
  "kernelspec": {
   "display_name": "Python 3",
   "language": "python",
   "name": "python3"
  },
  "language_info": {
   "codemirror_mode": {
    "name": "ipython",
    "version": 3
   },
   "file_extension": ".py",
   "mimetype": "text/x-python",
   "name": "python",
   "nbconvert_exporter": "python",
   "pygments_lexer": "ipython3",
   "version": "3.7.6"
  }
 },
 "nbformat": 4,
 "nbformat_minor": 4
}
