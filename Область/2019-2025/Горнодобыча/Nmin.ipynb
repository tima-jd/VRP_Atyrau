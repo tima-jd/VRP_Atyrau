{
 "cells": [
  {
   "cell_type": "code",
   "execution_count": 13,
   "metadata": {},
   "outputs": [
    {
     "data": {
      "text/plain": [
       "0     296003.047637\n",
       "1     346186.184000\n",
       "2     345496.869252\n",
       "3     347360.610850\n",
       "4     347360.610850\n",
       "5     341775.259387\n",
       "6     341775.259387\n",
       "7     296719.581750\n",
       "8     419553.388542\n",
       "9     418285.432967\n",
       "10    426977.604762\n",
       "11    472684.542124\n",
       "12    466476.430805\n",
       "13    470791.610827\n",
       "14    292599.170288\n",
       "15    292174.352412\n",
       "16    291403.320886\n",
       "17    274659.367525\n",
       "18    269716.983261\n",
       "19    268085.146693\n",
       "20    300719.839390\n",
       "Name: c1, dtype: float64"
      ]
     },
     "execution_count": 13,
     "metadata": {},
     "output_type": "execute_result"
    }
   ],
   "source": [
    "import pandas as pd\n",
    "csv_inder = pd.read_csv('Nmin_Inder(2019-2025).csv')\n",
    "csv_isatai = pd.read_csv('Nmin_Isatai(2019-2025).csv')\n",
    "csv_atyrau = pd.read_csv('Nmin_Atyrau(2019-2025).csv')\n",
    "csv_kurmangazy = pd.read_csv('Nmin_Kurmangazy(2019-2025).csv')\n",
    "csv_kzylkoga = pd.read_csv('Nmin_Kzylkoga(2019-2025).csv')\n",
    "csv_makat = pd.read_csv('Nmin_Makat(2019-2025).csv')\n",
    "csv_makhambet = pd.read_csv('Nmin_Makhambet(2019-2025).csv')\n",
    "csv_zhylyoi = pd.read_csv('Nmin_Zhylyoi(2019-2025).csv')\n",
    "\n",
    "inder =  csv_inder['c1']\n",
    "isatai =  csv_isatai['c1']\n",
    "atyrau =  csv_atyrau['c1']\n",
    "kurmangazy =  csv_kurmangazy['c1'] \n",
    "kzylkoga =  csv_kzylkoga['c1'] \n",
    "makat=  csv_makat['c1']\n",
    "makhambet=  csv_makhambet['c1']\n",
    "zhylyoi =  csv_zhylyoi['c1']\n",
    "\n",
    "\n",
    "Nmin = (inder+isatai+atyrau+kurmangazy+kzylkoga+makat+makhambet+zhylyoi)\n",
    "\n",
    "atyrau"
   ]
  },
  {
   "cell_type": "code",
   "execution_count": null,
   "metadata": {},
   "outputs": [],
   "source": []
  }
 ],
 "metadata": {
  "kernelspec": {
   "display_name": "Python 3",
   "language": "python",
   "name": "python3"
  },
  "language_info": {
   "codemirror_mode": {
    "name": "ipython",
    "version": 3
   },
   "file_extension": ".py",
   "mimetype": "text/x-python",
   "name": "python",
   "nbconvert_exporter": "python",
   "pygments_lexer": "ipython3",
   "version": "3.7.6"
  }
 },
 "nbformat": 4,
 "nbformat_minor": 4
}
