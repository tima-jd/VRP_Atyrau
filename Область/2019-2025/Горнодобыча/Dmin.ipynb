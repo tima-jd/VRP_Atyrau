{
 "cells": [
  {
   "cell_type": "code",
   "execution_count": 2,
   "metadata": {},
   "outputs": [
    {
     "data": {
      "text/plain": [
       "0      98.592019\n",
       "1     104.015371\n",
       "2      99.989350\n",
       "3      99.993562\n",
       "4      99.880086\n",
       "5      99.967580\n",
       "6      99.997762\n",
       "7      96.056794\n",
       "8     123.255216\n",
       "9      99.989403\n",
       "10     99.992646\n",
       "11     99.844741\n",
       "12     99.973075\n",
       "13     99.997064\n",
       "14     70.881685\n",
       "15     99.989321\n",
       "16     99.993885\n",
       "17     99.895794\n",
       "18     99.963151\n",
       "19     99.998085\n",
       "20    113.877664\n",
       "dtype: float64"
      ]
     },
     "execution_count": 2,
     "metadata": {},
     "output_type": "execute_result"
    }
   ],
   "source": [
    "import pandas as pd\n",
    "csv_nagr = pd.read_csv('Nmin_AO(2019-2025).csv')\n",
    "csv_lagr = pd.read_csv('lmin_AO(2019-2025).csv')\n",
    "Nagr = csv_nagr['Nmin']\n",
    "lagr = csv_lagr['0']\n",
    "csv = pd.read_csv('vrp_ekz_fact.csv')\n",
    "Nagr_f = csv['o_prod_mining']\n",
    "\n",
    "Nagr_p  =   Nagr.shift(1)\n",
    "Nagr_p[0] = Nagr_f[18]\n",
    "Nagr_p[7] = Nagr_f[18]\n",
    "Nagr_p[14] =Nagr_f[18]\n",
    "\n",
    "Dagr = (Nagr/Nagr_p/lagr) * 10000\n",
    "\n",
    "Dagr"
   ]
  },
  {
   "cell_type": "code",
   "execution_count": null,
   "metadata": {},
   "outputs": [],
   "source": []
  }
 ],
 "metadata": {
  "kernelspec": {
   "display_name": "Python 3",
   "language": "python",
   "name": "python3"
  },
  "language_info": {
   "codemirror_mode": {
    "name": "ipython",
    "version": 3
   },
   "file_extension": ".py",
   "mimetype": "text/x-python",
   "name": "python",
   "nbconvert_exporter": "python",
   "pygments_lexer": "ipython3",
   "version": "3.7.6"
  }
 },
 "nbformat": 4,
 "nbformat_minor": 4
}
