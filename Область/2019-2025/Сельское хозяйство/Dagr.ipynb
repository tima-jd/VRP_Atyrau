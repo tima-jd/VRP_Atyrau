{
 "cells": [
  {
   "cell_type": "code",
   "execution_count": 5,
   "metadata": {},
   "outputs": [
    {
     "data": {
      "text/plain": [
       "0     106.281228\n",
       "1     106.233527\n",
       "2     106.220352\n",
       "3     105.185284\n",
       "4     105.196634\n",
       "5     105.179325\n",
       "6     105.191380\n",
       "7     103.776649\n",
       "8     105.836746\n",
       "9     105.823723\n",
       "10    104.787795\n",
       "11    104.800014\n",
       "12    104.781503\n",
       "13    104.794657\n",
       "14    106.251332\n",
       "15    107.834253\n",
       "16    106.798215\n",
       "17    106.811562\n",
       "18    106.792011\n",
       "19    106.806459\n",
       "20    103.740632\n",
       "Name: c1, dtype: float64"
      ]
     },
     "execution_count": 5,
     "metadata": {},
     "output_type": "execute_result"
    }
   ],
   "source": [
    "import pandas as pd\n",
    "csv_nagr = pd.read_csv('Nagr_AO(2019-2025).csv')\n",
    "csv_lagr = pd.read_csv('lagr_AO(2019-2025).csv')\n",
    "Nagr = csv_nagr['c1']\n",
    "lagr = csv_lagr['c1']\n",
    "\n",
    "Dagr = (Nagr/Nagr.shift(1)/lagr) * 10000\n",
    "Dagr[0]=106.2812279\n",
    "\n",
    "Dagr"
   ]
  },
  {
   "cell_type": "code",
   "execution_count": null,
   "metadata": {},
   "outputs": [],
   "source": []
  }
 ],
 "metadata": {
  "kernelspec": {
   "display_name": "Python 3",
   "language": "python",
   "name": "python3"
  },
  "language_info": {
   "codemirror_mode": {
    "name": "ipython",
    "version": 3
   },
   "file_extension": ".py",
   "mimetype": "text/x-python",
   "name": "python",
   "nbconvert_exporter": "python",
   "pygments_lexer": "ipython3",
   "version": "3.7.6"
  }
 },
 "nbformat": 4,
 "nbformat_minor": 4
}
