{
 "cells": [
  {
   "cell_type": "code",
   "execution_count": 13,
   "metadata": {},
   "outputs": [
    {
     "data": {
      "text/plain": [
       "0     103.414066\n",
       "1     103.841427\n",
       "2     104.254016\n",
       "3     103.593411\n",
       "4     103.905565\n",
       "5     104.091216\n",
       "6     104.390551\n",
       "7     103.414066\n",
       "8     103.452590\n",
       "9     103.863470\n",
       "10    103.201342\n",
       "11    103.512216\n",
       "12    103.697084\n",
       "13    103.995242\n",
       "14    104.971478\n",
       "15    105.483814\n",
       "16    104.887418\n",
       "17    105.252921\n",
       "18    105.478535\n",
       "19    105.829873\n",
       "20    103.196193\n",
       "dtype: float64"
      ]
     },
     "execution_count": 13,
     "metadata": {},
     "output_type": "execute_result"
    }
   ],
   "source": [
    "import pandas as pd\n",
    "csv_nagr = pd.read_csv('Nagr_AO(2019-2025).csv')\n",
    "csv_lagr = pd.read_csv('lagr_AO(2019-2025).csv')\n",
    "\n",
    "Nagr = csv_nagr['Nagr']\n",
    "lagr = csv_lagr['0']\n",
    "\n",
    "csv = pd.read_csv('vrp_ekz_fact.csv')\n",
    "Nagr_f = csv['o_prod_agro']\n",
    "\n",
    "Nagr_p  =   Nagr.shift(1)\n",
    "Nagr_p[0] = Nagr_f[18]\n",
    "Nagr_p[7] = Nagr_f[18]\n",
    "Nagr_p[14] =Nagr_f[18]\n",
    "\n",
    "Dagr = (Nagr/Nagr_p/lagr) * 10000\n",
    "\n",
    "Dagr"
   ]
  },
  {
   "cell_type": "code",
   "execution_count": null,
   "metadata": {},
   "outputs": [],
   "source": []
  }
 ],
 "metadata": {
  "kernelspec": {
   "display_name": "Python 3",
   "language": "python",
   "name": "python3"
  },
  "language_info": {
   "codemirror_mode": {
    "name": "ipython",
    "version": 3
   },
   "file_extension": ".py",
   "mimetype": "text/x-python",
   "name": "python",
   "nbconvert_exporter": "python",
   "pygments_lexer": "ipython3",
   "version": "3.7.6"
  }
 },
 "nbformat": 4,
 "nbformat_minor": 4
}
