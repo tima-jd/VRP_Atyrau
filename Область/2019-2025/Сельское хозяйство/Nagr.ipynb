{
 "cells": [
  {
   "cell_type": "code",
   "execution_count": 4,
   "metadata": {},
   "outputs": [
    {
     "data": {
      "text/plain": [
       "0      6548.821014\n",
       "1      7212.003268\n",
       "2      7946.514920\n",
       "3      8685.507349\n",
       "4      9515.978112\n",
       "5     10454.692829\n",
       "6     11522.236393\n",
       "7      9818.505237\n",
       "8     10772.333729\n",
       "9     11825.029076\n",
       "10    12875.855922\n",
       "11    14053.670048\n",
       "12    15381.652583\n",
       "13    16888.221016\n",
       "14    15072.101724\n",
       "15    16859.006712\n",
       "16    18709.077903\n",
       "17    20811.938631\n",
       "18    23215.192561\n",
       "19    25977.640656\n",
       "20    22136.466578\n",
       "Name: c1, dtype: float64"
      ]
     },
     "execution_count": 4,
     "metadata": {},
     "output_type": "execute_result"
    }
   ],
   "source": [
    "import pandas as pd\n",
    "csv_inder = pd.read_csv('Nagr_Inder(2019-2025).csv')\n",
    "csv_isatai = pd.read_csv('Nagr_Isatai(2019-2025).csv')\n",
    "csv_atyrau = pd.read_csv('Nagr_Atyrau(2019-2025).csv')\n",
    "csv_kurmangazy = pd.read_csv('Nagr_Kurmangazy(2019-2025).csv')\n",
    "csv_kzylkoga = pd.read_csv('Nagr_Kzylkoga(2019-2025).csv')\n",
    "csv_makat = pd.read_csv('Nagr_Makat(2019-2025).csv')\n",
    "csv_makhambet = pd.read_csv('Nagr_Makhambet(2019-2025).csv')\n",
    "csv_zhylyoi =     pd.read_csv('Nagr_Zhylyoi(2019-2025).csv')\n",
    "\n",
    "inder =  csv_inder['c1']\n",
    "isatai =  csv_isatai['c1']\n",
    "atyrau =  csv_atyrau['c1']\n",
    "kurmangazy =  csv_kurmangazy['c1'] \n",
    "kzylkoga =  csv_kzylkoga['c1'] \n",
    "makat=  csv_makat['c1']\n",
    "makhambet=  csv_makhambet['c1']\n",
    "zhylyoi =  csv_zhylyoi['c1']\n",
    "\n",
    "\n",
    "Nagr = (inder+isatai+atyrau+kurmangazy+kzylkoga+makat+makhambet+zhylyoi)\n",
    "\n",
    "zhylyoi"
   ]
  },
  {
   "cell_type": "code",
   "execution_count": null,
   "metadata": {},
   "outputs": [],
   "source": []
  }
 ],
 "metadata": {
  "kernelspec": {
   "display_name": "Python 3",
   "language": "python",
   "name": "python3"
  },
  "language_info": {
   "codemirror_mode": {
    "name": "ipython",
    "version": 3
   },
   "file_extension": ".py",
   "mimetype": "text/x-python",
   "name": "python",
   "nbconvert_exporter": "python",
   "pygments_lexer": "ipython3",
   "version": "3.7.6"
  }
 },
 "nbformat": 4,
 "nbformat_minor": 4
}
