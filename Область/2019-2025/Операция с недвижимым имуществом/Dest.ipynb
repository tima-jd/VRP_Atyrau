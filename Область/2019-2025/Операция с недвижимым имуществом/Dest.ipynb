{
 "cells": [
  {
   "cell_type": "code",
   "execution_count": 1,
   "metadata": {},
   "outputs": [
    {
     "data": {
      "text/plain": [
       "0     105.877948\n",
       "1     105.877948\n",
       "2     105.877948\n",
       "3     104.898290\n",
       "4     104.898290\n",
       "5     104.898290\n",
       "6     104.898290\n",
       "7     105.877948\n",
       "8     105.505678\n",
       "9     105.505678\n",
       "10    104.526020\n",
       "11    104.526020\n",
       "12    104.526020\n",
       "13    104.526020\n",
       "14    107.386621\n",
       "15    107.386621\n",
       "16    106.406963\n",
       "17    106.406963\n",
       "18    106.406963\n",
       "19    106.406963\n",
       "20    105.877948\n",
       "Name: o_inflation, dtype: float64"
      ]
     },
     "execution_count": 1,
     "metadata": {},
     "output_type": "execute_result"
    }
   ],
   "source": [
    "import pandas as pd\n",
    "csv = pd.read_csv('vrp_ekz_prog.csv')\n",
    "inf = csv['o_inflation']\n",
    "\n",
    "Dest = inf*0.9796579866165038+100\n",
    "Dest"
   ]
  },
  {
   "cell_type": "code",
   "execution_count": null,
   "metadata": {},
   "outputs": [],
   "source": []
  }
 ],
 "metadata": {
  "kernelspec": {
   "display_name": "Python 3",
   "language": "python",
   "name": "python3"
  },
  "language_info": {
   "codemirror_mode": {
    "name": "ipython",
    "version": 3
   },
   "file_extension": ".py",
   "mimetype": "text/x-python",
   "name": "python",
   "nbconvert_exporter": "python",
   "pygments_lexer": "ipython3",
   "version": "3.7.6"
  }
 },
 "nbformat": 4,
 "nbformat_minor": 4
}
