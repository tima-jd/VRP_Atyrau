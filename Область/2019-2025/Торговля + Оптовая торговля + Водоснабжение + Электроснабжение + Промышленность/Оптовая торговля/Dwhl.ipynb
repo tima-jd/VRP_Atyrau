{
 "cells": [
  {
   "cell_type": "code",
   "execution_count": 1,
   "metadata": {},
   "outputs": [],
   "source": [
    "import pandas as pd\n",
    "csv_nagr = pd.read_csv('Nwhl_AO(2019-2025).csv')\n",
    "csv_lagr = pd.read_csv('lwhl_AO(2019-2025).csv')\n",
    "Nagr = csv_nagr['Nwhl']\n",
    "lagr = csv_lagr['0']\n",
    "\n",
    "\n",
    "Dwhl = (Nagr/Nagr.shift(1)/lagr) * 10000\n",
    "Dwhl[0]=105.0643531\n",
    "\n",
    "\n",
    "Dwhl.to_csv((r'Dwhl_AO(2019-2025).csv'),index = False)"
   ]
  },
  {
   "cell_type": "code",
   "execution_count": null,
   "metadata": {},
   "outputs": [],
   "source": []
  }
 ],
 "metadata": {
  "kernelspec": {
   "display_name": "Python 3",
   "language": "python",
   "name": "python3"
  },
  "language_info": {
   "codemirror_mode": {
    "name": "ipython",
    "version": 3
   },
   "file_extension": ".py",
   "mimetype": "text/x-python",
   "name": "python",
   "nbconvert_exporter": "python",
   "pygments_lexer": "ipython3",
   "version": "3.7.6"
  }
 },
 "nbformat": 4,
 "nbformat_minor": 4
}
