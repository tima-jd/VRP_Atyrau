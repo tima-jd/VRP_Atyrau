{
 "cells": [
  {
   "cell_type": "code",
   "execution_count": 4,
   "metadata": {},
   "outputs": [
    {
     "data": {
      "text/plain": [
       "0     105.063602\n",
       "1     122.920765\n",
       "2     111.823352\n",
       "3     111.713198\n",
       "4     111.753083\n",
       "5     110.838340\n",
       "6     111.634054\n",
       "7     102.806756\n",
       "8     166.853968\n",
       "9     119.488808\n",
       "10    120.475473\n",
       "11    126.981501\n",
       "12    121.276680\n",
       "13    122.855520\n",
       "14     80.443494\n",
       "15    108.111100\n",
       "16    108.631766\n",
       "17    104.404546\n",
       "18    105.764555\n",
       "19    106.124718\n",
       "20    129.523312\n",
       "dtype: float64"
      ]
     },
     "execution_count": 4,
     "metadata": {},
     "output_type": "execute_result"
    }
   ],
   "source": [
    "import pandas as pd\n",
    "csv_nagr = pd.read_csv('Nwhl_AO(2019-2025).csv')\n",
    "csv_lagr = pd.read_csv('lwhl_AO(2019-2025).csv')\n",
    "Nagr = csv_nagr['Nwhl']\n",
    "lagr = csv_lagr['0']\n",
    "\n",
    "csv = pd.read_csv('vrp_ekz_fact.csv')\n",
    "Nagr_f = csv['o_prod_trade']\n",
    "\n",
    "Nagr_p  =   Nagr.shift(1)\n",
    "Nagr_p[0] = Nagr_f[18]\n",
    "Nagr_p[7] = Nagr_f[18]\n",
    "Nagr_p[14] =Nagr_f[18]\n",
    "\n",
    "Dwhl = (Nagr/Nagr_p/lagr) * 10000\n",
    "\n",
    "Dwhl"
   ]
  },
  {
   "cell_type": "code",
   "execution_count": null,
   "metadata": {},
   "outputs": [],
   "source": []
  }
 ],
 "metadata": {
  "kernelspec": {
   "display_name": "Python 3",
   "language": "python",
   "name": "python3"
  },
  "language_info": {
   "codemirror_mode": {
    "name": "ipython",
    "version": 3
   },
   "file_extension": ".py",
   "mimetype": "text/x-python",
   "name": "python",
   "nbconvert_exporter": "python",
   "pygments_lexer": "ipython3",
   "version": "3.7.6"
  }
 },
 "nbformat": 4,
 "nbformat_minor": 4
}
