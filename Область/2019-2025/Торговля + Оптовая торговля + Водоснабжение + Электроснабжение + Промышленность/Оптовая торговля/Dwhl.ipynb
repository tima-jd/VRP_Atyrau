{
 "cells": [
  {
   "cell_type": "code",
   "execution_count": 6,
   "metadata": {},
   "outputs": [
    {
     "data": {
      "text/plain": [
       "0     105.100000\n",
       "1     122.974418\n",
       "2     111.826444\n",
       "3     111.717298\n",
       "4     111.755984\n",
       "5     110.835947\n",
       "6     111.633212\n",
       "7            NaN\n",
       "8            NaN\n",
       "9            NaN\n",
       "10           NaN\n",
       "11           NaN\n",
       "12           NaN\n",
       "13           NaN\n",
       "14           NaN\n",
       "15           NaN\n",
       "16           NaN\n",
       "17           NaN\n",
       "18           NaN\n",
       "19           NaN\n",
       "20           NaN\n",
       "dtype: float64"
      ]
     },
     "execution_count": 6,
     "metadata": {},
     "output_type": "execute_result"
    }
   ],
   "source": [
    "import pandas as pd\n",
    "csv_nagr = pd.read_csv('Nwhl_AO(2019-2025).csv')\n",
    "csv_lagr = pd.read_csv('lwhl_AO(2019-2025).csv')\n",
    "Nagr = csv_nagr['Nwhl']\n",
    "lagr = csv_lagr['0']\n",
    "\n",
    "\n",
    "Dwhl = (Nagr/Nagr.shift(1)/lagr) * 10000\n",
    "Dwhl[0]=105.1\n",
    "\n",
    "Dwhl"
   ]
  },
  {
   "cell_type": "code",
   "execution_count": null,
   "metadata": {},
   "outputs": [],
   "source": []
  }
 ],
 "metadata": {
  "kernelspec": {
   "display_name": "Python 3",
   "language": "python",
   "name": "python3"
  },
  "language_info": {
   "codemirror_mode": {
    "name": "ipython",
    "version": 3
   },
   "file_extension": ".py",
   "mimetype": "text/x-python",
   "name": "python",
   "nbconvert_exporter": "python",
   "pygments_lexer": "ipython3",
   "version": "3.7.6"
  }
 },
 "nbformat": 4,
 "nbformat_minor": 4
}
