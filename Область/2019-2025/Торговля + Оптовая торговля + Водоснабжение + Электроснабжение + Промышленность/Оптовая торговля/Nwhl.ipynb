{
 "cells": [
  {
   "cell_type": "code",
   "execution_count": 1,
   "metadata": {},
   "outputs": [],
   "source": [
    "import pandas as pd\n",
    "csv_inder_n =    pd.read_csv('vrp_prognoz(2019-2025)(Inder).csv')\n",
    "csv_isatai_n =   pd.read_csv('vrp_prognoz(2019-2025)(Isatai).csv')\n",
    "csv_atyrau_n =   pd.read_csv('vrp_prognoz(2019-2025)(Atyrau).csv')\n",
    "csv_kurmangazy_n=pd.read_csv('vrp_prognoz(2019-2025)(Kurmangazy).csv')\n",
    "csv_kzylkoga_n = pd.read_csv('vrp_prognoz(2019-2025)(Kzylkoga).csv')\n",
    "csv_makat_n =    pd.read_csv('vrp_prognoz(2019-2025)(Makat).csv')\n",
    "csv_makhambet_n =pd.read_csv('vrp_prognoz(2019-2025)(Makhambet).csv')\n",
    "csv_zhylyoi_n =  pd.read_csv('vrp_prognoz(2019-2025)(Zhylyoi).csv')\n",
    "\n",
    "inder =         csv_inder_n['Nwhl']\n",
    "isatai =       csv_isatai_n['Nwhl']\n",
    "atyrau =       csv_atyrau_n['Nwhl']\n",
    "kurmangazy=csv_kurmangazy_n['Nwhl'] \n",
    "kzylkoga =   csv_kzylkoga_n['Nwhl'] \n",
    "makat=          csv_makat_n['Nwhl']\n",
    "makhambet=  csv_makhambet_n['Nwhl']\n",
    "zhylyoi =     csv_zhylyoi_n['Nwhl']\n",
    "\n",
    "\n",
    "Nagr = (inder+isatai+atyrau+kurmangazy+kzylkoga+makat+makhambet+zhylyoi)\n",
    "\n",
    "Nagr.to_csv(r'Nwhl_AO(2019-2025).csv', index=False)"
   ]
  },
  {
   "cell_type": "code",
   "execution_count": null,
   "metadata": {},
   "outputs": [],
   "source": []
  }
 ],
 "metadata": {
  "kernelspec": {
   "display_name": "Python 3",
   "language": "python",
   "name": "python3"
  },
  "language_info": {
   "codemirror_mode": {
    "name": "ipython",
    "version": 3
   },
   "file_extension": ".py",
   "mimetype": "text/x-python",
   "name": "python",
   "nbconvert_exporter": "python",
   "pygments_lexer": "ipython3",
   "version": "3.7.6"
  }
 },
 "nbformat": 4,
 "nbformat_minor": 4
}
