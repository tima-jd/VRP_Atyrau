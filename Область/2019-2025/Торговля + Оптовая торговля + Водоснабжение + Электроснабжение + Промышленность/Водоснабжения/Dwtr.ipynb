{
 "cells": [
  {
   "cell_type": "code",
   "execution_count": 5,
   "metadata": {},
   "outputs": [
    {
     "data": {
      "text/plain": [
       "0     106.386127\n",
       "1     106.298417\n",
       "2     106.381490\n",
       "3     105.287574\n",
       "4     105.063000\n",
       "5     105.275060\n",
       "6     105.254207\n",
       "7     106.389043\n",
       "8     105.712481\n",
       "9     105.968345\n",
       "10    104.863184\n",
       "11    104.337032\n",
       "12    104.862213\n",
       "13    104.823261\n",
       "14    108.003188\n",
       "15    108.032858\n",
       "16    106.937374\n",
       "17    106.797450\n",
       "18    106.913282\n",
       "19    106.892700\n",
       "20    103.828731\n",
       "dtype: float64"
      ]
     },
     "execution_count": 5,
     "metadata": {},
     "output_type": "execute_result"
    }
   ],
   "source": [
    "import pandas as pd\n",
    "csv_nagr = pd.read_csv('Nwtr_AO(2019-2025).csv')\n",
    "csv_lagr = pd.read_csv('lwtr_AO(2019-2025).csv')\n",
    "Nagr = csv_nagr['Nwtr']\n",
    "lagr = csv_lagr['0']\n",
    "\n",
    "csv = pd.read_csv('vrp_ekz_fact.csv')\n",
    "Nagr_f = csv['o_prod_water']\n",
    "\n",
    "Nagr_p  =   Nagr.shift(1)\n",
    "Nagr_p[0] = Nagr_f[18]\n",
    "Nagr_p[7] = Nagr_f[18]\n",
    "Nagr_p[14] =Nagr_f[18]\n",
    "\n",
    "\n",
    "Dwtr = (Nagr/Nagr_p/lagr) * 10000\n",
    "\n",
    "Dwtr"
   ]
  },
  {
   "cell_type": "code",
   "execution_count": null,
   "metadata": {},
   "outputs": [],
   "source": []
  },
  {
   "cell_type": "code",
   "execution_count": null,
   "metadata": {},
   "outputs": [],
   "source": []
  }
 ],
 "metadata": {
  "kernelspec": {
   "display_name": "Python 3",
   "language": "python",
   "name": "python3"
  },
  "language_info": {
   "codemirror_mode": {
    "name": "ipython",
    "version": 3
   },
   "file_extension": ".py",
   "mimetype": "text/x-python",
   "name": "python",
   "nbconvert_exporter": "python",
   "pygments_lexer": "ipython3",
   "version": "3.7.6"
  }
 },
 "nbformat": 4,
 "nbformat_minor": 4
}
