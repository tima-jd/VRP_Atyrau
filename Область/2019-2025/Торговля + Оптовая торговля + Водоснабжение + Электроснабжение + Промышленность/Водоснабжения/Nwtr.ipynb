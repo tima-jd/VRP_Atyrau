{
 "cells": [
  {
   "cell_type": "code",
   "execution_count": 4,
   "metadata": {},
   "outputs": [
    {
     "data": {
      "text/plain": [
       "0      9807.108916\n",
       "1     11088.526923\n",
       "2     11874.759610\n",
       "3     12590.588095\n",
       "4     13296.232994\n",
       "5     13913.698419\n",
       "6     14662.142453\n",
       "7     14542.790033\n",
       "8     16533.029208\n",
       "9     17601.755895\n",
       "10    18734.597003\n",
       "11    20859.141327\n",
       "12    21926.937497\n",
       "13    23209.165514\n",
       "14    22745.035907\n",
       "15    24225.770348\n",
       "16    25760.517253\n",
       "17    26733.066170\n",
       "18    28280.189418\n",
       "19    30169.610208\n",
       "20    31001.818239\n",
       "Name: Nwtr, dtype: float64"
      ]
     },
     "execution_count": 4,
     "metadata": {},
     "output_type": "execute_result"
    }
   ],
   "source": [
    "import pandas as pd\n",
    "csv_inder = pd.read_csv('Nwtr_Inder(2019-2025).csv')\n",
    "csv_isatai = pd.read_csv('Nwtr_Isatai(2019-2025).csv')\n",
    "csv_atyrau = pd.read_csv('Nwtr_Atyrau(2019-2025).csv')\n",
    "csv_kurmangazy = pd.read_csv('Nwtr_Kurmangazy(2019-2025).csv')\n",
    "csv_kzylkoga = pd.read_csv('Nwtr_Kzylkoga(2019-2025).csv')\n",
    "csv_makat = pd.read_csv('Nwtr_Makat(2019-2025).csv')\n",
    "csv_makhambet = pd.read_csv('Nwtr_Makhambet(2019-2025).csv')\n",
    "csv_zhylyoi = pd.read_csv('Nwtr_Zhylyoi(2019-2025).csv')\n",
    "\n",
    "inder =  csv_inder['Nwtr']\n",
    "isatai =  csv_isatai['Nwtr']\n",
    "atyrau =  csv_atyrau['Nwtr']\n",
    "kurmangazy =  csv_kurmangazy['Nwtr'] \n",
    "kzylkoga =  csv_kzylkoga['Nwtr'] \n",
    "makat=  csv_makat['Nwtr']\n",
    "makhambet=  csv_makhambet['Nwtr']\n",
    "zhylyoi =  csv_zhylyoi['Nwtr']\n",
    "\n",
    "\n",
    "Nagr = (inder+isatai+atyrau+kurmangazy+kzylkoga+makat+makhambet+zhylyoi)\n",
    "\n",
    "atyrau"
   ]
  },
  {
   "cell_type": "code",
   "execution_count": null,
   "metadata": {},
   "outputs": [],
   "source": []
  }
 ],
 "metadata": {
  "kernelspec": {
   "display_name": "Python 3",
   "language": "python",
   "name": "python3"
  },
  "language_info": {
   "codemirror_mode": {
    "name": "ipython",
    "version": 3
   },
   "file_extension": ".py",
   "mimetype": "text/x-python",
   "name": "python",
   "nbconvert_exporter": "python",
   "pygments_lexer": "ipython3",
   "version": "3.7.6"
  }
 },
 "nbformat": 4,
 "nbformat_minor": 4
}
