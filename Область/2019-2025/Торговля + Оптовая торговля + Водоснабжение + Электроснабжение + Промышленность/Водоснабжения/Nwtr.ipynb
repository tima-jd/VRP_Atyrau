{
 "cells": [
  {
   "cell_type": "code",
   "execution_count": 4,
   "metadata": {},
   "outputs": [],
   "source": [
    "import pandas as pd\n",
    "csv_inder = pd.read_csv('Nwtr_Inder(2019-2025).csv')\n",
    "csv_isatai = pd.read_csv('Nwtr_Isatai(2019-2025).csv')\n",
    "csv_atyrau = pd.read_csv('Nwtr_Atyrau(2019-2025).csv')\n",
    "csv_kurmangazy = pd.read_csv('Nwtr_Kurmangazy(2019-2025).csv')\n",
    "csv_kzylkoga = pd.read_csv('Nwtr_Kzylkoga(2019-2025).csv')\n",
    "csv_makat = pd.read_csv('Nwtr_Makat(2019-2025).csv')\n",
    "csv_makhambet = pd.read_csv('Nwtr_Makhambet(2019-2025).csv')\n",
    "csv_zhylyoi = pd.read_csv('Nwtr_Zhylyoi(2019-2025).csv')\n",
    "\n",
    "inder =  csv_inder['Nwtr']\n",
    "isatai =  csv_isatai['Nwtr']\n",
    "atyrau =  csv_atyrau['Nwtr']\n",
    "kurmangazy =  csv_kurmangazy['Nwtr'] \n",
    "kzylkoga =  csv_kzylkoga['Nwtr'] \n",
    "makat=  csv_makat['Nwtr']\n",
    "makhambet=  csv_makhambet['Nwtr']\n",
    "zhylyoi =  csv_zhylyoi['Nwtr']\n",
    "\n",
    "\n",
    "Nagr = (inder+isatai+atyrau+kurmangazy+kzylkoga+makat+makhambet+zhylyoi)\n",
    "\n",
    "Nagr.to_csv(r'Nwtr_AO(2019-2025).csv', index=False)"
   ]
  },
  {
   "cell_type": "code",
   "execution_count": null,
   "metadata": {},
   "outputs": [],
   "source": []
  }
 ],
 "metadata": {
  "kernelspec": {
   "display_name": "Python 3",
   "language": "python",
   "name": "python3"
  },
  "language_info": {
   "codemirror_mode": {
    "name": "ipython",
    "version": 3
   },
   "file_extension": ".py",
   "mimetype": "text/x-python",
   "name": "python",
   "nbconvert_exporter": "python",
   "pygments_lexer": "ipython3",
   "version": "3.7.6"
  }
 },
 "nbformat": 4,
 "nbformat_minor": 4
}
