{
 "cells": [
  {
   "cell_type": "code",
   "execution_count": 4,
   "metadata": {},
   "outputs": [
    {
     "data": {
      "text/plain": [
       "0     101.400000\n",
       "1     106.308448\n",
       "2     106.378271\n",
       "3     105.286763\n",
       "4     105.063914\n",
       "5     105.273586\n",
       "6     105.250292\n",
       "7            NaN\n",
       "8            NaN\n",
       "9            NaN\n",
       "10           NaN\n",
       "11           NaN\n",
       "12           NaN\n",
       "13           NaN\n",
       "14           NaN\n",
       "15           NaN\n",
       "16           NaN\n",
       "17           NaN\n",
       "18           NaN\n",
       "19           NaN\n",
       "20           NaN\n",
       "dtype: float64"
      ]
     },
     "execution_count": 4,
     "metadata": {},
     "output_type": "execute_result"
    }
   ],
   "source": [
    "import pandas as pd\n",
    "csv_nagr = pd.read_csv('Nwtr_AO(2019-2025).csv')\n",
    "csv_lagr = pd.read_csv('lwtr_AO(2019-2025).csv')\n",
    "Nagr = csv_nagr['Nwtr']\n",
    "lagr = csv_lagr['0']\n",
    "\n",
    "\n",
    "Dwtr = (Nagr/Nagr.shift(1)/lagr) * 10000\n",
    "Dwtr[0]=101.4\n",
    "\n",
    "Dwtr"
   ]
  },
  {
   "cell_type": "code",
   "execution_count": null,
   "metadata": {},
   "outputs": [],
   "source": []
  }
 ],
 "metadata": {
  "kernelspec": {
   "display_name": "Python 3",
   "language": "python",
   "name": "python3"
  },
  "language_info": {
   "codemirror_mode": {
    "name": "ipython",
    "version": 3
   },
   "file_extension": ".py",
   "mimetype": "text/x-python",
   "name": "python",
   "nbconvert_exporter": "python",
   "pygments_lexer": "ipython3",
   "version": "3.7.6"
  }
 },
 "nbformat": 4,
 "nbformat_minor": 4
}
