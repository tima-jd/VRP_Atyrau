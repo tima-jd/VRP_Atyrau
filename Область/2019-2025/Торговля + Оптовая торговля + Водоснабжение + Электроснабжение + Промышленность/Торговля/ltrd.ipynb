{
 "cells": [
  {
   "cell_type": "code",
   "execution_count": 1,
   "metadata": {},
   "outputs": [],
   "source": [
    "import pandas as pd\n",
    "\n",
    "csv_AO = pd.read_csv('Ntrd_AO(2019-2025).csv')\n",
    "\n",
    "csv_inder_n = pd.read_csv('Ntrd_Inder(2019-2025).csv')\n",
    "csv_isatai_n = pd.read_csv('Ntrd_Isatai(2019-2025).csv')\n",
    "csv_atyrau_n = pd.read_csv('Ntrd_Atyrau(2019-2025).csv')\n",
    "csv_kurmangazy_n = pd.read_csv('Ntrd_Kurmangazy(2019-2025).csv')\n",
    "csv_kzylkoga_n = pd.read_csv('Ntrd_Kzylkoga(2019-2025).csv')\n",
    "csv_makat_n = pd.read_csv('Ntrd_Makat(2019-2025).csv')\n",
    "csv_makhambet_n = pd.read_csv('Ntrd_Makhambet(2019-2025).csv')\n",
    "csv_zhylyoi_n = pd.read_csv('Ntrd_Zhylyoi(2019-2025).csv')\n",
    "\n",
    "inder_n = csv_inder_n['Ntrd']\n",
    "isatai_n = csv_isatai_n['Ntrd']\n",
    "atyrau_n = csv_atyrau_n['Ntrd']\n",
    "kurmangazy_n = csv_kurmangazy_n['Ntrd'] \n",
    "kzylkoga_n = csv_kzylkoga_n['Ntrd'] \n",
    "makat_n = csv_makat_n['Ntrd']\n",
    "makhambet_n = csv_makhambet_n['Ntrd']\n",
    "zhylyoi_n =  csv_zhylyoi_n['Ntrd']\n",
    "\n",
    "\n",
    "\n",
    "csv_inder_l = pd.read_csv('ltrd_Inder(2019-2025).csv')\n",
    "csv_isatai_l = pd.read_csv('ltrd_Isatai(2019-2025).csv')\n",
    "csv_atyrau_l = pd.read_csv('ltrd_Atyrau(2019-2025).csv')\n",
    "csv_kurmangazy_l = pd.read_csv('ltrd_Kurmangazy(2019-2025).csv')\n",
    "csv_kzylkoga_l = pd.read_csv('ltrd_Kzylkoga(2019-2025).csv')\n",
    "csv_makat_l = pd.read_csv('ltrd_Makat(2019-2025).csv')\n",
    "csv_makhambet_l = pd.read_csv('ltrd_Makhambet(2019-2025).csv')\n",
    "csv_zhylyoi_l = pd.read_csv('ltrd_Zhylyoi(2019-2025).csv')\n",
    "\n",
    "AO= csv_AO['Ntrd']\n",
    "\n",
    "inder_l =  csv_inder_l['ltrd']\n",
    "isatai_l =  csv_isatai_l['ltrd']\n",
    "atyrau_l =  csv_atyrau_l['ltrd']\n",
    "kurmangazy_l =  csv_kurmangazy_l['ltrd'] \n",
    "kzylkoga_l =  csv_kzylkoga_l['ltrd'] \n",
    "makat_l =  csv_makat_l['ltrd']\n",
    "makhambet_l =  csv_makhambet_l['ltrd']\n",
    "zhylyoi_l =  csv_zhylyoi_l['ltrd']\n",
    "\n",
    "inder = (inder_n/AO*(inder_l-100))\n",
    "isatai = (isatai_n/AO*(isatai_l-100))\n",
    "atyrau = (atyrau_n/AO*(atyrau_l-100))\n",
    "kurmangazy = (kurmangazy_n/AO*(kurmangazy_l-100))\n",
    "kzylkoga = (kzylkoga_n/AO*(kzylkoga_l-100))\n",
    "makat = (makat_n/AO*(makat_l-100))\n",
    "makhambet = (makhambet_n/AO*(makhambet_l-100))\n",
    "zhylyoi = (zhylyoi_n/AO*(zhylyoi_l-100))\n",
    "\n",
    "lagr = (inder+isatai+atyrau+kurmangazy+kzylkoga+makat+makhambet+zhylyoi)+100\n",
    "\n",
    "lagr.to_csv((r'ltrd_AO(2019-2025).csv'),index = False)"
   ]
  },
  {
   "cell_type": "code",
   "execution_count": null,
   "metadata": {},
   "outputs": [],
   "source": []
  }
 ],
 "metadata": {
  "kernelspec": {
   "display_name": "Python 3",
   "language": "python",
   "name": "python3"
  },
  "language_info": {
   "codemirror_mode": {
    "name": "ipython",
    "version": 3
   },
   "file_extension": ".py",
   "mimetype": "text/x-python",
   "name": "python",
   "nbconvert_exporter": "python",
   "pygments_lexer": "ipython3",
   "version": "3.7.6"
  }
 },
 "nbformat": 4,
 "nbformat_minor": 4
}
