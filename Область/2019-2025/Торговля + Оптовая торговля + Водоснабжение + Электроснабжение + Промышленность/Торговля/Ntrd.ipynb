{
 "cells": [
  {
   "cell_type": "code",
   "execution_count": 1,
   "metadata": {},
   "outputs": [],
   "source": [
    "import pandas as pd\n",
    "csv_inder = pd.read_csv('Ntrd_Inder(2019-2025).csv')\n",
    "csv_isatai = pd.read_csv('Ntrd_Isatai(2019-2025).csv')\n",
    "csv_atyrau = pd.read_csv('Ntrd_Atyrau(2019-2025).csv')\n",
    "csv_kurmangazy = pd.read_csv('Ntrd_Kurmangazy(2019-2025).csv')\n",
    "csv_kzylkoga = pd.read_csv('Ntrd_Kzylkoga(2019-2025).csv')\n",
    "csv_makat = pd.read_csv('Ntrd_Makat(2019-2025).csv')\n",
    "csv_makhambet = pd.read_csv('Ntrd_Makhambet(2019-2025).csv')\n",
    "csv_zhylyoi = pd.read_csv('Ntrd_Zhylyoi(2019-2025).csv')\n",
    "\n",
    "inder =  csv_inder['Ntrd']\n",
    "isatai =  csv_isatai['Ntrd']\n",
    "atyrau =  csv_atyrau['Ntrd']\n",
    "kurmangazy =  csv_kurmangazy['Ntrd'] \n",
    "kzylkoga =  csv_kzylkoga['Ntrd'] \n",
    "makat=  csv_makat['Ntrd']\n",
    "makhambet=  csv_makhambet['Ntrd']\n",
    "zhylyoi =  csv_zhylyoi['Ntrd']\n",
    "\n",
    "\n",
    "Nagr = (inder+isatai+atyrau+kurmangazy+kzylkoga+makat+makhambet+zhylyoi)\n",
    "\n",
    "Nagr.to_csv(r'Ntrd_AO(2019-2025).csv', index=False)"
   ]
  },
  {
   "cell_type": "code",
   "execution_count": null,
   "metadata": {},
   "outputs": [],
   "source": []
  }
 ],
 "metadata": {
  "kernelspec": {
   "display_name": "Python 3",
   "language": "python",
   "name": "python3"
  },
  "language_info": {
   "codemirror_mode": {
    "name": "ipython",
    "version": 3
   },
   "file_extension": ".py",
   "mimetype": "text/x-python",
   "name": "python",
   "nbconvert_exporter": "python",
   "pygments_lexer": "ipython3",
   "version": "3.7.6"
  }
 },
 "nbformat": 4,
 "nbformat_minor": 4
}
