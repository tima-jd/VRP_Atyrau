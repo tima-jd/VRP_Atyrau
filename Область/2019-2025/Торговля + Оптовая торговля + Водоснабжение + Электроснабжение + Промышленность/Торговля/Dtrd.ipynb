{
 "cells": [
  {
   "cell_type": "code",
   "execution_count": 2,
   "metadata": {},
   "outputs": [
    {
     "data": {
      "text/plain": [
       "0     105.175993\n",
       "1     121.465692\n",
       "2     111.412000\n",
       "3     111.253851\n",
       "4     111.285964\n",
       "5     110.467436\n",
       "6     111.230356\n",
       "7     103.124939\n",
       "8     161.493453\n",
       "9     118.721246\n",
       "10    119.695149\n",
       "11    126.016150\n",
       "12    120.688320\n",
       "13    122.293873\n",
       "14     82.949294\n",
       "15    108.090631\n",
       "16    108.425128\n",
       "17    104.657387\n",
       "18    105.887094\n",
       "19    106.215654\n",
       "20    125.995240\n",
       "dtype: float64"
      ]
     },
     "execution_count": 2,
     "metadata": {},
     "output_type": "execute_result"
    }
   ],
   "source": [
    "import pandas as pd\n",
    "csv_nagr = pd.read_csv('Ntrd_AO(2019-2025).csv')\n",
    "csv_lagr = pd.read_csv('ltrd_AO(2019-2025).csv')\n",
    "Ntrd = csv_nagr['Ntrd']\n",
    "ltrd = csv_lagr['0']\n",
    "\n",
    "csv = pd.read_csv('vrp_ekz_fact.csv')\n",
    "Nret_f = csv['o_prod_retail']\n",
    "Nwhl_f = csv['o_prod_trade']\n",
    "\n",
    "Ntrd_f = Nret_f+Nwhl_f\n",
    "\n",
    "Ntrd_p  =   Ntrd.shift(1)\n",
    "Ntrd_p[0] = Ntrd_f[18]\n",
    "Ntrd_p[7] = Ntrd_f[18]\n",
    "Ntrd_p[14] =Ntrd_f[18]\n",
    "\n",
    "Dtrd = (Ntrd/Ntrd_p/ltrd) * 10000\n",
    "\n",
    "Dtrd"
   ]
  },
  {
   "cell_type": "code",
   "execution_count": null,
   "metadata": {},
   "outputs": [],
   "source": []
  }
 ],
 "metadata": {
  "kernelspec": {
   "display_name": "Python 3",
   "language": "python",
   "name": "python3"
  },
  "language_info": {
   "codemirror_mode": {
    "name": "ipython",
    "version": 3
   },
   "file_extension": ".py",
   "mimetype": "text/x-python",
   "name": "python",
   "nbconvert_exporter": "python",
   "pygments_lexer": "ipython3",
   "version": "3.7.6"
  }
 },
 "nbformat": 4,
 "nbformat_minor": 4
}
