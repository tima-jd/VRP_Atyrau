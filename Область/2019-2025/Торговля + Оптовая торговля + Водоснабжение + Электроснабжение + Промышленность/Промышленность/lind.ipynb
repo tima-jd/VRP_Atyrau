{
 "cells": [
  {
   "cell_type": "code",
   "execution_count": 4,
   "metadata": {},
   "outputs": [],
   "source": [
    "import pandas as pd\n",
    "\n",
    "csv_AO = pd.read_csv('Nind_AO(2019-2025).csv')\n",
    "\n",
    "csv_inder_n = pd.read_csv('Nind_Inder(2019-2025).csv')\n",
    "csv_isatai_n = pd.read_csv('Nind_Isatai(2019-2025).csv')\n",
    "csv_atyrau_n = pd.read_csv('Nind_Atyrau(2019-2025).csv')\n",
    "csv_kurmangazy_n = pd.read_csv('Nind_Kurmangazy(2019-2025).csv')\n",
    "csv_kzylkoga_n = pd.read_csv('Nind_Kzylkoga(2019-2025).csv')\n",
    "csv_makat_n = pd.read_csv('Nind_Makat(2019-2025).csv')\n",
    "csv_makhambet_n = pd.read_csv('Nind_Makhambet(2019-2025).csv')\n",
    "csv_zhylyoi_n = pd.read_csv('Nind_Zhylyoi(2019-2025).csv')\n",
    "\n",
    "inder_n = csv_inder_n['Nind']\n",
    "isatai_n = csv_isatai_n['Nind']\n",
    "atyrau_n = csv_atyrau_n['Nind']\n",
    "kurmangazy_n = csv_kurmangazy_n['Nind'] \n",
    "kzylkoga_n = csv_kzylkoga_n['Nind'] \n",
    "makat_n = csv_makat_n['Nind']\n",
    "makhambet_n = csv_makhambet_n['Nind']\n",
    "zhylyoi_n =  csv_zhylyoi_n['Nind']\n",
    "\n",
    "\n",
    "\n",
    "csv_inder_l = pd.read_csv('lind_Inder(2019-2025).csv')\n",
    "csv_isatai_l = pd.read_csv('lind_Isatai(2019-2025).csv')\n",
    "csv_atyrau_l = pd.read_csv('lind_Atyrau(2019-2025).csv')\n",
    "csv_kurmangazy_l = pd.read_csv('lind_Kurmangazy(2019-2025).csv')\n",
    "csv_kzylkoga_l = pd.read_csv('lind_Kzylkoga(2019-2025).csv')\n",
    "csv_makat_l = pd.read_csv('lind_Makat(2019-2025).csv')\n",
    "csv_makhambet_l = pd.read_csv('lind_Makhambet(2019-2025).csv')\n",
    "csv_zhylyoi_l = pd.read_csv('lind_Zhylyoi(2019-2025).csv')\n",
    "\n",
    "AO= csv_AO['Nind']\n",
    "\n",
    "inder_l =  csv_inder_l['lind']\n",
    "isatai_l =  csv_isatai_l['lind']\n",
    "atyrau_l =  csv_atyrau_l['lind']\n",
    "kurmangazy_l =  csv_kurmangazy_l['lind'] \n",
    "kzylkoga_l =  csv_kzylkoga_l['lind'] \n",
    "makat_l =  csv_makat_l['lind']\n",
    "makhambet_l =  csv_makhambet_l['lind']\n",
    "zhylyoi_l =  csv_zhylyoi_l['lind']\n",
    "\n",
    "inder = (inder_n/AO*(inder_l-100))\n",
    "isatai = (isatai_n/AO*(isatai_l-100))\n",
    "atyrau = (atyrau_n/AO*(atyrau_l-100))\n",
    "kurmangazy = (kurmangazy_n/AO*(kurmangazy_l-100))\n",
    "kzylkoga = (kzylkoga_n/AO*(kzylkoga_l-100))\n",
    "makat = (makat_n/AO*(makat_l-100))\n",
    "makhambet = (makhambet_n/AO*(makhambet_l-100))\n",
    "zhylyoi = (zhylyoi_n/AO*(zhylyoi_l-100))\n",
    "\n",
    "lagr = (inder+isatai+atyrau+kurmangazy+kzylkoga+makat+makhambet+zhylyoi)+100\n",
    "\n",
    "lagr.to_csv((r'lind_AO(2019-2025).csv'),index = False)"
   ]
  },
  {
   "cell_type": "code",
   "execution_count": null,
   "metadata": {},
   "outputs": [],
   "source": []
  }
 ],
 "metadata": {
  "kernelspec": {
   "display_name": "Python 3",
   "language": "python",
   "name": "python3"
  },
  "language_info": {
   "codemirror_mode": {
    "name": "ipython",
    "version": 3
   },
   "file_extension": ".py",
   "mimetype": "text/x-python",
   "name": "python",
   "nbconvert_exporter": "python",
   "pygments_lexer": "ipython3",
   "version": "3.7.6"
  }
 },
 "nbformat": 4,
 "nbformat_minor": 4
}
