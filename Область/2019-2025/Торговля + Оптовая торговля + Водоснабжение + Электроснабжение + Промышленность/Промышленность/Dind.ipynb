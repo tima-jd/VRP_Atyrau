{
 "cells": [
  {
   "cell_type": "code",
   "execution_count": 4,
   "metadata": {},
   "outputs": [
    {
     "data": {
      "text/plain": [
       "0      98.700000\n",
       "1     109.797327\n",
       "2     103.497945\n",
       "3     103.520162\n",
       "4     115.061943\n",
       "5     107.623502\n",
       "6     103.966631\n",
       "7            NaN\n",
       "8            NaN\n",
       "9            NaN\n",
       "10           NaN\n",
       "11           NaN\n",
       "12           NaN\n",
       "13           NaN\n",
       "14           NaN\n",
       "15           NaN\n",
       "16           NaN\n",
       "17           NaN\n",
       "18           NaN\n",
       "19           NaN\n",
       "20           NaN\n",
       "dtype: float64"
      ]
     },
     "execution_count": 4,
     "metadata": {},
     "output_type": "execute_result"
    }
   ],
   "source": [
    "import pandas as pd\n",
    "csv_nagr = pd.read_csv('Nind_AO(2019-2025).csv')\n",
    "csv_lagr = pd.read_csv('lind_AO(2019-2025).csv')\n",
    "Nagr = csv_nagr['Nind']\n",
    "lagr = csv_lagr['0']\n",
    "\n",
    "\n",
    "Dind = (Nagr/Nagr.shift(1)/lagr) * 10000\n",
    "Dind[0]= 98.7\n",
    "\n",
    "Dind"
   ]
  },
  {
   "cell_type": "code",
   "execution_count": null,
   "metadata": {},
   "outputs": [],
   "source": []
  }
 ],
 "metadata": {
  "kernelspec": {
   "display_name": "Python 3",
   "language": "python",
   "name": "python3"
  },
  "language_info": {
   "codemirror_mode": {
    "name": "ipython",
    "version": 3
   },
   "file_extension": ".py",
   "mimetype": "text/x-python",
   "name": "python",
   "nbconvert_exporter": "python",
   "pygments_lexer": "ipython3",
   "version": "3.7.6"
  }
 },
 "nbformat": 4,
 "nbformat_minor": 4
}
