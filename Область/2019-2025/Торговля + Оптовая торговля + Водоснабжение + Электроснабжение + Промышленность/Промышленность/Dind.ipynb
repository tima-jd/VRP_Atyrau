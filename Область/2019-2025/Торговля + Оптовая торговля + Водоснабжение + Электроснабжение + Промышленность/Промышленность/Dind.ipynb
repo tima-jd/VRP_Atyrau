{
 "cells": [
  {
   "cell_type": "code",
   "execution_count": 9,
   "metadata": {},
   "outputs": [
    {
     "data": {
      "text/plain": [
       "0      98.680236\n",
       "1     109.904394\n",
       "2     103.537329\n",
       "3     103.516862\n",
       "4     116.126458\n",
       "5     107.466714\n",
       "6     103.703060\n",
       "7      96.171616\n",
       "8     159.577188\n",
       "9     104.776450\n",
       "10    106.654314\n",
       "11    132.776710\n",
       "12    108.859669\n",
       "13    106.405862\n",
       "14     71.259765\n",
       "15    103.097621\n",
       "16    102.125867\n",
       "17    107.583687\n",
       "18    106.789473\n",
       "19    102.204989\n",
       "20    110.722977\n",
       "dtype: float64"
      ]
     },
     "execution_count": 9,
     "metadata": {},
     "output_type": "execute_result"
    }
   ],
   "source": [
    "import pandas as pd\n",
    "csv_nagr = pd.read_csv('Nind_AO(2019-2025).csv')\n",
    "csv_lagr = pd.read_csv('lind_AO(2019-2025).csv')\n",
    "Nagr = csv_nagr['Nind']\n",
    "lagr = csv_lagr['0']\n",
    "\n",
    "Nagr_p =Nagr.shift(1)\n",
    "Nagr_p[0] =  7077542.0\n",
    "Nagr_p[7] =  7077542.0\n",
    "Nagr_p[14] = 7077542.0\n",
    "\n",
    "Dind = (Nagr/Nagr_p/lagr) * 10000\n",
    "\n",
    "Dind"
   ]
  },
  {
   "cell_type": "code",
   "execution_count": null,
   "metadata": {},
   "outputs": [],
   "source": []
  },
  {
   "cell_type": "code",
   "execution_count": null,
   "metadata": {},
   "outputs": [],
   "source": []
  }
 ],
 "metadata": {
  "kernelspec": {
   "display_name": "Python 3",
   "language": "python",
   "name": "python3"
  },
  "language_info": {
   "codemirror_mode": {
    "name": "ipython",
    "version": 3
   },
   "file_extension": ".py",
   "mimetype": "text/x-python",
   "name": "python",
   "nbconvert_exporter": "python",
   "pygments_lexer": "ipython3",
   "version": "3.7.6"
  }
 },
 "nbformat": 4,
 "nbformat_minor": 4
}
