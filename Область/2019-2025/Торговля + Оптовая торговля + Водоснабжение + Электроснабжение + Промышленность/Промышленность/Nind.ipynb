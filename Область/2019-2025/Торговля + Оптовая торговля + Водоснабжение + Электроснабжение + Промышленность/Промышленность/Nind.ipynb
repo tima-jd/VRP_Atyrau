{
 "cells": [
  {
   "cell_type": "code",
   "execution_count": 1,
   "metadata": {},
   "outputs": [],
   "source": [
    "import pandas as pd\n",
    "csv_inder = pd.read_csv('Nind_Inder(2019-2025).csv')\n",
    "csv_isatai = pd.read_csv('Nind_Isatai(2019-2025).csv')\n",
    "csv_atyrau = pd.read_csv('Nind_Atyrau(2019-2025).csv')\n",
    "csv_kurmangazy = pd.read_csv('Nind_Kurmangazy(2019-2025).csv')\n",
    "csv_kzylkoga = pd.read_csv('Nind_Kzylkoga(2019-2025).csv')\n",
    "csv_makat = pd.read_csv('Nind_Makat(2019-2025).csv')\n",
    "csv_makhambet = pd.read_csv('Nind_Makhambet(2019-2025).csv')\n",
    "csv_zhylyoi = pd.read_csv('Nind_Zhylyoi(2019-2025).csv')\n",
    "\n",
    "inder =  csv_inder['Nind']\n",
    "isatai =  csv_isatai['Nind']\n",
    "atyrau =  csv_atyrau['Nind']\n",
    "kurmangazy =  csv_kurmangazy['Nind'] \n",
    "kzylkoga =  csv_kzylkoga['Nind'] \n",
    "makat=  csv_makat['Nind']\n",
    "makhambet=  csv_makhambet['Nind']\n",
    "zhylyoi =  csv_zhylyoi['Nind']\n",
    "\n",
    "\n",
    "Nagr = (inder+isatai+atyrau+kurmangazy+kzylkoga+makat+makhambet+zhylyoi)\n",
    "\n",
    "Nagr.to_csv(r'Nind_AO(2019-2025).csv', index=False)"
   ]
  },
  {
   "cell_type": "code",
   "execution_count": null,
   "metadata": {},
   "outputs": [],
   "source": []
  }
 ],
 "metadata": {
  "kernelspec": {
   "display_name": "Python 3",
   "language": "python",
   "name": "python3"
  },
  "language_info": {
   "codemirror_mode": {
    "name": "ipython",
    "version": 3
   },
   "file_extension": ".py",
   "mimetype": "text/x-python",
   "name": "python",
   "nbconvert_exporter": "python",
   "pygments_lexer": "ipython3",
   "version": "3.7.6"
  }
 },
 "nbformat": 4,
 "nbformat_minor": 4
}
