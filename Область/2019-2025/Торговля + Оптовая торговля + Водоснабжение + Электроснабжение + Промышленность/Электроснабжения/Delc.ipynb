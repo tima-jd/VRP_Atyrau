{
 "cells": [
  {
   "cell_type": "code",
   "execution_count": 2,
   "metadata": {},
   "outputs": [
    {
     "data": {
      "text/plain": [
       "0     105.707213\n",
       "1     105.654201\n",
       "2     105.712443\n",
       "3     104.760128\n",
       "4     104.757611\n",
       "5     104.758999\n",
       "6     104.760629\n",
       "7     105.707213\n",
       "8     105.267899\n",
       "9     105.350452\n",
       "10    104.396413\n",
       "11    104.384060\n",
       "12    104.398918\n",
       "13    104.398368\n",
       "14    107.165677\n",
       "15    107.177666\n",
       "16    106.226662\n",
       "17    106.209144\n",
       "18    106.223203\n",
       "19    106.226660\n",
       "20    105.692872\n",
       "dtype: float64"
      ]
     },
     "execution_count": 2,
     "metadata": {},
     "output_type": "execute_result"
    }
   ],
   "source": [
    "import pandas as pd\n",
    "csv_nagr = pd.read_csv('Nelc_AO(2019-2025).csv')\n",
    "csv_lagr = pd.read_csv('lelc_AO(2019-2025).csv')\n",
    "Nelc = csv_nagr['Nelc']\n",
    "lelc = csv_lagr['0']\n",
    "\n",
    "csv = pd.read_csv('vrp_ekz_fact.csv')\n",
    "Nelc_f = csv['o_prod_energo']\n",
    "\n",
    "Nelc_p  =   Nelc.shift(1)\n",
    "Nelc_p[0] = Nelc_f[18]\n",
    "Nelc_p[7] = Nelc_f[18]\n",
    "Nelc_p[14] =Nelc_f[18]\n",
    "\n",
    "\n",
    "Delc = (Nelc/Nelc_p/lelc) * 10000\n",
    "\n",
    "Delc"
   ]
  },
  {
   "cell_type": "code",
   "execution_count": null,
   "metadata": {},
   "outputs": [],
   "source": []
  }
 ],
 "metadata": {
  "kernelspec": {
   "display_name": "Python 3",
   "language": "python",
   "name": "python3"
  },
  "language_info": {
   "codemirror_mode": {
    "name": "ipython",
    "version": 3
   },
   "file_extension": ".py",
   "mimetype": "text/x-python",
   "name": "python",
   "nbconvert_exporter": "python",
   "pygments_lexer": "ipython3",
   "version": "3.7.6"
  }
 },
 "nbformat": 4,
 "nbformat_minor": 4
}
