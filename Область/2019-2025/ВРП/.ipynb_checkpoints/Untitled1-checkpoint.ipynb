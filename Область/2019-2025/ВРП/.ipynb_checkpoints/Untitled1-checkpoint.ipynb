{
 "cells": [
  {
   "cell_type": "code",
   "execution_count": 12,
   "metadata": {},
   "outputs": [],
   "source": [
    "Igva_ind_f = ((vrp_min*Igva_min_f.drop(Igva_min_f.index[0:11]))+(vrp_man*Igva_man_f.drop(Igva_man_f.index[0:11]))+(vrp_elc*Igva_elc_f.drop(Igva_elc_f.index[0:11]))+(vrp_wtr*Igva_wtr_f.drop(Igva_wtr_f.index[0:11])))/vrp_ind \n",
    "Igva_ind_f"
   ]
  },
  {
   "cell_type": "code",
   "execution_count": null,
   "metadata": {},
   "outputs": [],
   "source": []
  }
 ],
 "metadata": {
  "kernelspec": {
   "display_name": "Python 3",
   "language": "python",
   "name": "python3"
  },
  "language_info": {
   "codemirror_mode": {
    "name": "ipython",
    "version": 3
   },
   "file_extension": ".py",
   "mimetype": "text/x-python",
   "name": "python",
   "nbconvert_exporter": "python",
   "pygments_lexer": "ipython3",
   "version": "3.7.6"
  }
 },
 "nbformat": 4,
 "nbformat_minor": 4
}
