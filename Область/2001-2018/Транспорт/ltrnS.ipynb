{
 "cells": [
  {
   "cell_type": "code",
   "execution_count": 6,
   "metadata": {},
   "outputs": [
    {
     "name": "stderr",
     "output_type": "stream",
     "text": [
      "C:\\Users\\HP\\anaconda3\\lib\\site-packages\\ipykernel_launcher.py:9: RuntimeWarning: divide by zero encountered in double_scalars\n",
      "  if __name__ == '__main__':\n"
     ]
    },
    {
     "data": {
      "text/plain": [
       "0         inf\n",
       "1         inf\n",
       "2         inf\n",
       "3         inf\n",
       "4     36.2921\n",
       "5     39.6672\n",
       "6     43.3563\n",
       "7     66.3351\n",
       "8     67.1311\n",
       "9     68.5409\n",
       "10    73.4073\n",
       "11    78.1053\n",
       "12    82.7135\n",
       "13    89.0825\n",
       "14    90.8641\n",
       "15    91.5911\n",
       "16    91.6826\n",
       "17    93.0579\n",
       "18        100\n",
       "Name: c1, dtype: object"
      ]
     },
     "execution_count": 6,
     "metadata": {},
     "output_type": "execute_result"
    }
   ],
   "source": [
    "import pandas as pd\n",
    "csv = pd.read_csv('vrp_ekz_fact.csv')\n",
    "ltrn = csv['o_ifo_transp']\n",
    "\n",
    "i=18\n",
    "c=100\n",
    "newdf = pd.DataFrame(columns=['c1'], index=range(19))\n",
    "while i>0:\n",
    "    c = (c/ltrn[i]) * 100\n",
    "    i = i-1\n",
    "    newdf.loc[i].c1 = c\n",
    "ltrnS=newdf['c1']\n",
    "ltrnS[18]=100\n",
    "\n",
    "ltrnS"
   ]
  },
  {
   "cell_type": "code",
   "execution_count": null,
   "metadata": {},
   "outputs": [],
   "source": []
  }
 ],
 "metadata": {
  "kernelspec": {
   "display_name": "Python 3",
   "language": "python",
   "name": "python3"
  },
  "language_info": {
   "codemirror_mode": {
    "name": "ipython",
    "version": 3
   },
   "file_extension": ".py",
   "mimetype": "text/x-python",
   "name": "python",
   "nbconvert_exporter": "python",
   "pygments_lexer": "ipython3",
   "version": "3.7.6"
  }
 },
 "nbformat": 4,
 "nbformat_minor": 4
}
