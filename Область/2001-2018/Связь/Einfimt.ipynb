{
 "cells": [
  {
   "cell_type": "code",
   "execution_count": 2,
   "metadata": {},
   "outputs": [
    {
     "data": {
      "text/plain": [
       "0.9153299582206615"
      ]
     },
     "execution_count": 2,
     "metadata": {},
     "output_type": "execute_result"
    }
   ],
   "source": [
    "from scipy.stats.mstats import gmean\n",
    "import pandas as pd\n",
    "csv = pd.read_csv('vrp_ekz_fact.csv')\n",
    "\n",
    "ltrn = csv['o_ifo_info']\n",
    "Ntrn = csv['o_prod_info']\n",
    "\n",
    "inf = csv['o_inflation']\n",
    "\n",
    "Dtrn =(Ntrn/Ntrn.shift(1)/ltrn) *10000\n",
    "\n",
    "Einfimt = (gmean(Dtrn[5:]))/(gmean(inf[5:]+100))\n",
    "\n",
    "Einfimt"
   ]
  },
  {
   "cell_type": "code",
   "execution_count": null,
   "metadata": {},
   "outputs": [],
   "source": []
  }
 ],
 "metadata": {
  "kernelspec": {
   "display_name": "Python 3",
   "language": "python",
   "name": "python3"
  },
  "language_info": {
   "codemirror_mode": {
    "name": "ipython",
    "version": 3
   },
   "file_extension": ".py",
   "mimetype": "text/x-python",
   "name": "python",
   "nbconvert_exporter": "python",
   "pygments_lexer": "ipython3",
   "version": "3.7.6"
  }
 },
 "nbformat": 4,
 "nbformat_minor": 4
}
