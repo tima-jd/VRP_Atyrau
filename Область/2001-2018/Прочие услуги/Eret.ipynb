{
 "cells": [
  {
   "cell_type": "code",
   "execution_count": 5,
   "metadata": {},
   "outputs": [
    {
     "data": {
      "text/plain": [
       "0.5246727147285848"
      ]
     },
     "execution_count": 5,
     "metadata": {},
     "output_type": "execute_result"
    }
   ],
   "source": [
    "import pandas as pd\n",
    "csv = pd.read_csv('vrp_ekz_fact.csv')\n",
    "\n",
    "ltrnS_csv = pd.read_csv('lothS_AO(2001-2018).csv')\n",
    "lgtS_csv = pd.read_csv('lretS_AO(2001-2018).csv')\n",
    "\n",
    "lothS = ltrnS_csv['c1']\n",
    "lretS = lgtS_csv['c1'] \n",
    "lothS[:13]=0\n",
    "\n",
    "Eret = ((lretS - lretS.mean()) * (lothS - lothS.mean())).sum() / ((lretS - lretS.mean())**2).sum()\n",
    "Eret"
   ]
  },
  {
   "cell_type": "code",
   "execution_count": null,
   "metadata": {},
   "outputs": [],
   "source": []
  }
 ],
 "metadata": {
  "kernelspec": {
   "display_name": "Python 3",
   "language": "python",
   "name": "python3"
  },
  "language_info": {
   "codemirror_mode": {
    "name": "ipython",
    "version": 3
   },
   "file_extension": ".py",
   "mimetype": "text/x-python",
   "name": "python",
   "nbconvert_exporter": "python",
   "pygments_lexer": "ipython3",
   "version": "3.7.6"
  }
 },
 "nbformat": 4,
 "nbformat_minor": 4
}
