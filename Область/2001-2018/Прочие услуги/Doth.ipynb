{
 "cells": [
  {
   "cell_type": "code",
   "execution_count": 2,
   "metadata": {},
   "outputs": [
    {
     "data": {
      "text/plain": [
       "0            NaN\n",
       "1            NaN\n",
       "2            inf\n",
       "3            inf\n",
       "4            inf\n",
       "5            inf\n",
       "6            inf\n",
       "7            inf\n",
       "8            inf\n",
       "9            inf\n",
       "10           inf\n",
       "11           inf\n",
       "12           inf\n",
       "13           inf\n",
       "14    116.645722\n",
       "15    137.602938\n",
       "16    136.691036\n",
       "17    105.501385\n",
       "18    102.371405\n",
       "dtype: float64"
      ]
     },
     "execution_count": 2,
     "metadata": {},
     "output_type": "execute_result"
    }
   ],
   "source": [
    "import pandas as pd\n",
    "csv = pd.read_csv('vrp_ekz_fact.csv')\n",
    "\n",
    "loth = csv['o_ifo_other']\n",
    "Noth = csv['o_prod_other']\n",
    "\n",
    "Doth =(Noth/Noth.shift(1)/loth) *10000\n",
    "Doth"
   ]
  },
  {
   "cell_type": "code",
   "execution_count": null,
   "metadata": {},
   "outputs": [],
   "source": []
  }
 ],
 "metadata": {
  "kernelspec": {
   "display_name": "Python 3",
   "language": "python",
   "name": "python3"
  },
  "language_info": {
   "codemirror_mode": {
    "name": "ipython",
    "version": 3
   },
   "file_extension": ".py",
   "mimetype": "text/x-python",
   "name": "python",
   "nbconvert_exporter": "python",
   "pygments_lexer": "ipython3",
   "version": "3.7.6"
  }
 },
 "nbformat": 4,
 "nbformat_minor": 4
}
