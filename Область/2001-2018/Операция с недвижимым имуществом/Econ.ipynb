{
 "cells": [
  {
   "cell_type": "code",
   "execution_count": 4,
   "metadata": {},
   "outputs": [
    {
     "data": {
      "text/plain": [
       "0.7212485913883198"
      ]
     },
     "execution_count": 4,
     "metadata": {},
     "output_type": "execute_result"
    }
   ],
   "source": [
    "import pandas as pd\n",
    "csv = pd.read_csv('vrp_ekz_fact.csv')\n",
    "\n",
    "lestS_csv = pd.read_csv('lestS_AO(2001-2018).csv')\n",
    "lconS_csv = pd.read_csv('lconS_AO(2001-2018).csv')\n",
    "\n",
    "limtS = lestS_csv['c1']\n",
    "lgtS = lconS_csv['c1'] \n",
    "\n",
    "limtS[:13] = 0 \n",
    "\n",
    "Econ = ((lgtS - lgtS.mean()) * (limtS - limtS.mean())).sum() / ((lgtS - lgtS.mean())**2).sum()\n",
    "Econ"
   ]
  },
  {
   "cell_type": "code",
   "execution_count": null,
   "metadata": {},
   "outputs": [],
   "source": []
  }
 ],
 "metadata": {
  "kernelspec": {
   "display_name": "Python 3",
   "language": "python",
   "name": "python3"
  },
  "language_info": {
   "codemirror_mode": {
    "name": "ipython",
    "version": 3
   },
   "file_extension": ".py",
   "mimetype": "text/x-python",
   "name": "python",
   "nbconvert_exporter": "python",
   "pygments_lexer": "ipython3",
   "version": "3.7.6"
  }
 },
 "nbformat": 4,
 "nbformat_minor": 4
}
