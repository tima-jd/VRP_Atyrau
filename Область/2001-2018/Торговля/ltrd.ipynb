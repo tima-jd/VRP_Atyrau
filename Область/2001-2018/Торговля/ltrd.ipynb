{
 "cells": [
  {
   "cell_type": "code",
   "execution_count": 2,
   "metadata": {},
   "outputs": [
    {
     "name": "stderr",
     "output_type": "stream",
     "text": [
      "C:\\Users\\HP\\anaconda3\\lib\\site-packages\\ipykernel_launcher.py:15: SettingWithCopyWarning: \n",
      "A value is trying to be set on a copy of a slice from a DataFrame\n",
      "\n",
      "See the caveats in the documentation: https://pandas.pydata.org/pandas-docs/stable/user_guide/indexing.html#returning-a-view-versus-a-copy\n",
      "  from ipykernel import kernelapp as app\n",
      "C:\\Users\\HP\\anaconda3\\lib\\site-packages\\ipykernel_launcher.py:38: SettingWithCopyWarning: \n",
      "A value is trying to be set on a copy of a slice from a DataFrame\n",
      "\n",
      "See the caveats in the documentation: https://pandas.pydata.org/pandas-docs/stable/user_guide/indexing.html#returning-a-view-versus-a-copy\n"
     ]
    }
   ],
   "source": [
    "import pandas as pd\n",
    "csv = pd.read_csv('vrp_ekz_fact.csv')\n",
    "\n",
    "atyrau_ret = csv['o_prod_retail_atyrau']\n",
    "inder_ret = csv['o_prod_retail_inder']\n",
    "isatai_ret = csv['o_prod_retail_isatai']\n",
    "kurmangazy_ret = csv['o_prod_retail_kurmangazy']\n",
    "kzylkoga_ret = csv['o_prod_retail_kzylkoga']\n",
    "makhambet_ret = csv['o_prod_retail_makhambet']\n",
    "makat_ret = csv['o_prod_retail_makat']\n",
    "zhylyoi_ret = csv['o_prod_retail_zhylyoi']\n",
    "\n",
    "N_ret = csv['o_prod_retail']\n",
    "N_whl = csv['o_prod_trade']\n",
    "N_whl[:4] = 0\n",
    "\n",
    "atyrau_whl = csv['o_prod_trade_atyrau']\n",
    "inder_whl = csv['o_prod_trade_inder']\n",
    "isatai_whl = csv['o_prod_trade_isatai']\n",
    "kurmangazy_whl = csv['o_prod_trade_kurmangazy']\n",
    "kzylkoga_whl = csv['o_prod_trade_kzylkoga']\n",
    "makhambet_whl = csv['o_prod_trade_makhambet']\n",
    "makat_whl = csv['o_prod_trade_makat']\n",
    "zhylyoi_whl = csv['o_prod_trade_zhylyoi']\n",
    "\n",
    "\n",
    "aryrau_l_ret = csv['o_ifo_retail_atyrau']\n",
    "inder_l_ret = csv['o_ifo_retail_inder']\n",
    "isatai_l_ret = csv['o_ifo_retail_isatai']\n",
    "kurmangazy_l_ret = csv['o_ifo_retail_kurmangazy']\n",
    "kzylkoga_l_ret = csv['o_ifo_retail_kzylkoga']\n",
    "makhambet_l_ret = csv['o_ifo_retail_makhambet']\n",
    "makat_l_ret = csv['o_ifo_retail_makat']\n",
    "zhylyoi_l_ret = csv['o_ifo_retail_zhylyoi']\n",
    "\n",
    "ret = csv['o_ifo_retail']\n",
    "whl = csv['o_ifo_trade']\n",
    "whl[:7]=0\n",
    "\n",
    "aryrau_l_whl = csv['o_ifo_trade_atyrau']\n",
    "inder_l_whl = csv['o_ifo_trade_inder']\n",
    "isatai_l_whl = csv['o_ifo_trade_isatai']\n",
    "kurmangazy_l_whl = csv['o_ifo_trade_kurmangazy']\n",
    "kzylkoga_l_whl = csv['o_ifo_trade_kzylkoga']\n",
    "makhambet_l_whl = csv['o_ifo_trade_makhambet']\n",
    "makat_l_whl = csv['o_ifo_trade_makat']\n",
    "zhylyoi_l_whl = csv['o_ifo_trade_zhylyoi']\n",
    "\n",
    "Ntrd = atyrau_whl+atyrau_ret + inder_whl+inder_ret + isatai_whl+ isatai_ret + kurmangazy_whl+kurmangazy_ret + kzylkoga_whl+kzylkoga_ret + makhambet_whl+makhambet_ret + makat_whl+makat_ret + zhylyoi_whl+zhylyoi_ret\n",
    "\n",
    "ltrd = ((N_ret.shift(1)*ret)+(N_whl.shift(1)*whl))/Ntrd.shift(1)\n",
    "\n",
    "ltrd.to_csv(r'ltrd_AO(2001-2018).csv', index=False)"
   ]
  },
  {
   "cell_type": "code",
   "execution_count": null,
   "metadata": {},
   "outputs": [],
   "source": []
  },
  {
   "cell_type": "code",
   "execution_count": null,
   "metadata": {},
   "outputs": [],
   "source": []
  }
 ],
 "metadata": {
  "kernelspec": {
   "display_name": "Python 3",
   "language": "python",
   "name": "python3"
  },
  "language_info": {
   "codemirror_mode": {
    "name": "ipython",
    "version": 3
   },
   "file_extension": ".py",
   "mimetype": "text/x-python",
   "name": "python",
   "nbconvert_exporter": "python",
   "pygments_lexer": "ipython3",
   "version": "3.7.6"
  }
 },
 "nbformat": 4,
 "nbformat_minor": 4
}
