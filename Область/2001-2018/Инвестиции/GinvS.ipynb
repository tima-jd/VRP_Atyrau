{
 "cells": [
  {
   "cell_type": "code",
   "execution_count": 37,
   "metadata": {},
   "outputs": [
    {
     "data": {
      "text/plain": [
       "0.36183444156265626"
      ]
     },
     "execution_count": 37,
     "metadata": {},
     "output_type": "execute_result"
    }
   ],
   "source": [
    "import pandas as pd\n",
    "csv = pd.read_csv('vrp_ekz_fact.csv')\n",
    "\n",
    "lcon = csv['o_ifo_building'] \n",
    "inv = csv['o_building_invest']\n",
    "\n",
    "Ginv = inv/inv.shift(1) * 100\n",
    "\n",
    "i=18\n",
    "c=100\n",
    "b=100\n",
    "newdf = pd.DataFrame(columns=['c1','c2'], index=range(19))\n",
    "while i>0:\n",
    "    c = (c/Ginv[i]) * 100\n",
    "    b = (b/lcon[i]) * 100\n",
    "    i=i-1\n",
    "    newdf.loc[i].c1 = c\n",
    "    newdf.loc[i].c2 = b\n",
    "GinvS=newdf['c1']\n",
    "\n",
    "lconS=newdf['c2']\n",
    "lconS[18] = 100\n",
    "\n",
    "GinvS_1 = GinvS.drop([0,1,2,3,4,5])\n",
    "\n",
    "E_1 = ((GinvS[6:] - GinvS[6:].mean()) * (lconS[7:] - lconS[7:].mean())).sum() / ((GinvS[6:] - GinvS[6:].mean())**2).sum()\n",
    "\n",
    "E_1"
   ]
  },
  {
   "cell_type": "code",
   "execution_count": null,
   "metadata": {},
   "outputs": [],
   "source": []
  }
 ],
 "metadata": {
  "kernelspec": {
   "display_name": "Python 3",
   "language": "python",
   "name": "python3"
  },
  "language_info": {
   "codemirror_mode": {
    "name": "ipython",
    "version": 3
   },
   "file_extension": ".py",
   "mimetype": "text/x-python",
   "name": "python",
   "nbconvert_exporter": "python",
   "pygments_lexer": "ipython3",
   "version": "3.7.6"
  }
 },
 "nbformat": 4,
 "nbformat_minor": 4
}
