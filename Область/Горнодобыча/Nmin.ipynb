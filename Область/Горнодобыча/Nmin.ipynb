{
 "cells": [
  {
   "cell_type": "code",
   "execution_count": 6,
   "metadata": {},
   "outputs": [],
   "source": [
    "import pandas as pd\n",
    "csv_inder = pd.read_csv('Nmin_Inder(2019-2025).csv')\n",
    "csv_isatai = pd.read_csv('Nmin_Isatai(2019-2025).csv')\n",
    "csv_atyrau = pd.read_csv('Nmin_Atyrau(2019-2025).csv')\n",
    "csv_kurmangazy = pd.read_csv('Nmin_Kurmangazy(2019-2025).csv')\n",
    "csv_kzylkoga = pd.read_csv('Nmin_Kzylkoga(2019-2025).csv')\n",
    "csv_makat = pd.read_csv('Nmin_Makat(2019-2025).csv')\n",
    "csv_makhambet = pd.read_csv('Nmin_Makhambet(2019-2025).csv')\n",
    "csv_zhylyoi = pd.read_csv('Nmin_Zhylyoi(2019-2025).csv')\n",
    "\n",
    "inder =  csv_inder['c1']\n",
    "isatai =  csv_isatai['c1']\n",
    "atyrau =  csv_atyrau['c1']\n",
    "kurmangazy =  csv_kurmangazy['c1'] \n",
    "kzylkoga =  csv_kzylkoga['c1'] \n",
    "makat=  csv_makat['c1']\n",
    "makhambet=  csv_makhambet['c1']\n",
    "zhylyoi =  csv_zhylyoi['c1']\n",
    "\n",
    "\n",
    "Nmin = (inder+isatai+atyrau+kurmangazy+kzylkoga+makat+makhambet+zhylyoi)\n",
    "\n",
    "Nmin.to_csv(r'Nmin_AO(2019-2025).csv', index=False)"
   ]
  },
  {
   "cell_type": "code",
   "execution_count": null,
   "metadata": {},
   "outputs": [],
   "source": []
  }
 ],
 "metadata": {
  "kernelspec": {
   "display_name": "Python 3",
   "language": "python",
   "name": "python3"
  },
  "language_info": {
   "codemirror_mode": {
    "name": "ipython",
    "version": 3
   },
   "file_extension": ".py",
   "mimetype": "text/x-python",
   "name": "python",
   "nbconvert_exporter": "python",
   "pygments_lexer": "ipython3",
   "version": "3.7.6"
  }
 },
 "nbformat": 4,
 "nbformat_minor": 4
}
