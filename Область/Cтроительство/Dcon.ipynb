{
 "cells": [
  {
   "cell_type": "code",
   "execution_count": 4,
   "metadata": {},
   "outputs": [
    {
     "data": {
      "text/plain": [
       "0      98.700000\n",
       "1     103.573019\n",
       "2      99.952591\n",
       "3      99.941095\n",
       "4      99.944312\n",
       "5      99.935807\n",
       "6      99.858438\n",
       "7            NaN\n",
       "8            NaN\n",
       "9            NaN\n",
       "10           NaN\n",
       "11           NaN\n",
       "12           NaN\n",
       "13           NaN\n",
       "14           NaN\n",
       "15           NaN\n",
       "16           NaN\n",
       "17           NaN\n",
       "18           NaN\n",
       "19           NaN\n",
       "20           NaN\n",
       "Name: c1, dtype: float64"
      ]
     },
     "execution_count": 4,
     "metadata": {},
     "output_type": "execute_result"
    }
   ],
   "source": [
    "import pandas as pd\n",
    "csv_nagr = pd.read_csv('Ncon_AO(2019-2025).csv')\n",
    "csv_lagr = pd.read_csv('lcon_AO(2019-2025).csv')\n",
    "Nagr = csv_nagr['c1']\n",
    "lagr = csv_lagr['c1']\n",
    "\n",
    "\n",
    "Dcon = (Nagr/Nagr.shift(1)/lagr) * 10000\n",
    "Dcon[0]=98.7\n",
    "Dcon"
   ]
  },
  {
   "cell_type": "code",
   "execution_count": null,
   "metadata": {},
   "outputs": [],
   "source": []
  }
 ],
 "metadata": {
  "kernelspec": {
   "display_name": "Python 3",
   "language": "python",
   "name": "python3"
  },
  "language_info": {
   "codemirror_mode": {
    "name": "ipython",
    "version": 3
   },
   "file_extension": ".py",
   "mimetype": "text/x-python",
   "name": "python",
   "nbconvert_exporter": "python",
   "pygments_lexer": "ipython3",
   "version": "3.7.6"
  }
 },
 "nbformat": 4,
 "nbformat_minor": 4
}
