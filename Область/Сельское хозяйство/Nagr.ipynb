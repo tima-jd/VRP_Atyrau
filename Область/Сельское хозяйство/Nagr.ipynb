{
 "cells": [
  {
   "cell_type": "code",
   "execution_count": 4,
   "metadata": {},
   "outputs": [
    {
     "data": {
      "text/plain": [
       "0      75846.538062\n",
       "1      84243.229552\n",
       "2      93549.519338\n",
       "3     102981.762073\n",
       "4     113753.577681\n",
       "5     125421.064022\n",
       "6     138730.037229\n",
       "7     112641.416039\n",
       "8     124586.481890\n",
       "9     137766.303871\n",
       "10    151002.780877\n",
       "11    166129.380503\n",
       "12    182371.798594\n",
       "13    200912.524563\n",
       "14    173085.127087\n",
       "15    194966.104717\n",
       "16    217716.429130\n",
       "17    244084.018324\n",
       "18    272980.331849\n",
       "19    306452.363728\n",
       "20    250616.978653\n",
       "Name: c1, dtype: float64"
      ]
     },
     "execution_count": 4,
     "metadata": {},
     "output_type": "execute_result"
    }
   ],
   "source": [
    "import pandas as pd\n",
    "csv_inder = pd.read_csv('Nagr_Inder(2019-2025).csv')\n",
    "csv_isatai = pd.read_csv('Nagr_Isatai(2019-2025).csv')\n",
    "csv_atyrau = pd.read_csv('Nagr_Atyrau(2019-2025).csv')\n",
    "csv_kurmangazy = pd.read_csv('Nagr_Kurmangazy(2019-2025).csv')\n",
    "csv_kzylkoga = pd.read_csv('Nagr_Kzylkoga(2019-2025).csv')\n",
    "csv_makat = pd.read_csv('Nagr_Makat(2019-2025).csv')\n",
    "csv_makhambet = pd.read_csv('Nagr_Makhambet(2019-2025).csv')\n",
    "csv_zhylyoi =     pd.read_csv('Nagr_Zhylyoi(2019-2025).csv')\n",
    "\n",
    "inder =  csv_inder['c1']\n",
    "isatai =  csv_isatai['c1']\n",
    "atyrau =  csv_atyrau['c1']\n",
    "kurmangazy =  csv_kurmangazy['c1'] \n",
    "kzylkoga =  csv_kzylkoga['c1'] \n",
    "makat=  csv_makat['c1']\n",
    "makhambet=  csv_makhambet['c1']\n",
    "zhylyoi =  csv_zhylyoi['c1']\n",
    "\n",
    "\n",
    "Nagr = (inder+isatai+atyrau+kurmangazy+kzylkoga+makat+makhambet+zhylyoi)\n",
    "\n",
    "Nagr"
   ]
  },
  {
   "cell_type": "code",
   "execution_count": null,
   "metadata": {},
   "outputs": [],
   "source": []
  }
 ],
 "metadata": {
  "kernelspec": {
   "display_name": "Python 3",
   "language": "python",
   "name": "python3"
  },
  "language_info": {
   "codemirror_mode": {
    "name": "ipython",
    "version": 3
   },
   "file_extension": ".py",
   "mimetype": "text/x-python",
   "name": "python",
   "nbconvert_exporter": "python",
   "pygments_lexer": "ipython3",
   "version": "3.7.6"
  }
 },
 "nbformat": 4,
 "nbformat_minor": 4
}
