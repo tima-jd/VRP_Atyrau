{
 "cells": [
  {
   "cell_type": "code",
   "execution_count": 2,
   "metadata": {},
   "outputs": [
    {
     "name": "stderr",
     "output_type": "stream",
     "text": [
      "C:\\Users\\HP\\anaconda3\\lib\\site-packages\\ipykernel_launcher.py:33: RuntimeWarning: divide by zero encountered in double_scalars\n"
     ]
    }
   ],
   "source": [
    "import pandas as pd\n",
    "csv = pd.read_csv('vrp_ekz_fact.csv')\n",
    "csv_p = pd.read_csv('vrp_ekz_prog.csv')\n",
    "\n",
    "csv_con = pd.read_csv('lcon_AO(2019-2025).csv')\n",
    "csv_whl = pd.read_csv('lwhl_AO(2019-2025).csv')\n",
    "\n",
    "lcon = csv['o_ifo_building'] \n",
    "lcon_p = csv_con['c1']  \n",
    "lwhl_p = csv_whl['0'] \n",
    "\n",
    "lwhl = csv['o_ifo_trade']\n",
    "inv = csv['o_building_invest']\n",
    "inv_p = csv_p['o_building_invest']\n",
    "\n",
    "\n",
    "Ginv_f = inv/inv.shift(1) * 100\n",
    "\n",
    "inv_pp = inv_p.shift(1)\n",
    "inv_pp[0] = inv[18] \n",
    "\n",
    "Ginv_p = inv_p/inv_pp * 100\n",
    "\n",
    "i=18\n",
    "c=100\n",
    "b=100\n",
    "w=100\n",
    "newdf = pd.DataFrame(columns=['c1','c2','c3','c4','c5'], index=range(19))\n",
    "\n",
    "while i>0:\n",
    "    c = (c/Ginv_f[i]) * 100\n",
    "    b = (b/lcon[i]) * 100\n",
    "    w = (w/lwhl[i]) * 100\n",
    "    i=i-1\n",
    "    newdf.loc[i].c1 = c\n",
    "    newdf.loc[i].c2 = b\n",
    "    newdf.loc[i].c3 = w\n",
    "\n",
    "GinvS=newdf['c1']\n",
    "GinvS[18] = 100\n",
    "\n",
    "lconS=newdf['c2']\n",
    "lconS[18] = 100\n",
    "\n",
    "lwhlS=newdf['c3']\n",
    "lwhlS[18] = 100\n",
    "\n",
    "E_1 = ((GinvS[6:].shift(1) - GinvS[6:].shift(1).mean()) * (lconS[7:] - lconS[7:].mean())).sum()/ ((GinvS[6:].shift(1) - GinvS[6:].shift(1).mean())**2).sum()\n",
    "E_2 = ((GinvS[6:].shift(2) - GinvS[6:].shift(2).mean()) * (lconS[8:] - lconS[8:].mean())).sum()/ ((GinvS[6:].shift(2) - GinvS[6:].shift(2).mean())**2).sum()\n",
    "E_3 = ((GinvS[6:].shift(3) - GinvS[6:].shift(3).mean()) * (lconS[9:] - lconS[9:].mean())).sum()/ ((GinvS[6:].shift(3) - GinvS[6:].shift(3).mean())**2).sum()\n",
    "E_4 = ((GinvS[6:].shift(4) - GinvS[6:].shift(4).mean()) * (lconS[10:] - lconS[10:].mean())).sum()/ ((GinvS[6:].shift(4) - GinvS[6:].shift(4).mean())**2).sum()\n",
    "\n",
    "Econwhl = ((lconS[6:] - lconS[6:].mean()) * (lwhlS[6:] - lwhlS[6:].mean())).sum()/ ((lconS[6:] - lconS[6:].mean())**2).sum()\n",
    "\n",
    "G = Ginv_f.append(Ginv_p).reset_index(drop=True)\n",
    "Ginv = G.shift(-15)-100\n",
    "\n",
    "l = 0\n",
    "while(l<7):\n",
    "    addCon = Ginv[l+3] * E_1 + Ginv[l+2] * E_2 + Ginv[l+1] * E_3 + Ginv[l] * E_4\n",
    "    addlCon = ((lcon_p[l]-100)+addCon)+100\n",
    "    newdf.loc[l].c4 = addCon\n",
    "    newdf.loc[l].c5 = addlCon\n",
    "    l = l+1\n",
    "addCon = newdf['c4']\n",
    "addlCon = newdf['c5']\n",
    "\n",
    "addWhl = addCon*Econwhl\n",
    "addlWhl = ((lwhl_p-100) + addWhl)+100\n",
    "addlCon.to_csv((r'addlCon.csv'),index = False)"
   ]
  },
  {
   "cell_type": "code",
   "execution_count": null,
   "metadata": {},
   "outputs": [],
   "source": []
  },
  {
   "cell_type": "code",
   "execution_count": null,
   "metadata": {},
   "outputs": [],
   "source": []
  }
 ],
 "metadata": {
  "kernelspec": {
   "display_name": "Python 3",
   "language": "python",
   "name": "python3"
  },
  "language_info": {
   "codemirror_mode": {
    "name": "ipython",
    "version": 3
   },
   "file_extension": ".py",
   "mimetype": "text/x-python",
   "name": "python",
   "nbconvert_exporter": "python",
   "pygments_lexer": "ipython3",
   "version": "3.7.6"
  }
 },
 "nbformat": 4,
 "nbformat_minor": 4
}
