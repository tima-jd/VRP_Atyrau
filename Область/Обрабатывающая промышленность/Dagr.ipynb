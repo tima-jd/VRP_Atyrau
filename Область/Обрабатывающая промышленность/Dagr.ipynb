{
 "cells": [
  {
   "cell_type": "code",
   "execution_count": 5,
   "metadata": {},
   "outputs": [
    {
     "data": {
      "text/plain": [
       "0      98.600000\n",
       "1     104.090208\n",
       "2      99.999303\n",
       "3      99.994227\n",
       "4      99.597809\n",
       "5      99.901130\n",
       "6     100.411485\n",
       "7            NaN\n",
       "8            NaN\n",
       "9            NaN\n",
       "10           NaN\n",
       "11           NaN\n",
       "12           NaN\n",
       "13           NaN\n",
       "14           NaN\n",
       "15           NaN\n",
       "16           NaN\n",
       "17           NaN\n",
       "18           NaN\n",
       "19           NaN\n",
       "20           NaN\n",
       "dtype: float64"
      ]
     },
     "execution_count": 5,
     "metadata": {},
     "output_type": "execute_result"
    }
   ],
   "source": [
    "import pandas as pd\n",
    "csv_nagr = pd.read_csv('Nman_AO(2019-2025).csv')\n",
    "csv_lagr = pd.read_csv('lman_AO(2019-2025).csv')\n",
    "Nagr = csv_nagr['Nman']\n",
    "lagr = csv_lagr['0']\n",
    "\n",
    "\n",
    "Dagr = (Nagr/Nagr.shift(1)/lagr) * 10000\n",
    "Dagr[0]=98.6\n",
    "\n",
    "Dagr"
   ]
  },
  {
   "cell_type": "code",
   "execution_count": null,
   "metadata": {},
   "outputs": [],
   "source": []
  }
 ],
 "metadata": {
  "kernelspec": {
   "display_name": "Python 3",
   "language": "python",
   "name": "python3"
  },
  "language_info": {
   "codemirror_mode": {
    "name": "ipython",
    "version": 3
   },
   "file_extension": ".py",
   "mimetype": "text/x-python",
   "name": "python",
   "nbconvert_exporter": "python",
   "pygments_lexer": "ipython3",
   "version": "3.7.6"
  }
 },
 "nbformat": 4,
 "nbformat_minor": 4
}
