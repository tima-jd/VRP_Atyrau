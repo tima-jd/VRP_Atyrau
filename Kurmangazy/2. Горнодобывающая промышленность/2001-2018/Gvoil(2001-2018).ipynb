{
 "cells": [
  {
   "cell_type": "code",
   "execution_count": 2,
   "metadata": {},
   "outputs": [
    {
     "data": {
      "text/plain": [
       "0     15.36\n",
       "1     17.84\n",
       "2     18.79\n",
       "3     18.53\n",
       "4     19.68\n",
       "5     19.74\n",
       "6     19.70\n",
       "7     20.51\n",
       "8     24.70\n",
       "9     33.30\n",
       "10    33.10\n",
       "11    38.10\n",
       "12    34.60\n",
       "13    50.80\n",
       "14    37.70\n",
       "15    37.10\n",
       "16    40.20\n",
       "17    35.30\n",
       "18    45.50\n",
       "Name: o_oil_kurmangazy, dtype: float64"
      ]
     },
     "execution_count": 2,
     "metadata": {},
     "output_type": "execute_result"
    }
   ],
   "source": [
    "import pandas as pd\n",
    "csv = pd.read_csv('vrp_ekz_fact.csv')\n",
    "voil = csv['o_oil_kurmangazy']\n",
    "Gvoil = voil/voil.shift(1)*100\n",
    "voil"
   ]
  },
  {
   "cell_type": "code",
   "execution_count": null,
   "metadata": {},
   "outputs": [],
   "source": []
  }
 ],
 "metadata": {
  "kernelspec": {
   "display_name": "Python 3",
   "language": "python",
   "name": "python3"
  },
  "language_info": {
   "codemirror_mode": {
    "name": "ipython",
    "version": 3
   },
   "file_extension": ".py",
   "mimetype": "text/x-python",
   "name": "python",
   "nbconvert_exporter": "python",
   "pygments_lexer": "ipython3",
   "version": "3.7.6"
  }
 },
 "nbformat": 4,
 "nbformat_minor": 4
}
