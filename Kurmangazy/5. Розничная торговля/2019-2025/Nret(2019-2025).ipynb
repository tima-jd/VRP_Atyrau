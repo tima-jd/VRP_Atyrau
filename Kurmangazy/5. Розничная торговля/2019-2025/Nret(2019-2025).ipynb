{
 "cells": [
  {
   "cell_type": "code",
   "execution_count": 8,
   "metadata": {},
   "outputs": [],
   "source": [
    "import pandas as pd\n",
    "csv = pd.read_csv('vrp_ekz_fact.csv')\n",
    "lret_csv = pd.read_csv('lret(2019-2025).csv')\n",
    "Dret_csv = pd.read_csv('Dret(2019-2025).csv')\n",
    "\n",
    "lret = lret_csv['c1']\n",
    "Dret = Dret_csv['o_inflation']\n",
    "\n",
    "c = 7238.9\n",
    "i=0\n",
    "newdf = pd.DataFrame(columns=['c1'], index=range(21))\n",
    "\n",
    "while i<=6:\n",
    "    c = (c*lret[i]*Dret[i]) /10000\n",
    "    newdf.loc[i].c1 = c\n",
    "    i = i+1\n",
    "    \n",
    "Nret = newdf['c1']\n",
    "Nret.to_csv(r'Nret(2019-2025).csv', index = False)"
   ]
  },
  {
   "cell_type": "code",
   "execution_count": null,
   "metadata": {},
   "outputs": [],
   "source": []
  }
 ],
 "metadata": {
  "kernelspec": {
   "display_name": "Python 3",
   "language": "python",
   "name": "python3"
  },
  "language_info": {
   "codemirror_mode": {
    "name": "ipython",
    "version": 3
   },
   "file_extension": ".py",
   "mimetype": "text/x-python",
   "name": "python",
   "nbconvert_exporter": "python",
   "pygments_lexer": "ipython3",
   "version": "3.7.6"
  }
 },
 "nbformat": 4,
 "nbformat_minor": 4
}
