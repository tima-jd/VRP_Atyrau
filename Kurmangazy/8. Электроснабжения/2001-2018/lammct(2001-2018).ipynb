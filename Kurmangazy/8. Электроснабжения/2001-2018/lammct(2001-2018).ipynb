{
 "cells": [
  {
   "cell_type": "code",
   "execution_count": 3,
   "metadata": {},
   "outputs": [
    {
     "data": {
      "text/plain": [
       "0            NaN\n",
       "1      85.067264\n",
       "2     147.494505\n",
       "3      98.897268\n",
       "4     102.189400\n",
       "5     122.082273\n",
       "6      88.497013\n",
       "7     106.511528\n",
       "8     122.097474\n",
       "9     151.624204\n",
       "10    319.874780\n",
       "11    399.466693\n",
       "12     67.733694\n",
       "13    381.601115\n",
       "14     88.548660\n",
       "15    106.063716\n",
       "16     78.465330\n",
       "17    111.157590\n",
       "18    179.878852\n",
       "dtype: float64"
      ]
     },
     "execution_count": 3,
     "metadata": {},
     "output_type": "execute_result"
    }
   ],
   "source": [
    "import pandas as pd\n",
    "csv = pd.read_csv('vrp_ekz_fact.csv')\n",
    "\n",
    "l = pd.read_csv('lamm(2001-2018).csv')\n",
    "lt = pd.read_csv('ltrd(2001-2018).csv') \n",
    "Nt = pd.read_csv('Ntrd(2001-2018).csv') \n",
    "\n",
    "lamm = l['0']\n",
    "ltrd = lt['0']\n",
    "Ntrd = Nt['0']\n",
    "\n",
    "\n",
    "lagr = csv['o_ifo_agro_kurmangazy']\n",
    "Nagr = csv['o_prod_agro_kurmangazy']\n",
    "\n",
    "lmin = csv['o_ifo_mining_kurmangazy']\n",
    "Nmin = csv['o_prod_mining_kurmangazy']\n",
    "\n",
    "lman = csv['o_ifo_man_kurmangazy']\n",
    "Nman = csv['o_prod_man_kurmangazy']\n",
    "\n",
    "lcon = csv['o_ifo_building_kurmangazy']\n",
    "Ncon = csv['o_prod_building_kurmangazy']\n",
    "\n",
    "lammct = (lagr*Nagr.shift(1) + lmin*Nmin.shift(1)+lman*Nman.shift(1)+lcon*Ncon.shift(1)+ ltrd*Ntrd.shift(1))/(Nagr.shift(1)+Nmin.shift(1)+Nman.shift(1)+Ncon.shift(1)+Ntrd.shift(1))\n",
    "\n",
    "lammct"
   ]
  },
  {
   "cell_type": "code",
   "execution_count": null,
   "metadata": {},
   "outputs": [],
   "source": []
  }
 ],
 "metadata": {
  "kernelspec": {
   "display_name": "Python 3",
   "language": "python",
   "name": "python3"
  },
  "language_info": {
   "codemirror_mode": {
    "name": "ipython",
    "version": 3
   },
   "file_extension": ".py",
   "mimetype": "text/x-python",
   "name": "python",
   "nbconvert_exporter": "python",
   "pygments_lexer": "ipython3",
   "version": "3.7.6"
  }
 },
 "nbformat": 4,
 "nbformat_minor": 4
}
