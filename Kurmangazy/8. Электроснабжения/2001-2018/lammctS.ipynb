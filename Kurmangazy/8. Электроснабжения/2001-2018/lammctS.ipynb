{
 "cells": [
  {
   "cell_type": "code",
   "execution_count": 1,
   "metadata": {},
   "outputs": [
    {
     "data": {
      "text/plain": [
       "0     0.760672\n",
       "1     0.647083\n",
       "2     0.954412\n",
       "3     0.943888\n",
       "4     0.964553\n",
       "5      1.17755\n",
       "6       1.0421\n",
       "7      1.10995\n",
       "8      1.35522\n",
       "9      2.05485\n",
       "10     6.57293\n",
       "11     26.2567\n",
       "12     17.7846\n",
       "13     67.8663\n",
       "14     60.0947\n",
       "15     63.7387\n",
       "16     50.0128\n",
       "17      55.593\n",
       "18         100\n",
       "Name: c1, dtype: object"
      ]
     },
     "execution_count": 1,
     "metadata": {},
     "output_type": "execute_result"
    }
   ],
   "source": [
    "import pandas as pd\n",
    "csv = pd.read_csv('vrp_ekz_fact.csv')\n",
    "\n",
    "l = pd.read_csv('lamm(2001-2018).csv')\n",
    "lt = pd.read_csv('ltrd(2001-2018).csv') \n",
    "Nt = pd.read_csv('Ntrd(2001-2018).csv') \n",
    "\n",
    "lamm = l['0']\n",
    "ltrd = lt['0']\n",
    "Ntrd = Nt['0']\n",
    "\n",
    "\n",
    "lagr = csv['o_ifo_agro_kurmangazy']\n",
    "Nagr = csv['o_prod_agro_kurmangazy']\n",
    "\n",
    "lmin = csv['o_ifo_mining_kurmangazy']\n",
    "Nmin = csv['o_prod_mining_kurmangazy']\n",
    "\n",
    "lman = csv['o_ifo_man_kurmangazy']\n",
    "Nman = csv['o_prod_man_kurmangazy']\n",
    "\n",
    "lcon = csv['o_ifo_building_kurmangazy']\n",
    "Ncon = csv['o_prod_building_kurmangazy']\n",
    "\n",
    "lammct = (lagr*Nagr.shift(1) + lmin*Nmin.shift(1)+lman*Nman.shift(1)+lcon*Ncon.shift(1)+ ltrd*Ntrd.shift(1))/(Nagr.shift(1)+Nmin.shift(1)+Nman.shift(1)+Ncon.shift(1)+Ntrd.shift(1))\n",
    "\n",
    "c=100\n",
    "i=18\n",
    "newdf = pd.DataFrame(columns=['c1'], index=range(19))\n",
    "\n",
    "while i>0:    \n",
    "    c = c/lammct[i]*100 \n",
    "    i = i-1\n",
    "    newdf.loc[i].c1 = c\n",
    "    \n",
    "lammctS = newdf['c1']\n",
    "lammctS[18]=100\n",
    "\n",
    "lammctS"
   ]
  },
  {
   "cell_type": "code",
   "execution_count": null,
   "metadata": {},
   "outputs": [],
   "source": []
  },
  {
   "cell_type": "code",
   "execution_count": null,
   "metadata": {},
   "outputs": [],
   "source": []
  }
 ],
 "metadata": {
  "kernelspec": {
   "display_name": "Python 3",
   "language": "python",
   "name": "python3"
  },
  "language_info": {
   "codemirror_mode": {
    "name": "ipython",
    "version": 3
   },
   "file_extension": ".py",
   "mimetype": "text/x-python",
   "name": "python",
   "nbconvert_exporter": "python",
   "pygments_lexer": "ipython3",
   "version": "3.7.6"
  }
 },
 "nbformat": 4,
 "nbformat_minor": 4
}
