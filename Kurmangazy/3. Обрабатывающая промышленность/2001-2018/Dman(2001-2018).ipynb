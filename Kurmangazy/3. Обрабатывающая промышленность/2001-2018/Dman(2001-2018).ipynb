{
 "cells": [
  {
   "cell_type": "code",
   "execution_count": 2,
   "metadata": {},
   "outputs": [
    {
     "data": {
      "text/plain": [
       "0            NaN\n",
       "1      64.217827\n",
       "2      46.438571\n",
       "3     124.140565\n",
       "4      89.423125\n",
       "5     139.233784\n",
       "6     116.471755\n",
       "7      93.569543\n",
       "8     141.862739\n",
       "9     154.047579\n",
       "10    158.986371\n",
       "11    120.446554\n",
       "12    161.792843\n",
       "13     85.978487\n",
       "14     57.040998\n",
       "15     94.749764\n",
       "16    142.820404\n",
       "17     79.214047\n",
       "18    108.863176\n",
       "dtype: float64"
      ]
     },
     "execution_count": 2,
     "metadata": {},
     "output_type": "execute_result"
    }
   ],
   "source": [
    "import pandas as pd\n",
    "csv = pd.read_csv('vrp_ekz_fact.csv')\n",
    "\n",
    "lman= csv['o_ifo_man_kurmangazy']\n",
    "Nman = csv['o_prod_man_kurmangazy']\n",
    "\n",
    "Dman = Nman/Nman.shift(1)/lman * 10000\n",
    "\n",
    "Dman"
   ]
  },
  {
   "cell_type": "code",
   "execution_count": null,
   "metadata": {},
   "outputs": [],
   "source": []
  }
 ],
 "metadata": {
  "kernelspec": {
   "display_name": "Python 3",
   "language": "python",
   "name": "python3"
  },
  "language_info": {
   "codemirror_mode": {
    "name": "ipython",
    "version": 3
   },
   "file_extension": ".py",
   "mimetype": "text/x-python",
   "name": "python",
   "nbconvert_exporter": "python",
   "pygments_lexer": "ipython3",
   "version": "3.7.6"
  }
 },
 "nbformat": 4,
 "nbformat_minor": 4
}
