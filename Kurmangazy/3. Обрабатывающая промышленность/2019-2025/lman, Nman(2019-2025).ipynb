{
 "cells": [
  {
   "cell_type": "code",
   "execution_count": 4,
   "metadata": {},
   "outputs": [
    {
     "data": {
      "text/plain": [
       "0      98.590458\n",
       "1     104.160655\n",
       "2     100.000000\n",
       "3     100.000000\n",
       "4     100.000000\n",
       "5     100.000000\n",
       "6     100.000000\n",
       "7      96.003104\n",
       "8     123.804871\n",
       "9     100.000000\n",
       "10    100.000000\n",
       "11    100.000000\n",
       "12    100.000000\n",
       "13    100.000000\n",
       "14     70.361487\n",
       "15    100.000000\n",
       "16    100.000000\n",
       "17    100.000000\n",
       "18    100.000000\n",
       "19    100.000000\n",
       "20    114.621709\n",
       "Name: 0, dtype: float64"
      ]
     },
     "execution_count": 4,
     "metadata": {},
     "output_type": "execute_result"
    }
   ],
   "source": [
    "import pandas as pd\n",
    "\n",
    "csv = pd.read_csv('Dmin(2019-2025).csv')\n",
    "Dmin=csv['0']\n",
    "\n",
    "Dman = (Dmin-100)*1.0415526245421316+100\n",
    "\n",
    "Dman"
   ]
  },
  {
   "cell_type": "code",
   "execution_count": 5,
   "metadata": {},
   "outputs": [
    {
     "data": {
      "text/plain": [
       "0       17\n",
       "1       15\n",
       "2      238\n",
       "3      221\n",
       "4      233\n",
       "5      291\n",
       "6      343\n",
       "7      449\n",
       "8      772\n",
       "9     1106\n",
       "10    1572\n",
       "11    2043\n",
       "12    3593\n",
       "13    2805\n",
       "14    1424\n",
       "15    1414\n",
       "16    2177\n",
       "17    1521\n",
       "18    1525\n",
       "Name: o_prod_man_kurmangazy, dtype: int64"
      ]
     },
     "execution_count": 5,
     "metadata": {},
     "output_type": "execute_result"
    }
   ],
   "source": [
    "import pandas as pd\n",
    "csv = pd.read_csv('vrp_ekz_fact.csv')\n",
    "c = pd.read_csv('vrp_ekz_prog.csv')\n",
    "\n",
    "q = pd.read_csv('lagr(2019-2025).csv')\n",
    "w = pd.read_csv('lmin(2019-2025).csv')\n",
    "d = pd.read_csv('Dmin(2019-2025).csv')\n",
    "e = pd.read_csv('Nagrt(2019-2025).csv')\n",
    "r = pd.read_csv('Nmin(2019-2025).csv')\n",
    "\n",
    "Dmin = d['0']\n",
    "\n",
    "lagr = q['c1']\n",
    "lmin = w['c1']\n",
    "\n",
    "Nagr = csv['o_prod_agro_kurmangazy']\n",
    "Nmin = csv['o_prod_mining_kurmangazy']\n",
    "lman= csv['o_ifo_man_kurmangazy']\n",
    "Nman = csv['o_prod_man_kurmangazy']\n",
    "\n",
    "Nmin_p = r['c1']\n",
    "Nagr_p = e['c1']\n",
    "\n",
    "\n",
    "lamml_2019 = (lagr[0]*Nagr[18]+lmin[0]*Nmin[18]+lman[18]*Nman[17])/(Nagr[18]+Nmin[18]+Nman[17])\n",
    "\n",
    "lmanS_2019 = 100*((lamml_2019 - 100) * 0.757888035070085 + 100)/100\n",
    "lman_2019 = lmanS_2019/100 * 100\n",
    "\n",
    "Nman_2019=(Nman[18]*lman_2019*Dman[0])/10000\n",
    "\n",
    "\n",
    "lamml_2020 = (lagr[1]*Nagr_p[0]+lmin[1]*Nmin_p[0]+lman_2019*Nman[18])/(Nagr_p[0]+Nmin_p[0]+ Nman[18])\n",
    "lmanS_2020 = lmanS_2019 *((lamml_2020 - 100) * 0.757888035070085 + 100)/100\n",
    "lman_2020 = lmanS_2020/lmanS_2019 * 100\n",
    "\n",
    "Nman_2020=(Nman_2019*lman_2020*Dman[1])/10000\n",
    "Nman"
   ]
  },
  {
   "cell_type": "code",
   "execution_count": 18,
   "metadata": {},
   "outputs": [
    {
     "data": {
      "text/html": [
       "<div>\n",
       "<style scoped>\n",
       "    .dataframe tbody tr th:only-of-type {\n",
       "        vertical-align: middle;\n",
       "    }\n",
       "\n",
       "    .dataframe tbody tr th {\n",
       "        vertical-align: top;\n",
       "    }\n",
       "\n",
       "    .dataframe thead th {\n",
       "        text-align: right;\n",
       "    }\n",
       "</style>\n",
       "<table border=\"1\" class=\"dataframe\">\n",
       "  <thead>\n",
       "    <tr style=\"text-align: right;\">\n",
       "      <th></th>\n",
       "      <th>Nman</th>\n",
       "      <th>lman</th>\n",
       "      <th>lmanS</th>\n",
       "      <th>lamml</th>\n",
       "    </tr>\n",
       "  </thead>\n",
       "  <tbody>\n",
       "    <tr>\n",
       "      <th>0</th>\n",
       "      <td>1524.76</td>\n",
       "      <td>101.413</td>\n",
       "      <td>101.413</td>\n",
       "      <td>101.865</td>\n",
       "    </tr>\n",
       "    <tr>\n",
       "      <th>1</th>\n",
       "      <td>1656.53</td>\n",
       "      <td>104.302</td>\n",
       "      <td>105.777</td>\n",
       "      <td>105.677</td>\n",
       "    </tr>\n",
       "    <tr>\n",
       "      <th>2</th>\n",
       "      <td>1708.74</td>\n",
       "      <td>103.152</td>\n",
       "      <td>109.111</td>\n",
       "      <td>104.159</td>\n",
       "    </tr>\n",
       "    <tr>\n",
       "      <th>3</th>\n",
       "      <td>1774.46</td>\n",
       "      <td>103.846</td>\n",
       "      <td>113.307</td>\n",
       "      <td>105.074</td>\n",
       "    </tr>\n",
       "    <tr>\n",
       "      <th>4</th>\n",
       "      <td>1914.78</td>\n",
       "      <td>107.908</td>\n",
       "      <td>122.268</td>\n",
       "      <td>110.435</td>\n",
       "    </tr>\n",
       "    <tr>\n",
       "      <th>5</th>\n",
       "      <td>1984.77</td>\n",
       "      <td>103.655</td>\n",
       "      <td>126.737</td>\n",
       "      <td>104.823</td>\n",
       "    </tr>\n",
       "    <tr>\n",
       "      <th>6</th>\n",
       "      <td>5410.81</td>\n",
       "      <td>103.855</td>\n",
       "      <td>131.622</td>\n",
       "      <td>105.086</td>\n",
       "    </tr>\n",
       "  </tbody>\n",
       "</table>\n",
       "</div>"
      ],
      "text/plain": [
       "      Nman     lman    lmanS    lamml\n",
       "0  1524.76  101.413  101.413  101.865\n",
       "1  1656.53  104.302  105.777  105.677\n",
       "2  1708.74  103.152  109.111  104.159\n",
       "3  1774.46  103.846  113.307  105.074\n",
       "4  1914.78  107.908  122.268  110.435\n",
       "5  1984.77  103.655  126.737  104.823\n",
       "6  5410.81  103.855  131.622  105.086"
      ]
     },
     "execution_count": 18,
     "metadata": {},
     "output_type": "execute_result"
    }
   ],
   "source": [
    "i=0\n",
    "\n",
    "newdf = pd.DataFrame(columns=['Nman','lman','lmanS', 'lamml'], index=range(7))\n",
    "\n",
    "while i<=4:\n",
    "    lamml_2020 = (lagr[i+2]*Nagr_p[i+1]+lmin[i+2]*Nmin_p[i+1]+lman_2020*Nman_2019)/(Nagr_p[i+1]+Nmin_p[i+1]+Nman_2019)\n",
    "    \n",
    "    lmanS_2021 = lmanS_2020*((lamml_2020 - 100) * 0.757888035070085 + 100)/100        \n",
    "    \n",
    "    Nman_2019 = Nman_2019*lman_2020*Dman[i+1]/10000\n",
    "    \n",
    "    lman_2020 = lmanS_2021/lmanS_2020 * 100\n",
    "    lmanS_2020=lmanS_2021\n",
    "    \n",
    "    newdf.loc[i+1].Nman = Nman_2019\n",
    "    newdf.loc[i+2].lman = lman_2020\n",
    "    newdf.loc[i+2].lmanS = lmanS_2021\n",
    "    newdf.loc[i+2].lamml = lamml_2020  \n",
    "    i=i+1\n",
    "\n",
    "n=(4392.03*123.196*100.000000)/10000\n",
    "\n",
    "Nma = newdf['Nman']\n",
    "Nma[0] = 1524.7554538502693\n",
    "Nma[6] = n\n",
    "Nman = Nma\n",
    "\n",
    "lma = newdf['lman']\n",
    "lma[0] = 101.41342910471003\n",
    "lma[1] = 104.30241896040164\n",
    "lman = lma\n",
    "\n",
    "lmaS = newdf['lmanS']\n",
    "lmaS[0] = 101.41342910471003\n",
    "lmaS[1] = 105.77665970690455\n",
    "lmanS = lmaS\n",
    "\n",
    "lamm = newdf['lamml']\n",
    "lamm[0] = 101.86495767093001\n",
    "lamm[1] = 105.67685299320469\n",
    "lamml = lamm\n",
    "\n",
    "newdf"
   ]
  },
  {
   "cell_type": "code",
   "execution_count": 21,
   "metadata": {},
   "outputs": [
    {
     "data": {
      "text/plain": [
       "0    1524.76\n",
       "1    1656.53\n",
       "2    1708.74\n",
       "3    1774.46\n",
       "4    1914.78\n",
       "5    1984.77\n",
       "6    5410.81\n",
       "Name: Nman, dtype: object"
      ]
     },
     "execution_count": 21,
     "metadata": {},
     "output_type": "execute_result"
    }
   ],
   "source": [
    "Nman"
   ]
  },
  {
   "cell_type": "code",
   "execution_count": 23,
   "metadata": {},
   "outputs": [],
   "source": [
    "lman.to_csv(r'lman_Kurmangazy(2019-2025).csv', index = False)"
   ]
  },
  {
   "cell_type": "code",
   "execution_count": null,
   "metadata": {},
   "outputs": [],
   "source": []
  }
 ],
 "metadata": {
  "kernelspec": {
   "display_name": "Python 3",
   "language": "python",
   "name": "python3"
  },
  "language_info": {
   "codemirror_mode": {
    "name": "ipython",
    "version": 3
   },
   "file_extension": ".py",
   "mimetype": "text/x-python",
   "name": "python",
   "nbconvert_exporter": "python",
   "pygments_lexer": "ipython3",
   "version": "3.7.6"
  }
 },
 "nbformat": 4,
 "nbformat_minor": 4
}
