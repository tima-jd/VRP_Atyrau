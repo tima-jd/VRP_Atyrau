{
 "cells": [
  {
   "cell_type": "code",
   "execution_count": 1,
   "metadata": {},
   "outputs": [
    {
     "data": {
      "text/plain": [
       "0      98.590458\n",
       "1     104.160655\n",
       "2     100.000000\n",
       "3     100.000000\n",
       "4     100.000000\n",
       "5     100.000000\n",
       "6     100.000000\n",
       "7      96.003104\n",
       "8     123.804871\n",
       "9     100.000000\n",
       "10    100.000000\n",
       "11    100.000000\n",
       "12    100.000000\n",
       "13    100.000000\n",
       "14     70.361487\n",
       "15    100.000000\n",
       "16    100.000000\n",
       "17    100.000000\n",
       "18    100.000000\n",
       "19    100.000000\n",
       "20    114.621709\n",
       "Name: 0, dtype: float64"
      ]
     },
     "execution_count": 1,
     "metadata": {},
     "output_type": "execute_result"
    }
   ],
   "source": [
    "import pandas as pd\n",
    "\n",
    "csv = pd.read_csv('Dmin(2019-2025).csv')\n",
    "Dmin=csv['0']\n",
    "\n",
    "Dman = (Dmin-100)*1.0415526245421316+100\n",
    "\n",
    "Dman\n",
    "\n"
   ]
  },
  {
   "cell_type": "code",
   "execution_count": null,
   "metadata": {},
   "outputs": [],
   "source": []
  }
 ],
 "metadata": {
  "kernelspec": {
   "display_name": "Python 3",
   "language": "python",
   "name": "python3"
  },
  "language_info": {
   "codemirror_mode": {
    "name": "ipython",
    "version": 3
   },
   "file_extension": ".py",
   "mimetype": "text/x-python",
   "name": "python",
   "nbconvert_exporter": "python",
   "pygments_lexer": "ipython3",
   "version": "3.7.6"
  }
 },
 "nbformat": 4,
 "nbformat_minor": 4
}
