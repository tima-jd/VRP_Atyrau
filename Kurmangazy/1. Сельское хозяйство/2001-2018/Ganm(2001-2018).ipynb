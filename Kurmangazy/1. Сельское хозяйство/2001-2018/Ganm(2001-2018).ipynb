{
 "cells": [
  {
   "cell_type": "code",
   "execution_count": 2,
   "metadata": {},
   "outputs": [
    {
     "data": {
      "text/plain": [
       "0     13310.14\n",
       "1     14123.48\n",
       "2     14565.74\n",
       "3     15519.64\n",
       "4     16871.06\n",
       "5     17831.38\n",
       "6     18561.18\n",
       "7     19246.44\n",
       "8     20118.54\n",
       "9     20498.44\n",
       "10    21496.52\n",
       "11    21529.90\n",
       "12    21783.18\n",
       "13    22359.20\n",
       "14    24818.14\n",
       "15    25834.30\n",
       "16    26683.12\n",
       "17    28359.84\n",
       "18    31028.90\n",
       "dtype: float64"
      ]
     },
     "execution_count": 2,
     "metadata": {},
     "output_type": "execute_result"
    }
   ],
   "source": [
    "import pandas as pd\n",
    "xlsx = pd.read_csv('vrp_ekz_fact.csv')\n",
    "Ganm = ((xlsx['o_cattle_kurmangazy'] * xlsx['o_weight_cattle']) + (xlsx['o_goats_kurmangazy'] * xlsx['o_weight_goats']) + (xlsx['o_horses_kurmangazy']* xlsx['o_weight_horses']) + (xlsx['o_poultry_kurmangazy'] * xlsx['o_weight_poultry']))/((xlsx['o_cattle_kurmangazy'] * xlsx['o_weight_cattle']).shift(1) + (xlsx['o_goats_kurmangazy'] * xlsx['o_weight_goats']).shift(1) + (xlsx['o_horses_kurmangazy']* xlsx['o_weight_horses']).shift(1) + (xlsx['o_poultry_kurmangazy'] * xlsx['o_weight_poultry']).shift(1)) * 100\n",
    "k = ((xlsx['o_cattle_kurmangazy'] * xlsx['o_weight_cattle']) + (xlsx['o_goats_kurmangazy'] * xlsx['o_weight_goats']) + (xlsx['o_horses_kurmangazy']* xlsx['o_weight_horses']) + (xlsx['o_poultry_kurmangazy'] * xlsx['o_weight_poultry']))\n",
    "k"
   ]
  },
  {
   "cell_type": "code",
   "execution_count": null,
   "metadata": {},
   "outputs": [],
   "source": []
  }
 ],
 "metadata": {
  "kernelspec": {
   "display_name": "Python 3",
   "language": "python",
   "name": "python3"
  },
  "language_info": {
   "codemirror_mode": {
    "name": "ipython",
    "version": 3
   },
   "file_extension": ".py",
   "mimetype": "text/x-python",
   "name": "python",
   "nbconvert_exporter": "python",
   "pygments_lexer": "ipython3",
   "version": "3.7.6"
  }
 },
 "nbformat": 4,
 "nbformat_minor": 4
}
