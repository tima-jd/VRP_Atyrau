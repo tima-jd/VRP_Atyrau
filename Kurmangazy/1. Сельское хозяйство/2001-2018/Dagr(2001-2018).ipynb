{
 "cells": [
  {
   "cell_type": "code",
   "execution_count": 1,
   "metadata": {},
   "outputs": [
    {
     "data": {
      "text/plain": [
       "0            NaN\n",
       "1     110.149469\n",
       "2     110.099297\n",
       "3     110.092588\n",
       "4     107.895169\n",
       "5     137.286283\n",
       "6     117.450655\n",
       "7     118.296901\n",
       "8     111.415812\n",
       "9     105.923350\n",
       "10    143.063995\n",
       "11    108.173860\n",
       "12    108.471773\n",
       "13    110.145832\n",
       "14     97.995173\n",
       "15    114.698771\n",
       "16     98.567979\n",
       "17     98.502335\n",
       "18    106.888704\n",
       "dtype: float64"
      ]
     },
     "execution_count": 1,
     "metadata": {},
     "output_type": "execute_result"
    }
   ],
   "source": [
    "import pandas as pd\n",
    "import numpy as np\n",
    "csv_file = pd.read_csv('vrp_ekz_fact.csv')\n",
    "lagr = csv_file['o_ifo_agro_kurmangazy']\n",
    "Nagr= csv_file['o_prod_agro_kurmangazy']\n",
    "Dagr = Nagr/Nagr.shift(1)/lagr*10000\n",
    "\n",
    "Dagr"
   ]
  },
  {
   "cell_type": "code",
   "execution_count": null,
   "metadata": {},
   "outputs": [],
   "source": []
  },
  {
   "cell_type": "code",
   "execution_count": null,
   "metadata": {},
   "outputs": [],
   "source": []
  }
 ],
 "metadata": {
  "kernelspec": {
   "display_name": "Python 3",
   "language": "python",
   "name": "python3"
  },
  "language_info": {
   "codemirror_mode": {
    "name": "ipython",
    "version": 3
   },
   "file_extension": ".py",
   "mimetype": "text/x-python",
   "name": "python",
   "nbconvert_exporter": "python",
   "pygments_lexer": "ipython3",
   "version": "3.7.6"
  }
 },
 "nbformat": 4,
 "nbformat_minor": 4
}
