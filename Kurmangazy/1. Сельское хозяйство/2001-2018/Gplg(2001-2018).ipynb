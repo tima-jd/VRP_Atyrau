{
 "cells": [
  {
   "cell_type": "code",
   "execution_count": 6,
   "metadata": {},
   "outputs": [
    {
     "data": {
      "text/plain": [
       "0            NaN\n",
       "1     106.122449\n",
       "2     100.000000\n",
       "3     105.769231\n",
       "4     105.454545\n",
       "5      94.827586\n",
       "6     110.909091\n",
       "7     109.836066\n",
       "8     107.462687\n",
       "9      87.500000\n",
       "10     96.825397\n",
       "11    104.918033\n",
       "12    103.125000\n",
       "13     89.393939\n",
       "14    121.016949\n",
       "15    128.011204\n",
       "16     91.247265\n",
       "17    114.148681\n",
       "18     96.848739\n",
       "dtype: float64"
      ]
     },
     "execution_count": 6,
     "metadata": {},
     "output_type": "execute_result"
    }
   ],
   "source": [
    "import pandas as pd\n",
    "xlsx = pd.read_csv('vrp_ekz_fact.csv')\n",
    "Gplg = ((xlsx['o_potato_kurmangazy'] + xlsx['o_grain_kurmangazy'] + xlsx['o_vegetables_kurmangazy'])/(xlsx['o_potato_kurmangazy'].shift(1) + xlsx['o_grain_kurmangazy'].shift(1) + xlsx['o_vegetables_kurmangazy'].shift(1))) * 100\n",
    "Gplg "
   ]
  },
  {
   "cell_type": "code",
   "execution_count": null,
   "metadata": {},
   "outputs": [],
   "source": []
  }
 ],
 "metadata": {
  "kernelspec": {
   "display_name": "Python 3",
   "language": "python",
   "name": "python3"
  },
  "language_info": {
   "codemirror_mode": {
    "name": "ipython",
    "version": 3
   },
   "file_extension": ".py",
   "mimetype": "text/x-python",
   "name": "python",
   "nbconvert_exporter": "python",
   "pygments_lexer": "ipython3",
   "version": "3.7.6"
  }
 },
 "nbformat": 4,
 "nbformat_minor": 4
}
