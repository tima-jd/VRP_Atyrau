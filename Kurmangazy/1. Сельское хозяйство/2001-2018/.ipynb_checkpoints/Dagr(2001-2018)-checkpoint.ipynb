{
 "cells": [
  {
   "cell_type": "code",
   "execution_count": 1,
   "metadata": {},
   "outputs": [
    {
     "data": {
      "text/plain": [
       "0            NaN\n",
       "1     110.383346\n",
       "2     110.408878\n",
       "3     110.413284\n",
       "4     107.942431\n",
       "5     137.277194\n",
       "6     117.432630\n",
       "7     118.311656\n",
       "8     111.404908\n",
       "9     105.936418\n",
       "10    111.150266\n",
       "11    112.249793\n",
       "12    140.659568\n",
       "13    109.096468\n",
       "14    106.409783\n",
       "15    104.625870\n",
       "16    122.599768\n",
       "17     81.357745\n",
       "18    104.613137\n",
       "dtype: float64"
      ]
     },
     "execution_count": 1,
     "metadata": {},
     "output_type": "execute_result"
    }
   ],
   "source": [
    "import pandas as pd\n",
    "import numpy as np\n",
    "csv_file = pd.read_csv('vrp_ekz_fact.csv')\n",
    "lagr = csv_file['o_ifo_agro_isatai']\n",
    "Nagr= csv_file['o_prod_agro_isatai']\n",
    "Dagr = Nagr/Nagr.shift(1)/lagr*10000\n",
    "\n",
    "Dagr"
   ]
  },
  {
   "cell_type": "code",
   "execution_count": null,
   "metadata": {},
   "outputs": [],
   "source": []
  },
  {
   "cell_type": "code",
   "execution_count": null,
   "metadata": {},
   "outputs": [],
   "source": []
  }
 ],
 "metadata": {
  "kernelspec": {
   "display_name": "Python 3",
   "language": "python",
   "name": "python3"
  },
  "language_info": {
   "codemirror_mode": {
    "name": "ipython",
    "version": 3
   },
   "file_extension": ".py",
   "mimetype": "text/x-python",
   "name": "python",
   "nbconvert_exporter": "python",
   "pygments_lexer": "ipython3",
   "version": "3.7.6"
  }
 },
 "nbformat": 4,
 "nbformat_minor": 4
}
