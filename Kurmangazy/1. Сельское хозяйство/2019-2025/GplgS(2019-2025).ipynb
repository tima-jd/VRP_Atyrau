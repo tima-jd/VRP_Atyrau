{
 "cells": [
  {
   "cell_type": "code",
   "execution_count": 1,
   "metadata": {},
   "outputs": [
    {
     "data": {
      "text/plain": [
       "0      104.23\n",
       "1     108.785\n",
       "2     113.557\n",
       "3     118.655\n",
       "4     124.078\n",
       "5     129.826\n",
       "6     135.792\n",
       "7      104.23\n",
       "8     108.785\n",
       "9     113.557\n",
       "10    118.655\n",
       "11    124.078\n",
       "12    129.826\n",
       "13    135.792\n",
       "14    108.785\n",
       "15    113.557\n",
       "16    118.655\n",
       "17    124.078\n",
       "18    129.826\n",
       "19    135.792\n",
       "20     104.23\n",
       "Name: c1, dtype: object"
      ]
     },
     "execution_count": 1,
     "metadata": {},
     "output_type": "execute_result"
    }
   ],
   "source": [
    "import pandas as pd\n",
    "import numpy as np\n",
    "xlsx = pd.read_csv('vrp_ekz_prog.csv')\n",
    "\n",
    "Gplg = ((xlsx['o_potato_kurmangazy'] + xlsx['o_grain_kurmangazy'] + xlsx['o_vegetables_kurmangazy'])/(xlsx['o_potato_kurmangazy'].shift(1) + xlsx['o_grain_kurmangazy'].shift(1) + xlsx['o_vegetables_kurmangazy'].shift(1))) * 100\n",
    "\n",
    "\n",
    "l = (xlsx['o_potato_kurmangazy'].shift(1) + xlsx['o_grain_kurmangazy'].shift(1) + xlsx['o_vegetables_kurmangazy'].shift(1))\n",
    "l[0]=9.22\n",
    "\n",
    "Gplg = ((xlsx['o_potato_kurmangazy'] + xlsx['o_grain_kurmangazy'] + xlsx['o_vegetables_kurmangazy'])/l)\n",
    "\n",
    "newdf = pd.DataFrame(columns=['c1'], index=range(21))\n",
    "\n",
    "c=100\n",
    "i=0\n",
    "while i<=20:\n",
    "    c = (c*Gplg[i])\n",
    "    newdf.loc[i].c1 = c\n",
    "    i=i+1\n",
    "GplgS=newdf['c1']\n",
    "\n",
    "GplgS\n"
   ]
  },
  {
   "cell_type": "code",
   "execution_count": null,
   "metadata": {},
   "outputs": [],
   "source": []
  }
 ],
 "metadata": {
  "kernelspec": {
   "display_name": "Python 3",
   "language": "python",
   "name": "python3"
  },
  "language_info": {
   "codemirror_mode": {
    "name": "ipython",
    "version": 3
   },
   "file_extension": ".py",
   "mimetype": "text/x-python",
   "name": "python",
   "nbconvert_exporter": "python",
   "pygments_lexer": "ipython3",
   "version": "3.7.6"
  }
 },
 "nbformat": 4,
 "nbformat_minor": 4
}
