{
 "cells": [
  {
   "cell_type": "code",
   "execution_count": 1,
   "metadata": {},
   "outputs": [
    {
     "data": {
      "text/plain": [
       "0     104.837645\n",
       "1     104.842550\n",
       "2     104.847518\n",
       "3     104.849280\n",
       "4     104.842932\n",
       "5     104.850022\n",
       "6     104.854356\n",
       "7      75.273941\n",
       "8     104.842550\n",
       "9     104.847518\n",
       "10    104.849280\n",
       "11    104.842932\n",
       "12    104.850022\n",
       "13    104.854356\n",
       "14     78.919120\n",
       "15    104.847518\n",
       "16    104.849280\n",
       "17    104.842932\n",
       "18    104.850022\n",
       "19    104.854356\n",
       "20     75.273941\n",
       "dtype: float64"
      ]
     },
     "execution_count": 1,
     "metadata": {},
     "output_type": "execute_result"
    }
   ],
   "source": [
    "import pandas as pd\n",
    "xlsx = pd.read_csv('vrp_ekz_prog.csv')\n",
    "l = ((xlsx['o_cattle_kurmangazy'] * xlsx['o_weight_cattle']).shift(1) + (xlsx['o_goats_kurmangazy'] * xlsx['o_weight_goats']).shift(1) + (xlsx['o_horses_kurmangazy']* xlsx['o_weight_horses']).shift(1) + (xlsx['o_poultry_kurmangazy'] * xlsx['o_weight_poultry']).shift(1))\n",
    "l[0] =  31028.90\n",
    "Ganm = ((xlsx['o_cattle_kurmangazy'] * xlsx['o_weight_cattle']) + (xlsx['o_goats_kurmangazy'] * xlsx['o_weight_goats']) + (xlsx['o_horses_kurmangazy']* xlsx['o_weight_horses']) + (xlsx['o_poultry_kurmangazy'] * xlsx['o_weight_poultry']))/l * 100\n",
    "Ganm"
   ]
  },
  {
   "cell_type": "code",
   "execution_count": null,
   "metadata": {},
   "outputs": [],
   "source": []
  }
 ],
 "metadata": {
  "kernelspec": {
   "display_name": "Python 3",
   "language": "python",
   "name": "python3"
  },
  "language_info": {
   "codemirror_mode": {
    "name": "ipython",
    "version": 3
   },
   "file_extension": ".py",
   "mimetype": "text/x-python",
   "name": "python",
   "nbconvert_exporter": "python",
   "pygments_lexer": "ipython3",
   "version": "3.7.6"
  }
 },
 "nbformat": 4,
 "nbformat_minor": 4
}
