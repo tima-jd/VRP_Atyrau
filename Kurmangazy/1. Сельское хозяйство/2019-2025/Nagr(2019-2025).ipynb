{
 "cells": [
  {
   "cell_type": "code",
   "execution_count": 2,
   "metadata": {},
   "outputs": [
    {
     "data": {
      "text/plain": [
       "0     104.837645\n",
       "1     104.842550\n",
       "2     104.847518\n",
       "3     104.849280\n",
       "4     104.842932\n",
       "5     104.850022\n",
       "6     104.854356\n",
       "7      75.273941\n",
       "8     104.842550\n",
       "9     104.847518\n",
       "10    104.849280\n",
       "11    104.842932\n",
       "12    104.850022\n",
       "13    104.854356\n",
       "14     78.919120\n",
       "15    104.847518\n",
       "16    104.849280\n",
       "17    104.842932\n",
       "18    104.850022\n",
       "19    104.854356\n",
       "20     75.273941\n",
       "dtype: float64"
      ]
     },
     "execution_count": 2,
     "metadata": {},
     "output_type": "execute_result"
    }
   ],
   "source": [
    "import pandas as pd\n",
    "xlsx = pd.read_csv('vrp_ekz_prog.csv')\n",
    "l = ((xlsx['o_cattle_kurmangazy'] * xlsx['o_weight_cattle']).shift(1) + (xlsx['o_goats_kurmangazy'] * xlsx['o_weight_goats']).shift(1) + (xlsx['o_horses_kurmangazy']* xlsx['o_weight_horses']).shift(1) + (xlsx['o_poultry_kurmangazy'] * xlsx['o_weight_poultry']).shift(1))\n",
    "l[0] =  31028.90\n",
    "Ganm = ((xlsx['o_cattle_kurmangazy'] * xlsx['o_weight_cattle']) + (xlsx['o_goats_kurmangazy'] * xlsx['o_weight_goats']) + (xlsx['o_horses_kurmangazy']* xlsx['o_weight_horses']) + (xlsx['o_poultry_kurmangazy'] * xlsx['o_weight_poultry']))/l * 100\n",
    "Ganm"
   ]
  },
  {
   "cell_type": "code",
   "execution_count": 3,
   "metadata": {},
   "outputs": [
    {
     "data": {
      "text/plain": [
       "0     104.229935\n",
       "1     104.370447\n",
       "2     104.386839\n",
       "3     104.489016\n",
       "4     104.570384\n",
       "5     104.632867\n",
       "6     104.594820\n",
       "7      76.757188\n",
       "8     104.370447\n",
       "9     104.386839\n",
       "10    104.489016\n",
       "11    104.570384\n",
       "12    104.632867\n",
       "13    104.594820\n",
       "14     80.111821\n",
       "15    104.386839\n",
       "16    104.489016\n",
       "17    104.570384\n",
       "18    104.632867\n",
       "19    104.594820\n",
       "20     76.757188\n",
       "dtype: float64"
      ]
     },
     "execution_count": 3,
     "metadata": {},
     "output_type": "execute_result"
    }
   ],
   "source": [
    "import pandas as pd\n",
    "import numpy as np\n",
    "xlsx = pd.read_csv('vrp_ekz_prog.csv')\n",
    "l = (xlsx['o_potato_kurmangazy'].shift(1) + xlsx['o_grain_kurmangazy'].shift(1) + xlsx['o_vegetables_kurmangazy'].shift(1))\n",
    "l[0]=9.22\n",
    "Gplg = ((xlsx['o_potato_kurmangazy'] + xlsx['o_grain_kurmangazy'] + xlsx['o_vegetables_kurmangazy'])/l)*100\n",
    "Gplg"
   ]
  },
  {
   "cell_type": "code",
   "execution_count": 4,
   "metadata": {},
   "outputs": [
    {
     "data": {
      "text/plain": [
       "0     105.917\n",
       "1     112.274\n",
       "2     119.028\n",
       "3     126.261\n",
       "4     133.986\n",
       "5      142.24\n",
       "6     150.976\n",
       "7      103.89\n",
       "8     110.126\n",
       "9     116.751\n",
       "10    123.845\n",
       "11    131.422\n",
       "12    139.519\n",
       "13    148.087\n",
       "14    108.649\n",
       "15    115.185\n",
       "16    122.183\n",
       "17     129.66\n",
       "18    137.647\n",
       "19    146.101\n",
       "20    100.535\n",
       "Name: c1, dtype: object"
      ]
     },
     "execution_count": 4,
     "metadata": {},
     "output_type": "execute_result"
    }
   ],
   "source": [
    "i=0\n",
    "c=100\n",
    "\n",
    "newdf = pd.DataFrame(columns=['c1'], index=range(21))\n",
    "while i<=20:\n",
    "    c = (c*((((Gplg[i]-100) * 0.5820702231009093) + ((Ganm[i]-100) * 0.7141690974620434)) + 100)) /100\n",
    "    newdf.loc[i].c1 = c\n",
    "    i=i+1\n",
    "lagrS=newdf['c1']\n",
    "\n",
    "lagrS"
   ]
  },
  {
   "cell_type": "code",
   "execution_count": 5,
   "metadata": {},
   "outputs": [
    {
     "data": {
      "text/plain": [
       "0     105.917\n",
       "1     106.002\n",
       "2     106.015\n",
       "3     106.076\n",
       "4     106.119\n",
       "5      106.16\n",
       "6     106.141\n",
       "7     68.8125\n",
       "8     106.002\n",
       "9     106.015\n",
       "10    106.076\n",
       "11    106.119\n",
       "12     106.16\n",
       "13    106.141\n",
       "14    73.3684\n",
       "15    106.015\n",
       "16    106.076\n",
       "17    106.119\n",
       "18     106.16\n",
       "19    106.141\n",
       "20    68.8125\n",
       "Name: c1, dtype: object"
      ]
     },
     "execution_count": 5,
     "metadata": {},
     "output_type": "execute_result"
    }
   ],
   "source": [
    "w=lagrS.shift(1)\n",
    "w[0]=100\n",
    "lagrt = lagrS/w*100\n",
    "lagrt"
   ]
  },
  {
   "cell_type": "code",
   "execution_count": 6,
   "metadata": {},
   "outputs": [
    {
     "data": {
      "text/plain": [
       "(0     106.189609\n",
       " 1     106.189609\n",
       " 2     106.189609\n",
       " 3     105.158007\n",
       " 4     105.158007\n",
       " 5     105.158007\n",
       " 6     105.158007\n",
       " 7     106.189609\n",
       " 8     105.797600\n",
       " 9     105.797600\n",
       " 10    104.765999\n",
       " 11    104.765999\n",
       " 12    104.765999\n",
       " 13    104.765999\n",
       " 14    107.778275\n",
       " 15    107.778275\n",
       " 16    106.746674\n",
       " 17    106.746674\n",
       " 18    106.746674\n",
       " 19    106.746674\n",
       " 20    106.189609\n",
       " Name: o_inflation, dtype: float64,\n",
       " 0     6.00\n",
       " 1     6.00\n",
       " 2     6.00\n",
       " 3     5.00\n",
       " 4     5.00\n",
       " 5     5.00\n",
       " 6     5.00\n",
       " 7     6.00\n",
       " 8     5.62\n",
       " 9     5.62\n",
       " 10    4.62\n",
       " 11    4.62\n",
       " 12    4.62\n",
       " 13    4.62\n",
       " 14    7.54\n",
       " 15    7.54\n",
       " 16    6.54\n",
       " 17    6.54\n",
       " 18    6.54\n",
       " 19    6.54\n",
       " 20    6.00\n",
       " Name: o_inflation, dtype: float64)"
      ]
     },
     "execution_count": 6,
     "metadata": {},
     "output_type": "execute_result"
    }
   ],
   "source": [
    "from scipy.stats.mstats import gmean\n",
    "import pandas as pd\n",
    "import numpy as np\n",
    "c = pd.read_csv('vrp_ekz_prog.csv')\n",
    "\n",
    "inf = c['o_inflation']\n",
    "\n",
    "Dagr= inf * 1.031601482109244 + 100\n",
    "Dagr,inf"
   ]
  },
  {
   "cell_type": "code",
   "execution_count": 7,
   "metadata": {},
   "outputs": [
    {
     "data": {
      "text/plain": [
       "0     14102.7\n",
       "1     15874.5\n",
       "2     17871.1\n",
       "3     19934.8\n",
       "4     22245.8\n",
       "5     24834.3\n",
       "6     27719.1\n",
       "7     20254.8\n",
       "8     22715.3\n",
       "9     25477.9\n",
       "10    28314.1\n",
       "11    31478.6\n",
       "12    35010.5\n",
       "13    38931.7\n",
       "14    30785.3\n",
       "15    35175.8\n",
       "16    39830.5\n",
       "17    45119.4\n",
       "18    51130.5\n",
       "19      57932\n",
       "20    42331.9\n",
       "Name: c1, dtype: object"
      ]
     },
     "execution_count": 7,
     "metadata": {},
     "output_type": "execute_result"
    }
   ],
   "source": [
    "c=12538.8\n",
    "i=0\n",
    "\n",
    "newdf = pd.DataFrame(columns=['c1'], index=range(21))\n",
    "\n",
    "while i<=20:\n",
    "    c = c*lagrt[i]*Dagr[i]/10000\n",
    "    newdf.loc[i].c1 = c    \n",
    "    i=i+1\n",
    "Nagr=newdf['c1']\n",
    "Nagr"
   ]
  },
  {
   "cell_type": "code",
   "execution_count": 8,
   "metadata": {},
   "outputs": [],
   "source": [
    "Nagr.to_csv(r'Nagr_Kurmangazy(2019-2025).csv', index = False)"
   ]
  },
  {
   "cell_type": "code",
   "execution_count": null,
   "metadata": {},
   "outputs": [],
   "source": []
  }
 ],
 "metadata": {
  "kernelspec": {
   "display_name": "Python 3",
   "language": "python",
   "name": "python3"
  },
  "language_info": {
   "codemirror_mode": {
    "name": "ipython",
    "version": 3
   },
   "file_extension": ".py",
   "mimetype": "text/x-python",
   "name": "python",
   "nbconvert_exporter": "python",
   "pygments_lexer": "ipython3",
   "version": "3.7.6"
  }
 },
 "nbformat": 4,
 "nbformat_minor": 4
}
