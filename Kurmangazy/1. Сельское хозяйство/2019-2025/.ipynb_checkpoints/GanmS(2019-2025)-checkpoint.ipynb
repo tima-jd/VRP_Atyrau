{
 "cells": [
  {
   "cell_type": "code",
   "execution_count": 1,
   "metadata": {},
   "outputs": [
    {
     "data": {
      "text/plain": [
       "0     104.838\n",
       "1     109.914\n",
       "2     115.243\n",
       "3     120.831\n",
       "4     126.683\n",
       "5     132.827\n",
       "6     139.275\n",
       "7     104.838\n",
       "8     109.914\n",
       "9     115.243\n",
       "10    120.831\n",
       "11    126.683\n",
       "12    132.827\n",
       "13    139.275\n",
       "14    109.914\n",
       "15    115.243\n",
       "16    120.831\n",
       "17    126.683\n",
       "18    132.827\n",
       "19    139.275\n",
       "20    104.838\n",
       "Name: c1, dtype: object"
      ]
     },
     "execution_count": 1,
     "metadata": {},
     "output_type": "execute_result"
    }
   ],
   "source": [
    "import pandas as pd\n",
    "xlsx = pd.read_csv('vrp_ekz_prog.csv')\n",
    "l = ((xlsx['o_cattle_kurmangazy'] * xlsx['o_weight_cattle']).shift(1) + (xlsx['o_goats_kurmangazy'] * xlsx['o_weight_goats']).shift(1) + (xlsx['o_horses_kurmangazy']* xlsx['o_weight_horses']).shift(1) + (xlsx['o_poultry_kurmangazy'] * xlsx['o_weight_poultry']).shift(1))\n",
    "l[0] =  31028.90\n",
    "Ganm = ((xlsx['o_cattle_kurmangazy'] * xlsx['o_weight_cattle']) + (xlsx['o_goats_kurmangazy'] * xlsx['o_weight_goats']) + (xlsx['o_horses_kurmangazy']* xlsx['o_weight_horses']) + (xlsx['o_poultry_kurmangazy'] * xlsx['o_weight_poultry']))/l\n",
    "\n",
    "newdf = pd.DataFrame(columns=['c1'], index=range(21))\n",
    "c=100\n",
    "i=0\n",
    "while i<=20:\n",
    "    c = (c*Ganm[i])\n",
    "    newdf.loc[i].c1 = c\n",
    "    i=i+1\n",
    "GanmS=newdf['c1']\n",
    "\n",
    "GanmS"
   ]
  },
  {
   "cell_type": "code",
   "execution_count": null,
   "metadata": {},
   "outputs": [],
   "source": []
  }
 ],
 "metadata": {
  "kernelspec": {
   "display_name": "Python 3",
   "language": "python",
   "name": "python3"
  },
  "language_info": {
   "codemirror_mode": {
    "name": "ipython",
    "version": 3
   },
   "file_extension": ".py",
   "mimetype": "text/x-python",
   "name": "python",
   "nbconvert_exporter": "python",
   "pygments_lexer": "ipython3",
   "version": "3.7.6"
  }
 },
 "nbformat": 4,
 "nbformat_minor": 4
}
