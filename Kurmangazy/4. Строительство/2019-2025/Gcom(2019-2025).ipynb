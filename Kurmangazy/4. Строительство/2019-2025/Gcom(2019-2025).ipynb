{
 "cells": [
  {
   "cell_type": "code",
   "execution_count": 1,
   "metadata": {},
   "outputs": [
    {
     "data": {
      "text/plain": [
       "0     100.000000\n",
       "1     100.178891\n",
       "2     100.178571\n",
       "3     100.178253\n",
       "4     100.177936\n",
       "5     100.177620\n",
       "6     100.177305\n",
       "7      98.938053\n",
       "8     102.146691\n",
       "9     102.189142\n",
       "10    102.056555\n",
       "11    102.015113\n",
       "12    101.975309\n",
       "13    101.856336\n",
       "14     87.797147\n",
       "15     99.187726\n",
       "16     99.181074\n",
       "17     99.174312\n",
       "18     99.167438\n",
       "19     99.160448\n",
       "20    105.174036\n",
       "Name: o_housing_kurmangazy, dtype: float64"
      ]
     },
     "execution_count": 1,
     "metadata": {},
     "output_type": "execute_result"
    }
   ],
   "source": [
    "import pandas as pd\n",
    "csv = pd.read_csv('vrp_ekz_prog.csv')\n",
    "com = csv['o_housing_kurmangazy']\n",
    "a=com.shift(1)\n",
    "a[0]=11.18\n",
    "Gcom = com/a*100\n",
    "Gcom\n"
   ]
  },
  {
   "cell_type": "code",
   "execution_count": null,
   "metadata": {},
   "outputs": [],
   "source": []
  }
 ],
 "metadata": {
  "kernelspec": {
   "display_name": "Python 3",
   "language": "python",
   "name": "python3"
  },
  "language_info": {
   "codemirror_mode": {
    "name": "ipython",
    "version": 3
   },
   "file_extension": ".py",
   "mimetype": "text/x-python",
   "name": "python",
   "nbconvert_exporter": "python",
   "pygments_lexer": "ipython3",
   "version": "3.7.6"
  }
 },
 "nbformat": 4,
 "nbformat_minor": 4
}
