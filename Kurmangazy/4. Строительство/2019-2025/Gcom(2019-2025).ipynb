{
 "cells": [
  {
   "cell_type": "code",
   "execution_count": 2,
   "metadata": {},
   "outputs": [
    {
     "data": {
      "text/plain": [
       "0     11.18\n",
       "1     11.20\n",
       "2     11.22\n",
       "3     11.24\n",
       "4     11.26\n",
       "5     11.28\n",
       "6     11.30\n",
       "7     11.18\n",
       "8     11.42\n",
       "9     11.67\n",
       "10    11.91\n",
       "11    12.15\n",
       "12    12.39\n",
       "13    12.62\n",
       "14    11.08\n",
       "15    10.99\n",
       "16    10.90\n",
       "17    10.81\n",
       "18    10.72\n",
       "19    10.63\n",
       "20    11.18\n",
       "Name: o_housing_kurmangazy, dtype: float64"
      ]
     },
     "execution_count": 2,
     "metadata": {},
     "output_type": "execute_result"
    }
   ],
   "source": [
    "import pandas as pd\n",
    "csv = pd.read_csv('vrp_ekz_prog.csv')\n",
    "s = pd.read_csv('lmin(2019-2025).csv')\n",
    "\n",
    "com = csv['o_housing_kurmangazy']\n",
    "\n",
    "a=com.shift(1)\n",
    "a[0]=11.18\n",
    "a[7]=11.18\n",
    "a[14]=11.18\n",
    "Gcom = com/a*100\n",
    "\n",
    "Gcom_b = Gcom.loc[csv.o_script.str.match(r'базовый')].reset_index(drop = True)\n",
    "Gcom_o = Gcom.loc[csv.o_script.str.match(r'оптимистичный')].reset_index(drop = True)\n",
    "Gcom_p = Gcom.loc[csv.o_script.str.match(r'пессимистичный')].reset_index(drop = True)\n",
    "com"
   ]
  },
  {
   "cell_type": "code",
   "execution_count": null,
   "metadata": {},
   "outputs": [],
   "source": []
  }
 ],
 "metadata": {
  "kernelspec": {
   "display_name": "Python 3",
   "language": "python",
   "name": "python3"
  },
  "language_info": {
   "codemirror_mode": {
    "name": "ipython",
    "version": 3
   },
   "file_extension": ".py",
   "mimetype": "text/x-python",
   "name": "python",
   "nbconvert_exporter": "python",
   "pygments_lexer": "ipython3",
   "version": "3.7.6"
  }
 },
 "nbformat": 4,
 "nbformat_minor": 4
}
