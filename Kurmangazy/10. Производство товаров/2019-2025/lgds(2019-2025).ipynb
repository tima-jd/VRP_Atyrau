{
 "cells": [
  {
   "cell_type": "code",
   "execution_count": 1,
   "metadata": {},
   "outputs": [
    {
     "data": {
      "text/plain": [
       "0     100.398053\n",
       "1     103.245160\n",
       "2     102.051444\n",
       "3     102.593845\n",
       "4     107.055324\n",
       "5     100.846489\n",
       "6     100.638410\n",
       "7            NaN\n",
       "8            NaN\n",
       "9            NaN\n",
       "10           NaN\n",
       "11           NaN\n",
       "12           NaN\n",
       "13           NaN\n",
       "14           NaN\n",
       "15           NaN\n",
       "16           NaN\n",
       "17           NaN\n",
       "18           NaN\n",
       "19           NaN\n",
       "20           NaN\n",
       "dtype: float64"
      ]
     },
     "execution_count": 1,
     "metadata": {},
     "output_type": "execute_result"
    }
   ],
   "source": [
    "import pandas as pd\n",
    "\n",
    "csv = pd.read_csv('vrp_ekz_fact.csv')\n",
    "\n",
    "Nagr_csv = pd.read_csv('Nagrt(2019-2025).csv')\n",
    "Ncon_csv = pd.read_csv('Ncon(2019-2025).csv')\n",
    "Nind_csv = pd.read_csv('Dind, lind,Nind (2001-2018).csv')\n",
    "\n",
    "Nind_csv = pd.read_csv('Расчет по Оптовой торговле, Электро и Водоснабжению.csv')\n",
    "\n",
    "lagr_csv = pd.read_csv('lagr(2019-2025).csv')\n",
    "lcon_csv = pd.read_csv('lcon(2019-2025).csv')\n",
    "\n",
    "lagr_f = csv['o_ifo_agro_kurmangazy'] \n",
    "lcon_f = csv['o_ifo_building_kurmangazy'] \n",
    "\n",
    "Nagr_f = csv['o_prod_agro_kurmangazy']\n",
    "Ncon_f = csv['o_prod_building_kurmangazy']\n",
    "Nind_f = Nind_csv['Nind']\n",
    "\n",
    "Nagr = Nagr_csv['c1']\n",
    "Ncon = Ncon_csv['c1']\n",
    "\n",
    "lagr = lagr_csv['c1']\n",
    "lcon = lcon_csv['c1']\n",
    "\n",
    "Nind = Nind_csv['Nind']\n",
    "lind = Nind_csv['lind']\n",
    "\n",
    "lgds = (lagr[1:]*Nagr.shift(1) + lind[1:]*Nind.shift(1) + lcon[1:]*Ncon.shift(1))/(Nagr.shift(1)+Nind.shift(1)+Ncon.shift(1))\n",
    "\n",
    "lgds[0]=(lagr[0]*Nagr_f[18]+lind[0]*Nind_f[6]+lcon[0]*Ncon_f[18])/(Ncon_f[18]+Nind_f[6]+Nagr_f[18])\n",
    "\n",
    "lgds"
   ]
  },
  {
   "cell_type": "code",
   "execution_count": null,
   "metadata": {},
   "outputs": [],
   "source": []
  },
  {
   "cell_type": "code",
   "execution_count": null,
   "metadata": {},
   "outputs": [],
   "source": []
  }
 ],
 "metadata": {
  "kernelspec": {
   "display_name": "Python 3",
   "language": "python",
   "name": "python3"
  },
  "language_info": {
   "codemirror_mode": {
    "name": "ipython",
    "version": 3
   },
   "file_extension": ".py",
   "mimetype": "text/x-python",
   "name": "python",
   "nbconvert_exporter": "python",
   "pygments_lexer": "ipython3",
   "version": "3.7.6"
  }
 },
 "nbformat": 4,
 "nbformat_minor": 4
}
