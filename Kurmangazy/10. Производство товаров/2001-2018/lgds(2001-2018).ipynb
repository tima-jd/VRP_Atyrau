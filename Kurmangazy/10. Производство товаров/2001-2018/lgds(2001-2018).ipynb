{
 "cells": [
  {
   "cell_type": "code",
   "execution_count": 1,
   "metadata": {},
   "outputs": [
    {
     "data": {
      "text/plain": [
       "0            NaN\n",
       "1      92.501269\n",
       "2     157.396504\n",
       "3     105.766177\n",
       "4     106.761223\n",
       "5     122.062296\n",
       "6      93.314657\n",
       "7     112.014846\n",
       "8     125.484631\n",
       "9     141.127019\n",
       "10    353.682295\n",
       "11    307.321351\n",
       "12     97.348367\n",
       "13    341.816016\n",
       "14    108.455305\n",
       "15     99.923860\n",
       "16     95.335872\n",
       "17    111.151391\n",
       "18    174.301536\n",
       "dtype: float64"
      ]
     },
     "execution_count": 1,
     "metadata": {},
     "output_type": "execute_result"
    }
   ],
   "source": [
    "import pandas as pd\n",
    "csv = pd.read_csv('vrp_ekz_fact.csv')\n",
    "lind_csv = pd.read_csv('Dind, lind,Nind (2001-2018).csv')\n",
    "\n",
    "Nagr = csv['o_prod_agro_kurmangazy']\n",
    "Ncon = csv['o_prod_building_kurmangazy']\n",
    "\n",
    "Nwtr = csv['o_prod_water_kurmangazy']\n",
    "Nelc = csv['o_prod_energo_kurmangazy']\n",
    "Nman = csv['o_prod_man_kurmangazy']\n",
    "Nmin = csv['o_prod_mining_kurmangazy']\n",
    "\n",
    "lagr = csv['o_ifo_agro_kurmangazy']\n",
    "lcon = csv['o_ifo_building_kurmangazy']\n",
    "\n",
    "\n",
    "lind = lind_csv['lind']\n",
    "\n",
    "Nind = Nmin+Nman+Nelc+Nwtr\n",
    "\n",
    "Ngds = Nagr+Nind+Ncon\n",
    "\n",
    "lgds = (lagr*Nagr.shift(1) + lind*Nind.shift(1) + lcon*Ncon.shift(1))/(Nagr.shift(1)+Nind.shift(1)+Ncon.shift(1))\n",
    "lgds"
   ]
  },
  {
   "cell_type": "code",
   "execution_count": null,
   "metadata": {},
   "outputs": [],
   "source": []
  }
 ],
 "metadata": {
  "kernelspec": {
   "display_name": "Python 3",
   "language": "python",
   "name": "python3"
  },
  "language_info": {
   "codemirror_mode": {
    "name": "ipython",
    "version": 3
   },
   "file_extension": ".py",
   "mimetype": "text/x-python",
   "name": "python",
   "nbconvert_exporter": "python",
   "pygments_lexer": "ipython3",
   "version": "3.7.6"
  }
 },
 "nbformat": 4,
 "nbformat_minor": 4
}
