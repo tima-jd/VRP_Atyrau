{
 "cells": [
  {
   "cell_type": "code",
   "execution_count": 1,
   "metadata": {},
   "outputs": [
    {
     "data": {
      "text/plain": [
       "0       733.8\n",
       "1       680.7\n",
       "2       780.0\n",
       "3       908.2\n",
       "4      1626.3\n",
       "5      2344.4\n",
       "6      2950.1\n",
       "7      3814.5\n",
       "8      4415.3\n",
       "9      6044.8\n",
       "10     8010.8\n",
       "11    15837.4\n",
       "12    21874.7\n",
       "13    20146.5\n",
       "14    22872.0\n",
       "15    19236.4\n",
       "16    20759.0\n",
       "17    20416.1\n",
       "18    19047.2\n",
       "dtype: float64"
      ]
     },
     "execution_count": 1,
     "metadata": {},
     "output_type": "execute_result"
    }
   ],
   "source": [
    "import pandas as pd\n",
    "csv = pd.read_csv('vrp_ekz_fact.csv')\n",
    "lind_csv = pd.read_csv('Dind, lind,Nind (2001-2018).csv')\n",
    "\n",
    "Nagr = csv['o_prod_agro_makhambet']\n",
    "Ncon = csv['o_prod_building_makhambet']\n",
    "\n",
    "Nwtr = csv['o_prod_water_makhambet']\n",
    "Nelc = csv['o_prod_energo_makhambet']\n",
    "Nman = csv['o_prod_man_makhambet']\n",
    "Nmin = csv['o_prod_mining_makhambet']\n",
    "\n",
    "lagr = csv['o_ifo_agro_makhambet']\n",
    "lcon = csv['o_ifo_building_makhambet']\n",
    "\n",
    "\n",
    "lind = lind_csv['lind']\n",
    "\n",
    "Nind = Nmin+Nman+Nelc+Nwtr\n",
    "\n",
    "Ngds = Nagr+Nind+Ncon\n",
    "Ngds"
   ]
  },
  {
   "cell_type": "code",
   "execution_count": null,
   "metadata": {},
   "outputs": [],
   "source": []
  }
 ],
 "metadata": {
  "kernelspec": {
   "display_name": "Python 3",
   "language": "python",
   "name": "python3"
  },
  "language_info": {
   "codemirror_mode": {
    "name": "ipython",
    "version": 3
   },
   "file_extension": ".py",
   "mimetype": "text/x-python",
   "name": "python",
   "nbconvert_exporter": "python",
   "pygments_lexer": "ipython3",
   "version": "3.7.6"
  }
 },
 "nbformat": 4,
 "nbformat_minor": 4
}
