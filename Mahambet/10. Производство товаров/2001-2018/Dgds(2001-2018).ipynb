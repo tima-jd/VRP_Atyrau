{
 "cells": [
  {
   "cell_type": "code",
   "execution_count": 3,
   "metadata": {},
   "outputs": [
    {
     "data": {
      "text/plain": [
       "0            NaN\n",
       "1      70.959736\n",
       "2     115.191465\n",
       "3     115.109774\n",
       "4            NaN\n",
       "5     141.829813\n",
       "6     113.329598\n",
       "7      47.033440\n",
       "8     110.952254\n",
       "9     139.392402\n",
       "10     58.580755\n",
       "11     64.085586\n",
       "12     40.464685\n",
       "13     98.225608\n",
       "14     23.075393\n",
       "15     91.222727\n",
       "16    103.964281\n",
       "17    103.652210\n",
       "18    103.386917\n",
       "dtype: float64"
      ]
     },
     "execution_count": 3,
     "metadata": {},
     "output_type": "execute_result"
    }
   ],
   "source": [
    "import pandas as pd\n",
    "csv = pd.read_csv('vrp_ekz_fact.csv')\n",
    "lind_csv = pd.read_csv('Dind, lind,Nind (2001-2018).csv')\n",
    "\n",
    "Nagr = csv['o_prod_agro_makhambet']\n",
    "Ncon = csv['o_prod_building_makhambet']\n",
    "\n",
    "Nwtr = csv['o_prod_water_makhambet']\n",
    "Nelc = csv['o_prod_energo_makhambet']\n",
    "Nman = csv['o_prod_man_makhambet']\n",
    "Nmin = csv['o_prod_mining_makhambet']\n",
    "\n",
    "lagr = csv['o_ifo_agro_makhambet']\n",
    "lcon = csv['o_ifo_building_makhambet']\n",
    "\n",
    "\n",
    "lind = lind_csv['lind']\n",
    "\n",
    "Nind = Nmin+Nman+Nelc+Nwtr\n",
    "\n",
    "Ngds = Nagr+Nind+Ncon\n",
    "\n",
    "lgds = (lagr*Nagr.shift(1) + lind*Nind.shift(1) + lcon*Ncon.shift(1))/(Nagr.shift(1)+Nind.shift(1)+Ncon.shift(1))\n",
    "\n",
    "Dgds = Ngds/Ngds.shift(1)/lgds * 10000\n",
    "\n",
    "Dgds"
   ]
  },
  {
   "cell_type": "code",
   "execution_count": null,
   "metadata": {},
   "outputs": [],
   "source": []
  }
 ],
 "metadata": {
  "kernelspec": {
   "display_name": "Python 3",
   "language": "python",
   "name": "python3"
  },
  "language_info": {
   "codemirror_mode": {
    "name": "ipython",
    "version": 3
   },
   "file_extension": ".py",
   "mimetype": "text/x-python",
   "name": "python",
   "nbconvert_exporter": "python",
   "pygments_lexer": "ipython3",
   "version": "3.7.6"
  }
 },
 "nbformat": 4,
 "nbformat_minor": 4
}
