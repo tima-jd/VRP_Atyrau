{
 "cells": [
  {
   "cell_type": "code",
   "execution_count": 1,
   "metadata": {},
   "outputs": [],
   "source": [
    "import pandas as pd\n",
    "\n",
    "csv = pd.read_csv('vrp_ekz_fact.csv')\n",
    "\n",
    "csv_p = pd.read_csv('vrp_prognoz(2019-2025).csv')\n",
    "\n",
    "Nagr = csv_p['Nagr']\n",
    "Ncon = csv_p['Ncon']\n",
    "Nind = csv_p['Nind']\n",
    "\n",
    "lagr = csv_p['lagr']\n",
    "lcon = csv_p['lcon']\n",
    "lind = csv_p['lind']\n",
    "\n",
    "Nind_csv_f = pd.read_csv('Dind, lind,Nind (2001-2018).csv')\n",
    "\n",
    "lagr_f =      csv['o_ifo_agro_makhambet'] \n",
    "lcon_f =  csv['o_ifo_building_makhambet'] \n",
    "Nagr_f =     csv['o_prod_agro_makhambet']\n",
    "Ncon_f = csv['o_prod_building_makhambet']\n",
    "\n",
    "lagr_f =      csv['o_ifo_agro_makhambet'] \n",
    "lcon_f =  csv['o_ifo_building_makhambet'] \n",
    "Nagr_f =     csv['o_prod_agro_makhambet']\n",
    "Ncon_f = csv['o_prod_building_makhambet']\n",
    "Nind_f = Nind_csv_f['Nind']\n",
    "\n",
    "lgds = (lagr[1:]*Nagr.shift(1) + lind[1:]*Nind.shift(1) + lcon[1:]*Ncon.shift(1))/(Nagr.shift(1)+Nind.shift(1)+Ncon.shift(1))\n",
    "lgds[0]=(lagr[0]*Nagr_f[18]+lind[0]*Nind_f[18]+lcon[0]*Ncon_f[18])/(Ncon_f[18]+Nind_f[18]+Nagr_f[18])\n",
    "\n",
    "lgds.to_csv(r'lgds(2019-2025).csv',index = False)\n",
    "\n",
    "lgds.to_csv(r'lgds_Makhambet(2019-2025).csv',index = False)"
   ]
  },
  {
   "cell_type": "code",
   "execution_count": null,
   "metadata": {},
   "outputs": [],
   "source": []
  },
  {
   "cell_type": "code",
   "execution_count": null,
   "metadata": {},
   "outputs": [],
   "source": []
  }
 ],
 "metadata": {
  "kernelspec": {
   "display_name": "Python 3",
   "language": "python",
   "name": "python3"
  },
  "language_info": {
   "codemirror_mode": {
    "name": "ipython",
    "version": 3
   },
   "file_extension": ".py",
   "mimetype": "text/x-python",
   "name": "python",
   "nbconvert_exporter": "python",
   "pygments_lexer": "ipython3",
   "version": "3.7.6"
  }
 },
 "nbformat": 4,
 "nbformat_minor": 4
}
