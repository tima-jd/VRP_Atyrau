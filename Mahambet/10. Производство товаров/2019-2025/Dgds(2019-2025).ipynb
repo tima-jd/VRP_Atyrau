{
 "cells": [
  {
   "cell_type": "code",
   "execution_count": 1,
   "metadata": {},
   "outputs": [
    {
     "data": {
      "text/plain": [
       "0      99.885000\n",
       "1     104.329785\n",
       "2     104.319035\n",
       "3     104.680707\n",
       "4     106.243344\n",
       "5     104.576425\n",
       "6     104.833534\n",
       "7            NaN\n",
       "8            NaN\n",
       "9            NaN\n",
       "10           NaN\n",
       "11           NaN\n",
       "12           NaN\n",
       "13           NaN\n",
       "14           NaN\n",
       "15           NaN\n",
       "16           NaN\n",
       "17           NaN\n",
       "18           NaN\n",
       "19           NaN\n",
       "20           NaN\n",
       "dtype: float64"
      ]
     },
     "execution_count": 1,
     "metadata": {},
     "output_type": "execute_result"
    }
   ],
   "source": [
    "import pandas as pd\n",
    "\n",
    "csv = pd.read_csv('vrp_ekz_fact.csv')\n",
    "\n",
    "Nagr_csv = pd.read_csv('Nagrt(2019-2025).csv')\n",
    "Ncon_csv = pd.read_csv('Ncon(2019-2025).csv')\n",
    "Nind_csv = pd.read_csv('Dind, lind,Nind (2001-2018).csv')\n",
    "\n",
    "Nind_csv = pd.read_csv('Расчет по Оптовой торговле, Электро и Водоснабжению.csv')\n",
    "\n",
    "lagr_csv = pd.read_csv('lagr(2019-2025).csv')\n",
    "lcon_csv = pd.read_csv('lcon(2019-2025).csv')\n",
    "\n",
    "lagr_f = csv['o_ifo_agro_makhambet'] \n",
    "lcon_f = csv['o_ifo_building_makhambet'] \n",
    "\n",
    "Nagr_f = csv['o_prod_agro_makhambet']\n",
    "Ncon_f = csv['o_prod_building_makhambet']\n",
    "Nind_f = Nind_csv['Nind']\n",
    "\n",
    "Nagr = Nagr_csv['c1']\n",
    "Ncon = Ncon_csv['c1']\n",
    "\n",
    "lagr = lagr_csv['c1']\n",
    "lcon = lcon_csv['c1']\n",
    "\n",
    "Nind = Nind_csv['Nind']\n",
    "lind = Nind_csv['lind']\n",
    "\n",
    "lgds = (lagr[1:]*Nagr.shift(1) + lind[1:]*Nind.shift(1) + lcon[1:]*Ncon.shift(1))/(Nagr.shift(1)+Nind.shift(1)+Ncon.shift(1))\n",
    "\n",
    "lgds[0]=(lagr[0]*Nagr_f[18]+lind[0]*Nind_f[6]+lcon[0]*Ncon_f[18])/(Ncon_f[18]+Nind_f[6]+Nagr_f[18])\n",
    "\n",
    "lgds"
   ]
  },
  {
   "cell_type": "code",
   "execution_count": 2,
   "metadata": {},
   "outputs": [
    {
     "data": {
      "text/plain": [
       "0     19788.330564\n",
       "1     22127.087208\n",
       "2     24112.559729\n",
       "3     26313.859476\n",
       "4     29738.169983\n",
       "5     32409.206556\n",
       "6     35502.666371\n",
       "7              NaN\n",
       "8              NaN\n",
       "9              NaN\n",
       "10             NaN\n",
       "11             NaN\n",
       "12             NaN\n",
       "13             NaN\n",
       "14             NaN\n",
       "15             NaN\n",
       "16             NaN\n",
       "17             NaN\n",
       "18             NaN\n",
       "19             NaN\n",
       "20             NaN\n",
       "dtype: float64"
      ]
     },
     "execution_count": 2,
     "metadata": {},
     "output_type": "execute_result"
    }
   ],
   "source": [
    "import pandas as pd\n",
    "\n",
    "Nagr_csv = pd.read_csv('Nagrt(2019-2025).csv')\n",
    "Ncon_csv = pd.read_csv('Ncon(2019-2025).csv')\n",
    "Nind_csv = pd.read_csv('Расчет по Оптовой торговле, Электро и Водоснабжению.csv')\n",
    "\n",
    "Nagr = Nagr_csv['c1']\n",
    "Ncon = Ncon_csv['c1']\n",
    "Nind = Nind_csv['Nind']\n",
    "\n",
    "Ngds = Nind + Ncon + Nagr\n",
    "Ngds"
   ]
  },
  {
   "cell_type": "code",
   "execution_count": 3,
   "metadata": {},
   "outputs": [
    {
     "data": {
      "text/plain": [
       "0     104.010633\n",
       "1     107.178279\n",
       "2     104.461320\n",
       "3     104.249646\n",
       "4     106.372155\n",
       "5     104.212633\n",
       "6     104.494239\n",
       "7            NaN\n",
       "8            NaN\n",
       "9            NaN\n",
       "10           NaN\n",
       "11           NaN\n",
       "12           NaN\n",
       "13           NaN\n",
       "14           NaN\n",
       "15           NaN\n",
       "16           NaN\n",
       "17           NaN\n",
       "18           NaN\n",
       "19           NaN\n",
       "20           NaN\n",
       "dtype: float64"
      ]
     },
     "execution_count": 3,
     "metadata": {},
     "output_type": "execute_result"
    }
   ],
   "source": [
    "Dgds = Ngds[1:]/Ngds.shift(1)/lgds[1:] * 10000\n",
    "Dgds[0] =Ngds[0]/19047.2/lgds[0] * 10000\n",
    "Dgds"
   ]
  },
  {
   "cell_type": "code",
   "execution_count": null,
   "metadata": {},
   "outputs": [],
   "source": []
  }
 ],
 "metadata": {
  "kernelspec": {
   "display_name": "Python 3",
   "language": "python",
   "name": "python3"
  },
  "language_info": {
   "codemirror_mode": {
    "name": "ipython",
    "version": 3
   },
   "file_extension": ".py",
   "mimetype": "text/x-python",
   "name": "python",
   "nbconvert_exporter": "python",
   "pygments_lexer": "ipython3",
   "version": "3.7.6"
  }
 },
 "nbformat": 4,
 "nbformat_minor": 4
}
