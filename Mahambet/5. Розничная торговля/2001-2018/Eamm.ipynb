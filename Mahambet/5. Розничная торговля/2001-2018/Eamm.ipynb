{
 "cells": [
  {
   "cell_type": "code",
   "execution_count": 1,
   "metadata": {},
   "outputs": [
    {
     "data": {
      "text/plain": [
       "4.696158106031253"
      ]
     },
     "execution_count": 1,
     "metadata": {},
     "output_type": "execute_result"
    }
   ],
   "source": [
    "import pandas as pd\n",
    "csv = pd.read_csv('vrp_ekz_fact.csv')\n",
    "\n",
    "lagr = csv['o_ifo_agro_makhambet']\n",
    "Nagr = csv['o_prod_agro_makhambet']\n",
    "lmin = csv['o_ifo_mining_makhambet']\n",
    "Nmin = csv['o_prod_mining_makhambet']\n",
    "lman= csv['o_ifo_man_makhambet']\n",
    "Nman = csv['o_prod_man_makhambet']\n",
    "l = csv['o_ifo_retail_makhambet']\n",
    "\n",
    "lamm= (lagr*Nagr.shift(1)+lmin*Nmin.shift(1)+lman*Nman.shift(1))/(Nagr.shift(1)+Nmin.shift(1)+Nman.shift(1))\n",
    "\n",
    "i=18\n",
    "c=100\n",
    "d=100\n",
    "newdf = pd.DataFrame(columns=['c1','c2'], index=range(19))\n",
    "while i>0:\n",
    "    c = (c/lamm[i]) * 100\n",
    "    d = (d/l[i])*100\n",
    "    i=i-1\n",
    "    newdf.loc[i].c1 = c\n",
    "    newdf.loc[i].c2 = d\n",
    "lammS=newdf['c1']\n",
    "lammS[18]=100\n",
    "lammS_m = lammS[4:]\n",
    "\n",
    "lretS=newdf['c2']\n",
    "lretS[18]=100\n",
    "lretS_m = lretS[4:]\n",
    "\n",
    "\n",
    "Eamm = ((lammS_m-lammS_m.mean())*(lretS_m-lretS_m.mean())).sum()/((lammS_m-lammS_m.mean())**2).sum()\n",
    "Eamm"
   ]
  },
  {
   "cell_type": "code",
   "execution_count": null,
   "metadata": {},
   "outputs": [],
   "source": []
  }
 ],
 "metadata": {
  "kernelspec": {
   "display_name": "Python 3",
   "language": "python",
   "name": "python3"
  },
  "language_info": {
   "codemirror_mode": {
    "name": "ipython",
    "version": 3
   },
   "file_extension": ".py",
   "mimetype": "text/x-python",
   "name": "python",
   "nbconvert_exporter": "python",
   "pygments_lexer": "ipython3",
   "version": "3.7.6"
  }
 },
 "nbformat": 4,
 "nbformat_minor": 4
}
