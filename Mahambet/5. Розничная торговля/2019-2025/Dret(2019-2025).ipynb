{
 "cells": [
  {
   "cell_type": "code",
   "execution_count": 3,
   "metadata": {},
   "outputs": [
    {
     "data": {
      "text/plain": [
       "0     106.557866\n",
       "1     106.557866\n",
       "2     106.557866\n",
       "3     105.464888\n",
       "4     105.464888\n",
       "5     105.464888\n",
       "6     105.464888\n",
       "7     106.557866\n",
       "8     106.142534\n",
       "9     106.142534\n",
       "10    105.049557\n",
       "11    105.049557\n",
       "12    105.049557\n",
       "13    105.049557\n",
       "14    108.241051\n",
       "15    108.241051\n",
       "16    107.148074\n",
       "17    107.148074\n",
       "18    107.148074\n",
       "19    107.148074\n",
       "20    106.557866\n",
       "Name: o_inflation, dtype: float64"
      ]
     },
     "execution_count": 3,
     "metadata": {},
     "output_type": "execute_result"
    }
   ],
   "source": [
    "import pandas as pd\n",
    "csv = pd.read_csv('vrp_ekz_prog.csv')\n",
    "inf = csv['o_inflation']\n",
    "Dret = inf *1.092977601423555 + 100\n",
    "Dret"
   ]
  },
  {
   "cell_type": "code",
   "execution_count": null,
   "metadata": {},
   "outputs": [],
   "source": []
  }
 ],
 "metadata": {
  "kernelspec": {
   "display_name": "Python 3",
   "language": "python",
   "name": "python3"
  },
  "language_info": {
   "codemirror_mode": {
    "name": "ipython",
    "version": 3
   },
   "file_extension": ".py",
   "mimetype": "text/x-python",
   "name": "python",
   "nbconvert_exporter": "python",
   "pygments_lexer": "ipython3",
   "version": "3.7.6"
  }
 },
 "nbformat": 4,
 "nbformat_minor": 4
}
