{
 "cells": [
  {
   "cell_type": "code",
   "execution_count": 3,
   "metadata": {},
   "outputs": [
    {
     "data": {
      "text/plain": [
       "0     106.092047\n",
       "1     106.092047\n",
       "2     106.092047\n",
       "3     105.076706\n",
       "4     105.076706\n",
       "5     105.076706\n",
       "6     105.076706\n",
       "7     106.092047\n",
       "8     105.706217\n",
       "9     105.706217\n",
       "10    104.690876\n",
       "11    104.690876\n",
       "12    104.690876\n",
       "13    104.690876\n",
       "14    107.655672\n",
       "15    107.655672\n",
       "16    106.640331\n",
       "17    106.640331\n",
       "18    106.640331\n",
       "19    106.640331\n",
       "20    106.092047\n",
       "Name: o_inflation, dtype: float64"
      ]
     },
     "execution_count": 3,
     "metadata": {},
     "output_type": "execute_result"
    }
   ],
   "source": [
    "import pandas as pd\n",
    "csv = pd.read_csv('vrp_ekz_prog.csv')\n",
    "inf = csv['o_inflation']\n",
    "Dret = inf *1.015341161934216 + 100\n",
    "Dret"
   ]
  },
  {
   "cell_type": "code",
   "execution_count": null,
   "metadata": {},
   "outputs": [],
   "source": []
  }
 ],
 "metadata": {
  "kernelspec": {
   "display_name": "Python 3",
   "language": "python",
   "name": "python3"
  },
  "language_info": {
   "codemirror_mode": {
    "name": "ipython",
    "version": 3
   },
   "file_extension": ".py",
   "mimetype": "text/x-python",
   "name": "python",
   "nbconvert_exporter": "python",
   "pygments_lexer": "ipython3",
   "version": "3.7.6"
  }
 },
 "nbformat": 4,
 "nbformat_minor": 4
}
