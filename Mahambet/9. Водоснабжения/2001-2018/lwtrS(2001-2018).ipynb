{
 "cells": [
  {
   "cell_type": "code",
   "execution_count": 1,
   "metadata": {},
   "outputs": [
    {
     "name": "stderr",
     "output_type": "stream",
     "text": [
      "C:\\Users\\HP\\anaconda3\\lib\\site-packages\\ipykernel_launcher.py:12: RuntimeWarning: divide by zero encountered in double_scalars\n",
      "  if sys.path[0] == '':\n"
     ]
    },
    {
     "data": {
      "text/plain": [
       "0         inf\n",
       "1         inf\n",
       "2         inf\n",
       "3         inf\n",
       "4         inf\n",
       "5         inf\n",
       "6         inf\n",
       "7     940.298\n",
       "8         378\n",
       "9     1346.81\n",
       "10    1808.77\n",
       "11    1132.29\n",
       "12    2272.51\n",
       "13    938.545\n",
       "14    294.703\n",
       "15    156.487\n",
       "16    629.548\n",
       "17    117.096\n",
       "18        100\n",
       "Name: c1, dtype: object"
      ]
     },
     "execution_count": 1,
     "metadata": {},
     "output_type": "execute_result"
    }
   ],
   "source": [
    "import pandas as pd\n",
    "csv = pd.read_csv('vrp_ekz_fact.csv')\n",
    "lwtr = csv['o_ifo_water_makhambet']\n",
    "\n",
    "c=100\n",
    "i=18\n",
    "\n",
    "\n",
    "newdf = pd.DataFrame(columns=['c1'], index=range(19))\n",
    "\n",
    "while i>0:    \n",
    "    c = c/lwtr[i]*100 \n",
    "    i = i-1\n",
    "    newdf.loc[i].c1 = c\n",
    "    \n",
    "lwtrS = newdf['c1']\n",
    "lwtrS[18]=100\n",
    "\n",
    "lwtrS"
   ]
  },
  {
   "cell_type": "code",
   "execution_count": null,
   "metadata": {},
   "outputs": [],
   "source": []
  }
 ],
 "metadata": {
  "kernelspec": {
   "display_name": "Python 3",
   "language": "python",
   "name": "python3"
  },
  "language_info": {
   "codemirror_mode": {
    "name": "ipython",
    "version": 3
   },
   "file_extension": ".py",
   "mimetype": "text/x-python",
   "name": "python",
   "nbconvert_exporter": "python",
   "pygments_lexer": "ipython3",
   "version": "3.7.6"
  }
 },
 "nbformat": 4,
 "nbformat_minor": 4
}
