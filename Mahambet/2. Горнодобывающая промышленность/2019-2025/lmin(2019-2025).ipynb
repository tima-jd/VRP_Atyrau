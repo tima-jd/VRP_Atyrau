{
 "cells": [
  {
   "cell_type": "code",
   "execution_count": 14,
   "metadata": {},
   "outputs": [
    {
     "data": {
      "text/plain": [
       "0      88.637633\n",
       "1     102.362205\n",
       "2     100.000000\n",
       "3     100.000000\n",
       "4     100.000000\n",
       "5     100.000000\n",
       "6     100.000000\n",
       "7      97.692308\n",
       "8     122.960630\n",
       "9     100.000000\n",
       "10    100.000000\n",
       "11    100.000000\n",
       "12    100.000000\n",
       "13    100.000000\n",
       "14     66.495902\n",
       "15    100.000000\n",
       "16    100.000000\n",
       "17    100.000000\n",
       "18    100.000000\n",
       "19    100.000000\n",
       "20    122.303544\n",
       "Name: o_oil_price, dtype: float64"
      ]
     },
     "execution_count": 14,
     "metadata": {},
     "output_type": "execute_result"
    }
   ],
   "source": [
    "import pandas as pd\n",
    "csv = pd.read_csv('vrp_ekz_prog.csv')\n",
    "\n",
    "poil = csv['o_oil_price']\n",
    "c=csv['o_year']\n",
    "voil = csv['o_oil_makhambet']\n",
    "\n",
    "h=poil.shift(1)\n",
    "h[0]= 71.64\n",
    "Gpoil= poil/h*100\n",
    "\n",
    "l=voil.shift(1)\n",
    "l[0]= 52.10\n",
    "Gvoil= voil/l*100\n",
    "\n",
    "Gpoil"
   ]
  },
  {
   "cell_type": "code",
   "execution_count": 15,
   "metadata": {},
   "outputs": [
    {
     "data": {
      "text/plain": [
       "0      89.633\n",
       "1      94.964\n",
       "2     94.8336\n",
       "3     96.8459\n",
       "4     113.901\n",
       "5     114.542\n",
       "6      116.56\n",
       "7     88.6455\n",
       "8     116.904\n",
       "9      116.57\n",
       "10      121.4\n",
       "11    162.227\n",
       "12    163.772\n",
       "13    168.637\n",
       "14    48.3637\n",
       "15    48.3251\n",
       "16    48.8455\n",
       "17    53.2619\n",
       "18    53.4267\n",
       "19    53.9409\n",
       "20    60.7072\n",
       "Name: c1, dtype: object"
      ]
     },
     "execution_count": 15,
     "metadata": {},
     "output_type": "execute_result"
    }
   ],
   "source": [
    "i=0\n",
    "c=100\n",
    "\n",
    "newdf = pd.DataFrame(columns=['c1'], index=range(21))\n",
    "while i<=20:\n",
    "    c = (c*((((Gpoil[i]-100) * 1.095757923940637) + ((Gvoil[i]-100) * 1.074727238148571)) + 100)) /100\n",
    "    newdf.loc[i].c1 = c\n",
    "    i=i+1\n",
    "lminS=newdf['c1']\n",
    "\n",
    "lminS"
   ]
  },
  {
   "cell_type": "code",
   "execution_count": 16,
   "metadata": {},
   "outputs": [
    {
     "data": {
      "text/plain": [
       "0      89.633\n",
       "1     105.948\n",
       "2     99.8626\n",
       "3     102.122\n",
       "4      117.61\n",
       "5     100.563\n",
       "6     101.762\n",
       "7     76.0513\n",
       "8     131.878\n",
       "9     99.7143\n",
       "10    104.144\n",
       "11     133.63\n",
       "12    100.952\n",
       "13    102.971\n",
       "14    28.6791\n",
       "15    99.9203\n",
       "16    101.077\n",
       "17    109.042\n",
       "18     100.31\n",
       "19    100.962\n",
       "20    112.544\n",
       "Name: c1, dtype: object"
      ]
     },
     "execution_count": 16,
     "metadata": {},
     "output_type": "execute_result"
    }
   ],
   "source": [
    "w=lminS.shift(1)\n",
    "w[0]=100\n",
    "lmint = lminS/w*100\n",
    "lmint"
   ]
  },
  {
   "cell_type": "code",
   "execution_count": 17,
   "metadata": {},
   "outputs": [],
   "source": [
    "lmint.to_csv(r'lmin(2019-2025).csv')"
   ]
  },
  {
   "cell_type": "code",
   "execution_count": null,
   "metadata": {},
   "outputs": [],
   "source": []
  }
 ],
 "metadata": {
  "kernelspec": {
   "display_name": "Python 3",
   "language": "python",
   "name": "python3"
  },
  "language_info": {
   "codemirror_mode": {
    "name": "ipython",
    "version": 3
   },
   "file_extension": ".py",
   "mimetype": "text/x-python",
   "name": "python",
   "nbconvert_exporter": "python",
   "pygments_lexer": "ipython3",
   "version": "3.7.6"
  }
 },
 "nbformat": 4,
 "nbformat_minor": 4
}
