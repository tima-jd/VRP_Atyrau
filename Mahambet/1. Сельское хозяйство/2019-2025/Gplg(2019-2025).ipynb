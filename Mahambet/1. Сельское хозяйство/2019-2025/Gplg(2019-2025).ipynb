{
 "cells": [
  {
   "cell_type": "code",
   "execution_count": 3,
   "metadata": {},
   "outputs": [
    {
     "data": {
      "text/plain": [
       "0     105.019430\n",
       "1     106.567993\n",
       "2     106.568287\n",
       "3     106.597882\n",
       "4     106.546103\n",
       "5     106.598135\n",
       "6     106.615833\n",
       "7      68.216239\n",
       "8     106.567993\n",
       "9     106.568287\n",
       "10    106.597882\n",
       "11    106.546103\n",
       "12    106.598135\n",
       "13    106.615833\n",
       "14     72.696676\n",
       "15    106.568287\n",
       "16    106.597882\n",
       "17    106.546103\n",
       "18    106.598135\n",
       "19    106.615833\n",
       "20     68.216239\n",
       "dtype: float64"
      ]
     },
     "execution_count": 3,
     "metadata": {},
     "output_type": "execute_result"
    }
   ],
   "source": [
    "import pandas as pd\n",
    "xlsx = pd.read_csv('vrp_ekz_prog.csv')\n",
    "l = ((xlsx['o_potato_makhambet'].shift(1) + xlsx['o_grain_makhambet'].shift(1) + xlsx['o_vegetables_makhambet'].shift(1)))\n",
    "l[0]=30.88\n",
    "Gplg = ((xlsx['o_potato_makhambet'] + xlsx['o_grain_makhambet'] + xlsx['o_vegetables_makhambet'])/l)*100\n",
    "Gplg"
   ]
  },
  {
   "cell_type": "code",
   "execution_count": null,
   "metadata": {},
   "outputs": [],
   "source": []
  }
 ],
 "metadata": {
  "kernelspec": {
   "display_name": "Python 3",
   "language": "python",
   "name": "python3"
  },
  "language_info": {
   "codemirror_mode": {
    "name": "ipython",
    "version": 3
   },
   "file_extension": ".py",
   "mimetype": "text/x-python",
   "name": "python",
   "nbconvert_exporter": "python",
   "pygments_lexer": "ipython3",
   "version": "3.7.6"
  }
 },
 "nbformat": 4,
 "nbformat_minor": 4
}
