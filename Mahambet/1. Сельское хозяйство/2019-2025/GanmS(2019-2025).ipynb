{
 "cells": [
  {
   "cell_type": "code",
   "execution_count": 2,
   "metadata": {},
   "outputs": [
    {
     "data": {
      "text/plain": [
       "0     102.207\n",
       "1     104.466\n",
       "2     106.909\n",
       "3     109.452\n",
       "4     112.161\n",
       "5      114.98\n",
       "6     117.958\n",
       "7     102.207\n",
       "8     104.466\n",
       "9     106.909\n",
       "10    109.452\n",
       "11    112.161\n",
       "12     114.98\n",
       "13    117.958\n",
       "14    104.466\n",
       "15    106.909\n",
       "16    109.452\n",
       "17    112.161\n",
       "18     114.98\n",
       "19    117.958\n",
       "20    102.207\n",
       "Name: c1, dtype: object"
      ]
     },
     "execution_count": 2,
     "metadata": {},
     "output_type": "execute_result"
    }
   ],
   "source": [
    "import pandas as pd\n",
    "xlsx = pd.read_csv('vrp_ekz_prog.csv')\n",
    "l = ((xlsx['o_cattle_makhambet'] * xlsx['o_weight_cattle']).shift(1) + (xlsx['o_goats_makhambet'] * xlsx['o_weight_goats']).shift(1) + (xlsx['o_horses_makhambet']* xlsx['o_weight_horses']).shift(1) + (xlsx['o_poultry_makhambet'] * xlsx['o_weight_poultry']).shift(1))\n",
    "l[0] = 8583.82\n",
    "Ganm = ((xlsx['o_cattle_makhambet'] * xlsx['o_weight_cattle']) + (xlsx['o_goats_makhambet'] * xlsx['o_weight_goats']) + (xlsx['o_horses_makhambet']* xlsx['o_weight_horses']) + (xlsx['o_poultry_makhambet'] * xlsx['o_weight_poultry']))/l\n",
    "\n",
    "newdf = pd.DataFrame(columns=['c1'], index=range(21))\n",
    "c=100\n",
    "i=0\n",
    "while i<=20:\n",
    "    c = (c*Ganm[i])\n",
    "    newdf.loc[i].c1 = c\n",
    "    i=i+1\n",
    "GanmS=newdf['c1']\n",
    "\n",
    "GanmS"
   ]
  },
  {
   "cell_type": "code",
   "execution_count": null,
   "metadata": {},
   "outputs": [],
   "source": []
  }
 ],
 "metadata": {
  "kernelspec": {
   "display_name": "Python 3",
   "language": "python",
   "name": "python3"
  },
  "language_info": {
   "codemirror_mode": {
    "name": "ipython",
    "version": 3
   },
   "file_extension": ".py",
   "mimetype": "text/x-python",
   "name": "python",
   "nbconvert_exporter": "python",
   "pygments_lexer": "ipython3",
   "version": "3.7.6"
  }
 },
 "nbformat": 4,
 "nbformat_minor": 4
}
