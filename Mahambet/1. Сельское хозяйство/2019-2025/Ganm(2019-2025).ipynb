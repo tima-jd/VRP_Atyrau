{
 "cells": [
  {
   "cell_type": "code",
   "execution_count": 1,
   "metadata": {},
   "outputs": [
    {
     "data": {
      "text/plain": [
       "0     102.206640\n",
       "1     102.210177\n",
       "2     102.339096\n",
       "3     102.378105\n",
       "4     102.475220\n",
       "5     102.513816\n",
       "6     102.589624\n",
       "7      86.646794\n",
       "8     102.210177\n",
       "9     102.339096\n",
       "10    102.378105\n",
       "11    102.475220\n",
       "12    102.513816\n",
       "13    102.589624\n",
       "14     88.561842\n",
       "15    102.339096\n",
       "16    102.378105\n",
       "17    102.475220\n",
       "18    102.513816\n",
       "19    102.589624\n",
       "20     86.646794\n",
       "dtype: float64"
      ]
     },
     "execution_count": 1,
     "metadata": {},
     "output_type": "execute_result"
    }
   ],
   "source": [
    "import pandas as pd\n",
    "xlsx = pd.read_csv('vrp_ekz_prog.csv')\n",
    "l = ((xlsx['o_cattle_makhambet'] * xlsx['o_weight_cattle']).shift(1) + (xlsx['o_goats_makhambet'] * xlsx['o_weight_goats']).shift(1) + (xlsx['o_horses_makhambet']* xlsx['o_weight_horses']).shift(1) + (xlsx['o_poultry_makhambet'] * xlsx['o_weight_poultry']).shift(1))\n",
    "l[0] = 8583.82\n",
    "Ganm = ((xlsx['o_cattle_makhambet'] * xlsx['o_weight_cattle']) + (xlsx['o_goats_makhambet'] * xlsx['o_weight_goats']) + (xlsx['o_horses_makhambet']* xlsx['o_weight_horses']) + (xlsx['o_poultry_makhambet'] * xlsx['o_weight_poultry']))/l * 100\n",
    "Ganm"
   ]
  },
  {
   "cell_type": "code",
   "execution_count": null,
   "metadata": {},
   "outputs": [],
   "source": []
  }
 ],
 "metadata": {
  "kernelspec": {
   "display_name": "Python 3",
   "language": "python",
   "name": "python3"
  },
  "language_info": {
   "codemirror_mode": {
    "name": "ipython",
    "version": 3
   },
   "file_extension": ".py",
   "mimetype": "text/x-python",
   "name": "python",
   "nbconvert_exporter": "python",
   "pygments_lexer": "ipython3",
   "version": "3.7.6"
  }
 },
 "nbformat": 4,
 "nbformat_minor": 4
}
