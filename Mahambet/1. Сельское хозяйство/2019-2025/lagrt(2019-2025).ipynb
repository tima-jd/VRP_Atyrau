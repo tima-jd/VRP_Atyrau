{
 "cells": [
  {
   "cell_type": "code",
   "execution_count": 7,
   "metadata": {},
   "outputs": [
    {
     "data": {
      "text/plain": [
       "0     102.206640\n",
       "1     102.210177\n",
       "2     102.339096\n",
       "3     102.378105\n",
       "4     102.475220\n",
       "5     102.513816\n",
       "6     102.589624\n",
       "7      86.646794\n",
       "8     102.210177\n",
       "9     102.339096\n",
       "10    102.378105\n",
       "11    102.475220\n",
       "12    102.513816\n",
       "13    102.589624\n",
       "14     88.561842\n",
       "15    102.339096\n",
       "16    102.378105\n",
       "17    102.475220\n",
       "18    102.513816\n",
       "19    102.589624\n",
       "20     86.646794\n",
       "dtype: float64"
      ]
     },
     "execution_count": 7,
     "metadata": {},
     "output_type": "execute_result"
    }
   ],
   "source": [
    "import pandas as pd\n",
    "xlsx = pd.read_csv('vrp_ekz_prog.csv')\n",
    "l = ((xlsx['o_cattle_makhambet'] * xlsx['o_weight_cattle']).shift(1) + (xlsx['o_goats_makhambet'] * xlsx['o_weight_goats']).shift(1) + (xlsx['o_horses_makhambet']* xlsx['o_weight_horses']).shift(1) + (xlsx['o_poultry_makhambet'] * xlsx['o_weight_poultry']).shift(1))\n",
    "l[0] = 8583.82\n",
    "Ganm = ((xlsx['o_cattle_makhambet'] * xlsx['o_weight_cattle']) + (xlsx['o_goats_makhambet'] * xlsx['o_weight_goats']) + (xlsx['o_horses_makhambet']* xlsx['o_weight_horses']) + (xlsx['o_poultry_makhambet'] * xlsx['o_weight_poultry']))/l*100\n",
    "Ganm"
   ]
  },
  {
   "cell_type": "code",
   "execution_count": 8,
   "metadata": {},
   "outputs": [
    {
     "data": {
      "text/plain": [
       "0     105.019430\n",
       "1     106.567993\n",
       "2     106.568287\n",
       "3     106.597882\n",
       "4     106.546103\n",
       "5     106.598135\n",
       "6     106.615833\n",
       "7      68.216239\n",
       "8     106.567993\n",
       "9     106.568287\n",
       "10    106.597882\n",
       "11    106.546103\n",
       "12    106.598135\n",
       "13    106.615833\n",
       "14     72.696676\n",
       "15    106.568287\n",
       "16    106.597882\n",
       "17    106.546103\n",
       "18    106.598135\n",
       "19    106.615833\n",
       "20     68.216239\n",
       "dtype: float64"
      ]
     },
     "execution_count": 8,
     "metadata": {},
     "output_type": "execute_result"
    }
   ],
   "source": [
    "import pandas as pd\n",
    "xlsx = pd.read_csv('vrp_ekz_prog.csv')\n",
    "l = ((xlsx['o_potato_makhambet'].shift(1) + xlsx['o_grain_makhambet'].shift(1) + xlsx['o_vegetables_makhambet'].shift(1)))\n",
    "l[0]=30.88\n",
    "Gplg = ((xlsx['o_potato_makhambet'] + xlsx['o_grain_makhambet'] + xlsx['o_vegetables_makhambet'])/l)*100\n",
    "Gplg"
   ]
  },
  {
   "cell_type": "code",
   "execution_count": 9,
   "metadata": {},
   "outputs": [
    {
     "data": {
      "text/plain": [
       "0     105.356\n",
       "1     112.107\n",
       "2     119.419\n",
       "3     127.273\n",
       "4     135.708\n",
       "5     144.797\n",
       "6      154.61\n",
       "7     103.021\n",
       "8     109.622\n",
       "9     116.772\n",
       "10    124.452\n",
       "11      132.7\n",
       "12    141.588\n",
       "13    151.183\n",
       "14    107.893\n",
       "15     114.93\n",
       "16    122.488\n",
       "17    130.607\n",
       "18    139.354\n",
       "19    148.798\n",
       "20    99.1485\n",
       "Name: c1, dtype: object"
      ]
     },
     "execution_count": 9,
     "metadata": {},
     "output_type": "execute_result"
    }
   ],
   "source": [
    "i=0\n",
    "c=100\n",
    "\n",
    "newdf = pd.DataFrame(columns=['c1'], index=range(21))\n",
    "while i<=20:\n",
    "    c = (c*((((Gplg[i]-100) * 0.6767180903961554) + ((Ganm[i]-100) * 0.8880561273127139)) + 100)) /100\n",
    "    newdf.loc[i].c1 = c\n",
    "    i=i+1\n",
    "lagrS=newdf['c1']\n",
    "\n",
    "lagrS"
   ]
  },
  {
   "cell_type": "code",
   "execution_count": 10,
   "metadata": {},
   "outputs": [
    {
     "data": {
      "text/plain": [
       "0     105.356\n",
       "1     106.407\n",
       "2     106.522\n",
       "3     106.577\n",
       "4     106.628\n",
       "5     106.697\n",
       "6     106.777\n",
       "7      66.633\n",
       "8     106.407\n",
       "9     106.522\n",
       "10    106.577\n",
       "11    106.628\n",
       "12    106.697\n",
       "13    106.777\n",
       "14    71.3656\n",
       "15    106.522\n",
       "16    106.577\n",
       "17    106.628\n",
       "18    106.697\n",
       "19    106.777\n",
       "20     66.633\n",
       "Name: c1, dtype: object"
      ]
     },
     "execution_count": 10,
     "metadata": {},
     "output_type": "execute_result"
    }
   ],
   "source": [
    "w=lagrS.shift(1)\n",
    "w[0]=100\n",
    "lagrt = lagrS/w*100\n",
    "lagrt"
   ]
  },
  {
   "cell_type": "code",
   "execution_count": 11,
   "metadata": {},
   "outputs": [],
   "source": [
    "lagrt.to_csv(r'lagr(2019-2025).csv', index = False)"
   ]
  },
  {
   "cell_type": "code",
   "execution_count": null,
   "metadata": {},
   "outputs": [],
   "source": []
  }
 ],
 "metadata": {
  "kernelspec": {
   "display_name": "Python 3",
   "language": "python",
   "name": "python3"
  },
  "language_info": {
   "codemirror_mode": {
    "name": "ipython",
    "version": 3
   },
   "file_extension": ".py",
   "mimetype": "text/x-python",
   "name": "python",
   "nbconvert_exporter": "python",
   "pygments_lexer": "ipython3",
   "version": "3.7.6"
  }
 },
 "nbformat": 4,
 "nbformat_minor": 4
}
