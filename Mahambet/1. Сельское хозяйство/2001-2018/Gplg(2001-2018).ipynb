{
 "cells": [
  {
   "cell_type": "code",
   "execution_count": 1,
   "metadata": {},
   "outputs": [
    {
     "data": {
      "text/plain": [
       "0      9.90\n",
       "1      9.80\n",
       "2     10.20\n",
       "3     11.70\n",
       "4     12.00\n",
       "5     12.40\n",
       "6     12.80\n",
       "7     13.10\n",
       "8     13.70\n",
       "9     13.90\n",
       "10    14.50\n",
       "11    14.80\n",
       "12    17.00\n",
       "13    17.70\n",
       "14    24.61\n",
       "15    25.26\n",
       "16    29.50\n",
       "17    29.71\n",
       "18    30.88\n",
       "dtype: float64"
      ]
     },
     "execution_count": 1,
     "metadata": {},
     "output_type": "execute_result"
    }
   ],
   "source": [
    "import pandas as pd\n",
    "xlsx = pd.read_csv('vrp_ekz_fact.csv')\n",
    "Gplg = ((xlsx['o_potato_makhambet'] + xlsx['o_grain_makhambet'] + xlsx['o_vegetables_makhambet'])/(xlsx['o_potato_makhambet'].shift(1) + xlsx['o_grain_makhambet'].shift(1) + xlsx['o_vegetables_makhambet'].shift(1))) * 100\n",
    "Gplg_f = (xlsx['o_potato_makhambet'] + xlsx['o_grain_makhambet'] + xlsx['o_vegetables_makhambet'])\n",
    "Gplg_f"
   ]
  },
  {
   "cell_type": "code",
   "execution_count": null,
   "metadata": {},
   "outputs": [],
   "source": []
  }
 ],
 "metadata": {
  "kernelspec": {
   "display_name": "Python 3",
   "language": "python",
   "name": "python3"
  },
  "language_info": {
   "codemirror_mode": {
    "name": "ipython",
    "version": 3
   },
   "file_extension": ".py",
   "mimetype": "text/x-python",
   "name": "python",
   "nbconvert_exporter": "python",
   "pygments_lexer": "ipython3",
   "version": "3.7.6"
  }
 },
 "nbformat": 4,
 "nbformat_minor": 4
}
