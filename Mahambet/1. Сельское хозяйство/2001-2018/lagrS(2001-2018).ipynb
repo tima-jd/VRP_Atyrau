{
 "cells": [
  {
   "cell_type": "code",
   "execution_count": 1,
   "metadata": {},
   "outputs": [
    {
     "data": {
      "text/plain": [
       "0     48.9459\n",
       "1     46.8902\n",
       "2     46.6557\n",
       "3     47.2156\n",
       "4      49.718\n",
       "5     52.2039\n",
       "6     55.7538\n",
       "7     55.3078\n",
       "8     61.7788\n",
       "9     59.6783\n",
       "10    59.3202\n",
       "11    71.0063\n",
       "12    77.8939\n",
       "13    73.0645\n",
       "14    70.7264\n",
       "15    76.8796\n",
       "16    90.1029\n",
       "17     94.518\n",
       "18        100\n",
       "Name: c1, dtype: object"
      ]
     },
     "execution_count": 1,
     "metadata": {},
     "output_type": "execute_result"
    }
   ],
   "source": [
    "import pandas as pd\n",
    "import numpy as np\n",
    "xlsx = pd.read_csv('vrp_ekz_fact.csv')\n",
    "lagr = xlsx['o_ifo_agro_makhambet']\n",
    "\n",
    "i=18\n",
    "c=100\n",
    "newdf = pd.DataFrame(columns=['c1'], index=range(19))\n",
    "while i>0:\n",
    "    c = (c/lagr[i]) * 100\n",
    "    i=i-1\n",
    "    newdf.loc[i].c1 = c\n",
    "lagrS=newdf['c1']\n",
    "lagrS[18]=100\n",
    "\n",
    "lagrS"
   ]
  },
  {
   "cell_type": "code",
   "execution_count": null,
   "metadata": {},
   "outputs": [],
   "source": []
  }
 ],
 "metadata": {
  "kernelspec": {
   "display_name": "Python 3",
   "language": "python",
   "name": "python3"
  },
  "language_info": {
   "codemirror_mode": {
    "name": "ipython",
    "version": 3
   },
   "file_extension": ".py",
   "mimetype": "text/x-python",
   "name": "python",
   "nbconvert_exporter": "python",
   "pygments_lexer": "ipython3",
   "version": "3.7.6"
  }
 },
 "nbformat": 4,
 "nbformat_minor": 4
}
