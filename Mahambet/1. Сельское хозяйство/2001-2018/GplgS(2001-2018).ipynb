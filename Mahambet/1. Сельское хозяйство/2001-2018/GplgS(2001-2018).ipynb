{
 "cells": [
  {
   "cell_type": "code",
   "execution_count": 1,
   "metadata": {},
   "outputs": [
    {
     "data": {
      "text/plain": [
       "0            NaN\n",
       "1      98.989899\n",
       "2     104.081633\n",
       "3     114.705882\n",
       "4     102.564103\n",
       "5     103.333333\n",
       "6     103.225806\n",
       "7     102.343750\n",
       "8     104.580153\n",
       "9     101.459854\n",
       "10    104.316547\n",
       "11    102.068966\n",
       "12    114.864865\n",
       "13    104.117647\n",
       "14    139.039548\n",
       "15    102.641203\n",
       "16    116.785432\n",
       "17    100.711864\n",
       "18    103.938068\n",
       "dtype: float64"
      ]
     },
     "execution_count": 1,
     "metadata": {},
     "output_type": "execute_result"
    }
   ],
   "source": [
    "import pandas as pd\n",
    "xlsx = pd.read_csv('vrp_ekz_fact.csv')\n",
    "Gplg = ((xlsx['o_potato_makhambet'] + xlsx['o_grain_makhambet'] + xlsx['o_vegetables_makhambet'])/(xlsx['o_potato_makhambet'].shift(1) + xlsx['o_grain_makhambet'].shift(1) + xlsx['o_vegetables_makhambet'].shift(1))) * 100\n",
    "\n",
    "i=18\n",
    "c=100\n",
    "newdf = pd.DataFrame(columns=['c1'], index=range(19))\n",
    "while i>0:\n",
    "    c = (c/Gplg[i]) * 100\n",
    "    i=i-1\n",
    "    newdf.loc[i].c1 = c\n",
    "GplgS=newdf['c1']\n",
    "GplgS[18]=100\n",
    "Gplg"
   ]
  },
  {
   "cell_type": "code",
   "execution_count": null,
   "metadata": {},
   "outputs": [],
   "source": []
  }
 ],
 "metadata": {
  "kernelspec": {
   "display_name": "Python 3",
   "language": "python",
   "name": "python3"
  },
  "language_info": {
   "codemirror_mode": {
    "name": "ipython",
    "version": 3
   },
   "file_extension": ".py",
   "mimetype": "text/x-python",
   "name": "python",
   "nbconvert_exporter": "python",
   "pygments_lexer": "ipython3",
   "version": "3.7.6"
  }
 },
 "nbformat": 4,
 "nbformat_minor": 4
}
