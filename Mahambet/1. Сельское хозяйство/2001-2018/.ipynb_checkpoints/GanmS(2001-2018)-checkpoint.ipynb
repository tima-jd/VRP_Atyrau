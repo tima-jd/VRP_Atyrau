{
 "cells": [
  {
   "cell_type": "code",
   "execution_count": 2,
   "metadata": {},
   "outputs": [
    {
     "data": {
      "text/plain": [
       "0     60.7629\n",
       "1     61.6645\n",
       "2      65.249\n",
       "3     71.3986\n",
       "4     78.5519\n",
       "5      81.838\n",
       "6      86.914\n",
       "7     89.3526\n",
       "8      91.863\n",
       "9      92.896\n",
       "10    95.6059\n",
       "11    97.2816\n",
       "12    89.4969\n",
       "13     89.494\n",
       "14     89.798\n",
       "15    91.4187\n",
       "16     93.202\n",
       "17    96.4105\n",
       "18        100\n",
       "Name: c1, dtype: object"
      ]
     },
     "execution_count": 2,
     "metadata": {},
     "output_type": "execute_result"
    }
   ],
   "source": [
    "import pandas as pd\n",
    "xlsx = pd.read_csv('vrp_ekz_fact.csv')\n",
    "Ganm = ((xlsx['o_cattle_inder'] * xlsx['o_weight_cattle']) + (xlsx['o_goats_inder'] * xlsx['o_weight_goats']) + (xlsx['o_horses_inder']* xlsx['o_weight_horses']) + (xlsx['o_poultry_inder'] * xlsx['o_weight_poultry']))/((xlsx['o_cattle_inder'] * xlsx['o_weight_cattle']).shift(1) + (xlsx['o_goats_inder'] * xlsx['o_weight_goats']).shift(1) + (xlsx['o_horses_inder']* xlsx['o_weight_horses']).shift(1) + (xlsx['o_poultry_inder'] * xlsx['o_weight_poultry']).shift(1)) * 100\n",
    "i=18\n",
    "c=100\n",
    "newdf = pd.DataFrame(columns=['c1'], index=range(19))\n",
    "\n",
    "while i>0:\n",
    "    c = (c/Ganm[i]) * 100\n",
    "    i=i-1\n",
    "    newdf.loc[i].c1 = c\n",
    "    \n",
    "GanmS=newdf['c1']\n",
    "GanmS[18]=100\n",
    "\n",
    "GanmS"
   ]
  },
  {
   "cell_type": "code",
   "execution_count": null,
   "metadata": {},
   "outputs": [],
   "source": []
  }
 ],
 "metadata": {
  "kernelspec": {
   "display_name": "Python 3",
   "language": "python",
   "name": "python3"
  },
  "language_info": {
   "codemirror_mode": {
    "name": "ipython",
    "version": 3
   },
   "file_extension": ".py",
   "mimetype": "text/x-python",
   "name": "python",
   "nbconvert_exporter": "python",
   "pygments_lexer": "ipython3",
   "version": "3.7.6"
  }
 },
 "nbformat": 4,
 "nbformat_minor": 4
}
