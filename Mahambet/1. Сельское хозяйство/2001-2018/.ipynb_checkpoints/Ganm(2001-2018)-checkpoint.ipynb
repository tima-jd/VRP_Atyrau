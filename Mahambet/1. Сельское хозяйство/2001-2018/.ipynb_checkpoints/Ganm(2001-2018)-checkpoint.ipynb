{
 "cells": [
  {
   "cell_type": "code",
   "execution_count": 2,
   "metadata": {},
   "outputs": [
    {
     "data": {
      "text/plain": [
       "0            NaN\n",
       "1     101.483923\n",
       "2     105.812782\n",
       "3     109.424931\n",
       "4     110.018791\n",
       "5     104.183272\n",
       "6     106.202489\n",
       "7     102.805860\n",
       "8     102.809524\n",
       "9     101.124437\n",
       "10    102.917146\n",
       "11    101.752718\n",
       "12     91.997834\n",
       "13     99.996763\n",
       "14    100.339685\n",
       "15    101.804783\n",
       "16    101.950641\n",
       "17    103.442575\n",
       "18    103.723138\n",
       "dtype: float64"
      ]
     },
     "execution_count": 2,
     "metadata": {},
     "output_type": "execute_result"
    }
   ],
   "source": [
    "import pandas as pd\n",
    "xlsx = pd.read_csv('vrp_ekz_fact.csv')\n",
    "Ganm = ((xlsx['o_cattle_inder'] * xlsx['o_weight_cattle']) + (xlsx['o_goats_inder'] * xlsx['o_weight_goats']) + (xlsx['o_horses_inder']* xlsx['o_weight_horses']) + (xlsx['o_poultry_inder'] * xlsx['o_weight_poultry']))/((xlsx['o_cattle_inder'] * xlsx['o_weight_cattle']).shift(1) + (xlsx['o_goats_inder'] * xlsx['o_weight_goats']).shift(1) + (xlsx['o_horses_inder']* xlsx['o_weight_horses']).shift(1) + (xlsx['o_poultry_inder'] * xlsx['o_weight_poultry']).shift(1)) * 100\n",
    "Ganm"
   ]
  },
  {
   "cell_type": "code",
   "execution_count": null,
   "metadata": {},
   "outputs": [],
   "source": []
  }
 ],
 "metadata": {
  "kernelspec": {
   "display_name": "Python 3",
   "language": "python",
   "name": "python3"
  },
  "language_info": {
   "codemirror_mode": {
    "name": "ipython",
    "version": 3
   },
   "file_extension": ".py",
   "mimetype": "text/x-python",
   "name": "python",
   "nbconvert_exporter": "python",
   "pygments_lexer": "ipython3",
   "version": "3.7.6"
  }
 },
 "nbformat": 4,
 "nbformat_minor": 4
}
