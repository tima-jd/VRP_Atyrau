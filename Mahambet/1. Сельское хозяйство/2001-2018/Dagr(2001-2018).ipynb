{
 "cells": [
  {
   "cell_type": "code",
   "execution_count": 1,
   "metadata": {},
   "outputs": [
    {
     "data": {
      "text/plain": [
       "0            NaN\n",
       "1     115.215810\n",
       "2     115.185313\n",
       "3     115.202931\n",
       "4     107.943391\n",
       "5     137.317041\n",
       "6     117.393486\n",
       "7     118.276473\n",
       "8     111.392720\n",
       "9     105.932582\n",
       "10    133.190274\n",
       "11    130.863447\n",
       "12    116.863311\n",
       "13    103.945893\n",
       "14    121.153605\n",
       "15     92.304603\n",
       "16    102.167525\n",
       "17     98.756493\n",
       "18    103.309264\n",
       "dtype: float64"
      ]
     },
     "execution_count": 1,
     "metadata": {},
     "output_type": "execute_result"
    }
   ],
   "source": [
    "import pandas as pd\n",
    "import numpy as np\n",
    "csv_file = pd.read_csv('vrp_ekz_fact.csv')\n",
    "lagr = csv_file['o_ifo_agro_makhambet']\n",
    "Nagr= csv_file['o_prod_agro_makhambet']\n",
    "Dagr = Nagr/Nagr.shift(1)/lagr*10000\n",
    "\n",
    "Dagr"
   ]
  },
  {
   "cell_type": "code",
   "execution_count": null,
   "metadata": {},
   "outputs": [],
   "source": []
  },
  {
   "cell_type": "code",
   "execution_count": null,
   "metadata": {},
   "outputs": [],
   "source": []
  }
 ],
 "metadata": {
  "kernelspec": {
   "display_name": "Python 3",
   "language": "python",
   "name": "python3"
  },
  "language_info": {
   "codemirror_mode": {
    "name": "ipython",
    "version": 3
   },
   "file_extension": ".py",
   "mimetype": "text/x-python",
   "name": "python",
   "nbconvert_exporter": "python",
   "pygments_lexer": "ipython3",
   "version": "3.7.6"
  }
 },
 "nbformat": 4,
 "nbformat_minor": 4
}
