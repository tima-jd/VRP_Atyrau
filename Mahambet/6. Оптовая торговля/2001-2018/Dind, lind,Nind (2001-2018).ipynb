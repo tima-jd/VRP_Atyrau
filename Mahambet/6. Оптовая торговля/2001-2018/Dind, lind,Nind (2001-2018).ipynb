{
 "cells": [
  {
   "cell_type": "code",
   "execution_count": 2,
   "metadata": {},
   "outputs": [
    {
     "name": "stderr",
     "output_type": "stream",
     "text": [
      "C:\\Users\\HP\\anaconda3\\lib\\site-packages\\ipykernel_launcher.py:20: RuntimeWarning: invalid value encountered in double_scalars\n",
      "C:\\Users\\HP\\anaconda3\\lib\\site-packages\\ipykernel_launcher.py:21: RuntimeWarning: divide by zero encountered in longlong_scalars\n"
     ]
    },
    {
     "data": {
      "text/plain": [
       "0         NaN\n",
       "1         313\n",
       "2        83.2\n",
       "3        63.8\n",
       "4         NaN\n",
       "5        95.8\n",
       "6       118.4\n",
       "7       577.4\n",
       "8      94.387\n",
       "9      100.82\n",
       "10    107.578\n",
       "11    94.1613\n",
       "12    119.633\n",
       "13    83.7348\n",
       "14    99.0373\n",
       "15    81.2062\n",
       "16     116.74\n",
       "17    83.4994\n",
       "18    105.887\n",
       "Name: lind, dtype: object"
      ]
     },
     "execution_count": 2,
     "metadata": {},
     "output_type": "execute_result"
    }
   ],
   "source": [
    "import pandas as pd\n",
    "csv = pd.read_csv('vrp_ekz_fact.csv')\n",
    "\n",
    "lwtr = csv['o_ifo_water_makhambet']\n",
    "lelc = csv['o_ifo_energo_makhambet']\n",
    "lman = csv['o_ifo_man_makhambet']\n",
    "lmin = csv['o_ifo_mining_makhambet']\n",
    "\n",
    "Nwtr = csv['o_prod_water_makhambet']\n",
    "Nelc = csv['o_prod_energo_makhambet']\n",
    "Nman = csv['o_prod_man_makhambet']\n",
    "Nmin = csv['o_prod_mining_makhambet']\n",
    "\n",
    "Nind = Nmin+Nman+Nelc+Nwtr\n",
    "\n",
    "newdf = pd.DataFrame(columns=['Dind','lind','Nind'], index=range(19))\n",
    "i=1\n",
    "while i<=18:    \n",
    "    \n",
    "    lind = (lmin[i]*Nmin[i-1]+lman[i]*Nman[i-1]+lelc[i]*Nelc[i-1]+lwtr[i]*Nwtr[i-1])/Nind[i-1]    \n",
    "    Dind=(Nind[i]/Nind[i-1]/lind)*10000\n",
    "    \n",
    "    newdf.loc[i].Dind = Dind\n",
    "    newdf.loc[i].lind = lind\n",
    "    i= i+1\n",
    "    \n",
    "lind = newdf['lind']\n",
    "Dind = newdf['Dind']\n",
    "newdf.Nind = Nind\n",
    "Nind = newdf['Nind']\n",
    "\n",
    "lind"
   ]
  },
  {
   "cell_type": "code",
   "execution_count": null,
   "metadata": {},
   "outputs": [],
   "source": []
  }
 ],
 "metadata": {
  "kernelspec": {
   "display_name": "Python 3",
   "language": "python",
   "name": "python3"
  },
  "language_info": {
   "codemirror_mode": {
    "name": "ipython",
    "version": 3
   },
   "file_extension": ".py",
   "mimetype": "text/x-python",
   "name": "python",
   "nbconvert_exporter": "python",
   "pygments_lexer": "ipython3",
   "version": "3.7.6"
  }
 },
 "nbformat": 4,
 "nbformat_minor": 4
}
