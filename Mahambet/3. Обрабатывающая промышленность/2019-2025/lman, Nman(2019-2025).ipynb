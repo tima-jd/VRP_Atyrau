{
 "cells": [
  {
   "cell_type": "code",
   "execution_count": 7,
   "metadata": {},
   "outputs": [
    {
     "data": {
      "text/plain": [
       "0      98.872422\n",
       "1     103.328362\n",
       "2     100.000000\n",
       "3     100.000000\n",
       "4     100.000000\n",
       "5     100.000000\n",
       "6     100.000000\n",
       "7      96.802639\n",
       "8     119.042965\n",
       "9     100.000000\n",
       "10    100.000000\n",
       "11    100.000000\n",
       "12    100.000000\n",
       "13    100.000000\n",
       "14     76.290350\n",
       "15    100.000000\n",
       "16    100.000000\n",
       "17    100.000000\n",
       "18    100.000000\n",
       "19    100.000000\n",
       "20    111.696795\n",
       "Name: 0, dtype: float64"
      ]
     },
     "execution_count": 7,
     "metadata": {},
     "output_type": "execute_result"
    }
   ],
   "source": [
    "import pandas as pd\n",
    "\n",
    "csv = pd.read_csv('Dmin(2019-2025).csv')\n",
    "Dmin=csv['0']\n",
    "\n",
    "Dman = (Dmin-100)*0.8857401044066932+100\n",
    "\n",
    "Dman"
   ]
  },
  {
   "cell_type": "code",
   "execution_count": 8,
   "metadata": {},
   "outputs": [
    {
     "data": {
      "text/plain": [
       "335.81536876090524"
      ]
     },
     "execution_count": 8,
     "metadata": {},
     "output_type": "execute_result"
    }
   ],
   "source": [
    "import pandas as pd\n",
    "csv = pd.read_csv('vrp_ekz_fact.csv')\n",
    "c = pd.read_csv('vrp_ekz_prog.csv')\n",
    "\n",
    "q = pd.read_csv('lagr(2019-2025).csv')\n",
    "w = pd.read_csv('lmin(2019-2025).csv')\n",
    "d = pd.read_csv('Dmin(2019-2025).csv')\n",
    "e = pd.read_csv('Nagrt(2019-2025).csv')\n",
    "r = pd.read_csv('Nmin(2019-2025).csv')\n",
    "\n",
    "Dmin = d['0']\n",
    "\n",
    "lagr = q['c1']\n",
    "lmin = w['c1']\n",
    "\n",
    "Nagr = csv['o_prod_agro_makhambet']\n",
    "Nmin = csv['o_prod_mining_makhambet']\n",
    "lman= csv['o_ifo_man_makhambet']\n",
    "Nman = csv['o_prod_man_makhambet']\n",
    "\n",
    "Nmin_p = r['c1']\n",
    "Nagr_p = e['c1']\n",
    "\n",
    "\n",
    "lamml_2019 = (lagr[0]*Nagr[18]+lmin[0]*Nmin[18]+lman[18]*Nman[17])/(Nagr[18]+Nmin[18]+Nman[17])\n",
    "\n",
    "lmanS_2019 = 100*((lamml_2019 - 100) * (0.8382108953671523) + 100)/100\n",
    "lman_2019 = lmanS_2019/100 * 100\n",
    "\n",
    "Nman_2019=(Nman[18]*lman_2019*Dman[0])/10000\n",
    "\n",
    "\n",
    "lamml_2020 = (lagr[1]*Nagr_p[0]+lmin[1]*Nmin_p[0]+lman_2019*Nman[18])/(Nagr_p[0]+Nmin_p[0]+ Nman[18])\n",
    "lmanS_2020 = lmanS_2019 *((lamml_2020 - 100) * (0.8382108953671523) + 100)/100\n",
    "lman_2020 = lmanS_2020/lmanS_2019 * 100\n",
    "\n",
    "Nman_2020=(Nman_2019*lman_2020*Dman[1])/10000\n",
    "\n",
    "Nman_2019"
   ]
  },
  {
   "cell_type": "code",
   "execution_count": 9,
   "metadata": {},
   "outputs": [
    {
     "data": {
      "text/html": [
       "<div>\n",
       "<style scoped>\n",
       "    .dataframe tbody tr th:only-of-type {\n",
       "        vertical-align: middle;\n",
       "    }\n",
       "\n",
       "    .dataframe tbody tr th {\n",
       "        vertical-align: top;\n",
       "    }\n",
       "\n",
       "    .dataframe thead th {\n",
       "        text-align: right;\n",
       "    }\n",
       "</style>\n",
       "<table border=\"1\" class=\"dataframe\">\n",
       "  <thead>\n",
       "    <tr style=\"text-align: right;\">\n",
       "      <th></th>\n",
       "      <th>Nman</th>\n",
       "      <th>lman</th>\n",
       "      <th>lmanS</th>\n",
       "      <th>lamml</th>\n",
       "    </tr>\n",
       "  </thead>\n",
       "  <tbody>\n",
       "    <tr>\n",
       "      <th>0</th>\n",
       "      <td>335.815</td>\n",
       "      <td>102.923</td>\n",
       "      <td>102.923</td>\n",
       "      <td>103.487</td>\n",
       "    </tr>\n",
       "    <tr>\n",
       "      <th>1</th>\n",
       "      <td>365.158</td>\n",
       "      <td>105.235</td>\n",
       "      <td>108.311</td>\n",
       "      <td>106.245</td>\n",
       "    </tr>\n",
       "    <tr>\n",
       "      <th>2</th>\n",
       "      <td>381.031</td>\n",
       "      <td>104.347</td>\n",
       "      <td>113.019</td>\n",
       "      <td>105.186</td>\n",
       "    </tr>\n",
       "    <tr>\n",
       "      <th>3</th>\n",
       "      <td>399.376</td>\n",
       "      <td>104.814</td>\n",
       "      <td>118.46</td>\n",
       "      <td>105.744</td>\n",
       "    </tr>\n",
       "    <tr>\n",
       "      <th>4</th>\n",
       "      <td>427.529</td>\n",
       "      <td>107.049</td>\n",
       "      <td>126.811</td>\n",
       "      <td>108.41</td>\n",
       "    </tr>\n",
       "    <tr>\n",
       "      <th>5</th>\n",
       "      <td>447.773</td>\n",
       "      <td>104.735</td>\n",
       "      <td>132.816</td>\n",
       "      <td>105.649</td>\n",
       "    </tr>\n",
       "    <tr>\n",
       "      <th>6</th>\n",
       "      <td>470.139</td>\n",
       "      <td>104.995</td>\n",
       "      <td>139.45</td>\n",
       "      <td>105.96</td>\n",
       "    </tr>\n",
       "  </tbody>\n",
       "</table>\n",
       "</div>"
      ],
      "text/plain": [
       "      Nman     lman    lmanS    lamml\n",
       "0  335.815  102.923  102.923  103.487\n",
       "1  365.158  105.235  108.311  106.245\n",
       "2  381.031  104.347  113.019  105.186\n",
       "3  399.376  104.814   118.46  105.744\n",
       "4  427.529  107.049  126.811   108.41\n",
       "5  447.773  104.735  132.816  105.649\n",
       "6  470.139  104.995   139.45   105.96"
      ]
     },
     "execution_count": 9,
     "metadata": {},
     "output_type": "execute_result"
    }
   ],
   "source": [
    "i=0\n",
    "\n",
    "newdf = pd.DataFrame(columns=['Nman','lman','lmanS', 'lamml'], index=range(7))\n",
    "\n",
    "while i<=4:\n",
    "    lamml_2020 = (lagr[i+2]*Nagr_p[i+1]+lmin[i+2]*Nmin_p[i+1]+lman_2020*Nman_2019)/(Nagr_p[i+1]+Nmin_p[i+1]+Nman_2019)\n",
    "    \n",
    "    lmanS_2021 = lmanS_2020*((lamml_2020 - 100) * (0.8382108953671523) + 100)/100        \n",
    "    \n",
    "    Nman_2019 = Nman_2019*lman_2020*Dman[i+1]/10000\n",
    "    \n",
    "    lman_2020 = lmanS_2021/lmanS_2020 * 100\n",
    "    lmanS_2020=lmanS_2021\n",
    "    \n",
    "    newdf.loc[i+1].Nman = Nman_2019\n",
    "    newdf.loc[i+2].lman = lman_2020\n",
    "    newdf.loc[i+2].lmanS = lmanS_2021\n",
    "    newdf.loc[i+2].lamml = lamml_2020  \n",
    "    i=i+1\n",
    "lma = newdf['lman']\n",
    "lma[0] = 102.92276792174557\n",
    "lma[1] = 105.23503206149431\n",
    "lman = lma\n",
    "\n",
    "lmaS = newdf['lmanS']\n",
    "lmaS[0] = 102.92276792174557\n",
    "lmaS[1] = 108.31080782102634\n",
    "lmanS = lmaS\n",
    "\n",
    "lamm = newdf['lamml']\n",
    "lamm[0] = 103.48691234855083\n",
    "lamm[1] = 106.24548319573114\n",
    "lamml = lamm\n",
    "\n",
    "Nma = newdf['Nman']\n",
    "Nma[0] = 335.81536876090524\n",
    "\n",
    "n=(447.773*104.995*Dman[6])/10000\n",
    "Nma[6] = n\n",
    "Nman = Nma\n",
    "\n",
    "newdf"
   ]
  },
  {
   "cell_type": "code",
   "execution_count": 11,
   "metadata": {},
   "outputs": [],
   "source": [
    "Nman.to_csv(r'Nman_Makhambet(2019-2025).csv', index = False)"
   ]
  },
  {
   "cell_type": "code",
   "execution_count": null,
   "metadata": {},
   "outputs": [],
   "source": []
  },
  {
   "cell_type": "code",
   "execution_count": null,
   "metadata": {},
   "outputs": [],
   "source": []
  },
  {
   "cell_type": "code",
   "execution_count": null,
   "metadata": {},
   "outputs": [],
   "source": []
  },
  {
   "cell_type": "code",
   "execution_count": null,
   "metadata": {},
   "outputs": [],
   "source": []
  }
 ],
 "metadata": {
  "kernelspec": {
   "display_name": "Python 3",
   "language": "python",
   "name": "python3"
  },
  "language_info": {
   "codemirror_mode": {
    "name": "ipython",
    "version": 3
   },
   "file_extension": ".py",
   "mimetype": "text/x-python",
   "name": "python",
   "nbconvert_exporter": "python",
   "pygments_lexer": "ipython3",
   "version": "3.7.6"
  }
 },
 "nbformat": 4,
 "nbformat_minor": 4
}
