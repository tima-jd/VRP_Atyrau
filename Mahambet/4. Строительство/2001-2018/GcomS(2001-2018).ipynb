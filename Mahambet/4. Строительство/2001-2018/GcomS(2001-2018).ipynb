{
 "cells": [
  {
   "cell_type": "code",
   "execution_count": 2,
   "metadata": {},
   "outputs": [
    {
     "data": {
      "text/plain": [
       "0     18.2949\n",
       "1     25.6129\n",
       "2     43.9078\n",
       "3     76.8386\n",
       "4     36.5898\n",
       "5     40.2488\n",
       "6     84.1566\n",
       "7     54.8847\n",
       "8     62.2027\n",
       "9     69.5207\n",
       "10    69.5207\n",
       "11    73.1797\n",
       "12    80.4976\n",
       "13    109.769\n",
       "14    73.1797\n",
       "15    47.5668\n",
       "16    51.2258\n",
       "17    51.2258\n",
       "18        100\n",
       "Name: c1, dtype: object"
      ]
     },
     "execution_count": 2,
     "metadata": {},
     "output_type": "execute_result"
    }
   ],
   "source": [
    "import pandas as pd\n",
    "csv = pd.read_csv('vrp_ekz_fact.csv')\n",
    "com = csv['o_housing_makhambet']\n",
    "lmin = csv['o_ifo_mining_makhambet']\n",
    "\n",
    "Gcom = com/com.shift(1)*100\n",
    "\n",
    "i=18\n",
    "c=100\n",
    "newdf = pd.DataFrame(columns=['c1'], index=range(19))\n",
    "while i>0:\n",
    "    c = (c/Gcom[i]) * 100\n",
    "    i=i-1\n",
    "    newdf.loc[i].c1 = c\n",
    "GcomS=newdf['c1']\n",
    "GcomS[18]=100\n",
    "\n",
    "GcomS\n"
   ]
  },
  {
   "cell_type": "code",
   "execution_count": null,
   "metadata": {},
   "outputs": [],
   "source": []
  }
 ],
 "metadata": {
  "kernelspec": {
   "display_name": "Python 3",
   "language": "python",
   "name": "python3"
  },
  "language_info": {
   "codemirror_mode": {
    "name": "ipython",
    "version": 3
   },
   "file_extension": ".py",
   "mimetype": "text/x-python",
   "name": "python",
   "nbconvert_exporter": "python",
   "pygments_lexer": "ipython3",
   "version": "3.7.6"
  }
 },
 "nbformat": 4,
 "nbformat_minor": 4
}
