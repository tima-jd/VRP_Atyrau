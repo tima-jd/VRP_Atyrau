{
 "cells": [
  {
   "cell_type": "code",
   "execution_count": 1,
   "metadata": {},
   "outputs": [
    {
     "data": {
      "text/plain": [
       "0      1.00\n",
       "1      2.00\n",
       "2      2.00\n",
       "3      4.00\n",
       "4      5.00\n",
       "5      7.00\n",
       "6     17.00\n",
       "7     18.00\n",
       "8     29.00\n",
       "9     26.00\n",
       "10    27.00\n",
       "11    31.00\n",
       "12    34.00\n",
       "13    15.00\n",
       "14    15.00\n",
       "15    22.00\n",
       "16    26.00\n",
       "17    44.00\n",
       "18    44.18\n",
       "Name: o_housing_makhambet, dtype: float64"
      ]
     },
     "execution_count": 1,
     "metadata": {},
     "output_type": "execute_result"
    }
   ],
   "source": [
    "import pandas as pd\n",
    "csv = pd.read_csv('vrp_ekz_fact.csv')\n",
    "com = csv['o_housing_makhambet']\n",
    "lmin = csv['o_ifo_mining_makhambet']\n",
    "\n",
    "Gcom = com/com.shift(1)*100\n",
    "\n",
    "com"
   ]
  },
  {
   "cell_type": "code",
   "execution_count": null,
   "metadata": {},
   "outputs": [],
   "source": []
  }
 ],
 "metadata": {
  "kernelspec": {
   "display_name": "Python 3",
   "language": "python",
   "name": "python3"
  },
  "language_info": {
   "codemirror_mode": {
    "name": "ipython",
    "version": 3
   },
   "file_extension": ".py",
   "mimetype": "text/x-python",
   "name": "python",
   "nbconvert_exporter": "python",
   "pygments_lexer": "ipython3",
   "version": "3.7.6"
  }
 },
 "nbformat": 4,
 "nbformat_minor": 4
}
