{
 "cells": [
  {
   "cell_type": "code",
   "execution_count": 2,
   "metadata": {},
   "outputs": [
    {
     "data": {
      "text/plain": [
       "0     101.742870\n",
       "1     101.468298\n",
       "2     101.468976\n",
       "3     101.469317\n",
       "4     101.448041\n",
       "5     101.469353\n",
       "6     101.468763\n",
       "7      91.641182\n",
       "8     103.537264\n",
       "9     103.459390\n",
       "10    103.385254\n",
       "11    103.314584\n",
       "12    103.266576\n",
       "13    103.200904\n",
       "14     82.375479\n",
       "15    100.442968\n",
       "16    100.441014\n",
       "17    100.439078\n",
       "18    100.459016\n",
       "19    100.456919\n",
       "20     97.357592\n",
       "Name: o_housing_makhambet, dtype: float64"
      ]
     },
     "execution_count": 2,
     "metadata": {},
     "output_type": "execute_result"
    }
   ],
   "source": [
    "import pandas as pd\n",
    "csv = pd.read_csv('vrp_ekz_prog.csv')\n",
    "com = csv['o_housing_makhambet']\n",
    "a=com.shift(1)\n",
    "a[0]=44.18\n",
    "\n",
    "Gcom = com/a*100\n",
    "Gcom\n"
   ]
  },
  {
   "cell_type": "code",
   "execution_count": null,
   "metadata": {},
   "outputs": [],
   "source": []
  },
  {
   "cell_type": "code",
   "execution_count": null,
   "metadata": {},
   "outputs": [],
   "source": []
  }
 ],
 "metadata": {
  "kernelspec": {
   "display_name": "Python 3",
   "language": "python",
   "name": "python3"
  },
  "language_info": {
   "codemirror_mode": {
    "name": "ipython",
    "version": 3
   },
   "file_extension": ".py",
   "mimetype": "text/x-python",
   "name": "python",
   "nbconvert_exporter": "python",
   "pygments_lexer": "ipython3",
   "version": "3.7.6"
  }
 },
 "nbformat": 4,
 "nbformat_minor": 4
}
