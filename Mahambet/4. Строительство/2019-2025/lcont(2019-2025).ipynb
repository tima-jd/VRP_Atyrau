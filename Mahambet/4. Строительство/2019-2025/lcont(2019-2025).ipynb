{
 "cells": [
  {
   "cell_type": "code",
   "execution_count": 5,
   "metadata": {},
   "outputs": [
    {
     "data": {
      "text/plain": [
       "0    101.742870\n",
       "1    101.468298\n",
       "2    101.468976\n",
       "3    101.469317\n",
       "4    101.448041\n",
       "5    101.469353\n",
       "6    101.468763\n",
       "Name: o_housing_makhambet, dtype: float64"
      ]
     },
     "execution_count": 5,
     "metadata": {},
     "output_type": "execute_result"
    }
   ],
   "source": [
    "import pandas as pd\n",
    "csv = pd.read_csv('vrp_ekz_prog.csv')\n",
    "csv_f = pd.read_csv('vrp_ekz_fact.csv')\n",
    "s = pd.read_csv('lmin(2019-2025).csv')\n",
    "\n",
    "com = csv['o_housing_makhambet']\n",
    "lmin_b = s['lmin_b']\n",
    "lmin_o = s['lmin_o']\n",
    "lmin_p = s['lmin_p']\n",
    "\n",
    "a=com.shift(1)\n",
    "a_b = a.loc[csv.o_script.str.match(r'базовый')].reset_index(drop = True)\n",
    "a_o = a.loc[csv.o_script.str.match(r'оптимистичный')].reset_index(drop = True)\n",
    "a_p = a.loc[csv.o_script.str.match(r'пессимистичный')].reset_index(drop = True)\n",
    "a_b[0]= 44.18\n",
    "a_o[0]= 44.18\n",
    "a_p[0]= 44.18\n",
    "a = a_b.append(a_o).append(a_p).reset_index(drop = True) \n",
    "\n",
    "Gcom = com/a*100\n",
    "\n",
    "Gcom_b = Gcom.loc[csv.o_script.str.match(r'базовый')].reset_index(drop = True)\n",
    "Gcom_o = Gcom.loc[csv.o_script.str.match(r'оптимистичный')].reset_index(drop = True)\n",
    "Gcom_p = Gcom.loc[csv.o_script.str.match(r'пессимистичный')].reset_index(drop = True)\n",
    " \n",
    "i=0\n",
    "b=100\n",
    "o=100\n",
    "p=100\n",
    "newdf = pd.DataFrame(columns=['lconS_b','lconS_o','lconS_p'], index=range(12))\n",
    "while i<=len(Gcom_b)-1:\n",
    "    b = (b*((((Gcom_b[i]-100) *  1.0432705063656218) + ((lmin_b[i]-100) * 0.7108405122833369)) + 100)) /100\n",
    "    o = (o*((((Gcom_o[i]-100) *  1.0432705063656218) + ((lmin_o[i]-100) * 0.7108405122833369)) + 100)) /100\n",
    "    p = (p*((((Gcom_p[i]-100) *  1.0432705063656218) + ((lmin_p[i]-100) * 0.7108405122833369)) + 100)) /100\n",
    "    newdf.loc[i].lconS_b = b\n",
    "    newdf.loc[i].lconS_o = o\n",
    "    newdf.loc[i].lconS_p = p \n",
    "    i=i+1\n",
    "lconS_b = newdf['lconS_b']\n",
    "lconS_o = newdf['lconS_o']\n",
    "lconS_p = newdf['lconS_p']\n",
    "Gcom_b"
   ]
  },
  {
   "cell_type": "code",
   "execution_count": 8,
   "metadata": {},
   "outputs": [],
   "source": [
    "lcont_bb = lconS_b.shift(1)\n",
    "lcont_bb[0] = 100\n",
    "lcon_b = lconS_b/lcont_bb*100\n",
    "\n",
    "lcont_oo = lconS_o.shift(1)\n",
    "lcont_oo[0] = 100\n",
    "lcon_o = lconS_o/lcont_oo*100\n",
    "\n",
    "lcont_pp = lconS_p.shift(1)\n",
    "lcont_pp[0] = 100\n",
    "lcon_p = lconS_p/lcont_pp*100\n",
    "\n",
    "new = pd.DataFrame(columns=['lcon_b','lcon_o','lcon_p'])\n",
    "\n",
    "new.lcon_b = lcon_b\n",
    "new.lcon_o = lcon_o\n",
    "new.lcon_p = lcon_p\n",
    "\n",
    "new.to_csv(r'lcon_Makhambet(2019-2025).csv')"
   ]
  },
  {
   "cell_type": "code",
   "execution_count": null,
   "metadata": {},
   "outputs": [],
   "source": []
  }
 ],
 "metadata": {
  "kernelspec": {
   "display_name": "Python 3",
   "language": "python",
   "name": "python3"
  },
  "language_info": {
   "codemirror_mode": {
    "name": "ipython",
    "version": 3
   },
   "file_extension": ".py",
   "mimetype": "text/x-python",
   "name": "python",
   "nbconvert_exporter": "python",
   "pygments_lexer": "ipython3",
   "version": "3.7.6"
  }
 },
 "nbformat": 4,
 "nbformat_minor": 4
}
