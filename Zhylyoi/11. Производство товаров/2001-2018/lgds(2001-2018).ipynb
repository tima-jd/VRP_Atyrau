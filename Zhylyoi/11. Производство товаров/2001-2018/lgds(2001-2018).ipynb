{
 "cells": [
  {
   "cell_type": "code",
   "execution_count": 1,
   "metadata": {},
   "outputs": [
    {
     "data": {
      "text/plain": [
       "0            NaN\n",
       "1     123.952490\n",
       "2     105.330243\n",
       "3      97.064060\n",
       "4     106.986429\n",
       "5     105.815917\n",
       "6     101.276231\n",
       "7     103.557596\n",
       "8     123.098428\n",
       "9     126.438077\n",
       "10    114.446894\n",
       "11     99.638152\n",
       "12     95.376809\n",
       "13    112.490832\n",
       "14     99.938588\n",
       "15    102.177893\n",
       "16    104.319185\n",
       "17    110.158540\n",
       "18    101.312715\n",
       "dtype: float64"
      ]
     },
     "execution_count": 1,
     "metadata": {},
     "output_type": "execute_result"
    }
   ],
   "source": [
    "import pandas as pd\n",
    "csv = pd.read_csv('vrp_ekz_fact.csv')\n",
    "lind_csv = pd.read_csv('lind(2001-2018).csv')\n",
    "\n",
    "Nagr = csv['o_prod_agro_zhylyoi']\n",
    "Ncon = csv['o_prod_building_zhylyoi']\n",
    "\n",
    "Nwtr = csv['o_prod_water_zhylyoi']\n",
    "Nelc = csv['o_prod_energo_zhylyoi']\n",
    "Nman = csv['o_prod_man_zhylyoi']\n",
    "Nmin = csv['o_prod_mining_zhylyoi']\n",
    "\n",
    "lagr = csv['o_ifo_agro_zhylyoi']\n",
    "lcon = csv['o_ifo_building_zhylyoi']\n",
    "\n",
    "lind = lind_csv['0']\n",
    "Nind = Nmin+Nman+Nelc+Nwtr\n",
    "\n",
    "lgds = (lagr*Nagr.shift(1) + lind*Nind.shift(1) + lcon*Ncon.shift(1))/(Nagr.shift(1)+Nind.shift(1)+Ncon.shift(1))\n",
    "\n",
    "lgds"
   ]
  },
  {
   "cell_type": "code",
   "execution_count": null,
   "metadata": {},
   "outputs": [],
   "source": []
  }
 ],
 "metadata": {
  "kernelspec": {
   "display_name": "Python 3",
   "language": "python",
   "name": "python3"
  },
  "language_info": {
   "codemirror_mode": {
    "name": "ipython",
    "version": 3
   },
   "file_extension": ".py",
   "mimetype": "text/x-python",
   "name": "python",
   "nbconvert_exporter": "python",
   "pygments_lexer": "ipython3",
   "version": "3.7.6"
  }
 },
 "nbformat": 4,
 "nbformat_minor": 4
}
