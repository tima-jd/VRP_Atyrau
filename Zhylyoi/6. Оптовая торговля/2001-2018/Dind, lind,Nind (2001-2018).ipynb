{
 "cells": [
  {
   "cell_type": "code",
   "execution_count": 4,
   "metadata": {},
   "outputs": [],
   "source": [
    "import pandas as pd\n",
    "csv = pd.read_csv('vrp_ekz_fact.csv')\n",
    "\n",
    "lwtr = csv['o_ifo_water_zhylyoi']\n",
    "lelc = csv['o_ifo_energo_zhylyoi']\n",
    "lman = csv['o_ifo_man_zhylyoi']\n",
    "lmin = csv['o_ifo_mining_zhylyoi']\n",
    "\n",
    "Nwtr = csv['o_prod_water_zhylyoi']\n",
    "Nelc = csv['o_prod_energo_zhylyoi']\n",
    "Nman = csv['o_prod_man_zhylyoi']\n",
    "Nmin = csv['o_prod_mining_zhylyoi']\n",
    "\n",
    "Nind = Nmin+Nman+Nelc+Nwtr\n",
    "\n",
    "\n",
    "newdf = pd.DataFrame(columns=['lind'], index=range(19))\n",
    "i=7\n",
    "while i<=18:    \n",
    "    lind = (lmin[i]*Nmin[i-1]+lman[i]*Nman[i-1]+lelc[i]*Nelc[i-1]+lwtr[i]*Nwtr[i-1])/Nind[i-1]\n",
    "    Dind_a=(Nind[i]/Nind[i-1]/lind)*10000\n",
    "    \n",
    "    newdf.loc[i].lind = lind\n",
    "    \n",
    "    i= i+1\n",
    "lind = newdf['lind']\n",
    "\n",
    "lind.to_csv (r'lind(2001-2018).csv', index = False)"
   ]
  },
  {
   "cell_type": "code",
   "execution_count": null,
   "metadata": {},
   "outputs": [],
   "source": []
  }
 ],
 "metadata": {
  "kernelspec": {
   "display_name": "Python 3",
   "language": "python",
   "name": "python3"
  },
  "language_info": {
   "codemirror_mode": {
    "name": "ipython",
    "version": 3
   },
   "file_extension": ".py",
   "mimetype": "text/x-python",
   "name": "python",
   "nbconvert_exporter": "python",
   "pygments_lexer": "ipython3",
   "version": "3.7.6"
  }
 },
 "nbformat": 4,
 "nbformat_minor": 4
}
