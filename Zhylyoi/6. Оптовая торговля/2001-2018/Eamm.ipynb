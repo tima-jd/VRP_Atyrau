{
 "cells": [
  {
   "cell_type": "code",
   "execution_count": 10,
   "metadata": {},
   "outputs": [
    {
     "data": {
      "text/plain": [
       "6     45.2254\n",
       "7     47.6928\n",
       "8     58.9932\n",
       "9     75.2008\n",
       "10     86.251\n",
       "11    86.1134\n",
       "12     81.962\n",
       "13    91.8492\n",
       "14    91.2117\n",
       "15    92.3628\n",
       "16    94.8182\n",
       "17    99.7814\n",
       "18        100\n",
       "Name: c1, dtype: object"
      ]
     },
     "execution_count": 10,
     "metadata": {},
     "output_type": "execute_result"
    }
   ],
   "source": [
    "import pandas as pd\n",
    "l = pd.read_csv('lamm(2001-2018).csv')\n",
    "lamm = l['0']\n",
    "\n",
    "c=100\n",
    "\n",
    "i=18\n",
    "newdf = pd.DataFrame(columns=['c1'], index=range(19))\n",
    "while i>0:\n",
    "    \n",
    "    c = c/lamm[i]*100 \n",
    "    i = i-1\n",
    "    newdf.loc[i].c1 = c\n",
    "    \n",
    "lS = newdf['c1']\n",
    "lS[18]=100\n",
    "lammS=lS[6:]\n",
    "lammS"
   ]
  },
  {
   "cell_type": "code",
   "execution_count": 11,
   "metadata": {},
   "outputs": [
    {
     "name": "stderr",
     "output_type": "stream",
     "text": [
      "C:\\Users\\HP\\anaconda3\\lib\\site-packages\\ipykernel_launcher.py:13: RuntimeWarning: divide by zero encountered in double_scalars\n",
      "  del sys.path[0]\n"
     ]
    },
    {
     "data": {
      "text/plain": [
       "6     44.7804\n",
       "7     45.3625\n",
       "8     34.2487\n",
       "9     76.8198\n",
       "10    172.845\n",
       "11    94.0275\n",
       "12    35.1663\n",
       "13    90.2718\n",
       "14    83.0501\n",
       "15    106.719\n",
       "16    72.7826\n",
       "17      132.1\n",
       "18        100\n",
       "Name: c1, dtype: object"
      ]
     },
     "execution_count": 11,
     "metadata": {},
     "output_type": "execute_result"
    }
   ],
   "source": [
    "import pandas as pd\n",
    "csv = pd.read_csv('vrp_ekz_fact.csv')\n",
    "l = pd.read_csv('lamm(2001-2018).csv')\n",
    "lamm = l['0']\n",
    "lwhl = csv['o_ifo_trade_zhylyoi']\n",
    "\n",
    "c=100\n",
    "\n",
    "i=18\n",
    "newdf = pd.DataFrame(columns=['c1'], index=range(19))\n",
    "while i>0:\n",
    "    \n",
    "    c = c/lwhl[i]*100 \n",
    "    i = i-1\n",
    "    newdf.loc[i].c1 = c\n",
    "    \n",
    "S = newdf['c1']\n",
    "S[18]=100\n",
    "lwhlS = S[6:]\n",
    "lwhlS"
   ]
  },
  {
   "cell_type": "code",
   "execution_count": 12,
   "metadata": {},
   "outputs": [
    {
     "data": {
      "text/plain": [
       "1.343430083870489"
      ]
     },
     "execution_count": 12,
     "metadata": {},
     "output_type": "execute_result"
    }
   ],
   "source": [
    "Eamm = ((lammS-lammS.mean())*(lwhlS-lwhlS.mean())).sum()/((lammS-lammS.mean())**2).sum()\n",
    "Eamm"
   ]
  },
  {
   "cell_type": "code",
   "execution_count": null,
   "metadata": {},
   "outputs": [],
   "source": []
  }
 ],
 "metadata": {
  "kernelspec": {
   "display_name": "Python 3",
   "language": "python",
   "name": "python3"
  },
  "language_info": {
   "codemirror_mode": {
    "name": "ipython",
    "version": 3
   },
   "file_extension": ".py",
   "mimetype": "text/x-python",
   "name": "python",
   "nbconvert_exporter": "python",
   "pygments_lexer": "ipython3",
   "version": "3.7.6"
  }
 },
 "nbformat": 4,
 "nbformat_minor": 4
}
