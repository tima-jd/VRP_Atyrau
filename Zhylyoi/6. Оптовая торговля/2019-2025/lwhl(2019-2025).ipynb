{
 "cells": [
  {
   "cell_type": "code",
   "execution_count": 5,
   "metadata": {},
   "outputs": [
    {
     "data": {
      "text/plain": [
       "0     105.697\n",
       "1      110.25\n",
       "2     114.446\n",
       "3     118.439\n",
       "4     141.573\n",
       "5     153.537\n",
       "6     157.887\n",
       "7     109.483\n",
       "8     113.324\n",
       "9     117.329\n",
       "10    123.843\n",
       "11      170.6\n",
       "12    185.224\n",
       "13    192.897\n",
       "14    102.349\n",
       "15    101.202\n",
       "16    103.415\n",
       "17    113.526\n",
       "18    123.019\n",
       "19    125.486\n",
       "20    100.253\n",
       "Name: c1, dtype: object"
      ]
     },
     "execution_count": 5,
     "metadata": {},
     "output_type": "execute_result"
    }
   ],
   "source": [
    "import pandas as pd\n",
    "a = pd.read_csv('lamm(2019-2025).csv')\n",
    "lamm = a['lamm']\n",
    "\n",
    "c=100\n",
    "i=0\n",
    "newdf = pd.DataFrame(columns=['c1'], index=range(21))\n",
    "while i<=20:\n",
    "    c = c * ((lamm[i]-100)*1.343430083870489 + 100)/100\n",
    "    newdf.loc[i].c1 = c\n",
    "    i = i+1\n",
    "lwhlS = newdf['c1']\n",
    "lwhlS"
   ]
  },
  {
   "cell_type": "code",
   "execution_count": 6,
   "metadata": {},
   "outputs": [
    {
     "data": {
      "text/plain": [
       "0     105.697\n",
       "1     104.308\n",
       "2     103.806\n",
       "3     103.489\n",
       "4     119.533\n",
       "5      108.45\n",
       "6     102.833\n",
       "7     69.3425\n",
       "8     103.509\n",
       "9     103.535\n",
       "10    105.551\n",
       "11    137.756\n",
       "12    108.572\n",
       "13    104.143\n",
       "14    53.0586\n",
       "15    98.8799\n",
       "16    102.186\n",
       "17    109.777\n",
       "18    108.362\n",
       "19    102.005\n",
       "20    79.8919\n",
       "Name: c1, dtype: object"
      ]
     },
     "execution_count": 6,
     "metadata": {},
     "output_type": "execute_result"
    }
   ],
   "source": [
    "l = lwhlS.shift(1)\n",
    "l[0]=100\n",
    "\n",
    "lwhl = (lwhlS/l) * 100\n",
    "lwhl"
   ]
  },
  {
   "cell_type": "code",
   "execution_count": 7,
   "metadata": {},
   "outputs": [],
   "source": [
    "lwhl.to_csv(r'lwhl(2019-2025).csv')"
   ]
  },
  {
   "cell_type": "code",
   "execution_count": null,
   "metadata": {},
   "outputs": [],
   "source": []
  }
 ],
 "metadata": {
  "kernelspec": {
   "display_name": "Python 3",
   "language": "python",
   "name": "python3"
  },
  "language_info": {
   "codemirror_mode": {
    "name": "ipython",
    "version": 3
   },
   "file_extension": ".py",
   "mimetype": "text/x-python",
   "name": "python",
   "nbconvert_exporter": "python",
   "pygments_lexer": "ipython3",
   "version": "3.7.6"
  }
 },
 "nbformat": 4,
 "nbformat_minor": 4
}
