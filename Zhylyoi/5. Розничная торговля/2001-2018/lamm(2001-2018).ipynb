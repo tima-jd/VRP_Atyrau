{
 "cells": [
  {
   "cell_type": "code",
   "execution_count": 4,
   "metadata": {},
   "outputs": [
    {
     "data": {
      "text/plain": [
       "0            NaN\n",
       "1     123.745445\n",
       "2     104.537820\n",
       "3      97.585424\n",
       "4     108.306252\n",
       "5     100.043016\n",
       "6      98.929432\n",
       "7     105.455853\n",
       "8     123.694110\n",
       "9     127.473609\n",
       "10    114.694289\n",
       "11     99.840436\n",
       "12     95.179137\n",
       "13    112.063130\n",
       "14     99.306003\n",
       "15    101.261978\n",
       "16    102.658460\n",
       "17    105.234413\n",
       "18    100.219050\n",
       "dtype: float64"
      ]
     },
     "execution_count": 4,
     "metadata": {},
     "output_type": "execute_result"
    }
   ],
   "source": [
    "import pandas as pd\n",
    "csv = pd.read_csv('vrp_ekz_fact.csv')\n",
    "lagr = csv['o_ifo_agro_zhylyoi']\n",
    "Nagr = csv['o_prod_agro_zhylyoi']\n",
    "lmin = csv['o_ifo_mining_zhylyoi']\n",
    "Nmin = csv['o_prod_mining_zhylyoi']\n",
    "lman= csv['o_ifo_man_zhylyoi']\n",
    "Nman = csv['o_prod_man_zhylyoi']\n",
    "\n",
    "lamm= (lagr*Nagr.shift(1)+lmin*Nmin.shift(1)+lman*Nman.shift(1))/(Nagr.shift(1)+Nmin.shift(1)+Nman.shift(1))\n",
    "\n",
    "lamm"
   ]
  },
  {
   "cell_type": "code",
   "execution_count": null,
   "metadata": {},
   "outputs": [],
   "source": []
  },
  {
   "cell_type": "code",
   "execution_count": null,
   "metadata": {},
   "outputs": [],
   "source": []
  }
 ],
 "metadata": {
  "kernelspec": {
   "display_name": "Python 3",
   "language": "python",
   "name": "python3"
  },
  "language_info": {
   "codemirror_mode": {
    "name": "ipython",
    "version": 3
   },
   "file_extension": ".py",
   "mimetype": "text/x-python",
   "name": "python",
   "nbconvert_exporter": "python",
   "pygments_lexer": "ipython3",
   "version": "3.7.6"
  }
 },
 "nbformat": 4,
 "nbformat_minor": 4
}
