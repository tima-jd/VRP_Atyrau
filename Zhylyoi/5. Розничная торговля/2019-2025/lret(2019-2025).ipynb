{
 "cells": [
  {
   "cell_type": "code",
   "execution_count": 6,
   "metadata": {},
   "outputs": [
    {
     "data": {
      "text/plain": [
       "0     104.705\n",
       "1     108.431\n",
       "2      111.84\n",
       "3     115.062\n",
       "4     133.626\n",
       "5     142.953\n",
       "6     146.298\n",
       "7     109.252\n",
       "8     112.418\n",
       "9       115.7\n",
       "10    121.005\n",
       "11    158.741\n",
       "12     169.98\n",
       "13    175.796\n",
       "14    107.636\n",
       "15     106.64\n",
       "16    108.566\n",
       "17    117.334\n",
       "18    125.438\n",
       "19    127.515\n",
       "20    106.337\n",
       "Name: c1, dtype: object"
      ]
     },
     "execution_count": 6,
     "metadata": {},
     "output_type": "execute_result"
    }
   ],
   "source": [
    "import pandas as pd\n",
    "a = pd.read_csv('lamm(2019-2025).csv')\n",
    "lamm = a['lamm']\n",
    "c=100\n",
    "i=0\n",
    "newdf = pd.DataFrame(columns=['c1'], index=range(21))\n",
    "while i<=20:\n",
    "    c = c * ((lamm[i]-100)*1.1096299590091732 + 100)/100\n",
    "    newdf.loc[i].c1 = c\n",
    "    i = i+1\n",
    "    \n",
    "lretS = newdf['c1']\n",
    "lretS"
   ]
  },
  {
   "cell_type": "code",
   "execution_count": 7,
   "metadata": {},
   "outputs": [
    {
     "data": {
      "text/plain": [
       "0     104.705\n",
       "1     103.558\n",
       "2     103.143\n",
       "3     102.881\n",
       "4     116.134\n",
       "5      106.98\n",
       "6      102.34\n",
       "7     74.6779\n",
       "8     102.898\n",
       "9      102.92\n",
       "10    104.585\n",
       "11    131.185\n",
       "12     107.08\n",
       "13    103.422\n",
       "14     61.228\n",
       "15    99.0748\n",
       "16    101.806\n",
       "17    108.076\n",
       "18    106.907\n",
       "19    101.656\n",
       "20    83.3914\n",
       "Name: c1, dtype: object"
      ]
     },
     "execution_count": 7,
     "metadata": {},
     "output_type": "execute_result"
    }
   ],
   "source": [
    "l = lretS.shift(1)\n",
    "l[0]=100\n",
    "\n",
    "lret = (lretS/l) * 100\n",
    "lret"
   ]
  },
  {
   "cell_type": "code",
   "execution_count": 9,
   "metadata": {},
   "outputs": [],
   "source": [
    "lret.to_csv (r'lret(2019-2025).csv', index = False)\n"
   ]
  },
  {
   "cell_type": "code",
   "execution_count": null,
   "metadata": {},
   "outputs": [],
   "source": []
  }
 ],
 "metadata": {
  "kernelspec": {
   "display_name": "Python 3",
   "language": "python",
   "name": "python3"
  },
  "language_info": {
   "codemirror_mode": {
    "name": "ipython",
    "version": 3
   },
   "file_extension": ".py",
   "mimetype": "text/x-python",
   "name": "python",
   "nbconvert_exporter": "python",
   "pygments_lexer": "ipython3",
   "version": "3.7.6"
  }
 },
 "nbformat": 4,
 "nbformat_minor": 4
}
