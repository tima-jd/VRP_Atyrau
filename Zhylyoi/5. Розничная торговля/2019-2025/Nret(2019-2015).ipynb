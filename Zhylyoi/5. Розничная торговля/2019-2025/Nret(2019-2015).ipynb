{
 "cells": [
  {
   "cell_type": "code",
   "execution_count": 1,
   "metadata": {},
   "outputs": [
    {
     "data": {
      "text/plain": [
       "0     106.990986\n",
       "1     106.990986\n",
       "2     106.990986\n",
       "3     105.825822\n",
       "4     105.825822\n",
       "5     105.825822\n",
       "6     105.825822\n",
       "7     106.990986\n",
       "8     106.548223\n",
       "9     106.548223\n",
       "10    105.383059\n",
       "11    105.383059\n",
       "12    105.383059\n",
       "13    105.383059\n",
       "14    108.785339\n",
       "15    108.785339\n",
       "16    107.620175\n",
       "17    107.620175\n",
       "18    107.620175\n",
       "19    107.620175\n",
       "20    106.990986\n",
       "Name: o_inflation, dtype: float64"
      ]
     },
     "execution_count": 1,
     "metadata": {},
     "output_type": "execute_result"
    }
   ],
   "source": [
    "import pandas as pd\n",
    "csv = pd.read_csv('vrp_ekz_prog.csv')\n",
    "inf = csv['o_inflation']\n",
    "Dret = inf * 1.165164308 + 100\n",
    "Dret"
   ]
  },
  {
   "cell_type": "code",
   "execution_count": 2,
   "metadata": {},
   "outputs": [
    {
     "data": {
      "text/plain": [
       "0     104.686\n",
       "1      108.42\n",
       "2     111.849\n",
       "3     115.106\n",
       "4     133.367\n",
       "5     142.607\n",
       "6     146.042\n",
       "7     109.181\n",
       "8      112.37\n",
       "9     115.689\n",
       "10    120.985\n",
       "11    157.825\n",
       "12    168.899\n",
       "13    174.754\n",
       "14     107.87\n",
       "15    106.991\n",
       "16    109.061\n",
       "17    117.649\n",
       "18    125.626\n",
       "19    127.997\n",
       "20    106.274\n",
       "Name: c1, dtype: object"
      ]
     },
     "execution_count": 2,
     "metadata": {},
     "output_type": "execute_result"
    }
   ],
   "source": [
    "import pandas as pd\n",
    "a = pd.read_csv('lamm(2019-2025).csv')\n",
    "lamm = a['lamm']\n",
    "c=100\n",
    "i=0\n",
    "newdf = pd.DataFrame(columns=['c1'], index=range(21))\n",
    "while i<=20:\n",
    "    c = c * ((lamm[i]-100)*1.1096299590091732 + 100)/100\n",
    "    newdf.loc[i].c1 = c\n",
    "    i = i+1\n",
    "    \n",
    "lretS = newdf['c1']\n",
    "lretS"
   ]
  },
  {
   "cell_type": "code",
   "execution_count": 3,
   "metadata": {},
   "outputs": [
    {
     "data": {
      "text/plain": [
       "0     104.686\n",
       "1     103.567\n",
       "2     103.162\n",
       "3     102.912\n",
       "4     115.865\n",
       "5     106.928\n",
       "6     102.409\n",
       "7     74.7596\n",
       "8     102.921\n",
       "9     102.954\n",
       "10    104.577\n",
       "11     130.45\n",
       "12    107.017\n",
       "13    103.467\n",
       "14    61.7268\n",
       "15    99.1852\n",
       "16    101.934\n",
       "17    107.874\n",
       "18    106.781\n",
       "19    101.888\n",
       "20    83.0285\n",
       "Name: c1, dtype: object"
      ]
     },
     "execution_count": 3,
     "metadata": {},
     "output_type": "execute_result"
    }
   ],
   "source": [
    "l = lretS.shift(1)\n",
    "l[0]=100\n",
    "\n",
    "lret = (lretS/l) * 100\n",
    "lret"
   ]
  },
  {
   "cell_type": "code",
   "execution_count": 4,
   "metadata": {},
   "outputs": [
    {
     "data": {
      "text/plain": [
       "0       23872\n",
       "1       26452\n",
       "2     29196.3\n",
       "3       31797\n",
       "4     38987.9\n",
       "5     44117.6\n",
       "6     47812.6\n",
       "7     38243.4\n",
       "8     41937.8\n",
       "9     46004.1\n",
       "10    50699.6\n",
       "11    69697.9\n",
       "12    78603.5\n",
       "13    85706.6\n",
       "14    57551.7\n",
       "15    62097.7\n",
       "16    68122.3\n",
       "17    79086.2\n",
       "18    90884.1\n",
       "19    99655.8\n",
       "20    88527.3\n",
       "Name: c1, dtype: object"
      ]
     },
     "execution_count": 4,
     "metadata": {},
     "output_type": "execute_result"
    }
   ],
   "source": [
    "c = 21313.5\n",
    "i=0\n",
    "newdf = pd.DataFrame(columns=['c1'], index=range(21))\n",
    "\n",
    "while i<=20:\n",
    "    c = (c*lret[i]*Dret[i]) /10000\n",
    "    newdf.loc[i].c1 = c\n",
    "    i = i+1\n",
    "    \n",
    "Nret = newdf['c1']\n",
    "Nret"
   ]
  },
  {
   "cell_type": "code",
   "execution_count": 8,
   "metadata": {},
   "outputs": [],
   "source": [
    "Nret.to_csv(r'Nret_Zhylyoi(2019-2025).csv')"
   ]
  },
  {
   "cell_type": "code",
   "execution_count": null,
   "metadata": {},
   "outputs": [],
   "source": []
  }
 ],
 "metadata": {
  "kernelspec": {
   "display_name": "Python 3",
   "language": "python",
   "name": "python3"
  },
  "language_info": {
   "codemirror_mode": {
    "name": "ipython",
    "version": 3
   },
   "file_extension": ".py",
   "mimetype": "text/x-python",
   "name": "python",
   "nbconvert_exporter": "python",
   "pygments_lexer": "ipython3",
   "version": "3.7.6"
  }
 },
 "nbformat": 4,
 "nbformat_minor": 4
}
