{
 "cells": [
  {
   "cell_type": "code",
   "execution_count": 17,
   "metadata": {},
   "outputs": [
    {
     "data": {
      "text/plain": [
       "0    100.243\n",
       "1     104.96\n",
       "2    108.712\n",
       "3    112.198\n",
       "4    115.423\n",
       "5    118.409\n",
       "6    121.157\n",
       "Name: c1, dtype: object"
      ]
     },
     "execution_count": 17,
     "metadata": {},
     "output_type": "execute_result"
    }
   ],
   "source": [
    "import pandas as pd\n",
    "a = pd.read_csv('lamm(2019-2025).csv')\n",
    "lamm = a['lamm']\n",
    "\n",
    "c=100\n",
    "i=0\n",
    "newdf = pd.DataFrame(columns=['c1'], index=range(7))\n",
    "while i<=6:\n",
    "    c = c * ((lamm[i]-100)*1.1096299590091732 + 100)/100\n",
    "    newdf.loc[i].c1 = c\n",
    "    i = i+1\n",
    "    \n",
    "lretS = newdf['c1']\n",
    "lretS"
   ]
  },
  {
   "cell_type": "code",
   "execution_count": null,
   "metadata": {},
   "outputs": [],
   "source": []
  }
 ],
 "metadata": {
  "kernelspec": {
   "display_name": "Python 3",
   "language": "python",
   "name": "python3"
  },
  "language_info": {
   "codemirror_mode": {
    "name": "ipython",
    "version": 3
   },
   "file_extension": ".py",
   "mimetype": "text/x-python",
   "name": "python",
   "nbconvert_exporter": "python",
   "pygments_lexer": "ipython3",
   "version": "3.7.6"
  }
 },
 "nbformat": 4,
 "nbformat_minor": 4
}
