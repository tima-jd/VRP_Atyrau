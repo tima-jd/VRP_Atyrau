{
 "cells": [
  {
   "cell_type": "code",
   "execution_count": 7,
   "metadata": {},
   "outputs": [
    {
     "data": {
      "text/plain": [
       "(0            NaN\n",
       " 1      71.786808\n",
       " 2     179.458648\n",
       " 3     123.370858\n",
       " 4     117.223040\n",
       " 5     117.644152\n",
       " 6     110.322798\n",
       " 7     113.643705\n",
       " 8     130.411403\n",
       " 9      93.050824\n",
       " 10    119.789930\n",
       " 11    118.705483\n",
       " 12    107.205407\n",
       " 13     93.279570\n",
       " 14    112.541678\n",
       " 15     85.571229\n",
       " 16    139.742242\n",
       " 17     92.044701\n",
       " 18    103.158275\n",
       " dtype: float64,\n",
       " 0            NaN\n",
       " 1      87.947420\n",
       " 2     112.942060\n",
       " 3     114.536524\n",
       " 4     121.718979\n",
       " 5     136.676047\n",
       " 6     114.062995\n",
       " 7     110.679898\n",
       " 8     128.580617\n",
       " 9      79.405464\n",
       " 10    127.344010\n",
       " 11    140.098320\n",
       " 12    101.083507\n",
       " 13     99.395486\n",
       " 14    106.686202\n",
       " 15     67.192596\n",
       " 16    125.439397\n",
       " 17    116.671995\n",
       " 18    133.832153\n",
       " Name: 0, dtype: float64)"
      ]
     },
     "execution_count": 7,
     "metadata": {},
     "output_type": "execute_result"
    }
   ],
   "source": [
    "from scipy.stats.mstats import gmean\n",
    "import pandas as pd\n",
    "csv = pd.read_csv('vrp_ekz_fact.csv')\n",
    "D = pd.read_csv('Dmin(2001-2018).csv')\n",
    " \n",
    "Dmin = D['0']     \n",
    "lman= csv['o_ifo_man_zhylyoi']\n",
    "Nman = csv['o_prod_man_zhylyoi']\n",
    "\n",
    "Dman = Nman/Nman.shift(1)/lman * 10000\n",
    "\n",
    "Dman,Dmin"
   ]
  },
  {
   "cell_type": "code",
   "execution_count": 8,
   "metadata": {},
   "outputs": [
    {
     "data": {
      "text/plain": [
       "0.9992654068949879"
      ]
     },
     "execution_count": 8,
     "metadata": {},
     "output_type": "execute_result"
    }
   ],
   "source": [
    "Eminman= (gmean(Dman[1:]))/(gmean(Dmin[1:]))\n",
    "Eminman"
   ]
  },
  {
   "cell_type": "code",
   "execution_count": null,
   "metadata": {},
   "outputs": [],
   "source": []
  }
 ],
 "metadata": {
  "kernelspec": {
   "display_name": "Python 3",
   "language": "python",
   "name": "python3"
  },
  "language_info": {
   "codemirror_mode": {
    "name": "ipython",
    "version": 3
   },
   "file_extension": ".py",
   "mimetype": "text/x-python",
   "name": "python",
   "nbconvert_exporter": "python",
   "pygments_lexer": "ipython3",
   "version": "3.7.6"
  }
 },
 "nbformat": 4,
 "nbformat_minor": 4
}
