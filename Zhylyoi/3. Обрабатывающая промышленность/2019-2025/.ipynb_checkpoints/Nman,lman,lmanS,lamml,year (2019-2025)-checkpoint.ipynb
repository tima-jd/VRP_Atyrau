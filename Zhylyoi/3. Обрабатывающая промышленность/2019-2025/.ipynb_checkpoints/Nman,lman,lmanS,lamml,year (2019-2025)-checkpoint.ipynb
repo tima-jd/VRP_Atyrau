{
 "cells": [
  {
   "cell_type": "code",
   "execution_count": 48,
   "metadata": {},
   "outputs": [
    {
     "data": {
      "text/plain": [
       "104.25751663681082"
      ]
     },
     "execution_count": 48,
     "metadata": {},
     "output_type": "execute_result"
    }
   ],
   "source": [
    "import pandas as pd\n",
    "csv = pd.read_csv('vrp_ekz_fact.csv')\n",
    "c = pd.read_csv('vrp_ekz_prog.csv')\n",
    "\n",
    "q = pd.read_csv('lagrt(2019-2025).csv')\n",
    "w = pd.read_csv('lmint(2019-2025).csv')\n",
    "d = pd.read_csv('Dmin(2019-2025).csv')\n",
    "e = pd.read_csv('Nagr(2019-2025).csv')\n",
    "r = pd.read_csv('Nmin(2019-2025).csv')\n",
    "\n",
    "Nmin_p = r['c1']\n",
    "Nagr_p = e['c1']\n",
    "\n",
    "Dmin = d['0']\n",
    "\n",
    "lagr = q['c1']\n",
    "lmin = w['c1']\n",
    "\n",
    "Nagr = csv['o_prod_agro_zhylyoi']\n",
    "Nmin = csv['o_prod_mining_zhylyoi']\n",
    "lman= csv['o_ifo_man_zhylyoi']\n",
    "Nman = csv['o_prod_man_zhylyoi']\n",
    "\n",
    "year = c['o_year']\n",
    "\n",
    "lamml_2019 = (lagr[0]*Nagr[18]+lmin[0]*Nmin[18]+lman[18]*Nman[17])/(Nagr[18]+Nmin[18]+Nman[17])\n",
    "\n",
    "lmanS_2019 = 100*((lamml_2019 - 100) * 0.8964035297804896 + 100)/100\n",
    "\n",
    "lman_2019 = lmanS_2019/100 * 100\n",
    "\n",
    "lmin[0]"
   ]
  },
  {
   "cell_type": "code",
   "execution_count": 47,
   "metadata": {},
   "outputs": [
    {
     "data": {
      "text/plain": [
       "323513.49308998755"
      ]
     },
     "execution_count": 47,
     "metadata": {},
     "output_type": "execute_result"
    }
   ],
   "source": [
    "Nman_2019=(Nman[18]*lman_2019*Dmin[0])/10000\n",
    "Nman_2019"
   ]
  },
  {
   "cell_type": "code",
   "execution_count": 39,
   "metadata": {},
   "outputs": [
    {
     "data": {
      "text/plain": [
       "103.57905443549427"
      ]
     },
     "execution_count": 39,
     "metadata": {},
     "output_type": "execute_result"
    }
   ],
   "source": [
    "lamml_2020 = (lagr[1]*Nagr_p[0]+lmin[1]*Nmin_p[0]+lman_2019*Nman[18])/(Nagr_p[0]+Nmin_p[0]+ Nman[18])\n",
    "\n",
    "lmanS_2020 = lmanS_2019 *((lamml_2020 - 100) * 0.8964035297804896 + 100)/100\n",
    "\n",
    "lman_2020 = lmanS_2020/lmanS_2019 * 100\n",
    "lmanS_2019"
   ]
  },
  {
   "cell_type": "code",
   "execution_count": 24,
   "metadata": {},
   "outputs": [
    {
     "data": {
      "text/plain": [
       "347563.4630824"
      ]
     },
     "execution_count": 24,
     "metadata": {},
     "output_type": "execute_result"
    }
   ],
   "source": [
    "Nman_2020=(Nman_2019*lman_2020*Dmin[1])/10000\n",
    "Nman_2020"
   ]
  },
  {
   "cell_type": "code",
   "execution_count": 32,
   "metadata": {},
   "outputs": [],
   "source": [
    "i=0\n",
    "Nman_2019 = 323558.56018356624;\n",
    "lman_2020 = 103.20749017188413;\n",
    "\n",
    "lamml_2020 = 103.5781766417961;\n",
    "\n",
    "\n",
    "lmanS_2020 = 106.90134242664325;\n",
    "lmanS_2021 = 106.90134242664325;\n",
    "\n",
    "newdf = pd.DataFrame(columns=['Nman','lman','lmanS', 'lamml','year'], index=range(9))\n",
    "\n",
    "while i<=6:\n",
    "    lamml_2020 = (lagr[i+2]*Nagr_p[i+1]+lmin[i+2]*Nmin_p[i+1]+lman_2020*Nman_2019)/(Nagr_p[i+1]+Nmin_p[i+1]+Nman_2019)\n",
    "    \n",
    "    lmanS_2021 = lmanS_2020*((lamml_2020 - 100) * 0.8964035297804896 + 100)/100        \n",
    "    \n",
    "    Nman_2019 = Nman_2019*lman_2020*Dmin[i+1]/10000    \n",
    "    lman_2020 = lmanS_2021/lmanS_2020 * 100\n",
    "    lmanS_2020=lmanS_2021\n",
    "    \n",
    "    newdf.loc[i+1].Nman = Nman_2019\n",
    "    newdf.loc[i+2].lman = lman_2020\n",
    "    newdf.loc[i+2].lmanS = lmanS_2021\n",
    "    newdf.loc[i+2].lamml = lamml_2020  \n",
    "    \n",
    "    newdf.loc[i].year = year[i]\n",
    "\n",
    "    i=i+1\n",
    "\n",
    "Nma = newdf['Nman']\n",
    "Nma[0] = 323513.49308998755\n",
    "Nman = Nma\n",
    "\n",
    "lma = newdf['lman']\n",
    "lma[0] = 103.57905443549427\n",
    "lma[1] = 103.20749017188413\n",
    "lman = lma\n",
    "\n",
    "lmaS = newdf['lmanS']\n",
    "lmaS[0] = 103.57905443549427\n",
    "lmaS[1] = 106.90134242664325\n",
    "lmanS = lmaS\n",
    "\n",
    "lamm = newdf['lamml']\n",
    "lamm[0] = 103.99268222021695\n",
    "lamm[1] = 103.5781766417961\n",
    "lamml = lamm\n",
    "\n",
    "ob_prog = newdf[:7]\n",
    "\n",
    "ob_prog.to_csv (r'lman, Nman(2019-2025).csv', index = False)\n"
   ]
  },
  {
   "cell_type": "code",
   "execution_count": null,
   "metadata": {},
   "outputs": [],
   "source": []
  },
  {
   "cell_type": "code",
   "execution_count": null,
   "metadata": {},
   "outputs": [],
   "source": []
  }
 ],
 "metadata": {
  "kernelspec": {
   "display_name": "Python 3",
   "language": "python",
   "name": "python3"
  },
  "language_info": {
   "codemirror_mode": {
    "name": "ipython",
    "version": 3
   },
   "file_extension": ".py",
   "mimetype": "text/x-python",
   "name": "python",
   "nbconvert_exporter": "python",
   "pygments_lexer": "ipython3",
   "version": "3.7.6"
  }
 },
 "nbformat": 4,
 "nbformat_minor": 4
}
