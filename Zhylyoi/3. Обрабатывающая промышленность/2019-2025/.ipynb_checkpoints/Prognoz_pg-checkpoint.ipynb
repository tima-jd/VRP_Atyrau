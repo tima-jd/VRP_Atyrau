{
 "cells": [
  {
   "cell_type": "code",
   "execution_count": 41,
   "metadata": {},
   "outputs": [
    {
     "data": {
      "text/plain": [
       "103.59440338940125"
      ]
     },
     "execution_count": 41,
     "metadata": {},
     "output_type": "execute_result"
    }
   ],
   "source": [
    "import pandas as pd\n",
    "csv = pd.read_csv('vrp_ekz_fact.csv')\n",
    "c = pd.read_csv('vrp_ekz_prog.csv')\n",
    "\n",
    "q = pd.read_csv('lagrt(2019-2025).csv')\n",
    "w = pd.read_csv('lminS(2019-2025).csv')\n",
    "d = pd.read_csv('Dmin(2019-2025).csv')\n",
    "e = pd.read_csv('Nagr(2019-2025).csv')\n",
    "r = pd.read_csv('Nmin(2019-2025).csv')\n",
    "\n",
    "Nmin_p = r['c1']\n",
    "Nagr_p = e['c1']\n",
    "\n",
    "Dmin = d['0']\n",
    "\n",
    "lagr = q['c1']\n",
    "lmin = w['c1']\n",
    "\n",
    "Nagr = csv['o_prod_agro_zhylyoi']\n",
    "Nmin = csv['o_prod_mining_zhylyoi']\n",
    "lman= csv['o_ifo_man_zhylyoi']\n",
    "Nman = csv['o_prod_man_zhylyoi']\n",
    "\n",
    "lamml_2019 = (lagr[0]*Nagr[18]+lmin[0]*Nmin[18]+lman[18]*Nman[17])/(Nagr[18]+Nmin[18]+Nman[17])\n",
    "\n",
    "lmanS_2019 = 100*((lamml_2019 - 100) * 0.8964035297804896 + 100)/100\n",
    "\n",
    "lman_2019 = lmanS_2019/100 * 100\n",
    "lman_2019"
   ]
  },
  {
   "cell_type": "code",
   "execution_count": 42,
   "metadata": {},
   "outputs": [
    {
     "data": {
      "text/plain": [
       "323558.56018356624"
      ]
     },
     "execution_count": 42,
     "metadata": {},
     "output_type": "execute_result"
    }
   ],
   "source": [
    "Nman_2019=(Nman[18]*lman_2019*Dmin[0])/10000\n",
    "Nman_2019"
   ]
  },
  {
   "cell_type": "code",
   "execution_count": 58,
   "metadata": {},
   "outputs": [
    {
     "data": {
      "text/plain": [
       "110.023502994288"
      ]
     },
     "execution_count": 58,
     "metadata": {},
     "output_type": "execute_result"
    }
   ],
   "source": [
    "lamml_2020 = (lagr[1]*Nagr_p[0]+lmin[1]*Nmin_p[0]+lman_2019*Nman[18])/(Nagr_p[0]+Nmin_p[0]+ Nman[18])\n",
    "\n",
    "lmanS_2020 = lmanS_2019*((lamml_2020 - 100) * 0.8964035297804896 + 100)/100\n",
    "\n",
    "lman_2020 = lmanS_2020/lmanS_2019 * 100\n",
    "lmanS_2021"
   ]
  },
  {
   "cell_type": "code",
   "execution_count": 57,
   "metadata": {},
   "outputs": [
    {
     "data": {
      "text/plain": [
       "102.89039321194575"
      ]
     },
     "execution_count": 57,
     "metadata": {},
     "output_type": "execute_result"
    }
   ],
   "source": [
    "\n",
    "lamml_2021 = (lagr[2]*Nagr_p[1]+lmin[2]*Nmin_p[1]+lman_2020*Nman_2019)/(Nagr_p[1]+Nmin_p[1]+Nman_2019)\n",
    "    \n",
    "lmanS_2021 = lmanS_2020*((lamml_2021 - 100) * 0.8964035297804896 + 100)/100\n",
    "lman_2021 = lmanS_2021/lmanS_2020 * 100\n",
    "lman_2021"
   ]
  },
  {
   "cell_type": "code",
   "execution_count": 45,
   "metadata": {},
   "outputs": [
    {
     "data": {
      "text/plain": [
       "347671.0466736513"
      ]
     },
     "execution_count": 45,
     "metadata": {},
     "output_type": "execute_result"
    }
   ],
   "source": [
    "Nman_2020= Nman_2019*lman_2020*Dmin[1]/10000\n",
    "Nman_2020"
   ]
  },
  {
   "cell_type": "code",
   "execution_count": 46,
   "metadata": {},
   "outputs": [
    {
     "data": {
      "text/plain": [
       "102.59386283695943"
      ]
     },
     "execution_count": 46,
     "metadata": {},
     "output_type": "execute_result"
    }
   ],
   "source": [
    "lamml_2022 = (lagr[3]*Nagr_p[2]+lmin[3]*Nmin_p[2]+lman_2021*Nman_2020)/(Nagr_p[2]+Nmin_p[2]+Nman_2020)\n",
    "    \n",
    "lmanS_2022 = lmanS_2021*((lamml_2022 - 100) * 0.8964035297804896 + 100)/100\n",
    "lman_2022 = lmanS_2022/lmanS_2021 * 100\n",
    "lman_2022"
   ]
  },
  {
   "cell_type": "code",
   "execution_count": 47,
   "metadata": {},
   "outputs": [
    {
     "data": {
      "text/plain": [
       "357720.1070066073"
      ]
     },
     "execution_count": 47,
     "metadata": {},
     "output_type": "execute_result"
    }
   ],
   "source": [
    "Nman_2021= Nman_2020*lman_2021*Dmin[2]/10000\n",
    "Nman_2021"
   ]
  },
  {
   "cell_type": "code",
   "execution_count": 48,
   "metadata": {},
   "outputs": [
    {
     "data": {
      "text/plain": [
       "102.33387567229558"
      ]
     },
     "execution_count": 48,
     "metadata": {},
     "output_type": "execute_result"
    }
   ],
   "source": [
    "lamml_2023 = (lagr[4]*Nagr_p[3]+lmin[4]*Nmin_p[3]+lman_2022*Nman_2021)/(Nagr_p[3]+Nmin_p[3]+Nman_2021)\n",
    "    \n",
    "lmanS_2023 = lmanS_2022*((lamml_2023 - 100) * 0.8964035297804896 + 100)/100\n",
    "lman_2023 = lmanS_2023/lmanS_2022 * 100\n",
    "lman_2023"
   ]
  },
  {
   "cell_type": "code",
   "execution_count": 49,
   "metadata": {},
   "outputs": [
    {
     "data": {
      "text/plain": [
       "366998.8759225832"
      ]
     },
     "execution_count": 49,
     "metadata": {},
     "output_type": "execute_result"
    }
   ],
   "source": [
    "Nman_2022= Nman_2021*lman_2022*Dmin[3]/10000\n",
    "Nman_2022"
   ]
  },
  {
   "cell_type": "code",
   "execution_count": 50,
   "metadata": {},
   "outputs": [
    {
     "data": {
      "text/plain": [
       "102.10525994566213"
      ]
     },
     "execution_count": 50,
     "metadata": {},
     "output_type": "execute_result"
    }
   ],
   "source": [
    "lamml_2024 = (lagr[5]*Nagr_p[4]+lmin[5]*Nmin_p[4]+lman_2023*Nman_2022)/(Nagr_p[4]+Nmin_p[4]+Nman_2022)\n",
    "    \n",
    "lmanS_2024 = lmanS_2023*((lamml_2024 - 100) * 0.8964035297804896 + 100)/100\n",
    "lman_2024 = lmanS_2024/lmanS_2023 * 100\n",
    "lman_2024"
   ]
  },
  {
   "cell_type": "code",
   "execution_count": 51,
   "metadata": {},
   "outputs": [
    {
     "data": {
      "text/plain": [
       "375564.1734053386"
      ]
     },
     "execution_count": 51,
     "metadata": {},
     "output_type": "execute_result"
    }
   ],
   "source": [
    "Nman_2023= Nman_2022*lman_2023*Dmin[4]/10000\n",
    "Nman_2023"
   ]
  },
  {
   "cell_type": "code",
   "execution_count": 52,
   "metadata": {},
   "outputs": [
    {
     "data": {
      "text/plain": [
       "101.90240451061005"
      ]
     },
     "execution_count": 52,
     "metadata": {},
     "output_type": "execute_result"
    }
   ],
   "source": [
    "lamml_2025 = (lagr[6]*Nagr_p[5]+lmin[6]*Nmin_p[5]+lman_2024*Nman_2023)/(Nagr_p[5]+Nmin_p[5]+Nman_2023)\n",
    "    \n",
    "lmanS_2025 = lmanS_2024*((lamml_2025 - 100) * 0.8964035297804896 + 100)/100\n",
    "lman_2025 = lmanS_2025/lmanS_2024 * 100\n",
    "lman_2025"
   ]
  },
  {
   "cell_type": "code",
   "execution_count": null,
   "metadata": {},
   "outputs": [],
   "source": []
  },
  {
   "cell_type": "code",
   "execution_count": null,
   "metadata": {},
   "outputs": [],
   "source": []
  },
  {
   "cell_type": "code",
   "execution_count": null,
   "metadata": {},
   "outputs": [],
   "source": []
  },
  {
   "cell_type": "code",
   "execution_count": null,
   "metadata": {},
   "outputs": [],
   "source": []
  }
 ],
 "metadata": {
  "kernelspec": {
   "display_name": "Python 3",
   "language": "python",
   "name": "python3"
  },
  "language_info": {
   "codemirror_mode": {
    "name": "ipython",
    "version": 3
   },
   "file_extension": ".py",
   "mimetype": "text/x-python",
   "name": "python",
   "nbconvert_exporter": "python",
   "pygments_lexer": "ipython3",
   "version": "3.7.6"
  }
 },
 "nbformat": 4,
 "nbformat_minor": 4
}
