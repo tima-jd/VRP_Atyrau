{
 "cells": [
  {
   "cell_type": "code",
   "execution_count": null,
   "metadata": {},
   "outputs": [],
   "source": [
    "i=0\n",
    "Nman_2019 = 323561.4332234521;\n",
    "\n",
    "lman_2019 = 103.59440338940125;\n",
    "lamml_2019 = 104.00980503756098;\n",
    "lmanS_2019 = 103.59440338940125;\n",
    "\n",
    "while i<7:\n",
    "    lamml_2019 = (lagr[i+1]*Nagr_p[i]+lmin[i+1]*Nmin_p[i]+lman_2019*Nman_2019)/(Nagr_p[i]+Nmin_p[i]+Nman_2019)\n",
    "    \n",
    "    lmanS_2019 = 100*((lamml_2019 - 100) * 0.8964035297804896 + 100)/100\n",
    "    lman_2019 = lmanS_2019/100 * 100\n",
    "    \n",
    "    Nman_2019=Nman_2019*lman_2019*Dmin[i]/10000\n",
    "    print(Nman_2019)\n",
    "    i=i+1"
   ]
  }
 ],
 "metadata": {
  "kernelspec": {
   "display_name": "Python 3",
   "language": "python",
   "name": "python3"
  },
  "language_info": {
   "codemirror_mode": {
    "name": "ipython",
    "version": 3
   },
   "file_extension": ".py",
   "mimetype": "text/x-python",
   "name": "python",
   "nbconvert_exporter": "python",
   "pygments_lexer": "ipython3",
   "version": "3.7.6"
  }
 },
 "nbformat": 4,
 "nbformat_minor": 4
}
