{
 "cells": [
  {
   "cell_type": "code",
   "execution_count": 2,
   "metadata": {},
   "outputs": [
    {
     "data": {
      "text/plain": [
       "0            NaN\n",
       "1     108.334870\n",
       "2     258.617222\n",
       "3     768.573560\n",
       "4       4.365828\n",
       "5     105.050770\n",
       "6     392.105839\n",
       "7     288.912965\n",
       "8      88.467086\n",
       "9      73.472308\n",
       "10     26.948964\n",
       "11    138.730707\n",
       "12    121.423232\n",
       "13     46.911422\n",
       "14     83.977690\n",
       "15     93.670547\n",
       "16    114.122987\n",
       "17     97.364060\n",
       "18    102.626430\n",
       "dtype: float64"
      ]
     },
     "execution_count": 2,
     "metadata": {},
     "output_type": "execute_result"
    }
   ],
   "source": [
    "import pandas as pd\n",
    "csv = pd.read_csv('vrp_ekz_fact.csv')\n",
    "\n",
    "lelc = csv['o_ifo_energo_zhylyoi']\n",
    "Nelc = csv['o_prod_energo_zhylyoi']\n",
    "\n",
    "Delc = Nelc/Nelc.shift(1)/lelc *10000\n",
    "Delc"
   ]
  },
  {
   "cell_type": "code",
   "execution_count": null,
   "metadata": {},
   "outputs": [],
   "source": [
    "    "
   ]
  }
 ],
 "metadata": {
  "kernelspec": {
   "display_name": "Python 3",
   "language": "python",
   "name": "python3"
  },
  "language_info": {
   "codemirror_mode": {
    "name": "ipython",
    "version": 3
   },
   "file_extension": ".py",
   "mimetype": "text/x-python",
   "name": "python",
   "nbconvert_exporter": "python",
   "pygments_lexer": "ipython3",
   "version": "3.7.6"
  }
 },
 "nbformat": 4,
 "nbformat_minor": 4
}
