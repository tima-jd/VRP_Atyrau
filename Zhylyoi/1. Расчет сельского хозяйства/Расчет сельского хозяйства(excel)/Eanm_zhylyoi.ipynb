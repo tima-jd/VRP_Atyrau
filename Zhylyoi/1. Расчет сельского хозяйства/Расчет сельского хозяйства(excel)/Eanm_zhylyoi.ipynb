{
 "cells": [
  {
   "cell_type": "code",
   "execution_count": 1,
   "metadata": {},
   "outputs": [
    {
     "data": {
      "text/plain": [
       "-0.009612557560239916"
      ]
     },
     "execution_count": 1,
     "metadata": {},
     "output_type": "execute_result"
    }
   ],
   "source": [
    "import pandas as pd\n",
    "import numpy as np\n",
    "xlsx = pd.read_csv('vrp_ekz_fact.csv')\n",
    "d = xlsx['o_ifo_agro_zhylyoi']\n",
    "GanmT = 100/(((xlsx['o_cattle_zhylyoi'] * xlsx['o_weight_cattle']).iloc[18] + (xlsx['o_goats_zhylyoi'] * xlsx['o_weight_goats']).iloc[18] + (xlsx['o_horses_zhylyoi']* xlsx['o_weight_horses']).iloc[18] + (xlsx['o_poultry_zhylyoi'] * xlsx['o_weight_poultry']).iloc[18])/((xlsx['o_cattle_zhylyoi'] * xlsx['o_weight_cattle']) + (xlsx['o_goats_zhylyoi'] * xlsx['o_weight_goats']) + (xlsx['o_horses_zhylyoi']* xlsx['o_weight_horses']) + (xlsx['o_poultry_zhylyoi'] * xlsx['o_weight_poultry'])))\n",
    "\n",
    "i=18\n",
    "c=100\n",
    "l=100\n",
    "newdf = pd.DataFrame(columns=['c1','c2'], index=range(19))\n",
    "while i>0:\n",
    "    c = (c/d[i]) * 100\n",
    "    l=l/GanmT[i]*100\n",
    "    i=i-1\n",
    "    newdf.loc[i].c1 = c\n",
    "    newdf.loc[i].c2 = l\n",
    "\n",
    "LagrS=newdf['c1']\n",
    "LagrS[18]=100\n",
    "GanmS=newdf['c2']\n",
    "GanmS[18]=100\n",
    "\n",
    "Eanm_zhylyoi = ((GanmS - GanmS.mean()) * (LagrS - LagrS.mean())).sum() / ((GanmS - GanmS.mean())**2).sum()\n",
    "\n",
    "Eanm_zhylyoi"
   ]
  },
  {
   "cell_type": "code",
   "execution_count": null,
   "metadata": {},
   "outputs": [],
   "source": []
  }
 ],
 "metadata": {
  "kernelspec": {
   "display_name": "Python 3",
   "language": "python",
   "name": "python3"
  },
  "language_info": {
   "codemirror_mode": {
    "name": "ipython",
    "version": 3
   },
   "file_extension": ".py",
   "mimetype": "text/x-python",
   "name": "python",
   "nbconvert_exporter": "python",
   "pygments_lexer": "ipython3",
   "version": "3.7.6"
  }
 },
 "nbformat": 4,
 "nbformat_minor": 4
}
