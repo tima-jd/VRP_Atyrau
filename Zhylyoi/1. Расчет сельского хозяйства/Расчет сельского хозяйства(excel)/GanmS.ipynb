{
 "cells": [
  {
   "cell_type": "code",
   "execution_count": 2,
   "metadata": {},
   "outputs": [
    {
     "data": {
      "text/plain": [
       "0     3153.64\n",
       "1     1570.23\n",
       "2     860.185\n",
       "3     508.792\n",
       "4       352.7\n",
       "5     264.061\n",
       "6     206.333\n",
       "7     174.581\n",
       "8     158.153\n",
       "9     154.341\n",
       "10    157.062\n",
       "11    163.429\n",
       "12    147.324\n",
       "13    131.398\n",
       "14    120.389\n",
       "15    108.927\n",
       "16    104.407\n",
       "17        100\n",
       "18        100\n",
       "Name: c1, dtype: object"
      ]
     },
     "execution_count": 2,
     "metadata": {},
     "output_type": "execute_result"
    }
   ],
   "source": [
    "import pandas as pd\n",
    "import numpy as np\n",
    "xlsx = pd.read_csv('vrp_ekz_fact.csv')\n",
    "GanmT = 100/(((xlsx['o_cattle_zhylyoi'] * xlsx['o_weight_cattle']).iloc[18] + (xlsx['o_goats_zhylyoi'] * xlsx['o_weight_goats']).iloc[18] + (xlsx['o_horses_zhylyoi']* xlsx['o_weight_horses']).iloc[18] + (xlsx['o_poultry_zhylyoi'] * xlsx['o_weight_poultry']).iloc[18])/((xlsx['o_cattle_zhylyoi'] * xlsx['o_weight_cattle']) + (xlsx['o_goats_zhylyoi'] * xlsx['o_weight_goats']) + (xlsx['o_horses_zhylyoi']* xlsx['o_weight_horses']) + (xlsx['o_poultry_zhylyoi'] * xlsx['o_weight_poultry'])))\n",
    "\n",
    "i=18\n",
    "c=100\n",
    "newdf = pd.DataFrame(columns=['c1'], index=range(19))\n",
    "while i>0:\n",
    "    c = (c/GanmT[i]) * 100\n",
    "    i=i-1\n",
    "    newdf.loc[i].c1 = c\n",
    "GanmS=newdf['c1']\n",
    "GanmS[18]=100\n",
    "\n",
    "GanmS\n",
    "    "
   ]
  },
  {
   "cell_type": "code",
   "execution_count": null,
   "metadata": {},
   "outputs": [],
   "source": []
  },
  {
   "cell_type": "code",
   "execution_count": null,
   "metadata": {},
   "outputs": [],
   "source": []
  }
 ],
 "metadata": {
  "kernelspec": {
   "display_name": "Python 3",
   "language": "python",
   "name": "python3"
  },
  "language_info": {
   "codemirror_mode": {
    "name": "ipython",
    "version": 3
   },
   "file_extension": ".py",
   "mimetype": "text/x-python",
   "name": "python",
   "nbconvert_exporter": "python",
   "pygments_lexer": "ipython3",
   "version": "3.7.6"
  }
 },
 "nbformat": 4,
 "nbformat_minor": 4
}
