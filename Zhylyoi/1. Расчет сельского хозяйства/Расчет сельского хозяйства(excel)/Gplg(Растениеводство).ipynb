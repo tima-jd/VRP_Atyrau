{
 "cells": [
  {
   "cell_type": "code",
   "execution_count": 92,
   "metadata": {},
   "outputs": [
    {
     "data": {
      "text/plain": [
       "0     106.796117\n",
       "1      48.543689\n",
       "2      58.252427\n",
       "3      58.252427\n",
       "4      58.252427\n",
       "5      67.961165\n",
       "6       9.708738\n",
       "7      19.417476\n",
       "8      29.126214\n",
       "9      29.126214\n",
       "10     29.126214\n",
       "11     29.126214\n",
       "12     29.126214\n",
       "13     29.126214\n",
       "14     46.601942\n",
       "15     50.485437\n",
       "16     56.310680\n",
       "17     57.281553\n",
       "18    100.000000\n",
       "dtype: float64"
      ]
     },
     "execution_count": 92,
     "metadata": {},
     "output_type": "execute_result"
    }
   ],
   "source": [
    "import pandas as pd\n",
    "import numpy as np\n",
    "xlsx = pd.read_csv('vrp_ekz_fact.csv')\n",
    "b = 100/((xlsx['o_potato_zhylyoi'].iloc[18] + xlsx['o_grain_zhylyoi'].iloc[18] + xlsx['o_vegetables_zhylyoi'].iloc[18])/(xlsx['o_potato_zhylyoi'] + xlsx['o_grain_zhylyoi'] + xlsx['o_vegetables_zhylyoi']))\n",
    "b"
   ]
  },
  {
   "cell_type": "code",
   "execution_count": 104,
   "metadata": {},
   "outputs": [
    {
     "data": {
      "text/plain": [
       "0     100.000000\n",
       "1     100.970874\n",
       "2     100.970874\n",
       "3     100.970874\n",
       "4     100.970874\n",
       "5     100.970874\n",
       "6     100.970874\n",
       "7     100.000000\n",
       "8     100.970874\n",
       "9     100.970874\n",
       "10    100.970874\n",
       "11    100.970874\n",
       "12    100.970874\n",
       "13    100.970874\n",
       "14    100.970874\n",
       "15    100.970874\n",
       "16    100.970874\n",
       "17    100.970874\n",
       "18    100.970874\n",
       "19    100.970874\n",
       "20    100.000000\n",
       "dtype: float64"
      ]
     },
     "execution_count": 104,
     "metadata": {},
     "output_type": "execute_result"
    }
   ],
   "source": [
    "import pandas as pd\n",
    "import numpy as np\n",
    "xlsx = pd.read_csv('vrp_ekz_prog.csv')\n",
    "c=xlsx['o_year']\n",
    "b = 100*((xlsx['o_potato_zhylyoi'] + xlsx['o_grain_zhylyoi'] + xlsx['o_vegetables_zhylyoi'])/(xlsx['o_potato_zhylyoi'].iloc[-1] + xlsx['o_grain_zhylyoi'].iloc[-1] + xlsx['o_vegetables_zhylyoi'].iloc[-1]))\n",
    "b"
   ]
  },
  {
   "cell_type": "code",
   "execution_count": null,
   "metadata": {},
   "outputs": [],
   "source": []
  }
 ],
 "metadata": {
  "kernelspec": {
   "display_name": "Python 3",
   "language": "python",
   "name": "python3"
  },
  "language_info": {
   "codemirror_mode": {
    "name": "ipython",
    "version": 3
   },
   "file_extension": ".py",
   "mimetype": "text/x-python",
   "name": "python",
   "nbconvert_exporter": "python",
   "pygments_lexer": "ipython3",
   "version": "3.7.6"
  }
 },
 "nbformat": 4,
 "nbformat_minor": 4
}
