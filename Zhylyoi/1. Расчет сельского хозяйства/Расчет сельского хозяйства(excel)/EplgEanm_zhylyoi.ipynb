{
 "cells": [
  {
   "cell_type": "code",
   "execution_count": 50,
   "metadata": {},
   "outputs": [
    {
     "data": {
      "text/plain": [
       "0.1094682652007773"
      ]
     },
     "execution_count": 50,
     "metadata": {},
     "output_type": "execute_result"
    }
   ],
   "source": [
    "import pandas as pd\n",
    "import numpy as np\n",
    "xlsx = pd.read_csv('vrp_ekz_fact.csv')\n",
    "l = xlsx['o_year']\n",
    "GplgT = ((xlsx['o_potato_zhylyoi'] + xlsx['o_grain_zhylyoi'] + xlsx['o_vegetables_zhylyoi'])/(xlsx['o_potato_zhylyoi'].shift(1) + xlsx['o_grain_zhylyoi'].shift(1) + xlsx['o_vegetables_zhylyoi'].shift(1))) * 100\n",
    "d = xlsx['o_ifo_agro_zhylyoi']\n",
    " \n",
    "i=18\n",
    "c=100\n",
    "l=100\n",
    "newdf = pd.DataFrame(columns=['c1','c2'], index=range(19))\n",
    "while i>0:\n",
    "    c = (c/d[i]) * 100\n",
    "    l=l/GplgT[i]*100\n",
    "    i=i-1\n",
    "    newdf.loc[i].c1 = c\n",
    "    newdf.loc[i].c2 = l\n",
    "\n",
    "LagrS=newdf['c1']\n",
    "LagrS[18]=100\n",
    "f=newdf['c2']\n",
    "f[18]=100\n",
    "GplgS = f[5:]\n",
    "Eplg_zhylyoi = ((GplgS - GplgS.mean()) * (LagrS - LagrS.mean())).sum() / ((GplgS - GplgS.mean())**2).sum()\n",
    "Eplg_zhylyoi"
   ]
  },
  {
   "cell_type": "code",
   "execution_count": 52,
   "metadata": {},
   "outputs": [
    {
     "data": {
      "text/plain": [
       "0.7567436864416387"
      ]
     },
     "execution_count": 52,
     "metadata": {},
     "output_type": "execute_result"
    }
   ],
   "source": [
    "import pandas as pd\n",
    "import numpy as np\n",
    "xlsx = pd.read_csv('vrp_ekz_fact.csv')\n",
    "l = xlsx['o_year']\n",
    "Ganm = ((xlsx['o_cattle_zhylyoi'] * xlsx['o_weight_cattle']) + (xlsx['o_goats_zhylyoi'] * xlsx['o_weight_goats']) + (xlsx['o_horses_zhylyoi']* xlsx['o_weight_horses']) + (xlsx['o_poultry_zhylyoi'] * xlsx['o_weight_poultry']))/((xlsx['o_cattle_zhylyoi'] * xlsx['o_weight_cattle']).shift(1) + (xlsx['o_goats_zhylyoi'] * xlsx['o_weight_goats']).shift(1) + (xlsx['o_horses_zhylyoi']* xlsx['o_weight_horses']).shift(1) + (xlsx['o_poultry_zhylyoi'] * xlsx['o_weight_poultry']).shift(1)) * 100\n",
    "d = xlsx['o_ifo_agro_zhylyoi']\n",
    " \n",
    "i=18\n",
    "c=100\n",
    "l=100\n",
    "newdf = pd.DataFrame(columns=['c1','c2'], index=range(19))\n",
    "while i>0:\n",
    "    c = (c/d[i]) * 100\n",
    "    l=l/Ganm[i]*100\n",
    "    i=i-1\n",
    "    newdf.loc[i].c1 = c\n",
    "    newdf.loc[i].c2 = l\n",
    "\n",
    "LagrS=newdf['c1']\n",
    "LagrS[18]=100\n",
    "f=newdf['c2']\n",
    "f[18]=100\n",
    "GanmS = f[5:]\n",
    "Eanm_zhylyoi = ((GanmS - GanmS.mean()) * (LagrS - LagrS.mean())).sum() / ((GanmS - GanmS.mean())**2).sum()\n",
    "Eanm_zhylyoi"
   ]
  },
  {
   "cell_type": "code",
   "execution_count": null,
   "metadata": {},
   "outputs": [],
   "source": []
  }
 ],
 "metadata": {
  "kernelspec": {
   "display_name": "Python 3",
   "language": "python",
   "name": "python3"
  },
  "language_info": {
   "codemirror_mode": {
    "name": "ipython",
    "version": 3
   },
   "file_extension": ".py",
   "mimetype": "text/x-python",
   "name": "python",
   "nbconvert_exporter": "python",
   "pygments_lexer": "ipython3",
   "version": "3.7.6"
  }
 },
 "nbformat": 4,
 "nbformat_minor": 4
}
