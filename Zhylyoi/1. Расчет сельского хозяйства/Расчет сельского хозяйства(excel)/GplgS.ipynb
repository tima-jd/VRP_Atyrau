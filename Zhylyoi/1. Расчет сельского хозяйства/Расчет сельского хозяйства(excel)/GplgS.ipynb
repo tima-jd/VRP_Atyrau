{
 "cells": [
  {
   "cell_type": "code",
   "execution_count": 29,
   "metadata": {},
   "outputs": [
    {
     "data": {
      "text/plain": [
       "0     1.75561e+09\n",
       "1      8.5224e+08\n",
       "2      4.9645e+08\n",
       "3     2.89194e+08\n",
       "4     1.68463e+08\n",
       "5     1.14489e+08\n",
       "6     1.11155e+07\n",
       "7     2.15834e+06\n",
       "8          628643\n",
       "9          183100\n",
       "10        53330.1\n",
       "11          15533\n",
       "12        4524.18\n",
       "13        1317.72\n",
       "14        614.085\n",
       "15        310.023\n",
       "16        174.576\n",
       "17            100\n",
       "18            100\n",
       "Name: c1, dtype: object"
      ]
     },
     "execution_count": 29,
     "metadata": {},
     "output_type": "execute_result"
    }
   ],
   "source": [
    "import pandas as pd\n",
    "import numpy as np\n",
    "xlsx = pd.read_csv('vrp_ekz_fact.csv')\n",
    "GplgT = 100/((xlsx['o_potato_zhylyoi'].iloc[18] + xlsx['o_grain_zhylyoi'].iloc[18] + xlsx['o_vegetables_zhylyoi'].iloc[18])/(xlsx['o_potato_zhylyoi'] + xlsx['o_grain_zhylyoi'] + xlsx['o_vegetables_zhylyoi']))\n",
    "\n",
    "i=18\n",
    "c=100\n",
    "newdf = pd.DataFrame(columns=['c1'], index=range(19))\n",
    "while i>0:\n",
    "    c = (c/GplgT[i]) * 100\n",
    "    i=i-1\n",
    "    newdf.loc[i].c1 = c\n",
    "GplgS=newdf['c1']\n",
    "GplgS[18]=100\n",
    "\n",
    "GplgS"
   ]
  },
  {
   "cell_type": "code",
   "execution_count": null,
   "metadata": {},
   "outputs": [],
   "source": []
  },
  {
   "cell_type": "code",
   "execution_count": null,
   "metadata": {},
   "outputs": [],
   "source": []
  },
  {
   "cell_type": "code",
   "execution_count": null,
   "metadata": {},
   "outputs": [],
   "source": []
  }
 ],
 "metadata": {
  "kernelspec": {
   "display_name": "Python 3",
   "language": "python",
   "name": "python3"
  },
  "language_info": {
   "codemirror_mode": {
    "name": "ipython",
    "version": 3
   },
   "file_extension": ".py",
   "mimetype": "text/x-python",
   "name": "python",
   "nbconvert_exporter": "python",
   "pygments_lexer": "ipython3",
   "version": "3.7.6"
  }
 },
 "nbformat": 4,
 "nbformat_minor": 4
}
