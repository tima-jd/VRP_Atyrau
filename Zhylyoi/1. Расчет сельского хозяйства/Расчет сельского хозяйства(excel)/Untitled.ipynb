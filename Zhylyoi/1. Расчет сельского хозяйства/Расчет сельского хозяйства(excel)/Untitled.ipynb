{
 "cells": [
  {
   "cell_type": "code",
   "execution_count": 11,
   "metadata": {},
   "outputs": [
    {
     "data": {
      "text/plain": [
       "0     9.95777e+15\n",
       "1     5.47678e+15\n",
       "2     1.64303e+15\n",
       "3     5.91492e+14\n",
       "4     2.12937e+14\n",
       "5     8.94336e+13\n",
       "6     6.26035e+12\n",
       "7     1.25207e+11\n",
       "8     7.51242e+09\n",
       "9     6.76118e+08\n",
       "10    6.08506e+07\n",
       "11    5.47655e+06\n",
       "12         492890\n",
       "13        44360.1\n",
       "14        6387.85\n",
       "15        1594.41\n",
       "16        480.873\n",
       "17        164.555\n",
       "18            100\n",
       "Name: c1, dtype: object"
      ]
     },
     "execution_count": 11,
     "metadata": {},
     "output_type": "execute_result"
    }
   ],
   "source": [
    "import pandas as pd\n",
    "import numpy as np\n",
    "xlsx = pd.read_csv('vrp_ekz_fact.csv')\n",
    "i=18\n",
    "c=100\n",
    "newdf = pd.DataFrame(columns=['c1','c2'], index=range(19))\n",
    "while i>0:\n",
    "    c = c/(xlsx['o_potato_zhylyoi'][i] + xlsx['o_grain_zhylyoi'][i] + xlsx['o_vegetables_zhylyoi'][i])/(xlsx['o_potato_zhylyoi'][i-1] + xlsx['o_grain_zhylyoi'][i-1] + xlsx['o_vegetables_zhylyoi'][i-1])\n",
    "    i=i-1\n",
    "    newdf.loc[i].c1 = c\n",
    "\n",
    "GplgS=newdf['c1']\n",
    "GplgS[18]=100\n",
    "\n",
    "GplgS"
   ]
  },
  {
   "cell_type": "code",
   "execution_count": null,
   "metadata": {},
   "outputs": [],
   "source": []
  }
 ],
 "metadata": {
  "kernelspec": {
   "display_name": "Python 3",
   "language": "python",
   "name": "python3"
  },
  "language_info": {
   "codemirror_mode": {
    "name": "ipython",
    "version": 3
   },
   "file_extension": ".py",
   "mimetype": "text/x-python",
   "name": "python",
   "nbconvert_exporter": "python",
   "pygments_lexer": "ipython3",
   "version": "3.7.6"
  }
 },
 "nbformat": 4,
 "nbformat_minor": 4
}
