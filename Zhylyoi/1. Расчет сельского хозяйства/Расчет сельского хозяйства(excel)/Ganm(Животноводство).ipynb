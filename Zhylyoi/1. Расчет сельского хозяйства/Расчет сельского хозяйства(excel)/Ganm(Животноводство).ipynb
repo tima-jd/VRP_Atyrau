{
 "cells": [
  {
   "cell_type": "code",
   "execution_count": 2,
   "metadata": {},
   "outputs": [
    {
     "data": {
      "text/plain": [
       "0      47.210033\n",
       "1      49.791078\n",
       "2      54.780748\n",
       "3      59.149088\n",
       "4      69.321041\n",
       "5      74.868550\n",
       "6      78.138495\n",
       "7      84.611203\n",
       "8      90.589953\n",
       "9      97.589627\n",
       "10    101.763219\n",
       "11    104.053598\n",
       "12     90.145314\n",
       "13     89.190212\n",
       "14     91.621750\n",
       "15     90.479084\n",
       "16     95.850096\n",
       "17     95.779226\n",
       "18    100.000000\n",
       "dtype: float64"
      ]
     },
     "execution_count": 2,
     "metadata": {},
     "output_type": "execute_result"
    }
   ],
   "source": [
    "import pandas as pd\n",
    "import numpy as np\n",
    "xlsx = pd.read_csv('vrp_ekz_fact.csv')\n",
    "l = xlsx['o_year']\n",
    "Ganm = 100/(((xlsx['o_cattle_zhylyoi'] * xlsx['o_weight_cattle']).iloc[18] + (xlsx['o_goats_zhylyoi'] * xlsx['o_weight_goats']).iloc[18] + (xlsx['o_horses_zhylyoi']* xlsx['o_weight_horses']).iloc[18] + (xlsx['o_poultry_zhylyoi'] * xlsx['o_weight_poultry']).iloc[18])/((xlsx['o_cattle_zhylyoi'] * xlsx['o_weight_cattle']) + (xlsx['o_goats_zhylyoi'] * xlsx['o_weight_goats']) + (xlsx['o_horses_zhylyoi']* xlsx['o_weight_horses']) + (xlsx['o_poultry_zhylyoi'] * xlsx['o_weight_poultry'])))\n",
    "Ganm"
   ]
  },
  {
   "cell_type": "code",
   "execution_count": 55,
   "metadata": {},
   "outputs": [
    {
     "data": {
      "text/plain": [
       "0     105.218669\n",
       "1     110.973411\n",
       "2     117.320533\n",
       "3     124.378107\n",
       "4     132.342337\n",
       "5     141.409895\n",
       "6     151.823701\n",
       "7     105.218669\n",
       "8     110.973411\n",
       "9     117.320533\n",
       "10    124.378107\n",
       "11    132.342337\n",
       "12    141.409895\n",
       "13    151.823701\n",
       "14    110.973411\n",
       "15    117.320533\n",
       "16    124.378107\n",
       "17    132.342337\n",
       "18    141.409895\n",
       "19    151.823701\n",
       "20    105.218669\n",
       "dtype: float64"
      ]
     },
     "execution_count": 55,
     "metadata": {},
     "output_type": "execute_result"
    }
   ],
   "source": [
    "import pandas as pd\n",
    "import numpy as np\n",
    "xlsx = pd.read_csv('vrp_ekz_prog.csv')\n",
    "l = xlsx['o_year']\n",
    "Ganm = 105.2186694 * (((xlsx['o_cattle_zhylyoi'] * xlsx['o_weight_cattle']) + (xlsx['o_goats_zhylyoi'] * xlsx['o_weight_goats']) + (xlsx['o_horses_zhylyoi']* xlsx['o_weight_horses']) + (xlsx['o_poultry_zhylyoi'] * xlsx['o_weight_poultry'])) / ((xlsx['o_cattle_zhylyoi'] * xlsx['o_weight_cattle']).iloc[-1] + (xlsx['o_goats_zhylyoi'] * xlsx['o_weight_goats']).iloc[-1] + (xlsx['o_horses_zhylyoi']* xlsx['o_weight_horses']).iloc[-1] + (xlsx['o_poultry_zhylyoi'] * xlsx['o_weight_poultry']).iloc[-1]))\n",
    "Ganm"
   ]
  },
  {
   "cell_type": "code",
   "execution_count": null,
   "metadata": {},
   "outputs": [],
   "source": []
  },
  {
   "cell_type": "code",
   "execution_count": null,
   "metadata": {},
   "outputs": [],
   "source": []
  }
 ],
 "metadata": {
  "kernelspec": {
   "display_name": "Python 3",
   "language": "python",
   "name": "python3"
  },
  "language_info": {
   "codemirror_mode": {
    "name": "ipython",
    "version": 3
   },
   "file_extension": ".py",
   "mimetype": "text/x-python",
   "name": "python",
   "nbconvert_exporter": "python",
   "pygments_lexer": "ipython3",
   "version": "3.7.6"
  }
 },
 "nbformat": 4,
 "nbformat_minor": 4
}
