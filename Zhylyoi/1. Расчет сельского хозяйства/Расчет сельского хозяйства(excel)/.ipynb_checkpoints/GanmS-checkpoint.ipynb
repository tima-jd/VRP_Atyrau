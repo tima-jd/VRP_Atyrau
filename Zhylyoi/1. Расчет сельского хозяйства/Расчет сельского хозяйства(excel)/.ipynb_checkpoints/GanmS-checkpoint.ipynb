{
 "cells": [
  {
   "cell_type": "code",
   "execution_count": 6,
   "metadata": {},
   "outputs": [
    {
     "name": "stdout",
     "output_type": "stream",
     "text": [
      "174.5762711864407\n",
      "310.0233781414378\n",
      "614.0847682416941\n",
      "1317.723565185302\n",
      "4524.184240469538\n",
      "15533.032558945417\n",
      "53330.07845237927\n",
      "183099.9360198355\n",
      "628643.1136681018\n",
      "2158341.35692715\n",
      "11115457.988174822\n",
      "114489217.27820067\n",
      "168462705.42363814\n",
      "289194310.9772455\n",
      "496450233.8442715\n",
      "852239568.0993328\n",
      "1755613510.2846258\n"
     ]
    }
   ],
   "source": [
    "import pandas as pd\n",
    "import numpy as np\n",
    "\n",
    "xlsx = pd.read_csv('vrp_ekz_fact.csv')\n",
    "\n",
    "GplgT = 100/((xlsx['o_potato_zhylyoi'].iloc[18] + xlsx['o_grain_zhylyoi'].iloc[18] + xlsx['o_vegetables_zhylyoi'].iloc[18])/(xlsx['o_potato_zhylyoi'] + xlsx['o_grain_zhylyoi'] + xlsx['o_vegetables_zhylyoi']))\n",
    "\n",
    "v=100/GplgT[17]*100\n",
    "\n",
    "q=v/GplgT[16]*100\n",
    "w=q/GplgT[15]*100\n",
    "e=w/GplgT[14]*100\n",
    "r=e/GplgT[13]*100\n",
    "t=r/GplgT[12]*100\n",
    "y=t/GplgT[11]*100\n",
    "m=y/GplgT[10]*100\n",
    "u=m/GplgT[9]*100\n",
    "i=u/GplgT[8]*100\n",
    "o=i/GplgT[7]*100\n",
    "p=o/GplgT[6]*100\n",
    "a=p/GplgT[5]*100\n",
    "s=a/GplgT[4]*100\n",
    "d=s/GplgT[3]*100\n",
    "f=d/GplgT[2]*100\n",
    "g=f/GplgT[1]*100\n",
    "\n",
    "print(v)\n",
    "print(q)\n",
    "print(w)\n",
    "print(e)\n",
    "print(r)\n",
    "print(t)\n",
    "print(y)\n",
    "print(m)\n",
    "print(u)\n",
    "print(i)\n",
    "print(o)\n",
    "print(p)\n",
    "print(a)\n",
    "print(s)\n",
    "print(d)\n",
    "print(f)\n",
    "print(g)\n"
   ]
  },
  {
   "cell_type": "code",
   "execution_count": null,
   "metadata": {},
   "outputs": [],
   "source": []
  },
  {
   "cell_type": "code",
   "execution_count": null,
   "metadata": {},
   "outputs": [],
   "source": []
  }
 ],
 "metadata": {
  "kernelspec": {
   "display_name": "Python 3",
   "language": "python",
   "name": "python3"
  },
  "language_info": {
   "codemirror_mode": {
    "name": "ipython",
    "version": 3
   },
   "file_extension": ".py",
   "mimetype": "text/x-python",
   "name": "python",
   "nbconvert_exporter": "python",
   "pygments_lexer": "ipython3",
   "version": "3.7.6"
  }
 },
 "nbformat": 4,
 "nbformat_minor": 4
}
