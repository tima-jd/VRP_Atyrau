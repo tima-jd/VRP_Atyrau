{
 "cells": [
  {
   "cell_type": "code",
   "execution_count": 67,
   "metadata": {},
   "outputs": [
    {
     "name": "stdout",
     "output_type": "stream",
     "text": [
      "100\n",
      "100.0\n",
      "174.5762711864407\n",
      "310.0233781414378\n",
      "614.0847682416941\n",
      "1317.723565185302\n",
      "4524.184240469538\n",
      "15533.032558945417\n",
      "53330.07845237927\n",
      "183099.9360198355\n",
      "628643.1136681018\n",
      "2158341.35692715\n",
      "11115457.988174822\n",
      "114489217.27820067\n",
      "168462705.42363814\n",
      "289194310.9772455\n",
      "496450233.8442715\n",
      "852239568.0993328\n",
      "1755613510.2846258\n"
     ]
    },
    {
     "data": {
      "text/plain": [
       "1643892650.5392404"
      ]
     },
     "execution_count": 67,
     "metadata": {},
     "output_type": "execute_result"
    }
   ],
   "source": [
    "import pandas as pd\n",
    "import numpy as np\n",
    "xlsx = pd.read_csv('vrp_ekz_fact.csv')\n",
    "b = 100/((xlsx['o_potato_zhylyoi'].iloc[18] + xlsx['o_grain_zhylyoi'].iloc[18] + xlsx['o_vegetables_zhylyoi'].iloc[18])/(xlsx['o_potato_zhylyoi'] + xlsx['o_grain_zhylyoi'] + xlsx['o_vegetables_zhylyoi']))\n",
    "i=18\n",
    "l=xlsx['o_year']\n",
    "c=100\n",
    "while i>-1:\n",
    "    print(c)\n",
    "    c = (c/b[i]) * 100\n",
    "    i=i-1\n",
    "    l=c\n",
    "\n",
    "\n",
    "\n"
   ]
  },
  {
   "cell_type": "code",
   "execution_count": null,
   "metadata": {},
   "outputs": [],
   "source": []
  },
  {
   "cell_type": "code",
   "execution_count": null,
   "metadata": {},
   "outputs": [],
   "source": []
  },
  {
   "cell_type": "code",
   "execution_count": null,
   "metadata": {},
   "outputs": [],
   "source": []
  }
 ],
 "metadata": {
  "kernelspec": {
   "display_name": "Python 3",
   "language": "python",
   "name": "python3"
  },
  "language_info": {
   "codemirror_mode": {
    "name": "ipython",
    "version": 3
   },
   "file_extension": ".py",
   "mimetype": "text/x-python",
   "name": "python",
   "nbconvert_exporter": "python",
   "pygments_lexer": "ipython3",
   "version": "3.7.6"
  }
 },
 "nbformat": 4,
 "nbformat_minor": 4
}
