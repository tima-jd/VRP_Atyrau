{
 "cells": [
  {
   "cell_type": "code",
   "execution_count": 4,
   "metadata": {},
   "outputs": [
    {
     "data": {
      "text/plain": [
       "(0       NaN\n",
       " 1     110.0\n",
       " 2      50.0\n",
       " 3      60.0\n",
       " 4      60.0\n",
       " 5      60.0\n",
       " 6      70.0\n",
       " 7      10.0\n",
       " 8      20.0\n",
       " 9      30.0\n",
       " 10     30.0\n",
       " 11     30.0\n",
       " 12     30.0\n",
       " 13     30.0\n",
       " 14     30.0\n",
       " 15     48.0\n",
       " 16     52.0\n",
       " 17     58.0\n",
       " 18     59.0\n",
       " dtype: float64,\n",
       " 0     110.0\n",
       " 1      50.0\n",
       " 2      60.0\n",
       " 3      60.0\n",
       " 4      60.0\n",
       " 5      70.0\n",
       " 6      10.0\n",
       " 7      20.0\n",
       " 8      30.0\n",
       " 9      30.0\n",
       " 10     30.0\n",
       " 11     30.0\n",
       " 12     30.0\n",
       " 13     30.0\n",
       " 14     48.0\n",
       " 15     52.0\n",
       " 16     58.0\n",
       " 17     59.0\n",
       " 18    103.0\n",
       " dtype: float64)"
      ]
     },
     "execution_count": 4,
     "metadata": {},
     "output_type": "execute_result"
    }
   ],
   "source": [
    "import pandas as pd\n",
    "import numpy as np\n",
    "xlsx = pd.read_csv('vrp_ekz_fact.csv')\n",
    "c =(xlsx['o_potato_zhylyoi'].shift(1) + xlsx['o_grain_zhylyoi'].shift(1) + xlsx['o_vegetables_zhylyoi'].shift(1)) * 100\n",
    "x=(xlsx['o_potato_zhylyoi'] + xlsx['o_grain_zhylyoi'] + xlsx['o_vegetables_zhylyoi'])*100\n",
    "c,x"
   ]
  },
  {
   "cell_type": "code",
   "execution_count": null,
   "metadata": {},
   "outputs": [],
   "source": []
  },
  {
   "cell_type": "code",
   "execution_count": null,
   "metadata": {},
   "outputs": [],
   "source": []
  },
  {
   "cell_type": "code",
   "execution_count": null,
   "metadata": {},
   "outputs": [],
   "source": []
  }
 ],
 "metadata": {
  "kernelspec": {
   "display_name": "Python 3",
   "language": "python",
   "name": "python3"
  },
  "language_info": {
   "codemirror_mode": {
    "name": "ipython",
    "version": 3
   },
   "file_extension": ".py",
   "mimetype": "text/x-python",
   "name": "python",
   "nbconvert_exporter": "python",
   "pygments_lexer": "ipython3",
   "version": "3.7.6"
  }
 },
 "nbformat": 4,
 "nbformat_minor": 4
}
