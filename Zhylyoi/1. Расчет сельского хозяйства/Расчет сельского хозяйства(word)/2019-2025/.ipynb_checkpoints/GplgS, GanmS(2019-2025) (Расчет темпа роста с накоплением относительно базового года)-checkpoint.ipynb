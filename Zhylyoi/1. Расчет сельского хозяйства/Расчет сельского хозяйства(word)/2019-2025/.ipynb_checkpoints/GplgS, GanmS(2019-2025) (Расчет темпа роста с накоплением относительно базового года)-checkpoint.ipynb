{
 "cells": [
  {
   "cell_type": "code",
   "execution_count": 45,
   "metadata": {},
   "outputs": [
    {
     "data": {
      "text/plain": [
       "0         100\n",
       "1     100.971\n",
       "2     100.971\n",
       "3     100.971\n",
       "4     100.971\n",
       "5     100.971\n",
       "6     100.971\n",
       "7         100\n",
       "8     100.971\n",
       "9     100.971\n",
       "10    100.971\n",
       "11    100.971\n",
       "12    100.971\n",
       "13    100.971\n",
       "14    100.971\n",
       "15    100.971\n",
       "16    100.971\n",
       "17    100.971\n",
       "18    100.971\n",
       "19    100.971\n",
       "20        100\n",
       "Name: c1, dtype: object"
      ]
     },
     "execution_count": 45,
     "metadata": {},
     "output_type": "execute_result"
    }
   ],
   "source": [
    "import pandas as pd\n",
    "import numpy as np\n",
    "xlsx = pd.read_csv('vrp_ekz_prog.csv')\n",
    "\n",
    "l = (xlsx['o_potato_zhylyoi'].shift(1) + xlsx['o_grain_zhylyoi'].shift(1) + xlsx['o_vegetables_zhylyoi'].shift(1))\n",
    "l[0]= 1.03\n",
    "Gplg = (xlsx['o_potato_zhylyoi'] + xlsx['o_grain_zhylyoi'] + xlsx['o_vegetables_zhylyoi'])/l\n",
    "\n",
    "newdf = pd.DataFrame(columns=['c1'], index=range(21))\n",
    "\n",
    "c=100\n",
    "i=0\n",
    "while i<=20:\n",
    "    c = (c*Gplg[i])\n",
    "    newdf.loc[i].c1 = c\n",
    "    i=i+1\n",
    "GplgS=newdf['c1']\n",
    "\n",
    "GplgS"
   ]
  },
  {
   "cell_type": "code",
   "execution_count": 1,
   "metadata": {},
   "outputs": [
    {
     "data": {
      "text/plain": [
       "0     105.219\n",
       "1     110.973\n",
       "2     117.321\n",
       "3     124.378\n",
       "4     132.342\n",
       "5      141.41\n",
       "6     151.824\n",
       "7     105.219\n",
       "8     110.973\n",
       "9     117.321\n",
       "10    124.378\n",
       "11    132.342\n",
       "12     141.41\n",
       "13    151.824\n",
       "14    110.973\n",
       "15    117.321\n",
       "16    124.378\n",
       "17    132.342\n",
       "18     141.41\n",
       "19    151.824\n",
       "20    105.219\n",
       "Name: c1, dtype: object"
      ]
     },
     "execution_count": 1,
     "metadata": {},
     "output_type": "execute_result"
    }
   ],
   "source": [
    "import pandas as pd\n",
    "import numpy as np\n",
    "xlsx = pd.read_csv('vrp_ekz_prog.csv')\n",
    "\n",
    "l = ((xlsx['o_cattle_zhylyoi'] * xlsx['o_weight_cattle']).shift(1) + (xlsx['o_goats_zhylyoi'] * xlsx['o_weight_goats']).shift(1) + (xlsx['o_horses_zhylyoi']* xlsx['o_weight_horses']).shift(1) + (xlsx['o_poultry_zhylyoi'] * xlsx['o_weight_poultry']).shift(1))\n",
    "l[0]= 10300.48\n",
    "Ganm = ((xlsx['o_cattle_zhylyoi'] * xlsx['o_weight_cattle']) + (xlsx['o_goats_zhylyoi'] * xlsx['o_weight_goats']) + (xlsx['o_horses_zhylyoi']* xlsx['o_weight_horses']) + (xlsx['o_poultry_zhylyoi'] * xlsx['o_weight_poultry']))/ l\n",
    "\n",
    "newdf = pd.DataFrame(columns=['c1'], index=range(21))\n",
    "\n",
    "c=100\n",
    "i=0\n",
    "while i<=20:\n",
    "    c = (c*Ganm[i])\n",
    "    newdf.loc[i].c1 = c\n",
    "    i=i+1\n",
    "GanmS=newdf['c1']\n",
    "\n",
    "GanmS"
   ]
  },
  {
   "cell_type": "code",
   "execution_count": null,
   "metadata": {},
   "outputs": [],
   "source": []
  }
 ],
 "metadata": {
  "kernelspec": {
   "display_name": "Python 3",
   "language": "python",
   "name": "python3"
  },
  "language_info": {
   "codemirror_mode": {
    "name": "ipython",
    "version": 3
   },
   "file_extension": ".py",
   "mimetype": "text/x-python",
   "name": "python",
   "nbconvert_exporter": "python",
   "pygments_lexer": "ipython3",
   "version": "3.7.6"
  }
 },
 "nbformat": 4,
 "nbformat_minor": 4
}
