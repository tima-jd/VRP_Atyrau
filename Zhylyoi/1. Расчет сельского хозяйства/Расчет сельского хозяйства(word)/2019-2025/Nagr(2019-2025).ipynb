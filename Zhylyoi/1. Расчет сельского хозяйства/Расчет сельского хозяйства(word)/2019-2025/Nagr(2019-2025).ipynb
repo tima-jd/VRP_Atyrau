{
 "cells": [
  {
   "cell_type": "code",
   "execution_count": 2,
   "metadata": {},
   "outputs": [
    {
     "data": {
      "text/plain": [
       "0     106.280224\n",
       "1     106.280224\n",
       "2     106.280224\n",
       "3     105.233520\n",
       "4     105.233520\n",
       "5     105.233520\n",
       "6     105.233520\n",
       "7     106.280224\n",
       "8     105.882476\n",
       "9     105.882476\n",
       "10    104.835772\n",
       "11    104.835772\n",
       "12    104.835772\n",
       "13    104.835772\n",
       "14    107.892148\n",
       "15    107.892148\n",
       "16    106.845444\n",
       "17    106.845444\n",
       "18    106.845444\n",
       "19    106.845444\n",
       "20    106.280224\n",
       "Name: o_inflation, dtype: float64"
      ]
     },
     "execution_count": 2,
     "metadata": {},
     "output_type": "execute_result"
    }
   ],
   "source": [
    "import pandas as pd\n",
    "import numpy as np\n",
    "csv_file = pd.read_csv('vrp_ekz_prog.csv')\n",
    "inf=csv_file['o_inflation']\n",
    "\n",
    "Dagr= inf * 1.0467039381667782 + 100\n",
    "\n",
    "Dagr"
   ]
  },
  {
   "cell_type": "code",
   "execution_count": 3,
   "metadata": {},
   "outputs": [
    {
     "data": {
      "text/plain": [
       "0     103.351953\n",
       "1     103.619224\n",
       "2     103.673636\n",
       "3     103.863844\n",
       "4     104.112805\n",
       "5     104.400781\n",
       "6     104.730073\n",
       "7      80.178169\n",
       "8     103.619224\n",
       "9     103.673636\n",
       "10    103.863844\n",
       "11    104.112805\n",
       "12    104.400781\n",
       "13    104.730073\n",
       "14     82.718009\n",
       "15    103.673636\n",
       "16    103.863844\n",
       "17    104.112805\n",
       "18    104.400781\n",
       "19    104.730073\n",
       "20     80.178169\n",
       "Name: c1, dtype: float64"
      ]
     },
     "execution_count": 3,
     "metadata": {},
     "output_type": "execute_result"
    }
   ],
   "source": [
    "import pandas as pd\n",
    "csv = pd.read_csv('lagrt(2019-2025).csv')\n",
    "lagrt=csv['c1']\n",
    "lagrt"
   ]
  },
  {
   "cell_type": "code",
   "execution_count": 4,
   "metadata": {},
   "outputs": [
    {
     "data": {
      "text/plain": [
       "0     6548.82\n",
       "1        7212\n",
       "2     7946.51\n",
       "3     8685.51\n",
       "4     9515.98\n",
       "5     10454.7\n",
       "6     11522.2\n",
       "7     9818.51\n",
       "8     10772.3\n",
       "9       11825\n",
       "10    12875.9\n",
       "11    14053.7\n",
       "12    15381.7\n",
       "13    16888.2\n",
       "14    15072.1\n",
       "15      16859\n",
       "16    18709.1\n",
       "17    20811.9\n",
       "18    23215.2\n",
       "19    25977.6\n",
       "20    22136.5\n",
       "Name: c1, dtype: object"
      ]
     },
     "execution_count": 4,
     "metadata": {},
     "output_type": "execute_result"
    }
   ],
   "source": [
    "c=5962\n",
    "i=0\n",
    "\n",
    "newdf = pd.DataFrame(columns=['c1'], index=range(21))\n",
    "\n",
    "while i<=20:\n",
    "    c = c*lagrt[i]*Dagr[i]/10000\n",
    "    newdf.loc[i].c1 = c    \n",
    "    i=i+1\n",
    "\n",
    "Nagr=newdf['c1']\n",
    "\n",
    "Nagr"
   ]
  },
  {
   "cell_type": "code",
   "execution_count": 7,
   "metadata": {},
   "outputs": [],
   "source": [
    "Dagr.to_csv (r'Dagr(2019-2025).csv', index = False)\n"
   ]
  },
  {
   "cell_type": "code",
   "execution_count": null,
   "metadata": {},
   "outputs": [],
   "source": []
  }
 ],
 "metadata": {
  "kernelspec": {
   "display_name": "Python 3",
   "language": "python",
   "name": "python3"
  },
  "language_info": {
   "codemirror_mode": {
    "name": "ipython",
    "version": 3
   },
   "file_extension": ".py",
   "mimetype": "text/x-python",
   "name": "python",
   "nbconvert_exporter": "python",
   "pygments_lexer": "ipython3",
   "version": "3.7.6"
  }
 },
 "nbformat": 4,
 "nbformat_minor": 4
}
