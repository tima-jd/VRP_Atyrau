{
 "cells": [
  {
   "cell_type": "code",
   "execution_count": 2,
   "metadata": {},
   "outputs": [
    {
     "data": {
      "text/plain": [
       "0     56.5523\n",
       "1     53.2157\n",
       "2     54.5674\n",
       "3     61.4756\n",
       "4     65.2625\n",
       "5     66.8027\n",
       "6     69.4748\n",
       "7     73.9907\n",
       "8     78.0602\n",
       "9     75.0158\n",
       "10    75.5409\n",
       "11    81.6597\n",
       "12    85.8244\n",
       "13    85.4811\n",
       "14     85.823\n",
       "15    89.8567\n",
       "16     93.451\n",
       "17    95.6938\n",
       "18        100\n",
       "Name: c1, dtype: object"
      ]
     },
     "execution_count": 2,
     "metadata": {},
     "output_type": "execute_result"
    }
   ],
   "source": [
    "import pandas as pd\n",
    "import numpy as np\n",
    "xlsx = pd.read_csv('vrp_ekz_fact.csv')\n",
    "d = xlsx['o_ifo_agro']\n",
    "\n",
    "i=18\n",
    "c=100\n",
    "newdf = pd.DataFrame(columns=['c1'], index=range(19))\n",
    "while i>0:\n",
    "    c = (c/d[i]) * 100\n",
    "    i=i-1\n",
    "    newdf.loc[i].c1 = c\n",
    "LagrS=newdf['c1']\n",
    "LagrS[18]=100\n",
    "\n",
    "LagrS"
   ]
  },
  {
   "cell_type": "code",
   "execution_count": 1,
   "metadata": {},
   "outputs": [
    {
     "data": {
      "text/plain": [
       "0     60.2846\n",
       "1     57.1498\n",
       "2     56.2925\n",
       "3     56.4051\n",
       "4     58.7177\n",
       "5     62.7105\n",
       "6      71.929\n",
       "7      98.255\n",
       "8     97.3707\n",
       "9      82.473\n",
       "10    81.4008\n",
       "11    83.6801\n",
       "12    94.3074\n",
       "13    93.4587\n",
       "14     79.066\n",
       "15    87.7633\n",
       "16    98.9092\n",
       "17    99.3049\n",
       "18        100\n",
       "Name: c1, dtype: object"
      ]
     },
     "execution_count": 1,
     "metadata": {},
     "output_type": "execute_result"
    }
   ],
   "source": [
    "import pandas as pd\n",
    "import numpy as np\n",
    "xlsx = pd.read_csv('vrp_ekz_fact.csv')\n",
    "d = xlsx['o_ifo_agro_atyrau']\n",
    "\n",
    "i=18\n",
    "c=100\n",
    "newdf = pd.DataFrame(columns=['c1'], index=range(19))\n",
    "while i>0:\n",
    "    c = (c/d[i]) * 100\n",
    "    i=i-1\n",
    "    newdf.loc[i].c1 = c\n",
    "LagrS=newdf['c1']\n",
    "LagrS[18]=100\n",
    "\n",
    "LagrS"
   ]
  },
  {
   "cell_type": "code",
   "execution_count": 3,
   "metadata": {},
   "outputs": [
    {
     "data": {
      "text/plain": [
       "0     68.3625\n",
       "1     64.2608\n",
       "2     62.7185\n",
       "3     62.2795\n",
       "4     66.5145\n",
       "5     67.1796\n",
       "6     68.4561\n",
       "7     86.1862\n",
       "8     111.783\n",
       "9      82.608\n",
       "10    86.4906\n",
       "11    89.6042\n",
       "12    88.0809\n",
       "13    87.8167\n",
       "14    94.0517\n",
       "15    93.9576\n",
       "16    92.0785\n",
       "17    91.1577\n",
       "18        100\n",
       "Name: c1, dtype: object"
      ]
     },
     "execution_count": 3,
     "metadata": {},
     "output_type": "execute_result"
    }
   ],
   "source": [
    "import pandas as pd\n",
    "import numpy as np\n",
    "xlsx = pd.read_csv('vrp_ekz_fact.csv')\n",
    "d = xlsx['o_ifo_agro_zhylyoi']\n",
    "\n",
    "i=18\n",
    "c=100\n",
    "newdf = pd.DataFrame(columns=['c1'], index=range(19))\n",
    "while i>0:\n",
    "    c = (c/d[i]) * 100\n",
    "    i=i-1\n",
    "    newdf.loc[i].c1 = c\n",
    "LagrS=newdf['c1']\n",
    "LagrS[18]=100\n",
    "\n",
    "LagrS"
   ]
  },
  {
   "cell_type": "code",
   "execution_count": 4,
   "metadata": {},
   "outputs": [
    {
     "data": {
      "text/plain": [
       "0     50.2844\n",
       "1     49.8319\n",
       "2      51.277\n",
       "3      53.687\n",
       "4     57.0693\n",
       "5     58.1536\n",
       "6     59.3748\n",
       "7     63.8279\n",
       "8     66.9555\n",
       "9     67.4912\n",
       "10    68.7735\n",
       "11    72.6936\n",
       "12    75.3832\n",
       "13    77.1171\n",
       "14    84.7516\n",
       "15     88.057\n",
       "16    92.4598\n",
       "17    96.8054\n",
       "18        100\n",
       "Name: c1, dtype: object"
      ]
     },
     "execution_count": 4,
     "metadata": {},
     "output_type": "execute_result"
    }
   ],
   "source": [
    "import pandas as pd\n",
    "import numpy as np\n",
    "xlsx = pd.read_csv('vrp_ekz_fact.csv')\n",
    "d = xlsx['o_ifo_agro_inder']\n",
    "\n",
    "i=18\n",
    "c=100\n",
    "newdf = pd.DataFrame(columns=['c1'], index=range(19))\n",
    "while i>0:\n",
    "    c = (c/d[i]) * 100\n",
    "    i=i-1\n",
    "    newdf.loc[i].c1 = c\n",
    "LagrS=newdf['c1']\n",
    "LagrS[18]=100\n",
    "\n",
    "LagrS"
   ]
  },
  {
   "cell_type": "code",
   "execution_count": 5,
   "metadata": {},
   "outputs": [
    {
     "data": {
      "text/plain": [
       "0     53.5633\n",
       "1     53.5633\n",
       "2     55.5987\n",
       "3     58.7123\n",
       "4     62.9396\n",
       "5     62.6249\n",
       "6     61.9986\n",
       "7     67.7025\n",
       "8     80.6337\n",
       "9     79.5048\n",
       "10    79.0278\n",
       "11    83.9275\n",
       "12    87.2007\n",
       "13    92.0839\n",
       "14    91.9918\n",
       "15    93.5557\n",
       "16    93.1814\n",
       "17     95.511\n",
       "18        100\n",
       "Name: c1, dtype: object"
      ]
     },
     "execution_count": 5,
     "metadata": {},
     "output_type": "execute_result"
    }
   ],
   "source": [
    "import pandas as pd\n",
    "import numpy as np\n",
    "xlsx = pd.read_csv('vrp_ekz_fact.csv')\n",
    "d = xlsx['o_ifo_agro_isatai']\n",
    "\n",
    "i=18\n",
    "c=100\n",
    "newdf = pd.DataFrame(columns=['c1'], index=range(19))\n",
    "while i>0:\n",
    "    c = (c/d[i]) * 100\n",
    "    i=i-1\n",
    "    newdf.loc[i].c1 = c\n",
    "LagrS=newdf['c1']\n",
    "LagrS[18]=100\n",
    "\n",
    "LagrS"
   ]
  },
  {
   "cell_type": "code",
   "execution_count": 6,
   "metadata": {},
   "outputs": [
    {
     "data": {
      "text/plain": [
       "0     61.6986\n",
       "1      61.822\n",
       "2     64.3567\n",
       "3     68.1537\n",
       "4     72.5837\n",
       "5     74.0354\n",
       "6     76.4785\n",
       "7     65.9245\n",
       "8     51.3552\n",
       "9     83.1954\n",
       "10    82.1971\n",
       "11    87.2933\n",
       "12    87.9916\n",
       "13    87.0237\n",
       "14    89.8085\n",
       "15    91.8741\n",
       "16    91.7822\n",
       "17     93.985\n",
       "18        100\n",
       "Name: c1, dtype: object"
      ]
     },
     "execution_count": 6,
     "metadata": {},
     "output_type": "execute_result"
    }
   ],
   "source": [
    "import pandas as pd\n",
    "import numpy as np\n",
    "xlsx = pd.read_csv('vrp_ekz_fact.csv')\n",
    "d = xlsx['o_ifo_agro_kurmangazy']\n",
    "\n",
    "i=18\n",
    "c=100\n",
    "newdf = pd.DataFrame(columns=['c1'], index=range(19))\n",
    "while i>0:\n",
    "    c = (c/d[i]) * 100\n",
    "    i=i-1\n",
    "    newdf.loc[i].c1 = c\n",
    "LagrS=newdf['c1']\n",
    "LagrS[18]=100\n",
    "\n",
    "LagrS"
   ]
  },
  {
   "cell_type": "code",
   "execution_count": 7,
   "metadata": {},
   "outputs": [
    {
     "data": {
      "text/plain": [
       "0     70.7218\n",
       "1     68.2465\n",
       "2      68.383\n",
       "3     69.6823\n",
       "4     74.0723\n",
       "5     75.1093\n",
       "6     76.6866\n",
       "7     80.2142\n",
       "8     91.4442\n",
       "9     69.8633\n",
       "10    71.5401\n",
       "11    90.4266\n",
       "12    94.0437\n",
       "13    95.2663\n",
       "14    96.5047\n",
       "15    96.7942\n",
       "16     94.084\n",
       "17    96.1538\n",
       "18        100\n",
       "Name: c1, dtype: object"
      ]
     },
     "execution_count": 7,
     "metadata": {},
     "output_type": "execute_result"
    }
   ],
   "source": [
    "import pandas as pd\n",
    "import numpy as np\n",
    "xlsx = pd.read_csv('vrp_ekz_fact.csv')\n",
    "d = xlsx['o_ifo_agro_kzylkoga']\n",
    "\n",
    "i=18\n",
    "c=100\n",
    "newdf = pd.DataFrame(columns=['c1'], index=range(19))\n",
    "while i>0:\n",
    "    c = (c/d[i]) * 100\n",
    "    i=i-1\n",
    "    newdf.loc[i].c1 = c\n",
    "LagrS=newdf['c1']\n",
    "LagrS[18]=100\n",
    "\n",
    "LagrS"
   ]
  },
  {
   "cell_type": "code",
   "execution_count": 8,
   "metadata": {},
   "outputs": [
    {
     "data": {
      "text/plain": [
       "0     70.8794\n",
       "1     68.9656\n",
       "2     69.7243\n",
       "3     71.6765\n",
       "4     76.4789\n",
       "5     77.2437\n",
       "6     79.1748\n",
       "7     109.499\n",
       "8      109.28\n",
       "9     67.5348\n",
       "10     66.792\n",
       "11    72.5361\n",
       "12    60.7127\n",
       "13    45.9595\n",
       "14    88.4261\n",
       "15    90.5483\n",
       "16    99.4221\n",
       "17    98.3284\n",
       "18        100\n",
       "Name: c1, dtype: object"
      ]
     },
     "execution_count": 8,
     "metadata": {},
     "output_type": "execute_result"
    }
   ],
   "source": [
    "import pandas as pd\n",
    "import numpy as np\n",
    "xlsx = pd.read_csv('vrp_ekz_fact.csv')\n",
    "d = xlsx['o_ifo_agro_makat']\n",
    "\n",
    "i=18\n",
    "c=100\n",
    "newdf = pd.DataFrame(columns=['c1'], index=range(19))\n",
    "while i>0:\n",
    "    c = (c/d[i]) * 100\n",
    "    i=i-1\n",
    "    newdf.loc[i].c1 = c\n",
    "LagrS=newdf['c1']\n",
    "LagrS[18]=100\n",
    "\n",
    "LagrS"
   ]
  },
  {
   "cell_type": "code",
   "execution_count": 9,
   "metadata": {},
   "outputs": [
    {
     "data": {
      "text/plain": [
       "0     48.9459\n",
       "1     46.8902\n",
       "2     46.6557\n",
       "3     47.2156\n",
       "4      49.718\n",
       "5     52.2039\n",
       "6     55.7538\n",
       "7     55.3078\n",
       "8     61.7788\n",
       "9     59.6783\n",
       "10    59.3202\n",
       "11    71.0063\n",
       "12    77.8939\n",
       "13    73.0645\n",
       "14    70.7264\n",
       "15    76.8796\n",
       "16    90.1029\n",
       "17     94.518\n",
       "18        100\n",
       "Name: c1, dtype: object"
      ]
     },
     "execution_count": 9,
     "metadata": {},
     "output_type": "execute_result"
    }
   ],
   "source": [
    "import pandas as pd\n",
    "import numpy as np\n",
    "xlsx = pd.read_csv('vrp_ekz_fact.csv')\n",
    "d = xlsx['o_ifo_agro_makhambet']\n",
    "\n",
    "i=18\n",
    "c=100\n",
    "newdf = pd.DataFrame(columns=['c1'], index=range(19))\n",
    "while i>0:\n",
    "    c = (c/d[i]) * 100\n",
    "    i=i-1\n",
    "    newdf.loc[i].c1 = c\n",
    "LagrS=newdf['c1']\n",
    "LagrS[18]=100\n",
    "\n",
    "LagrS"
   ]
  },
  {
   "cell_type": "code",
   "execution_count": null,
   "metadata": {},
   "outputs": [],
   "source": []
  },
  {
   "cell_type": "code",
   "execution_count": null,
   "metadata": {},
   "outputs": [],
   "source": []
  }
 ],
 "metadata": {
  "kernelspec": {
   "display_name": "Python 3",
   "language": "python",
   "name": "python3"
  },
  "language_info": {
   "codemirror_mode": {
    "name": "ipython",
    "version": 3
   },
   "file_extension": ".py",
   "mimetype": "text/x-python",
   "name": "python",
   "nbconvert_exporter": "python",
   "pygments_lexer": "ipython3",
   "version": "3.7.6"
  }
 },
 "nbformat": 4,
 "nbformat_minor": 4
}
