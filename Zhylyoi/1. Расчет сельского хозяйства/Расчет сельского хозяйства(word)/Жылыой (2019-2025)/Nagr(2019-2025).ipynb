{
 "cells": [
  {
   "cell_type": "code",
   "execution_count": 9,
   "metadata": {},
   "outputs": [
    {
     "data": {
      "text/plain": [
       "0     112.542979\n",
       "1     112.542979\n",
       "2     112.542979\n",
       "3     110.452483\n",
       "4     110.452483\n",
       "5     110.452483\n",
       "6     110.452483\n",
       "7     112.542979\n",
       "8     111.748591\n",
       "9     111.748591\n",
       "10    109.658094\n",
       "11    109.658094\n",
       "12    109.658094\n",
       "13    109.658094\n",
       "14    115.762344\n",
       "15    115.762344\n",
       "16    113.671848\n",
       "17    113.671848\n",
       "18    113.671848\n",
       "19    113.671848\n",
       "20    112.542979\n",
       "Name: o_inflation, dtype: float64"
      ]
     },
     "execution_count": 9,
     "metadata": {},
     "output_type": "execute_result"
    }
   ],
   "source": [
    "import pandas as pd\n",
    "import numpy as np\n",
    "csv_file = pd.read_csv('vrp_ekz_prog.csv')\n",
    "inf=csv_file['o_inflation']\n",
    "\n",
    "Dagr= inf * 2.0904965738313215 + 100\n",
    "\n",
    "Dagr"
   ]
  },
  {
   "cell_type": "code",
   "execution_count": 10,
   "metadata": {},
   "outputs": [
    {
     "data": {
      "text/plain": [
       "0     103.351953\n",
       "1     103.619224\n",
       "2     103.673636\n",
       "3     103.863844\n",
       "4     104.112805\n",
       "5     104.400781\n",
       "6     104.730073\n",
       "7      80.178169\n",
       "8     103.619224\n",
       "9     103.673636\n",
       "10    103.863844\n",
       "11    104.112805\n",
       "12    104.400781\n",
       "13    104.730073\n",
       "14     82.718009\n",
       "15    103.673636\n",
       "16    103.863844\n",
       "17    104.112805\n",
       "18    104.400781\n",
       "19    104.730073\n",
       "20     80.178169\n",
       "Name: c1, dtype: float64"
      ]
     },
     "execution_count": 10,
     "metadata": {},
     "output_type": "execute_result"
    }
   ],
   "source": [
    "import pandas as pd\n",
    "csv = pd.read_csv('lagrt(2019-2025).csv')\n",
    "lagrt=csv['c1']\n",
    "lagrt"
   ]
  },
  {
   "cell_type": "code",
   "execution_count": 11,
   "metadata": {},
   "outputs": [
    {
     "data": {
      "text/plain": [
       "0     6934.72\n",
       "1     8087.01\n",
       "2     9435.71\n",
       "3     10824.7\n",
       "4     12447.8\n",
       "5       14354\n",
       "6     16604.3\n",
       "7     14982.9\n",
       "8     17349.1\n",
       "9     20099.6\n",
       "10    22892.5\n",
       "11    26135.9\n",
       "12    29921.4\n",
       "13    34363.2\n",
       "14      32905\n",
       "15    39490.9\n",
       "16    46624.5\n",
       "17    55178.7\n",
       "18    65482.9\n",
       "19    77956.5\n",
       "20      70344\n",
       "Name: c1, dtype: object"
      ]
     },
     "execution_count": 11,
     "metadata": {},
     "output_type": "execute_result"
    }
   ],
   "source": [
    "c=5962\n",
    "i=0\n",
    "\n",
    "newdf = pd.DataFrame(columns=['c1'], index=range(21))\n",
    "\n",
    "while i<=20:\n",
    "    c = c*lagrt[i]*Dagr[i]/10000\n",
    "    newdf.loc[i].c1 = c    \n",
    "    i=i+1\n",
    "\n",
    "Nagr=newdf['c1']\n",
    "\n",
    "Nagr"
   ]
  },
  {
   "cell_type": "code",
   "execution_count": 12,
   "metadata": {},
   "outputs": [],
   "source": [
    "Nagr.to_csv (r'Nagr(2019-2025).csv', index = False)\n"
   ]
  },
  {
   "cell_type": "code",
   "execution_count": null,
   "metadata": {},
   "outputs": [],
   "source": []
  }
 ],
 "metadata": {
  "kernelspec": {
   "display_name": "Python 3",
   "language": "python",
   "name": "python3"
  },
  "language_info": {
   "codemirror_mode": {
    "name": "ipython",
    "version": 3
   },
   "file_extension": ".py",
   "mimetype": "text/x-python",
   "name": "python",
   "nbconvert_exporter": "python",
   "pygments_lexer": "ipython3",
   "version": "3.7.6"
  }
 },
 "nbformat": 4,
 "nbformat_minor": 4
}
