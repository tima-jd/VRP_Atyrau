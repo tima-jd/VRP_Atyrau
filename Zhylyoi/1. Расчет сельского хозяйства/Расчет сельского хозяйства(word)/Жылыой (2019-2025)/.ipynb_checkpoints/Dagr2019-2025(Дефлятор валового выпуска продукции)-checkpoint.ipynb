{
 "cells": [
  {
   "cell_type": "code",
   "execution_count": 4,
   "metadata": {},
   "outputs": [
    {
     "data": {
      "text/plain": [
       "0     112.542979\n",
       "1     112.542979\n",
       "2     112.542979\n",
       "3     110.452483\n",
       "4     110.452483\n",
       "5     110.452483\n",
       "6     110.452483\n",
       "7     112.542979\n",
       "8     111.748591\n",
       "9     111.748591\n",
       "10    109.658094\n",
       "11    109.658094\n",
       "12    109.658094\n",
       "13    109.658094\n",
       "14    115.762344\n",
       "15    115.762344\n",
       "16    113.671848\n",
       "17    113.671848\n",
       "18    113.671848\n",
       "19    113.671848\n",
       "20    112.542979\n",
       "Name: o_inflation, dtype: float64"
      ]
     },
     "execution_count": 4,
     "metadata": {},
     "output_type": "execute_result"
    }
   ],
   "source": [
    "import pandas as pd\n",
    "import numpy as np\n",
    "csv_file = pd.read_csv('vrp_ekz_prog.csv')\n",
    "inf=csv_file['o_inflation']\n",
    "\n",
    "Dagr= inf * 2.0904965738313215 + 100\n",
    "\n",
    "Dagr"
   ]
  },
  {
   "cell_type": "code",
   "execution_count": null,
   "metadata": {},
   "outputs": [],
   "source": []
  },
  {
   "cell_type": "code",
   "execution_count": null,
   "metadata": {},
   "outputs": [],
   "source": []
  }
 ],
 "metadata": {
  "kernelspec": {
   "display_name": "Python 3",
   "language": "python",
   "name": "python3"
  },
  "language_info": {
   "codemirror_mode": {
    "name": "ipython",
    "version": 3
   },
   "file_extension": ".py",
   "mimetype": "text/x-python",
   "name": "python",
   "nbconvert_exporter": "python",
   "pygments_lexer": "ipython3",
   "version": "3.7.6"
  }
 },
 "nbformat": 4,
 "nbformat_minor": 4
}
