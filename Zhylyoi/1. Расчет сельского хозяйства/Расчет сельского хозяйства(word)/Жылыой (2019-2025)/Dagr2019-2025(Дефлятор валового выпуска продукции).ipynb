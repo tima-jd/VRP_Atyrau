{
 "cells": [
  {
   "cell_type": "code",
   "execution_count": 30,
   "metadata": {},
   "outputs": [
    {
     "data": {
      "text/plain": [
       "0            NaN\n",
       "1     117.410193\n",
       "2     117.441914\n",
       "3     117.403321\n",
       "4     107.898682\n",
       "5     137.268449\n",
       "6     117.428276\n",
       "7     118.262991\n",
       "8     111.438625\n",
       "9     105.852191\n",
       "10    108.515227\n",
       "11    121.970119\n",
       "12    126.170015\n",
       "13    122.545311\n",
       "14    153.747164\n",
       "15     68.461843\n",
       "16    104.896746\n",
       "17     96.587318\n",
       "18    105.989474\n",
       "dtype: float64"
      ]
     },
     "execution_count": 30,
     "metadata": {},
     "output_type": "execute_result"
    }
   ],
   "source": [
    "from scipy.stats.mstats import gmean\n",
    "import pandas as pd\n",
    "import numpy as np\n",
    "csv_file = pd.read_csv('vrp_ekz_fact.csv')\n",
    "c = pd.read_csv('vrp_ekz_prog.csv')\n",
    "y = c['o_year']\n",
    "\n",
    "lagr = csv_file['o_ifo_agro_zhylyoi']\n",
    "Nagr= csv_file['o_prod_agro_zhylyoi']\n",
    "inf = c['o_inflation']\n",
    "\n",
    "Dagr = (Nagr/Nagr.shift(1)/lagr)*10000\n",
    "Dagr"
   ]
  },
  {
   "cell_type": "code",
   "execution_count": 31,
   "metadata": {},
   "outputs": [
    {
     "data": {
      "text/plain": [
       "(0     6.00\n",
       " 1     6.00\n",
       " 2     6.00\n",
       " 3     5.00\n",
       " 4     5.00\n",
       " 5     5.00\n",
       " 6     5.00\n",
       " 7     6.00\n",
       " 8     5.62\n",
       " 9     5.62\n",
       " 10    4.62\n",
       " 11    4.62\n",
       " 12    4.62\n",
       " 13    4.62\n",
       " 14    7.54\n",
       " 15    7.54\n",
       " 16    6.54\n",
       " 17    6.54\n",
       " 18    6.54\n",
       " 19    6.54\n",
       " 20    6.00\n",
       " Name: o_inflation, dtype: float64,\n",
       " 0     2019\n",
       " 1     2020\n",
       " 2     2021\n",
       " 3     2022\n",
       " 4     2023\n",
       " 5     2024\n",
       " 6     2025\n",
       " 7     2019\n",
       " 8     2020\n",
       " 9     2021\n",
       " 10    2022\n",
       " 11    2023\n",
       " 12    2024\n",
       " 13    2025\n",
       " 14    2020\n",
       " 15    2021\n",
       " 16    2022\n",
       " 17    2023\n",
       " 18    2024\n",
       " 19    2025\n",
       " 20    2019\n",
       " Name: o_year, dtype: int64)"
      ]
     },
     "execution_count": 31,
     "metadata": {},
     "output_type": "execute_result"
    }
   ],
   "source": [
    "Dag= (inf * (gmean(Dagr[1:])))/(gmean(inf[1:]+100)) + 100\n",
    "\n",
    "inf,y"
   ]
  },
  {
   "cell_type": "code",
   "execution_count": null,
   "metadata": {},
   "outputs": [],
   "source": []
  },
  {
   "cell_type": "code",
   "execution_count": null,
   "metadata": {},
   "outputs": [],
   "source": []
  }
 ],
 "metadata": {
  "kernelspec": {
   "display_name": "Python 3",
   "language": "python",
   "name": "python3"
  },
  "language_info": {
   "codemirror_mode": {
    "name": "ipython",
    "version": 3
   },
   "file_extension": ".py",
   "mimetype": "text/x-python",
   "name": "python",
   "nbconvert_exporter": "python",
   "pygments_lexer": "ipython3",
   "version": "3.7.6"
  }
 },
 "nbformat": 4,
 "nbformat_minor": 4
}
