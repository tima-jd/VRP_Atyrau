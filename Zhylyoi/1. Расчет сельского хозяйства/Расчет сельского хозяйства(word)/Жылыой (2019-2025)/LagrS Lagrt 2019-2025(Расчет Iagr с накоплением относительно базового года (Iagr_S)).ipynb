{
 "cells": [
  {
   "cell_type": "code",
   "execution_count": 2,
   "metadata": {},
   "outputs": [
    {
     "data": {
      "text/plain": [
       "0     105.218669\n",
       "1     105.469316\n",
       "2     105.719498\n",
       "3     106.015634\n",
       "4     106.403242\n",
       "5     106.851593\n",
       "6     107.364270\n",
       "7      69.303191\n",
       "8     105.469316\n",
       "9     105.719498\n",
       "10    106.015634\n",
       "11    106.403242\n",
       "12    106.851593\n",
       "13    107.364270\n",
       "14     73.093601\n",
       "15    105.719498\n",
       "16    106.015634\n",
       "17    106.403242\n",
       "18    106.851593\n",
       "19    107.364270\n",
       "20     69.303191\n",
       "dtype: float64"
      ]
     },
     "execution_count": 2,
     "metadata": {},
     "output_type": "execute_result"
    }
   ],
   "source": [
    "import pandas as pd\n",
    "import numpy as np\n",
    "xlsx = pd.read_csv('vrp_ekz_prog.csv')\n",
    "l = xlsx['o_year']\n",
    "l = ((xlsx['o_cattle_zhylyoi'] * xlsx['o_weight_cattle']).shift(1) + (xlsx['o_goats_zhylyoi'] * xlsx['o_weight_goats']).shift(1) + (xlsx['o_horses_zhylyoi']* xlsx['o_weight_horses']).shift(1) + (xlsx['o_poultry_zhylyoi'] * xlsx['o_weight_poultry']).shift(1))\n",
    "l[0]= 10300.48\n",
    "Ganm = ((xlsx['o_cattle_zhylyoi'] * xlsx['o_weight_cattle']) + (xlsx['o_goats_zhylyoi'] * xlsx['o_weight_goats']) + (xlsx['o_horses_zhylyoi']* xlsx['o_weight_horses']) + (xlsx['o_poultry_zhylyoi'] * xlsx['o_weight_poultry']))/ l*100\n",
    "Ganm"
   ]
  },
  {
   "cell_type": "code",
   "execution_count": 3,
   "metadata": {},
   "outputs": [
    {
     "data": {
      "text/plain": [
       "0     100.000000\n",
       "1     100.970874\n",
       "2     100.000000\n",
       "3     100.000000\n",
       "4     100.000000\n",
       "5     100.000000\n",
       "6     100.000000\n",
       "7      99.038462\n",
       "8     100.970874\n",
       "9     100.000000\n",
       "10    100.000000\n",
       "11    100.000000\n",
       "12    100.000000\n",
       "13    100.000000\n",
       "14    100.000000\n",
       "15    100.000000\n",
       "16    100.000000\n",
       "17    100.000000\n",
       "18    100.000000\n",
       "19    100.000000\n",
       "20     99.038462\n",
       "dtype: float64"
      ]
     },
     "execution_count": 3,
     "metadata": {},
     "output_type": "execute_result"
    }
   ],
   "source": [
    "import pandas as pd\n",
    "import numpy as np\n",
    "xlsx = pd.read_csv('vrp_ekz_prog.csv')\n",
    "\n",
    "l = (xlsx['o_potato_zhylyoi'].shift(1) + xlsx['o_grain_zhylyoi'].shift(1) + xlsx['o_vegetables_zhylyoi'].shift(1))\n",
    "l[0]= 1.03\n",
    "Gplg = (xlsx['o_potato_zhylyoi'] + xlsx['o_grain_zhylyoi'] + xlsx['o_vegetables_zhylyoi'])/l*100\n",
    "Gplg"
   ]
  },
  {
   "cell_type": "code",
   "execution_count": 4,
   "metadata": {},
   "outputs": [
    {
     "data": {
      "text/plain": [
       "0     103.352\n",
       "1     107.092\n",
       "2     111.027\n",
       "3     115.317\n",
       "4     120.059\n",
       "5     125.343\n",
       "6     131.272\n",
       "7     105.251\n",
       "8     109.061\n",
       "9     113.067\n",
       "10    117.436\n",
       "11    122.266\n",
       "12    127.646\n",
       "13    133.684\n",
       "14    110.581\n",
       "15    114.643\n",
       "16    119.073\n",
       "17     123.97\n",
       "18    129.426\n",
       "19    135.548\n",
       "20     108.68\n",
       "Name: c1, dtype: object"
      ]
     },
     "execution_count": 4,
     "metadata": {},
     "output_type": "execute_result"
    }
   ],
   "source": [
    "i=0\n",
    "c=100\n",
    "\n",
    "newdf = pd.DataFrame(columns=['c1'], index=range(21))\n",
    "while i<=20:\n",
    "    c = (c*((((Gplg[i]-100) * 0.1094682652007773) + ((Ganm[i]-100) * 0.642300399020619)) + 100)) /100\n",
    "    newdf.loc[i].c1 = c\n",
    "    i=i+1\n",
    "lagrS=newdf['c1']\n",
    "\n",
    "lagrS"
   ]
  },
  {
   "cell_type": "code",
   "execution_count": 5,
   "metadata": {},
   "outputs": [
    {
     "data": {
      "text/plain": [
       "0     103.352\n",
       "1     103.619\n",
       "2     103.674\n",
       "3     103.864\n",
       "4     104.113\n",
       "5     104.401\n",
       "6      104.73\n",
       "7     80.1782\n",
       "8     103.619\n",
       "9     103.674\n",
       "10    103.864\n",
       "11    104.113\n",
       "12    104.401\n",
       "13     104.73\n",
       "14     82.718\n",
       "15    103.674\n",
       "16    103.864\n",
       "17    104.113\n",
       "18    104.401\n",
       "19     104.73\n",
       "20    80.1782\n",
       "Name: c1, dtype: object"
      ]
     },
     "execution_count": 5,
     "metadata": {},
     "output_type": "execute_result"
    }
   ],
   "source": [
    "w=lagrS.shift(1)\n",
    "w[0]=100\n",
    "lagrt = lagrS/w*100\n",
    "lagrt"
   ]
  },
  {
   "cell_type": "code",
   "execution_count": 6,
   "metadata": {},
   "outputs": [],
   "source": [
    "lagrt.to_csv (r'lagrt(2019-2025).csv', index = False)"
   ]
  },
  {
   "cell_type": "code",
   "execution_count": null,
   "metadata": {},
   "outputs": [],
   "source": []
  }
 ],
 "metadata": {
  "kernelspec": {
   "display_name": "Python 3",
   "language": "python",
   "name": "python3"
  },
  "language_info": {
   "codemirror_mode": {
    "name": "ipython",
    "version": 3
   },
   "file_extension": ".py",
   "mimetype": "text/x-python",
   "name": "python",
   "nbconvert_exporter": "python",
   "pygments_lexer": "ipython3",
   "version": "3.7.6"
  }
 },
 "nbformat": 4,
 "nbformat_minor": 4
}
