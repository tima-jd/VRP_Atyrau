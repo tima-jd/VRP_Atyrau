{
 "cells": [
  {
   "cell_type": "code",
   "execution_count": 9,
   "metadata": {},
   "outputs": [
    {
     "data": {
      "text/plain": [
       "0            NaN\n",
       "1     105.467153\n",
       "2     110.021214\n",
       "3     107.974225\n",
       "4     117.197143\n",
       "5     108.002633\n",
       "6     104.367581\n",
       "7     108.283635\n",
       "8     107.066145\n",
       "9     107.726766\n",
       "10    104.276676\n",
       "11    102.250694\n",
       "12     86.633539\n",
       "13     98.940487\n",
       "14    102.726238\n",
       "15     98.752845\n",
       "16    105.936192\n",
       "17     99.926061\n",
       "18    104.406774\n",
       "dtype: float64"
      ]
     },
     "execution_count": 9,
     "metadata": {},
     "output_type": "execute_result"
    }
   ],
   "source": [
    "import pandas as pd\n",
    "import numpy as np\n",
    "xlsx = pd.read_csv('vrp_ekz_fact.csv')\n",
    "l = xlsx['o_year']\n",
    "Ganm = ((xlsx['o_cattle_zhylyoi'] * xlsx['o_weight_cattle']) + (xlsx['o_goats_zhylyoi'] * xlsx['o_weight_goats']) + (xlsx['o_horses_zhylyoi']* xlsx['o_weight_horses']) + (xlsx['o_poultry_zhylyoi'] * xlsx['o_weight_poultry']))/((xlsx['o_cattle_zhylyoi'] * xlsx['o_weight_cattle']).shift(1) + (xlsx['o_goats_zhylyoi'] * xlsx['o_weight_goats']).shift(1) + (xlsx['o_horses_zhylyoi']* xlsx['o_weight_horses']).shift(1) + (xlsx['o_poultry_zhylyoi'] * xlsx['o_weight_poultry']).shift(1)) * 100\n",
    "Ganm"
   ]
  },
  {
   "cell_type": "code",
   "execution_count": 5,
   "metadata": {},
   "outputs": [
    {
     "data": {
      "text/plain": [
       "0      72.411000\n",
       "1     105.469316\n",
       "2     105.719498\n",
       "3     106.015634\n",
       "4     106.403242\n",
       "5     106.851593\n",
       "6     107.364270\n",
       "7      69.303191\n",
       "8     105.469316\n",
       "9     105.719498\n",
       "10    106.015634\n",
       "11    106.403242\n",
       "12    106.851593\n",
       "13    107.364270\n",
       "14     73.093601\n",
       "15    105.719498\n",
       "16    106.015634\n",
       "17    106.403242\n",
       "18    106.851593\n",
       "19    107.364270\n",
       "20     69.303191\n",
       "dtype: float64"
      ]
     },
     "execution_count": 5,
     "metadata": {},
     "output_type": "execute_result"
    }
   ],
   "source": [
    "import pandas as pd\n",
    "import numpy as np\n",
    "xlsx = pd.read_csv('vrp_ekz_prog.csv')\n",
    "l = xlsx['o_year']\n",
    "Ganm = ((xlsx['o_cattle_zhylyoi'] * xlsx['o_weight_cattle']) + (xlsx['o_goats_zhylyoi'] * xlsx['o_weight_goats']) + (xlsx['o_horses_zhylyoi']* xlsx['o_weight_horses']) + (xlsx['o_poultry_zhylyoi'] * xlsx['o_weight_poultry']))/((xlsx['o_cattle_zhylyoi'] * xlsx['o_weight_cattle']).shift(1) + (xlsx['o_goats_zhylyoi'] * xlsx['o_weight_goats']).shift(1) + (xlsx['o_horses_zhylyoi']* xlsx['o_weight_horses']).shift(1) + (xlsx['o_poultry_zhylyoi'] * xlsx['o_weight_poultry']).shift(1)) * 100\n",
    "Ganm.iloc[0]=72.411\n",
    "Ganm"
   ]
  },
  {
   "cell_type": "code",
   "execution_count": null,
   "metadata": {},
   "outputs": [],
   "source": []
  }
 ],
 "metadata": {
  "kernelspec": {
   "display_name": "Python 3",
   "language": "python",
   "name": "python3"
  },
  "language_info": {
   "codemirror_mode": {
    "name": "ipython",
    "version": 3
   },
   "file_extension": ".py",
   "mimetype": "text/x-python",
   "name": "python",
   "nbconvert_exporter": "python",
   "pygments_lexer": "ipython3",
   "version": "3.7.6"
  }
 },
 "nbformat": 4,
 "nbformat_minor": 4
}
