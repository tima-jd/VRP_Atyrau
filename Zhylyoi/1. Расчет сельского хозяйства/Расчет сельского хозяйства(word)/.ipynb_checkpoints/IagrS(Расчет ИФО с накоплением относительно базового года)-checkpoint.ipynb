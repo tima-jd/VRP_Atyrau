{
 "cells": [
  {
   "cell_type": "code",
   "execution_count": 1,
   "metadata": {},
   "outputs": [
    {
     "data": {
      "text/plain": [
       "(0     100.100100\n",
       " 1     106.269926\n",
       " 2      97.522918\n",
       " 3      88.762649\n",
       " 4      94.197438\n",
       " 5      97.694412\n",
       " 6      96.153846\n",
       " 7      93.896714\n",
       " 8      94.786730\n",
       " 9     104.058273\n",
       " 10     99.304866\n",
       " 11     92.506938\n",
       " 12     95.147479\n",
       " 13    100.401606\n",
       " 14     99.601594\n",
       " 15     95.510984\n",
       " 16     96.153846\n",
       " 17     97.656250\n",
       " 18     95.693780\n",
       " Name: o_ifo_agro, dtype: float64,\n",
       " 0     2000\n",
       " 1     2001\n",
       " 2     2002\n",
       " 3     2003\n",
       " 4     2004\n",
       " 5     2005\n",
       " 6     2006\n",
       " 7     2007\n",
       " 8     2008\n",
       " 9     2009\n",
       " 10    2010\n",
       " 11    2011\n",
       " 12    2012\n",
       " 13    2013\n",
       " 14    2014\n",
       " 15    2015\n",
       " 16    2016\n",
       " 17    2017\n",
       " 18    2018\n",
       " Name: o_year, dtype: int64)"
      ]
     },
     "execution_count": 1,
     "metadata": {},
     "output_type": "execute_result"
    }
   ],
   "source": [
    "import pandas as pd\n",
    "import numpy as np\n",
    "xlsx = pd.read_csv('vrp_ekz_fact.csv')\n",
    "l = xlsx['o_year']\n",
    "d = xlsx['o_ifo_agro']\n",
    "IagrS = (100/d) * 100\n",
    "IagrS,l"
   ]
  },
  {
   "cell_type": "code",
   "execution_count": 10,
   "metadata": {},
   "outputs": [
    {
     "data": {
      "text/plain": [
       "0     100.908174\n",
       "1     105.485232\n",
       "2     101.522843\n",
       "3      99.800399\n",
       "4      96.061479\n",
       "5      93.632959\n",
       "6      87.183958\n",
       "7      73.206442\n",
       "8     100.908174\n",
       "9     118.063754\n",
       "10    101.317123\n",
       "11     97.276265\n",
       "12     88.731145\n",
       "13    100.908174\n",
       "14    118.203310\n",
       "15     90.090090\n",
       "16     88.731145\n",
       "17     99.601594\n",
       "18     99.304866\n",
       "Name: o_ifo_agro_atyrau, dtype: float64"
      ]
     },
     "execution_count": 10,
     "metadata": {},
     "output_type": "execute_result"
    }
   ],
   "source": [
    "import pandas as pd\n",
    "import numpy as np\n",
    "xlsx = pd.read_csv('vrp_ekz_fact.csv')\n",
    "d = xlsx['o_ifo_agro_atyrau']\n",
    "IagrS = (100/d) * 100\n",
    "IagrS"
   ]
  },
  {
   "cell_type": "code",
   "execution_count": 11,
   "metadata": {},
   "outputs": [
    {
     "data": {
      "text/plain": [
       "0     101.832994\n",
       "1     106.382979\n",
       "2     102.459016\n",
       "3     100.704935\n",
       "4      93.632959\n",
       "5      99.009901\n",
       "6      98.135427\n",
       "7      79.428118\n",
       "8      77.101002\n",
       "9     135.317997\n",
       "10     95.510984\n",
       "11     96.525097\n",
       "12    101.729400\n",
       "13    100.300903\n",
       "14     93.370682\n",
       "15    100.100100\n",
       "16    102.040816\n",
       "17    101.010101\n",
       "18     91.157703\n",
       "Name: o_ifo_agro_zhylyoi, dtype: float64"
      ]
     },
     "execution_count": 11,
     "metadata": {},
     "output_type": "execute_result"
    }
   ],
   "source": [
    "import pandas as pd\n",
    "import numpy as np\n",
    "xlsx = pd.read_csv('vrp_ekz_fact.csv')\n",
    "d = xlsx['o_ifo_agro_zhylyoi']\n",
    "IagrS = (100/d) * 100\n",
    "IagrS"
   ]
  },
  {
   "cell_type": "code",
   "execution_count": 12,
   "metadata": {},
   "outputs": [
    {
     "data": {
      "text/plain": [
       "0      96.618357\n",
       "1     100.908174\n",
       "2      97.181730\n",
       "3      95.510984\n",
       "4      94.073377\n",
       "5      98.135427\n",
       "6      97.943193\n",
       "7      93.023256\n",
       "8      95.328885\n",
       "9      99.206349\n",
       "10     98.135427\n",
       "11     94.607379\n",
       "12     96.432015\n",
       "13     97.751711\n",
       "14     90.991811\n",
       "15     96.246391\n",
       "16     95.238095\n",
       "17     95.510984\n",
       "18     96.805421\n",
       "Name: o_ifo_agro_inder, dtype: float64"
      ]
     },
     "execution_count": 12,
     "metadata": {},
     "output_type": "execute_result"
    }
   ],
   "source": [
    "import pandas as pd\n",
    "import numpy as np\n",
    "xlsx = pd.read_csv('vrp_ekz_fact.csv')\n",
    "d = xlsx['o_ifo_agro_inder']\n",
    "IagrS = (100/d) * 100\n",
    "IagrS"
   ]
  },
  {
   "cell_type": "code",
   "execution_count": 13,
   "metadata": {},
   "outputs": [
    {
     "data": {
      "text/plain": [
       "0      95.785441\n",
       "1     100.000000\n",
       "2      96.339114\n",
       "3      94.696970\n",
       "4      93.283582\n",
       "5     100.502513\n",
       "6     101.010101\n",
       "7      91.575092\n",
       "8      83.963056\n",
       "9     101.419878\n",
       "10    100.603622\n",
       "11     94.161959\n",
       "12     96.246391\n",
       "13     94.696970\n",
       "14    100.100100\n",
       "15     98.328417\n",
       "16    100.401606\n",
       "17     97.560976\n",
       "18     95.510984\n",
       "Name: o_ifo_agro_isatai, dtype: float64"
      ]
     },
     "execution_count": 13,
     "metadata": {},
     "output_type": "execute_result"
    }
   ],
   "source": [
    "import pandas as pd\n",
    "import numpy as np\n",
    "xlsx = pd.read_csv('vrp_ekz_fact.csv')\n",
    "d = xlsx['o_ifo_agro_isatai']\n",
    "IagrS = (100/d) * 100\n",
    "IagrS"
   ]
  },
  {
   "cell_type": "code",
   "execution_count": 14,
   "metadata": {},
   "outputs": [
    {
     "data": {
      "text/plain": [
       "0      99.009901\n",
       "1      99.800399\n",
       "2      96.061479\n",
       "3      94.428706\n",
       "4      93.896714\n",
       "5      98.039216\n",
       "6      96.805421\n",
       "7     116.009281\n",
       "8     128.369705\n",
       "9      61.728395\n",
       "10    101.214575\n",
       "11     94.161959\n",
       "12     99.206349\n",
       "13    101.112235\n",
       "14     96.899225\n",
       "15     97.751711\n",
       "16    100.100100\n",
       "17     97.656250\n",
       "18     93.984962\n",
       "Name: o_ifo_agro_kurmangazy, dtype: float64"
      ]
     },
     "execution_count": 14,
     "metadata": {},
     "output_type": "execute_result"
    }
   ],
   "source": [
    "import pandas as pd\n",
    "import numpy as np\n",
    "xlsx = pd.read_csv('vrp_ekz_fact.csv')\n",
    "d = xlsx['o_ifo_agro_kurmangazy']\n",
    "IagrS = (100/d) * 100\n",
    "IagrS"
   ]
  },
  {
   "cell_type": "code",
   "execution_count": 15,
   "metadata": {},
   "outputs": [
    {
     "data": {
      "text/plain": [
       "0      99.206349\n",
       "1     103.626943\n",
       "2      99.800399\n",
       "3      98.135427\n",
       "4      94.073377\n",
       "5      98.619329\n",
       "6      97.943193\n",
       "7      95.602294\n",
       "8      87.719298\n",
       "9     130.890052\n",
       "10     97.656250\n",
       "11     79.113924\n",
       "12     96.153846\n",
       "13     98.716683\n",
       "14     98.716683\n",
       "15     99.700897\n",
       "16    102.880658\n",
       "17     97.847358\n",
       "18     96.153846\n",
       "Name: o_ifo_agro_kzylkoga, dtype: float64"
      ]
     },
     "execution_count": 15,
     "metadata": {},
     "output_type": "execute_result"
    }
   ],
   "source": [
    "import pandas as pd\n",
    "import numpy as np\n",
    "xlsx = pd.read_csv('vrp_ekz_fact.csv')\n",
    "d = xlsx['o_ifo_agro_kzylkoga']\n",
    "IagrS = (100/d) * 100\n",
    "IagrS"
   ]
  },
  {
   "cell_type": "code",
   "execution_count": 16,
   "metadata": {},
   "outputs": [
    {
     "data": {
      "text/plain": [
       "0      98.328417\n",
       "1     102.774923\n",
       "2      98.911968\n",
       "3      97.276265\n",
       "4      93.720712\n",
       "5      99.009901\n",
       "6      97.560976\n",
       "7      72.306580\n",
       "8     100.200401\n",
       "9     161.812298\n",
       "10    101.112235\n",
       "11     92.081031\n",
       "12    119.474313\n",
       "13    132.100396\n",
       "14     51.975052\n",
       "15     97.656250\n",
       "16     91.074681\n",
       "17    101.112235\n",
       "18     98.328417\n",
       "Name: o_ifo_agro_makat, dtype: float64"
      ]
     },
     "execution_count": 16,
     "metadata": {},
     "output_type": "execute_result"
    }
   ],
   "source": [
    "import pandas as pd\n",
    "import numpy as np\n",
    "xlsx = pd.read_csv('vrp_ekz_fact.csv')\n",
    "d = xlsx['o_ifo_agro_makat']\n",
    "IagrS = (100/d) * 100\n",
    "IagrS"
   ]
  },
  {
   "cell_type": "code",
   "execution_count": 2,
   "metadata": {},
   "outputs": [
    {
     "data": {
      "text/plain": [
       "0      99.900100\n",
       "1     104.384134\n",
       "2     100.502513\n",
       "3      98.814229\n",
       "4      94.966762\n",
       "5      95.238095\n",
       "6      93.632959\n",
       "7     100.806452\n",
       "8      89.525515\n",
       "9     103.519669\n",
       "10    100.603622\n",
       "11     83.542189\n",
       "12     91.157703\n",
       "13    106.609808\n",
       "14    103.305785\n",
       "15     91.996320\n",
       "16     85.324232\n",
       "17     95.328885\n",
       "18     94.517958\n",
       "Name: o_ifo_agro_makhambet, dtype: float64"
      ]
     },
     "execution_count": 2,
     "metadata": {},
     "output_type": "execute_result"
    }
   ],
   "source": [
    "import pandas as pd\n",
    "import numpy as np\n",
    "xlsx = pd.read_csv('vrp_ekz_fact.csv')\n",
    "d = xlsx['o_ifo_agro_makhambet']\n",
    "IagrS = (100/d) * 100\n",
    "IagrS"
   ]
  },
  {
   "cell_type": "code",
   "execution_count": null,
   "metadata": {},
   "outputs": [],
   "source": []
  },
  {
   "cell_type": "code",
   "execution_count": null,
   "metadata": {},
   "outputs": [],
   "source": []
  }
 ],
 "metadata": {
  "kernelspec": {
   "display_name": "Python 3",
   "language": "python",
   "name": "python3"
  },
  "language_info": {
   "codemirror_mode": {
    "name": "ipython",
    "version": 3
   },
   "file_extension": ".py",
   "mimetype": "text/x-python",
   "name": "python",
   "nbconvert_exporter": "python",
   "pygments_lexer": "ipython3",
   "version": "3.7.6"
  }
 },
 "nbformat": 4,
 "nbformat_minor": 4
}
