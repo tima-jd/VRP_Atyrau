{
 "cells": [
  {
   "cell_type": "code",
   "execution_count": 19,
   "metadata": {},
   "outputs": [
    {
     "name": "stdout",
     "output_type": "stream",
     "text": [
      "0.0 0 0.5\n"
     ]
    }
   ],
   "source": [
    "import pandas as pd\n",
    "import numpy as np\n",
    "xlsx = pd.read_csv('vrp_ekz_fact.csv')\n",
    "l = xlsx['o_year']\n",
    "Gplg = ((xlsx['o_potato_zhylyoi'] + xlsx['o_grain_zhylyoi'] + xlsx['o_vegetables_zhylyoi'])/(xlsx['o_potato_zhylyoi'].shift(1) + xlsx['o_grain_zhylyoi'].shift(1) + xlsx['o_vegetables_zhylyoi'].shift(1))) * 100\n",
    "Gplg.iloc[1]\n",
    "a = xlsx['o_potato_zhylyoi'].iloc[1]\n",
    "b= xlsx['o_grain_zhylyoi'].iloc[1]\n",
    "c =xlsx['o_vegetables_zhylyoi'].iloc[1]\n",
    "print(a,b,c)"
   ]
  },
  {
   "cell_type": "code",
   "execution_count": null,
   "metadata": {},
   "outputs": [],
   "source": []
  }
 ],
 "metadata": {
  "kernelspec": {
   "display_name": "Python 3",
   "language": "python",
   "name": "python3"
  },
  "language_info": {
   "codemirror_mode": {
    "name": "ipython",
    "version": 3
   },
   "file_extension": ".py",
   "mimetype": "text/x-python",
   "name": "python",
   "nbconvert_exporter": "python",
   "pygments_lexer": "ipython3",
   "version": "3.7.6"
  }
 },
 "nbformat": 4,
 "nbformat_minor": 4
}
