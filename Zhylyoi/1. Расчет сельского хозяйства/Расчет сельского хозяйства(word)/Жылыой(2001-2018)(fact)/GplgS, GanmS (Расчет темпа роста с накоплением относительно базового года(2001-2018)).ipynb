{
 "cells": [
  {
   "cell_type": "code",
   "execution_count": 7,
   "metadata": {},
   "outputs": [
    {
     "data": {
      "text/plain": [
       "0     106.796\n",
       "1     48.5437\n",
       "2     58.2524\n",
       "3     58.2524\n",
       "4     58.2524\n",
       "5     67.9612\n",
       "6     9.70874\n",
       "7     19.4175\n",
       "8     29.1262\n",
       "9     29.1262\n",
       "10    29.1262\n",
       "11    29.1262\n",
       "12    29.1262\n",
       "13    29.1262\n",
       "14    46.6019\n",
       "15    50.4854\n",
       "16    56.3107\n",
       "17    57.2816\n",
       "18        100\n",
       "Name: c1, dtype: object"
      ]
     },
     "execution_count": 7,
     "metadata": {},
     "output_type": "execute_result"
    }
   ],
   "source": [
    "import pandas as pd\n",
    "import numpy as np\n",
    "xlsx = pd.read_csv('vrp_ekz_fact.csv')\n",
    "l = xlsx['o_year']\n",
    "b = ((xlsx['o_potato_zhylyoi'] + xlsx['o_grain_zhylyoi'] + xlsx['o_vegetables_zhylyoi'])/(xlsx['o_potato_zhylyoi'].shift(1) + xlsx['o_grain_zhylyoi'].shift(1) + xlsx['o_vegetables_zhylyoi'].shift(1))) * 100\n",
    "\n",
    "i=18\n",
    "c=100\n",
    "newdf = pd.DataFrame(columns=['c1'], index=range(19))\n",
    "while i>0:\n",
    "    c = (c/b[i]) * 100\n",
    "    i=i-1\n",
    "    newdf.loc[i].c1 = c\n",
    "GplgS=newdf['c1']\n",
    "GplgS[18]=100\n",
    "\n",
    "GplgS"
   ]
  },
  {
   "cell_type": "code",
   "execution_count": 1,
   "metadata": {},
   "outputs": [
    {
     "data": {
      "text/plain": [
       "0      4862.86\n",
       "1      5128.72\n",
       "2      5642.68\n",
       "3      6092.64\n",
       "4      7140.40\n",
       "5      7711.82\n",
       "6      8048.64\n",
       "7      8715.36\n",
       "8      9331.20\n",
       "9     10052.20\n",
       "10    10482.10\n",
       "11    10718.02\n",
       "12     9285.40\n",
       "13     9187.02\n",
       "14     9437.48\n",
       "15     9319.78\n",
       "16     9873.02\n",
       "17     9865.72\n",
       "18    10300.48\n",
       "dtype: float64"
      ]
     },
     "execution_count": 1,
     "metadata": {},
     "output_type": "execute_result"
    }
   ],
   "source": [
    "import pandas as pd\n",
    "import numpy as np\n",
    "xlsx = pd.read_csv('vrp_ekz_fact.csv')\n",
    "b = ((xlsx['o_cattle_zhylyoi'] * xlsx['o_weight_cattle']) + (xlsx['o_goats_zhylyoi'] * xlsx['o_weight_goats']) + (xlsx['o_horses_zhylyoi']* xlsx['o_weight_horses']) + (xlsx['o_poultry_zhylyoi'] * xlsx['o_weight_poultry']))/((xlsx['o_cattle_zhylyoi'] * xlsx['o_weight_cattle']).shift(1) + (xlsx['o_goats_zhylyoi'] * xlsx['o_weight_goats']).shift(1) + (xlsx['o_horses_zhylyoi']* xlsx['o_weight_horses']).shift(1) + (xlsx['o_poultry_zhylyoi'] * xlsx['o_weight_poultry']).shift(1)) * 100\n",
    "\n",
    "i=18\n",
    "c=100\n",
    "newdf = pd.DataFrame(columns=['c1'], index=range(19))\n",
    "\n",
    "while i>0:\n",
    "    c = (c/b[i]) * 100\n",
    "    i=i-1\n",
    "    newdf.loc[i].c1 = c\n",
    "    \n",
    "GanmS=newdf['c1']\n",
    "GanmS[18]=100\n",
    "\n"
   ]
  },
  {
   "cell_type": "code",
   "execution_count": null,
   "metadata": {},
   "outputs": [],
   "source": []
  }
 ],
 "metadata": {
  "kernelspec": {
   "display_name": "Python 3",
   "language": "python",
   "name": "python3"
  },
  "language_info": {
   "codemirror_mode": {
    "name": "ipython",
    "version": 3
   },
   "file_extension": ".py",
   "mimetype": "text/x-python",
   "name": "python",
   "nbconvert_exporter": "python",
   "pygments_lexer": "ipython3",
   "version": "3.7.6"
  }
 },
 "nbformat": 4,
 "nbformat_minor": 4
}
