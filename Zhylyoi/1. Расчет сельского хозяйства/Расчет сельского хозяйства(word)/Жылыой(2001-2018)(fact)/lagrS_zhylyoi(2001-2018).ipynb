{
 "cells": [
  {
   "cell_type": "code",
   "execution_count": 5,
   "metadata": {},
   "outputs": [
    {
     "data": {
      "text/plain": [
       "0     68.3625\n",
       "1     64.2608\n",
       "2     62.7185\n",
       "3     62.2795\n",
       "4     66.5145\n",
       "5     67.1796\n",
       "6     68.4561\n",
       "7     86.1862\n",
       "8     111.783\n",
       "9      82.608\n",
       "10    86.4906\n",
       "11    89.6042\n",
       "12    88.0809\n",
       "13    87.8167\n",
       "14    94.0517\n",
       "15    93.9576\n",
       "16    92.0785\n",
       "17    91.1577\n",
       "18        100\n",
       "Name: c1, dtype: object"
      ]
     },
     "execution_count": 5,
     "metadata": {},
     "output_type": "execute_result"
    }
   ],
   "source": [
    "import pandas as pd\n",
    "csv = pd.read_csv('vrp_ekz_fact.csv')\n",
    "d = csv['o_ifo_agro_zhylyoi']\n",
    "\n",
    "i=18\n",
    "c=100\n",
    "newdf = pd.DataFrame(columns=['c1'], index=range(19))\n",
    "while i>0:\n",
    "    c = (c/d[i]) * 100\n",
    "    i=i-1\n",
    "    newdf.loc[i].c1 = c\n",
    "LagrS_z=newdf['c1']\n",
    "LagrS_z[18]=100\n",
    "\n",
    "LagrS_z"
   ]
  },
  {
   "cell_type": "code",
   "execution_count": null,
   "metadata": {},
   "outputs": [],
   "source": []
  },
  {
   "cell_type": "code",
   "execution_count": null,
   "metadata": {},
   "outputs": [],
   "source": []
  }
 ],
 "metadata": {
  "kernelspec": {
   "display_name": "Python 3",
   "language": "python",
   "name": "python3"
  },
  "language_info": {
   "codemirror_mode": {
    "name": "ipython",
    "version": 3
   },
   "file_extension": ".py",
   "mimetype": "text/x-python",
   "name": "python",
   "nbconvert_exporter": "python",
   "pygments_lexer": "ipython3",
   "version": "3.7.6"
  }
 },
 "nbformat": 4,
 "nbformat_minor": 4
}
