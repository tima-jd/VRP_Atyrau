{
 "cells": [
  {
   "cell_type": "code",
   "execution_count": 3,
   "metadata": {},
   "outputs": [
    {
     "data": {
      "text/plain": [
       "0            NaN\n",
       "1     123.885442\n",
       "2     105.275822\n",
       "3      97.032855\n",
       "4     106.934193\n",
       "5     105.575202\n",
       "6     101.003102\n",
       "7     103.506638\n",
       "8     123.000989\n",
       "9     126.598950\n",
       "10    114.752887\n",
       "11     99.707809\n",
       "12     95.291979\n",
       "13    112.347977\n",
       "14    100.071434\n",
       "15    102.133549\n",
       "16    104.363963\n",
       "17    110.159441\n",
       "18    101.299597\n",
       "Name: 0, dtype: float64"
      ]
     },
     "execution_count": 3,
     "metadata": {},
     "output_type": "execute_result"
    }
   ],
   "source": [
    "import pandas as pd\n",
    "ltrd_csv = pd.read_csv('ltrd(2001-2018).csv')\n",
    "Ntrd_csv = pd.read_csv('Ntrd(2001-2018).csv')\n",
    "\n",
    "lgds_csv = pd.read_csv('lgds(2001-2018).csv')\n",
    "Ngds_csv = pd.read_csv('Ngds(2001-2018).csv')\n",
    "\n",
    "ltrd = ltrd_csv['0']\n",
    "Ntrd = Ntrd_csv['0']\n",
    "lgds = lgds_csv['0']\n",
    "Ngds = Ngds_csv['0']\n",
    "\n",
    "lg = (lgds*Ngds.shift(1)+ltrd*Ntrd.shift(1))/(Ngds.shift(1)+Ntrd.shift(1))\n",
    "lg"
   ]
  },
  {
   "cell_type": "code",
   "execution_count": null,
   "metadata": {},
   "outputs": [],
   "source": []
  }
 ],
 "metadata": {
  "kernelspec": {
   "display_name": "Python 3",
   "language": "python",
   "name": "python3"
  },
  "language_info": {
   "codemirror_mode": {
    "name": "ipython",
    "version": 3
   },
   "file_extension": ".py",
   "mimetype": "text/x-python",
   "name": "python",
   "nbconvert_exporter": "python",
   "pygments_lexer": "ipython3",
   "version": "3.7.6"
  }
 },
 "nbformat": 4,
 "nbformat_minor": 4
}
