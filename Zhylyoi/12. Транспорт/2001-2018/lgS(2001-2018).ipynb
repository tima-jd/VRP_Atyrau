{
 "cells": [
  {
   "cell_type": "code",
   "execution_count": 1,
   "metadata": {},
   "outputs": [
    {
     "data": {
      "text/plain": [
       "0     29.4876\n",
       "1     36.5308\n",
       "2     38.4581\n",
       "3      37.317\n",
       "4     39.9046\n",
       "5     42.1294\n",
       "6      42.552\n",
       "7     44.0442\n",
       "8     54.1748\n",
       "9     68.5847\n",
       "10    78.7029\n",
       "11    78.4729\n",
       "12    74.7784\n",
       "13     84.012\n",
       "14     84.072\n",
       "15    85.8658\n",
       "16    89.6129\n",
       "17    98.7171\n",
       "18        100\n",
       "Name: c1, dtype: object"
      ]
     },
     "execution_count": 1,
     "metadata": {},
     "output_type": "execute_result"
    }
   ],
   "source": [
    "import pandas as pd\n",
    "ltrd_csv = pd.read_csv('ltrd(2001-2018).csv')\n",
    "Ntrd_csv = pd.read_csv('Ntrd(2001-2018).csv')\n",
    "\n",
    "lgds_csv = pd.read_csv('lgds(2001-2018).csv')\n",
    "Ngds_csv = pd.read_csv('Ngds(2001-2018).csv')\n",
    "\n",
    "ltrd = ltrd_csv['0']\n",
    "Ntrd = Ntrd_csv['0']\n",
    "lgds = lgds_csv['0']\n",
    "Ngds = Ngds_csv['0']\n",
    "\n",
    "lg = (lgds*Ngds.shift(1)+ltrd*Ntrd.shift(1))/(Ngds.shift(1)+Ntrd.shift(1))\n",
    "\n",
    "i=18\n",
    "c=100\n",
    "newdf = pd.DataFrame(columns=['c1'], index=range(18))\n",
    "while i> 0:\n",
    "    c = (c/lg[i]) * 100\n",
    "    i=i-1\n",
    "    newdf.loc[i].c1 = c\n",
    "lgS=newdf['c1']\n",
    "lgS[18]=100\n",
    "lgS"
   ]
  },
  {
   "cell_type": "code",
   "execution_count": null,
   "metadata": {},
   "outputs": [],
   "source": []
  }
 ],
 "metadata": {
  "kernelspec": {
   "display_name": "Python 3",
   "language": "python",
   "name": "python3"
  },
  "language_info": {
   "codemirror_mode": {
    "name": "ipython",
    "version": 3
   },
   "file_extension": ".py",
   "mimetype": "text/x-python",
   "name": "python",
   "nbconvert_exporter": "python",
   "pygments_lexer": "ipython3",
   "version": "3.7.6"
  }
 },
 "nbformat": 4,
 "nbformat_minor": 4
}
