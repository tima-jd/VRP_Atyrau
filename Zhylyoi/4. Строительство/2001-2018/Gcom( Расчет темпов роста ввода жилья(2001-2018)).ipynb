{
 "cells": [
  {
   "cell_type": "code",
   "execution_count": 2,
   "metadata": {},
   "outputs": [
    {
     "data": {
      "text/plain": [
       "0            NaN\n",
       "1     152.941176\n",
       "2     134.615385\n",
       "3     111.428571\n",
       "4      92.307692\n",
       "5     205.555556\n",
       "6     128.378378\n",
       "7      96.842105\n",
       "8     101.086957\n",
       "9     104.301075\n",
       "10    115.463918\n",
       "11    101.785714\n",
       "12    102.631579\n",
       "13     68.376068\n",
       "14    102.500000\n",
       "15    100.000000\n",
       "16    120.731707\n",
       "17     72.727273\n",
       "18    106.138889\n",
       "Name: o_housing_zhylyoi, dtype: float64"
      ]
     },
     "execution_count": 2,
     "metadata": {},
     "output_type": "execute_result"
    }
   ],
   "source": [
    "import pandas as pd\n",
    "csv = pd.read_csv('vrp_ekz_fact.csv')\n",
    "com = csv['o_housing_zhylyoi']\n",
    "lmin = csv['o_ifo_mining_zhylyoi']\n",
    "\n",
    "Gcom = com/com.shift(1)*100\n",
    "\n",
    "Gcom\n"
   ]
  },
  {
   "cell_type": "code",
   "execution_count": null,
   "metadata": {},
   "outputs": [],
   "source": [
    "\n"
   ]
  },
  {
   "cell_type": "code",
   "execution_count": null,
   "metadata": {},
   "outputs": [],
   "source": []
  }
 ],
 "metadata": {
  "kernelspec": {
   "display_name": "Python 3",
   "language": "python",
   "name": "python3"
  },
  "language_info": {
   "codemirror_mode": {
    "name": "ipython",
    "version": 3
   },
   "file_extension": ".py",
   "mimetype": "text/x-python",
   "name": "python",
   "nbconvert_exporter": "python",
   "pygments_lexer": "ipython3",
   "version": "3.7.6"
  }
 },
 "nbformat": 4,
 "nbformat_minor": 4
}
