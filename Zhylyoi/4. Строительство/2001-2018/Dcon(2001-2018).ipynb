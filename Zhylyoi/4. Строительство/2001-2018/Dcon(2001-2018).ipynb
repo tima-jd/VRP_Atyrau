{
 "cells": [
  {
   "cell_type": "code",
   "execution_count": 1,
   "metadata": {},
   "outputs": [
    {
     "data": {
      "text/plain": [
       "0            NaN\n",
       "1     103.069754\n",
       "2     102.796071\n",
       "3      99.226340\n",
       "4     104.127211\n",
       "5     104.394946\n",
       "6      61.037910\n",
       "7     106.075599\n",
       "8     104.703614\n",
       "9     104.193988\n",
       "10    103.588918\n",
       "11    103.660965\n",
       "12    102.797415\n",
       "13    104.595848\n",
       "14    106.882272\n",
       "15    103.084685\n",
       "16    104.788925\n",
       "17    105.176517\n",
       "18    104.838484\n",
       "dtype: float64"
      ]
     },
     "execution_count": 1,
     "metadata": {},
     "output_type": "execute_result"
    }
   ],
   "source": [
    "import pandas as pd\n",
    "csv = pd.read_csv('vrp_ekz_fact.csv')\n",
    "lcon = csv['o_ifo_building_zhylyoi']\n",
    "Ncon = csv['o_prod_building_zhylyoi']\n",
    "\n",
    "Dcon = Ncon/Ncon.shift(1)/lcon*10000\n",
    "\n",
    "Dcon"
   ]
  },
  {
   "cell_type": "code",
   "execution_count": null,
   "metadata": {},
   "outputs": [],
   "source": []
  }
 ],
 "metadata": {
  "kernelspec": {
   "display_name": "Python 3",
   "language": "python",
   "name": "python3"
  },
  "language_info": {
   "codemirror_mode": {
    "name": "ipython",
    "version": 3
   },
   "file_extension": ".py",
   "mimetype": "text/x-python",
   "name": "python",
   "nbconvert_exporter": "python",
   "pygments_lexer": "ipython3",
   "version": "3.7.6"
  }
 },
 "nbformat": 4,
 "nbformat_minor": 4
}
