{
 "cells": [
  {
   "cell_type": "code",
   "execution_count": 2,
   "metadata": {},
   "outputs": [],
   "source": [
    "import pandas as pd\n",
    "csv = pd.read_csv('vrp_ekz_prog.csv')\n",
    "com = csv['o_housing_makat']\n",
    "a=com.shift(1)\n",
    "a[0]=76.42\n",
    "a[7]=76.42\n",
    "a[14]=76.42\n",
    "Gcom = com/a*100\n",
    "\n",
    "Gcom_b = Gcom.loc[csv.o_script.str.match(r'базовый')].reset_index(drop = True)\n",
    "Gcom_o = Gcom.loc[csv.o_script.str.match(r'оптимистичный')].reset_index(drop = True)\n",
    "Gcom_p = Gcom.loc[csv.o_script.str.match(r'пессимистичный')].reset_index(drop = True)\n"
   ]
  },
  {
   "cell_type": "code",
   "execution_count": null,
   "metadata": {},
   "outputs": [],
   "source": []
  }
 ],
 "metadata": {
  "kernelspec": {
   "display_name": "Python 3",
   "language": "python",
   "name": "python3"
  },
  "language_info": {
   "codemirror_mode": {
    "name": "ipython",
    "version": 3
   },
   "file_extension": ".py",
   "mimetype": "text/x-python",
   "name": "python",
   "nbconvert_exporter": "python",
   "pygments_lexer": "ipython3",
   "version": "3.7.6"
  }
 },
 "nbformat": 4,
 "nbformat_minor": 4
}
