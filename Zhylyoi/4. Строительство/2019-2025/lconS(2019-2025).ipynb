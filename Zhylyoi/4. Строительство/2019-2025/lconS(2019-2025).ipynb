{
 "cells": [
  {
   "cell_type": "code",
   "execution_count": 3,
   "metadata": {},
   "outputs": [
    {
     "data": {
      "text/plain": [
       "0     103.116\n",
       "1     103.887\n",
       "2     106.366\n",
       "3     108.712\n",
       "4      121.84\n",
       "5      127.76\n",
       "6     129.911\n",
       "7     104.156\n",
       "8     108.042\n",
       "9     110.641\n",
       "10     114.67\n",
       "11    141.466\n",
       "12    148.156\n",
       "13     152.05\n",
       "14    105.607\n",
       "15    108.117\n",
       "16    109.692\n",
       "17    116.321\n",
       "18    122.087\n",
       "19    123.408\n",
       "20    107.525\n",
       "Name: c1, dtype: object"
      ]
     },
     "execution_count": 3,
     "metadata": {},
     "output_type": "execute_result"
    }
   ],
   "source": [
    "import pandas as pd\n",
    "csv = pd.read_csv('vrp_ekz_prog.csv')\n",
    "s = pd.read_csv('lmint(2019-2025).csv')\n",
    "\n",
    "com = csv['o_housing_zhylyoi']\n",
    "lmint = s['c1']\n",
    "\n",
    "a=com.shift(1)\n",
    "a[0]=76.42\n",
    "\n",
    "Gcom = com/a*100\n",
    "\n",
    "i=0\n",
    "c=100\n",
    "\n",
    "newdf = pd.DataFrame(columns=['c1'], index=range(21))\n",
    "while i<=20:\n",
    "    c = (c*((((Gcom[i]-100) * 0.08316171000065693) + ((lmint[i]-100) * 0.7031946920247443)) + 100)) /100\n",
    "    newdf.loc[i].c1 = c\n",
    "    i=i+1\n",
    "    \n",
    "lconS=newdf['c1']\n",
    "\n",
    "lconS"
   ]
  },
  {
   "cell_type": "code",
   "execution_count": 4,
   "metadata": {},
   "outputs": [
    {
     "data": {
      "text/plain": [
       "0     103.116\n",
       "1     100.748\n",
       "2     102.386\n",
       "3     102.205\n",
       "4     112.076\n",
       "5     104.859\n",
       "6     101.683\n",
       "7     80.1755\n",
       "8      103.73\n",
       "9     102.406\n",
       "10    103.641\n",
       "11    123.368\n",
       "12    104.729\n",
       "13    102.629\n",
       "14    69.4555\n",
       "15    102.377\n",
       "16    101.456\n",
       "17    106.043\n",
       "18    104.957\n",
       "19    101.082\n",
       "20     87.129\n",
       "Name: c1, dtype: object"
      ]
     },
     "execution_count": 4,
     "metadata": {},
     "output_type": "execute_result"
    }
   ],
   "source": [
    "l = lconS.shift(1)\n",
    "l[0]=100\n",
    "lcont=lconS/l*100\n",
    "lcont"
   ]
  },
  {
   "cell_type": "code",
   "execution_count": 6,
   "metadata": {},
   "outputs": [],
   "source": [
    "l[0]=100\n",
    "lcont=lconS/l*100\n",
    "lcont"
   ]
  },
  {
   "cell_type": "code",
   "execution_count": null,
   "metadata": {},
   "outputs": [],
   "source": [
    "lcont.to_csv(r'lcon(2019-2025).csv', index = False)"
   ]
  },
  {
   "cell_type": "code",
   "execution_count": null,
   "metadata": {},
   "outputs": [],
   "source": []
  }
 ],
 "metadata": {
  "kernelspec": {
   "display_name": "Python 3",
   "language": "python",
   "name": "python3"
  },
  "language_info": {
   "codemirror_mode": {
    "name": "ipython",
    "version": 3
   },
   "file_extension": ".py",
   "mimetype": "text/x-python",
   "name": "python",
   "nbconvert_exporter": "python",
   "pygments_lexer": "ipython3",
   "version": "3.7.6"
  }
 },
 "nbformat": 4,
 "nbformat_minor": 4
}
