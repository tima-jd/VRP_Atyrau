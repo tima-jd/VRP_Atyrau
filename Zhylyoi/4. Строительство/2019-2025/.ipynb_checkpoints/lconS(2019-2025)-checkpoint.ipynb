{
 "cells": [
  {
   "cell_type": "code",
   "execution_count": 3,
   "metadata": {},
   "outputs": [
    {
     "data": {
      "text/plain": [
       "0     103.128\n",
       "1     103.902\n",
       "2      106.39\n",
       "3     108.744\n",
       "4     121.925\n",
       "5     127.871\n",
       "6      130.03\n",
       "7     104.161\n",
       "8     108.056\n",
       "9     110.664\n",
       "10    114.708\n",
       "11    141.612\n",
       "12    148.332\n",
       "13    152.244\n",
       "14    105.583\n",
       "15    108.102\n",
       "16    109.681\n",
       "17    116.334\n",
       "18    122.123\n",
       "19    123.449\n",
       "20    107.499\n",
       "Name: c1, dtype: object"
      ]
     },
     "execution_count": 3,
     "metadata": {},
     "output_type": "execute_result"
    }
   ],
   "source": [
    "import pandas as pd\n",
    "csv = pd.read_csv('vrp_ekz_prog.csv')\n",
    "s = pd.read_csv('lmint(2019-2025).csv')\n",
    "\n",
    "com = csv['o_housing_zhylyoi']\n",
    "lmint = s['c1']\n",
    "\n",
    "a=com.shift(1)\n",
    "a[0]=76.42\n",
    "\n",
    "Gcom = com/a*100\n",
    "\n",
    "i=0\n",
    "c=100\n",
    "\n",
    "newdf = pd.DataFrame(columns=['c1'], index=range(21))\n",
    "while i<=20:\n",
    "    c = (c*((((Gcom[i]-100) * 0.08316171000065693) + ((lmint[i]-100) * 0.7031946920247443)) + 100)) /100\n",
    "    newdf.loc[i].c1 = c\n",
    "    i=i+1\n",
    "    \n",
    "lconS=newdf['c1']\n",
    "\n",
    "lconS"
   ]
  },
  {
   "cell_type": "code",
   "execution_count": 5,
   "metadata": {},
   "outputs": [
    {
     "data": {
      "text/plain": [
       "0     103.128\n",
       "1      100.75\n",
       "2     102.395\n",
       "3     102.213\n",
       "4     112.121\n",
       "5     104.877\n",
       "6     101.689\n",
       "7     80.1048\n",
       "8      103.74\n",
       "9     102.414\n",
       "10    103.654\n",
       "11    123.455\n",
       "12    104.745\n",
       "13    102.637\n",
       "14    69.3512\n",
       "15    102.385\n",
       "16    101.461\n",
       "17    106.066\n",
       "18    104.975\n",
       "19    101.086\n",
       "20    87.0796\n",
       "Name: c1, dtype: object"
      ]
     },
     "execution_count": 5,
     "metadata": {},
     "output_type": "execute_result"
    }
   ],
   "source": [
    "l = lconS.shift(1)\n",
    "l[0]=100\n",
    "lcont=lconS/l*100\n",
    "lcont"
   ]
  },
  {
   "cell_type": "code",
   "execution_count": null,
   "metadata": {},
   "outputs": [],
   "source": []
  }
 ],
 "metadata": {
  "kernelspec": {
   "display_name": "Python 3",
   "language": "python",
   "name": "python3"
  },
  "language_info": {
   "codemirror_mode": {
    "name": "ipython",
    "version": 3
   },
   "file_extension": ".py",
   "mimetype": "text/x-python",
   "name": "python",
   "nbconvert_exporter": "python",
   "pygments_lexer": "ipython3",
   "version": "3.7.6"
  }
 },
 "nbformat": 4,
 "nbformat_minor": 4
}
