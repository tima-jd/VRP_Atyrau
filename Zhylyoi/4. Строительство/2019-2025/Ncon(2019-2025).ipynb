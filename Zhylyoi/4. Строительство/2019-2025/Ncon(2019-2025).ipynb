{
 "cells": [
  {
   "cell_type": "code",
   "execution_count": 8,
   "metadata": {},
   "outputs": [
    {
     "data": {
      "text/plain": [
       "0      98.733731\n",
       "1     103.737745\n",
       "2     100.000000\n",
       "3     100.000000\n",
       "4     100.000000\n",
       "5     100.000000\n",
       "6     100.000000\n",
       "7      96.409369\n",
       "8     121.385222\n",
       "9     100.000000\n",
       "10    100.000000\n",
       "11    100.000000\n",
       "12    100.000000\n",
       "13    100.000000\n",
       "14     73.374097\n",
       "15    100.000000\n",
       "16    100.000000\n",
       "17    100.000000\n",
       "18    100.000000\n",
       "19    100.000000\n",
       "20    113.135484\n",
       "Name: 0, dtype: float64"
      ]
     },
     "execution_count": 8,
     "metadata": {},
     "output_type": "execute_result"
    }
   ],
   "source": [
    "import pandas as pd\n",
    "csv = pd.read_csv('vrp_ekz_prog.csv')\n",
    "s = pd.read_csv('lmint(2019-2025).csv')\n",
    "d = pd.read_csv('Dmin(2019-2025).csv')\n",
    "com = csv['o_housing_zhylyoi']\n",
    "lmint = s['c1']\n",
    "Dmin = d['0']\n",
    "\n",
    "Dcon = (Dmin-100)*0.9127246190716827 + 100\n",
    "\n",
    "Dcon"
   ]
  },
  {
   "cell_type": "code",
   "execution_count": 9,
   "metadata": {},
   "outputs": [
    {
     "data": {
      "text/plain": [
       "0     104.257517\n",
       "1     100.827504\n",
       "2     103.157303\n",
       "3     102.899467\n",
       "4     116.935983\n",
       "5     106.673858\n",
       "6     102.157215\n",
       "7      73.132466\n",
       "8     104.824056\n",
       "9     102.947768\n",
       "10    104.713407\n",
       "11    132.773430\n",
       "12    106.274497\n",
       "13    103.295472\n",
       "14     58.900097\n",
       "15    103.266685\n",
       "16    101.955394\n",
       "17    108.477212\n",
       "18    106.933496\n",
       "19    101.421605\n",
       "20     82.366872\n",
       "Name: c1, dtype: float64"
      ]
     },
     "execution_count": 9,
     "metadata": {},
     "output_type": "execute_result"
    }
   ],
   "source": [
    "import pandas as pd\n",
    "csv = pd.read_csv('vrp_ekz_prog.csv')\n",
    "s = pd.read_csv('lmint(2019-2025).csv')\n",
    "\n",
    "com = csv['o_housing_zhylyoi']\n",
    "lmint = s['c1']\n",
    "\n",
    "a=com.shift(1)\n",
    "a[0]=76.42\n",
    "\n",
    "Gcom = com/a*100\n",
    "\n",
    "i=0\n",
    "c=100\n",
    "\n",
    "newdf = pd.DataFrame(columns=['c1'], index=range(21))\n",
    "while i<=20:\n",
    "    c = (c*((((Gcom[i]-100) * 0.08316171000065693) + ((lmint[i]-100) * 0.7031946920247443)) + 100)) /100\n",
    "    newdf.loc[i].c1 = c\n",
    "    i=i+1\n",
    "    \n",
    "lconS=newdf['c1']\n",
    "\n",
    "l = lconS.shift(1)\n",
    "l[0]=100\n",
    "lcont=lconS/l*100\n",
    "lmint"
   ]
  },
  {
   "cell_type": "code",
   "execution_count": 10,
   "metadata": {},
   "outputs": [
    {
     "data": {
      "text/plain": [
       "0     492303\n",
       "1     514525\n",
       "2     526803\n",
       "3     538419\n",
       "4     603439\n",
       "5     632763\n",
       "6     643412\n",
       "7     497336\n",
       "8     626211\n",
       "9     641276\n",
       "10    664628\n",
       "11    819940\n",
       "12    858714\n",
       "13    881287\n",
       "14    449124\n",
       "15    459799\n",
       "16    466494\n",
       "17    494686\n",
       "18    519208\n",
       "19    524828\n",
       "20    517343\n",
       "Name: c1, dtype: object"
      ]
     },
     "execution_count": 10,
     "metadata": {},
     "output_type": "execute_result"
    }
   ],
   "source": [
    "c=483551\n",
    "i=0\n",
    "\n",
    "newdf = pd.DataFrame(columns=['c1'], index=range(21))\n",
    "\n",
    "while i<=20:\n",
    "    c = c*lcont[i]*Dcon[i]/10000\n",
    "    newdf.loc[i].c1 = c    \n",
    "    i=i+1\n",
    "\n",
    "Ncon=newdf['c1']\n",
    "\n",
    "Ncon"
   ]
  },
  {
   "cell_type": "code",
   "execution_count": 14,
   "metadata": {},
   "outputs": [],
   "source": [
    "lcont.to_csv(r'lcon_Zhylyoi(2019-2025).csv', index = False)"
   ]
  },
  {
   "cell_type": "code",
   "execution_count": null,
   "metadata": {},
   "outputs": [],
   "source": []
  }
 ],
 "metadata": {
  "kernelspec": {
   "display_name": "Python 3",
   "language": "python",
   "name": "python3"
  },
  "language_info": {
   "codemirror_mode": {
    "name": "ipython",
    "version": 3
   },
   "file_extension": ".py",
   "mimetype": "text/x-python",
   "name": "python",
   "nbconvert_exporter": "python",
   "pygments_lexer": "ipython3",
   "version": "3.7.6"
  }
 },
 "nbformat": 4,
 "nbformat_minor": 4
}
