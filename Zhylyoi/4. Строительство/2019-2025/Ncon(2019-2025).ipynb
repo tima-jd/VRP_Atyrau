{
 "cells": [
  {
   "cell_type": "code",
   "execution_count": 3,
   "metadata": {},
   "outputs": [
    {
     "data": {
      "text/plain": [
       "0      98.733731\n",
       "1     103.737745\n",
       "2     100.000000\n",
       "3     100.000000\n",
       "4     100.000000\n",
       "5     100.000000\n",
       "6     100.000000\n",
       "7      96.409369\n",
       "8     121.385222\n",
       "9     100.000000\n",
       "10    100.000000\n",
       "11    100.000000\n",
       "12    100.000000\n",
       "13    100.000000\n",
       "14     73.374097\n",
       "15    100.000000\n",
       "16    100.000000\n",
       "17    100.000000\n",
       "18    100.000000\n",
       "19    100.000000\n",
       "20    113.135484\n",
       "Name: 0, dtype: float64"
      ]
     },
     "execution_count": 3,
     "metadata": {},
     "output_type": "execute_result"
    }
   ],
   "source": [
    "import pandas as pd\n",
    "csv = pd.read_csv('vrp_ekz_prog.csv')\n",
    "s = pd.read_csv('lmint(2019-2025).csv')\n",
    "d = pd.read_csv('Dmin(2019-2025).csv')\n",
    "com = csv['o_housing_zhylyoi']\n",
    "lmint = s['c1']\n",
    "Dmin = d['0']\n",
    "\n",
    "Dcon = (Dmin-100)*0.9127246190716827 + 100\n",
    "\n",
    "Dcon"
   ]
  },
  {
   "cell_type": "code",
   "execution_count": 4,
   "metadata": {},
   "outputs": [
    {
     "data": {
      "text/plain": [
       "0     103.128\n",
       "1      100.75\n",
       "2     102.395\n",
       "3     102.213\n",
       "4     112.121\n",
       "5     104.877\n",
       "6     101.689\n",
       "7     80.1048\n",
       "8      103.74\n",
       "9     102.414\n",
       "10    103.654\n",
       "11    123.455\n",
       "12    104.745\n",
       "13    102.637\n",
       "14    69.3512\n",
       "15    102.385\n",
       "16    101.461\n",
       "17    106.066\n",
       "18    104.975\n",
       "19    101.086\n",
       "20    87.0796\n",
       "Name: c1, dtype: object"
      ]
     },
     "execution_count": 4,
     "metadata": {},
     "output_type": "execute_result"
    }
   ],
   "source": [
    "import pandas as pd\n",
    "csv = pd.read_csv('vrp_ekz_prog.csv')\n",
    "s = pd.read_csv('lmint(2019-2025).csv')\n",
    "\n",
    "com = csv['o_housing_zhylyoi']\n",
    "lmint = s['c1']\n",
    "\n",
    "a=com.shift(1)\n",
    "a[0]=76.42\n",
    "\n",
    "Gcom = com/a*100\n",
    "\n",
    "i=0\n",
    "c=100\n",
    "\n",
    "newdf = pd.DataFrame(columns=['c1'], index=range(21))\n",
    "while i<=20:\n",
    "    c = (c*((((Gcom[i]-100) * 0.08316171000065693) + ((lmint[i]-100) * 0.7031946920247443)) + 100)) /100\n",
    "    newdf.loc[i].c1 = c\n",
    "    i=i+1\n",
    "    \n",
    "lconS=newdf['c1']\n",
    "\n",
    "l = lconS.shift(1)\n",
    "l[0]=100\n",
    "lcont=lconS/l*100\n",
    "lcont"
   ]
  },
  {
   "cell_type": "code",
   "execution_count": 5,
   "metadata": {},
   "outputs": [
    {
     "data": {
      "text/plain": [
       "0     492364\n",
       "1     514598\n",
       "2     526921\n",
       "3     538579\n",
       "4     603859\n",
       "5     633310\n",
       "6     644005\n",
       "7     497356\n",
       "8     626295\n",
       "9     641411\n",
       "10    664847\n",
       "11    820787\n",
       "12    859737\n",
       "13    882410\n",
       "14    449022\n",
       "15    459733\n",
       "16    466450\n",
       "17    494744\n",
       "18    519360\n",
       "19    525001\n",
       "20    517221\n",
       "Name: c1, dtype: object"
      ]
     },
     "execution_count": 5,
     "metadata": {},
     "output_type": "execute_result"
    }
   ],
   "source": [
    "c=483551\n",
    "i=0\n",
    "\n",
    "newdf = pd.DataFrame(columns=['c1'], index=range(21))\n",
    "\n",
    "while i<=20:\n",
    "    c = c*lcont[i]*Dcon[i]/10000\n",
    "    newdf.loc[i].c1 = c    \n",
    "    i=i+1\n",
    "\n",
    "Ncon=newdf['c1']\n",
    "\n",
    "Ncon"
   ]
  },
  {
   "cell_type": "code",
   "execution_count": 11,
   "metadata": {},
   "outputs": [],
   "source": [
    "Dcon.to_csv(r'Dcon(2019-2025).csv', index = False)"
   ]
  },
  {
   "cell_type": "code",
   "execution_count": null,
   "metadata": {},
   "outputs": [],
   "source": []
  }
 ],
 "metadata": {
  "kernelspec": {
   "display_name": "Python 3",
   "language": "python",
   "name": "python3"
  },
  "language_info": {
   "codemirror_mode": {
    "name": "ipython",
    "version": 3
   },
   "file_extension": ".py",
   "mimetype": "text/x-python",
   "name": "python",
   "nbconvert_exporter": "python",
   "pygments_lexer": "ipython3",
   "version": "3.7.6"
  }
 },
 "nbformat": 4,
 "nbformat_minor": 4
}
