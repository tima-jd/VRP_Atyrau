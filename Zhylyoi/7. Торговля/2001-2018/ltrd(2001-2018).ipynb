{
 "cells": [
  {
   "cell_type": "code",
   "execution_count": 1,
   "metadata": {},
   "outputs": [
    {
     "data": {
      "text/plain": [
       "0            NaN\n",
       "1      77.300000\n",
       "2      72.500000\n",
       "3      74.900000\n",
       "4      77.000000\n",
       "5      51.399253\n",
       "6      26.084866\n",
       "7      89.442411\n",
       "8      98.279524\n",
       "9     178.316239\n",
       "10    205.489395\n",
       "11    113.703295\n",
       "12     75.792054\n",
       "13     71.929659\n",
       "14    156.430065\n",
       "15     90.065726\n",
       "16    113.322572\n",
       "17    110.336639\n",
       "18     98.226361\n",
       "dtype: float64"
      ]
     },
     "execution_count": 1,
     "metadata": {},
     "output_type": "execute_result"
    }
   ],
   "source": [
    "import pandas as pd\n",
    "csv = pd.read_csv('vrp_ekz_fact.csv')\n",
    "Nret = csv['o_prod_retail_zhylyoi']\n",
    "Nwhl = csv['o_prod_trade_zhylyoi']\n",
    "lret = csv['o_ifo_retail_zhylyoi']\n",
    "lwhl = csv['o_ifo_trade_zhylyoi']\n",
    "Ntrd = Nwhl+Nret\n",
    "\n",
    "ltrd = (lret*Nret.shift(1)+lwhl*Nwhl.shift(1))/Ntrd.shift(1)\n",
    "\n",
    "ltrd"
   ]
  },
  {
   "cell_type": "code",
   "execution_count": null,
   "metadata": {},
   "outputs": [],
   "source": []
  }
 ],
 "metadata": {
  "kernelspec": {
   "display_name": "Python 3",
   "language": "python",
   "name": "python3"
  },
  "language_info": {
   "codemirror_mode": {
    "name": "ipython",
    "version": 3
   },
   "file_extension": ".py",
   "mimetype": "text/x-python",
   "name": "python",
   "nbconvert_exporter": "python",
   "pygments_lexer": "ipython3",
   "version": "3.7.6"
  }
 },
 "nbformat": 4,
 "nbformat_minor": 4
}
