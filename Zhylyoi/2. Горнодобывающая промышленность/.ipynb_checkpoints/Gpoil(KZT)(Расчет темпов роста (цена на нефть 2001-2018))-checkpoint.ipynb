{
 "cells": [
  {
   "cell_type": "code",
   "execution_count": 3,
   "metadata": {},
   "outputs": [
    {
     "data": {
      "text/plain": [
       "0            NaN\n",
       "1      87.344029\n",
       "2     103.428571\n",
       "3     112.194159\n",
       "4     134.681674\n",
       "5     145.756072\n",
       "6     119.691812\n",
       "7     111.796407\n",
       "8     130.798072\n",
       "9      65.612203\n",
       "10    125.838664\n",
       "11    139.194048\n",
       "12     99.367540\n",
       "13     97.212013\n",
       "14     89.929915\n",
       "15     55.783429\n",
       "16     84.558824\n",
       "17    121.108696\n",
       "18    128.594507\n",
       "Name: o_oil_price, dtype: float64"
      ]
     },
     "execution_count": 3,
     "metadata": {},
     "output_type": "execute_result"
    }
   ],
   "source": [
    "import pandas as pd\n",
    "csv = pd.read_csv('vrp_ekz_fact.csv')\n",
    "poil = csv['o_oil_price']\n",
    "Gpoil= poil/poil.shift(1)*100\n",
    "Gpoil"
   ]
  },
  {
   "cell_type": "code",
   "execution_count": 2,
   "metadata": {},
   "outputs": [
    {
     "name": "stdout",
     "output_type": "stream",
     "text": [
      "0            NaN\n",
      "1      90.177040\n",
      "2     108.038241\n",
      "3     109.485924\n",
      "4     122.490273\n",
      "5     142.370383\n",
      "6     113.575711\n",
      "7     108.657702\n",
      "8     128.396638\n",
      "9      80.447215\n",
      "10    125.710693\n",
      "11    138.504454\n",
      "12    101.055066\n",
      "13     99.180896\n",
      "14    105.926126\n",
      "15     69.026507\n",
      "16    130.485938\n",
      "17    115.388809\n",
      "18    135.974885\n",
      "dtype: float64\n"
     ]
    }
   ],
   "source": [
    "import pandas as pd\n",
    "csv = pd.read_csv('vrp_ekz_fact.csv')\n",
    "poil = csv['o_oil_price']\n",
    "rateKZT= csv['o_exchange_rate']\n",
    "GpoilKZT= ((poil*rateKZT)/(poil.shift(1)*rateKZT.shift(1)))*100\n",
    "print(GpoilKZT)"
   ]
  },
  {
   "cell_type": "code",
   "execution_count": null,
   "metadata": {},
   "outputs": [],
   "source": []
  }
 ],
 "metadata": {
  "kernelspec": {
   "display_name": "Python 3",
   "language": "python",
   "name": "python3"
  },
  "language_info": {
   "codemirror_mode": {
    "name": "ipython",
    "version": 3
   },
   "file_extension": ".py",
   "mimetype": "text/x-python",
   "name": "python",
   "nbconvert_exporter": "python",
   "pygments_lexer": "ipython3",
   "version": "3.7.6"
  }
 },
 "nbformat": 4,
 "nbformat_minor": 4
}
