{
 "cells": [
  {
   "cell_type": "code",
   "execution_count": 3,
   "metadata": {},
   "outputs": [
    {
     "data": {
      "text/plain": [
       "-0.060274685781089604"
      ]
     },
     "execution_count": 3,
     "metadata": {},
     "output_type": "execute_result"
    }
   ],
   "source": [
    "import pandas as pd\n",
    "\n",
    "csv = pd.read_csv('vrp_ekz_fact.csv')\n",
    "voil = csv['o_oil_zhylyoi']\n",
    "lmin = csv['o_ifo_mining_zhylyoi']\n",
    "\n",
    "Gvoil = voil/voil.shift(1)*100\n",
    "\n",
    "i=18\n",
    "c=100\n",
    "d=100\n",
    "newdf = pd.DataFrame(columns=['c1','c2'], index=range(19))\n",
    "\n",
    "while i>0:\n",
    "    c = (c/Gvoil[i]) * 100\n",
    "    d = (d/lmin[i])*100\n",
    "    \n",
    "    i=i-1\n",
    "    newdf.loc[i].c1 = c\n",
    "    newdf.loc[i].c2 = d\n",
    "    \n",
    "S=newdf['c1']\n",
    "GvoilS = S[5:]\n",
    "l=newdf['c2']\n",
    "lminS =l[5:] \n",
    "lminS[18]=100\n",
    "GvoilS[18]=100\n",
    "\n",
    "\n",
    "Evoil= ((GvoilS-GvoilS.mean())*(lminS-lminS.mean())).sum()/(GvoilS-GvoilS.mean()**2).sum()\n",
    "\n",
    "Evoil"
   ]
  },
  {
   "cell_type": "code",
   "execution_count": null,
   "metadata": {},
   "outputs": [],
   "source": []
  }
 ],
 "metadata": {
  "kernelspec": {
   "display_name": "Python 3",
   "language": "python",
   "name": "python3"
  },
  "language_info": {
   "codemirror_mode": {
    "name": "ipython",
    "version": 3
   },
   "file_extension": ".py",
   "mimetype": "text/x-python",
   "name": "python",
   "nbconvert_exporter": "python",
   "pygments_lexer": "ipython3",
   "version": "3.7.6"
  }
 },
 "nbformat": 4,
 "nbformat_minor": 4
}
