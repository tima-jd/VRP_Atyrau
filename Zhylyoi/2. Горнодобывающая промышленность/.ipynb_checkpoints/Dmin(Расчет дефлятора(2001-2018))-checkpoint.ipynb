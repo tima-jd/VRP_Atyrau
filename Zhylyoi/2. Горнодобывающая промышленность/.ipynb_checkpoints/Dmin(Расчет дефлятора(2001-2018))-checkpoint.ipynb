{
 "cells": [
  {
   "cell_type": "code",
   "execution_count": 6,
   "metadata": {},
   "outputs": [
    {
     "data": {
      "text/plain": [
       "0            NaN\n",
       "1      87.947420\n",
       "2     112.942060\n",
       "3     114.536524\n",
       "4     121.718979\n",
       "5     136.676047\n",
       "6     114.062995\n",
       "7     110.679898\n",
       "8     128.580617\n",
       "9      79.405464\n",
       "10    127.344010\n",
       "11    140.098320\n",
       "12    101.083507\n",
       "13     99.395486\n",
       "14    106.686202\n",
       "15     67.192596\n",
       "16    125.439397\n",
       "17    116.671995\n",
       "18    133.832153\n",
       "dtype: float64"
      ]
     },
     "execution_count": 6,
     "metadata": {},
     "output_type": "execute_result"
    }
   ],
   "source": [
    "import pandas as pd\n",
    "csv = pd.read_csv('vrp_ekz_fact.csv')\n",
    "lmin = csv['o_ifo_mining_zhylyoi']\n",
    "Nmin=csv['o_prod_mining_zhylyoi']\n",
    "\n",
    "Dmin = (Nmin/Nmin.shift(1)/lmin)*10000\n",
    "\n",
    "Dmin"
   ]
  },
  {
   "cell_type": "code",
   "execution_count": null,
   "metadata": {},
   "outputs": [],
   "source": []
  },
  {
   "cell_type": "code",
   "execution_count": null,
   "metadata": {},
   "outputs": [],
   "source": []
  }
 ],
 "metadata": {
  "kernelspec": {
   "display_name": "Python 3",
   "language": "python",
   "name": "python3"
  },
  "language_info": {
   "codemirror_mode": {
    "name": "ipython",
    "version": 3
   },
   "file_extension": ".py",
   "mimetype": "text/x-python",
   "name": "python",
   "nbconvert_exporter": "python",
   "pygments_lexer": "ipython3",
   "version": "3.7.6"
  }
 },
 "nbformat": 4,
 "nbformat_minor": 4
}
