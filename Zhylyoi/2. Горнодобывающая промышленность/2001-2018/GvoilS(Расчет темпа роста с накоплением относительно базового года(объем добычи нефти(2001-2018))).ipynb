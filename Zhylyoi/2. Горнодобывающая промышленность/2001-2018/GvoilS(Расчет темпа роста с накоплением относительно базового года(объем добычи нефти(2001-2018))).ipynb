{
 "cells": [
  {
   "cell_type": "code",
   "execution_count": 2,
   "metadata": {},
   "outputs": [
    {
     "data": {
      "text/plain": [
       "0     37.1873\n",
       "1     43.1926\n",
       "2     45.4692\n",
       "3     44.8472\n",
       "4      47.625\n",
       "5     47.7849\n",
       "6     47.6846\n",
       "7     49.6417\n",
       "8     59.7852\n",
       "9     75.9734\n",
       "10    86.9593\n",
       "11    87.3388\n",
       "12    83.2339\n",
       "13    93.2803\n",
       "14    92.4443\n",
       "15    93.9669\n",
       "16    95.2794\n",
       "17     99.468\n",
       "18        100\n",
       "Name: c1, dtype: object"
      ]
     },
     "execution_count": 2,
     "metadata": {},
     "output_type": "execute_result"
    }
   ],
   "source": [
    "import pandas as pd\n",
    "csv = pd.read_csv('vrp_ekz_fact.csv')\n",
    "voil = csv['o_oil_zhylyoi']\n",
    "Gvoil = voil/voil.shift(1)*100\n",
    "\n",
    "i=18\n",
    "c=100\n",
    "newdf = pd.DataFrame(columns=['c1'], index=range(19))\n",
    "while i>0:\n",
    "    c = (c/Gvoil[i]) * 100\n",
    "    i=i-1\n",
    "    newdf.loc[i].c1 = c\n",
    "GvoilS=newdf['c1']\n",
    "GvoilS[18]=100\n",
    "\n",
    "GvoilS"
   ]
  },
  {
   "cell_type": "code",
   "execution_count": null,
   "metadata": {},
   "outputs": [],
   "source": []
  }
 ],
 "metadata": {
  "kernelspec": {
   "display_name": "Python 3",
   "language": "python",
   "name": "python3"
  },
  "language_info": {
   "codemirror_mode": {
    "name": "ipython",
    "version": 3
   },
   "file_extension": ".py",
   "mimetype": "text/x-python",
   "name": "python",
   "nbconvert_exporter": "python",
   "pygments_lexer": "ipython3",
   "version": "3.7.6"
  }
 },
 "nbformat": 4,
 "nbformat_minor": 4
}
