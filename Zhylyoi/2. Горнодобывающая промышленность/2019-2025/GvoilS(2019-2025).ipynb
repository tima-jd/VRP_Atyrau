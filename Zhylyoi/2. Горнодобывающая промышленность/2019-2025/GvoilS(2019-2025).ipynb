{
 "cells": [
  {
   "cell_type": "code",
   "execution_count": 2,
   "metadata": {},
   "outputs": [
    {
     "data": {
      "text/plain": [
       "0     104.647\n",
       "1      105.37\n",
       "2      108.59\n",
       "3     111.638\n",
       "4     129.937\n",
       "5      138.33\n",
       "6     141.218\n",
       "7     104.647\n",
       "8      108.42\n",
       "9     111.513\n",
       "10    116.601\n",
       "11    153.586\n",
       "12    162.913\n",
       "13    168.109\n",
       "14    103.846\n",
       "15    107.129\n",
       "16    109.156\n",
       "17    118.112\n",
       "18    126.039\n",
       "19    127.773\n",
       "20    104.647\n",
       "Name: c1, dtype: object"
      ]
     },
     "execution_count": 2,
     "metadata": {},
     "output_type": "execute_result"
    }
   ],
   "source": [
    "import pandas as pd\n",
    "csv = pd.read_csv('vrp_ekz_prog.csv')\n",
    "voil = csv['o_oil_zhylyoi']\n",
    "c=csv['o_year']\n",
    "l=voil.shift(1)\n",
    "l[0]= 31542.90\n",
    "Gvoil= voil/l*100\n",
    "\n",
    "\n",
    "i=0\n",
    "c=100\n",
    "newdf = pd.DataFrame(columns=['c1'], index=range(21))\n",
    "while i<=20:\n",
    "    c = c*Gvoil[i]/100\n",
    "    newdf.loc[i].c1 = c\n",
    "    i=i+1\n",
    "GvoilS=newdf['c1']\n",
    "\n",
    "GvoilS"
   ]
  },
  {
   "cell_type": "code",
   "execution_count": null,
   "metadata": {},
   "outputs": [],
   "source": [
    "i=0\n",
    "c=100\n",
    "\n",
    "newdf = pd.DataFrame(columns=['c1'], index=range(21))\n",
    "while i<=20:\n",
    "    c = (c*((((Gpoil[i]-100) * 0.0478466159622517) + ((Gvoil[i]-100) * 1.0332099284254384)) + 100)) /100\n",
    "    newdf.loc[i].c1 = c\n",
    "    i=i+1\n",
    "lminS=newdf['c1']\n",
    "\n",
    "lminS"
   ]
  }
 ],
 "metadata": {
  "kernelspec": {
   "display_name": "Python 3",
   "language": "python",
   "name": "python3"
  },
  "language_info": {
   "codemirror_mode": {
    "name": "ipython",
    "version": 3
   },
   "file_extension": ".py",
   "mimetype": "text/x-python",
   "name": "python",
   "nbconvert_exporter": "python",
   "pygments_lexer": "ipython3",
   "version": "3.7.6"
  }
 },
 "nbformat": 4,
 "nbformat_minor": 4
}
