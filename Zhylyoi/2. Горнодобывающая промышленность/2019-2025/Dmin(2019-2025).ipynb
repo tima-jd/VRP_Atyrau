{
 "cells": [
  {
   "cell_type": "code",
   "execution_count": null,
   "metadata": {},
   "outputs": [],
   "source": []
  },
  {
   "cell_type": "code",
   "execution_count": 1,
   "metadata": {},
   "outputs": [
    {
     "data": {
      "text/plain": [
       "0.9995103375980897"
      ]
     },
     "execution_count": 1,
     "metadata": {},
     "output_type": "execute_result"
    }
   ],
   "source": [
    "from scipy.stats.mstats import gmean\n",
    "import pandas as pd\n",
    "\n",
    "csv = pd.read_csv('vrp_ekz_fact.csv')\n",
    "c = pd.read_csv('vrp_ekz_prog.csv')\n",
    "\n",
    "lmin = csv['o_ifo_mining_zhylyoi']\n",
    "Nmin=csv['o_prod_mining_zhylyoi']\n",
    "\n",
    "poil_f = csv['o_oil_price']\n",
    "rateKZT_f= csv['o_exchange_rate']\n",
    "\n",
    "poil_p = c['o_oil_price']\n",
    "rateKZT_p= c['o_exchange_rate']\n",
    "\n",
    "Dmin = Nmin/Nmin.shift(1)/lmin*10000\n",
    "\n",
    "GpoilKZT_f= ((poil_f*rateKZT_f)/(poil_f.shift(1)*rateKZT_f.shift(1)))*100\n",
    "\n",
    "GpoilKZT_p= ((poil_p*rateKZT_p)/(poil_p.shift(1)*rateKZT_p.shift(1)))*100\n",
    "\n",
    "\n",
    "GpoilKZT_p[0]=(poil_p[0] * rateKZT_p[0])/(344.71*71.64)*100\n",
    "\n",
    "\n",
    "EpoilKZT = (gmean(Dmin[1:]))/(gmean(GpoilKZT_f[1:]))\n",
    "\n",
    "EpoilKZT"
   ]
  },
  {
   "cell_type": "code",
   "execution_count": 2,
   "metadata": {},
   "outputs": [],
   "source": [
    "Dmin = (GpoilKZT_p-100)*EpoilKZT + 100\n",
    "\n",
    "newdf = pd.DataFrame(columns=['Dmin_b','Dmin_o','Dmin_p'], index=range(12))\n",
    "Dmin_b = Dmin.loc[c.o_script.str.match(r'базовый')].reset_index(drop = True)\n",
    "Dmin_o = Dmin.loc[c.o_script.str.match(r'оптимистичный')].reset_index(drop = True)\n",
    "Dmin_p = Dmin.loc[c.o_script.str.match(r'пессимистичный')].reset_index(drop = True)\n",
    "\n",
    "newdf.Dmin_b = Dmin_b\n",
    "newdf.Dmin_o = Dmin_o\n",
    "newdf.Dmin_p = Dmin_p\n",
    "\n",
    "newdf.to_csv(r'Dmin(2019-2025).csv')"
   ]
  },
  {
   "cell_type": "code",
   "execution_count": 3,
   "metadata": {},
   "outputs": [],
   "source": [
    "newdf.to_csv (r'Dmin(2019-2025).csv', index = False)\n"
   ]
  },
  {
   "cell_type": "code",
   "execution_count": null,
   "metadata": {},
   "outputs": [],
   "source": []
  },
  {
   "cell_type": "code",
   "execution_count": null,
   "metadata": {},
   "outputs": [],
   "source": []
  }
 ],
 "metadata": {
  "kernelspec": {
   "display_name": "Python 3",
   "language": "python",
   "name": "python3"
  },
  "language_info": {
   "codemirror_mode": {
    "name": "ipython",
    "version": 3
   },
   "file_extension": ".py",
   "mimetype": "text/x-python",
   "name": "python",
   "nbconvert_exporter": "python",
   "pygments_lexer": "ipython3",
   "version": "3.7.6"
  }
 },
 "nbformat": 4,
 "nbformat_minor": 4
}
