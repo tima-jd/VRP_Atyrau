{
 "cells": [
  {
   "cell_type": "code",
   "execution_count": 1,
   "metadata": {},
   "outputs": [
    {
     "data": {
      "text/plain": [
       "(0      88.637633\n",
       " 1     102.362205\n",
       " 2     100.000000\n",
       " 3     100.000000\n",
       " 4     100.000000\n",
       " 5     100.000000\n",
       " 6     100.000000\n",
       " 7      97.692308\n",
       " 8     122.960630\n",
       " 9     100.000000\n",
       " 10    100.000000\n",
       " 11    100.000000\n",
       " 12    100.000000\n",
       " 13    100.000000\n",
       " 14     66.495902\n",
       " 15    100.000000\n",
       " 16    100.000000\n",
       " 17    100.000000\n",
       " 18    100.000000\n",
       " 19    100.000000\n",
       " 20    122.303544\n",
       " Name: o_oil_price, dtype: float64,\n",
       " 0     104.646846\n",
       " 1     100.691516\n",
       " 2     103.055820\n",
       " 3     102.806271\n",
       " 4     116.391618\n",
       " 5     106.459343\n",
       " 6     102.087877\n",
       " 7      74.102922\n",
       " 8     103.605722\n",
       " 9     102.853020\n",
       " 10    104.561906\n",
       " 11    131.720011\n",
       " 12    106.072819\n",
       " 13    103.189547\n",
       " 14     61.772681\n",
       " 15    103.161686\n",
       " 16    101.892542\n",
       " 17    108.204734\n",
       " 18    106.710636\n",
       " 19    101.375911\n",
       " 20     81.900796\n",
       " Name: o_oil_zhylyoi, dtype: float64)"
      ]
     },
     "execution_count": 1,
     "metadata": {},
     "output_type": "execute_result"
    }
   ],
   "source": [
    "import pandas as pd\n",
    "csv = pd.read_csv('vrp_ekz_prog.csv')\n",
    "\n",
    "\n",
    "poil = csv['o_oil_price']\n",
    "c=csv['o_year']\n",
    "voil = csv['o_oil_zhylyoi']\n",
    "\n",
    "h=poil.shift(1)\n",
    "h[0]= 71.64\n",
    "\n",
    "l=voil.shift(1)\n",
    "l[0]= 31542.90\n",
    "\n",
    "Gvoil= voil/l*100\n",
    "Gpoil= poil/h*100\n",
    "\n",
    "Gpoil,Gvoil"
   ]
  },
  {
   "cell_type": "code",
   "execution_count": 3,
   "metadata": {},
   "outputs": [
    {
     "data": {
      "text/plain": [
       "0     104.258\n",
       "1      105.12\n",
       "2     108.439\n",
       "3     111.583\n",
       "4     130.481\n",
       "5     139.189\n",
       "6     142.192\n",
       "7     103.988\n",
       "8     109.005\n",
       "9     112.218\n",
       "10    117.507\n",
       "11    156.019\n",
       "12    165.808\n",
       "13    171.272\n",
       "14    100.879\n",
       "15    104.175\n",
       "16    106.212\n",
       "17    115.216\n",
       "18    123.204\n",
       "19    124.956\n",
       "20    102.922\n",
       "Name: c1, dtype: object"
      ]
     },
     "execution_count": 3,
     "metadata": {},
     "output_type": "execute_result"
    }
   ],
   "source": [
    "i=0\n",
    "c=100\n",
    "\n",
    "newdf = pd.DataFrame(columns=['c1'], index=range(21))\n",
    "while i<=20:\n",
    "    c = (c*((((Gpoil[i]-100) * 0.0478466159622517) + ((Gvoil[i]-100) * 1.0332099284254384)) + 100)) /100\n",
    "    newdf.loc[i].c1 = c\n",
    "    i=i+1\n",
    "lminS=newdf['c1']\n",
    "\n",
    "lminS"
   ]
  },
  {
   "cell_type": "code",
   "execution_count": 4,
   "metadata": {},
   "outputs": [
    {
     "data": {
      "text/plain": [
       "0     104.258\n",
       "1     100.828\n",
       "2     103.157\n",
       "3     102.899\n",
       "4     116.936\n",
       "5     106.674\n",
       "6     102.157\n",
       "7     73.1325\n",
       "8     104.824\n",
       "9     102.948\n",
       "10    104.713\n",
       "11    132.773\n",
       "12    106.274\n",
       "13    103.295\n",
       "14    58.9001\n",
       "15    103.267\n",
       "16    101.955\n",
       "17    108.477\n",
       "18    106.933\n",
       "19    101.422\n",
       "20    82.3669\n",
       "Name: c1, dtype: object"
      ]
     },
     "execution_count": 4,
     "metadata": {},
     "output_type": "execute_result"
    }
   ],
   "source": [
    "w=lminS.shift(1)\n",
    "w[0]=100\n",
    "lmint = lminS/w*100\n",
    "lmint"
   ]
  },
  {
   "cell_type": "code",
   "execution_count": 5,
   "metadata": {},
   "outputs": [],
   "source": [
    "lmint.to_csv (r'lmint(2019-2025).csv', index = False)\n"
   ]
  },
  {
   "cell_type": "code",
   "execution_count": null,
   "metadata": {},
   "outputs": [],
   "source": []
  },
  {
   "cell_type": "code",
   "execution_count": null,
   "metadata": {},
   "outputs": [],
   "source": []
  },
  {
   "cell_type": "code",
   "execution_count": null,
   "metadata": {},
   "outputs": [],
   "source": []
  }
 ],
 "metadata": {
  "kernelspec": {
   "display_name": "Python 3",
   "language": "python",
   "name": "python3"
  },
  "language_info": {
   "codemirror_mode": {
    "name": "ipython",
    "version": 3
   },
   "file_extension": ".py",
   "mimetype": "text/x-python",
   "name": "python",
   "nbconvert_exporter": "python",
   "pygments_lexer": "ipython3",
   "version": "3.7.6"
  }
 },
 "nbformat": 4,
 "nbformat_minor": 4
}
