{
 "cells": [
  {
   "cell_type": "code",
   "execution_count": 13,
   "metadata": {},
   "outputs": [
    {
     "data": {
      "text/plain": [
       "1.0001411767109034"
      ]
     },
     "execution_count": 13,
     "metadata": {},
     "output_type": "execute_result"
    }
   ],
   "source": [
    "import pandas as pd\n",
    "\n",
    "csv = pd.read_csv('vrp_ekz_fact.csv')\n",
    "c = pd.read_csv('vrp_ekz_prog.csv')\n",
    "\n",
    "lmin = csv['o_ifo_mining_zhylyoi']\n",
    "Nmin=csv['o_prod_mining_zhylyoi']\n",
    "\n",
    "poil_f = csv['o_oil_price']\n",
    "rateKZT_f= csv['o_exchange_rate']\n",
    "\n",
    "poil_p = c['o_oil_price']\n",
    "rateKZT_p= c['o_exchange_rate']\n",
    "\n",
    "Dmin = Nmin/Nmin.shift(1)/lmin*10000\n",
    "\n",
    "GpoilKZT_f= ((poil_f*rateKZT_f)/(poil_f.shift(1)*rateKZT_f.shift(1)))*100\n",
    "\n",
    "\n",
    "\n",
    "GpoilKZT_p= ((poil_p*rateKZT_p)/(poil_p.shift(1)*rateKZT_p.shift(1)))*100\n",
    "\n",
    "\n",
    "\n",
    "GpoilKZT_p[0]=(poil_p[0] * rateKZT_p[0])/(344.71*71.64)*100\n",
    "\n",
    "\n",
    "EpoilKZT = Dmin.prod()**(1/(Dmin.mean()+1))/GpoilKZT_f.prod()**(1/(GpoilKZT_f.mean()+1))\n",
    "\n",
    "EpoilKZT"
   ]
  },
  {
   "cell_type": "code",
   "execution_count": 14,
   "metadata": {},
   "outputs": [
    {
     "data": {
      "text/plain": [
       "0      98.611774\n",
       "1     104.097736\n",
       "2     100.000000\n",
       "3     100.000000\n",
       "4     100.000000\n",
       "5     100.000000\n",
       "6     100.000000\n",
       "7      96.063547\n",
       "8     123.444881\n",
       "9     100.000000\n",
       "10    100.000000\n",
       "11    100.000000\n",
       "12    100.000000\n",
       "13    100.000000\n",
       "14     70.809697\n",
       "15    100.000000\n",
       "16    100.000000\n",
       "17    100.000000\n",
       "18    100.000000\n",
       "19    100.000000\n",
       "20    114.400591\n",
       "dtype: float64"
      ]
     },
     "execution_count": 14,
     "metadata": {},
     "output_type": "execute_result"
    }
   ],
   "source": [
    "Dmin_t = (GpoilKZT_p-100)*EpoilKZT+100\n",
    "\n",
    "Dmin_t"
   ]
  },
  {
   "cell_type": "code",
   "execution_count": 15,
   "metadata": {},
   "outputs": [
    {
     "data": {
      "text/plain": [
       "(0      88.637633\n",
       " 1     102.362205\n",
       " 2     100.000000\n",
       " 3     100.000000\n",
       " 4     100.000000\n",
       " 5     100.000000\n",
       " 6     100.000000\n",
       " 7      97.692308\n",
       " 8     122.960630\n",
       " 9     100.000000\n",
       " 10    100.000000\n",
       " 11    100.000000\n",
       " 12    100.000000\n",
       " 13    100.000000\n",
       " 14     66.495902\n",
       " 15    100.000000\n",
       " 16    100.000000\n",
       " 17    100.000000\n",
       " 18    100.000000\n",
       " 19    100.000000\n",
       " 20    122.303544\n",
       " Name: o_oil_price, dtype: float64,\n",
       " 0     104.646846\n",
       " 1     100.691516\n",
       " 2     103.055820\n",
       " 3     102.806271\n",
       " 4     116.391618\n",
       " 5     106.459343\n",
       " 6     102.087877\n",
       " 7      74.102922\n",
       " 8     103.605722\n",
       " 9     102.853020\n",
       " 10    104.561906\n",
       " 11    131.720011\n",
       " 12    106.072819\n",
       " 13    103.189547\n",
       " 14     61.772681\n",
       " 15    103.161686\n",
       " 16    101.892542\n",
       " 17    108.204734\n",
       " 18    106.710636\n",
       " 19    101.375911\n",
       " 20     81.900796\n",
       " Name: o_oil_zhylyoi, dtype: float64)"
      ]
     },
     "execution_count": 15,
     "metadata": {},
     "output_type": "execute_result"
    }
   ],
   "source": [
    "import pandas as pd\n",
    "p = pd.read_csv('vrp_ekz_prog.csv')\n",
    "\n",
    "\n",
    "poil = p['o_oil_price']\n",
    "c=csv['o_year']\n",
    "poil_v = p['o_oil_zhylyoi']\n",
    "\n",
    "h=poil.shift(1)\n",
    "h[0]= 71.64\n",
    "\n",
    "l=poil_v.shift(1)\n",
    "l[0]= 31542.90\n",
    "\n",
    "Gvoil= poil_v/l*100\n",
    "Gpoil= poil/h*100\n",
    "\n",
    "Gpoil,Gvoil"
   ]
  },
  {
   "cell_type": "code",
   "execution_count": 16,
   "metadata": {},
   "outputs": [
    {
     "data": {
      "text/plain": [
       "0     104.276\n",
       "1     105.141\n",
       "2     108.473\n",
       "3      111.63\n",
       "4     130.607\n",
       "5     139.356\n",
       "6     142.374\n",
       "7     103.978\n",
       "8     109.009\n",
       "9     112.234\n",
       "10    117.544\n",
       "11    156.212\n",
       "12     166.05\n",
       "13    171.543\n",
       "14    100.785\n",
       "15    104.089\n",
       "16    106.132\n",
       "17    115.163\n",
       "18    123.178\n",
       "19    124.936\n",
       "20    102.818\n",
       "Name: c1, dtype: object"
      ]
     },
     "execution_count": 16,
     "metadata": {},
     "output_type": "execute_result"
    }
   ],
   "source": [
    "i=0\n",
    "c=100\n",
    "\n",
    "newdf = pd.DataFrame(columns=['c1'], index=range(21))\n",
    "while i<=20:\n",
    "    c = (c*((((Gpoil[i]-100) * 0.0478466159622517) + ((Gvoil[i]-100) * 1.0370895850506001)) + 100)) /100\n",
    "    newdf.loc[i].c1 = c\n",
    "    i=i+1\n",
    "lminS=newdf['c1']\n",
    "\n",
    "lminS"
   ]
  },
  {
   "cell_type": "code",
   "execution_count": 17,
   "metadata": {},
   "outputs": [
    {
     "data": {
      "text/plain": [
       "0     104.276\n",
       "1      100.83\n",
       "2     103.169\n",
       "3      102.91\n",
       "4         117\n",
       "5     106.699\n",
       "6     102.165\n",
       "7      73.032\n",
       "8     104.838\n",
       "9     102.959\n",
       "10    104.731\n",
       "11    132.896\n",
       "12    106.298\n",
       "13    103.308\n",
       "14    58.7518\n",
       "15    103.279\n",
       "16    101.963\n",
       "17    108.509\n",
       "18     106.96\n",
       "19    101.427\n",
       "20    82.2967\n",
       "Name: c1, dtype: object"
      ]
     },
     "execution_count": 17,
     "metadata": {},
     "output_type": "execute_result"
    }
   ],
   "source": [
    "w=lminS.shift(1)\n",
    "w[0]=100\n",
    "lmint = lminS/w*100\n",
    "lmint"
   ]
  },
  {
   "cell_type": "code",
   "execution_count": 18,
   "metadata": {},
   "outputs": [
    {
     "data": {
      "text/plain": [
       "0     102.828\n",
       "1      107.93\n",
       "2     111.351\n",
       "3     114.591\n",
       "4     134.071\n",
       "5     143.053\n",
       "6      146.15\n",
       "7     102.535\n",
       "8     132.698\n",
       "9     136.624\n",
       "10    143.088\n",
       "11    190.159\n",
       "12    202.135\n",
       "13    208.821\n",
       "14    86.8738\n",
       "15    89.7224\n",
       "16    91.4834\n",
       "17    99.2677\n",
       "18    106.176\n",
       "19    107.691\n",
       "20    101.389\n",
       "Name: c1, dtype: object"
      ]
     },
     "execution_count": 18,
     "metadata": {},
     "output_type": "execute_result"
    }
   ],
   "source": [
    "c=100\n",
    "i=0\n",
    "\n",
    "newdf = pd.DataFrame(columns=['c1'], index=range(21))\n",
    "\n",
    "while i<=20:\n",
    "    c = c*lmint[i]*Dmin_t[i]/10000\n",
    "    newdf.loc[i].c1 = c    \n",
    "    i=i+1\n",
    "\n",
    "Nmin=newdf['c1']\n",
    "\n",
    "Nmin"
   ]
  },
  {
   "cell_type": "code",
   "execution_count": 11,
   "metadata": {},
   "outputs": [],
   "source": [
    "lmint.to_csv (r'lmint(2019-2025).csv', index = False)\n"
   ]
  },
  {
   "cell_type": "code",
   "execution_count": null,
   "metadata": {},
   "outputs": [],
   "source": []
  }
 ],
 "metadata": {
  "kernelspec": {
   "display_name": "Python 3",
   "language": "python",
   "name": "python3"
  },
  "language_info": {
   "codemirror_mode": {
    "name": "ipython",
    "version": 3
   },
   "file_extension": ".py",
   "mimetype": "text/x-python",
   "name": "python",
   "nbconvert_exporter": "python",
   "pygments_lexer": "ipython3",
   "version": "3.7.6"
  }
 },
 "nbformat": 4,
 "nbformat_minor": 4
}
