{
 "cells": [
  {
   "cell_type": "code",
   "execution_count": 1,
   "metadata": {},
   "outputs": [
    {
     "data": {
      "text/plain": [
       "0     104.646846\n",
       "1     100.691516\n",
       "2     103.055820\n",
       "3     102.806271\n",
       "4     116.391618\n",
       "5     106.459343\n",
       "6     102.087877\n",
       "7      74.102922\n",
       "8     103.605722\n",
       "9     102.853020\n",
       "10    104.561906\n",
       "11    131.720011\n",
       "12    106.072819\n",
       "13    103.189547\n",
       "14     61.772681\n",
       "15    103.161686\n",
       "16    101.892542\n",
       "17    108.204734\n",
       "18    106.710636\n",
       "19    101.375911\n",
       "20     81.900796\n",
       "Name: o_oil_zhylyoi, dtype: float64"
      ]
     },
     "execution_count": 1,
     "metadata": {},
     "output_type": "execute_result"
    }
   ],
   "source": [
    "import pandas as pd\n",
    "csv = pd.read_csv('vrp_ekz_prog.csv')\n",
    "poil = csv['o_oil_zhylyoi']\n",
    "c=csv['o_year']\n",
    "l=poil.shift(1)\n",
    "l[0]= 31542.90\n",
    "Gvoil= poil/l*100\n",
    "Gvoil"
   ]
  },
  {
   "cell_type": "code",
   "execution_count": 2,
   "metadata": {},
   "outputs": [
    {
     "data": {
      "text/plain": [
       "0      88.637633\n",
       "1     102.362205\n",
       "2     100.000000\n",
       "3     100.000000\n",
       "4     100.000000\n",
       "5     100.000000\n",
       "6     100.000000\n",
       "7      97.692308\n",
       "8     122.960630\n",
       "9     100.000000\n",
       "10    100.000000\n",
       "11    100.000000\n",
       "12    100.000000\n",
       "13    100.000000\n",
       "14     66.495902\n",
       "15    100.000000\n",
       "16    100.000000\n",
       "17    100.000000\n",
       "18    100.000000\n",
       "19    100.000000\n",
       "20    122.303544\n",
       "Name: o_oil_price, dtype: float64"
      ]
     },
     "execution_count": 2,
     "metadata": {},
     "output_type": "execute_result"
    }
   ],
   "source": [
    "import pandas as pd\n",
    "csv = pd.read_csv('vrp_ekz_prog.csv')\n",
    "poil = csv['o_oil_price']\n",
    "c=csv['o_year']\n",
    "l=poil.shift(1)\n",
    "l[0]= 71.64\n",
    "Gpoil= poil/l*100\n",
    "Gpoil"
   ]
  },
  {
   "cell_type": "code",
   "execution_count": 9,
   "metadata": {},
   "outputs": [
    {
     "data": {
      "text/plain": [
       "(0      88.637633\n",
       " 1     102.362205\n",
       " 2     100.000000\n",
       " 3     100.000000\n",
       " 4     100.000000\n",
       " 5     100.000000\n",
       " 6     100.000000\n",
       " 7      97.692308\n",
       " 8     122.960630\n",
       " 9     100.000000\n",
       " 10    100.000000\n",
       " 11    100.000000\n",
       " 12    100.000000\n",
       " 13    100.000000\n",
       " 14     66.495902\n",
       " 15    100.000000\n",
       " 16    100.000000\n",
       " 17    100.000000\n",
       " 18    100.000000\n",
       " 19    100.000000\n",
       " 20    122.303544\n",
       " Name: o_oil_price, dtype: float64,\n",
       " 0     104.646846\n",
       " 1     100.691516\n",
       " 2     103.055820\n",
       " 3     102.806271\n",
       " 4     116.391618\n",
       " 5     106.459343\n",
       " 6     102.087877\n",
       " 7      74.102922\n",
       " 8     103.605722\n",
       " 9     102.853020\n",
       " 10    104.561906\n",
       " 11    131.720011\n",
       " 12    106.072819\n",
       " 13    103.189547\n",
       " 14     61.772681\n",
       " 15    103.161686\n",
       " 16    101.892542\n",
       " 17    108.204734\n",
       " 18    106.710636\n",
       " 19    101.375911\n",
       " 20     81.900796\n",
       " Name: o_oil_zhylyoi, dtype: float64)"
      ]
     },
     "execution_count": 9,
     "metadata": {},
     "output_type": "execute_result"
    }
   ],
   "source": [
    "import pandas as pd\n",
    "csv = pd.read_csv('vrp_ekz_prog.csv')\n",
    "\n",
    "\n",
    "poil = csv['o_oil_price']\n",
    "c=csv['o_year']\n",
    "poil_v = csv['o_oil_zhylyoi']\n",
    "\n",
    "h=poil.shift(1)\n",
    "h[0]= 71.64\n",
    "\n",
    "l=poil_v.shift(1)\n",
    "l[0]= 31542.90\n",
    "\n",
    "Gvoil= poil_v/l*100\n",
    "Gpoil= poil/h*100\n",
    "\n",
    "Gpoil,Gvoil"
   ]
  },
  {
   "cell_type": "code",
   "execution_count": null,
   "metadata": {},
   "outputs": [],
   "source": []
  },
  {
   "cell_type": "code",
   "execution_count": null,
   "metadata": {},
   "outputs": [],
   "source": []
  },
  {
   "cell_type": "code",
   "execution_count": null,
   "metadata": {},
   "outputs": [],
   "source": []
  },
  {
   "cell_type": "code",
   "execution_count": null,
   "metadata": {},
   "outputs": [],
   "source": []
  }
 ],
 "metadata": {
  "kernelspec": {
   "display_name": "Python 3",
   "language": "python",
   "name": "python3"
  },
  "language_info": {
   "codemirror_mode": {
    "name": "ipython",
    "version": 3
   },
   "file_extension": ".py",
   "mimetype": "text/x-python",
   "name": "python",
   "nbconvert_exporter": "python",
   "pygments_lexer": "ipython3",
   "version": "3.7.6"
  }
 },
 "nbformat": 4,
 "nbformat_minor": 4
}
