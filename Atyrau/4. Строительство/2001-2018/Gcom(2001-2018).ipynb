{
 "cells": [
  {
   "cell_type": "code",
   "execution_count": 1,
   "metadata": {},
   "outputs": [
    {
     "data": {
      "text/plain": [
       "0            NaN\n",
       "1      78.048780\n",
       "2     114.062500\n",
       "3     121.917808\n",
       "4     252.808989\n",
       "5     136.888889\n",
       "6     104.220779\n",
       "7     103.738318\n",
       "8     100.000000\n",
       "9     100.300300\n",
       "10    104.491018\n",
       "11    110.315186\n",
       "12     78.181818\n",
       "13    116.611296\n",
       "14    102.849003\n",
       "15    101.662050\n",
       "16     94.277929\n",
       "17    121.965318\n",
       "18    134.677725\n",
       "Name: o_housing_atyrau, dtype: float64"
      ]
     },
     "execution_count": 1,
     "metadata": {},
     "output_type": "execute_result"
    }
   ],
   "source": [
    "import pandas as pd\n",
    "csv = pd.read_csv('vrp_ekz_fact.csv')\n",
    "com = csv['o_housing_atyrau']\n",
    "lmin = csv['o_ifo_mining_atyrau']\n",
    "\n",
    "Gcom = com/com.shift(1)*100\n",
    "\n",
    "Gcom"
   ]
  },
  {
   "cell_type": "code",
   "execution_count": null,
   "metadata": {},
   "outputs": [],
   "source": []
  }
 ],
 "metadata": {
  "kernelspec": {
   "display_name": "Python 3",
   "language": "python",
   "name": "python3"
  },
  "language_info": {
   "codemirror_mode": {
    "name": "ipython",
    "version": 3
   },
   "file_extension": ".py",
   "mimetype": "text/x-python",
   "name": "python",
   "nbconvert_exporter": "python",
   "pygments_lexer": "ipython3",
   "version": "3.7.6"
  }
 },
 "nbformat": 4,
 "nbformat_minor": 4
}
