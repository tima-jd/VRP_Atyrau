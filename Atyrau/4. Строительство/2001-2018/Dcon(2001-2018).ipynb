{
 "cells": [
  {
   "cell_type": "code",
   "execution_count": 1,
   "metadata": {},
   "outputs": [
    {
     "data": {
      "text/plain": [
       "0            NaN\n",
       "1     103.107601\n",
       "2     102.769442\n",
       "3      99.209647\n",
       "4     104.119476\n",
       "5     104.389944\n",
       "6     115.558527\n",
       "7     106.207933\n",
       "8     105.045553\n",
       "9     105.592967\n",
       "10    107.465572\n",
       "11    103.642814\n",
       "12     85.113412\n",
       "13    104.652903\n",
       "14    106.934792\n",
       "15    103.072872\n",
       "16    104.775730\n",
       "17    105.076614\n",
       "18    104.792398\n",
       "dtype: float64"
      ]
     },
     "execution_count": 1,
     "metadata": {},
     "output_type": "execute_result"
    }
   ],
   "source": [
    "import pandas as pd\n",
    "csv = pd.read_csv('vrp_ekz_fact.csv')\n",
    "lcon = csv['o_ifo_building_atyrau']\n",
    "Ncon = csv['o_prod_building_atyrau']\n",
    "\n",
    "Dcon = Ncon/Ncon.shift(1)/lcon*10000\n",
    "\n",
    "Dcon"
   ]
  },
  {
   "cell_type": "code",
   "execution_count": null,
   "metadata": {},
   "outputs": [],
   "source": []
  }
 ],
 "metadata": {
  "kernelspec": {
   "display_name": "Python 3",
   "language": "python",
   "name": "python3"
  },
  "language_info": {
   "codemirror_mode": {
    "name": "ipython",
    "version": 3
   },
   "file_extension": ".py",
   "mimetype": "text/x-python",
   "name": "python",
   "nbconvert_exporter": "python",
   "pygments_lexer": "ipython3",
   "version": "3.7.6"
  }
 },
 "nbformat": 4,
 "nbformat_minor": 4
}
