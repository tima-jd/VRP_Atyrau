{
 "cells": [
  {
   "cell_type": "code",
   "execution_count": 8,
   "metadata": {},
   "outputs": [],
   "source": [
    "import pandas as pd\n",
    "csv = pd.read_csv('vrp_ekz_prog.csv')\n",
    "s = pd.read_csv('lmin(2019-2025).csv')\n",
    "\n",
    "com = csv['o_housing_atyrau']\n",
    "lmint = s['c1']\n",
    "\n",
    "a=com.shift(1)\n",
    "a[0]=568.34\n",
    "\n",
    "Gcom = com/a*100\n",
    "\n",
    "i=0\n",
    "c=100\n",
    "\n",
    "newdf = pd.DataFrame(columns=['c1'], index=range(21))\n",
    "while i<=20:\n",
    "    c = (c*((((Gcom[i]-100) * 2.4853648695011965) + ((lmint[i]-100) * 0.28506245188638907)) + 100)) /100\n",
    "    newdf.loc[i].c1 = c\n",
    "    i=i+1\n",
    "\n",
    "lconS=newdf['c1']\n",
    "\n",
    "l = lconS.shift(1)\n",
    "l[0]=100\n",
    "lcont=lconS/l*100\n",
    "lcont\n",
    "\n",
    "lcont.to_csv(r'lcon(2019-2025).csv', index = False)"
   ]
  },
  {
   "cell_type": "code",
   "execution_count": null,
   "metadata": {},
   "outputs": [],
   "source": []
  }
 ],
 "metadata": {
  "kernelspec": {
   "display_name": "Python 3",
   "language": "python",
   "name": "python3"
  },
  "language_info": {
   "codemirror_mode": {
    "name": "ipython",
    "version": 3
   },
   "file_extension": ".py",
   "mimetype": "text/x-python",
   "name": "python",
   "nbconvert_exporter": "python",
   "pygments_lexer": "ipython3",
   "version": "3.7.6"
  }
 },
 "nbformat": 4,
 "nbformat_minor": 4
}
