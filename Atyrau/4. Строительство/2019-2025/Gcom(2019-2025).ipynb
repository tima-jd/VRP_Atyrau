{
 "cells": [
  {
   "cell_type": "code",
   "execution_count": 1,
   "metadata": {},
   "outputs": [
    {
     "data": {
      "text/plain": [
       "0      13.643242\n",
       "1     101.998968\n",
       "2     101.997724\n",
       "3     101.995785\n",
       "4     102.005348\n",
       "5     102.001668\n",
       "6     101.997430\n",
       "7      88.799817\n",
       "8     104.062419\n",
       "9     104.002974\n",
       "10    103.932316\n",
       "11    103.875258\n",
       "12    103.807947\n",
       "13    103.742690\n",
       "14     80.239828\n",
       "15    100.957977\n",
       "16    100.974190\n",
       "17    100.989851\n",
       "18    100.980149\n",
       "19    100.995208\n",
       "20     94.330900\n",
       "Name: o_housing_zhylyoi, dtype: float64"
      ]
     },
     "execution_count": 1,
     "metadata": {},
     "output_type": "execute_result"
    }
   ],
   "source": [
    "import pandas as pd\n",
    "csv = pd.read_csv('vrp_ekz_prog.csv')\n",
    "com = csv['o_housing_zhylyoi']\n",
    "a=com.shift(1)\n",
    "a[0]=568.34\n",
    "Gcom = com/a*100\n",
    "Gcom\n"
   ]
  },
  {
   "cell_type": "code",
   "execution_count": null,
   "metadata": {},
   "outputs": [],
   "source": []
  }
 ],
 "metadata": {
  "kernelspec": {
   "display_name": "Python 3",
   "language": "python",
   "name": "python3"
  },
  "language_info": {
   "codemirror_mode": {
    "name": "ipython",
    "version": 3
   },
   "file_extension": ".py",
   "mimetype": "text/x-python",
   "name": "python",
   "nbconvert_exporter": "python",
   "pygments_lexer": "ipython3",
   "version": "3.7.6"
  }
 },
 "nbformat": 4,
 "nbformat_minor": 4
}
