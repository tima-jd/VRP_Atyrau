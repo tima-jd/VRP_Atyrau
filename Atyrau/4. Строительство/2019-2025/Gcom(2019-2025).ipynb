{
 "cells": [
  {
   "cell_type": "code",
   "execution_count": 3,
   "metadata": {},
   "outputs": [
    {
     "data": {
      "text/plain": [
       "0     103.355386\n",
       "1     102.980882\n",
       "2     102.980559\n",
       "3     102.980978\n",
       "4     102.981980\n",
       "5     102.980398\n",
       "6     102.980863\n",
       "7     103.355386\n",
       "8     105.073118\n",
       "9     104.999919\n",
       "10    104.933109\n",
       "11    104.865890\n",
       "12    104.804173\n",
       "13    104.744511\n",
       "14    105.355949\n",
       "15    101.938943\n",
       "16    101.946297\n",
       "17    101.949315\n",
       "18    101.956179\n",
       "19    101.961936\n",
       "20     89.068992\n",
       "Name: o_housing_atyrau, dtype: float64"
      ]
     },
     "execution_count": 3,
     "metadata": {},
     "output_type": "execute_result"
    }
   ],
   "source": [
    "import pandas as pd\n",
    "csv = pd.read_csv('vrp_ekz_prog.csv')\n",
    "s = pd.read_csv('lmin(2019-2025).csv')\n",
    "\n",
    "com = csv['o_housing_atyrau']\n",
    "\n",
    "a=com.shift(1)\n",
    "a[0]=568.34\n",
    "a[7]=568.34\n",
    "a[14]=568.34\n",
    "Gcom = com/a*100\n",
    "\n",
    "Gcom_b = Gcom.loc[csv.o_script.str.match(r'базовый')].reset_index(drop = True)\n",
    "Gcom_o = Gcom.loc[csv.o_script.str.match(r'оптимистичный')].reset_index(drop = True)\n",
    "Gcom_p = Gcom.loc[csv.o_script.str.match(r'пессимистичный')].reset_index(drop = True)\n",
    "\n",
    "Gcom"
   ]
  },
  {
   "cell_type": "code",
   "execution_count": null,
   "metadata": {},
   "outputs": [],
   "source": []
  }
 ],
 "metadata": {
  "kernelspec": {
   "display_name": "Python 3",
   "language": "python",
   "name": "python3"
  },
  "language_info": {
   "codemirror_mode": {
    "name": "ipython",
    "version": 3
   },
   "file_extension": ".py",
   "mimetype": "text/x-python",
   "name": "python",
   "nbconvert_exporter": "python",
   "pygments_lexer": "ipython3",
   "version": "3.7.6"
  }
 },
 "nbformat": 4,
 "nbformat_minor": 4
}
