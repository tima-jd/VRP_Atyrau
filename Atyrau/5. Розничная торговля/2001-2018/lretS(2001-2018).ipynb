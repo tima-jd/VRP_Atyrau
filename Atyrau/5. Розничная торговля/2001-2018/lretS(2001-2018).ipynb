{
 "cells": [
  {
   "cell_type": "code",
   "execution_count": 1,
   "metadata": {},
   "outputs": [
    {
     "data": {
      "text/plain": [
       "0     174.348\n",
       "1     144.535\n",
       "2     122.999\n",
       "3     92.0032\n",
       "4     71.2105\n",
       "5     66.5106\n",
       "6     52.2108\n",
       "7     42.5518\n",
       "8     42.9348\n",
       "9     60.4092\n",
       "10    84.5729\n",
       "11    83.1352\n",
       "12    93.9427\n",
       "13    90.6547\n",
       "14    100.717\n",
       "15    82.2861\n",
       "16    96.0279\n",
       "17    97.2763\n",
       "18        100\n",
       "Name: c1, dtype: object"
      ]
     },
     "execution_count": 1,
     "metadata": {},
     "output_type": "execute_result"
    }
   ],
   "source": [
    "import pandas as pd\n",
    "csv = pd.read_csv('vrp_ekz_fact.csv')\n",
    "l = csv['o_ifo_retail_atyrau']\n",
    "\n",
    "i=18\n",
    "c=100\n",
    "newdf = pd.DataFrame(columns=['c1'], index=range(19))\n",
    "while i>0:\n",
    "    c = (c/l[i]) * 100\n",
    "    i=i-1\n",
    "    newdf.loc[i].c1 = c\n",
    "lretS=newdf['c1']\n",
    "lretS[18]=100\n",
    "\n",
    "lretS"
   ]
  },
  {
   "cell_type": "code",
   "execution_count": null,
   "metadata": {},
   "outputs": [],
   "source": []
  }
 ],
 "metadata": {
  "kernelspec": {
   "display_name": "Python 3",
   "language": "python",
   "name": "python3"
  },
  "language_info": {
   "codemirror_mode": {
    "name": "ipython",
    "version": 3
   },
   "file_extension": ".py",
   "mimetype": "text/x-python",
   "name": "python",
   "nbconvert_exporter": "python",
   "pygments_lexer": "ipython3",
   "version": "3.7.6"
  }
 },
 "nbformat": 4,
 "nbformat_minor": 4
}
