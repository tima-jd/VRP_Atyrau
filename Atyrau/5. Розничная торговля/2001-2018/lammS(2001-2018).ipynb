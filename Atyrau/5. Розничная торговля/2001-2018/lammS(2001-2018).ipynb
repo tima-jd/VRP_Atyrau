{
 "cells": [
  {
   "cell_type": "code",
   "execution_count": 3,
   "metadata": {},
   "outputs": [
    {
     "data": {
      "text/plain": [
       "0     13.8922\n",
       "1      15.545\n",
       "2     17.9355\n",
       "3     24.6773\n",
       "4     29.2721\n",
       "5     39.9193\n",
       "6     46.6248\n",
       "7     49.7372\n",
       "8     40.8766\n",
       "9     38.0255\n",
       "10    42.6923\n",
       "11    45.1527\n",
       "12    45.2771\n",
       "13     33.554\n",
       "14     36.389\n",
       "15    39.6371\n",
       "16     71.796\n",
       "17    76.3133\n",
       "18        100\n",
       "Name: c1, dtype: object"
      ]
     },
     "execution_count": 3,
     "metadata": {},
     "output_type": "execute_result"
    }
   ],
   "source": [
    "import pandas as pd\n",
    "csv = pd.read_csv('vrp_ekz_fact.csv')\n",
    "lagr = csv['o_ifo_agro_atyrau']\n",
    "Nagr = csv['o_prod_agro_atyrau']\n",
    "lmin = csv['o_ifo_mining_atyrau']\n",
    "Nmin = csv['o_prod_mining_atyrau']\n",
    "lman= csv['o_ifo_man_atyrau']\n",
    "Nman = csv['o_prod_man_atyrau']\n",
    "\n",
    "lamm= (lagr*Nagr.shift(1)+lmin*Nmin.shift(1)+lman*Nman.shift(1))/(Nagr.shift(1)+Nmin.shift(1)+Nman.shift(1))\n",
    "\n",
    "i=18\n",
    "c=100\n",
    "newdf = pd.DataFrame(columns=['c1'], index=range(19))\n",
    "while i>0:\n",
    "    c = (c/lamm[i]) * 100\n",
    "    i=i-1\n",
    "    newdf.loc[i].c1 = c\n",
    "lammS=newdf['c1']\n",
    "lammS[18]=100\n",
    "\n",
    "lammS"
   ]
  },
  {
   "cell_type": "code",
   "execution_count": null,
   "metadata": {},
   "outputs": [],
   "source": []
  }
 ],
 "metadata": {
  "kernelspec": {
   "display_name": "Python 3",
   "language": "python",
   "name": "python3"
  },
  "language_info": {
   "codemirror_mode": {
    "name": "ipython",
    "version": 3
   },
   "file_extension": ".py",
   "mimetype": "text/x-python",
   "name": "python",
   "nbconvert_exporter": "python",
   "pygments_lexer": "ipython3",
   "version": "3.7.6"
  }
 },
 "nbformat": 4,
 "nbformat_minor": 4
}
