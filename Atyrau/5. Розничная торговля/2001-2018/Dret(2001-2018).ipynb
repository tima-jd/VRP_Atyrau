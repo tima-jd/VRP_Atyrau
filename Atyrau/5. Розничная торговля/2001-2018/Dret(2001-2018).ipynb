{
 "cells": [
  {
   "cell_type": "code",
   "execution_count": 2,
   "metadata": {},
   "outputs": [
    {
     "data": {
      "text/plain": [
       "0            NaN\n",
       "1     162.152040\n",
       "2     142.774565\n",
       "3     186.727427\n",
       "4     179.605403\n",
       "5     112.997219\n",
       "6     194.712440\n",
       "7     166.417016\n",
       "8     113.131891\n",
       "9     103.320274\n",
       "10    106.292744\n",
       "11    107.311445\n",
       "12    104.100205\n",
       "13    103.686561\n",
       "14    107.031259\n",
       "15    108.042703\n",
       "16    118.313037\n",
       "17    111.700460\n",
       "18    107.773131\n",
       "dtype: float64"
      ]
     },
     "execution_count": 2,
     "metadata": {},
     "output_type": "execute_result"
    }
   ],
   "source": [
    "import pandas as pd\n",
    "csv = pd.read_csv('vrp_ekz_fact.csv')\n",
    "lret = csv['o_ifo_retail_atyrau']\n",
    "Nret = csv['o_prod_retail_atyrau']\n",
    "Dret = Nret/Nret.shift(1)/lret * 10000\n",
    "Dret"
   ]
  },
  {
   "cell_type": "code",
   "execution_count": null,
   "metadata": {},
   "outputs": [],
   "source": []
  }
 ],
 "metadata": {
  "kernelspec": {
   "display_name": "Python 3",
   "language": "python",
   "name": "python3"
  },
  "language_info": {
   "codemirror_mode": {
    "name": "ipython",
    "version": 3
   },
   "file_extension": ".py",
   "mimetype": "text/x-python",
   "name": "python",
   "nbconvert_exporter": "python",
   "pygments_lexer": "ipython3",
   "version": "3.7.6"
  }
 },
 "nbformat": 4,
 "nbformat_minor": 4
}
