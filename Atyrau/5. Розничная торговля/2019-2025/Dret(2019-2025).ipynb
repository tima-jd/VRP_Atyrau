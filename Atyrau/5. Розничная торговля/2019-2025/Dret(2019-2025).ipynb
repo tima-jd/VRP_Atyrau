{
 "cells": [
  {
   "cell_type": "code",
   "execution_count": 3,
   "metadata": {},
   "outputs": [
    {
     "data": {
      "text/plain": [
       "0     107.019723\n",
       "1     107.019723\n",
       "2     107.019723\n",
       "3     105.849769\n",
       "4     105.849769\n",
       "5     105.849769\n",
       "6     105.849769\n",
       "7     107.019723\n",
       "8     106.575141\n",
       "9     106.575141\n",
       "10    105.405187\n",
       "11    105.405187\n",
       "12    105.405187\n",
       "13    105.405187\n",
       "14    108.821452\n",
       "15    108.821452\n",
       "16    107.651498\n",
       "17    107.651498\n",
       "18    107.651498\n",
       "19    107.651498\n",
       "20    107.019723\n",
       "Name: o_inflation, dtype: float64"
      ]
     },
     "execution_count": 3,
     "metadata": {},
     "output_type": "execute_result"
    }
   ],
   "source": [
    "import pandas as pd\n",
    "csv = pd.read_csv('vrp_ekz_prog.csv')\n",
    "inf = csv['o_inflation']\n",
    "Dret = inf * 1.1699538269926275 + 100\n",
    "Dret"
   ]
  },
  {
   "cell_type": "code",
   "execution_count": 4,
   "metadata": {},
   "outputs": [],
   "source": [
    "Dret.to_csv(r'Dret(2019-2025).csv', index = False)"
   ]
  },
  {
   "cell_type": "code",
   "execution_count": null,
   "metadata": {},
   "outputs": [],
   "source": []
  }
 ],
 "metadata": {
  "kernelspec": {
   "display_name": "Python 3",
   "language": "python",
   "name": "python3"
  },
  "language_info": {
   "codemirror_mode": {
    "name": "ipython",
    "version": 3
   },
   "file_extension": ".py",
   "mimetype": "text/x-python",
   "name": "python",
   "nbconvert_exporter": "python",
   "pygments_lexer": "ipython3",
   "version": "3.7.6"
  }
 },
 "nbformat": 4,
 "nbformat_minor": 4
}
