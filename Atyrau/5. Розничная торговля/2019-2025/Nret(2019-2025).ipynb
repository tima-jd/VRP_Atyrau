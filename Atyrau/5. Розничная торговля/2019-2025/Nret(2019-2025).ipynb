{
 "cells": [
  {
   "cell_type": "code",
   "execution_count": 10,
   "metadata": {},
   "outputs": [
    {
     "data": {
      "text/plain": [
       "0     267927\n",
       "1     297246\n",
       "2     319462\n",
       "3     339532\n",
       "4     360029\n",
       "5     379771\n",
       "6     402178\n",
       "7     416305\n",
       "8     462130\n",
       "9     494039\n",
       "10    525078\n",
       "11    572302\n",
       "12    604090\n",
       "13    640039\n",
       "14    664038\n",
       "15    717981\n",
       "16    771117\n",
       "17    817172\n",
       "18    874914\n",
       "19    940953\n",
       "20    993047\n",
       "Name: c1, dtype: object"
      ]
     },
     "execution_count": 10,
     "metadata": {},
     "output_type": "execute_result"
    }
   ],
   "source": [
    "import pandas as pd\n",
    "csv = pd.read_csv('vrp_ekz_fact.csv')\n",
    "lret_csv = pd.read_csv('lret(2019-2025).csv')\n",
    "Dret_csv = pd.read_csv('Dret(2019-2025).csv')\n",
    "Nret_f = csv['o_prod_retail_atyrau']\n",
    "\n",
    "lret = lret_csv['c1']\n",
    "Dret = Dret_csv['o_inflation']\n",
    "\n",
    "c = 248990.2\n",
    "i=0\n",
    "newdf = pd.DataFrame(columns=['c1'], index=range(21))\n",
    "\n",
    "while i<=20:\n",
    "    c = (c*lret[i]*Dret[i]) /10000\n",
    "    newdf.loc[i].c1 = c\n",
    "    i = i+1\n",
    "    \n",
    "Nret = newdf['c1']\n",
    "Nret"
   ]
  },
  {
   "cell_type": "code",
   "execution_count": null,
   "metadata": {},
   "outputs": [],
   "source": []
  }
 ],
 "metadata": {
  "kernelspec": {
   "display_name": "Python 3",
   "language": "python",
   "name": "python3"
  },
  "language_info": {
   "codemirror_mode": {
    "name": "ipython",
    "version": 3
   },
   "file_extension": ".py",
   "mimetype": "text/x-python",
   "name": "python",
   "nbconvert_exporter": "python",
   "pygments_lexer": "ipython3",
   "version": "3.7.6"
  }
 },
 "nbformat": 4,
 "nbformat_minor": 4
}
