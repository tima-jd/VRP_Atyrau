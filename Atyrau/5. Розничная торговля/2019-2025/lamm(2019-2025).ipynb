{
 "cells": [
  {
   "cell_type": "code",
   "execution_count": 10,
   "metadata": {},
   "outputs": [
    {
     "data": {
      "text/plain": [
       "0     103.055\n",
       "1     109.704\n",
       "2     101.189\n",
       "3     101.062\n",
       "4     100.472\n",
       "5     99.2036\n",
       "6     100.192\n",
       "7     91.7099\n",
       "8     110.335\n",
       "9     100.726\n",
       "10    102.033\n",
       "11    108.299\n",
       "12    100.277\n",
       "13    101.261\n",
       "14    88.3438\n",
       "15    98.6364\n",
       "16    99.6385\n",
       "17    96.3968\n",
       "18    98.9239\n",
       "19    100.016\n",
       "20     95.839\n",
       "Name: lamm, dtype: object"
      ]
     },
     "execution_count": 10,
     "metadata": {},
     "output_type": "execute_result"
    }
   ],
   "source": [
    "import pandas as pd\n",
    "\n",
    "c = pd.read_csv('vrp_ekz_prog.csv')\n",
    "\n",
    "q = pd.read_csv('lagrt(2019-2025).csv')\n",
    "w = pd.read_csv('lmin(2019-2025).csv')\n",
    "d = pd.read_csv('Dmin(2019-2025).csv')\n",
    "e = pd.read_csv('Nagr(2019-2025).csv')\n",
    "r = pd.read_csv('Nmin(2019-2025).csv')\n",
    "\n",
    "t = pd.read_csv('lman, Nman(2019-2025).csv')\n",
    "\n",
    "lman = t['lman']\n",
    "Nman = t['Nman']\n",
    "\n",
    "Nmin = r['c1']\n",
    "Nagr = e['c1']\n",
    "\n",
    "Dmin = d['0']\n",
    "\n",
    "lagr = q['c1']\n",
    "lmin = w['c1']\n",
    "\n",
    "i=0\n",
    "newdf = pd.DataFrame(columns=['lamm'], index=range(21))\n",
    "\n",
    "while i<20:\n",
    "    c = (lagr[i+1]*Nagr[i]+lmin[i+1]*Nmin[i]+lman[i+1]*Nman[i])/(Nagr[i]+Nmin[i]+Nman[i])    \n",
    "    newdf.loc[i+1].lamm = c\n",
    "    i=i+1\n",
    "lam = newdf['lamm']\n",
    "lam[0] = 103.05519551320977\n",
    "lamm = lam\n",
    "\n",
    "lamm"
   ]
  },
  {
   "cell_type": "code",
   "execution_count": null,
   "metadata": {},
   "outputs": [],
   "source": []
  }
 ],
 "metadata": {
  "kernelspec": {
   "display_name": "Python 3",
   "language": "python",
   "name": "python3"
  },
  "language_info": {
   "codemirror_mode": {
    "name": "ipython",
    "version": 3
   },
   "file_extension": ".py",
   "mimetype": "text/x-python",
   "name": "python",
   "nbconvert_exporter": "python",
   "pygments_lexer": "ipython3",
   "version": "3.7.6"
  }
 },
 "nbformat": 4,
 "nbformat_minor": 4
}
