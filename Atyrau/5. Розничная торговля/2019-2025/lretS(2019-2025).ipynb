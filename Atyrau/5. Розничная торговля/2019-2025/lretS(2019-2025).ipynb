{
 "cells": [
  {
   "cell_type": "code",
   "execution_count": 17,
   "metadata": {},
   "outputs": [
    {
     "data": {
      "text/plain": [
       "0     101.303\n",
       "1      105.03\n",
       "2     105.492\n",
       "3     105.944\n",
       "4     106.155\n",
       "5     105.817\n",
       "6     105.899\n",
       "7     102.306\n",
       "8     106.561\n",
       "9     106.907\n",
       "10    107.819\n",
       "11    111.513\n",
       "12    111.702\n",
       "13    112.315\n",
       "14    106.965\n",
       "15    106.298\n",
       "16    106.092\n",
       "17    104.498\n",
       "18    104.002\n",
       "19    103.985\n",
       "20    102.197\n",
       "Name: c1, dtype: object"
      ]
     },
     "execution_count": 17,
     "metadata": {},
     "output_type": "execute_result"
    }
   ],
   "source": [
    "import pandas as pd\n",
    "a = pd.read_csv('lamm(2019-2025).csv')\n",
    "lamm = a['lamm']\n",
    "c=100\n",
    "i=0\n",
    "newdf = pd.DataFrame(columns=['c1'], index=range(21))\n",
    "while i<=20:\n",
    "    c = c * ((lamm[i]-100)* 0.4264204127736934 + 100)/100\n",
    "    newdf.loc[i].c1 = c\n",
    "    i = i+1\n",
    "    \n",
    "lretS = newdf['c1']\n",
    "lretS"
   ]
  },
  {
   "cell_type": "code",
   "execution_count": 18,
   "metadata": {},
   "outputs": [
    {
     "data": {
      "text/plain": [
       "0     101.303\n",
       "1     103.679\n",
       "2     100.441\n",
       "3     100.428\n",
       "4     100.199\n",
       "5      99.681\n",
       "6     100.078\n",
       "7     96.6068\n",
       "8      104.16\n",
       "9     100.324\n",
       "10    100.853\n",
       "11    103.426\n",
       "12     100.17\n",
       "13    100.549\n",
       "14    95.2363\n",
       "15    99.3764\n",
       "16    99.8059\n",
       "17    98.4977\n",
       "18    99.5253\n",
       "19    99.9833\n",
       "20     98.281\n",
       "Name: c1, dtype: object"
      ]
     },
     "execution_count": 18,
     "metadata": {},
     "output_type": "execute_result"
    }
   ],
   "source": [
    "l = lretS.shift(1)\n",
    "l[0]=100\n",
    "\n",
    "lret = (lretS/l) * 100\n",
    "lret"
   ]
  },
  {
   "cell_type": "code",
   "execution_count": 19,
   "metadata": {},
   "outputs": [],
   "source": [
    "lret.to_csv(r'lret(2019-2025).csv', index = False)"
   ]
  },
  {
   "cell_type": "code",
   "execution_count": null,
   "metadata": {},
   "outputs": [],
   "source": []
  }
 ],
 "metadata": {
  "kernelspec": {
   "display_name": "Python 3",
   "language": "python",
   "name": "python3"
  },
  "language_info": {
   "codemirror_mode": {
    "name": "ipython",
    "version": 3
   },
   "file_extension": ".py",
   "mimetype": "text/x-python",
   "name": "python",
   "nbconvert_exporter": "python",
   "pygments_lexer": "ipython3",
   "version": "3.7.6"
  }
 },
 "nbformat": 4,
 "nbformat_minor": 4
}
