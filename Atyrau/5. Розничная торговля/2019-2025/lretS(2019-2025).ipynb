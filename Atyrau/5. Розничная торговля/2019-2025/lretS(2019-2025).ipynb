{
 "cells": [
  {
   "cell_type": "code",
   "execution_count": 4,
   "metadata": {},
   "outputs": [
    {
     "data": {
      "text/plain": [
       "0     100.547\n",
       "1     104.233\n",
       "2     104.676\n",
       "3     105.104\n",
       "4     105.289\n",
       "5     104.925\n",
       "6     104.975\n",
       "7     101.535\n",
       "8     105.757\n",
       "9     106.085\n",
       "10    106.968\n",
       "11     110.61\n",
       "12    110.766\n",
       "13     111.34\n",
       "14     106.15\n",
       "15     105.47\n",
       "16    105.224\n",
       "17    103.583\n",
       "18    103.019\n",
       "19     102.92\n",
       "20    101.494\n",
       "Name: c1, dtype: object"
      ]
     },
     "execution_count": 4,
     "metadata": {},
     "output_type": "execute_result"
    }
   ],
   "source": [
    "import pandas as pd\n",
    "a = pd.read_csv('lamm(2019-2025).csv')\n",
    "lamm = a['lamm']\n",
    "c=100\n",
    "i=0\n",
    "newdf = pd.DataFrame(columns=['c1'], index=range(21))\n",
    "while i<=20:\n",
    "    c = c * ((lamm[i]-100)* 0.4264204127736934 + 100)/100\n",
    "    newdf.loc[i].c1 = c\n",
    "    i = i+1\n",
    "    \n",
    "lretS = newdf['c1']\n",
    "lretS"
   ]
  },
  {
   "cell_type": "code",
   "execution_count": 5,
   "metadata": {},
   "outputs": [
    {
     "data": {
      "text/plain": [
       "0     100.547\n",
       "1     103.666\n",
       "2     100.424\n",
       "3     100.409\n",
       "4     100.177\n",
       "5     99.6539\n",
       "6     100.048\n",
       "7     96.7229\n",
       "8     104.159\n",
       "9     100.309\n",
       "10    100.832\n",
       "11    103.405\n",
       "12    100.141\n",
       "13    100.518\n",
       "14    95.3393\n",
       "15    99.3586\n",
       "16    99.7671\n",
       "17    98.4403\n",
       "18    99.4561\n",
       "19    99.9039\n",
       "20    98.6139\n",
       "Name: c1, dtype: object"
      ]
     },
     "execution_count": 5,
     "metadata": {},
     "output_type": "execute_result"
    }
   ],
   "source": [
    "l = lretS.shift(1)\n",
    "l[0]=100\n",
    "\n",
    "lret = (lretS/l) * 100\n",
    "lret"
   ]
  },
  {
   "cell_type": "code",
   "execution_count": 6,
   "metadata": {},
   "outputs": [],
   "source": [
    "lret.to_csv(r'lret(2019-2025).csv', index = False)"
   ]
  },
  {
   "cell_type": "code",
   "execution_count": null,
   "metadata": {},
   "outputs": [],
   "source": []
  }
 ],
 "metadata": {
  "kernelspec": {
   "display_name": "Python 3",
   "language": "python",
   "name": "python3"
  },
  "language_info": {
   "codemirror_mode": {
    "name": "ipython",
    "version": 3
   },
   "file_extension": ".py",
   "mimetype": "text/x-python",
   "name": "python",
   "nbconvert_exporter": "python",
   "pygments_lexer": "ipython3",
   "version": "3.7.6"
  }
 },
 "nbformat": 4,
 "nbformat_minor": 4
}
