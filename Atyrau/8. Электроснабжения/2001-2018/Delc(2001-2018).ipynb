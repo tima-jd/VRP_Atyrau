{
 "cells": [
  {
   "cell_type": "code",
   "execution_count": 1,
   "metadata": {},
   "outputs": [
    {
     "data": {
      "text/plain": [
       "0            NaN\n",
       "1     145.022020\n",
       "2     135.014454\n",
       "3     110.994204\n",
       "4     122.302613\n",
       "5      75.148296\n",
       "6     124.911769\n",
       "7     108.273266\n",
       "8     104.678664\n",
       "9     111.623907\n",
       "10    127.498286\n",
       "11    111.035048\n",
       "12    108.948948\n",
       "13     99.312292\n",
       "14     27.655524\n",
       "15     69.504782\n",
       "16    102.394982\n",
       "17     93.337455\n",
       "18    187.037304\n",
       "dtype: float64"
      ]
     },
     "execution_count": 1,
     "metadata": {},
     "output_type": "execute_result"
    }
   ],
   "source": [
    "import pandas as pd\n",
    "csv = pd.read_csv('vrp_ekz_fact.csv')\n",
    "\n",
    "lelc = csv['o_ifo_energo_atyrau']\n",
    "Nelc = csv['o_prod_energo_atyrau']\n",
    "\n",
    "Delc = Nelc/Nelc.shift(1)/lelc *10000\n",
    "Delc"
   ]
  },
  {
   "cell_type": "code",
   "execution_count": null,
   "metadata": {},
   "outputs": [],
   "source": []
  }
 ],
 "metadata": {
  "kernelspec": {
   "display_name": "Python 3",
   "language": "python",
   "name": "python3"
  },
  "language_info": {
   "codemirror_mode": {
    "name": "ipython",
    "version": 3
   },
   "file_extension": ".py",
   "mimetype": "text/x-python",
   "name": "python",
   "nbconvert_exporter": "python",
   "pygments_lexer": "ipython3",
   "version": "3.7.6"
  }
 },
 "nbformat": 4,
 "nbformat_minor": 4
}
