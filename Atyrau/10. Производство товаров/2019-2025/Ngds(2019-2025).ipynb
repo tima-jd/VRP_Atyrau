{
 "cells": [
  {
   "cell_type": "code",
   "execution_count": 1,
   "metadata": {},
   "outputs": [
    {
     "data": {
      "text/plain": [
       "0     7.627007e+05\n",
       "1     8.745050e+05\n",
       "2     8.993441e+05\n",
       "3     9.240698e+05\n",
       "4     9.451978e+05\n",
       "5     9.563607e+05\n",
       "6     9.776604e+05\n",
       "7     8.014985e+05\n",
       "8     1.071653e+06\n",
       "9     1.105760e+06\n",
       "10    1.155588e+06\n",
       "11    1.279277e+06\n",
       "12    1.317669e+06\n",
       "13    1.372320e+06\n",
       "14    8.246381e+05\n",
       "15    8.295665e+05\n",
       "16    8.422662e+05\n",
       "17    8.266712e+05\n",
       "18    8.346371e+05\n",
       "19    8.532868e+05\n",
       "20    8.809478e+05\n",
       "dtype: float64"
      ]
     },
     "execution_count": 1,
     "metadata": {},
     "output_type": "execute_result"
    }
   ],
   "source": [
    "import pandas as pd\n",
    "\n",
    "Nagr_csv = pd.read_csv('Nagr(2019-2025).csv')\n",
    "Ncon_csv = pd.read_csv('Ncon(2019-2025).csv')\n",
    "Nind_csv = pd.read_csv('Расчет по Оптовой торговле, Электро и Водоснабжению.csv')\n",
    "\n",
    "Nagr = Nagr_csv['c1']\n",
    "Ncon = Ncon_csv['c1']\n",
    "Nind = Nind_csv['Nind']\n",
    "\n",
    "Ngds = Nind + Ncon + Nagr\n",
    "Ngds"
   ]
  },
  {
   "cell_type": "code",
   "execution_count": null,
   "metadata": {},
   "outputs": [],
   "source": []
  }
 ],
 "metadata": {
  "kernelspec": {
   "display_name": "Python 3",
   "language": "python",
   "name": "python3"
  },
  "language_info": {
   "codemirror_mode": {
    "name": "ipython",
    "version": 3
   },
   "file_extension": ".py",
   "mimetype": "text/x-python",
   "name": "python",
   "nbconvert_exporter": "python",
   "pygments_lexer": "ipython3",
   "version": "3.7.6"
  }
 },
 "nbformat": 4,
 "nbformat_minor": 4
}
