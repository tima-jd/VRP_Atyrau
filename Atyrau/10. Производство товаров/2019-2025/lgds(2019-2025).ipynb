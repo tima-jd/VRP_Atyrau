{
 "cells": [
  {
   "cell_type": "code",
   "execution_count": 5,
   "metadata": {},
   "outputs": [],
   "source": [
    "import pandas as pd\n",
    "\n",
    "csv = pd.read_csv('vrp_ekz_fact.csv')\n",
    "\n",
    "Nagr_csv = pd.read_csv('Nagr(2019-2025).csv')\n",
    "Ncon_csv = pd.read_csv('Ncon(2019-2025).csv')\n",
    "Nind_csv_f = pd.read_csv('Dind, lind,Nind (2001-2018).csv')\n",
    "\n",
    "Nind_csv = pd.read_csv('Расчет по Оптовой торговле, Электро и Водоснабжению.csv')\n",
    "\n",
    "lagr_csv = pd.read_csv('lagrt(2019-2025).csv')\n",
    "lcon_csv = pd.read_csv('lcon(2019-2025).csv')\n",
    "\n",
    "lagr_f = csv['o_ifo_agro_atyrau'] \n",
    "lcon_f = csv['o_ifo_building_atyrau'] \n",
    "\n",
    "Nagr_f = csv['o_prod_agro_atyrau']\n",
    "Ncon_f = csv['o_prod_building_atyrau']\n",
    "Nind_f = Nind_csv_f['Nind']\n",
    "\n",
    "Nagr = Nagr_csv['c1']\n",
    "Ncon = Ncon_csv['c1']\n",
    "\n",
    "lagr = lagr_csv['c1']\n",
    "lcon = lcon_csv['c1']\n",
    "\n",
    "Nind = Nind_csv['Nind']\n",
    "lind = Nind_csv['lind']\n",
    "\n",
    "lgds = (lagr[1:]*Nagr.shift(1) + lind[1:]*Nind.shift(1) + lcon[1:]*Ncon.shift(1))/(Nagr.shift(1)+Nind.shift(1)+Ncon.shift(1))\n",
    "\n",
    "lgds[0]=(lagr[0]*Nagr_f[18]+lind[0]*Nind_f[18]+lcon[0]*Ncon_f[18])/(Ncon_f[18]+Nind_f[18]+Nagr_f[18])\n",
    "\n",
    "lgds.to_csv(r'lgds_Atyrau(2019-2025).csv',index = False)"
   ]
  },
  {
   "cell_type": "code",
   "execution_count": null,
   "metadata": {},
   "outputs": [],
   "source": []
  }
 ],
 "metadata": {
  "kernelspec": {
   "display_name": "Python 3",
   "language": "python",
   "name": "python3"
  },
  "language_info": {
   "codemirror_mode": {
    "name": "ipython",
    "version": 3
   },
   "file_extension": ".py",
   "mimetype": "text/x-python",
   "name": "python",
   "nbconvert_exporter": "python",
   "pygments_lexer": "ipython3",
   "version": "3.7.6"
  }
 },
 "nbformat": 4,
 "nbformat_minor": 4
}
