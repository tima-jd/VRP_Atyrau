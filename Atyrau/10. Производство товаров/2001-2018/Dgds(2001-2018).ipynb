{
 "cells": [
  {
   "cell_type": "code",
   "execution_count": 3,
   "metadata": {},
   "outputs": [
    {
     "data": {
      "text/plain": [
       "0            NaN\n",
       "1     105.540155\n",
       "2     102.378924\n",
       "3     105.608945\n",
       "4     106.689894\n",
       "5     104.240869\n",
       "6     112.529564\n",
       "7      99.191773\n",
       "8     106.878991\n",
       "9     103.941534\n",
       "10    110.240183\n",
       "11    107.944648\n",
       "12     88.427238\n",
       "13    111.261480\n",
       "14     81.385678\n",
       "15    101.447483\n",
       "16     94.298954\n",
       "17    135.370081\n",
       "18    121.214149\n",
       "dtype: float64"
      ]
     },
     "execution_count": 3,
     "metadata": {},
     "output_type": "execute_result"
    }
   ],
   "source": [
    "import pandas as pd\n",
    "csv = pd.read_csv('vrp_ekz_fact.csv')\n",
    "lind_csv = pd.read_csv('Dind, lind,Nind (2001-2018).csv')\n",
    "\n",
    "Nagr = csv['o_prod_agro_atyrau']\n",
    "Ncon = csv['o_prod_building_atyrau']\n",
    "\n",
    "Nwtr = csv['o_prod_water_atyrau']\n",
    "Nelc = csv['o_prod_energo_atyrau']\n",
    "Nman = csv['o_prod_man_atyrau']\n",
    "Nmin = csv['o_prod_mining_atyrau']\n",
    "\n",
    "lagr = csv['o_ifo_agro_atyrau']\n",
    "lcon = csv['o_ifo_building_atyrau']\n",
    "\n",
    "\n",
    "lind = lind_csv['lind']\n",
    "\n",
    "Nind = Nmin+Nman+Nelc+Nwtr\n",
    "\n",
    "Ngds = Nagr+Nind+Ncon\n",
    "\n",
    "lgds = (lagr*Nagr.shift(1) + lind*Nind.shift(1) + lcon*Ncon.shift(1))/(Nagr.shift(1)+Nind.shift(1)+Ncon.shift(1))\n",
    "\n",
    "Dgds = Ngds/Ngds.shift(1)/lgds * 10000\n",
    "\n",
    "Dgds"
   ]
  },
  {
   "cell_type": "code",
   "execution_count": null,
   "metadata": {},
   "outputs": [],
   "source": []
  }
 ],
 "metadata": {
  "kernelspec": {
   "display_name": "Python 3",
   "language": "python",
   "name": "python3"
  },
  "language_info": {
   "codemirror_mode": {
    "name": "ipython",
    "version": 3
   },
   "file_extension": ".py",
   "mimetype": "text/x-python",
   "name": "python",
   "nbconvert_exporter": "python",
   "pygments_lexer": "ipython3",
   "version": "3.7.6"
  }
 },
 "nbformat": 4,
 "nbformat_minor": 4
}
