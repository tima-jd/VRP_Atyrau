{
 "cells": [
  {
   "cell_type": "code",
   "execution_count": 1,
   "metadata": {},
   "outputs": [
    {
     "data": {
      "text/plain": [
       "0      33901.2\n",
       "1      59680.5\n",
       "2      62646.9\n",
       "3      91619.7\n",
       "4     123834.9\n",
       "5     236530.5\n",
       "6     304767.7\n",
       "7     248145.4\n",
       "8     363861.5\n",
       "9     374282.6\n",
       "10    441519.8\n",
       "11    462877.0\n",
       "12    372609.1\n",
       "13    319158.1\n",
       "14    292881.1\n",
       "15    431258.0\n",
       "16    627950.7\n",
       "17    531063.1\n",
       "18    737538.7\n",
       "dtype: float64"
      ]
     },
     "execution_count": 1,
     "metadata": {},
     "output_type": "execute_result"
    }
   ],
   "source": [
    "import pandas as pd\n",
    "csv = pd.read_csv('vrp_ekz_fact.csv')\n",
    "\n",
    "Nagr = csv['o_prod_agro_atyrau']\n",
    "Ncon = csv['o_prod_building_atyrau']\n",
    "Nwtr = csv['o_prod_water_atyrau']\n",
    "Nelc = csv['o_prod_energo_atyrau']\n",
    "Nman = csv['o_prod_man_atyrau']\n",
    "Nmin = csv['o_prod_mining_atyrau']\n",
    "\n",
    "Nind = Nmin+Nman+Nelc+Nwtr\n",
    "\n",
    "Ngds = Nagr+Nind+Ncon\n",
    "\n",
    "Ngds"
   ]
  },
  {
   "cell_type": "code",
   "execution_count": null,
   "metadata": {},
   "outputs": [],
   "source": []
  }
 ],
 "metadata": {
  "kernelspec": {
   "display_name": "Python 3",
   "language": "python",
   "name": "python3"
  },
  "language_info": {
   "codemirror_mode": {
    "name": "ipython",
    "version": 3
   },
   "file_extension": ".py",
   "mimetype": "text/x-python",
   "name": "python",
   "nbconvert_exporter": "python",
   "pygments_lexer": "ipython3",
   "version": "3.7.6"
  }
 },
 "nbformat": 4,
 "nbformat_minor": 4
}
