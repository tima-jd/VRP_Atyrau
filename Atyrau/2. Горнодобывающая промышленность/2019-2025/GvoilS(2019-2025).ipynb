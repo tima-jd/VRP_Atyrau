{
 "cells": [
  {
   "cell_type": "code",
   "execution_count": 2,
   "metadata": {},
   "outputs": [
    {
     "data": {
      "text/plain": [
       "0      102.12\n",
       "1     117.529\n",
       "2     117.249\n",
       "3     118.006\n",
       "4     118.006\n",
       "5     115.736\n",
       "6     115.736\n",
       "7      102.12\n",
       "8     121.091\n",
       "9     120.654\n",
       "10    123.652\n",
       "11    139.483\n",
       "12    137.292\n",
       "13    138.811\n",
       "14    115.748\n",
       "15    115.547\n",
       "16    115.182\n",
       "17    107.267\n",
       "18    104.958\n",
       "19    104.199\n",
       "20     102.12\n",
       "Name: c1, dtype: object"
      ]
     },
     "execution_count": 2,
     "metadata": {},
     "output_type": "execute_result"
    }
   ],
   "source": [
    "import pandas as pd\n",
    "csv = pd.read_csv('vrp_ekz_prog.csv')\n",
    "voil = csv['o_oil_atyrau']\n",
    "c=csv['o_year']\n",
    "l=voil.shift(1)\n",
    "l[0]= 13219.7\n",
    "Gvoil= voil/l*100\n",
    "\n",
    "i=0\n",
    "c=100\n",
    "newdf = pd.DataFrame(columns=['c1'], index=range(21))\n",
    "while i<=20:\n",
    "    c = c*Gvoil[i]/100\n",
    "    newdf.loc[i].c1 = c\n",
    "    i=i+1\n",
    "GvoilS=newdf['c1']\n",
    "\n",
    "GvoilS"
   ]
  },
  {
   "cell_type": "code",
   "execution_count": null,
   "metadata": {},
   "outputs": [],
   "source": []
  }
 ],
 "metadata": {
  "kernelspec": {
   "display_name": "Python 3",
   "language": "python",
   "name": "python3"
  },
  "language_info": {
   "codemirror_mode": {
    "name": "ipython",
    "version": 3
   },
   "file_extension": ".py",
   "mimetype": "text/x-python",
   "name": "python",
   "nbconvert_exporter": "python",
   "pygments_lexer": "ipython3",
   "version": "3.7.6"
  }
 },
 "nbformat": 4,
 "nbformat_minor": 4
}
