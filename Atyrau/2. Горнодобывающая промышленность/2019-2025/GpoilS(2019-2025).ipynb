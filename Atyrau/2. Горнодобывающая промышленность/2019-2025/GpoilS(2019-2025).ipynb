{
 "cells": [
  {
   "cell_type": "code",
   "execution_count": 1,
   "metadata": {},
   "outputs": [
    {
     "data": {
      "text/plain": [
       "0     88.6376\n",
       "1     90.7314\n",
       "2     90.7314\n",
       "3     90.7314\n",
       "4     90.7314\n",
       "5     90.7314\n",
       "6     90.7314\n",
       "7     88.6376\n",
       "8     108.989\n",
       "9     108.989\n",
       "10    108.989\n",
       "11    108.989\n",
       "12    108.989\n",
       "13    108.989\n",
       "14    72.4735\n",
       "15    72.4735\n",
       "16    72.4735\n",
       "17    72.4735\n",
       "18    72.4735\n",
       "19    72.4735\n",
       "20    88.6376\n",
       "Name: c1, dtype: object"
      ]
     },
     "execution_count": 1,
     "metadata": {},
     "output_type": "execute_result"
    }
   ],
   "source": [
    "import pandas as pd\n",
    "csv = pd.read_csv('vrp_ekz_prog.csv')\n",
    "poil = csv['o_oil_price']\n",
    "c=csv['o_year']\n",
    "l=poil.shift(1)\n",
    "l[0]= 71.64\n",
    "Gpoil= poil/l*100\n",
    "\n",
    "\n",
    "i=0\n",
    "c=100\n",
    "newdf = pd.DataFrame(columns=['c1'], index=range(21))\n",
    "while i<=20:\n",
    "    c = c*Gpoil[i]/100\n",
    "    newdf.loc[i].c1 = c\n",
    "    i=i+1\n",
    "GpoilS=newdf['c1']\n",
    "\n",
    "GpoilS"
   ]
  },
  {
   "cell_type": "code",
   "execution_count": null,
   "metadata": {},
   "outputs": [],
   "source": []
  }
 ],
 "metadata": {
  "kernelspec": {
   "display_name": "Python 3",
   "language": "python",
   "name": "python3"
  },
  "language_info": {
   "codemirror_mode": {
    "name": "ipython",
    "version": 3
   },
   "file_extension": ".py",
   "mimetype": "text/x-python",
   "name": "python",
   "nbconvert_exporter": "python",
   "pygments_lexer": "ipython3",
   "version": "3.7.6"
  }
 },
 "nbformat": 4,
 "nbformat_minor": 4
}
