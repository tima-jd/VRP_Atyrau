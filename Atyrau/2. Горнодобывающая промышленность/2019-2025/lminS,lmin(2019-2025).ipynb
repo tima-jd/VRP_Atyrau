{
 "cells": [
  {
   "cell_type": "code",
   "execution_count": 8,
   "metadata": {},
   "outputs": [
    {
     "data": {
      "text/plain": [
       "0      88.637633\n",
       "1     102.362205\n",
       "2     100.000000\n",
       "3     100.000000\n",
       "4     100.000000\n",
       "5     100.000000\n",
       "6     100.000000\n",
       "7      97.692308\n",
       "8     122.960630\n",
       "9     100.000000\n",
       "10    100.000000\n",
       "11    100.000000\n",
       "12    100.000000\n",
       "13    100.000000\n",
       "14     66.495902\n",
       "15    100.000000\n",
       "16    100.000000\n",
       "17    100.000000\n",
       "18    100.000000\n",
       "19    100.000000\n",
       "20    122.303544\n",
       "Name: o_oil_price, dtype: float64"
      ]
     },
     "execution_count": 8,
     "metadata": {},
     "output_type": "execute_result"
    }
   ],
   "source": [
    "import pandas as pd\n",
    "csv = pd.read_csv('vrp_ekz_prog.csv')\n",
    "\n",
    "\n",
    "poil = csv['o_oil_price']\n",
    "c=csv['o_year']\n",
    "voil = csv['o_oil_atyrau']\n",
    "\n",
    "h=poil.shift(1)\n",
    "h[0]= 71.64\n",
    "Gpoil= poil/h*100\n",
    "\n",
    "l=voil.shift(1)\n",
    "l[0]= 13219.7\n",
    "Gvoil= voil/l*100\n",
    "\n",
    "Gpoil"
   ]
  },
  {
   "cell_type": "code",
   "execution_count": 9,
   "metadata": {},
   "outputs": [
    {
     "data": {
      "text/plain": [
       "0     101.432\n",
       "1     114.301\n",
       "2     114.073\n",
       "3     114.689\n",
       "4     114.689\n",
       "5     112.845\n",
       "6     112.845\n",
       "7     101.666\n",
       "8     118.158\n",
       "9     117.801\n",
       "10    120.249\n",
       "11    133.121\n",
       "12    131.373\n",
       "13    132.588\n",
       "14    112.837\n",
       "15    112.673\n",
       "16    112.376\n",
       "17    105.919\n",
       "18    104.013\n",
       "19    103.384\n",
       "20     102.35\n",
       "Name: c1, dtype: object"
      ]
     },
     "execution_count": 9,
     "metadata": {},
     "output_type": "execute_result"
    }
   ],
   "source": [
    "i=0\n",
    "c=100\n",
    "\n",
    "newdf = pd.DataFrame(columns=['c1'], index=range(21))\n",
    "while i<=20:\n",
    "    c = (c*((((Gpoil[i]-100) * 0.029971273178058266) + ((Gvoil[i]-100) *0.8361289881400980)) + 100)) /100\n",
    "    newdf.loc[i].c1 = c\n",
    "    i=i+1\n",
    "lminS=newdf['c1']\n",
    "\n",
    "lminS"
   ]
  },
  {
   "cell_type": "code",
   "execution_count": 10,
   "metadata": {},
   "outputs": [
    {
     "data": {
      "text/plain": [
       "0     101.432\n",
       "1     112.687\n",
       "2     99.8009\n",
       "3     100.539\n",
       "4         100\n",
       "5     98.3921\n",
       "6         100\n",
       "7      90.094\n",
       "8     116.221\n",
       "9     99.6978\n",
       "10    102.078\n",
       "11    110.705\n",
       "12    98.6866\n",
       "13    100.925\n",
       "14    85.1037\n",
       "15    99.8548\n",
       "16    99.7361\n",
       "17     94.254\n",
       "18    98.2005\n",
       "19     99.395\n",
       "20    99.0006\n",
       "Name: c1, dtype: object"
      ]
     },
     "execution_count": 10,
     "metadata": {},
     "output_type": "execute_result"
    }
   ],
   "source": [
    "w=lminS.shift(1)\n",
    "w[0]=100\n",
    "lmint = lminS/w*100\n",
    "lmint"
   ]
  },
  {
   "cell_type": "code",
   "execution_count": 11,
   "metadata": {},
   "outputs": [],
   "source": [
    "lmint.to_csv (r'lmin(2019-2025).csv', index = False)"
   ]
  },
  {
   "cell_type": "code",
   "execution_count": null,
   "metadata": {},
   "outputs": [],
   "source": []
  }
 ],
 "metadata": {
  "kernelspec": {
   "display_name": "Python 3",
   "language": "python",
   "name": "python3"
  },
  "language_info": {
   "codemirror_mode": {
    "name": "ipython",
    "version": 3
   },
   "file_extension": ".py",
   "mimetype": "text/x-python",
   "name": "python",
   "nbconvert_exporter": "python",
   "pygments_lexer": "ipython3",
   "version": "3.7.6"
  }
 },
 "nbformat": 4,
 "nbformat_minor": 4
}
