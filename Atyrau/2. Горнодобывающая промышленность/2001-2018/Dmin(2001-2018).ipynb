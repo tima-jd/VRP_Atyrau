{
 "cells": [
  {
   "cell_type": "code",
   "execution_count": 1,
   "metadata": {},
   "outputs": [
    {
     "data": {
      "text/plain": [
       "0            NaN\n",
       "1      96.933651\n",
       "2     103.944778\n",
       "3     112.598437\n",
       "4     101.246177\n",
       "5      91.985640\n",
       "6      79.818711\n",
       "7     103.042771\n",
       "8     117.300191\n",
       "9      89.973809\n",
       "10    100.540027\n",
       "11    122.623497\n",
       "12     83.842119\n",
       "13    116.251604\n",
       "14    110.929408\n",
       "15     97.542366\n",
       "16     28.354938\n",
       "17    376.153676\n",
       "18    117.616348\n",
       "dtype: float64"
      ]
     },
     "execution_count": 1,
     "metadata": {},
     "output_type": "execute_result"
    }
   ],
   "source": [
    "import pandas as pd\n",
    "csv = pd.read_csv('vrp_ekz_fact.csv')\n",
    "lmin = csv['o_ifo_mining_atyrau']\n",
    "Nmin=csv['o_prod_mining_atyrau']\n",
    "\n",
    "Dmin = (Nmin/Nmin.shift(1)/lmin)*10000\n",
    "Dmin"
   ]
  },
  {
   "cell_type": "code",
   "execution_count": null,
   "metadata": {},
   "outputs": [],
   "source": []
  }
 ],
 "metadata": {
  "kernelspec": {
   "display_name": "Python 3",
   "language": "python",
   "name": "python3"
  },
  "language_info": {
   "codemirror_mode": {
    "name": "ipython",
    "version": 3
   },
   "file_extension": ".py",
   "mimetype": "text/x-python",
   "name": "python",
   "nbconvert_exporter": "python",
   "pygments_lexer": "ipython3",
   "version": "3.7.6"
  }
 },
 "nbformat": 4,
 "nbformat_minor": 4
}
