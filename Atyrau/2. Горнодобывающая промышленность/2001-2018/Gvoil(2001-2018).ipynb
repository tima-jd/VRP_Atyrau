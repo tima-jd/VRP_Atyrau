{
 "cells": [
  {
   "cell_type": "code",
   "execution_count": 1,
   "metadata": {},
   "outputs": [
    {
     "data": {
      "text/plain": [
       "0            NaN\n",
       "1     116.148846\n",
       "2     105.270845\n",
       "3      98.632019\n",
       "4     106.194004\n",
       "5     100.335634\n",
       "6      99.790151\n",
       "7     104.104354\n",
       "8     120.433453\n",
       "9     127.077103\n",
       "10    114.460320\n",
       "11    100.436391\n",
       "12     95.300045\n",
       "13    112.069977\n",
       "14     99.103772\n",
       "15    101.647142\n",
       "16    101.396766\n",
       "17    104.396102\n",
       "18    100.534819\n",
       "Name: o_oil_zhylyoi, dtype: float64"
      ]
     },
     "execution_count": 1,
     "metadata": {},
     "output_type": "execute_result"
    }
   ],
   "source": [
    "import pandas as pd\n",
    "csv = pd.read_csv('vrp_ekz_fact.csv')\n",
    "voil = csv['o_oil_zhylyoi']\n",
    "Gvoil = voil/voil.shift(1)*100\n",
    "Gvoil"
   ]
  },
  {
   "cell_type": "code",
   "execution_count": null,
   "metadata": {},
   "outputs": [],
   "source": []
  }
 ],
 "metadata": {
  "kernelspec": {
   "display_name": "Python 3",
   "language": "python",
   "name": "python3"
  },
  "language_info": {
   "codemirror_mode": {
    "name": "ipython",
    "version": 3
   },
   "file_extension": ".py",
   "mimetype": "text/x-python",
   "name": "python",
   "nbconvert_exporter": "python",
   "pygments_lexer": "ipython3",
   "version": "3.7.6"
  }
 },
 "nbformat": 4,
 "nbformat_minor": 4
}
