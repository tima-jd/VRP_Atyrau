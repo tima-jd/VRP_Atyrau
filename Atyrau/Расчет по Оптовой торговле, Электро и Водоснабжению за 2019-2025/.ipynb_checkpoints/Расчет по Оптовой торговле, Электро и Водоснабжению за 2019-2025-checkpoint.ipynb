{
 "cells": [
  {
   "cell_type": "code",
   "execution_count": 30,
   "metadata": {},
   "outputs": [
    {
     "data": {
      "text/plain": [
       "105.5774617579105"
      ]
     },
     "execution_count": 30,
     "metadata": {},
     "output_type": "execute_result"
    }
   ],
   "source": [
    "import pandas as pd\n",
    "\n",
    "csv = pd.read_csv('vrp_ekz_fact.csv')\n",
    "csv_p = pd.read_csv('vrp_ekz_prog.csv')\n",
    "\n",
    "lret_csv = pd.read_csv('lret(2019-2025).csv')\n",
    "lwhl_csv = pd.read_csv('lwhl(2019-2025).csv')\n",
    "lagr_csv = pd.read_csv('lagrt(2019-2025).csv')\n",
    "lmin_csv = pd.read_csv('lmin(2019-2025).csv')\n",
    "lcon_csv = pd.read_csv('lcon(2019-2025).csv')\n",
    "ltrd_csv = pd.read_csv('ltrd(2001-2018).csv')\n",
    "man_csv = pd.read_csv('lman, Nman(2019-2025).csv')\n",
    "Ncon_csv = pd.read_csv('Ncon(2019-2025).csv')\n",
    "Ntrd_csv = pd.read_csv('Ntrd(2001-2018).csv')\n",
    "Nmin_csv = pd.read_csv('Nmin(2019-2025).csv')\n",
    "Nret_csv = pd.read_csv('Nret(2019-2025).csv')\n",
    "Nagr_csv = pd.read_csv('Nagr(2019-2025).csv')\n",
    "\n",
    "Nret_f = csv['o_prod_retail_atyrau']\n",
    "Nwhl_f = csv['o_prod_trade_atyrau']\n",
    "Nagr_f = csv['o_prod_agro_atyrau']\n",
    "Nmin_f = csv['o_prod_mining_atyrau']\n",
    "Nman_f = csv['o_prod_man_atyrau']\n",
    "Ncon_f = csv['o_prod_building_atyrau']\n",
    "Nelc_f = csv['o_prod_energo_atyrau']\n",
    "Nwtr_f = csv['o_prod_water_atyrau']\n",
    "Nind_f = csv['o_prod_water_atyrau']\n",
    "\n",
    "lelc_f = csv['o_ifo_energo_atyrau']\n",
    "lwtr_f = csv['o_ifo_water_atyrau']\n",
    "\n",
    "\n",
    "Ntrd_f = Ntrd_csv['0']\n",
    "ltrd_f = ltrd_csv['0']\n",
    "\n",
    "\n",
    "Nmin = Nmin_csv['c1']\n",
    "\n",
    "Nman = man_csv['Nman']\n",
    "lman = man_csv['lman']\n",
    "\n",
    "lret = lret_csv['c1']\n",
    "lwhl = lwhl_csv['c1']\n",
    "lagr = lagr_csv['c1']\n",
    "lmin = lmin_csv['c1']\n",
    "lcon = lcon_csv['c1']\n",
    "Ncon = Ncon_csv['c1']\n",
    "Nret = Nret_csv['c1']\n",
    "Nagr = Nagr_csv['c1']\n",
    "\n",
    "inf = csv_p['o_inflation']\n",
    "\n",
    "ltrd = (lret[0]*Nret_f[18] + lwhl[0]*Nwhl_f[18])/Ntrd_f[18]\n",
    "\n",
    "lammct = (lagr[0]*Nagr_f[18] + lmin[0]*Nmin_f[18] + lman[0]*Nman_f[18] + lcon[0]*Ncon_f[18] + ltrd * Ntrd_f[18])/(Nagr_f[18]+Nmin_f[18]+Nman_f[18]+Ncon_f[18]+Ntrd_f[18])\n",
    "\n",
    "S= (100*((lammct-100)*1.5024317564210523 +100))/100\n",
    "K = (100*((lammct-100)*0.6356716742567134 +100))/100\n",
    "\n",
    "lelc= S/100 * 100\n",
    "\n",
    "lwtr= K/100 * 100\n",
    "\n",
    "Delc = inf * 0.9524230169082659 + 100\n",
    "Dwtr = inf * 1.0248473801986724 + 100\n",
    "\n",
    "Nelc = (Nelc_f[18]*lelc*Delc[0])/10000\n",
    "Nwtr = (Nwtr_f[18]*lwtr*Dwtr[0])/10000\n",
    "\n",
    "Nind = Nmin[0]+Nman[0]+Nelc+Nwtr\n",
    "Nind_f = Nmin_f+Nman_f+Nelc_f+Nwtr_f\n",
    "lind = ((lmin[0]*Nmin_f[18])+(lman[0]*Nman_f[18])+(lelc*Nelc_f[18])+(lwtr*Nwtr_f[18]))/ Nind_f[18]\n",
    "Nind = Nmin[0]+Nman[0]+Nelc+Nwtr\n",
    "Dind= (Nind/Nind_f[18]/lind)*10000\n",
    "\n",
    "Dwhl = inf[0] * 0.9627018135086216 + (Dind-100)*0.8320900666908758+100\n",
    "Nwhl = (Nwhl_f[18]*lwhl[0]*Dwhl)/10000\n",
    "Ntrd = Nret[0]+Nwhl\n",
    "\n",
    "Dtrd = Ntrd/(Nret_f[18] + Nwhl_f[18])/ltrd_f[18] *10000\n",
    "\n",
    "lelc"
   ]
  },
  {
   "cell_type": "code",
   "execution_count": null,
   "metadata": {},
   "outputs": [],
   "source": []
  }
 ],
 "metadata": {
  "kernelspec": {
   "display_name": "Python 3",
   "language": "python",
   "name": "python3"
  },
  "language_info": {
   "codemirror_mode": {
    "name": "ipython",
    "version": 3
   },
   "file_extension": ".py",
   "mimetype": "text/x-python",
   "name": "python",
   "nbconvert_exporter": "python",
   "pygments_lexer": "ipython3",
   "version": "3.7.6"
  }
 },
 "nbformat": 4,
 "nbformat_minor": 4
}
