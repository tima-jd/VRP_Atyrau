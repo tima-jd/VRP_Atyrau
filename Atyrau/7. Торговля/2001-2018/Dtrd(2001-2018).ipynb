{
 "cells": [
  {
   "cell_type": "code",
   "execution_count": 1,
   "metadata": {},
   "outputs": [
    {
     "data": {
      "text/plain": [
       "0            NaN\n",
       "1     162.152040\n",
       "2     142.774565\n",
       "3     186.727427\n",
       "4     606.665381\n",
       "5     495.042350\n",
       "6     756.745218\n",
       "7     133.102311\n",
       "8     126.945408\n",
       "9      78.564584\n",
       "10    102.187181\n",
       "11    103.297602\n",
       "12    101.869428\n",
       "13    102.951827\n",
       "14    105.540807\n",
       "15    104.237176\n",
       "16    112.902084\n",
       "17    110.475577\n",
       "18    109.471229\n",
       "dtype: float64"
      ]
     },
     "execution_count": 1,
     "metadata": {},
     "output_type": "execute_result"
    }
   ],
   "source": [
    "import pandas as pd\n",
    "csv = pd.read_csv('vrp_ekz_fact.csv')\n",
    "Nret = csv['o_prod_retail_atyrau']\n",
    "Nwhl = csv['o_prod_trade_atyrau']\n",
    "lret = csv['o_ifo_retail_atyrau']\n",
    "lwhl = csv['o_ifo_trade_atyrau']\n",
    "\n",
    "Ntrd = Nwhl+Nret\n",
    "\n",
    "ltrd = (lret*Nret.shift(1)+lwhl*Nwhl.shift(1))/Ntrd.shift(1)\n",
    "Dtrd = Ntrd/Ntrd.shift(1)/ltrd*10000\n",
    "\n",
    "Dtrd"
   ]
  },
  {
   "cell_type": "code",
   "execution_count": null,
   "metadata": {},
   "outputs": [],
   "source": []
  }
 ],
 "metadata": {
  "kernelspec": {
   "display_name": "Python 3",
   "language": "python",
   "name": "python3"
  },
  "language_info": {
   "codemirror_mode": {
    "name": "ipython",
    "version": 3
   },
   "file_extension": ".py",
   "mimetype": "text/x-python",
   "name": "python",
   "nbconvert_exporter": "python",
   "pygments_lexer": "ipython3",
   "version": "3.7.6"
  }
 },
 "nbformat": 4,
 "nbformat_minor": 4
}
