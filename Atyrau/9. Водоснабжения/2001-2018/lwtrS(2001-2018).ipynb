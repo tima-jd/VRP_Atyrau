{
 "cells": [
  {
   "cell_type": "code",
   "execution_count": 1,
   "metadata": {},
   "outputs": [
    {
     "data": {
      "text/plain": [
       "0     34.7683\n",
       "1      46.207\n",
       "2     47.2236\n",
       "3     42.6901\n",
       "4     44.8673\n",
       "5     61.8271\n",
       "6     76.9748\n",
       "7     112.922\n",
       "8     50.2503\n",
       "9     42.5118\n",
       "10    66.4034\n",
       "11     82.141\n",
       "12    75.3233\n",
       "13    102.892\n",
       "14    68.5258\n",
       "15    107.585\n",
       "16    86.3911\n",
       "17    103.842\n",
       "18        100\n",
       "Name: c1, dtype: object"
      ]
     },
     "execution_count": 1,
     "metadata": {},
     "output_type": "execute_result"
    }
   ],
   "source": [
    "import pandas as pd\n",
    "csv = pd.read_csv('vrp_ekz_fact.csv')\n",
    "lwtr = csv['o_ifo_water_atyrau']\n",
    "\n",
    "c=100\n",
    "i=18\n",
    "\n",
    "\n",
    "newdf = pd.DataFrame(columns=['c1'], index=range(19))\n",
    "\n",
    "while i>0:    \n",
    "    c = c/lwtr[i]*100 \n",
    "    i = i-1\n",
    "    newdf.loc[i].c1 = c\n",
    "    \n",
    "lwtrS = newdf['c1']\n",
    "lwtrS[18]=100\n",
    "\n",
    "lwtrS"
   ]
  },
  {
   "cell_type": "code",
   "execution_count": null,
   "metadata": {},
   "outputs": [],
   "source": []
  }
 ],
 "metadata": {
  "kernelspec": {
   "display_name": "Python 3",
   "language": "python",
   "name": "python3"
  },
  "language_info": {
   "codemirror_mode": {
    "name": "ipython",
    "version": 3
   },
   "file_extension": ".py",
   "mimetype": "text/x-python",
   "name": "python",
   "nbconvert_exporter": "python",
   "pygments_lexer": "ipython3",
   "version": "3.7.6"
  }
 },
 "nbformat": 4,
 "nbformat_minor": 4
}
