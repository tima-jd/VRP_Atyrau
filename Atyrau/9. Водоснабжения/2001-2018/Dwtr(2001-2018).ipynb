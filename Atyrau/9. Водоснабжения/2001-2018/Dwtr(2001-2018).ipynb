{
 "cells": [
  {
   "cell_type": "code",
   "execution_count": 1,
   "metadata": {},
   "outputs": [
    {
     "data": {
      "text/plain": [
       "0            NaN\n",
       "1      96.700415\n",
       "2      78.398500\n",
       "3      82.964602\n",
       "4     115.640782\n",
       "5     102.423251\n",
       "6     119.101218\n",
       "7     120.390527\n",
       "8     176.363450\n",
       "9     210.702772\n",
       "10     86.092013\n",
       "11    103.135718\n",
       "12    116.234892\n",
       "13    139.487509\n",
       "14    105.034777\n",
       "15     95.616035\n",
       "16    108.397035\n",
       "17     96.538223\n",
       "18    103.475308\n",
       "dtype: float64"
      ]
     },
     "execution_count": 1,
     "metadata": {},
     "output_type": "execute_result"
    }
   ],
   "source": [
    "from scipy.stats.mstats import gmean\n",
    "import pandas as pd\n",
    "csv = pd.read_csv('vrp_ekz_fact.csv')\n",
    "\n",
    "inf = csv['o_inflation']\n",
    "\n",
    "lwtr = csv['o_ifo_water_atyrau']\n",
    "Nwtr = csv['o_prod_water_atyrau']\n",
    "\n",
    "Dwtr = Nwtr/Nwtr.shift(1)/lwtr *10000\n",
    "Dwtr"
   ]
  },
  {
   "cell_type": "code",
   "execution_count": null,
   "metadata": {},
   "outputs": [],
   "source": []
  }
 ],
 "metadata": {
  "kernelspec": {
   "display_name": "Python 3",
   "language": "python",
   "name": "python3"
  },
  "language_info": {
   "codemirror_mode": {
    "name": "ipython",
    "version": 3
   },
   "file_extension": ".py",
   "mimetype": "text/x-python",
   "name": "python",
   "nbconvert_exporter": "python",
   "pygments_lexer": "ipython3",
   "version": "3.7.6"
  }
 },
 "nbformat": 4,
 "nbformat_minor": 4
}
