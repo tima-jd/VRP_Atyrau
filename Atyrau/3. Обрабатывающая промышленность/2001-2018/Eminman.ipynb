{
 "cells": [
  {
   "cell_type": "code",
   "execution_count": 1,
   "metadata": {},
   "outputs": [
    {
     "data": {
      "text/plain": [
       "1.1015008204018604"
      ]
     },
     "execution_count": 1,
     "metadata": {},
     "output_type": "execute_result"
    }
   ],
   "source": [
    "from scipy.stats.mstats import gmean\n",
    "import pandas as pd\n",
    "csv = pd.read_csv('vrp_ekz_fact.csv')\n",
    "\n",
    "lman= csv['o_ifo_man_atyrau']\n",
    "Nman = csv['o_prod_man_atyrau']\n",
    "\n",
    "lmin = csv['o_ifo_mining_atyrau']\n",
    "Nmin=csv['o_prod_mining_atyrau']\n",
    "\n",
    "Dmin = (Nmin/Nmin.shift(1)/lmin)*10000\n",
    "\n",
    "Dman = Nman/Nman.shift(1)/lman * 10000\n",
    "\n",
    "Eminman= (gmean(Dman[1:]))/(gmean(Dmin[1:]))\n",
    "Eminman"
   ]
  },
  {
   "cell_type": "code",
   "execution_count": null,
   "metadata": {},
   "outputs": [],
   "source": []
  }
 ],
 "metadata": {
  "kernelspec": {
   "display_name": "Python 3",
   "language": "python",
   "name": "python3"
  },
  "language_info": {
   "codemirror_mode": {
    "name": "ipython",
    "version": 3
   },
   "file_extension": ".py",
   "mimetype": "text/x-python",
   "name": "python",
   "nbconvert_exporter": "python",
   "pygments_lexer": "ipython3",
   "version": "3.7.6"
  }
 },
 "nbformat": 4,
 "nbformat_minor": 4
}
