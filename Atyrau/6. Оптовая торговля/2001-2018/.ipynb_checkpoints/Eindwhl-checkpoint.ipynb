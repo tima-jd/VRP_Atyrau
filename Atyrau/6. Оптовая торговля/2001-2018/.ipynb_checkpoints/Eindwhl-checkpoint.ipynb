{
 "cells": [
  {
   "cell_type": "code",
   "execution_count": 7,
   "metadata": {},
   "outputs": [
    {
     "data": {
      "text/plain": [
       "0.8320900666908758"
      ]
     },
     "execution_count": 7,
     "metadata": {},
     "output_type": "execute_result"
    }
   ],
   "source": [
    "from scipy.stats.mstats import gmean\n",
    "\n",
    "import pandas as pd\n",
    "csv = pd.read_csv('vrp_ekz_fact.csv')\n",
    "a = pd.read_csv('Dind(2001-2018).csv')\n",
    "l = pd.read_csv('lamm(2001-2018).csv')\n",
    "\n",
    "Dind = a['Dind']\n",
    "\n",
    "lamm = l['0']\n",
    "\n",
    "lwhl = csv['o_ifo_trade_atyrau']\n",
    "Nwhl = csv['o_prod_trade_atyrau']\n",
    "\n",
    "Dwhl = Nwhl/Nwhl.shift(1)/lwhl * 10000\n",
    "\n",
    "Eindwhl = (gmean(Dwhl[7:]))/(gmean(Dind[7:]))\n",
    "\n",
    "Eindwhl"
   ]
  },
  {
   "cell_type": "code",
   "execution_count": null,
   "metadata": {},
   "outputs": [],
   "source": []
  }
 ],
 "metadata": {
  "kernelspec": {
   "display_name": "Python 3",
   "language": "python",
   "name": "python3"
  },
  "language_info": {
   "codemirror_mode": {
    "name": "ipython",
    "version": 3
   },
   "file_extension": ".py",
   "mimetype": "text/x-python",
   "name": "python",
   "nbconvert_exporter": "python",
   "pygments_lexer": "ipython3",
   "version": "3.7.6"
  }
 },
 "nbformat": 4,
 "nbformat_minor": 4
}
