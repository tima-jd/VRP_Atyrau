{
 "cells": [
  {
   "cell_type": "code",
   "execution_count": 11,
   "metadata": {},
   "outputs": [],
   "source": [
    "import pandas as pd\n",
    "csv = pd.read_csv('vrp_ekz_fact.csv')\n",
    "\n",
    "lwtr = csv['o_ifo_water_atyrau']\n",
    "lelc = csv['o_ifo_energo_atyrau']\n",
    "lman = csv['o_ifo_man_atyrau']\n",
    "lmin = csv['o_ifo_mining_atyrau']\n",
    "\n",
    "Nwtr = csv['o_prod_water_atyrau']\n",
    "Nelc = csv['o_prod_energo_atyrau']\n",
    "Nman = csv['o_prod_man_atyrau']\n",
    "Nmin = csv['o_prod_mining_atyrau']\n",
    "\n",
    "Nind = Nmin+Nman+Nelc+Nwtr\n",
    "\n",
    "\n",
    "newdf = pd.DataFrame(columns=['Dind','lind','Nind'], index=range(19))\n",
    "i=7\n",
    "while i<=18:    \n",
    "    lind = (lmin[i]*Nmin[i-1]+lman[i]*Nman[i-1]+lelc[i]*Nelc[i-1]+lwtr[i]*Nwtr[i-1])/Nind[i-1]\n",
    "    Dind=(Nind[i]/Nind[i-1]/lind)*10000\n",
    "    \n",
    "    newdf.loc[i].Dind = Dind\n",
    "    newdf.loc[i].lind = lind\n",
    "    i= i+1  \n",
    "lind = newdf['lind']\n",
    "Dind = newdf['Dind']\n",
    "newdf.Nind = Nind[7:]\n",
    "Nind = newdf['Nind']\n",
    "\n",
    "newdf.to_csv(r'Dind, lind,Nind (2007-2018).csv', index = False)"
   ]
  },
  {
   "cell_type": "code",
   "execution_count": null,
   "metadata": {},
   "outputs": [],
   "source": []
  }
 ],
 "metadata": {
  "kernelspec": {
   "display_name": "Python 3",
   "language": "python",
   "name": "python3"
  },
  "language_info": {
   "codemirror_mode": {
    "name": "ipython",
    "version": 3
   },
   "file_extension": ".py",
   "mimetype": "text/x-python",
   "name": "python",
   "nbconvert_exporter": "python",
   "pygments_lexer": "ipython3",
   "version": "3.7.6"
  }
 },
 "nbformat": 4,
 "nbformat_minor": 4
}
