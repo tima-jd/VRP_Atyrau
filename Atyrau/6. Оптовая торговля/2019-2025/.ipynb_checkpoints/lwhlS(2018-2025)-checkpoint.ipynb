{
 "cells": [
  {
   "cell_type": "code",
   "execution_count": 1,
   "metadata": {},
   "outputs": [
    {
     "data": {
      "text/plain": [
       "0     103.848\n",
       "1     115.133\n",
       "2     116.632\n",
       "3     118.107\n",
       "4     118.802\n",
       "5     117.683\n",
       "6     117.953\n",
       "7     106.131\n",
       "8     119.172\n",
       "9     120.313\n",
       "10    123.346\n",
       "11    135.827\n",
       "12    136.508\n",
       "13    138.723\n",
       "14    119.203\n",
       "15    117.007\n",
       "16    116.336\n",
       "17    111.174\n",
       "18    109.615\n",
       "19    109.561\n",
       "20    103.998\n",
       "Name: c1, dtype: object"
      ]
     },
     "execution_count": 1,
     "metadata": {},
     "output_type": "execute_result"
    }
   ],
   "source": [
    "import pandas as pd\n",
    "a = pd.read_csv('lamm(2019-2025).csv')\n",
    "lamm = a['lamm']\n",
    "\n",
    "c=100\n",
    "i=0\n",
    "newdf = pd.DataFrame(columns=['c1'], index=range(21))\n",
    "while i<=20:\n",
    "    c = c * ((lamm[i]-100)* 1.2595843314939055 + 100)/100\n",
    "    newdf.loc[i].c1 = c\n",
    "    i = i+1\n",
    "lwhlS = newdf['c1']\n",
    "lwhlS"
   ]
  },
  {
   "cell_type": "code",
   "execution_count": null,
   "metadata": {},
   "outputs": [],
   "source": []
  }
 ],
 "metadata": {
  "kernelspec": {
   "display_name": "Python 3",
   "language": "python",
   "name": "python3"
  },
  "language_info": {
   "codemirror_mode": {
    "name": "ipython",
    "version": 3
   },
   "file_extension": ".py",
   "mimetype": "text/x-python",
   "name": "python",
   "nbconvert_exporter": "python",
   "pygments_lexer": "ipython3",
   "version": "3.7.6"
  }
 },
 "nbformat": 4,
 "nbformat_minor": 4
}
