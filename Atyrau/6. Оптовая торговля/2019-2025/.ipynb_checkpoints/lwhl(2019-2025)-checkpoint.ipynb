{
 "cells": [
  {
   "cell_type": "code",
   "execution_count": 3,
   "metadata": {},
   "outputs": [
    {
     "data": {
      "text/plain": [
       "0     100.537\n",
       "1     103.594\n",
       "2     100.416\n",
       "3     100.401\n",
       "4     100.173\n",
       "5     99.6607\n",
       "6     100.047\n",
       "7     96.7871\n",
       "8     104.078\n",
       "9     100.303\n",
       "10    100.816\n",
       "11    103.338\n",
       "12    100.139\n",
       "13    100.508\n",
       "14    95.4305\n",
       "15    99.3712\n",
       "16    99.7717\n",
       "17    98.4709\n",
       "18    99.4668\n",
       "19    99.9058\n",
       "20    98.6411\n",
       "Name: c1, dtype: object"
      ]
     },
     "execution_count": 3,
     "metadata": {},
     "output_type": "execute_result"
    }
   ],
   "source": [
    "import pandas as pd\n",
    "a = pd.read_csv('lamm(2019-2025).csv')\n",
    "lamm = a['lamm']\n",
    "\n",
    "c=100\n",
    "i=0\n",
    "newdf = pd.DataFrame(columns=['c1'], index=range(21))\n",
    "while i<=20:\n",
    "    c = c * ((lamm[i]-100)* 0.41807054592466947 + 100)/100\n",
    "    newdf.loc[i].c1 = c\n",
    "    i = i+1\n",
    "lwhlS = newdf['c1']\n",
    "\n",
    "l = lwhlS.shift(1)\n",
    "l[0]=100\n",
    "\n",
    "lwhl = (lwhlS/l) * 100\n",
    "lwhl"
   ]
  },
  {
   "cell_type": "code",
   "execution_count": null,
   "metadata": {},
   "outputs": [],
   "source": []
  }
 ],
 "metadata": {
  "kernelspec": {
   "display_name": "Python 3",
   "language": "python",
   "name": "python3"
  },
  "language_info": {
   "codemirror_mode": {
    "name": "ipython",
    "version": 3
   },
   "file_extension": ".py",
   "mimetype": "text/x-python",
   "name": "python",
   "nbconvert_exporter": "python",
   "pygments_lexer": "ipython3",
   "version": "3.7.6"
  }
 },
 "nbformat": 4,
 "nbformat_minor": 4
}
