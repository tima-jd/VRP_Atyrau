{
 "cells": [
  {
   "cell_type": "code",
   "execution_count": 1,
   "metadata": {},
   "outputs": [
    {
     "data": {
      "text/plain": [
       "0     60.2846\n",
       "1     57.1498\n",
       "2     56.2925\n",
       "3     56.4051\n",
       "4     58.7177\n",
       "5     62.7105\n",
       "6      71.929\n",
       "7      98.255\n",
       "8     97.3707\n",
       "9      82.473\n",
       "10    81.4008\n",
       "11    83.6801\n",
       "12    94.3074\n",
       "13    93.4587\n",
       "14     79.066\n",
       "15    87.7633\n",
       "16    98.9092\n",
       "17    99.3049\n",
       "18        100\n",
       "Name: c1, dtype: object"
      ]
     },
     "execution_count": 1,
     "metadata": {},
     "output_type": "execute_result"
    }
   ],
   "source": [
    "import pandas as pd\n",
    "import numpy as np\n",
    "xlsx = pd.read_csv('vrp_ekz_fact.csv')\n",
    "d = xlsx['o_ifo_agro_atyrau']\n",
    "\n",
    "i=18\n",
    "c=100\n",
    "newdf = pd.DataFrame(columns=['c1'], index=range(19))\n",
    "while i>0:\n",
    "    c = (c/d[i]) * 100\n",
    "    i=i-1\n",
    "    newdf.loc[i].c1 = c\n",
    "LagrS=newdf['c1']\n",
    "LagrS[18]=100\n",
    "\n",
    "LagrS"
   ]
  },
  {
   "cell_type": "code",
   "execution_count": 2,
   "metadata": {},
   "outputs": [
    {
     "data": {
      "text/plain": [
       "0      99.1\n",
       "1      94.8\n",
       "2      98.5\n",
       "3     100.2\n",
       "4     104.1\n",
       "5     106.8\n",
       "6     114.7\n",
       "7     136.6\n",
       "8      99.1\n",
       "9      84.7\n",
       "10     98.7\n",
       "11    102.8\n",
       "12    112.7\n",
       "13     99.1\n",
       "14     84.6\n",
       "15    111.0\n",
       "16    112.7\n",
       "17    100.4\n",
       "18    100.7\n",
       "Name: o_ifo_agro_atyrau, dtype: float64"
      ]
     },
     "execution_count": 2,
     "metadata": {},
     "output_type": "execute_result"
    }
   ],
   "source": []
  },
  {
   "cell_type": "code",
   "execution_count": null,
   "metadata": {},
   "outputs": [],
   "source": []
  }
 ],
 "metadata": {
  "kernelspec": {
   "display_name": "Python 3",
   "language": "python",
   "name": "python3"
  },
  "language_info": {
   "codemirror_mode": {
    "name": "ipython",
    "version": 3
   },
   "file_extension": ".py",
   "mimetype": "text/x-python",
   "name": "python",
   "nbconvert_exporter": "python",
   "pygments_lexer": "ipython3",
   "version": "3.7.6"
  }
 },
 "nbformat": 4,
 "nbformat_minor": 4
}
