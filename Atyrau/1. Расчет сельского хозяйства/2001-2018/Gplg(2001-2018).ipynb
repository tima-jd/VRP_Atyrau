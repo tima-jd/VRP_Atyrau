{
 "cells": [
  {
   "cell_type": "code",
   "execution_count": 2,
   "metadata": {},
   "outputs": [
    {
     "data": {
      "text/plain": [
       "0            NaN\n",
       "1     106.194690\n",
       "2      96.666667\n",
       "3     115.517241\n",
       "4     124.626866\n",
       "5      99.401198\n",
       "6     124.698795\n",
       "7     139.130435\n",
       "8     100.000000\n",
       "9      97.569444\n",
       "10    102.135231\n",
       "11    106.620209\n",
       "12    110.130719\n",
       "13     97.685460\n",
       "14    104.738761\n",
       "15    118.039443\n",
       "16    103.906634\n",
       "17     99.834476\n",
       "18    104.571293\n",
       "dtype: float64"
      ]
     },
     "execution_count": 2,
     "metadata": {},
     "output_type": "execute_result"
    }
   ],
   "source": [
    "import pandas as pd\n",
    "import numpy as np\n",
    "xlsx = pd.read_csv('vrp_ekz_fact.csv')\n",
    "l = xlsx['o_year']\n",
    "Gplg = ((xlsx['o_potato_atyrau'] + xlsx['o_grain_atyrau'] + xlsx['o_vegetables_atyrau'])/(xlsx['o_potato_atyrau'].shift(1) + xlsx['o_grain_atyrau'].shift(1) + xlsx['o_vegetables_atyrau'].shift(1))) * 100\n",
    "Gplg"
   ]
  },
  {
   "cell_type": "code",
   "execution_count": null,
   "metadata": {},
   "outputs": [],
   "source": []
  }
 ],
 "metadata": {
  "kernelspec": {
   "display_name": "Python 3",
   "language": "python",
   "name": "python3"
  },
  "language_info": {
   "codemirror_mode": {
    "name": "ipython",
    "version": 3
   },
   "file_extension": ".py",
   "mimetype": "text/x-python",
   "name": "python",
   "nbconvert_exporter": "python",
   "pygments_lexer": "ipython3",
   "version": "3.7.6"
  }
 },
 "nbformat": 4,
 "nbformat_minor": 4
}
