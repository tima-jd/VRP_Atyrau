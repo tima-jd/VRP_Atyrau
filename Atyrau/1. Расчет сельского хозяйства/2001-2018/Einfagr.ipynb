{
 "cells": [
  {
   "cell_type": "code",
   "execution_count": 4,
   "metadata": {},
   "outputs": [
    {
     "data": {
      "text/plain": [
       "0       456.2\n",
       "1       503.5\n",
       "2       576.9\n",
       "3       672.7\n",
       "4       755.9\n",
       "5      1108.5\n",
       "6      1492.7\n",
       "7      2411.4\n",
       "8      2661.5\n",
       "9      2387.6\n",
       "10     5817.8\n",
       "11     7339.0\n",
       "12     8708.1\n",
       "13     9704.1\n",
       "14     9903.1\n",
       "15    10924.0\n",
       "16    11165.7\n",
       "17    11890.1\n",
       "18    12261.7\n",
       "Name: o_prod_agro_atyrau, dtype: float64"
      ]
     },
     "execution_count": 4,
     "metadata": {},
     "output_type": "execute_result"
    }
   ],
   "source": [
    "from scipy.stats.mstats import gmean\n",
    "import pandas as pd\n",
    "import numpy as np\n",
    "csv_file = pd.read_csv('vrp_ekz_fact.csv')\n",
    "\n",
    "lagr = csv_file['o_ifo_agro_atyrau']\n",
    "Nagr= csv_file['o_prod_agro_atyrau']\n",
    "\n",
    "inf = csv_file['o_inflation']\n",
    "\n",
    "Dagr = (Nagr/Nagr.shift(1)/lagr)*10000\n",
    "\n",
    "Einfagr = (gmean(Dagr[1:]))/(gmean(inf[1:]+100))\n",
    "\n",
    "Nagr\n"
   ]
  },
  {
   "cell_type": "code",
   "execution_count": null,
   "metadata": {},
   "outputs": [],
   "source": []
  }
 ],
 "metadata": {
  "kernelspec": {
   "display_name": "Python 3",
   "language": "python",
   "name": "python3"
  },
  "language_info": {
   "codemirror_mode": {
    "name": "ipython",
    "version": 3
   },
   "file_extension": ".py",
   "mimetype": "text/x-python",
   "name": "python",
   "nbconvert_exporter": "python",
   "pygments_lexer": "ipython3",
   "version": "3.7.6"
  }
 },
 "nbformat": 4,
 "nbformat_minor": 4
}
