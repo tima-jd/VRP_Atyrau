{
 "cells": [
  {
   "cell_type": "code",
   "execution_count": 1,
   "metadata": {},
   "outputs": [
    {
     "data": {
      "text/plain": [
       "0            NaN\n",
       "1     116.422215\n",
       "2     116.322796\n",
       "3     116.373251\n",
       "4     107.942429\n",
       "5     137.309346\n",
       "6     117.401438\n",
       "7     118.262219\n",
       "8     111.373934\n",
       "9     105.913590\n",
       "10    246.876678\n",
       "11    122.711421\n",
       "12    105.284055\n",
       "13    112.449674\n",
       "14    120.627281\n",
       "15     99.377381\n",
       "16     90.694374\n",
       "17    106.063472\n",
       "18    102.408430\n",
       "dtype: float64"
      ]
     },
     "execution_count": 1,
     "metadata": {},
     "output_type": "execute_result"
    }
   ],
   "source": [
    "import pandas as pd\n",
    "import numpy as np\n",
    "csv_file = pd.read_csv('vrp_ekz_fact.csv')\n",
    "lagr = csv_file['o_ifo_agro_atyrau']\n",
    "Nagr= csv_file['o_prod_agro_atyrau']\n",
    "Dagr = Nagr/Nagr.shift(1)/lagr*10000\n",
    "\n",
    "Dagr"
   ]
  },
  {
   "cell_type": "code",
   "execution_count": null,
   "metadata": {},
   "outputs": [],
   "source": []
  }
 ],
 "metadata": {
  "kernelspec": {
   "display_name": "Python 3",
   "language": "python",
   "name": "python3"
  },
  "language_info": {
   "codemirror_mode": {
    "name": "ipython",
    "version": 3
   },
   "file_extension": ".py",
   "mimetype": "text/x-python",
   "name": "python",
   "nbconvert_exporter": "python",
   "pygments_lexer": "ipython3",
   "version": "3.7.6"
  }
 },
 "nbformat": 4,
 "nbformat_minor": 4
}
