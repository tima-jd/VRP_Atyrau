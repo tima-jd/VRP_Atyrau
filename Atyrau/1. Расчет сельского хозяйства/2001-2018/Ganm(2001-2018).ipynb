{
 "cells": [
  {
   "cell_type": "code",
   "execution_count": 7,
   "metadata": {},
   "outputs": [
    {
     "data": {
      "text/plain": [
       "0            NaN\n",
       "1     110.643120\n",
       "2     108.220538\n",
       "3     137.583324\n",
       "4     109.349810\n",
       "5     105.049016\n",
       "6      90.118377\n",
       "7     113.235978\n",
       "8     112.233215\n",
       "9     110.075386\n",
       "10     98.196644\n",
       "11    102.213385\n",
       "12     71.274767\n",
       "13     90.407209\n",
       "14     72.342381\n",
       "15    109.143683\n",
       "16    105.918004\n",
       "17    105.381524\n",
       "18    110.431217\n",
       "dtype: float64"
      ]
     },
     "execution_count": 7,
     "metadata": {},
     "output_type": "execute_result"
    }
   ],
   "source": [
    "import pandas as pd\n",
    "import numpy as np\n",
    "xlsx = pd.read_csv('vrp_ekz_fact.csv')\n",
    "l = xlsx['o_year']\n",
    "Ganm = ((xlsx['o_cattle_atyrau'] * xlsx['o_weight_cattle']) + (xlsx['o_goats_atyrau'] * xlsx['o_weight_goats']) + (xlsx['o_horses_atyrau']* xlsx['o_weight_horses']) + (xlsx['o_poultry_atyrau'] * xlsx['o_weight_poultry']))/((xlsx['o_cattle_atyrau'] * xlsx['o_weight_cattle']).shift(1) + (xlsx['o_goats_atyrau'] * xlsx['o_weight_goats']).shift(1) + (xlsx['o_horses_atyrau']* xlsx['o_weight_horses']).shift(1) + (xlsx['o_poultry_atyrau'] * xlsx['o_weight_poultry']).shift(1)) * 100\n",
    "Ganm"
   ]
  },
  {
   "cell_type": "code",
   "execution_count": null,
   "metadata": {},
   "outputs": [],
   "source": []
  }
 ],
 "metadata": {
  "kernelspec": {
   "display_name": "Python 3",
   "language": "python",
   "name": "python3"
  },
  "language_info": {
   "codemirror_mode": {
    "name": "ipython",
    "version": 3
   },
   "file_extension": ".py",
   "mimetype": "text/x-python",
   "name": "python",
   "nbconvert_exporter": "python",
   "pygments_lexer": "ipython3",
   "version": "3.7.6"
  }
 },
 "nbformat": 4,
 "nbformat_minor": 4
}
