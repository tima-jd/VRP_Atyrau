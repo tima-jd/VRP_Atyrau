{
 "cells": [
  {
   "cell_type": "code",
   "execution_count": 1,
   "metadata": {},
   "outputs": [
    {
     "data": {
      "text/plain": [
       "0     25.5946\n",
       "1     27.1801\n",
       "2     26.2741\n",
       "3     30.3511\n",
       "4     37.8256\n",
       "5     37.5991\n",
       "6     46.8856\n",
       "7     65.2322\n",
       "8     65.2322\n",
       "9     63.6467\n",
       "10    65.0057\n",
       "11    69.3092\n",
       "12    76.3307\n",
       "13     74.564\n",
       "14    78.0974\n",
       "15    92.1857\n",
       "16    95.7871\n",
       "17    95.6285\n",
       "18        100\n",
       "Name: c1, dtype: object"
      ]
     },
     "execution_count": 1,
     "metadata": {},
     "output_type": "execute_result"
    }
   ],
   "source": [
    "import pandas as pd\n",
    "import numpy as np\n",
    "xlsx = pd.read_csv('vrp_ekz_fact.csv')\n",
    "l = xlsx['o_year']\n",
    "b = ((xlsx['o_potato_atyrau'] + xlsx['o_grain_atyrau'] + xlsx['o_vegetables_atyrau'])/(xlsx['o_potato_atyrau'].shift(1) + xlsx['o_grain_atyrau'].shift(1) + xlsx['o_vegetables_atyrau'].shift(1))) * 100\n",
    "\n",
    "i=18\n",
    "c=100\n",
    "newdf = pd.DataFrame(columns=['c1'], index=range(19))\n",
    "while i>0:\n",
    "    c = (c/b[i]) * 100\n",
    "    i=i-1\n",
    "    newdf.loc[i].c1 = c\n",
    "GplgS=newdf['c1']\n",
    "GplgS[18]=100\n",
    "GplgS"
   ]
  },
  {
   "cell_type": "code",
   "execution_count": null,
   "metadata": {},
   "outputs": [],
   "source": []
  }
 ],
 "metadata": {
  "kernelspec": {
   "display_name": "Python 3",
   "language": "python",
   "name": "python3"
  },
  "language_info": {
   "codemirror_mode": {
    "name": "ipython",
    "version": 3
   },
   "file_extension": ".py",
   "mimetype": "text/x-python",
   "name": "python",
   "nbconvert_exporter": "python",
   "pygments_lexer": "ipython3",
   "version": "3.7.6"
  }
 },
 "nbformat": 4,
 "nbformat_minor": 4
}
