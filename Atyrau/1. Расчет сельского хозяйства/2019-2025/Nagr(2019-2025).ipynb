{
 "cells": [
  {
   "cell_type": "code",
   "execution_count": 1,
   "metadata": {},
   "outputs": [
    {
     "data": {
      "text/plain": [
       "0     106.485351\n",
       "1     106.485351\n",
       "2     106.485351\n",
       "3     105.404459\n",
       "4     105.404459\n",
       "5     105.404459\n",
       "6     105.404459\n",
       "7     106.485351\n",
       "8     106.074612\n",
       "9     106.074612\n",
       "10    104.993720\n",
       "11    104.993720\n",
       "12    104.993720\n",
       "13    104.993720\n",
       "14    108.149924\n",
       "15    108.149924\n",
       "16    107.069033\n",
       "17    107.069033\n",
       "18    107.069033\n",
       "19    107.069033\n",
       "20    106.485351\n",
       "Name: o_inflation, dtype: float64"
      ]
     },
     "execution_count": 1,
     "metadata": {},
     "output_type": "execute_result"
    }
   ],
   "source": [
    "import pandas as pd\n",
    "import numpy as np\n",
    "csv_file = pd.read_csv('vrp_ekz_prog.csv')\n",
    "inf=csv_file['o_inflation']\n",
    "\n",
    "Dagr= inf * 1.0808918364508224 + 100\n",
    "\n",
    "Dagr"
   ]
  },
  {
   "cell_type": "code",
   "execution_count": 2,
   "metadata": {},
   "outputs": [
    {
     "data": {
      "text/plain": [
       "0     105.089402\n",
       "1     105.094169\n",
       "2     105.120557\n",
       "3     105.102849\n",
       "4     105.121318\n",
       "5     105.130745\n",
       "6     105.132991\n",
       "7      76.116703\n",
       "8     105.094169\n",
       "9     105.120557\n",
       "10    105.102849\n",
       "11    105.121318\n",
       "12    105.130745\n",
       "13    105.132991\n",
       "14     79.385589\n",
       "15    105.120557\n",
       "16    105.102849\n",
       "17    105.121318\n",
       "18    105.130745\n",
       "19    105.132991\n",
       "20     76.116703\n",
       "Name: c1, dtype: float64"
      ]
     },
     "execution_count": 2,
     "metadata": {},
     "output_type": "execute_result"
    }
   ],
   "source": [
    "import pandas as pd\n",
    "csv = pd.read_csv('lagrt(2019-2025).csv')\n",
    "lagrt=csv['c1']\n",
    "lagrt"
   ]
  },
  {
   "cell_type": "code",
   "execution_count": 3,
   "metadata": {},
   "outputs": [
    {
     "data": {
      "text/plain": [
       "0     13721.4\n",
       "1     15355.6\n",
       "2     17188.8\n",
       "3     19042.3\n",
       "4     21099.3\n",
       "5     23380.7\n",
       "6     25909.3\n",
       "7     21000.3\n",
       "8     23410.8\n",
       "9     26104.4\n",
       "10    28806.6\n",
       "11    31794.1\n",
       "12    35094.5\n",
       "13    38738.4\n",
       "14      33259\n",
       "15    37811.5\n",
       "16    42550.2\n",
       "17    47891.3\n",
       "18    53907.6\n",
       "19    60681.1\n",
       "20    49183.9\n",
       "Name: c1, dtype: object"
      ]
     },
     "execution_count": 3,
     "metadata": {},
     "output_type": "execute_result"
    }
   ],
   "source": [
    "c=12261.7\n",
    "i=0\n",
    "\n",
    "newdf = pd.DataFrame(columns=['c1'], index=range(21))\n",
    "\n",
    "while i<=20:\n",
    "    c = c*lagrt[i]*Dagr[i]/10000\n",
    "    newdf.loc[i].c1 = c    \n",
    "    i=i+1\n",
    "\n",
    "Nagr=newdf['c1']\n",
    "\n",
    "Nagr"
   ]
  },
  {
   "cell_type": "code",
   "execution_count": null,
   "metadata": {},
   "outputs": [],
   "source": []
  }
 ],
 "metadata": {
  "kernelspec": {
   "display_name": "Python 3",
   "language": "python",
   "name": "python3"
  },
  "language_info": {
   "codemirror_mode": {
    "name": "ipython",
    "version": 3
   },
   "file_extension": ".py",
   "mimetype": "text/x-python",
   "name": "python",
   "nbconvert_exporter": "python",
   "pygments_lexer": "ipython3",
   "version": "3.7.6"
  }
 },
 "nbformat": 4,
 "nbformat_minor": 4
}
