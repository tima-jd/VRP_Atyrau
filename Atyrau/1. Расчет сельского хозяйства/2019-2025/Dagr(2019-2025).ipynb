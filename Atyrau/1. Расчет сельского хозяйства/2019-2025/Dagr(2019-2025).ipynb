{
 "cells": [
  {
   "cell_type": "code",
   "execution_count": 3,
   "metadata": {},
   "outputs": [
    {
     "data": {
      "text/plain": [
       "0     106.485351\n",
       "1     106.485351\n",
       "2     106.485351\n",
       "3     105.404459\n",
       "4     105.404459\n",
       "5     105.404459\n",
       "6     105.404459\n",
       "7     106.485351\n",
       "8     106.074612\n",
       "9     106.074612\n",
       "10    104.993720\n",
       "11    104.993720\n",
       "12    104.993720\n",
       "13    104.993720\n",
       "14    108.149924\n",
       "15    108.149924\n",
       "16    107.069033\n",
       "17    107.069033\n",
       "18    107.069033\n",
       "19    107.069033\n",
       "20    106.485351\n",
       "Name: o_inflation, dtype: float64"
      ]
     },
     "execution_count": 3,
     "metadata": {},
     "output_type": "execute_result"
    }
   ],
   "source": [
    "from scipy.stats.mstats import gmean\n",
    "import pandas as pd\n",
    "import numpy as np\n",
    "c = pd.read_csv('vrp_ekz_prog.csv')\n",
    "inf = c['o_inflation']\n",
    "\n",
    "Dagr= inf * 1.0808918364508224 + 100\n",
    "Dagr"
   ]
  },
  {
   "cell_type": "code",
   "execution_count": null,
   "metadata": {},
   "outputs": [],
   "source": []
  }
 ],
 "metadata": {
  "kernelspec": {
   "display_name": "Python 3",
   "language": "python",
   "name": "python3"
  },
  "language_info": {
   "codemirror_mode": {
    "name": "ipython",
    "version": 3
   },
   "file_extension": ".py",
   "mimetype": "text/x-python",
   "name": "python",
   "nbconvert_exporter": "python",
   "pygments_lexer": "ipython3",
   "version": "3.7.6"
  }
 },
 "nbformat": 4,
 "nbformat_minor": 4
}
