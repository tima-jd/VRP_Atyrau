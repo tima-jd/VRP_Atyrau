{
 "cells": [
  {
   "cell_type": "code",
   "execution_count": 14,
   "metadata": {},
   "outputs": [
    {
     "data": {
      "text/plain": [
       "0     102.324296\n",
       "1     102.282087\n",
       "2     102.366714\n",
       "3     102.334381\n",
       "4     102.300303\n",
       "5     102.377701\n",
       "6     102.333205\n",
       "7      87.080561\n",
       "8     102.282087\n",
       "9     102.366714\n",
       "10    102.334381\n",
       "11    102.300303\n",
       "12    102.377701\n",
       "13    102.333205\n",
       "14     89.067816\n",
       "15    102.366714\n",
       "16    102.334381\n",
       "17    102.300303\n",
       "18    102.377701\n",
       "19    102.333205\n",
       "20     87.080561\n",
       "dtype: float64"
      ]
     },
     "execution_count": 14,
     "metadata": {},
     "output_type": "execute_result"
    }
   ],
   "source": [
    "import pandas as pd\n",
    "import numpy as np\n",
    "xlsx = pd.read_csv('vrp_ekz_prog.csv')\n",
    "l = xlsx['o_year']\n",
    "l = ((xlsx['o_cattle_atyrau'] * xlsx['o_weight_cattle']).shift(1) + (xlsx['o_goats_atyrau'] * xlsx['o_weight_goats']).shift(1) + (xlsx['o_horses_atyrau']* xlsx['o_weight_horses']).shift(1) + (xlsx['o_poultry_atyrau'] * xlsx['o_weight_poultry']).shift(1))\n",
    "l[0]= 2159.88\n",
    "Ganm = (((xlsx['o_cattle_atyrau'] * xlsx['o_weight_cattle']) + (xlsx['o_goats_atyrau'] * xlsx['o_weight_goats']) + (xlsx['o_horses_atyrau']* xlsx['o_weight_horses']) + (xlsx['o_poultry_atyrau'] * xlsx['o_weight_poultry']))/ l)*100\n",
    "Ganm"
   ]
  },
  {
   "cell_type": "code",
   "execution_count": 15,
   "metadata": {},
   "outputs": [
    {
     "data": {
      "text/plain": [
       "0     107.995470\n",
       "1     108.011745\n",
       "2     108.038835\n",
       "3     108.015816\n",
       "4     108.053245\n",
       "5     108.053588\n",
       "6     108.066125\n",
       "7      62.877489\n",
       "8     108.011745\n",
       "9     108.038835\n",
       "10    108.015816\n",
       "11    108.053245\n",
       "12    108.053588\n",
       "13    108.066125\n",
       "14     67.915073\n",
       "15    108.038835\n",
       "16    108.015816\n",
       "17    108.053245\n",
       "18    108.053588\n",
       "19    108.066125\n",
       "20     62.877489\n",
       "dtype: float64"
      ]
     },
     "execution_count": 15,
     "metadata": {},
     "output_type": "execute_result"
    }
   ],
   "source": [
    "import pandas as pd\n",
    "import numpy as np\n",
    "xlsx = pd.read_csv('vrp_ekz_prog.csv')\n",
    "l = (xlsx['o_potato_atyrau'].shift(1) + xlsx['o_grain_atyrau'].shift(1) + xlsx['o_vegetables_atyrau'].shift(1))\n",
    "l[0] = 44.15\n",
    "\n",
    "Gplg = ((xlsx['o_potato_atyrau'] + xlsx['o_grain_atyrau'] + xlsx['o_vegetables_atyrau'])/l)*100\n",
    "Gplg"
   ]
  },
  {
   "cell_type": "code",
   "execution_count": 16,
   "metadata": {},
   "outputs": [
    {
     "data": {
      "text/plain": [
       "0     104.055\n",
       "1     108.278\n",
       "2     112.696\n",
       "3     117.278\n",
       "4     122.062\n",
       "5     127.053\n",
       "6     132.249\n",
       "7     107.054\n",
       "8     111.399\n",
       "9     115.944\n",
       "10    120.658\n",
       "11    125.581\n",
       "12    130.715\n",
       "13     136.06\n",
       "14     113.69\n",
       "15    118.329\n",
       "16     123.14\n",
       "17    128.164\n",
       "18    133.404\n",
       "19     138.86\n",
       "20    112.405\n",
       "Name: c1, dtype: object"
      ]
     },
     "execution_count": 16,
     "metadata": {},
     "output_type": "execute_result"
    }
   ],
   "source": [
    "i=0\n",
    "c=100\n",
    "\n",
    "newdf = pd.DataFrame(columns=['c1'], index=range(21))\n",
    "while i<=20:\n",
    "    c = (c*((((Gplg[i]-100) * 0.4765606845032914) + ((Ganm[i]-100) * 0.10525767122009938)) + 100)) /100\n",
    "    newdf.loc[i].c1 = c\n",
    "    i=i+1\n",
    "lagrS=newdf['c1']\n",
    "\n",
    "lagrS"
   ]
  },
  {
   "cell_type": "code",
   "execution_count": 17,
   "metadata": {},
   "outputs": [
    {
     "data": {
      "text/plain": [
       "0     104.055\n",
       "1     104.058\n",
       "2      104.08\n",
       "3     104.066\n",
       "4      104.08\n",
       "5     104.088\n",
       "6      104.09\n",
       "7      80.949\n",
       "8     104.058\n",
       "9      104.08\n",
       "10    104.066\n",
       "11     104.08\n",
       "12    104.088\n",
       "13     104.09\n",
       "14    83.5589\n",
       "15     104.08\n",
       "16    104.066\n",
       "17     104.08\n",
       "18    104.088\n",
       "19     104.09\n",
       "20     80.949\n",
       "Name: c1, dtype: object"
      ]
     },
     "execution_count": 17,
     "metadata": {},
     "output_type": "execute_result"
    }
   ],
   "source": [
    "w=lagrS.shift(1)\n",
    "w[0]=100\n",
    "lagrt = lagrS/w*100\n",
    "lagrt"
   ]
  },
  {
   "cell_type": "code",
   "execution_count": 18,
   "metadata": {},
   "outputs": [],
   "source": [
    "lagrt.to_csv (r'lagrt(2019-2025).csv', index = False)"
   ]
  },
  {
   "cell_type": "code",
   "execution_count": null,
   "metadata": {},
   "outputs": [],
   "source": []
  }
 ],
 "metadata": {
  "kernelspec": {
   "display_name": "Python 3",
   "language": "python",
   "name": "python3"
  },
  "language_info": {
   "codemirror_mode": {
    "name": "ipython",
    "version": 3
   },
   "file_extension": ".py",
   "mimetype": "text/x-python",
   "name": "python",
   "nbconvert_exporter": "python",
   "pygments_lexer": "ipython3",
   "version": "3.7.6"
  }
 },
 "nbformat": 4,
 "nbformat_minor": 4
}
