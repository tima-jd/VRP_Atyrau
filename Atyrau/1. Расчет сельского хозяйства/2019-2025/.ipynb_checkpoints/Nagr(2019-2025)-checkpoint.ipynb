{
 "cells": [
  {
   "cell_type": "code",
   "execution_count": 2,
   "metadata": {},
   "outputs": [
    {
     "data": {
      "text/plain": [
       "0     106.485351\n",
       "1     106.485351\n",
       "2     106.485351\n",
       "3     105.404459\n",
       "4     105.404459\n",
       "5     105.404459\n",
       "6     105.404459\n",
       "7     106.485351\n",
       "8     106.074612\n",
       "9     106.074612\n",
       "10    104.993720\n",
       "11    104.993720\n",
       "12    104.993720\n",
       "13    104.993720\n",
       "14    108.149924\n",
       "15    108.149924\n",
       "16    107.069033\n",
       "17    107.069033\n",
       "18    107.069033\n",
       "19    107.069033\n",
       "20    106.485351\n",
       "Name: o_inflation, dtype: float64"
      ]
     },
     "execution_count": 2,
     "metadata": {},
     "output_type": "execute_result"
    }
   ],
   "source": [
    "import pandas as pd\n",
    "import numpy as np\n",
    "csv_file = pd.read_csv('vrp_ekz_prog.csv')\n",
    "inf=csv_file['o_inflation']\n",
    "\n",
    "Dagr= inf * 1.0808918364508224 + 100\n",
    "\n",
    "Dagr"
   ]
  },
  {
   "cell_type": "code",
   "execution_count": 3,
   "metadata": {},
   "outputs": [
    {
     "data": {
      "text/plain": [
       "0     104.054977\n",
       "1     104.058290\n",
       "2     104.080108\n",
       "3     104.065734\n",
       "4     104.079984\n",
       "5     104.088295\n",
       "6     104.089586\n",
       "7      80.949001\n",
       "8     104.058290\n",
       "9     104.080108\n",
       "10    104.065734\n",
       "11    104.079984\n",
       "12    104.088295\n",
       "13    104.089586\n",
       "14     83.558889\n",
       "15    104.080108\n",
       "16    104.065734\n",
       "17    104.079984\n",
       "18    104.088295\n",
       "19    104.089586\n",
       "20     80.949001\n",
       "Name: c1, dtype: float64"
      ]
     },
     "execution_count": 3,
     "metadata": {},
     "output_type": "execute_result"
    }
   ],
   "source": [
    "import pandas as pd\n",
    "csv = pd.read_csv('lagrt(2019-2025).csv')\n",
    "lagrt=csv['c1']\n",
    "lagrt"
   ]
  },
  {
   "cell_type": "code",
   "execution_count": 4,
   "metadata": {},
   "outputs": [],
   "source": [
    "c=12261.7\n",
    "i=0\n",
    "\n",
    "newdf = pd.DataFrame(columns=['c1'], index=range(21))\n",
    "\n",
    "while i<=20:\n",
    "    c = c*lagrt[i]*Dagr[i]/10000\n",
    "    newdf.loc[i].c1 = c    \n",
    "    i=i+1\n",
    "\n",
    "Nagr=newdf['c1']\n",
    "\n",
    "Nagr.to_csv(r'Nagr(2019-2025).csv',index = False)"
   ]
  },
  {
   "cell_type": "code",
   "execution_count": null,
   "metadata": {},
   "outputs": [],
   "source": []
  }
 ],
 "metadata": {
  "kernelspec": {
   "display_name": "Python 3",
   "language": "python",
   "name": "python3"
  },
  "language_info": {
   "codemirror_mode": {
    "name": "ipython",
    "version": 3
   },
   "file_extension": ".py",
   "mimetype": "text/x-python",
   "name": "python",
   "nbconvert_exporter": "python",
   "pygments_lexer": "ipython3",
   "version": "3.7.6"
  }
 },
 "nbformat": 4,
 "nbformat_minor": 4
}
