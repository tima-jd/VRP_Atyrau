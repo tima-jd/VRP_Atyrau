{
 "cells": [
  {
   "cell_type": "code",
   "execution_count": 1,
   "metadata": {},
   "outputs": [
    {
     "data": {
      "text/plain": [
       "0            NaN\n",
       "1     119.312086\n",
       "2     138.877637\n",
       "3     101.156478\n",
       "4       6.439072\n",
       "5     126.404820\n",
       "6      88.490298\n",
       "7     109.307529\n",
       "8     107.961608\n",
       "9     105.845882\n",
       "10     71.151102\n",
       "11     49.799942\n",
       "12    109.475183\n",
       "13     29.588724\n",
       "14     19.265699\n",
       "15     91.975083\n",
       "16     99.056493\n",
       "17    100.198593\n",
       "18    102.365872\n",
       "dtype: float64"
      ]
     },
     "execution_count": 1,
     "metadata": {},
     "output_type": "execute_result"
    }
   ],
   "source": [
    "import pandas as pd\n",
    "csv = pd.read_csv('vrp_ekz_fact.csv')\n",
    "lind_csv = pd.read_csv('Dind, lind,Nind (2001-2018).csv')\n",
    "\n",
    "Nagr = csv['o_prod_agro_inder']\n",
    "Ncon = csv['o_prod_building_inder']\n",
    "\n",
    "Nwtr = csv['o_prod_water_inder']\n",
    "Nelc = csv['o_prod_energo_inder']\n",
    "Nman = csv['o_prod_man_inder']\n",
    "Nmin = csv['o_prod_mining_inder']\n",
    "\n",
    "lagr = csv['o_ifo_agro_inder']\n",
    "lcon = csv['o_ifo_building_inder']\n",
    "\n",
    "\n",
    "lind = lind_csv['lind']\n",
    "\n",
    "Nind = Nmin+Nman+Nelc+Nwtr\n",
    "\n",
    "Ngds = Nagr+Nind+Ncon\n",
    "\n",
    "lgds = (lagr*Nagr.shift(1) + lind*Nind.shift(1) + lcon*Ncon.shift(1))/(Nagr.shift(1)+Nind.shift(1)+Ncon.shift(1))\n",
    "\n",
    "Dgds = Ngds/Ngds.shift(1)/lgds * 10000\n",
    "\n",
    "Dgds"
   ]
  },
  {
   "cell_type": "code",
   "execution_count": null,
   "metadata": {},
   "outputs": [],
   "source": []
  }
 ],
 "metadata": {
  "kernelspec": {
   "display_name": "Python 3",
   "language": "python",
   "name": "python3"
  },
  "language_info": {
   "codemirror_mode": {
    "name": "ipython",
    "version": 3
   },
   "file_extension": ".py",
   "mimetype": "text/x-python",
   "name": "python",
   "nbconvert_exporter": "python",
   "pygments_lexer": "ipython3",
   "version": "3.7.6"
  }
 },
 "nbformat": 4,
 "nbformat_minor": 4
}
