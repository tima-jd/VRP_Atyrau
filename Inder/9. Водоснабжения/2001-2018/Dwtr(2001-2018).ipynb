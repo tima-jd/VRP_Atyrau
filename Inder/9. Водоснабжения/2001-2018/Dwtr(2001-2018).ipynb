{
 "cells": [
  {
   "cell_type": "code",
   "execution_count": 2,
   "metadata": {},
   "outputs": [
    {
     "data": {
      "text/plain": [
       "0            NaN\n",
       "1     114.253071\n",
       "2      88.401697\n",
       "3     122.484689\n",
       "4      96.339114\n",
       "5     189.100911\n",
       "6     139.502441\n",
       "7     121.142566\n",
       "8     109.107913\n",
       "9      79.769708\n",
       "10    101.788571\n",
       "11    124.458874\n",
       "12    145.067698\n",
       "13    126.305562\n",
       "14     58.057730\n",
       "15    124.472997\n",
       "16    101.244823\n",
       "17    106.466133\n",
       "18    109.916230\n",
       "dtype: float64"
      ]
     },
     "execution_count": 2,
     "metadata": {},
     "output_type": "execute_result"
    }
   ],
   "source": [
    "from scipy.stats.mstats import gmean\n",
    "import pandas as pd\n",
    "csv = pd.read_csv('vrp_ekz_fact.csv')\n",
    "\n",
    "inf = csv['o_inflation']\n",
    "\n",
    "lwtr = csv['o_ifo_water_inder']\n",
    "Nwtr = csv['o_prod_water_inder']\n",
    "\n",
    "Dwtr = Nwtr/Nwtr.shift(1)/lwtr *10000\n",
    "Dwtr"
   ]
  },
  {
   "cell_type": "code",
   "execution_count": null,
   "metadata": {},
   "outputs": [],
   "source": []
  }
 ],
 "metadata": {
  "kernelspec": {
   "display_name": "Python 3",
   "language": "python",
   "name": "python3"
  },
  "language_info": {
   "codemirror_mode": {
    "name": "ipython",
    "version": 3
   },
   "file_extension": ".py",
   "mimetype": "text/x-python",
   "name": "python",
   "nbconvert_exporter": "python",
   "pygments_lexer": "ipython3",
   "version": "3.7.6"
  }
 },
 "nbformat": 4,
 "nbformat_minor": 4
}
