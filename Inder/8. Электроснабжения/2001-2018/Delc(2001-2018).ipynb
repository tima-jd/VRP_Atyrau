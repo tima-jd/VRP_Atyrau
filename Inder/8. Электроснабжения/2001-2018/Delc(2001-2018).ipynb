{
 "cells": [
  {
   "cell_type": "code",
   "execution_count": 4,
   "metadata": {},
   "outputs": [
    {
     "data": {
      "text/plain": [
       "0            NaN\n",
       "1     509.580106\n",
       "2      41.317700\n",
       "3      60.223935\n",
       "4      35.241726\n",
       "5     128.120584\n",
       "6     123.578843\n",
       "7       5.010648\n",
       "8       0.000000\n",
       "9            inf\n",
       "10           NaN\n",
       "11           NaN\n",
       "12           NaN\n",
       "13           NaN\n",
       "14           NaN\n",
       "15           NaN\n",
       "16           NaN\n",
       "17           NaN\n",
       "18           NaN\n",
       "dtype: float64"
      ]
     },
     "execution_count": 4,
     "metadata": {},
     "output_type": "execute_result"
    }
   ],
   "source": [
    "import pandas as pd\n",
    "csv = pd.read_csv('vrp_ekz_fact.csv')\n",
    "\n",
    "lelc = csv['o_ifo_energo_inder']\n",
    "Nelc = csv['o_prod_energo_inder']\n",
    "\n",
    "Delc = Nelc/Nelc.shift(1)/lelc *10000\n",
    "Delc"
   ]
  },
  {
   "cell_type": "code",
   "execution_count": null,
   "metadata": {},
   "outputs": [],
   "source": []
  }
 ],
 "metadata": {
  "kernelspec": {
   "display_name": "Python 3",
   "language": "python",
   "name": "python3"
  },
  "language_info": {
   "codemirror_mode": {
    "name": "ipython",
    "version": 3
   },
   "file_extension": ".py",
   "mimetype": "text/x-python",
   "name": "python",
   "nbconvert_exporter": "python",
   "pygments_lexer": "ipython3",
   "version": "3.7.6"
  }
 },
 "nbformat": 4,
 "nbformat_minor": 4
}
