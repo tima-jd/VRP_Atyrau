{
 "cells": [
  {
   "cell_type": "code",
   "execution_count": 2,
   "metadata": {},
   "outputs": [
    {
     "data": {
      "text/plain": [
       "0     29.5827\n",
       "1     18.4892\n",
       "2     19.0174\n",
       "3      22.187\n",
       "4     23.7718\n",
       "5     22.7153\n",
       "6     19.5457\n",
       "7     21.1305\n",
       "8     25.3566\n",
       "9     33.2805\n",
       "10    31.1675\n",
       "11     32.224\n",
       "12    32.7522\n",
       "13    42.7892\n",
       "14    59.3767\n",
       "15    86.1595\n",
       "16    91.9176\n",
       "17    96.1437\n",
       "18        100\n",
       "Name: c1, dtype: object"
      ]
     },
     "execution_count": 2,
     "metadata": {},
     "output_type": "execute_result"
    }
   ],
   "source": [
    "import pandas as pd\n",
    "xlsx = pd.read_csv('vrp_ekz_fact.csv')\n",
    "Gplg = ((xlsx['o_potato_inder'] + xlsx['o_grain_inder'] + xlsx['o_vegetables_inder'])/(xlsx['o_potato_inder'].shift(1) + xlsx['o_grain_inder'].shift(1) + xlsx['o_vegetables_inder'].shift(1))) * 100\n",
    "\n",
    "i=18\n",
    "c=100\n",
    "newdf = pd.DataFrame(columns=['c1'], index=range(19))\n",
    "while i>0:\n",
    "    c = (c/Gplg[i]) * 100\n",
    "    i=i-1\n",
    "    newdf.loc[i].c1 = c\n",
    "GplgS=newdf['c1']\n",
    "GplgS[18]=100\n",
    "GplgS"
   ]
  },
  {
   "cell_type": "code",
   "execution_count": null,
   "metadata": {},
   "outputs": [],
   "source": []
  }
 ],
 "metadata": {
  "kernelspec": {
   "display_name": "Python 3",
   "language": "python",
   "name": "python3"
  },
  "language_info": {
   "codemirror_mode": {
    "name": "ipython",
    "version": 3
   },
   "file_extension": ".py",
   "mimetype": "text/x-python",
   "name": "python",
   "nbconvert_exporter": "python",
   "pygments_lexer": "ipython3",
   "version": "3.7.6"
  }
 },
 "nbformat": 4,
 "nbformat_minor": 4
}
