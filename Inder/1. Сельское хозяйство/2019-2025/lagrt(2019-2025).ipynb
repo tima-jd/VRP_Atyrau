{
 "cells": [
  {
   "cell_type": "code",
   "execution_count": 5,
   "metadata": {},
   "outputs": [
    {
     "data": {
      "text/plain": [
       "0     102.833882\n",
       "1     102.801423\n",
       "2     102.801572\n",
       "3     102.823053\n",
       "4     102.790443\n",
       "5     102.808986\n",
       "6     102.820583\n",
       "7      84.692849\n",
       "8     102.801423\n",
       "9     102.801572\n",
       "10    102.823053\n",
       "11    102.790443\n",
       "12    102.808986\n",
       "13    102.820583\n",
       "14     87.065455\n",
       "15    102.801572\n",
       "16    102.823053\n",
       "17    102.790443\n",
       "18    102.808986\n",
       "19    102.820583\n",
       "20     84.692849\n",
       "dtype: float64"
      ]
     },
     "execution_count": 5,
     "metadata": {},
     "output_type": "execute_result"
    }
   ],
   "source": [
    "import pandas as pd\n",
    "xlsx = pd.read_csv('vrp_ekz_prog.csv')\n",
    "l = (xlsx['o_cattle_inder'] * xlsx['o_weight_cattle']).shift(1) + (xlsx['o_goats_inder'] * xlsx['o_weight_goats']).shift(1) + (xlsx['o_horses_inder']* xlsx['o_weight_horses']).shift(1) + (xlsx['o_poultry_inder'] * xlsx['o_weight_poultry']).shift(1)\n",
    "l[0] =  11046.12\n",
    "Ganm = ((xlsx['o_cattle_inder'] * xlsx['o_weight_cattle']) + (xlsx['o_goats_inder'] * xlsx['o_weight_goats']) + (xlsx['o_horses_inder']* xlsx['o_weight_horses']) + (xlsx['o_poultry_inder'] * xlsx['o_weight_poultry']))/l * 100\n",
    "Ganm"
   ]
  },
  {
   "cell_type": "code",
   "execution_count": 6,
   "metadata": {},
   "outputs": [
    {
     "data": {
      "text/plain": [
       "0     106.973059\n",
       "1     107.012346\n",
       "2     107.014305\n",
       "3     106.942648\n",
       "4     107.016129\n",
       "5     107.008289\n",
       "6     107.007042\n",
       "7      66.633761\n",
       "8     107.012346\n",
       "9     107.014305\n",
       "10    106.942648\n",
       "11    107.016129\n",
       "12    107.008289\n",
       "13    107.007042\n",
       "14     71.306351\n",
       "15    107.014305\n",
       "16    106.942648\n",
       "17    107.016129\n",
       "18    107.008289\n",
       "19    107.007042\n",
       "20     66.633761\n",
       "dtype: float64"
      ]
     },
     "execution_count": 6,
     "metadata": {},
     "output_type": "execute_result"
    }
   ],
   "source": [
    "import pandas as pd\n",
    "import numpy as np\n",
    "xlsx = pd.read_csv('vrp_ekz_prog.csv')\n",
    "l = (xlsx['o_potato_inder'].shift(1) + xlsx['o_grain_inder'].shift(1) + xlsx['o_vegetables_inder'].shift(1))\n",
    "l[0]=18.93\n",
    "Gplg = ((xlsx['o_potato_inder'] + xlsx['o_grain_inder'] + xlsx['o_vegetables_inder'])/l)*100\n",
    "Gplg"
   ]
  },
  {
   "cell_type": "code",
   "execution_count": 7,
   "metadata": {},
   "outputs": [
    {
     "data": {
      "text/plain": [
       "0     106.518\n",
       "1     113.447\n",
       "2     120.828\n",
       "3     128.671\n",
       "4     137.028\n",
       "5      145.95\n",
       "6     155.468\n",
       "7     104.164\n",
       "8      110.94\n",
       "9     118.157\n",
       "10    125.827\n",
       "11        134\n",
       "12    142.724\n",
       "13    152.033\n",
       "14    109.249\n",
       "15    116.356\n",
       "16     123.91\n",
       "17    131.958\n",
       "18    140.549\n",
       "19    149.715\n",
       "20     100.31\n",
       "Name: c1, dtype: object"
      ]
     },
     "execution_count": 7,
     "metadata": {},
     "output_type": "execute_result"
    }
   ],
   "source": [
    "i=0\n",
    "c=100\n",
    "\n",
    "newdf = pd.DataFrame(columns=['c1'], index=range(21))\n",
    "while i<=20:\n",
    "    c = (c*((((Gplg[i]-100) * 0.5136705024063107) + ((Ganm[i]-100) * 1.0361450780902286)) + 100)) /100\n",
    "    newdf.loc[i].c1 = c\n",
    "    i=i+1\n",
    "lagrS=newdf['c1']\n",
    "\n",
    "lagrS"
   ]
  },
  {
   "cell_type": "code",
   "execution_count": 8,
   "metadata": {},
   "outputs": [
    {
     "data": {
      "text/plain": [
       "0     106.518\n",
       "1     106.505\n",
       "2     106.506\n",
       "3     106.491\n",
       "4     106.495\n",
       "5      106.51\n",
       "6     106.522\n",
       "7     67.0003\n",
       "8     106.505\n",
       "9     106.506\n",
       "10    106.491\n",
       "11    106.495\n",
       "12     106.51\n",
       "13    106.522\n",
       "14    71.8589\n",
       "15    106.506\n",
       "16    106.491\n",
       "17    106.495\n",
       "18     106.51\n",
       "19    106.522\n",
       "20    67.0003\n",
       "Name: c1, dtype: object"
      ]
     },
     "execution_count": 8,
     "metadata": {},
     "output_type": "execute_result"
    }
   ],
   "source": [
    "w=lagrS.shift(1)\n",
    "w[0]=100\n",
    "lagrt = lagrS/w*100\n",
    "lagrt"
   ]
  },
  {
   "cell_type": "code",
   "execution_count": 9,
   "metadata": {},
   "outputs": [],
   "source": [
    "lagrt.to_csv(r'lagrt(2019-2025).csv', index = False)"
   ]
  },
  {
   "cell_type": "code",
   "execution_count": null,
   "metadata": {},
   "outputs": [],
   "source": []
  }
 ],
 "metadata": {
  "kernelspec": {
   "display_name": "Python 3",
   "language": "python",
   "name": "python3"
  },
  "language_info": {
   "codemirror_mode": {
    "name": "ipython",
    "version": 3
   },
   "file_extension": ".py",
   "mimetype": "text/x-python",
   "name": "python",
   "nbconvert_exporter": "python",
   "pygments_lexer": "ipython3",
   "version": "3.7.6"
  }
 },
 "nbformat": 4,
 "nbformat_minor": 4
}
