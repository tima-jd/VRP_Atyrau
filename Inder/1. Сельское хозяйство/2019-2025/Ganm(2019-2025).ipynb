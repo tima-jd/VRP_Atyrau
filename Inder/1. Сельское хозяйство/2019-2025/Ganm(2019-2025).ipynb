{
 "cells": [
  {
   "cell_type": "code",
   "execution_count": 1,
   "metadata": {},
   "outputs": [],
   "source": [
    "import pandas as pd\n",
    "xlsx = pd.read_csv('vrp_ekz_prog.csv')\n",
    "l = (xlsx['o_cattle_inder'] * xlsx['o_weight_cattle']).shift(1) + (xlsx['o_goats_inder'] * xlsx['o_weight_goats']).shift(1) + (xlsx['o_horses_inder']* xlsx['o_weight_horses']).shift(1) + (xlsx['o_poultry_inder'] * xlsx['o_weight_poultry']).shift(1)\n",
    "l[0] =  11046.12\n",
    "l[7] =  11046.12\n",
    "l[14] =  11046.12\n",
    "Ganm = ((xlsx['o_cattle_inder'] * xlsx['o_weight_cattle']) + (xlsx['o_goats_inder'] * xlsx['o_weight_goats']) + (xlsx['o_horses_inder']* xlsx['o_weight_horses']) + (xlsx['o_poultry_inder'] * xlsx['o_weight_poultry']))/l*100\n",
    "\n",
    "Ganm_b = Ganm.loc[xlsx.o_script.str.match(r'базовый')].reset_index(drop = True)\n",
    "Ganm_o = Ganm.loc[xlsx.o_script.str.match(r'оптимистичный')].reset_index(drop = True)\n",
    "Ganm_p = Ganm.loc[xlsx.o_script.str.match(r'пессимистичный')].reset_index(drop = True)"
   ]
  },
  {
   "cell_type": "code",
   "execution_count": null,
   "metadata": {},
   "outputs": [],
   "source": []
  }
 ],
 "metadata": {
  "kernelspec": {
   "display_name": "Python 3",
   "language": "python",
   "name": "python3"
  },
  "language_info": {
   "codemirror_mode": {
    "name": "ipython",
    "version": 3
   },
   "file_extension": ".py",
   "mimetype": "text/x-python",
   "name": "python",
   "nbconvert_exporter": "python",
   "pygments_lexer": "ipython3",
   "version": "3.7.6"
  }
 },
 "nbformat": 4,
 "nbformat_minor": 4
}
