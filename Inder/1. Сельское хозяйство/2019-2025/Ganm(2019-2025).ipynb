{
 "cells": [
  {
   "cell_type": "code",
   "execution_count": 4,
   "metadata": {},
   "outputs": [
    {
     "data": {
      "text/plain": [
       "0     102.833882\n",
       "1     102.801423\n",
       "2     102.801572\n",
       "3     102.823053\n",
       "4     102.790443\n",
       "5     102.808986\n",
       "6     102.820583\n",
       "7      84.692849\n",
       "8     102.801423\n",
       "9     102.801572\n",
       "10    102.823053\n",
       "11    102.790443\n",
       "12    102.808986\n",
       "13    102.820583\n",
       "14     87.065455\n",
       "15    102.801572\n",
       "16    102.823053\n",
       "17    102.790443\n",
       "18    102.808986\n",
       "19    102.820583\n",
       "20     84.692849\n",
       "dtype: float64"
      ]
     },
     "execution_count": 4,
     "metadata": {},
     "output_type": "execute_result"
    }
   ],
   "source": [
    "import pandas as pd\n",
    "xlsx = pd.read_csv('vrp_ekz_prog.csv')\n",
    "l = (xlsx['o_cattle_inder'] * xlsx['o_weight_cattle']).shift(1) + (xlsx['o_goats_inder'] * xlsx['o_weight_goats']).shift(1) + (xlsx['o_horses_inder']* xlsx['o_weight_horses']).shift(1) + (xlsx['o_poultry_inder'] * xlsx['o_weight_poultry']).shift(1)\n",
    "l[0] =  11046.12\n",
    "Ganm = ((xlsx['o_cattle_inder'] * xlsx['o_weight_cattle']) + (xlsx['o_goats_inder'] * xlsx['o_weight_goats']) + (xlsx['o_horses_inder']* xlsx['o_weight_horses']) + (xlsx['o_poultry_inder'] * xlsx['o_weight_poultry']))/l * 100\n",
    "Ganm"
   ]
  },
  {
   "cell_type": "code",
   "execution_count": null,
   "metadata": {},
   "outputs": [],
   "source": []
  }
 ],
 "metadata": {
  "kernelspec": {
   "display_name": "Python 3",
   "language": "python",
   "name": "python3"
  },
  "language_info": {
   "codemirror_mode": {
    "name": "ipython",
    "version": 3
   },
   "file_extension": ".py",
   "mimetype": "text/x-python",
   "name": "python",
   "nbconvert_exporter": "python",
   "pygments_lexer": "ipython3",
   "version": "3.7.6"
  }
 },
 "nbformat": 4,
 "nbformat_minor": 4
}
