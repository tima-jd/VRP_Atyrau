{
 "cells": [
  {
   "cell_type": "code",
   "execution_count": 3,
   "metadata": {},
   "outputs": [
    {
     "data": {
      "text/plain": [
       "0     106.973059\n",
       "1     107.012346\n",
       "2     107.014305\n",
       "3     106.942648\n",
       "4     107.016129\n",
       "5     107.008289\n",
       "6     107.007042\n",
       "7      66.633761\n",
       "8     107.012346\n",
       "9     107.014305\n",
       "10    106.942648\n",
       "11    107.016129\n",
       "12    107.008289\n",
       "13    107.007042\n",
       "14     71.306351\n",
       "15    107.014305\n",
       "16    106.942648\n",
       "17    107.016129\n",
       "18    107.008289\n",
       "19    107.007042\n",
       "20     66.633761\n",
       "dtype: float64"
      ]
     },
     "execution_count": 3,
     "metadata": {},
     "output_type": "execute_result"
    }
   ],
   "source": [
    "import pandas as pd\n",
    "import numpy as np\n",
    "xlsx = pd.read_csv('vrp_ekz_prog.csv')\n",
    "l = (xlsx['o_potato_inder'].shift(1) + xlsx['o_grain_inder'].shift(1) + xlsx['o_vegetables_inder'].shift(1))\n",
    "l[0]=18.93\n",
    "Gplg = ((xlsx['o_potato_inder'] + xlsx['o_grain_inder'] + xlsx['o_vegetables_inder'])/l)*100\n",
    "Gplg"
   ]
  },
  {
   "cell_type": "code",
   "execution_count": null,
   "metadata": {},
   "outputs": [],
   "source": []
  }
 ],
 "metadata": {
  "kernelspec": {
   "display_name": "Python 3",
   "language": "python",
   "name": "python3"
  },
  "language_info": {
   "codemirror_mode": {
    "name": "ipython",
    "version": 3
   },
   "file_extension": ".py",
   "mimetype": "text/x-python",
   "name": "python",
   "nbconvert_exporter": "python",
   "pygments_lexer": "ipython3",
   "version": "3.7.6"
  }
 },
 "nbformat": 4,
 "nbformat_minor": 4
}
