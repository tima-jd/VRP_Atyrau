{
 "cells": [
  {
   "cell_type": "code",
   "execution_count": 4,
   "metadata": {},
   "outputs": [
    {
     "data": {
      "text/plain": [
       "0     106.973\n",
       "1     114.474\n",
       "2     122.504\n",
       "3     131.009\n",
       "4     140.201\n",
       "5     150.026\n",
       "6     160.539\n",
       "7     106.973\n",
       "8     114.474\n",
       "9     122.504\n",
       "10    131.009\n",
       "11    140.201\n",
       "12    150.026\n",
       "13    160.539\n",
       "14    114.474\n",
       "15    122.504\n",
       "16    131.009\n",
       "17    140.201\n",
       "18    150.026\n",
       "19    160.539\n",
       "20    106.973\n",
       "Name: c1, dtype: object"
      ]
     },
     "execution_count": 4,
     "metadata": {},
     "output_type": "execute_result"
    }
   ],
   "source": [
    "import pandas as pd\n",
    "import numpy as np\n",
    "xlsx = pd.read_csv('vrp_ekz_prog.csv')\n",
    "l = xlsx['o_potato_inder'].shift(1) + xlsx['o_grain_inder'].shift(1) + xlsx['o_vegetables_inder'].shift(1)\n",
    "l[0]=18.93\n",
    "\n",
    "Gplg = ((xlsx['o_potato_inder'] + xlsx['o_grain_inder'] + xlsx['o_vegetables_inder'])/l)\n",
    "\n",
    "newdf = pd.DataFrame(columns=['c1'], index=range(21))\n",
    "\n",
    "c=100\n",
    "i=0\n",
    "while i<=20:\n",
    "    c = (c*Gplg[i])\n",
    "    newdf.loc[i].c1 = c\n",
    "    i=i+1\n",
    "GplgS=newdf['c1']\n",
    "\n",
    "GplgS\n"
   ]
  },
  {
   "cell_type": "code",
   "execution_count": null,
   "metadata": {},
   "outputs": [],
   "source": []
  }
 ],
 "metadata": {
  "kernelspec": {
   "display_name": "Python 3",
   "language": "python",
   "name": "python3"
  },
  "language_info": {
   "codemirror_mode": {
    "name": "ipython",
    "version": 3
   },
   "file_extension": ".py",
   "mimetype": "text/x-python",
   "name": "python",
   "nbconvert_exporter": "python",
   "pygments_lexer": "ipython3",
   "version": "3.7.6"
  }
 },
 "nbformat": 4,
 "nbformat_minor": 4
}
