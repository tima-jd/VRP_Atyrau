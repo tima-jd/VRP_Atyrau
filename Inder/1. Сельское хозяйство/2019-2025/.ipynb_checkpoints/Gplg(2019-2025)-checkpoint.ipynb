{
 "cells": [
  {
   "cell_type": "code",
   "execution_count": 1,
   "metadata": {},
   "outputs": [],
   "source": [
    "import pandas as pd\n",
    "import numpy as np\n",
    "xlsx = pd.read_csv('vrp_ekz_prog.csv')\n",
    "l = xlsx['o_potato_inder'].shift(1) + xlsx['o_grain_inder'].shift(1) + xlsx['o_vegetables_inder'].shift(1)\n",
    "l[0]=18.93\n",
    "l[7]=18.93\n",
    "l[14]=18.93\n",
    "\n",
    "Gplg = ((xlsx['o_potato_inder'] + xlsx['o_grain_inder'] + xlsx['o_vegetables_inder'])/l)*100\n",
    "\n",
    "Gplg_b = Gplg[0:7].reset_index(drop = True)\n",
    "Gplg_o = Gplg[7:14].reset_index(drop = True)\n",
    "Gplg_p = Gplg[14:21].reset_index(drop = True)"
   ]
  },
  {
   "cell_type": "code",
   "execution_count": null,
   "metadata": {},
   "outputs": [],
   "source": []
  }
 ],
 "metadata": {
  "kernelspec": {
   "display_name": "Python 3",
   "language": "python",
   "name": "python3"
  },
  "language_info": {
   "codemirror_mode": {
    "name": "ipython",
    "version": 3
   },
   "file_extension": ".py",
   "mimetype": "text/x-python",
   "name": "python",
   "nbconvert_exporter": "python",
   "pygments_lexer": "ipython3",
   "version": "3.7.6"
  }
 },
 "nbformat": 4,
 "nbformat_minor": 4
}
