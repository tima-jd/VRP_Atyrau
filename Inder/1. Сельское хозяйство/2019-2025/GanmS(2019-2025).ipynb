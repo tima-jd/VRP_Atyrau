{
 "cells": [
  {
   "cell_type": "code",
   "execution_count": 4,
   "metadata": {},
   "outputs": [
    {
     "data": {
      "text/plain": [
       "0     102.834\n",
       "1     105.715\n",
       "2     108.676\n",
       "3     111.744\n",
       "4     114.863\n",
       "5     118.089\n",
       "6      121.42\n",
       "7     102.834\n",
       "8     105.715\n",
       "9     108.676\n",
       "10    111.744\n",
       "11    114.863\n",
       "12    118.089\n",
       "13     121.42\n",
       "14    105.715\n",
       "15    108.676\n",
       "16    111.744\n",
       "17    114.863\n",
       "18    118.089\n",
       "19     121.42\n",
       "20    102.834\n",
       "Name: c1, dtype: object"
      ]
     },
     "execution_count": 4,
     "metadata": {},
     "output_type": "execute_result"
    }
   ],
   "source": [
    "import pandas as pd\n",
    "xlsx = pd.read_csv('vrp_ekz_prog.csv')\n",
    "l = (xlsx['o_cattle_inder'] * xlsx['o_weight_cattle']).shift(1) + (xlsx['o_goats_inder'] * xlsx['o_weight_goats']).shift(1) + (xlsx['o_horses_inder']* xlsx['o_weight_horses']).shift(1) + (xlsx['o_poultry_inder'] * xlsx['o_weight_poultry']).shift(1)\n",
    "l[0] =  11046.12\n",
    "Ganm = ((xlsx['o_cattle_inder'] * xlsx['o_weight_cattle']) + (xlsx['o_goats_inder'] * xlsx['o_weight_goats']) + (xlsx['o_horses_inder']* xlsx['o_weight_horses']) + (xlsx['o_poultry_inder'] * xlsx['o_weight_poultry']))/l \n",
    "\n",
    "c=100\n",
    "i=0\n",
    "while i<=20:\n",
    "    c = (c*Ganm[i])\n",
    "    newdf.loc[i].c1 = c\n",
    "    i=i+1\n",
    "GanmS=newdf['c1']\n",
    "\n",
    "GanmS"
   ]
  },
  {
   "cell_type": "code",
   "execution_count": null,
   "metadata": {},
   "outputs": [],
   "source": []
  }
 ],
 "metadata": {
  "kernelspec": {
   "display_name": "Python 3",
   "language": "python",
   "name": "python3"
  },
  "language_info": {
   "codemirror_mode": {
    "name": "ipython",
    "version": 3
   },
   "file_extension": ".py",
   "mimetype": "text/x-python",
   "name": "python",
   "nbconvert_exporter": "python",
   "pygments_lexer": "ipython3",
   "version": "3.7.6"
  }
 },
 "nbformat": 4,
 "nbformat_minor": 4
}
