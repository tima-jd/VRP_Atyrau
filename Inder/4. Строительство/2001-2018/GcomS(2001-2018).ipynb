{
 "cells": [
  {
   "cell_type": "code",
   "execution_count": 1,
   "metadata": {},
   "outputs": [
    {
     "data": {
      "text/plain": [
       "0     15.5666\n",
       "1     15.5666\n",
       "2     21.7933\n",
       "3     21.7933\n",
       "4     15.5666\n",
       "5       18.68\n",
       "6     21.7933\n",
       "7     21.7933\n",
       "8     28.0199\n",
       "9     37.3599\n",
       "10    40.4732\n",
       "11    46.6999\n",
       "12    24.9066\n",
       "13    24.9066\n",
       "14    28.0199\n",
       "15    77.8331\n",
       "16    59.1532\n",
       "17    59.1532\n",
       "18        100\n",
       "Name: c1, dtype: object"
      ]
     },
     "execution_count": 1,
     "metadata": {},
     "output_type": "execute_result"
    }
   ],
   "source": [
    "import pandas as pd\n",
    "csv = pd.read_csv('vrp_ekz_fact.csv')\n",
    "com = csv['o_housing_inder']\n",
    "lmin = csv['o_ifo_mining_inder']\n",
    "\n",
    "Gcom = com/com.shift(1)*100\n",
    "\n",
    "i=18\n",
    "c=100\n",
    "newdf = pd.DataFrame(columns=['c1'], index=range(19))\n",
    "while i>0:\n",
    "    c = (c/Gcom[i]) * 100\n",
    "    i=i-1\n",
    "    newdf.loc[i].c1 = c\n",
    "GcomS=newdf['c1']\n",
    "GcomS[18]=100\n",
    "\n",
    "GcomS\n"
   ]
  },
  {
   "cell_type": "code",
   "execution_count": null,
   "metadata": {},
   "outputs": [],
   "source": []
  }
 ],
 "metadata": {
  "kernelspec": {
   "display_name": "Python 3",
   "language": "python",
   "name": "python3"
  },
  "language_info": {
   "codemirror_mode": {
    "name": "ipython",
    "version": 3
   },
   "file_extension": ".py",
   "mimetype": "text/x-python",
   "name": "python",
   "nbconvert_exporter": "python",
   "pygments_lexer": "ipython3",
   "version": "3.7.6"
  }
 },
 "nbformat": 4,
 "nbformat_minor": 4
}
