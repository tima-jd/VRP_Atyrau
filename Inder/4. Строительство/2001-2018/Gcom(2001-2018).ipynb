{
 "cells": [
  {
   "cell_type": "code",
   "execution_count": 1,
   "metadata": {},
   "outputs": [
    {
     "data": {
      "text/plain": [
       "0            NaN\n",
       "1     100.000000\n",
       "2     140.000000\n",
       "3     100.000000\n",
       "4      71.428571\n",
       "5     120.000000\n",
       "6     116.666667\n",
       "7     100.000000\n",
       "8     128.571429\n",
       "9     133.333333\n",
       "10    108.333333\n",
       "11    115.384615\n",
       "12     53.333333\n",
       "13    100.000000\n",
       "14    112.500000\n",
       "15    277.777778\n",
       "16     76.000000\n",
       "17    100.000000\n",
       "18    169.052632\n",
       "Name: o_housing_inder, dtype: float64"
      ]
     },
     "execution_count": 1,
     "metadata": {},
     "output_type": "execute_result"
    }
   ],
   "source": [
    "import pandas as pd\n",
    "csv = pd.read_csv('vrp_ekz_fact.csv')\n",
    "com = csv['o_housing_inder']\n",
    "lmin = csv['o_ifo_mining_inder']\n",
    "\n",
    "Gcom = com/com.shift(1)*100\n",
    "\n",
    "Gcom"
   ]
  },
  {
   "cell_type": "code",
   "execution_count": null,
   "metadata": {},
   "outputs": [],
   "source": []
  }
 ],
 "metadata": {
  "kernelspec": {
   "display_name": "Python 3",
   "language": "python",
   "name": "python3"
  },
  "language_info": {
   "codemirror_mode": {
    "name": "ipython",
    "version": 3
   },
   "file_extension": ".py",
   "mimetype": "text/x-python",
   "name": "python",
   "nbconvert_exporter": "python",
   "pygments_lexer": "ipython3",
   "version": "3.7.6"
  }
 },
 "nbformat": 4,
 "nbformat_minor": 4
}
