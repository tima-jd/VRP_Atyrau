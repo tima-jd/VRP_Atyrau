{
 "cells": [
  {
   "cell_type": "code",
   "execution_count": 5,
   "metadata": {},
   "outputs": [
    {
     "data": {
      "text/plain": [
       "0     100.933998\n",
       "1     100.555213\n",
       "2     100.552147\n",
       "3     100.549115\n",
       "4     100.546117\n",
       "5     100.573325\n",
       "6     100.540054\n",
       "7      96.747240\n",
       "8     102.590993\n",
       "9     102.525556\n",
       "10    102.463343\n",
       "11    102.404121\n",
       "12    102.319732\n",
       "13    102.294455\n",
       "14     86.168224\n",
       "15     99.535172\n",
       "16     99.533001\n",
       "17     99.562089\n",
       "18     99.560163\n",
       "19     99.558220\n",
       "20    102.757528\n",
       "Name: o_housing_inder, dtype: float64"
      ]
     },
     "execution_count": 5,
     "metadata": {},
     "output_type": "execute_result"
    }
   ],
   "source": [
    "import pandas as pd\n",
    "csv = pd.read_csv('vrp_ekz_prog.csv')\n",
    "com = csv['o_housing_inder']\n",
    "a=com.shift(1)\n",
    "a[0]=32.12\n",
    "Gcom = com/a*100\n",
    "Gcom\n"
   ]
  },
  {
   "cell_type": "code",
   "execution_count": null,
   "metadata": {},
   "outputs": [],
   "source": []
  }
 ],
 "metadata": {
  "kernelspec": {
   "display_name": "Python 3",
   "language": "python",
   "name": "python3"
  },
  "language_info": {
   "codemirror_mode": {
    "name": "ipython",
    "version": 3
   },
   "file_extension": ".py",
   "mimetype": "text/x-python",
   "name": "python",
   "nbconvert_exporter": "python",
   "pygments_lexer": "ipython3",
   "version": "3.7.6"
  }
 },
 "nbformat": 4,
 "nbformat_minor": 4
}
