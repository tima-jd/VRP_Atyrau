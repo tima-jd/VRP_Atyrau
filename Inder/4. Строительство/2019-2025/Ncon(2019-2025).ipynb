{
 "cells": [
  {
   "cell_type": "code",
   "execution_count": 5,
   "metadata": {},
   "outputs": [
    {
     "data": {
      "text/plain": [
       "0    176.202382\n",
       "1    146.020126\n",
       "2    107.724374\n",
       "3    107.920222\n",
       "4    135.916429\n",
       "5    150.053970\n",
       "6    157.019600\n",
       "Name: c1, dtype: float64"
      ]
     },
     "execution_count": 5,
     "metadata": {},
     "output_type": "execute_result"
    }
   ],
   "source": [
    "import pandas as pd\n",
    "csv = pd.read_csv('vrp_ekz_prog.csv')\n",
    "csv_f = pd.read_csv('vrp_ekz_fact.csv')\n",
    "\n",
    "s = pd.read_csv('lcon(2019-2025).csv')\n",
    "d = pd.read_csv('Dcon(2019-2025).csv')\n",
    "\n",
    "lcon = s['c1']\n",
    "Dcon = d['0']\n",
    "\n",
    "Ncon_f = csv_f['o_prod_building_inder']\n",
    "\n",
    "c=446.0\n",
    "i=0\n",
    "newdf = pd.DataFrame(columns=['c1'], index=range(7))\n",
    "\n",
    "while i<=6:\n",
    "    c = c*lcon[i]*Dcon[i]/10000\n",
    "    newdf.loc[i].c1 = c    \n",
    "    i=i+1\n",
    "\n",
    "Ncon=newdf['c1']\n",
    "\n",
    "lcon"
   ]
  },
  {
   "cell_type": "code",
   "execution_count": null,
   "metadata": {},
   "outputs": [],
   "source": []
  }
 ],
 "metadata": {
  "kernelspec": {
   "display_name": "Python 3",
   "language": "python",
   "name": "python3"
  },
  "language_info": {
   "codemirror_mode": {
    "name": "ipython",
    "version": 3
   },
   "file_extension": ".py",
   "mimetype": "text/x-python",
   "name": "python",
   "nbconvert_exporter": "python",
   "pygments_lexer": "ipython3",
   "version": "3.7.6"
  }
 },
 "nbformat": 4,
 "nbformat_minor": 4
}
