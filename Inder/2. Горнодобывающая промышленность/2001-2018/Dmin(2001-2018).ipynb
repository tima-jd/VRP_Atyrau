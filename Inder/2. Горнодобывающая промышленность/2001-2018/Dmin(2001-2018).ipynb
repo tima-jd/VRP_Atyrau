{
 "cells": [
  {
   "cell_type": "code",
   "execution_count": 3,
   "metadata": {},
   "outputs": [
    {
     "data": {
      "text/plain": [
       "0            NaN\n",
       "1      54.447981\n",
       "2      68.778281\n",
       "3      29.382598\n",
       "4      69.919204\n",
       "5     118.518519\n",
       "6     103.734440\n",
       "7     152.905199\n",
       "8     101.759454\n",
       "9      77.750207\n",
       "10    102.269948\n",
       "11    135.769735\n",
       "12    123.773207\n",
       "13     67.414973\n",
       "14     61.524940\n",
       "15     99.891476\n",
       "16     80.991157\n",
       "17    108.551174\n",
       "18    140.603354\n",
       "dtype: float64"
      ]
     },
     "execution_count": 3,
     "metadata": {},
     "output_type": "execute_result"
    }
   ],
   "source": [
    "import pandas as pd\n",
    "csv = pd.read_csv('vrp_ekz_fact.csv')\n",
    "lmin = csv['o_ifo_mining_inder']\n",
    "Nmin=csv['o_prod_mining_inder']\n",
    "\n",
    "Dmin = (Nmin/Nmin.shift(1)/lmin)*10000\n",
    "Dmin"
   ]
  },
  {
   "cell_type": "code",
   "execution_count": null,
   "metadata": {},
   "outputs": [],
   "source": []
  }
 ],
 "metadata": {
  "kernelspec": {
   "display_name": "Python 3",
   "language": "python",
   "name": "python3"
  },
  "language_info": {
   "codemirror_mode": {
    "name": "ipython",
    "version": 3
   },
   "file_extension": ".py",
   "mimetype": "text/x-python",
   "name": "python",
   "nbconvert_exporter": "python",
   "pygments_lexer": "ipython3",
   "version": "3.7.6"
  }
 },
 "nbformat": 4,
 "nbformat_minor": 4
}
