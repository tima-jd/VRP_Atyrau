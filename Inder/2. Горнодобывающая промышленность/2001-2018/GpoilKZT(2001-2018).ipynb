{
 "cells": [
  {
   "cell_type": "code",
   "execution_count": 1,
   "metadata": {},
   "outputs": [
    {
     "data": {
      "text/plain": [
       "0            NaN\n",
       "1      90.177040\n",
       "2     108.038241\n",
       "3     109.485924\n",
       "4     122.490273\n",
       "5     142.370383\n",
       "6     113.575711\n",
       "7     108.657702\n",
       "8     128.396638\n",
       "9      80.447215\n",
       "10    125.710693\n",
       "11    138.504454\n",
       "12    101.055066\n",
       "13     99.180896\n",
       "14    105.926126\n",
       "15     69.026507\n",
       "16    130.485938\n",
       "17    115.388809\n",
       "18    135.974885\n",
       "dtype: float64"
      ]
     },
     "execution_count": 1,
     "metadata": {},
     "output_type": "execute_result"
    }
   ],
   "source": [
    "import pandas as pd\n",
    "csv = pd.read_csv('vrp_ekz_fact.csv')\n",
    "poil = csv['o_oil_price']\n",
    "rateKZT= csv['o_exchange_rate']\n",
    "\n",
    "GpoilKZT= ((poil*rateKZT)/(poil.shift(1)*rateKZT.shift(1)))*100\n",
    "\n",
    "GpoilKZT"
   ]
  },
  {
   "cell_type": "code",
   "execution_count": null,
   "metadata": {},
   "outputs": [],
   "source": []
  }
 ],
 "metadata": {
  "kernelspec": {
   "display_name": "Python 3",
   "language": "python",
   "name": "python3"
  },
  "language_info": {
   "codemirror_mode": {
    "name": "ipython",
    "version": 3
   },
   "file_extension": ".py",
   "mimetype": "text/x-python",
   "name": "python",
   "nbconvert_exporter": "python",
   "pygments_lexer": "ipython3",
   "version": "3.7.6"
  }
 },
 "nbformat": 4,
 "nbformat_minor": 4
}
