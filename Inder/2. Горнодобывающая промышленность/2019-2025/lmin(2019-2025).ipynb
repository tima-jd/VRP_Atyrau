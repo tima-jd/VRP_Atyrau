{
 "cells": [
  {
   "cell_type": "code",
   "execution_count": 1,
   "metadata": {},
   "outputs": [
    {
     "data": {
      "text/plain": [
       "105.10430669699049"
      ]
     },
     "execution_count": 1,
     "metadata": {},
     "output_type": "execute_result"
    }
   ],
   "source": [
    "from scipy.stats.mstats import gmean\n",
    "import pandas as pd\n",
    "csv = pd.read_csv('vrp_ekz_fact.csv')\n",
    "lmin = csv['o_ifo_mining_inder']\n",
    "\n",
    "newdf = pd.DataFrame(columns = ['lmin'], index = range(6))\n",
    "\n",
    "lmin_2019 = (lmin[3]*lmin[4]*lmin[5]*lmin[6]*lmin[7]*lmin[8]*lmin[9]*lmin[10]*lmin[11]*lmin[12]*lmin[13]*lmin[14]*lmin[15]*lmin[16]*lmin[17]*lmin[18])**(1/16)\n",
    "lmin_2020 =(105.10430669699049*lmin[4]*lmin[5]*lmin[6]*lmin[7]*lmin[8]*lmin[9]*lmin[10]*lmin[11]*lmin[12]*lmin[13]*lmin[14]*lmin[15]*lmin[16]*lmin[17]*lmin[18])**(1/16)\n",
    "lmin_2021 =(105.10430669699049*103.08759478682857*lmin[5]*lmin[6]*lmin[7]*lmin[8]*lmin[9]*lmin[10]*lmin[11]*lmin[12]*lmin[13]*lmin[14]*lmin[15]*lmin[16]*lmin[17]*lmin[18])**(1/16)\n",
    "lmin_2022 =(105.10430669699049*103.08759478682857*100.25869665660039*lmin[6]*lmin[7]*lmin[8]*lmin[9]*lmin[10]*lmin[11]*lmin[12]*lmin[13]*lmin[14]*lmin[15]*lmin[16]*lmin[17]*lmin[18])**(1/16)\n",
    "lmin_2023 =(105.10430669699049*103.08759478682857*100.25869665660039*100.2748874005426*lmin[7]*lmin[8]*lmin[9]*lmin[10]*lmin[11]*lmin[12]*lmin[13]*lmin[14]*lmin[15]*lmin[16]*lmin[17]*lmin[18])**(1/16)\n",
    "lmin_2024 =(105.10430669699049*103.08759478682857*100.25869665660039*100.2748874005426*102.34592390190117*lmin[8]*lmin[9]*lmin[10]*lmin[11]*lmin[12]*lmin[13]*lmin[14]*lmin[15]*lmin[16]*lmin[17]*lmin[18])**(1/16)\n",
    "lmin_2025 =(105.10430669699049*103.08759478682857*100.25869665660039*100.2748874005426*102.34592390190117*103.37551352545864*lmin[9]*lmin[10]*lmin[11]*lmin[12]*lmin[13]*lmin[14]*lmin[15]*lmin[16]*lmin[17]*lmin[18])**(1/16)\n",
    "\n",
    "newdf.lmin[0] = lmin_2019\n",
    "newdf.lmin[1] = lmin_2020\n",
    "newdf.lmin[2] = lmin_2021\n",
    "newdf.lmin[3] = lmin_2022\n",
    "newdf.lmin[4] = lmin_2023\n",
    "newdf.lmin[5] = lmin_2024\n",
    "newdf.lmin[6] = lmin_2025\n",
    "\n",
    "lmin_2019"
   ]
  },
  {
   "cell_type": "code",
   "execution_count": null,
   "metadata": {},
   "outputs": [],
   "source": []
  }
 ],
 "metadata": {
  "kernelspec": {
   "display_name": "Python 3",
   "language": "python",
   "name": "python3"
  },
  "language_info": {
   "codemirror_mode": {
    "name": "ipython",
    "version": 3
   },
   "file_extension": ".py",
   "mimetype": "text/x-python",
   "name": "python",
   "nbconvert_exporter": "python",
   "pygments_lexer": "ipython3",
   "version": "3.7.6"
  }
 },
 "nbformat": 4,
 "nbformat_minor": 4
}
