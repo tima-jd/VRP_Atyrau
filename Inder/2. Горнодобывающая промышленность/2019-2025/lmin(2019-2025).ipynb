{
 "cells": [
  {
   "cell_type": "code",
   "execution_count": 25,
   "metadata": {},
   "outputs": [
    {
     "name": "stderr",
     "output_type": "stream",
     "text": [
      "C:\\Users\\HP\\anaconda3\\lib\\site-packages\\ipykernel_launcher.py:14: SettingWithCopyWarning: \n",
      "A value is trying to be set on a copy of a slice from a DataFrame\n",
      "\n",
      "See the caveats in the documentation: https://pandas.pydata.org/pandas-docs/stable/user_guide/indexing.html#returning-a-view-versus-a-copy\n",
      "  \n"
     ]
    }
   ],
   "source": [
    "from scipy.stats.mstats import gmean\n",
    "import pandas as pd\n",
    "csv = pd.read_csv('vrp_ekz_fact.csv')\n",
    "lmin = csv['o_ifo_mining_inder']\n",
    "\n",
    "\n",
    "newdf = pd.DataFrame(columns=['lmin'], index=range(12))\n",
    "i=0\n",
    "\n",
    "lmint_2019 = gmean(lmin[3:])\n",
    "lmint = gmean(lmin[3:])\n",
    "\n",
    "while i<=5:\n",
    "    lmin[i+3] = lmint \n",
    "    lmint = gmean(lmin[3:])\n",
    "    newdf.lmin[i+1] = lmint\n",
    "    i= i+1\n",
    "    \n",
    "lmin = newdf['lmin']\n",
    "lmin[0] = lmint_2019\n",
    "\n",
    "lmin.to_csv(r'lmin(2019-2025).csv')"
   ]
  },
  {
   "cell_type": "code",
   "execution_count": null,
   "metadata": {},
   "outputs": [],
   "source": []
  }
 ],
 "metadata": {
  "kernelspec": {
   "display_name": "Python 3",
   "language": "python",
   "name": "python3"
  },
  "language_info": {
   "codemirror_mode": {
    "name": "ipython",
    "version": 3
   },
   "file_extension": ".py",
   "mimetype": "text/x-python",
   "name": "python",
   "nbconvert_exporter": "python",
   "pygments_lexer": "ipython3",
   "version": "3.7.6"
  }
 },
 "nbformat": 4,
 "nbformat_minor": 4
}
