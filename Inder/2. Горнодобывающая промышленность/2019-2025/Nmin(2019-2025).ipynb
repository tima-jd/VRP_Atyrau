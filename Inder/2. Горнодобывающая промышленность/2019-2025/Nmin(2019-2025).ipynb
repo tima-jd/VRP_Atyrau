{
 "cells": [
  {
   "cell_type": "code",
   "execution_count": 3,
   "metadata": {},
   "outputs": [],
   "source": [
    "import pandas as pd\n",
    "import numpy as np\n",
    "csv_file = pd.read_csv('vrp_ekz_prog.csv')\n",
    "Dmin = pd.read_csv('Dmin(2019-2025).csv')\n",
    "lmin = pd.read_csv('lmin(2019-2025).csv')\n",
    "\n",
    "Dmin_b = Dmin['Dmin_b']\n",
    "Dmin_o = Dmin['Dmin_o']\n",
    "Dmin_p = Dmin['Dmin_p']\n",
    "\n",
    "lmin = lmin['lmin']\n",
    "\n",
    "\n",
    "newdf = pd.DataFrame(columns=['Nmin_b','Nmin_o','Nmin_p'], index=range(12))\n",
    "\n",
    "b = 68\n",
    "o = 68\n",
    "p = 68\n",
    "i=0\n",
    "\n",
    "while i<=len(lmin)-1:\n",
    "    b = b * lmin[i] * Dmin_b[i]/10000\n",
    "    o = o * lmin[i] * Dmin_o[i]/10000\n",
    "    p = p * lmin[i] * Dmin_p[i]/10000\n",
    "    \n",
    "    newdf.loc[i].Nmin_b = b    \n",
    "    newdf.loc[i].Nmin_o = o    \n",
    "    newdf.loc[i].Nmin_p = p    \n",
    "    i=i+1\n",
    "newdf.to_csv(r'Nmin(2019-2025).csv')"
   ]
  },
  {
   "cell_type": "code",
   "execution_count": null,
   "metadata": {},
   "outputs": [],
   "source": []
  }
 ],
 "metadata": {
  "kernelspec": {
   "display_name": "Python 3",
   "language": "python",
   "name": "python3"
  },
  "language_info": {
   "codemirror_mode": {
    "name": "ipython",
    "version": 3
   },
   "file_extension": ".py",
   "mimetype": "text/x-python",
   "name": "python",
   "nbconvert_exporter": "python",
   "pygments_lexer": "ipython3",
   "version": "3.7.6"
  }
 },
 "nbformat": 4,
 "nbformat_minor": 4
}
