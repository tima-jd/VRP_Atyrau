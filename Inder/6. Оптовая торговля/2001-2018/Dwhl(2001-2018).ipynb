{
 "cells": [
  {
   "cell_type": "code",
   "execution_count": 1,
   "metadata": {},
   "outputs": [
    {
     "data": {
      "text/plain": [
       "0            NaN\n",
       "1            NaN\n",
       "2            NaN\n",
       "3            NaN\n",
       "4            inf\n",
       "5            NaN\n",
       "6            inf\n",
       "7            NaN\n",
       "8            inf\n",
       "9      27.656916\n",
       "10     99.955950\n",
       "11     99.896676\n",
       "12     99.939601\n",
       "13    102.449600\n",
       "14    104.461458\n",
       "15    102.228057\n",
       "16    110.294255\n",
       "17    110.307673\n",
       "18    109.621266\n",
       "dtype: float64"
      ]
     },
     "execution_count": 1,
     "metadata": {},
     "output_type": "execute_result"
    }
   ],
   "source": [
    "import pandas as pd\n",
    "csv = pd.read_csv('vrp_ekz_fact.csv')\n",
    "l = pd.read_csv('lamm(2001-2018).csv')\n",
    "lamm = l['0']\n",
    "lwhl = csv['o_ifo_trade_inder']\n",
    "Nwhl = csv['o_prod_trade_inder']\n",
    "Dwhl = Nwhl/Nwhl.shift(1)/lwhl * 10000\n",
    "Dwhl"
   ]
  },
  {
   "cell_type": "code",
   "execution_count": null,
   "metadata": {},
   "outputs": [],
   "source": []
  }
 ],
 "metadata": {
  "kernelspec": {
   "display_name": "Python 3",
   "language": "python",
   "name": "python3"
  },
  "language_info": {
   "codemirror_mode": {
    "name": "ipython",
    "version": 3
   },
   "file_extension": ".py",
   "mimetype": "text/x-python",
   "name": "python",
   "nbconvert_exporter": "python",
   "pygments_lexer": "ipython3",
   "version": "3.7.6"
  }
 },
 "nbformat": 4,
 "nbformat_minor": 4
}
