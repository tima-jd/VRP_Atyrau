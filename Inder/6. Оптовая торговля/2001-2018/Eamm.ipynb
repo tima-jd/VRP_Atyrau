{
 "cells": [
  {
   "cell_type": "code",
   "execution_count": 20,
   "metadata": {},
   "outputs": [
    {
     "name": "stderr",
     "output_type": "stream",
     "text": [
      "C:\\Users\\HP\\anaconda3\\lib\\site-packages\\ipykernel_launcher.py:20: RuntimeWarning: divide by zero encountered in double_scalars\n"
     ]
    },
    {
     "data": {
      "text/plain": [
       "2.311088412715865"
      ]
     },
     "execution_count": 20,
     "metadata": {},
     "output_type": "execute_result"
    }
   ],
   "source": [
    "import pandas as pd\n",
    "csv = pd.read_csv('vrp_ekz_fact.csv')\n",
    "lagr = csv['o_ifo_agro_inder']\n",
    "Nagr = csv['o_prod_agro_inder']\n",
    "lmin = csv['o_ifo_mining_inder']\n",
    "Nmin = csv['o_prod_mining_inder']\n",
    "lman= csv['o_ifo_man_inder']\n",
    "Nman = csv['o_prod_man_inder']\n",
    "lwhl = csv['o_ifo_trade_inder']\n",
    "\n",
    "\n",
    "lamm= (lagr*Nagr.shift(1)+lmin*Nmin.shift(1)+lman*Nman.shift(1))/(Nagr.shift(1)+Nmin.shift(1)+Nman.shift(1))\n",
    "\n",
    "i=18\n",
    "c=100\n",
    "d=100\n",
    "newdf = pd.DataFrame(columns=['c1','c2'], index=range(19))\n",
    "while i>0:\n",
    "    c = (c/lamm[i]) * 100\n",
    "    d = (d/lwhl[i])*100\n",
    "    i=i-1\n",
    "    newdf.loc[i].c1 = c\n",
    "    newdf.loc[i].c2 = d\n",
    "    \n",
    "lammS=newdf['c1']\n",
    "lammS[18]=100\n",
    "lammS_m = lammS[6:]\n",
    "\n",
    "lwhlS=newdf['c2']\n",
    "lwhlS[18]=100\n",
    "lwhlS[7]=0\n",
    "lwhlS[6]=0\n",
    "\n",
    "lwhlS_m = lwhlS[6:]\n",
    "\n",
    "\n",
    "Eamm = ((lammS_m-lammS_m.mean())*(lwhlS_m-lwhlS_m.mean())).sum()/((lammS_m-lammS_m.mean())**2).sum()\n",
    "\n",
    "Eamm"
   ]
  },
  {
   "cell_type": "code",
   "execution_count": null,
   "metadata": {},
   "outputs": [],
   "source": []
  },
  {
   "cell_type": "code",
   "execution_count": null,
   "metadata": {},
   "outputs": [],
   "source": []
  }
 ],
 "metadata": {
  "kernelspec": {
   "display_name": "Python 3",
   "language": "python",
   "name": "python3"
  },
  "language_info": {
   "codemirror_mode": {
    "name": "ipython",
    "version": 3
   },
   "file_extension": ".py",
   "mimetype": "text/x-python",
   "name": "python",
   "nbconvert_exporter": "python",
   "pygments_lexer": "ipython3",
   "version": "3.7.6"
  }
 },
 "nbformat": 4,
 "nbformat_minor": 4
}
