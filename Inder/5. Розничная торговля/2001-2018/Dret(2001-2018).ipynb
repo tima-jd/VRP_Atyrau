{
 "cells": [
  {
   "cell_type": "code",
   "execution_count": 1,
   "metadata": {},
   "outputs": [
    {
     "data": {
      "text/plain": [
       "0            NaN\n",
       "1     162.016088\n",
       "2     142.682606\n",
       "3     186.568381\n",
       "4     193.251479\n",
       "5     113.242801\n",
       "6     194.594739\n",
       "7     157.499945\n",
       "8     113.157168\n",
       "9     103.260632\n",
       "10    106.234039\n",
       "11    107.252821\n",
       "12    104.085753\n",
       "13    101.847172\n",
       "14    107.007552\n",
       "15    107.999678\n",
       "16    118.298841\n",
       "17    111.700187\n",
       "18    107.795615\n",
       "dtype: float64"
      ]
     },
     "execution_count": 1,
     "metadata": {},
     "output_type": "execute_result"
    }
   ],
   "source": [
    "import pandas as pd\n",
    "csv = pd.read_csv('vrp_ekz_fact.csv')\n",
    "lret = csv['o_ifo_retail_inder']\n",
    "Nret = csv['o_prod_retail_inder']\n",
    "Dret = Nret/Nret.shift(1)/lret * 10000\n",
    "Dret"
   ]
  },
  {
   "cell_type": "code",
   "execution_count": null,
   "metadata": {},
   "outputs": [],
   "source": []
  }
 ],
 "metadata": {
  "kernelspec": {
   "display_name": "Python 3",
   "language": "python",
   "name": "python3"
  },
  "language_info": {
   "codemirror_mode": {
    "name": "ipython",
    "version": 3
   },
   "file_extension": ".py",
   "mimetype": "text/x-python",
   "name": "python",
   "nbconvert_exporter": "python",
   "pygments_lexer": "ipython3",
   "version": "3.7.6"
  }
 },
 "nbformat": 4,
 "nbformat_minor": 4
}
