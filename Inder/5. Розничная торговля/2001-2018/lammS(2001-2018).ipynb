{
 "cells": [
  {
   "cell_type": "code",
   "execution_count": 2,
   "metadata": {},
   "outputs": [],
   "source": [
    "import pandas as pd\n",
    "csv = pd.read_csv('vrp_ekz_fact.csv')\n",
    "lagr = csv['o_ifo_agro_inder']\n",
    "Nagr = csv['o_prod_agro_inder']\n",
    "lmin = csv['o_ifo_mining_inder']\n",
    "Nmin = csv['o_prod_mining_inder']\n",
    "lman= csv['o_ifo_man_inder']\n",
    "Nman = csv['o_prod_man_inder']\n",
    "\n",
    "lamm= (lagr*Nagr.shift(1)+lmin*Nmin.shift(1)+lman*Nman.shift(1))/(Nagr.shift(1)+Nmin.shift(1)+Nman.shift(1))\n",
    "i=18\n",
    "c=100\n",
    "newdf = pd.DataFrame(columns=['c1'], index=range(19))\n",
    "while i>0:\n",
    "    c = (c/lamm[i]) * 100\n",
    "    i=i-1\n",
    "    newdf.loc[i].c1 = c\n",
    "lammS=newdf['c1']\n",
    "lammS[18]=100\n",
    "\n",
    "lammS.to_csv(r'lammS(2001-2018).csv', index = False)"
   ]
  },
  {
   "cell_type": "code",
   "execution_count": null,
   "metadata": {},
   "outputs": [],
   "source": []
  }
 ],
 "metadata": {
  "kernelspec": {
   "display_name": "Python 3",
   "language": "python",
   "name": "python3"
  },
  "language_info": {
   "codemirror_mode": {
    "name": "ipython",
    "version": 3
   },
   "file_extension": ".py",
   "mimetype": "text/x-python",
   "name": "python",
   "nbconvert_exporter": "python",
   "pygments_lexer": "ipython3",
   "version": "3.7.6"
  }
 },
 "nbformat": 4,
 "nbformat_minor": 4
}
