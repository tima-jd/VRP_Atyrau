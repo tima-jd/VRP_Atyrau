{
 "cells": [
  {
   "cell_type": "code",
   "execution_count": 5,
   "metadata": {},
   "outputs": [
    {
     "data": {
      "text/plain": [
       "0    105.104307\n",
       "1    103.087595\n",
       "2    100.258697\n",
       "3    100.274887\n",
       "4    102.345924\n",
       "5    103.375514\n",
       "6    103.909194\n",
       "Name: lmin, dtype: float64"
      ]
     },
     "execution_count": 5,
     "metadata": {},
     "output_type": "execute_result"
    }
   ],
   "source": [
    "import pandas as pd\n",
    "\n",
    "c = pd.read_csv('vrp_ekz_fact.csv')\n",
    "\n",
    "q = pd.read_csv('lagrt(2019-2025).csv')\n",
    "w = pd.read_csv('lmin(2019-2025).csv')\n",
    "t = pd.read_csv('lman, Nman(2019-2025).csv')\n",
    "\n",
    "lman =t['lman']\n",
    "Nman =c['o_prod_man_inder']\n",
    "\n",
    "Nmin =c['o_prod_mining_inder']\n",
    "Nagr =c['o_prod_agro_inder']\n",
    "\n",
    "lagr =q['c1']\n",
    "lmin =w['lmin']\n",
    "\n",
    "lamm_2019 = (lagr[0]*Nagr[18]+lmin[0]*Nmin[18]+lman[0]*Nman[18])/(Nagr[18]+Nmin[18]+Nman[18])    \n",
    "lmin"
   ]
  },
  {
   "cell_type": "code",
   "execution_count": null,
   "metadata": {},
   "outputs": [],
   "source": []
  }
 ],
 "metadata": {
  "kernelspec": {
   "display_name": "Python 3",
   "language": "python",
   "name": "python3"
  },
  "language_info": {
   "codemirror_mode": {
    "name": "ipython",
    "version": 3
   },
   "file_extension": ".py",
   "mimetype": "text/x-python",
   "name": "python",
   "nbconvert_exporter": "python",
   "pygments_lexer": "ipython3",
   "version": "3.7.6"
  }
 },
 "nbformat": 4,
 "nbformat_minor": 4
}
