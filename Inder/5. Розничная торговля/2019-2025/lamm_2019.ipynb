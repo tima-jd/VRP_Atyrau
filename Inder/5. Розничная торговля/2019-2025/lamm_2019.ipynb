{
 "cells": [
  {
   "cell_type": "code",
   "execution_count": 3,
   "metadata": {},
   "outputs": [
    {
     "data": {
      "text/plain": [
       "0    104.019906\n",
       "1    106.272413\n",
       "2    105.818191\n",
       "3    105.716683\n",
       "4    105.724819\n",
       "5    105.747192\n",
       "6    105.765069\n",
       "Name: lman, dtype: float64"
      ]
     },
     "execution_count": 3,
     "metadata": {},
     "output_type": "execute_result"
    }
   ],
   "source": [
    "import pandas as pd\n",
    "\n",
    "c = pd.read_csv('vrp_ekz_fact.csv')\n",
    "\n",
    "q = pd.read_csv('lagrt(2019-2025).csv')\n",
    "w = pd.read_csv('lmin(2019-2025).csv')\n",
    "t = pd.read_csv('lman, Nman(2019-2025).csv')\n",
    "\n",
    "lman =t['lman']\n",
    "Nman =c['o_prod_man_inder']\n",
    "\n",
    "Nmin =c['o_prod_mining_inder']\n",
    "Nagr =c['o_prod_agro_inder']\n",
    "\n",
    "lagr =q['c1']\n",
    "lmin =w['lmin']\n",
    "\n",
    "lamm_2019 = (lagr[0]*Nagr[18]+lmin[0]*Nmin[18]+lman[0]*Nman[18])/(Nagr[18]+Nmin[18]+Nman[18])    \n",
    "lman"
   ]
  },
  {
   "cell_type": "code",
   "execution_count": null,
   "metadata": {},
   "outputs": [],
   "source": []
  }
 ],
 "metadata": {
  "kernelspec": {
   "display_name": "Python 3",
   "language": "python",
   "name": "python3"
  },
  "language_info": {
   "codemirror_mode": {
    "name": "ipython",
    "version": 3
   },
   "file_extension": ".py",
   "mimetype": "text/x-python",
   "name": "python",
   "nbconvert_exporter": "python",
   "pygments_lexer": "ipython3",
   "version": "3.7.6"
  }
 },
 "nbformat": 4,
 "nbformat_minor": 4
}
