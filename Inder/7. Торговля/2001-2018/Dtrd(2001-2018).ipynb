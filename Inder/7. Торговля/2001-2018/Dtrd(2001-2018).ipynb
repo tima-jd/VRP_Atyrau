{
 "cells": [
  {
   "cell_type": "code",
   "execution_count": 1,
   "metadata": {},
   "outputs": [
    {
     "data": {
      "text/plain": [
       "0            NaN\n",
       "1     162.016088\n",
       "2     142.682606\n",
       "3     186.568381\n",
       "4     206.284718\n",
       "5     113.242801\n",
       "6     221.513902\n",
       "7     157.499945\n",
       "8     161.277467\n",
       "9      72.238082\n",
       "10    105.109725\n",
       "11    105.702755\n",
       "12    103.223474\n",
       "13    102.056726\n",
       "14    106.328940\n",
       "15    106.140172\n",
       "16    117.062543\n",
       "17    111.339377\n",
       "18    107.876995\n",
       "dtype: float64"
      ]
     },
     "execution_count": 1,
     "metadata": {},
     "output_type": "execute_result"
    }
   ],
   "source": [
    "import pandas as pd\n",
    "csv = pd.read_csv('vrp_ekz_fact.csv')\n",
    "Nret = csv['o_prod_retail_inder']\n",
    "Nwhl = csv['o_prod_trade_inder']\n",
    "lret = csv['o_ifo_retail_inder']\n",
    "lwhl = csv['o_ifo_trade_inder']\n",
    "Ntrd = Nwhl+Nret\n",
    "\n",
    "ltrd = (lret*Nret.shift(1)+lwhl*Nwhl.shift(1))/Ntrd.shift(1)\n",
    "Dtrd = Ntrd/Ntrd.shift(1)/ltrd*10000\n",
    "\n",
    "Dtrd"
   ]
  },
  {
   "cell_type": "code",
   "execution_count": null,
   "metadata": {},
   "outputs": [],
   "source": []
  }
 ],
 "metadata": {
  "kernelspec": {
   "display_name": "Python 3",
   "language": "python",
   "name": "python3"
  },
  "language_info": {
   "codemirror_mode": {
    "name": "ipython",
    "version": 3
   },
   "file_extension": ".py",
   "mimetype": "text/x-python",
   "name": "python",
   "nbconvert_exporter": "python",
   "pygments_lexer": "ipython3",
   "version": "3.7.6"
  }
 },
 "nbformat": 4,
 "nbformat_minor": 4
}
