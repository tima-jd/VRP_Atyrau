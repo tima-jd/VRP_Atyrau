{
 "cells": [
  {
   "cell_type": "code",
   "execution_count": 4,
   "metadata": {},
   "outputs": [
    {
     "data": {
      "text/plain": [
       "1.0196078488207092"
      ]
     },
     "execution_count": 4,
     "metadata": {},
     "output_type": "execute_result"
    }
   ],
   "source": [
    "import pandas as pd\n",
    "lmanS_csv = pd.read_csv('lmanS(2001-2018).csv')\n",
    "lammlS_csv = pd.read_csv('lammlS(2001-2018).csv')\n",
    "\n",
    "lmanS=lmanS_csv['c1']\n",
    "lammlS=lammlS_csv['c1']\n",
    "\n",
    "Eamml = ((lammlS[1:]-lammlS[1:].mean())*(lmanS[1:]-lmanS[1:].mean())).sum()/((lammlS[1:]-lammlS[1:].mean())**2).sum()\n",
    "Eamml"
   ]
  },
  {
   "cell_type": "code",
   "execution_count": null,
   "metadata": {},
   "outputs": [],
   "source": []
  }
 ],
 "metadata": {
  "kernelspec": {
   "display_name": "Python 3",
   "language": "python",
   "name": "python3"
  },
  "language_info": {
   "codemirror_mode": {
    "name": "ipython",
    "version": 3
   },
   "file_extension": ".py",
   "mimetype": "text/x-python",
   "name": "python",
   "nbconvert_exporter": "python",
   "pygments_lexer": "ipython3",
   "version": "3.7.6"
  }
 },
 "nbformat": 4,
 "nbformat_minor": 4
}
