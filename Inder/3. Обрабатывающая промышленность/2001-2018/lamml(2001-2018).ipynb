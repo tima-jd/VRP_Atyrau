{
 "cells": [
  {
   "cell_type": "code",
   "execution_count": 1,
   "metadata": {},
   "outputs": [
    {
     "data": {
      "text/plain": [
       "0             NaN\n",
       "1             NaN\n",
       "2      105.247141\n",
       "3      103.302599\n",
       "4      114.651922\n",
       "5     1555.866836\n",
       "6      101.699596\n",
       "7      108.173662\n",
       "8      104.075705\n",
       "9       97.960317\n",
       "10     100.241310\n",
       "11     112.503307\n",
       "12     109.255359\n",
       "13     102.270023\n",
       "14     108.292871\n",
       "15     105.525390\n",
       "16     101.876331\n",
       "17     105.083118\n",
       "18     102.823993\n",
       "dtype: float64"
      ]
     },
     "execution_count": 1,
     "metadata": {},
     "output_type": "execute_result"
    }
   ],
   "source": [
    "import pandas as pd\n",
    "csv = pd.read_csv('vrp_ekz_fact.csv')\n",
    "\n",
    "lagr = csv['o_ifo_agro_inder']\n",
    "Nagr = csv['o_prod_agro_inder']\n",
    "lmin = csv['o_ifo_mining_inder']\n",
    "Nmin = csv['o_prod_mining_inder']\n",
    "lman= csv['o_ifo_man_inder']\n",
    "Nman = csv['o_prod_man_inder']\n",
    "\n",
    "lamml = (lagr*Nagr.shift(1)+lmin*Nmin.shift(1)+lman.shift(1)*Nman.shift(2))/(Nagr.shift(1)+Nmin.shift(1)+Nman.shift(2))\n",
    "\n",
    "lamml"
   ]
  },
  {
   "cell_type": "code",
   "execution_count": null,
   "metadata": {},
   "outputs": [],
   "source": []
  }
 ],
 "metadata": {
  "kernelspec": {
   "display_name": "Python 3",
   "language": "python",
   "name": "python3"
  },
  "language_info": {
   "codemirror_mode": {
    "name": "ipython",
    "version": 3
   },
   "file_extension": ".py",
   "mimetype": "text/x-python",
   "name": "python",
   "nbconvert_exporter": "python",
   "pygments_lexer": "ipython3",
   "version": "3.7.6"
  }
 },
 "nbformat": 4,
 "nbformat_minor": 4
}
