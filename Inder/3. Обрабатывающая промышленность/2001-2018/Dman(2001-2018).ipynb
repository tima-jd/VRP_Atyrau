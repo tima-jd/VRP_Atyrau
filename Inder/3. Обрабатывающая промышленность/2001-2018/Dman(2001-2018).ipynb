{
 "cells": [
  {
   "cell_type": "code",
   "execution_count": 2,
   "metadata": {},
   "outputs": [
    {
     "data": {
      "text/plain": [
       "0            NaN\n",
       "1            inf\n",
       "2     469.653179\n",
       "3     113.907743\n",
       "4       2.717391\n",
       "5     112.949306\n",
       "6     100.961794\n",
       "7     110.750705\n",
       "8     110.123624\n",
       "9     108.024676\n",
       "10     96.644109\n",
       "11     99.302565\n",
       "12    104.868914\n",
       "13    105.827372\n",
       "14     89.956020\n",
       "15     91.303032\n",
       "16     98.709060\n",
       "17    102.861912\n",
       "18     88.943041\n",
       "dtype: float64"
      ]
     },
     "execution_count": 2,
     "metadata": {},
     "output_type": "execute_result"
    }
   ],
   "source": [
    "import pandas as pd\n",
    "csv = pd.read_csv('vrp_ekz_fact.csv')\n",
    "\n",
    "lman= csv['o_ifo_man_inder']\n",
    "Nman = csv['o_prod_man_inder']\n",
    "\n",
    "Dman = Nman/Nman.shift(1)/lman * 10000\n",
    "\n",
    "Dman"
   ]
  },
  {
   "cell_type": "code",
   "execution_count": null,
   "metadata": {},
   "outputs": [],
   "source": []
  }
 ],
 "metadata": {
  "kernelspec": {
   "display_name": "Python 3",
   "language": "python",
   "name": "python3"
  },
  "language_info": {
   "codemirror_mode": {
    "name": "ipython",
    "version": 3
   },
   "file_extension": ".py",
   "mimetype": "text/x-python",
   "name": "python",
   "nbconvert_exporter": "python",
   "pygments_lexer": "ipython3",
   "version": "3.7.6"
  }
 },
 "nbformat": 4,
 "nbformat_minor": 4
}
