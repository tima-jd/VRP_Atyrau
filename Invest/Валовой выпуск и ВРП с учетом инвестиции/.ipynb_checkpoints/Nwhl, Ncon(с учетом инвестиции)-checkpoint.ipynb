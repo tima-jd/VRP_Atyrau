{
 "cells": [
  {
   "cell_type": "code",
   "execution_count": 24,
   "metadata": {},
   "outputs": [],
   "source": [
    "import pandas as pd\n",
    " \n",
    "csv_Dwhl = pd.read_csv('Dwhl_AO(2019-2025).csv')\n",
    "csv_Dcon = pd.read_csv('Dcon_AO(2019-2025).csv')\n",
    "\n",
    "csv_whl = pd.read_csv('addlWhl.csv')\n",
    "csv_con = pd.read_csv('addlCon.csv')\n",
    "\n",
    "Dwhl = csv_Dwhl['0']\n",
    "Dcon = csv_Dcon['c1']\n",
    "\n",
    "whl  = csv_whl ['0']\n",
    "con  = csv_con ['c5']\n",
    "\n",
    "i=0\n",
    "N_whl = 2984867.2\n",
    "N_con = 638235.0\n",
    "\n",
    "newdf = pd.DataFrame(columns=['Nwhl','Ncon'], index=range(19))\n",
    "while i<7:\n",
    "    \n",
    "    N_whl=(N_whl * whl[i] * Dwhl[i])/10000\n",
    "    N_con=(N_con * con[i] * Dcon[i])/10000\n",
    "    newdf.loc[i].Nwhl = N_whl\n",
    "    newdf.loc[i].Ncon = N_con\n",
    "    i = i+1\n",
    "Nwhl = newdf['Nwhl']\n",
    "Ncon = newdf['Ncon']"
   ]
  },
  {
   "cell_type": "code",
   "execution_count": null,
   "metadata": {},
   "outputs": [],
   "source": []
  }
 ],
 "metadata": {
  "kernelspec": {
   "display_name": "Python 3",
   "language": "python",
   "name": "python3"
  },
  "language_info": {
   "codemirror_mode": {
    "name": "ipython",
    "version": 3
   },
   "file_extension": ".py",
   "mimetype": "text/x-python",
   "name": "python",
   "nbconvert_exporter": "python",
   "pygments_lexer": "ipython3",
   "version": "3.7.6"
  }
 },
 "nbformat": 4,
 "nbformat_minor": 4
}
