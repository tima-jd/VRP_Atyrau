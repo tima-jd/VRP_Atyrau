{
 "cells": [
  {
   "cell_type": "code",
   "execution_count": null,
   "metadata": {},
   "outputs": [],
   "source": [
    "newdf = pd.DataFrame(columns=['Gva_agr','Gva_con','Gva_elc','Gva_est','Gva_imt','Gva_man','Gva_min','Gva_oth','Gva_ret','Gva_trn','Gva_whl','Gva_wtr'], index=range(21))\n",
    "\n",
    "a_o = vrp_agr[7]\n",
    "c_o =vrp_con[7]\n",
    "el_o=vrp_elc[7]\n",
    "es_o=vrp_est[7]\n",
    "im_o =vrp_imt[7]\n",
    "ma_o=vrp_man[7]\n",
    "mi_o=vrp_min[7]\n",
    "o_o =vrp_oth[7]\n",
    "r_o =vrp_ret[7]\n",
    "t_o =vrp_trn[7]\n",
    "wh_o=vrp_whl[7]\n",
    "wt_o=vrp_wtr[7]\n",
    "\n",
    "\n",
    "while i<=6:\n",
    "    a_o  = a_o  * Nagr[i]/agr[i]\n",
    "    c_o  = c_o  * Ncon[i]/con[i]\n",
    "    el_o = el_o * Nelc[i]/elc[i]\n",
    "    es_o = es_o * Nest[i]/est[i]\n",
    "    im_o = im_o  * Nimt[i]/imt[i]\n",
    "    ma_o = ma_o * Nman[i]/man[i]\n",
    "    mi_o = mi_o * Nmin[i]/minn[i]\n",
    "    o_o  = o_o  * Noth[i]/oth[i]\n",
    "    r_o  = r_o  * Nret[i]/ret[i]\n",
    "    t_o  = t_o  * Ntrn[i]/trn[i]\n",
    "    wh_o = wh_o * Nwhl[i]/whl[i]\n",
    "    wt_o = wt_o * Nwtr[i]/wtr[i]\n"
   ]
  }
 ],
 "metadata": {
  "kernelspec": {
   "display_name": "Python 3",
   "language": "python",
   "name": "python3"
  },
  "language_info": {
   "codemirror_mode": {
    "name": "ipython",
    "version": 3
   },
   "file_extension": ".py",
   "mimetype": "text/x-python",
   "name": "python",
   "nbconvert_exporter": "python",
   "pygments_lexer": "ipython3",
   "version": "3.7.6"
  }
 },
 "nbformat": 4,
 "nbformat_minor": 4
}
